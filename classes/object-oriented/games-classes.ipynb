{
 "cells": [
  {
   "cell_type": "markdown",
   "metadata": {},
   "source": [
    "import sys\n",
    "import numpy as np\n",
    "import spacy\n",
    "# ^^^ pyforest auto-imports - don't write above this line\n",
    "# Review on Classes"
   ]
  },
  {
   "cell_type": "markdown",
   "metadata": {},
   "source": [
    "## Creating a class"
   ]
  },
  {
   "cell_type": "code",
   "execution_count": 3,
   "metadata": {},
   "outputs": [],
   "source": [
    "class Car:\n",
    "    pass"
   ]
  },
  {
   "cell_type": "code",
   "execution_count": 4,
   "metadata": {},
   "outputs": [
    {
     "data": {
      "text/plain": [
       "type"
      ]
     },
     "execution_count": 4,
     "metadata": {},
     "output_type": "execute_result"
    }
   ],
   "source": [
    "type(Car)"
   ]
  },
  {
   "cell_type": "markdown",
   "metadata": {},
   "source": [
    "## Instantiating an object"
   ]
  },
  {
   "cell_type": "code",
   "execution_count": 5,
   "metadata": {},
   "outputs": [],
   "source": [
    "my_car = Car()"
   ]
  },
  {
   "cell_type": "code",
   "execution_count": 18,
   "metadata": {},
   "outputs": [],
   "source": [
    "class Car:\n",
    "    \n",
    "    \n",
    "    def __init__(self, name):\n",
    "        self.name = name\n",
    "        self.width_height = (30,10)"
   ]
  },
  {
   "cell_type": "code",
   "execution_count": 19,
   "metadata": {},
   "outputs": [],
   "source": [
    "my_car = Car('Jeguinho')"
   ]
  },
  {
   "cell_type": "code",
   "execution_count": 20,
   "metadata": {},
   "outputs": [
    {
     "data": {
      "text/plain": [
       "'Jeguinho'"
      ]
     },
     "execution_count": 20,
     "metadata": {},
     "output_type": "execute_result"
    }
   ],
   "source": [
    "my_car.name"
   ]
  },
  {
   "cell_type": "code",
   "execution_count": 21,
   "metadata": {},
   "outputs": [
    {
     "data": {
      "text/plain": [
       "(30, 10)"
      ]
     },
     "execution_count": 21,
     "metadata": {},
     "output_type": "execute_result"
    }
   ],
   "source": [
    "my_car.width_height"
   ]
  },
  {
   "cell_type": "code",
   "execution_count": 10,
   "metadata": {},
   "outputs": [],
   "source": [
    "import pandas as pd"
   ]
  },
  {
   "cell_type": "code",
   "execution_count": 39,
   "metadata": {},
   "outputs": [
    {
     "data": {
      "application/javascript": [
       "\n",
       "        if (window._pyforest_update_imports_cell) { window._pyforest_update_imports_cell('import numpy as np'); }\n",
       "    "
      ],
      "text/plain": [
       "<IPython.core.display.Javascript object>"
      ]
     },
     "metadata": {},
     "output_type": "display_data"
    },
    {
     "data": {
      "text/html": [
       "<div>\n",
       "<style scoped>\n",
       "    .dataframe tbody tr th:only-of-type {\n",
       "        vertical-align: middle;\n",
       "    }\n",
       "\n",
       "    .dataframe tbody tr th {\n",
       "        vertical-align: top;\n",
       "    }\n",
       "\n",
       "    .dataframe thead th {\n",
       "        text-align: right;\n",
       "    }\n",
       "</style>\n",
       "<table border=\"1\" class=\"dataframe\">\n",
       "  <thead>\n",
       "    <tr style=\"text-align: right;\">\n",
       "      <th></th>\n",
       "      <th>0</th>\n",
       "      <th>1</th>\n",
       "      <th>2</th>\n",
       "      <th>3</th>\n",
       "      <th>4</th>\n",
       "      <th>5</th>\n",
       "      <th>6</th>\n",
       "      <th>7</th>\n",
       "      <th>8</th>\n",
       "      <th>9</th>\n",
       "    </tr>\n",
       "  </thead>\n",
       "  <tbody>\n",
       "    <tr>\n",
       "      <th>0</th>\n",
       "      <td>0.917935</td>\n",
       "      <td>0.740091</td>\n",
       "      <td>0.770460</td>\n",
       "      <td>0.494111</td>\n",
       "      <td>0.014135</td>\n",
       "      <td>0.052746</td>\n",
       "      <td>0.866529</td>\n",
       "      <td>0.794016</td>\n",
       "      <td>0.647649</td>\n",
       "      <td>0.878129</td>\n",
       "    </tr>\n",
       "    <tr>\n",
       "      <th>1</th>\n",
       "      <td>0.350351</td>\n",
       "      <td>0.194199</td>\n",
       "      <td>0.932814</td>\n",
       "      <td>0.960007</td>\n",
       "      <td>0.930041</td>\n",
       "      <td>0.051251</td>\n",
       "      <td>0.269826</td>\n",
       "      <td>0.900327</td>\n",
       "      <td>0.600809</td>\n",
       "      <td>0.696644</td>\n",
       "    </tr>\n",
       "    <tr>\n",
       "      <th>2</th>\n",
       "      <td>0.461690</td>\n",
       "      <td>0.417345</td>\n",
       "      <td>0.801289</td>\n",
       "      <td>0.221392</td>\n",
       "      <td>0.919739</td>\n",
       "      <td>0.148027</td>\n",
       "      <td>0.296130</td>\n",
       "      <td>0.677508</td>\n",
       "      <td>0.625737</td>\n",
       "      <td>0.293023</td>\n",
       "    </tr>\n",
       "    <tr>\n",
       "      <th>3</th>\n",
       "      <td>0.914797</td>\n",
       "      <td>0.892533</td>\n",
       "      <td>0.258575</td>\n",
       "      <td>0.840686</td>\n",
       "      <td>0.268623</td>\n",
       "      <td>0.222816</td>\n",
       "      <td>0.447136</td>\n",
       "      <td>0.145034</td>\n",
       "      <td>0.908786</td>\n",
       "      <td>0.170114</td>\n",
       "    </tr>\n",
       "    <tr>\n",
       "      <th>4</th>\n",
       "      <td>0.725920</td>\n",
       "      <td>0.948132</td>\n",
       "      <td>0.453487</td>\n",
       "      <td>0.152088</td>\n",
       "      <td>0.477334</td>\n",
       "      <td>0.817110</td>\n",
       "      <td>0.061044</td>\n",
       "      <td>0.934294</td>\n",
       "      <td>0.777392</td>\n",
       "      <td>0.834485</td>\n",
       "    </tr>\n",
       "    <tr>\n",
       "      <th>5</th>\n",
       "      <td>0.719762</td>\n",
       "      <td>0.987286</td>\n",
       "      <td>0.873840</td>\n",
       "      <td>0.433757</td>\n",
       "      <td>0.361049</td>\n",
       "      <td>0.061083</td>\n",
       "      <td>0.495531</td>\n",
       "      <td>0.573095</td>\n",
       "      <td>0.359957</td>\n",
       "      <td>0.416844</td>\n",
       "    </tr>\n",
       "    <tr>\n",
       "      <th>6</th>\n",
       "      <td>0.602629</td>\n",
       "      <td>0.039700</td>\n",
       "      <td>0.740741</td>\n",
       "      <td>0.121350</td>\n",
       "      <td>0.247012</td>\n",
       "      <td>0.077690</td>\n",
       "      <td>0.774741</td>\n",
       "      <td>0.224523</td>\n",
       "      <td>0.598597</td>\n",
       "      <td>0.454980</td>\n",
       "    </tr>\n",
       "    <tr>\n",
       "      <th>7</th>\n",
       "      <td>0.637592</td>\n",
       "      <td>0.288661</td>\n",
       "      <td>0.681008</td>\n",
       "      <td>0.725043</td>\n",
       "      <td>0.205628</td>\n",
       "      <td>0.458767</td>\n",
       "      <td>0.464773</td>\n",
       "      <td>0.282904</td>\n",
       "      <td>0.510432</td>\n",
       "      <td>0.455041</td>\n",
       "    </tr>\n",
       "    <tr>\n",
       "      <th>8</th>\n",
       "      <td>0.329250</td>\n",
       "      <td>0.075343</td>\n",
       "      <td>0.052350</td>\n",
       "      <td>0.196778</td>\n",
       "      <td>0.359093</td>\n",
       "      <td>0.184475</td>\n",
       "      <td>0.662394</td>\n",
       "      <td>0.846971</td>\n",
       "      <td>0.323319</td>\n",
       "      <td>0.711570</td>\n",
       "    </tr>\n",
       "    <tr>\n",
       "      <th>9</th>\n",
       "      <td>0.490064</td>\n",
       "      <td>0.966271</td>\n",
       "      <td>0.456183</td>\n",
       "      <td>0.113734</td>\n",
       "      <td>0.859623</td>\n",
       "      <td>0.599356</td>\n",
       "      <td>0.335699</td>\n",
       "      <td>0.590447</td>\n",
       "      <td>0.632032</td>\n",
       "      <td>0.977529</td>\n",
       "    </tr>\n",
       "  </tbody>\n",
       "</table>\n",
       "</div>"
      ],
      "text/plain": [
       "          0         1         2         3         4         5         6  \\\n",
       "0  0.917935  0.740091  0.770460  0.494111  0.014135  0.052746  0.866529   \n",
       "1  0.350351  0.194199  0.932814  0.960007  0.930041  0.051251  0.269826   \n",
       "2  0.461690  0.417345  0.801289  0.221392  0.919739  0.148027  0.296130   \n",
       "3  0.914797  0.892533  0.258575  0.840686  0.268623  0.222816  0.447136   \n",
       "4  0.725920  0.948132  0.453487  0.152088  0.477334  0.817110  0.061044   \n",
       "5  0.719762  0.987286  0.873840  0.433757  0.361049  0.061083  0.495531   \n",
       "6  0.602629  0.039700  0.740741  0.121350  0.247012  0.077690  0.774741   \n",
       "7  0.637592  0.288661  0.681008  0.725043  0.205628  0.458767  0.464773   \n",
       "8  0.329250  0.075343  0.052350  0.196778  0.359093  0.184475  0.662394   \n",
       "9  0.490064  0.966271  0.456183  0.113734  0.859623  0.599356  0.335699   \n",
       "\n",
       "          7         8         9  \n",
       "0  0.794016  0.647649  0.878129  \n",
       "1  0.900327  0.600809  0.696644  \n",
       "2  0.677508  0.625737  0.293023  \n",
       "3  0.145034  0.908786  0.170114  \n",
       "4  0.934294  0.777392  0.834485  \n",
       "5  0.573095  0.359957  0.416844  \n",
       "6  0.224523  0.598597  0.454980  \n",
       "7  0.282904  0.510432  0.455041  \n",
       "8  0.846971  0.323319  0.711570  \n",
       "9  0.590447  0.632032  0.977529  "
      ]
     },
     "execution_count": 39,
     "metadata": {},
     "output_type": "execute_result"
    }
   ],
   "source": [
    "df = pd.DataFrame(np.random.random((10,10)))\n",
    "df"
   ]
  },
  {
   "cell_type": "markdown",
   "metadata": {},
   "source": [
    "## Attributes"
   ]
  },
  {
   "cell_type": "code",
   "execution_count": 40,
   "metadata": {},
   "outputs": [
    {
     "data": {
      "text/plain": [
       "(10, 10)"
      ]
     },
     "execution_count": 40,
     "metadata": {},
     "output_type": "execute_result"
    }
   ],
   "source": [
    "df.shape"
   ]
  },
  {
   "cell_type": "code",
   "execution_count": 41,
   "metadata": {},
   "outputs": [
    {
     "data": {
      "text/plain": [
       "RangeIndex(start=0, stop=10, step=1)"
      ]
     },
     "execution_count": 41,
     "metadata": {},
     "output_type": "execute_result"
    }
   ],
   "source": [
    "df.columns"
   ]
  },
  {
   "cell_type": "markdown",
   "metadata": {},
   "source": [
    "## Methods"
   ]
  },
  {
   "cell_type": "code",
   "execution_count": 42,
   "metadata": {},
   "outputs": [
    {
     "name": "stdout",
     "output_type": "stream",
     "text": [
      "<class 'pandas.core.frame.DataFrame'>\n",
      "RangeIndex: 10 entries, 0 to 9\n",
      "Data columns (total 10 columns):\n",
      " #   Column  Non-Null Count  Dtype  \n",
      "---  ------  --------------  -----  \n",
      " 0   0       10 non-null     float64\n",
      " 1   1       10 non-null     float64\n",
      " 2   2       10 non-null     float64\n",
      " 3   3       10 non-null     float64\n",
      " 4   4       10 non-null     float64\n",
      " 5   5       10 non-null     float64\n",
      " 6   6       10 non-null     float64\n",
      " 7   7       10 non-null     float64\n",
      " 8   8       10 non-null     float64\n",
      " 9   9       10 non-null     float64\n",
      "dtypes: float64(10)\n",
      "memory usage: 928.0 bytes\n"
     ]
    }
   ],
   "source": [
    "df.info()"
   ]
  },
  {
   "cell_type": "markdown",
   "metadata": {},
   "source": [
    "## Inheritance "
   ]
  },
  {
   "cell_type": "code",
   "execution_count": 56,
   "metadata": {},
   "outputs": [],
   "source": [
    "class Taxi(Car):\n",
    "    \n",
    "    def calculate_taximetro(self):\n",
    "        return np.random.randint(10, 100)"
   ]
  },
  {
   "cell_type": "code",
   "execution_count": 57,
   "metadata": {},
   "outputs": [],
   "source": [
    "my_taxi = Taxi(name='Jequitinhonha')"
   ]
  },
  {
   "cell_type": "code",
   "execution_count": 58,
   "metadata": {},
   "outputs": [
    {
     "data": {
      "text/plain": [
       "(30, 10)"
      ]
     },
     "execution_count": 58,
     "metadata": {},
     "output_type": "execute_result"
    }
   ],
   "source": [
    "my_taxi.width_height"
   ]
  },
  {
   "cell_type": "code",
   "execution_count": 59,
   "metadata": {},
   "outputs": [
    {
     "data": {
      "application/javascript": [
       "\n",
       "        if (window._pyforest_update_imports_cell) { window._pyforest_update_imports_cell('import numpy as np'); }\n",
       "    "
      ],
      "text/plain": [
       "<IPython.core.display.Javascript object>"
      ]
     },
     "metadata": {},
     "output_type": "display_data"
    },
    {
     "data": {
      "text/plain": [
       "50"
      ]
     },
     "execution_count": 59,
     "metadata": {},
     "output_type": "execute_result"
    }
   ],
   "source": [
    "my_taxi.calculate_taximetro()"
   ]
  },
  {
   "cell_type": "markdown",
   "metadata": {},
   "source": [
    "# PyGame"
   ]
  },
  {
   "cell_type": "code",
   "execution_count": 60,
   "metadata": {},
   "outputs": [
    {
     "name": "stdout",
     "output_type": "stream",
     "text": [
      "pygame 2.0.0.dev7 (SDL 2.0.10, python 3.8.0)\n",
      "Hello from the pygame community. https://www.pygame.org/contribute.html\n"
     ]
    }
   ],
   "source": [
    "import pygame"
   ]
  },
  {
   "cell_type": "markdown",
   "metadata": {},
   "source": [
    "## Initialize a game"
   ]
  },
  {
   "cell_type": "code",
   "execution_count": 61,
   "metadata": {},
   "outputs": [
    {
     "data": {
      "text/plain": [
       "<module 'pygame' from '/Library/Frameworks/Python.framework/Versions/3.8/lib/python3.8/site-packages/pygame/__init__.py'>"
      ]
     },
     "execution_count": 61,
     "metadata": {},
     "output_type": "execute_result"
    }
   ],
   "source": [
    "pygame"
   ]
  },
  {
   "cell_type": "code",
   "execution_count": 62,
   "metadata": {},
   "outputs": [
    {
     "data": {
      "text/plain": [
       "(6, 0)"
      ]
     },
     "execution_count": 62,
     "metadata": {},
     "output_type": "execute_result"
    }
   ],
   "source": [
    "pygame.init()"
   ]
  },
  {
   "cell_type": "markdown",
   "metadata": {},
   "source": [
    "## Initialize a pygame Surface object - a screen"
   ]
  },
  {
   "cell_type": "code",
   "execution_count": 63,
   "metadata": {},
   "outputs": [
    {
     "data": {
      "text/plain": [
       "<module 'pygame.display' from '/Library/Frameworks/Python.framework/Versions/3.8/lib/python3.8/site-packages/pygame/display.cpython-38-darwin.so'>"
      ]
     },
     "execution_count": 63,
     "metadata": {},
     "output_type": "execute_result"
    }
   ],
   "source": [
    "pygame.display"
   ]
  },
  {
   "cell_type": "code",
   "execution_count": 64,
   "metadata": {},
   "outputs": [
    {
     "data": {
      "text/plain": [
       "<Surface(1200x800x32 SW)>"
      ]
     },
     "execution_count": 64,
     "metadata": {},
     "output_type": "execute_result"
    }
   ],
   "source": [
    "pygame.display.set_mode((1200, 800))"
   ]
  },
  {
   "cell_type": "code",
   "execution_count": 65,
   "metadata": {},
   "outputs": [],
   "source": [
    "screen = pygame.display.set_mode((1200, 800))"
   ]
  },
  {
   "cell_type": "code",
   "execution_count": 66,
   "metadata": {},
   "outputs": [
    {
     "data": {
      "text/plain": [
       "pygame.Surface"
      ]
     },
     "execution_count": 66,
     "metadata": {},
     "output_type": "execute_result"
    }
   ],
   "source": [
    "type(screen)"
   ]
  },
  {
   "cell_type": "markdown",
   "metadata": {},
   "source": [
    "## Set the top name"
   ]
  },
  {
   "cell_type": "code",
   "execution_count": 67,
   "metadata": {},
   "outputs": [],
   "source": [
    "pygame.display.set_caption('Test')"
   ]
  },
  {
   "cell_type": "markdown",
   "metadata": {},
   "source": [
    "## Let's track the events that may happen in a game."
   ]
  },
  {
   "cell_type": "code",
   "execution_count": 69,
   "metadata": {},
   "outputs": [
    {
     "data": {
      "text/plain": [
       "256"
      ]
     },
     "execution_count": 69,
     "metadata": {},
     "output_type": "execute_result"
    }
   ],
   "source": [
    "pygame.QUIT"
   ]
  },
  {
   "cell_type": "code",
   "execution_count": 70,
   "metadata": {},
   "outputs": [
    {
     "data": {
      "text/plain": [
       "1073741904"
      ]
     },
     "execution_count": 70,
     "metadata": {},
     "output_type": "execute_result"
    }
   ],
   "source": [
    "pygame.K_LEFT"
   ]
  },
  {
   "cell_type": "code",
   "execution_count": 72,
   "metadata": {},
   "outputs": [
    {
     "data": {
      "text/plain": [
       "1073741903"
      ]
     },
     "execution_count": 72,
     "metadata": {},
     "output_type": "execute_result"
    }
   ],
   "source": [
    "pygame.K_RIGHT"
   ]
  },
  {
   "cell_type": "code",
   "execution_count": 73,
   "metadata": {},
   "outputs": [
    {
     "data": {
      "text/plain": [
       "[<Event(4352-Unknown {})>,\n",
       " <Event(4352-Unknown {})>,\n",
       " <Event(4352-Unknown {})>,\n",
       " <Event(32770-VideoExpose {})>,\n",
       " <Event(32770-VideoExpose {})>,\n",
       " <Event(32770-VideoExpose {})>,\n",
       " <Event(32770-VideoExpose {})>]"
      ]
     },
     "execution_count": 73,
     "metadata": {},
     "output_type": "execute_result"
    }
   ],
   "source": [
    "pygame.event.get()"
   ]
  },
  {
   "cell_type": "markdown",
   "metadata": {},
   "source": [
    "## Games are loops that happens until you exit."
   ]
  },
  {
   "cell_type": "code",
   "execution_count": 75,
   "metadata": {},
   "outputs": [
    {
     "ename": "KeyboardInterrupt",
     "evalue": "",
     "output_type": "error",
     "traceback": [
      "\u001b[0;31m---------------------------------------------------------------------------\u001b[0m",
      "\u001b[0;31mKeyboardInterrupt\u001b[0m                         Traceback (most recent call last)",
      "\u001b[0;32m<ipython-input-75-595c23ed9526>\u001b[0m in \u001b[0;36m<module>\u001b[0;34m\u001b[0m\n\u001b[1;32m      4\u001b[0m \u001b[0;34m\u001b[0m\u001b[0m\n\u001b[1;32m      5\u001b[0m     \u001b[0;31m# look for events\u001b[0m\u001b[0;34m\u001b[0m\u001b[0;34m\u001b[0m\u001b[0;34m\u001b[0m\u001b[0m\n\u001b[0;32m----> 6\u001b[0;31m     \u001b[0;32mfor\u001b[0m \u001b[0mevent\u001b[0m \u001b[0;32min\u001b[0m \u001b[0mpygame\u001b[0m\u001b[0;34m.\u001b[0m\u001b[0mevent\u001b[0m\u001b[0;34m.\u001b[0m\u001b[0mget\u001b[0m\u001b[0;34m(\u001b[0m\u001b[0;34m)\u001b[0m\u001b[0;34m:\u001b[0m\u001b[0;34m\u001b[0m\u001b[0;34m\u001b[0m\u001b[0m\n\u001b[0m\u001b[1;32m      7\u001b[0m         \u001b[0mprint\u001b[0m\u001b[0;34m(\u001b[0m\u001b[0mevent\u001b[0m\u001b[0;34m)\u001b[0m\u001b[0;34m\u001b[0m\u001b[0;34m\u001b[0m\u001b[0m\n\u001b[1;32m      8\u001b[0m         \u001b[0;32mif\u001b[0m \u001b[0mevent\u001b[0m \u001b[0;34m==\u001b[0m \u001b[0mpygame\u001b[0m\u001b[0;34m.\u001b[0m\u001b[0mQUIT\u001b[0m\u001b[0;34m:\u001b[0m\u001b[0;34m\u001b[0m\u001b[0;34m\u001b[0m\u001b[0m\n",
      "\u001b[0;31mKeyboardInterrupt\u001b[0m: "
     ]
    }
   ],
   "source": [
    "exit = False\n",
    "\n",
    "while not exit:\n",
    "\n",
    "    # look for events\n",
    "    for event in pygame.event.get():\n",
    "        print(event)\n",
    "        if event == pygame.QUIT:\n",
    "            exit = True\n",
    "    "
   ]
  },
  {
   "cell_type": "markdown",
   "metadata": {},
   "source": [
    "## Load Images"
   ]
  },
  {
   "cell_type": "code",
   "execution_count": 76,
   "metadata": {},
   "outputs": [
    {
     "data": {
      "text/plain": [
       "<Surface(60x48x24 SW)>"
      ]
     },
     "execution_count": 76,
     "metadata": {},
     "output_type": "execute_result"
    }
   ],
   "source": []
  },
  {
   "cell_type": "code",
   "execution_count": 82,
   "metadata": {},
   "outputs": [],
   "source": [
    "space_rect = space_ship_image.get_rect()"
   ]
  },
  {
   "cell_type": "code",
   "execution_count": 83,
   "metadata": {},
   "outputs": [
    {
     "data": {
      "text/plain": [
       "<rect(0, 0, 60, 48)>"
      ]
     },
     "execution_count": 83,
     "metadata": {},
     "output_type": "execute_result"
    }
   ],
   "source": [
    "space_rect"
   ]
  },
  {
   "cell_type": "code",
   "execution_count": null,
   "metadata": {},
   "outputs": [],
   "source": [
    "exit = False\n",
    "screen = pygame.display.set_mode((1200, 800))\n",
    "space_ship_image = pygame.image.load('test.png')\n",
    "\n",
    "while not exit:\n",
    "\n",
    "    space_rect = space_ship_image.get_rect()\n",
    "    screen_rect = screen.get_rect()\n",
    "    \n",
    "    space_rect.centerx = screen_rect.centerx\n",
    "    space_rect.bottom = screen_rect.bottom\n",
    "    \n",
    "    \n",
    "    # look for events\n",
    "    for event in pygame.event.get():\n",
    "        print(event)\n",
    "        if event == pygame.QUIT:\n",
    "            exit = True\n",
    "\n",
    "    screen.fill((230, 230, 230))\n",
    "    screen.blit(space_ship_image, space_rect)\n",
    "    # refresh screen\n",
    "    pygame.display.flip()"
   ]
  },
  {
   "cell_type": "code",
   "execution_count": 80,
   "metadata": {},
   "outputs": [
    {
     "data": {
      "text/plain": [
       "<rect(0, 0, 1200, 800)>"
      ]
     },
     "execution_count": 80,
     "metadata": {},
     "output_type": "execute_result"
    }
   ],
   "source": [
    "screen.get_rect()"
   ]
  },
  {
   "cell_type": "code",
   "execution_count": 81,
   "metadata": {},
   "outputs": [
    {
     "data": {
      "text/plain": [
       "<rect(0, 0, 60, 48)>"
      ]
     },
     "execution_count": 81,
     "metadata": {},
     "output_type": "execute_result"
    }
   ],
   "source": [
    "space_ship_image.get_rect()"
   ]
  },
  {
   "cell_type": "code",
   "execution_count": null,
   "metadata": {},
   "outputs": [],
   "source": []
  },
  {
   "cell_type": "code",
   "execution_count": 18,
   "metadata": {},
   "outputs": [
    {
     "ename": "KeyboardInterrupt",
     "evalue": "",
     "output_type": "error",
     "traceback": [
      "\u001b[0;31m---------------------------------------------------------------------------\u001b[0m",
      "\u001b[0;31mKeyboardInterrupt\u001b[0m                         Traceback (most recent call last)",
      "\u001b[0;32m<ipython-input-18-8a95e6bf843b>\u001b[0m in \u001b[0;36m<module>\u001b[0;34m\u001b[0m\n\u001b[1;32m      7\u001b[0m \u001b[0;32mwhile\u001b[0m \u001b[0;32mnot\u001b[0m \u001b[0mgame_over\u001b[0m\u001b[0;34m:\u001b[0m\u001b[0;34m\u001b[0m\u001b[0;34m\u001b[0m\u001b[0m\n\u001b[1;32m      8\u001b[0m \u001b[0;34m\u001b[0m\u001b[0m\n\u001b[0;32m----> 9\u001b[0;31m     \u001b[0;32mfor\u001b[0m \u001b[0mevent\u001b[0m \u001b[0;32min\u001b[0m \u001b[0mpygame\u001b[0m\u001b[0;34m.\u001b[0m\u001b[0mevent\u001b[0m\u001b[0;34m.\u001b[0m\u001b[0mget\u001b[0m\u001b[0;34m(\u001b[0m\u001b[0;34m)\u001b[0m\u001b[0;34m:\u001b[0m\u001b[0;34m\u001b[0m\u001b[0;34m\u001b[0m\u001b[0m\n\u001b[0m\u001b[1;32m     10\u001b[0m         \u001b[0;32mif\u001b[0m \u001b[0mevent\u001b[0m\u001b[0;34m.\u001b[0m\u001b[0mtype\u001b[0m \u001b[0;34m==\u001b[0m \u001b[0mpygame\u001b[0m\u001b[0;34m.\u001b[0m\u001b[0mQUIT\u001b[0m\u001b[0;34m:\u001b[0m\u001b[0;34m\u001b[0m\u001b[0;34m\u001b[0m\u001b[0m\n\u001b[1;32m     11\u001b[0m             \u001b[0mprint\u001b[0m\u001b[0;34m(\u001b[0m\u001b[0;34m'Exiting'\u001b[0m\u001b[0;34m)\u001b[0m\u001b[0;34m\u001b[0m\u001b[0;34m\u001b[0m\u001b[0m\n",
      "\u001b[0;31mKeyboardInterrupt\u001b[0m: "
     ]
    }
   ],
   "source": [
    "game_over = False\n",
    "\n",
    "bg_color = (230, 230, 230)\n",
    "\n",
    "\n",
    "\n",
    "while not game_over:    \n",
    "    \n",
    "    for event in pygame.event.get():\n",
    "        if event.type == pygame.QUIT:\n",
    "            print('Exiting')\n",
    "            sys.exit()\n",
    "            \n",
    "        space_ship_image = pygame.image.load('space_ship.bmp')\n",
    "        rect = space_ship_image.get_rect()\n",
    "        \n",
    "        screen.blit(space_ship_image, rect)\n",
    "        \n",
    "        screen.fill(bg_color)\n",
    "        # Display most recently screen§\n",
    "        pygame.display.flip()"
   ]
  },
  {
   "cell_type": "code",
   "execution_count": 86,
   "metadata": {},
   "outputs": [],
   "source": [
    "class SpaceShip():\n",
    "    def __init__(self):\n",
    "        pass\n",
    "    \n",
    "    def draw():\n",
    "        pass"
   ]
  },
  {
   "cell_type": "code",
   "execution_count": null,
   "metadata": {},
   "outputs": [],
   "source": []
  },
  {
   "cell_type": "code",
   "execution_count": null,
   "metadata": {},
   "outputs": [],
   "source": []
  },
  {
   "cell_type": "code",
   "execution_count": 154,
   "metadata": {},
   "outputs": [],
   "source": [
    "class Ship():\n",
    "    \"\"\"\n",
    "    \"\"\"\n",
    "    def __init__(self, velocity = 1):\n",
    "        self.image = pygame.image.load('test.png')\n",
    "        self.fl_moving_right = False\n",
    "        self.fl_moving_left = False\n",
    "        self.fl_moving_up = False\n",
    "        self.fl_moving_down = False\n",
    "        self.velocity = velocity\n",
    "        \n",
    "        #self.image = pygame.transform.scale(self.image, (400,250))\n",
    "    def get_center(self, screen):\n",
    "        screen_rect = screen.get_rect()\n",
    "        self.rect = self.image.get_rect()\n",
    "        self.rect.centerx = screen_rect.centerx\n",
    "        self.rect.bottom = screen_rect.bottom\n",
    "        \n",
    "    def draw(self, screen):\n",
    "        \"\"\"Draw the ship at its current location.\"\"\"\n",
    "        screen.blit(self.image, self.rect)\n",
    "        \n",
    "    def update(self, screen):\n",
    "        if self.rect.centerx < screen.get_rect().right :\n",
    "            if self.fl_moving_right == True:\n",
    "                self.rect.centerx += self.velocity\n",
    "                \n",
    "        if self.rect.centerx > screen.get_rect().left :\n",
    "            if self.fl_moving_left == True:\n",
    "                self.rect.centerx -= self.velocity\n",
    "                \n",
    "        if self.rect.centery > screen.get_rect().top :\n",
    "            if self.fl_moving_up == True:\n",
    "                self.rect.centery -= self.velocity\n",
    "                \n",
    "        if self.rect.centery < screen.get_rect().bottom :\n",
    "            if self.fl_moving_down == True:\n",
    "                self.rect.centery += self.velocity"
   ]
  },
  {
   "cell_type": "code",
   "execution_count": 155,
   "metadata": {},
   "outputs": [],
   "source": [
    "ship = Ship()"
   ]
  },
  {
   "cell_type": "code",
   "execution_count": 156,
   "metadata": {},
   "outputs": [],
   "source": [
    "screen = pygame.display.set_mode((600, 600))"
   ]
  },
  {
   "cell_type": "code",
   "execution_count": 157,
   "metadata": {},
   "outputs": [],
   "source": [
    "def check_events(ship, ):\n",
    "    for event in pygame.event.get():\n",
    "        if event.type == pygame.QUIT:\n",
    "            print('Exiting')\n",
    "            sys.exit()\n",
    "\n",
    "        elif event.type == pygame.KEYDOWN:\n",
    "            if event.key == pygame.K_RIGHT:\n",
    "                ship.fl_moving_right = True\n",
    "            elif event.key == pygame.K_LEFT:\n",
    "                ship.fl_moving_left = True\n",
    "            elif event.key == pygame.K_UP:\n",
    "                ship.fl_moving_up = True\n",
    "            elif event.key == pygame.K_DOWN:\n",
    "                ship.fl_moving_down = True\n",
    "\n",
    "        elif event.type == pygame.KEYUP:\n",
    "            if event.key == pygame.K_RIGHT:\n",
    "                ship.fl_moving_right = False\n",
    "            elif event.key == pygame.K_LEFT:\n",
    "                ship.fl_moving_left = False\n",
    "            elif event.key == pygame.K_UP:\n",
    "                ship.fl_moving_up = False\n",
    "            elif event.key == pygame.K_DOWN:\n",
    "                ship.fl_moving_down = False\n",
    "\n"
   ]
  },
  {
   "cell_type": "code",
   "execution_count": 160,
   "metadata": {},
   "outputs": [
    {
     "name": "stdout",
     "output_type": "stream",
     "text": [
      "Exiting\n"
     ]
    },
    {
     "data": {
      "application/javascript": [
       "\n",
       "        if (window._pyforest_update_imports_cell) { window._pyforest_update_imports_cell('import sys\\nimport numpy as np\\nimport spacy'); }\n",
       "    "
      ],
      "text/plain": [
       "<IPython.core.display.Javascript object>"
      ]
     },
     "metadata": {},
     "output_type": "display_data"
    },
    {
     "ename": "SystemExit",
     "evalue": "",
     "output_type": "error",
     "traceback": [
      "An exception has occurred, use %tb to see the full traceback.\n",
      "\u001b[0;31mSystemExit\u001b[0m\n"
     ]
    }
   ],
   "source": [
    "game_over = False\n",
    "\n",
    "ship= Ship(velocity=5)\n",
    "ship.get_center(screen)\n",
    "\n",
    "\n",
    "while not game_over:    \n",
    "    \n",
    "    check_events(ship)\n",
    "        \n",
    "    screen.fill((255, 255, 255))\n",
    "\n",
    "    ship.update(screen)\n",
    "        \n",
    "    ship.draw(screen) \n",
    "    # Display most recently screen§\n",
    "    pygame.display.flip()"
   ]
  },
  {
   "cell_type": "code",
   "execution_count": 125,
   "metadata": {},
   "outputs": [],
   "source": []
  },
  {
   "cell_type": "code",
   "execution_count": null,
   "metadata": {},
   "outputs": [],
   "source": [
    "game_over = False\n",
    "\n",
    "bg_color = (255, 255, 255)\n",
    "\n",
    "\n",
    "ship= Ship()\n",
    "ship.get_center(screen)\n",
    "while not game_over:    \n",
    "    \n",
    "    check_events(ship)\n",
    "        \n",
    "    ship.update()\n",
    "\n",
    "    screen.fill(bg_color)\n",
    "    ship.draw(screen)\n",
    "\n",
    "    # Display most recently screen\n",
    "    pygame.display.flip()"
   ]
  },
  {
   "cell_type": "code",
   "execution_count": 151,
   "metadata": {},
   "outputs": [],
   "source": [
    "class Ship():\n",
    "    \"\"\"\n",
    "    \n",
    "    \"\"\"\n",
    "    def __init__(self):\n",
    "        self.image = pygame.image.load('space_ship.bmp')\n",
    "        self.fl_moving_right= False\n",
    "        \n",
    "        \n",
    "        \n",
    "    def get_center(self, screen):\n",
    "        screen_rect = screen.get_rect()\n",
    "        self.rect = self.image.get_rect()\n",
    "        self.rect.centerx = screen_rect.centerx\n",
    "        self.rect.bottom = screen_rect.bottom\n",
    "        \n",
    "        \n",
    "    def draw(self, screen):\n",
    "        \"\"\"Draw the ship at its current location.\"\"\"\n",
    "        screen.blit(self.image, self.rect)\n",
    "    \n",
    "    def update(self):\n",
    "        if self.fl_moving_right == True:\n",
    "            self.rect.centerx += 1"
   ]
  },
  {
   "cell_type": "code",
   "execution_count": null,
   "metadata": {},
   "outputs": [],
   "source": []
  },
  {
   "cell_type": "code",
   "execution_count": null,
   "metadata": {},
   "outputs": [],
   "source": []
  },
  {
   "cell_type": "code",
   "execution_count": null,
   "metadata": {},
   "outputs": [],
   "source": []
  },
  {
   "cell_type": "code",
   "execution_count": null,
   "metadata": {},
   "outputs": [],
   "source": []
  },
  {
   "cell_type": "code",
   "execution_count": 163,
   "metadata": {},
   "outputs": [
    {
     "name": "stderr",
     "output_type": "stream",
     "text": [
      "<ipython-input-163-71aaf6d46a6d>:43: DeprecationWarning: an integer is required (got type float).  Implicit conversion to integers using __int__ is deprecated, and may be removed in a future version of Python.\n",
      "  self.rect.y = self.y\n",
      "<ipython-input-163-71aaf6d46a6d>:491: DeprecationWarning: an integer is required (got type float).  Implicit conversion to integers using __int__ is deprecated, and may be removed in a future version of Python.\n",
      "  self.rect.x = self.x\n"
     ]
    },
    {
     "ename": "SystemExit",
     "evalue": "",
     "output_type": "error",
     "traceback": [
      "An exception has occurred, use %tb to see the full traceback.\n",
      "\u001b[0;31mSystemExit\u001b[0m\n"
     ]
    }
   ],
   "source": [
    "import pygame\n",
    "from pygame.sprite import Group\n",
    "import pygame.sysfont\n",
    "from pygame.sprite import Group\n",
    "import pygame.font\n",
    "import pygame\n",
    "from pygame.sprite import Sprite\n",
    "\n",
    "import sys\n",
    "from time import sleep\n",
    "\n",
    "import pygame\n",
    "\n",
    "\n",
    "class Bullet(Sprite):\n",
    "    \"\"\"A class to manage bullets fired from the ship\"\"\"\n",
    "\n",
    "    def __init__(self, ai_settings, screen, ship):\n",
    "        \"\"\"Create a bullet object at the ship's current position.\"\"\"\n",
    "        # super(Bullet, self).__init__()\n",
    "        super().__init__()\n",
    "        self.screen = screen\n",
    "\n",
    "        # Create a bullet rect at (0, 0) and then set correct position.\n",
    "        self.rect = pygame.Rect(0, 0, ai_settings.bullet_width,\n",
    "                                ai_settings.bullet_height)\n",
    "        self.rect.centerx = ship.rect.centerx\n",
    "        self.rect.top = ship.rect.top\n",
    "\n",
    "        # Store the bullet's position as a decimal value.\n",
    "        self.y = float(self.rect.y)\n",
    "\n",
    "        self.color = ai_settings.bullet_color\n",
    "        self.speed_factor = ai_settings.bullet_speed_factor\n",
    "\n",
    "    def update(self):\n",
    "        \"\"\"Move the bullet up the screen.\"\"\"\n",
    "        # Update the decimal position of the bullet.\n",
    "        self.y -= self.speed_factor\n",
    "        # Update the rect position.\n",
    "        self.rect.y = self.y\n",
    "\n",
    "    def draw_bullet(self):\n",
    "        \"\"\"Draw the bullet to the screen.\"\"\"\n",
    "        pygame.draw.rect(self.screen, self.color, self.rect)\n",
    "\n",
    "def check_play_button(ai_settings, screen, stats, sb, play_button, ship,\n",
    "                      aliens, bullets, mouse_x, mouse_y):\n",
    "    \"\"\"Start a new game when the player clicks Play.\"\"\"\n",
    "    button_clicked = play_button.rect.collidepoint(mouse_x, mouse_y)\n",
    "    if button_clicked and not stats.game_active:\n",
    "        # Reset the game settings.\n",
    "        ai_settings.initialize_dynamic_settings()\n",
    "\n",
    "        start_game(ai_settings, screen, stats, sb, ship, aliens, bullets)\n",
    "\n",
    "\n",
    "def check_events(ai_settings, screen, stats, sb, play_button, ship, aliens,\n",
    "                 bullets):\n",
    "    \"\"\"Respond to keypresses and mouse events.\"\"\"\n",
    "    for event in pygame.event.get():\n",
    "        if event.type == pygame.QUIT:\n",
    "            sys.exit()\n",
    "        elif event.type == pygame.KEYDOWN:\n",
    "            check_keydown_events(event, ai_settings, screen, stats, sb, ship,\n",
    "                                 aliens, bullets)\n",
    "        elif event.type == pygame.KEYUP:\n",
    "            check_keyup_events(event, ship)\n",
    "        elif event.type == pygame.MOUSEBUTTONDOWN:\n",
    "            mouse_x, mouse_y = pygame.mouse.get_pos()\n",
    "            check_play_button(ai_settings, screen, stats, sb, play_button,\n",
    "                              ship, aliens, bullets, mouse_x, mouse_y)\n",
    "\n",
    "\n",
    "def check_keydown_events(event, ai_settings, screen, stats, sb, ship, aliens,\n",
    "                         bullets):\n",
    "    \"\"\"Respond to key presses.\"\"\"\n",
    "    if event.key == pygame.K_RIGHT:\n",
    "        ship.moving_right = True\n",
    "    elif event.key == pygame.K_LEFT:\n",
    "        ship.moving_left = True\n",
    "    elif event.key == pygame.K_SPACE:\n",
    "        fire_bullet(ai_settings, bullets, screen, ship)\n",
    "    elif event.key == pygame.K_q:\n",
    "        sys.exit()\n",
    "    elif event.key == pygame.K_p:\n",
    "        start_game(ai_settings, screen, stats, sb, ship, aliens, bullets)\n",
    "\n",
    "\n",
    "def fire_bullet(ai_settings, bullets, screen, ship):\n",
    "    \"\"\"Fire a bullet if limit not reached yet.\"\"\"\n",
    "    # Create a new bullet and add it to the bullets group.\n",
    "    if len(bullets) < ai_settings.bullets_allowed:\n",
    "        new_bullet = Bullet(ai_settings, screen, ship)\n",
    "        bullets.add(new_bullet)\n",
    "\n",
    "\n",
    "def check_keyup_events(event, ship):\n",
    "    \"\"\"Respond to key releases.\"\"\"\n",
    "    if event.key == pygame.K_RIGHT:\n",
    "        ship.moving_right = False\n",
    "    elif event.key == pygame.K_LEFT:\n",
    "        ship.moving_left = False\n",
    "\n",
    "\n",
    "def update_screen(ai_settings, screen, stats, sb, ship, aliens, bullets,\n",
    "                  play_button):\n",
    "    \"\"\"Update images on the screen and flip to the new screen.\"\"\"\n",
    "    # Redraw the screen during each pass through the loop.\n",
    "    screen.fill(ai_settings.bg_color)\n",
    "\n",
    "    # Redraw all bullets behind ship and aliens.\n",
    "    for bullet in bullets.sprites():\n",
    "        bullet.draw_bullet()\n",
    "\n",
    "    ship.blitme()\n",
    "    aliens.draw(screen)\n",
    "\n",
    "    # Draw the score information.\n",
    "    sb.show_score()\n",
    "\n",
    "    # Draw the play button if the game is inactive.\n",
    "    if not stats.game_active:\n",
    "        play_button.draw_button()\n",
    "\n",
    "    # Make the most recently drawn screen visible.\n",
    "    pygame.display.flip()\n",
    "\n",
    "\n",
    "def update_bullets(ai_settings, screen, stats, sb, ship, aliens, bullets):\n",
    "    \"\"\"Update position of bullets and get rid of old bullets.\"\"\"\n",
    "    # Update bullet positions.\n",
    "    bullets.update()\n",
    "\n",
    "    # Get rid of bullets that have disappeared.\n",
    "    for bullet in bullets.copy():\n",
    "        if bullet.rect.bottom <= 0:\n",
    "            bullets.remove(bullet)\n",
    "            # print(len(bullets))\n",
    "\n",
    "    check_bullet_alien_collisions(ai_settings, screen, stats, sb, ship,\n",
    "                                  aliens, bullets)\n",
    "\n",
    "\n",
    "def check_bullet_alien_collisions(ai_settings, screen, stats, sb, ship,\n",
    "                                  aliens, bullets):\n",
    "    \"\"\"Respond to bullet-alien collisions.\"\"\"\n",
    "    # Remove any bullets and aliens that have collided.\n",
    "    collisions = pygame.sprite.groupcollide(bullets, aliens, True, True)\n",
    "\n",
    "    if collisions:\n",
    "        for aliens in collisions.values():\n",
    "            stats.score += ai_settings.alien_points * len(aliens)\n",
    "            sb.prep_score()\n",
    "\n",
    "        check_high_score(stats, sb)\n",
    "\n",
    "    if len(aliens) == 0:\n",
    "        start_new_level(ai_settings, aliens, bullets, sb, screen, ship, stats)\n",
    "\n",
    "\n",
    "def start_new_level(ai_settings, aliens, bullets, sb, screen, ship, stats):\n",
    "    # If the entire fleet is destroyed, start a new level.\n",
    "    bullets.empty()\n",
    "    ai_settings.increase_speed()\n",
    "    # Increase level.\n",
    "    stats.level += 1\n",
    "    sb.prep_level()\n",
    "    create_fleet(ai_settings, screen, ship, aliens)\n",
    "\n",
    "\n",
    "def create_fleet(ai_settings, screen, ship, aliens):\n",
    "    \"\"\"Create a full fleet of aliens.\"\"\"\n",
    "    # Create an alien and find the number of aliens in a row.\n",
    "    # Spacing between each alien is equal to one alien width.\n",
    "    alien = Alien(ai_settings, screen)\n",
    "    number_aliens_x = get_number_aliens_x(ai_settings, alien.rect.width)\n",
    "    number_rows = get_number_rows(ai_settings, ship.rect.height,\n",
    "                                  alien.rect.height)\n",
    "\n",
    "    # Create the fleet of aliens.\n",
    "    for row_number in range(number_rows):\n",
    "        for alien_number in range(number_aliens_x):\n",
    "            create_alien(ai_settings, screen, aliens, alien_number, row_number)\n",
    "\n",
    "\n",
    "def create_alien(ai_settings, screen, aliens, alien_number, row_number):\n",
    "    # Create an alien and place it in the row.\n",
    "    alien = Alien(ai_settings, screen)\n",
    "    alien_width = alien.rect.width\n",
    "    alien.x = alien_width + 2 * alien_width * alien_number\n",
    "    alien.rect.x = alien.x\n",
    "    alien.rect.y = alien.rect.height + 2 * alien.rect.height * row_number\n",
    "    aliens.add(alien)\n",
    "\n",
    "\n",
    "def get_number_aliens_x(ai_settings, alien_width):\n",
    "    \"\"\"Determine the number of aliens that fit in a row.\"\"\"\n",
    "    available_space_x = ai_settings.screen_width - 2 * alien_width\n",
    "    number_aliens_x = int(available_space_x / (2 * alien_width))\n",
    "    return number_aliens_x\n",
    "\n",
    "\n",
    "def get_number_rows(ai_settings, ship_height, alien_height):\n",
    "    \"\"\"Determine the number of rows of aliens that fit on the screen.\"\"\"\n",
    "    available_space_y = (ai_settings.screen_height -\n",
    "                         (3 * alien_height) - ship_height)\n",
    "    number_rows = int(available_space_y / (2 * alien_height))\n",
    "\n",
    "    return number_rows\n",
    "\n",
    "\n",
    "def check_aliens_bottom(ai_settings, stats, screen, sb, ship, aliens, bullets):\n",
    "    \"\"\"Check if any aliens have reached the bottom of the screen.\"\"\"\n",
    "    screen_rect = screen.get_rect()\n",
    "    for alien in aliens.sprites():\n",
    "        if alien.rect.bottom >= screen_rect.bottom:\n",
    "            # Treat this the same as if the ship got hit.\n",
    "            ship_hit(ai_settings, stats, screen, sb, ship, aliens, bullets)\n",
    "            break\n",
    "\n",
    "\n",
    "def update_aliens(ai_settings, stats, screen, sb, ship, aliens, bullets):\n",
    "    \"\"\"Check if the fleet is at an edge,\n",
    "    and then update the positions of all aliens in the fleet.\"\"\"\n",
    "    check_fleet_edges(ai_settings, aliens)\n",
    "    aliens.update()\n",
    "\n",
    "    # Look for alien-ship collisions.\n",
    "    if pygame.sprite.spritecollideany(ship, aliens):\n",
    "        ship_hit(ai_settings, stats, screen, sb, ship, aliens, bullets)\n",
    "\n",
    "    # Look for aliens hitting the bottom of the screen.\n",
    "    check_aliens_bottom(ai_settings, stats, screen, sb, ship, aliens, bullets)\n",
    "\n",
    "\n",
    "def check_fleet_edges(ai_settings, aliens):\n",
    "    \"\"\"Respond appropriately if any aliens have reached an edge.\"\"\"\n",
    "    for alien in aliens.sprites():\n",
    "        if alien.check_edges():\n",
    "            change_fleet_direction(ai_settings, aliens)\n",
    "            break\n",
    "\n",
    "\n",
    "def change_fleet_direction(ai_settings, aliens):\n",
    "    \"\"\"Drop the entire fleet and change the fleet's direction.\"\"\"\n",
    "    for alien in aliens.sprites():\n",
    "        alien.rect.y += ai_settings.fleet_drop_speed\n",
    "    ai_settings.fleet_direction *= -1\n",
    "\n",
    "\n",
    "def ship_hit(ai_settings, stats, screen, sb, ship, aliens, bullets):\n",
    "    \"\"\"Respond to ship being hit by alien.\"\"\"\n",
    "\n",
    "    # Decrement ships_left.\n",
    "    stats.ships_left -= 1\n",
    "\n",
    "    if stats.ships_left > 0:\n",
    "\n",
    "        # Update scoreboards.\n",
    "        sb.prep_ships()\n",
    "\n",
    "        # Empty the list of aliens and bullets.\n",
    "        aliens.empty()\n",
    "        bullets.empty()\n",
    "\n",
    "        # Create a new fleet and center the ship.\n",
    "        create_fleet(ai_settings, screen, ship, aliens)\n",
    "        ship.center_ship()\n",
    "\n",
    "        # Pause.\n",
    "        sleep(0.5)\n",
    "\n",
    "    else:\n",
    "        stats.game_active = False\n",
    "        pygame.mouse.set_visible(True)\n",
    "\n",
    "\n",
    "def start_game(ai_settings, screen, stats, sb, ship, aliens, bullets):\n",
    "    # Hide the mouse cursor.\n",
    "    pygame.mouse.set_visible(False)\n",
    "\n",
    "    # Reset the game statistics.\n",
    "    stats.reset_stats()\n",
    "    stats.game_active = True\n",
    "\n",
    "    # Reset the scoreboard images.\n",
    "    sb.prep_images()\n",
    "\n",
    "    # Empty the list of aliens and bullets.\n",
    "    aliens.empty()\n",
    "    bullets.empty()\n",
    "\n",
    "    # Create a new fleet and center the ship.\n",
    "    create_fleet(ai_settings, screen, ship, aliens)\n",
    "    ship.center_ship()\n",
    "\n",
    "\n",
    "def check_high_score(stats, sb):\n",
    "    \"\"\"Check to see if there's a new high score.\"\"\"\n",
    "    if stats.score > stats.high_score:\n",
    "        stats.high_score = stats.score\n",
    "        sb.prep_high_score()\n",
    "        \n",
    "        \n",
    "class Ship(Sprite):\n",
    "    def __init__(self, ai_settings, screen):\n",
    "        \"\"\"Initialize the ship and set its starting position.\"\"\"\n",
    "        super().__init__()\n",
    "        self.screen = screen\n",
    "\n",
    "        # Load the ship image and get its rect.\n",
    "        self.image = pygame.image.load_basic('space_ship.bmp')\n",
    "        self.rect = self.image.get_rect()\n",
    "        self.screen_rect = screen.get_rect()\n",
    "        self.ai_settings = ai_settings\n",
    "\n",
    "        # Start each new ship at the bottom center of the screen.\n",
    "        self.rect.centerx = self.screen_rect.centerx\n",
    "        self.rect.bottom = self.screen_rect.bottom\n",
    "\n",
    "        # Store a decimal value for the ship's center.\n",
    "        self.center = float(self.rect.centerx)\n",
    "\n",
    "        # Movement flags\n",
    "        self.moving_right = False\n",
    "        self.moving_left = False\n",
    "\n",
    "    def update(self):\n",
    "        \"\"\"Update the ship's position based on the movement flags.\"\"\"\n",
    "        # Update the ship's center value, not the rect\n",
    "        if self.moving_right and self.rect.right < self.screen_rect.right:\n",
    "            self.center += self.ai_settings.ship_speed_factor\n",
    "        if self.moving_left and self.rect.left > 0:\n",
    "            self.center -= self.ai_settings.ship_speed_factor\n",
    "\n",
    "        # Update rect object from self.center.\n",
    "        self.rect.centerx = self.center\n",
    "\n",
    "    def blitme(self):\n",
    "        \"\"\"Draw the ship at its current location.\"\"\"\n",
    "        self.screen.blit(self.image, self.rect)\n",
    "\n",
    "    def center_ship(self):\n",
    "        \"\"\"Center the ship on the screen.\"\"\"\n",
    "        self.center = self.screen_rect.centerx\n",
    "        \n",
    "\n",
    "class Button:\n",
    "\n",
    "    def __init__(self, ai_settings, screen, msg):\n",
    "        \"\"\"Initialize button attributes.\"\"\"\n",
    "        self.screen = screen\n",
    "        self.screen_rect = screen.get_rect()\n",
    "\n",
    "        # Set the dimensions and properties of the button.\n",
    "        self.width = 200\n",
    "        self.height = 50\n",
    "        self.button_color = (0, 255, 0)\n",
    "        self.text_color = (255, 255, 255)\n",
    "        self.font = pygame.font.SysFont(None, 48)\n",
    "\n",
    "        # Build the button's rect object and center it.\n",
    "        self.rect = pygame.Rect(0, 0, self.width, self.height)\n",
    "        self.rect.center = self.screen_rect.center\n",
    "\n",
    "        # The button message needs to be prepped only once.\n",
    "        self.prep_msg(msg)\n",
    "\n",
    "    def prep_msg(self, msg):\n",
    "        \"\"\"Turn msg into a rendered image and center text on the button.\"\"\"\n",
    "        self.msg_image = self.font.render(msg, True, self.text_color,\n",
    "                                          self.button_color)\n",
    "        self.msg_image_rect = self.msg_image.get_rect()\n",
    "        self.msg_image_rect.center = self.rect.center\n",
    "\n",
    "    def draw_button(self):\n",
    "        # Draw blank button and then draw message.\n",
    "        self.screen.fill(self.button_color, self.rect)\n",
    "        self.screen.blit(self.msg_image, self.msg_image_rect)\n",
    "        \n",
    "\n",
    "class Scoreboard:\n",
    "    \"\"\"A class to report scoring information.\"\"\"\n",
    "\n",
    "    def __init__(self, ai_settings, screen, stats):\n",
    "        \"\"\"Initialize scorekeeping attributes.\"\"\"\n",
    "        self.screen = screen\n",
    "        self.screen_rect = screen.get_rect()\n",
    "        self.ai_settings = ai_settings\n",
    "        self.stats = stats\n",
    "\n",
    "        # Font settings for scoring information.\n",
    "        self.text_color = (30, 30, 30)\n",
    "        self.font = pygame.sysfont.SysFont(None, 48)\n",
    "\n",
    "        # Prepare the initial score images.\n",
    "        self.prep_images()\n",
    "\n",
    "    def prep_images(self):\n",
    "        self.prep_score()\n",
    "        self.prep_high_score()\n",
    "        self.prep_level()\n",
    "        self.prep_ships()\n",
    "\n",
    "    def prep_score(self):\n",
    "        \"\"\"Turn the score into a rendered image.\"\"\"\n",
    "        rounded_score = int(round(self.stats.score, -1))\n",
    "        # score_str = str(self.stats.score)\n",
    "        score_str = \"{:,}\".format(rounded_score)\n",
    "        self.score_image = self.font.render(score_str, True, self.text_color,\n",
    "                                            self.ai_settings.bg_color)\n",
    "\n",
    "        # Display the score at the top right of the screen.\n",
    "        self.score_rect = self.score_image.get_rect()\n",
    "        self.score_rect.right = self.screen_rect.right - 20\n",
    "        self.score_rect.top = 20\n",
    "\n",
    "    def prep_high_score(self):\n",
    "        \"\"\"Turn the high score into a rendered image.\"\"\"\n",
    "        high_score = int(round(self.stats.high_score, -1))\n",
    "        high_score_str = \"{:,}\".format(high_score)\n",
    "        self.high_score_image = self.font.render(high_score_str, True,\n",
    "                                                 self.text_color,\n",
    "                                                 self.ai_settings.bg_color)\n",
    "\n",
    "        # Center the high score at the top of the screen.\n",
    "        self.high_score_rect = self.high_score_image.get_rect()\n",
    "        self.high_score_rect.centerx = self.screen_rect.centerx\n",
    "        self.high_score_rect.top = self.score_rect.top\n",
    "\n",
    "    def show_score(self):\n",
    "        \"\"\"Draw score and ships to the screen.\"\"\"\n",
    "        self.screen.blit(self.score_image, self.score_rect)\n",
    "        self.screen.blit(self.high_score_image, self.high_score_rect)\n",
    "        self.screen.blit(self.level_image, self.level_rect)\n",
    "\n",
    "        # Draw ships.\n",
    "        self.ships.draw(self.screen)\n",
    "\n",
    "    def prep_level(self):\n",
    "        \"\"\"Turn the level into a rendered image.\"\"\"\n",
    "        self.level_image = self.font.render(str(self.stats.level), True,\n",
    "                                            self.text_color,\n",
    "                                            self.ai_settings.bg_color)\n",
    "\n",
    "        # Position the level below the score.\n",
    "        self.level_rect = self.level_image.get_rect()\n",
    "        self.level_rect.right = self.score_rect.right\n",
    "        self.level_rect.top = self.score_rect.bottom + 10\n",
    "\n",
    "    def prep_ships(self):\n",
    "        \"\"\"Show how many ships are left.\"\"\"\n",
    "        self.ships = Group()\n",
    "        for ship_number in range(self.stats.ships_left):\n",
    "            ship = Ship(self.ai_settings, self.screen)\n",
    "            ship.rect.x = 10 + ship_number * ship.rect.width\n",
    "            ship.rect.y = 10\n",
    "            self.ships.add(ship)\n",
    "\n",
    "class Alien(Sprite):\n",
    "    \"\"\"A class to represent a single alien in the fleet.\"\"\"\n",
    "\n",
    "    def __init__(self, ai_settings, screen):\n",
    "        \"\"\"Initialize the alien and set its starting position.\"\"\"\n",
    "        super().__init__()\n",
    "        self.screen = screen\n",
    "        self.ai_settings = ai_settings\n",
    "\n",
    "        # Load the alien image and set its rect attribute.\n",
    "        self.image = pygame.image.load_basic('space_ship.bmp')\n",
    "        self.rect = self.image.get_rect()\n",
    "\n",
    "        # Start each new alien near the top left of the screen.\n",
    "        self.rect.x = self.rect.width\n",
    "        self.rect.y = self.rect.height\n",
    "\n",
    "        # Store the alien's exact position.\n",
    "        self.x = float(self.rect.x)\n",
    "\n",
    "    def blitme(self):\n",
    "        \"\"\"Draw the alien at its current location.\"\"\"\n",
    "        self.screen.blit(self.image, self.rect)\n",
    "\n",
    "    def update(self):\n",
    "        \"\"\"Move the alien right or left.\"\"\"\n",
    "        self.x += (self.ai_settings.alien_speed_factor *\n",
    "                   self.ai_settings.fleet_direction)\n",
    "        self.rect.x = self.x\n",
    "\n",
    "    def check_edges(self):\n",
    "        \"\"\"Return True if alien is at edge of screen.\"\"\"\n",
    "        screen_rect = self.screen.get_rect()\n",
    "        if self.rect.right >= screen_rect.right:\n",
    "            return True\n",
    "        elif self.rect.left <= 0:\n",
    "            return True\n",
    "        \n",
    "class GameStats:\n",
    "    \"\"\"Track statistics for Alien Invasion.\"\"\"\n",
    "\n",
    "    def __init__(self, ai_settings):\n",
    "        \"\"\"Initialize statistics.\"\"\"\n",
    "        self.ai_settings = ai_settings\n",
    "        self.reset_stats()\n",
    "\n",
    "        # Start Alien Invasion in an active state.\n",
    "        self.game_active = False\n",
    "\n",
    "        # High score should never be reset.\n",
    "        self.high_score = 0\n",
    "\n",
    "    def reset_stats(self):\n",
    "        \"\"\"Initialize statistics that can change during the game.\"\"\"\n",
    "        self.ships_left = self.ai_settings.ship_limit\n",
    "        self.score = 0\n",
    "        self.level = 1\n",
    "        \n",
    "class Settings:\n",
    "    \"\"\"A class to store all settings for Alien Invasion.\"\"\"\n",
    "\n",
    "    def __init__(self):\n",
    "        \"\"\"Initialize the game's static settings.\"\"\"\n",
    "        # Screen settings\n",
    "        self.screen_width = 600\n",
    "        self.screen_height = 500\n",
    "        self.bg_color = (230, 230, 230)\n",
    "\n",
    "        # Ship settings\n",
    "        # self.ship_speed_factor = 1.5\n",
    "        self.ship_limit = 3\n",
    "\n",
    "        # Bullet settings\n",
    "        # self.bullet_speed_factor = 3\n",
    "        self.bullet_width = 300\n",
    "        self.bullet_height = 15\n",
    "        self.bullet_color = 60, 60, 60\n",
    "        self.bullets_allowed = 1000\n",
    "\n",
    "        # Alien settings\n",
    "        # self.alien_speed_factor = 1\n",
    "        self.fleet_drop_speed = 5\n",
    "\n",
    "        # How quickly the game speeds up\n",
    "        self.speedup_scale = 1.1\n",
    "\n",
    "        # How quickly the alien point values increase\n",
    "        self.score_scale = 1.5\n",
    "\n",
    "        self.initialize_dynamic_settings()\n",
    "\n",
    "    def initialize_dynamic_settings(self):\n",
    "        \"\"\"Initialize settings that change throughout the game.\"\"\"\n",
    "        self.ship_speed_factor = 1.5\n",
    "        self.bullet_speed_factor = 3\n",
    "        self.alien_speed_factor = 1\n",
    "\n",
    "        # fleet_direction of 1 represents right; -1 represents left.\n",
    "        self.fleet_direction = 1\n",
    "\n",
    "        # Scoring\n",
    "        self.alien_points = 50\n",
    "\n",
    "    def increase_speed(self):\n",
    "        \"\"\"Increase speed settings and alien point values.\"\"\"\n",
    "        self.ship_speed_factor *= self.speedup_scale\n",
    "        self.bullet_speed_factor *= self.speedup_scale\n",
    "        self.alien_speed_factor *= self.speedup_scale\n",
    "\n",
    "        self.alien_points = int(self.alien_points * self.score_scale)\n",
    "        \n",
    "\n",
    "def run_game():\n",
    "    # Initialize pygame, settings and create a screen object.\n",
    "    pygame.init()\n",
    "\n",
    "    ai_settings = Settings()\n",
    "\n",
    "    screen = pygame.display.set_mode(\n",
    "        (ai_settings.screen_width, ai_settings.screen_height))\n",
    "    pygame.display.set_caption(\"Alien Invasion\")\n",
    "\n",
    "    # Make the Play button.\n",
    "    play_button = Button(ai_settings, screen, \"Play\")\n",
    "\n",
    "    # Create an instance to store game statistics and create a scoreboard.\n",
    "    stats = GameStats(ai_settings)\n",
    "    sb = Scoreboard(ai_settings, screen, stats)\n",
    "\n",
    "    # Make a ship, a group of bullets, and a group of aliens.\n",
    "    ship = Ship(ai_settings, screen)\n",
    "    bullets = Group()\n",
    "    aliens = Group()\n",
    "\n",
    "    # Create the fleet of aliens.\n",
    "    create_fleet(ai_settings, screen, ship, aliens)\n",
    "\n",
    "    # Start the main loop for the game.\n",
    "    while True:\n",
    "        # Watch for keyboard and mouse events.\n",
    "        check_events(ai_settings, screen, stats, sb, play_button, ship, aliens,\n",
    "                        bullets)\n",
    "\n",
    "        if stats.game_active:\n",
    "            ship.update()\n",
    "            update_bullets(ai_settings, screen, stats, sb, ship, aliens,\n",
    "                              bullets)\n",
    "            update_aliens(ai_settings, stats, screen, sb, ship, aliens,\n",
    "                             bullets)\n",
    "\n",
    "        update_screen(ai_settings, screen, stats, sb, ship, aliens, bullets,\n",
    "                         play_button)\n",
    "\n",
    "run_game()"
   ]
  },
  {
   "cell_type": "code",
   "execution_count": 1,
   "metadata": {},
   "outputs": [
    {
     "name": "stdout",
     "output_type": "stream",
     "text": [
      "pygame 2.0.0.dev7 (SDL 2.0.10, python 3.8.0)\n",
      "Hello from the pygame community. https://www.pygame.org/contribute.html\n"
     ]
    },
    {
     "ename": "error",
     "evalue": "video system not initialized",
     "output_type": "error",
     "traceback": [
      "\u001b[0;31m---------------------------------------------------------------------------\u001b[0m",
      "\u001b[0;31merror\u001b[0m                                     Traceback (most recent call last)",
      "\u001b[0;32m<ipython-input-1-2f2714cf14ed>\u001b[0m in \u001b[0;36m<module>\u001b[0;34m\u001b[0m\n\u001b[1;32m    190\u001b[0m         \u001b[0mredrawWindow\u001b[0m\u001b[0;34m(\u001b[0m\u001b[0mwin\u001b[0m\u001b[0;34m)\u001b[0m\u001b[0;34m\u001b[0m\u001b[0;34m\u001b[0m\u001b[0m\n\u001b[1;32m    191\u001b[0m \u001b[0;34m\u001b[0m\u001b[0m\n\u001b[0;32m--> 192\u001b[0;31m \u001b[0mmain\u001b[0m\u001b[0;34m(\u001b[0m\u001b[0;34m)\u001b[0m\u001b[0;34m\u001b[0m\u001b[0;34m\u001b[0m\u001b[0m\n\u001b[0m",
      "\u001b[0;32m<ipython-input-1-2f2714cf14ed>\u001b[0m in \u001b[0;36mmain\u001b[0;34m()\u001b[0m\n\u001b[1;32m    177\u001b[0m         \u001b[0mpygame\u001b[0m\u001b[0;34m.\u001b[0m\u001b[0mtime\u001b[0m\u001b[0;34m.\u001b[0m\u001b[0mdelay\u001b[0m\u001b[0;34m(\u001b[0m\u001b[0;36m50\u001b[0m\u001b[0;34m)\u001b[0m\u001b[0;34m\u001b[0m\u001b[0;34m\u001b[0m\u001b[0m\n\u001b[1;32m    178\u001b[0m         \u001b[0mclock\u001b[0m\u001b[0;34m.\u001b[0m\u001b[0mtick\u001b[0m\u001b[0;34m(\u001b[0m\u001b[0;36m10\u001b[0m\u001b[0;34m)\u001b[0m \u001b[0;31m# 10 frames per second (10 fps)\u001b[0m\u001b[0;34m\u001b[0m\u001b[0;34m\u001b[0m\u001b[0m\n\u001b[0;32m--> 179\u001b[0;31m         \u001b[0ms\u001b[0m\u001b[0;34m.\u001b[0m\u001b[0mmove\u001b[0m\u001b[0;34m(\u001b[0m\u001b[0;34m)\u001b[0m\u001b[0;34m\u001b[0m\u001b[0;34m\u001b[0m\u001b[0m\n\u001b[0m\u001b[1;32m    180\u001b[0m         \u001b[0;32mif\u001b[0m \u001b[0ms\u001b[0m\u001b[0;34m.\u001b[0m\u001b[0mbody\u001b[0m\u001b[0;34m[\u001b[0m\u001b[0;36m0\u001b[0m\u001b[0;34m]\u001b[0m\u001b[0;34m.\u001b[0m\u001b[0mpos\u001b[0m \u001b[0;34m==\u001b[0m \u001b[0msnack\u001b[0m\u001b[0;34m.\u001b[0m\u001b[0mpos\u001b[0m\u001b[0;34m:\u001b[0m\u001b[0;34m\u001b[0m\u001b[0;34m\u001b[0m\u001b[0m\n\u001b[1;32m    181\u001b[0m             \u001b[0ms\u001b[0m\u001b[0;34m.\u001b[0m\u001b[0maddCube\u001b[0m\u001b[0;34m(\u001b[0m\u001b[0;34m)\u001b[0m\u001b[0;34m\u001b[0m\u001b[0;34m\u001b[0m\u001b[0m\n",
      "\u001b[0;32m<ipython-input-1-2f2714cf14ed>\u001b[0m in \u001b[0;36mmove\u001b[0;34m(self)\u001b[0m\n\u001b[1;32m     49\u001b[0m             \u001b[0;32mif\u001b[0m \u001b[0mevent\u001b[0m\u001b[0;34m.\u001b[0m\u001b[0mtype\u001b[0m \u001b[0;34m==\u001b[0m \u001b[0mpygame\u001b[0m\u001b[0;34m.\u001b[0m\u001b[0mQUIT\u001b[0m\u001b[0;34m:\u001b[0m\u001b[0;34m\u001b[0m\u001b[0;34m\u001b[0m\u001b[0m\n\u001b[1;32m     50\u001b[0m                 \u001b[0mpygame\u001b[0m\u001b[0;34m.\u001b[0m\u001b[0mquit\u001b[0m\u001b[0;34m(\u001b[0m\u001b[0;34m)\u001b[0m\u001b[0;34m\u001b[0m\u001b[0;34m\u001b[0m\u001b[0m\n\u001b[0;32m---> 51\u001b[0;31m             \u001b[0mkeys\u001b[0m \u001b[0;34m=\u001b[0m \u001b[0mpygame\u001b[0m\u001b[0;34m.\u001b[0m\u001b[0mkey\u001b[0m\u001b[0;34m.\u001b[0m\u001b[0mget_pressed\u001b[0m\u001b[0;34m(\u001b[0m\u001b[0;34m)\u001b[0m\u001b[0;34m\u001b[0m\u001b[0;34m\u001b[0m\u001b[0m\n\u001b[0m\u001b[1;32m     52\u001b[0m \u001b[0;34m\u001b[0m\u001b[0m\n\u001b[1;32m     53\u001b[0m             \u001b[0;32mfor\u001b[0m \u001b[0mkey\u001b[0m \u001b[0;32min\u001b[0m \u001b[0mkeys\u001b[0m\u001b[0;34m:\u001b[0m\u001b[0;34m\u001b[0m\u001b[0;34m\u001b[0m\u001b[0m\n",
      "\u001b[0;31merror\u001b[0m: video system not initialized"
     ]
    }
   ],
   "source": [
    "import math\n",
    "import random\n",
    "import pygame\n",
    "import tkinter as tk\n",
    "from tkinter import messagebox\n",
    "\n",
    "class Cube(object):\n",
    "    rows = 20\n",
    "    w = 500\n",
    "    def __init__(self, start, dirnx=1, dirny=0, color=(255,0,0)):\n",
    "        self.pos = start\n",
    "        self.dirnx = dirnx\n",
    "        self.dirny = dirny\n",
    "        self.color = color\n",
    "    \n",
    "    def move(self, dirnx, dirny):\n",
    "        self.dirnx = dirnx\n",
    "        self.dirny = dirny\n",
    "        self.pos = (self.pos[0]+self.dirnx, self.pos[1]+self.dirny)\n",
    "\n",
    "    def draw(self, surface, eyes=False):\n",
    "        dis = self.w // self.rows\n",
    "        i = self.pos[0]\n",
    "        j = self.pos[1]\n",
    "\n",
    "        pygame.draw.rect(surface, self.color, (i*dis+1, j*dis+1, dis-2, dis-2))\n",
    "        if eyes:\n",
    "            centre = dis//2\n",
    "            radius = 3\n",
    "            circleMiddle = (i*dis+centre-radius, j*dis+8)\n",
    "            circleMiddle2 = (i*dis+dis-radius*2, j*dis+8)\n",
    "            pygame.draw.circle(surface, (0,0,0), circleMiddle, radius)\n",
    "            pygame.draw.circle(surface, (0,0,0), circleMiddle2, radius)\n",
    "\n",
    "class Snake(object):\n",
    "    body = []\n",
    "    turns = {}\n",
    "\n",
    "    def __init__(self, color, pos):\n",
    "        self.color = color\n",
    "        self.head = Cube(pos)\n",
    "        self.body.append(self.head)\n",
    "        self.dirnx = 0\n",
    "        self.dirny = 1\n",
    "\n",
    "\n",
    "    def move(self):\n",
    "        for event in pygame.event.get():\n",
    "            if event.type == pygame.QUIT:\n",
    "                pygame.quit()\n",
    "            keys = pygame.key.get_pressed()\n",
    "\n",
    "            for key in keys:\n",
    "                if keys[pygame.K_LEFT]:\n",
    "                    self.dirnx = -1\n",
    "                    self.dirny = 0  \n",
    "                    self.turns[self.head.pos[:]] = [self.dirnx, self.dirny]\n",
    "\n",
    "                elif keys[pygame.K_RIGHT]:\n",
    "                    self.dirnx = 1\n",
    "                    self.dirny = 0  \n",
    "                    self.turns[self.head.pos[:]] = [self.dirnx, self.dirny]\n",
    "\n",
    "                elif keys[pygame.K_UP]:\n",
    "                    self.dirnx = 0\n",
    "                    self.dirny = -1\n",
    "                    self.turns[self.head.pos[:]] = [self.dirnx, self.dirny]\n",
    "                elif keys[pygame.K_DOWN]:\n",
    "                    self.dirnx = 0\n",
    "                    self.dirny = 1\n",
    "                    self.turns[self.head.pos[:]] = [self.dirnx, self.dirny]\n",
    "        \n",
    "        for i, c in enumerate(self.body):\n",
    "            p = c.pos[:]\n",
    "            if p in self.turns:\n",
    "                turn = self.turns[p]\n",
    "                c.move(turn[0], turn[1])\n",
    "                if i == len(self.body)-1:\n",
    "                    self.turns.pop(p)\n",
    "            else:\n",
    "                if c.dirnx == -1 and c.pos[0] <= 0: c.pos = (c.rows-1, c.pos[1])\n",
    "                elif c.dirnx == 1 and c.pos[0] >= c.rows-1: c.pos = (0, c.pos[1])\n",
    "                elif c.dirny == 1 and c.pos[1] >= c.rows-1: c.pos = (c.pos[0], 0)\n",
    "                elif c.dirny == -1 and c.pos[1] <= 0: c.pos = (c.pos[0], c.rows-1)\n",
    "                else: c.move(c.dirnx, c.dirny)\n",
    "\n",
    "            \n",
    "    def reset(self, pos):\n",
    "        self.head = Cube(pos)\n",
    "        self.body = []\n",
    "        self.body.append(self.head)\n",
    "        self.turns = {}\n",
    "        self.dirnx = 0\n",
    "        self.dirny = 1\n",
    "\n",
    "    \n",
    "    def addCube(self):\n",
    "        tail = self.body[-1]\n",
    "        dx, dy = tail.dirnx, tail.dirny\n",
    "        if dx == 1 and dy == 0:\n",
    "            self.body.append(Cube((tail.pos[0]-1, tail.pos[1])))\n",
    "        elif dx == -1 and dy == 0:\n",
    "            self.body.append(Cube((tail.pos[0]+1, tail.pos[1])))\n",
    "        elif dx == 0 and dy == 1:\n",
    "            self.body.append(Cube((tail.pos[0], tail.pos[1]-1)))\n",
    "        elif dx == 0 and dy == -1:\n",
    "            self.body.append(Cube((tail.pos[0], tail.pos[1]+1)))\n",
    "    \n",
    "        self.body[-1].dirnx = dx\n",
    "        self.body[-1].dirny = dy\n",
    "\n",
    "\n",
    "    def draw(self, surface):\n",
    "        for i, c in enumerate(self.body):\n",
    "            if i == 0:\n",
    "                c.draw(surface,  False)\n",
    "            else:\n",
    "                c.draw(surface)\n",
    "            \n",
    "    \n",
    "def drawGrid(w, rows, surface):\n",
    "    sizeBtwn = w // rows\n",
    "\n",
    "    x = 0\n",
    "    y = 0\n",
    "    for l in range(rows):\n",
    "        x += sizeBtwn\n",
    "        y += sizeBtwn\n",
    "\n",
    "        pygame.draw.line(surface, (255, 255, 255), (x, 0), (x, w))\n",
    "        pygame.draw.line(surface, (255, 255, 255), (0, y), (w, y))\n",
    "\n",
    "\n",
    "def redrawWindow(surface):\n",
    "    global rows, width, s , snack\n",
    "    surface.fill((0, 0, 0))\n",
    "    s.draw(surface)\n",
    "    snack.draw(surface)\n",
    "    drawGrid(width, rows, surface)\n",
    "    pygame.display.update()\n",
    "\n",
    "def randomSnack(item):\n",
    "    global rows\n",
    "    positions = item.body\n",
    "\n",
    "    while True:\n",
    "        x = random.randrange(rows)\n",
    "        y = random.randrange(rows)\n",
    "        if len(list(filter(lambda z: z.pos == (x,y), positions))) > 0:\n",
    "            continue\n",
    "        else:\n",
    "            break\n",
    "    return (x,y)\n",
    "\n",
    "def message_box(subject, content):\n",
    "    root = tk.Tk()\n",
    "    root.attributes(\"-topmost\", True) \n",
    "    root.withdraw()\n",
    "    messagebox.showinfo(subject, content)\n",
    "    try:\n",
    "        root.destroy()\n",
    "    except:\n",
    "        pass\n",
    "\n",
    "def main():\n",
    "    global width, rows, s, snack\n",
    "    width = 500\n",
    "    rows = 20\n",
    "    win = pygame.display.set_mode((width, width))\n",
    "    s = Snake((255, 0 , 0), (10, 10))\n",
    "    snack = Cube(randomSnack(s), color=(0, 255, 0))\n",
    "    flag = True # bem documentado hein\n",
    "\n",
    "    clock = pygame.time.Clock() \n",
    "\n",
    "    while flag:\n",
    "        pygame.time.delay(50)\n",
    "        clock.tick(10) # 10 frames per second (10 fps)\n",
    "        s.move()\n",
    "        if s.body[0].pos == snack.pos:\n",
    "            s.addCube()\n",
    "            snack = Cube(randomSnack(s), color=(0, 255, 0))\n",
    "        \n",
    "        for x in range(len(s.body)):\n",
    "            if s.body[x].pos in list(map(lambda z:z.pos, s.body[x+1:])):\n",
    "                print('Score: ',len(s.body))\n",
    "                message_box('You lose!', 'Try again ...')\n",
    "                s.reset((10,10))\n",
    "                break\n",
    "        redrawWindow(win)\n",
    "\n",
    "main()"
   ]
  },
  {
   "cell_type": "code",
   "execution_count": null,
   "metadata": {},
   "outputs": [],
   "source": []
  }
 ],
 "metadata": {
  "kernelspec": {
   "display_name": "Python 3",
   "language": "python",
   "name": "python3"
  },
  "language_info": {
   "codemirror_mode": {
    "name": "ipython",
    "version": 3
   },
   "file_extension": ".py",
   "mimetype": "text/x-python",
   "name": "python",
   "nbconvert_exporter": "python",
   "pygments_lexer": "ipython3",
   "version": "3.8.0"
  },
  "toc": {
   "base_numbering": 1,
   "nav_menu": {},
   "number_sections": true,
   "sideBar": true,
   "skip_h1_title": false,
   "title_cell": "Table of Contents",
   "title_sidebar": "Contents",
   "toc_cell": false,
   "toc_position": {},
   "toc_section_display": true,
   "toc_window_display": false
  }
 },
 "nbformat": 4,
 "nbformat_minor": 2
}
