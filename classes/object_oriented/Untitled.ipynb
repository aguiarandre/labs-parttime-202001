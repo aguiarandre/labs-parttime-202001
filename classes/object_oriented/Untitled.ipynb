{
 "cells": [
  {
   "cell_type": "markdown",
   "metadata": {},
   "source": [
    "# Lab - Object Oriented Programming"
   ]
  },
  {
   "cell_type": "markdown",
   "metadata": {},
   "source": [
    "## Class"
   ]
  },
  {
   "cell_type": "markdown",
   "metadata": {},
   "source": [
    "We are always trying to group collections together.\n",
    "\n",
    "> Dicts: group data together \n",
    "\n",
    "> Functions: group actions together\n",
    "\n",
    "> Classes: group data and actions together <3"
   ]
  },
  {
   "cell_type": "markdown",
   "metadata": {},
   "source": [
    "### Examples"
   ]
  },
  {
   "cell_type": "markdown",
   "metadata": {},
   "source": [
    "> Car\n",
    "\n",
    "> Person\n",
    "\n",
    "> DataFrame"
   ]
  },
  {
   "cell_type": "code",
   "execution_count": 3,
   "metadata": {},
   "outputs": [],
   "source": [
    "class Car:\n",
    "    pass\n",
    "\n",
    "class Person:\n",
    "    pass\n",
    "\n",
    "class Dataframe:\n",
    "    pass"
   ]
  },
  {
   "cell_type": "code",
   "execution_count": 4,
   "metadata": {},
   "outputs": [],
   "source": [
    "df = Dataframe()"
   ]
  },
  {
   "cell_type": "code",
   "execution_count": 6,
   "metadata": {},
   "outputs": [
    {
     "data": {
      "text/plain": [
       "__main__.Dataframe"
      ]
     },
     "execution_count": 6,
     "metadata": {},
     "output_type": "execute_result"
    }
   ],
   "source": [
    "type(df)"
   ]
  },
  {
   "cell_type": "code",
   "execution_count": 7,
   "metadata": {},
   "outputs": [],
   "source": [
    "import pandas as pd"
   ]
  },
  {
   "cell_type": "code",
   "execution_count": 10,
   "metadata": {},
   "outputs": [
    {
     "data": {
      "text/plain": [
       "pandas.core.frame.DataFrame"
      ]
     },
     "execution_count": 10,
     "metadata": {},
     "output_type": "execute_result"
    }
   ],
   "source": [
    "real_df = pd.DataFrame()\n",
    "\n",
    "type(real_df)"
   ]
  },
  {
   "cell_type": "markdown",
   "metadata": {},
   "source": [
    "## Attributes"
   ]
  },
  {
   "cell_type": "markdown",
   "metadata": {},
   "source": [
    "Values stored inside of an object"
   ]
  },
  {
   "cell_type": "code",
   "execution_count": 29,
   "metadata": {},
   "outputs": [],
   "source": [
    "class Person:\n",
    "    name = 'Andre'\n",
    "    surname = 'Aguiar'\n",
    "    birth_date = '08/01/1992'\n",
    "    address = 'Alameda Jaú, 1301'\n",
    "    email = 'andre.aguiar@ironhack.com'\n",
    "    \n",
    "    \n",
    "x = Person\n"
   ]
  },
  {
   "cell_type": "code",
   "execution_count": 30,
   "metadata": {},
   "outputs": [
    {
     "data": {
      "text/plain": [
       "'andre.aguiar@ironhack.com'"
      ]
     },
     "execution_count": 30,
     "metadata": {},
     "output_type": "execute_result"
    }
   ],
   "source": [
    "x.email"
   ]
  },
  {
   "cell_type": "code",
   "execution_count": 31,
   "metadata": {},
   "outputs": [],
   "source": [
    "y = Person"
   ]
  },
  {
   "cell_type": "code",
   "execution_count": 32,
   "metadata": {},
   "outputs": [
    {
     "data": {
      "text/plain": [
       "'Alameda Jaú, 1301'"
      ]
     },
     "execution_count": 32,
     "metadata": {},
     "output_type": "execute_result"
    }
   ],
   "source": [
    "y.address"
   ]
  },
  {
   "cell_type": "markdown",
   "metadata": {},
   "source": [
    "hmm... interesting"
   ]
  },
  {
   "cell_type": "markdown",
   "metadata": {},
   "source": [
    "what if we want to pass these values as arguments?"
   ]
  },
  {
   "cell_type": "markdown",
   "metadata": {},
   "source": [
    "## Methods"
   ]
  },
  {
   "cell_type": "markdown",
   "metadata": {},
   "source": [
    "### The `__init__` method"
   ]
  },
  {
   "cell_type": "code",
   "execution_count": 124,
   "metadata": {},
   "outputs": [],
   "source": [
    "class Person:    \n",
    "    \"\"\"Person class.\"\"\"\n",
    "    def __init__(self, nome, sobrenome, birth_date):\n",
    "        \"\"\"\n",
    "        The purpose of this method is thus to set up a new object using data that we have provided.\n",
    "         \n",
    "        Creates a person with a name associated to it.\n",
    "        \"\"\"\n",
    "        self.name = nome\n",
    "        self.surname = sobrenome\n",
    "        self.birth_date = birth_date\n",
    "        self.attrs = {}\n",
    "        \n",
    "    def get_age(self):\n",
    "        from datetime import datetime\n",
    "        \n",
    "        n_days = (datetime.today() - datetime.strptime(self.birth_date, '%d/%m/%Y')).days\n",
    "        return round(n_days/365)"
   ]
  },
  {
   "cell_type": "code",
   "execution_count": 118,
   "metadata": {},
   "outputs": [],
   "source": [
    "andre = Person(nome='Andre',sobrenome='Aguiar',birth_date='08/01/1992')"
   ]
  },
  {
   "cell_type": "code",
   "execution_count": 119,
   "metadata": {},
   "outputs": [
    {
     "data": {
      "text/plain": [
       "28"
      ]
     },
     "execution_count": 119,
     "metadata": {},
     "output_type": "execute_result"
    }
   ],
   "source": [
    "andre.get_age()"
   ]
  },
  {
   "cell_type": "code",
   "execution_count": 121,
   "metadata": {},
   "outputs": [],
   "source": [
    "andre.attrs.update({'tipo':'gato'})"
   ]
  },
  {
   "cell_type": "code",
   "execution_count": 75,
   "metadata": {},
   "outputs": [
    {
     "data": {
      "text/plain": [
       "'Aguiar'"
      ]
     },
     "execution_count": 75,
     "metadata": {},
     "output_type": "execute_result"
    }
   ],
   "source": [
    "andre.surname"
   ]
  },
  {
   "cell_type": "code",
   "execution_count": 108,
   "metadata": {},
   "outputs": [],
   "source": [
    "import pandas as pd"
   ]
  },
  {
   "cell_type": "code",
   "execution_count": 110,
   "metadata": {},
   "outputs": [],
   "source": [
    "df = pd.DataFrame()"
   ]
  },
  {
   "cell_type": "code",
   "execution_count": 100,
   "metadata": {},
   "outputs": [
    {
     "data": {
      "text/plain": [
       "28"
      ]
     },
     "execution_count": 100,
     "metadata": {},
     "output_type": "execute_result"
    }
   ],
   "source": [
    "from datetime import datetime\n",
    "date_diff = datetime.today() - datetime.strptime(andre.birth_date, '%d/%m/%Y')\n",
    "round(date_diff.days / 365)"
   ]
  },
  {
   "cell_type": "code",
   "execution_count": null,
   "metadata": {},
   "outputs": [],
   "source": []
  },
  {
   "cell_type": "code",
   "execution_count": null,
   "metadata": {},
   "outputs": [],
   "source": []
  },
  {
   "cell_type": "code",
   "execution_count": null,
   "metadata": {},
   "outputs": [],
   "source": []
  },
  {
   "cell_type": "markdown",
   "metadata": {},
   "source": [
    "# Lab"
   ]
  },
  {
   "cell_type": "markdown",
   "metadata": {},
   "source": [
    "In order to understand the benefits of simple object-oriented programming, we have to build up our classes from the beginning. "
   ]
  },
  {
   "cell_type": "code",
   "execution_count": 126,
   "metadata": {},
   "outputs": [],
   "source": [
    "import pandas as pd"
   ]
  },
  {
   "cell_type": "code",
   "execution_count": 127,
   "metadata": {},
   "outputs": [],
   "source": [
    "chars = ['a', 'b', 'c','d', 'e', 'f', ' ', 'á','é','ó']"
   ]
  },
  {
   "cell_type": "code",
   "execution_count": 128,
   "metadata": {},
   "outputs": [],
   "source": [
    "import numpy as np"
   ]
  },
  {
   "cell_type": "code",
   "execution_count": 199,
   "metadata": {},
   "outputs": [],
   "source": []
  },
  {
   "cell_type": "code",
   "execution_count": 225,
   "metadata": {},
   "outputs": [],
   "source": [
    "def create_weird_dataframe(size=10):\n",
    "    def create_weird_colnames(size=size):\n",
    "        probs = [.2,.2,.15,.1,.1,.1,.05,.05,.025,.025]\n",
    "\n",
    "        return [''.join(\n",
    "            [(char.upper() if np.random.random() < 0.2 else char) \n",
    "                     for char in np.random.choice(chars,size=12, p=probs)]) for i in range(size)]\n",
    "    \n",
    "    data = np.random.random(size=(size,size))\n",
    "    colnames = create_weird_colnames(size)\n",
    "    return pd.DataFrame(data=data, columns=colnames)"
   ]
  },
  {
   "cell_type": "code",
   "execution_count": 244,
   "metadata": {},
   "outputs": [],
   "source": [
    "df = create_weird_dataframe()"
   ]
  },
  {
   "cell_type": "code",
   "execution_count": 245,
   "metadata": {},
   "outputs": [
    {
     "data": {
      "text/html": [
       "<div>\n",
       "<style scoped>\n",
       "    .dataframe tbody tr th:only-of-type {\n",
       "        vertical-align: middle;\n",
       "    }\n",
       "\n",
       "    .dataframe tbody tr th {\n",
       "        vertical-align: top;\n",
       "    }\n",
       "\n",
       "    .dataframe thead th {\n",
       "        text-align: right;\n",
       "    }\n",
       "</style>\n",
       "<table border=\"1\" class=\"dataframe\">\n",
       "  <thead>\n",
       "    <tr style=\"text-align: right;\">\n",
       "      <th></th>\n",
       "      <th>FAcfaDaacc E</th>\n",
       "      <th>a  a ebáBfaA</th>\n",
       "      <th>dcfdódedbácB</th>\n",
       "      <th>BBBcAcFaecbb</th>\n",
       "      <th>FaDadéaefbóc</th>\n",
       "      <th>cCdfaóaéEÁaB</th>\n",
       "      <th>céóa ÉCabfbA</th>\n",
       "      <th>bcabddbbd ce</th>\n",
       "      <th>bEfabcEBfaaf</th>\n",
       "      <th>cbaafeféBDaa</th>\n",
       "    </tr>\n",
       "  </thead>\n",
       "  <tbody>\n",
       "    <tr>\n",
       "      <th>0</th>\n",
       "      <td>0.163118</td>\n",
       "      <td>0.752995</td>\n",
       "      <td>0.544400</td>\n",
       "      <td>0.859675</td>\n",
       "      <td>0.274013</td>\n",
       "      <td>0.481413</td>\n",
       "      <td>0.503844</td>\n",
       "      <td>0.253995</td>\n",
       "      <td>0.692665</td>\n",
       "      <td>0.559837</td>\n",
       "    </tr>\n",
       "    <tr>\n",
       "      <th>1</th>\n",
       "      <td>0.247302</td>\n",
       "      <td>0.106836</td>\n",
       "      <td>0.126144</td>\n",
       "      <td>0.434204</td>\n",
       "      <td>0.572324</td>\n",
       "      <td>0.472847</td>\n",
       "      <td>0.883387</td>\n",
       "      <td>0.815491</td>\n",
       "      <td>0.754484</td>\n",
       "      <td>0.034371</td>\n",
       "    </tr>\n",
       "    <tr>\n",
       "      <th>2</th>\n",
       "      <td>0.697422</td>\n",
       "      <td>0.878556</td>\n",
       "      <td>0.648810</td>\n",
       "      <td>0.000670</td>\n",
       "      <td>0.181008</td>\n",
       "      <td>0.048661</td>\n",
       "      <td>0.920137</td>\n",
       "      <td>0.192451</td>\n",
       "      <td>0.600667</td>\n",
       "      <td>0.773147</td>\n",
       "    </tr>\n",
       "    <tr>\n",
       "      <th>3</th>\n",
       "      <td>0.619737</td>\n",
       "      <td>0.675670</td>\n",
       "      <td>0.078263</td>\n",
       "      <td>0.967575</td>\n",
       "      <td>0.646317</td>\n",
       "      <td>0.013730</td>\n",
       "      <td>0.637818</td>\n",
       "      <td>0.005379</td>\n",
       "      <td>0.052359</td>\n",
       "      <td>0.149963</td>\n",
       "    </tr>\n",
       "    <tr>\n",
       "      <th>4</th>\n",
       "      <td>0.511138</td>\n",
       "      <td>0.985973</td>\n",
       "      <td>0.003934</td>\n",
       "      <td>0.072659</td>\n",
       "      <td>0.580214</td>\n",
       "      <td>0.544005</td>\n",
       "      <td>0.625536</td>\n",
       "      <td>0.300977</td>\n",
       "      <td>0.113440</td>\n",
       "      <td>0.077549</td>\n",
       "    </tr>\n",
       "    <tr>\n",
       "      <th>5</th>\n",
       "      <td>0.781726</td>\n",
       "      <td>0.228816</td>\n",
       "      <td>0.869564</td>\n",
       "      <td>0.347575</td>\n",
       "      <td>0.478251</td>\n",
       "      <td>0.306618</td>\n",
       "      <td>0.684339</td>\n",
       "      <td>0.517895</td>\n",
       "      <td>0.344960</td>\n",
       "      <td>0.413945</td>\n",
       "    </tr>\n",
       "    <tr>\n",
       "      <th>6</th>\n",
       "      <td>0.558554</td>\n",
       "      <td>0.954637</td>\n",
       "      <td>0.196378</td>\n",
       "      <td>0.787453</td>\n",
       "      <td>0.031651</td>\n",
       "      <td>0.142039</td>\n",
       "      <td>0.689468</td>\n",
       "      <td>0.106734</td>\n",
       "      <td>0.755942</td>\n",
       "      <td>0.351402</td>\n",
       "    </tr>\n",
       "    <tr>\n",
       "      <th>7</th>\n",
       "      <td>0.231181</td>\n",
       "      <td>0.782204</td>\n",
       "      <td>0.032489</td>\n",
       "      <td>0.165517</td>\n",
       "      <td>0.612893</td>\n",
       "      <td>0.862522</td>\n",
       "      <td>0.391886</td>\n",
       "      <td>0.778282</td>\n",
       "      <td>0.470036</td>\n",
       "      <td>0.641185</td>\n",
       "    </tr>\n",
       "    <tr>\n",
       "      <th>8</th>\n",
       "      <td>0.802357</td>\n",
       "      <td>0.291661</td>\n",
       "      <td>0.009872</td>\n",
       "      <td>0.255891</td>\n",
       "      <td>0.329959</td>\n",
       "      <td>0.005271</td>\n",
       "      <td>0.042944</td>\n",
       "      <td>0.842972</td>\n",
       "      <td>0.581050</td>\n",
       "      <td>0.576628</td>\n",
       "    </tr>\n",
       "    <tr>\n",
       "      <th>9</th>\n",
       "      <td>0.254199</td>\n",
       "      <td>0.027583</td>\n",
       "      <td>0.820720</td>\n",
       "      <td>0.864777</td>\n",
       "      <td>0.280942</td>\n",
       "      <td>0.758441</td>\n",
       "      <td>0.873803</td>\n",
       "      <td>0.515068</td>\n",
       "      <td>0.850621</td>\n",
       "      <td>0.464890</td>\n",
       "    </tr>\n",
       "  </tbody>\n",
       "</table>\n",
       "</div>"
      ],
      "text/plain": [
       "   FAcfaDaacc E  a  a ebáBfaA  dcfdódedbácB  BBBcAcFaecbb  FaDadéaefbóc  \\\n",
       "0      0.163118      0.752995      0.544400      0.859675      0.274013   \n",
       "1      0.247302      0.106836      0.126144      0.434204      0.572324   \n",
       "2      0.697422      0.878556      0.648810      0.000670      0.181008   \n",
       "3      0.619737      0.675670      0.078263      0.967575      0.646317   \n",
       "4      0.511138      0.985973      0.003934      0.072659      0.580214   \n",
       "5      0.781726      0.228816      0.869564      0.347575      0.478251   \n",
       "6      0.558554      0.954637      0.196378      0.787453      0.031651   \n",
       "7      0.231181      0.782204      0.032489      0.165517      0.612893   \n",
       "8      0.802357      0.291661      0.009872      0.255891      0.329959   \n",
       "9      0.254199      0.027583      0.820720      0.864777      0.280942   \n",
       "\n",
       "   cCdfaóaéEÁaB  céóa ÉCabfbA  bcabddbbd ce  bEfabcEBfaaf  cbaafeféBDaa  \n",
       "0      0.481413      0.503844      0.253995      0.692665      0.559837  \n",
       "1      0.472847      0.883387      0.815491      0.754484      0.034371  \n",
       "2      0.048661      0.920137      0.192451      0.600667      0.773147  \n",
       "3      0.013730      0.637818      0.005379      0.052359      0.149963  \n",
       "4      0.544005      0.625536      0.300977      0.113440      0.077549  \n",
       "5      0.306618      0.684339      0.517895      0.344960      0.413945  \n",
       "6      0.142039      0.689468      0.106734      0.755942      0.351402  \n",
       "7      0.862522      0.391886      0.778282      0.470036      0.641185  \n",
       "8      0.005271      0.042944      0.842972      0.581050      0.576628  \n",
       "9      0.758441      0.873803      0.515068      0.850621      0.464890  "
      ]
     },
     "execution_count": 245,
     "metadata": {},
     "output_type": "execute_result"
    }
   ],
   "source": [
    "df"
   ]
  },
  {
   "cell_type": "markdown",
   "metadata": {},
   "source": [
    "## Correcting the column names"
   ]
  },
  {
   "cell_type": "markdown",
   "metadata": {},
   "source": [
    "### let's start simple: get the column names of the dataframe.\n",
    "\n",
    "Store it in a variable called `col_names`\n"
   ]
  },
  {
   "cell_type": "code",
   "execution_count": 250,
   "metadata": {},
   "outputs": [
    {
     "data": {
      "text/plain": [
       "Index(['FAcfaDaacc E', 'a  a ebáBfaA', 'dcfdódedbácB', 'BBBcAcFaecbb',\n",
       "       'FaDadéaefbóc', 'cCdfaóaéEÁaB', 'céóa ÉCabfbA', 'bcabddbbd ce',\n",
       "       'bEfabcEBfaaf', 'cbaafeféBDaa'],\n",
       "      dtype='object')"
      ]
     },
     "execution_count": 250,
     "metadata": {},
     "output_type": "execute_result"
    }
   ],
   "source": [
    "col_names = df.columns\n",
    "col_names"
   ]
  },
  {
   "cell_type": "markdown",
   "metadata": {},
   "source": [
    "### Let's iterate through this columns and transform them into lower-case column names\n",
    "\n",
    "Create a list comprehension to do that if possible. Store it in a variable called `lower_colnames`"
   ]
  },
  {
   "cell_type": "code",
   "execution_count": 253,
   "metadata": {},
   "outputs": [],
   "source": [
    "lower_colnames = [col.lower() for col in col_names]"
   ]
  },
  {
   "cell_type": "code",
   "execution_count": 254,
   "metadata": {},
   "outputs": [
    {
     "data": {
      "text/plain": [
       "['facfadaacc e',\n",
       " 'a  a ebábfaa',\n",
       " 'dcfdódedbácb',\n",
       " 'bbbcacfaecbb',\n",
       " 'fadadéaefbóc',\n",
       " 'ccdfaóaéeáab',\n",
       " 'céóa écabfba',\n",
       " 'bcabddbbd ce',\n",
       " 'befabcebfaaf',\n",
       " 'cbaafefébdaa']"
      ]
     },
     "execution_count": 254,
     "metadata": {},
     "output_type": "execute_result"
    }
   ],
   "source": [
    "lower_colnames"
   ]
  },
  {
   "cell_type": "markdown",
   "metadata": {},
   "source": [
    "### Let's remove the spaces of these column names!\n",
    "\n",
    "Replace each column name space ` ` for an underline `_`. Again, try to use a list comprehension to do that. \n",
    "For this first task use `.replace(' ','')` method to do that."
   ]
  },
  {
   "cell_type": "code",
   "execution_count": 292,
   "metadata": {},
   "outputs": [
    {
     "data": {
      "text/plain": [
       "['facfadaacc_e',\n",
       " 'a__a_ebábfaa',\n",
       " 'dcfdódedbácb',\n",
       " 'bbbcacfaecbb',\n",
       " 'fadadéaefbóc',\n",
       " 'ccdfaóaéeáab',\n",
       " 'céóa_écabfba',\n",
       " 'bcabddbbd_ce',\n",
       " 'befabcebfaaf',\n",
       " 'cbaafefébdaa']"
      ]
     },
     "execution_count": 292,
     "metadata": {},
     "output_type": "execute_result"
    }
   ],
   "source": [
    "[col.replace(' ','_') for col in lower_colnames]"
   ]
  },
  {
   "cell_type": "markdown",
   "metadata": {},
   "source": [
    "### Create a function that groups the results obtained above and return the lower case underlined names as a list\n",
    "\n",
    "Name the function `normalize_cols`. This function should receive a dataframe, get the column names of a it and return the treated list of column names."
   ]
  },
  {
   "cell_type": "code",
   "execution_count": 427,
   "metadata": {},
   "outputs": [],
   "source": [
    "def normalize_cols(dataframe):\n",
    "    \"\"\"\n",
    "    Receive a dataframe, get its columns, put it in lower \n",
    "    case and then replace spaces by underlines.\n",
    "    \"\"\"\n",
    "    colnames = dataframe.columns\n",
    "    lower_colnames = [col.lower() for col in colnames]\n",
    "\n",
    "    return [col.replace(' ','_') for col in lower_colnames]"
   ]
  },
  {
   "cell_type": "markdown",
   "metadata": {},
   "source": [
    "### Test your results\n",
    "\n",
    "Use the following line of code to test your results. Run it several times to see some behaviors."
   ]
  },
  {
   "cell_type": "code",
   "execution_count": 430,
   "metadata": {},
   "outputs": [
    {
     "data": {
      "text/plain": [
       "['eb_c__aafadb',\n",
       " 'abd_eacfbéca',\n",
       " 'dáefed_ób_e_',\n",
       " 'becácbcccbbf',\n",
       " 'bbefc_bdbbab',\n",
       " 'aaóbáeebbbeb',\n",
       " 'cbbfdcbaób_b',\n",
       " 'ca_d_c_abada',\n",
       " 'abbbbfcebacd',\n",
       " 'abaacbfbabdd']"
      ]
     },
     "execution_count": 430,
     "metadata": {},
     "output_type": "execute_result"
    }
   ],
   "source": [
    "normalize_cols(create_weird_dataframe())"
   ]
  },
  {
   "cell_type": "markdown",
   "metadata": {},
   "source": [
    "### hmmm, we made a mistake!\n",
    "\n",
    "We've commited several mistakes by doing this. Have observed any bugs associated with our results?"
   ]
  },
  {
   "cell_type": "markdown",
   "metadata": {},
   "source": [
    "In order for us to see some problems in our results, we have to look for edge cases. \n",
    "\n",
    "For example: \n",
    "\n",
    "**Problem #1:** what if there are 2 or more following spaces? We want it to replace the spaces by several underlines or condense them into one?\n",
    "\n",
    "**Problem #2:** what if there are spaces at the beginning? Should we substitute them by underline or drop them?"
   ]
  },
  {
   "cell_type": "markdown",
   "metadata": {},
   "source": [
    "Let's correct each problem. Starting by problem 2."
   ]
  },
  {
   "cell_type": "markdown",
   "metadata": {},
   "source": [
    "## Correcting our function\n",
    "\n",
    "Instead of substituting the spaces at first place, let's remove the trailing and leading spaces!\n",
    "\n",
    "Recreate the `normalize_cols` with the solution to `Problem 2`.\n",
    "\n",
    "*Hint: Copy and paste the last `normalize_cols` function to change it.*"
   ]
  },
  {
   "cell_type": "code",
   "execution_count": 432,
   "metadata": {},
   "outputs": [],
   "source": [
    "def normalize_cols(dataframe):\n",
    "    \"\"\"\n",
    "    Receive a dataframe, get its columns, put it in lower \n",
    "    case, strip leading and trailing spaces and then replace \n",
    "    the remaining spaces by underlines.\n",
    "    \"\"\"\n",
    "    colnames = dataframe.columns\n",
    "    lower_colnames = [col.lower().strip() for col in colnames]\n",
    "\n",
    "    return [col.replace(' ','_') for col in lower_colnames]"
   ]
  },
  {
   "cell_type": "markdown",
   "metadata": {},
   "source": [
    "### Test your results again.\n",
    "\n",
    "At least, for now, you should not have any trailing nor leading underlines."
   ]
  },
  {
   "cell_type": "code",
   "execution_count": 448,
   "metadata": {},
   "outputs": [
    {
     "data": {
      "text/plain": [
       "['cbfféfacbaaa',\n",
       " 'ceaéea__éd_c',\n",
       " 'bdfffcbófaca',\n",
       " 'cdéfcecacca',\n",
       " 'bcbacaaóbaac',\n",
       " 'aceeacóabc_é',\n",
       " 'bbcdbaaafacé',\n",
       " 'bbb__dáeabec',\n",
       " 'bdfaóafc_cdd',\n",
       " 'ábbafcabeb_d']"
      ]
     },
     "execution_count": 448,
     "metadata": {},
     "output_type": "execute_result"
    }
   ],
   "source": [
    "normalize_cols(create_weird_dataframe())"
   ]
  },
  {
   "cell_type": "markdown",
   "metadata": {},
   "source": [
    "### Correcting problem 1"
   ]
  },
  {
   "cell_type": "markdown",
   "metadata": {},
   "source": [
    "To correct problem 1, instead of using `.replace()` string method, we want to use a regular expression. Use the module `re` to substitute the pattern of `1 or more spaces` by 1 underline `_`.\n",
    "\n",
    "Test your solution on the variable below:"
   ]
  },
  {
   "cell_type": "code",
   "execution_count": 460,
   "metadata": {},
   "outputs": [],
   "source": [
    "import re \n",
    "\n",
    "text = 'these spaces      should all be one underline'"
   ]
  },
  {
   "cell_type": "code",
   "execution_count": 462,
   "metadata": {},
   "outputs": [
    {
     "data": {
      "text/plain": [
       "'these_spaces_should_all_be_one_underline'"
      ]
     },
     "execution_count": 462,
     "metadata": {},
     "output_type": "execute_result"
    }
   ],
   "source": [
    "re.sub('\\s+','_', text)"
   ]
  },
  {
   "cell_type": "markdown",
   "metadata": {},
   "source": [
    "### Now correct your `normalize_cols` function\n",
    "\n",
    "*Hint: Copy and paste the last `normalize_cols` function to change it.*"
   ]
  },
  {
   "cell_type": "code",
   "execution_count": 487,
   "metadata": {},
   "outputs": [],
   "source": [
    "def normalize_cols(dataframe):\n",
    "    \"\"\"\n",
    "    Receive a dataframe, get its columns, put it in lower \n",
    "    case, strip leading and trailing spaces. The inner remaining \n",
    "    spaces are then substituted by underlines (consecutive spaces\n",
    "    are ignored).\n",
    "    \"\"\"\n",
    "    colnames = dataframe.columns\n",
    "    lower_colnames = [col.lower().strip() for col in colnames]\n",
    "\n",
    "    return [re.sub('\\s+', '_', col) for col in lower_colnames]"
   ]
  },
  {
   "cell_type": "markdown",
   "metadata": {},
   "source": [
    "### Again, test your results.\n",
    "\n",
    "Now, sometimes some column names should have smaller sizes (because you are removing consecutive spaces)"
   ]
  },
  {
   "cell_type": "code",
   "execution_count": 488,
   "metadata": {},
   "outputs": [
    {
     "data": {
      "text/plain": [
       "['eabóébcfbcbb',\n",
       " 'cfdcdáaedbfc',\n",
       " 'fcdaécfab_eb',\n",
       " 'fcadbbaa_aca',\n",
       " 'dbdacdaabae',\n",
       " 'bacedbeaffea',\n",
       " 'accba_abaábc',\n",
       " 'aebcadfaábóe',\n",
       " 'caedfdaafá',\n",
       " 'óedcbdcebacc']"
      ]
     },
     "execution_count": 488,
     "metadata": {},
     "output_type": "execute_result"
    }
   ],
   "source": [
    "normalize_cols(create_weird_dataframe())"
   ]
  },
  {
   "cell_type": "markdown",
   "metadata": {},
   "source": [
    "## Last step: remove accents"
   ]
  },
  {
   "cell_type": "markdown",
   "metadata": {},
   "source": [
    "The last step consists in removing accents from the strings.\n",
    "\n",
    "Import the package `unidecode` to use its module also called `unidecode` to remove accents. Test on the word below."
   ]
  },
  {
   "cell_type": "code",
   "execution_count": 484,
   "metadata": {},
   "outputs": [],
   "source": [
    "from unidecode import unidecode"
   ]
  },
  {
   "cell_type": "code",
   "execution_count": 485,
   "metadata": {},
   "outputs": [],
   "source": [
    "text = 'aéóúaorowó'"
   ]
  },
  {
   "cell_type": "code",
   "execution_count": 486,
   "metadata": {},
   "outputs": [
    {
     "data": {
      "text/plain": [
       "'aeouaorowo'"
      ]
     },
     "execution_count": 486,
     "metadata": {},
     "output_type": "execute_result"
    }
   ],
   "source": [
    "unidecode(text)"
   ]
  },
  {
   "cell_type": "markdown",
   "metadata": {},
   "source": [
    "### Now remove the accents for each column name in your `normalized_cols` function.\n",
    "\n",
    "*Hint: Copy and paste the last `normalize_cols` function to change it.*"
   ]
  },
  {
   "cell_type": "code",
   "execution_count": 489,
   "metadata": {},
   "outputs": [],
   "source": [
    "def normalize_cols(dataframe):\n",
    "    \"\"\"\n",
    "    Receive a dataframe, get its columns, put it in lower \n",
    "    case and strip leading and trailing spaces. The inner remaining \n",
    "    spaces are then substituted by underlines (consecutive spaces\n",
    "    are ignored).\n",
    "    \"\"\"\n",
    "    colnames = dataframe.columns\n",
    "    lower_colnames = [col.lower().strip() for col in colnames]\n",
    "\n",
    "    return [unidecode(re.sub('\\s+', '_', col)) for col in lower_colnames]"
   ]
  },
  {
   "cell_type": "markdown",
   "metadata": {},
   "source": [
    "### Test your results"
   ]
  },
  {
   "cell_type": "code",
   "execution_count": 497,
   "metadata": {},
   "outputs": [
    {
     "data": {
      "text/plain": [
       "['fefebbbaeca',\n",
       " 'ofbaccabfbcb',\n",
       " 'dcbeec_aaaad',\n",
       " 'ebcddacabcbd',\n",
       " 'ceaaadbabeba',\n",
       " 'adaaedaaefa',\n",
       " 'bae_dcfebbad',\n",
       " 'fbeaaeaabecf',\n",
       " 'cdecebedaafa',\n",
       " 'cbaafabedce']"
      ]
     },
     "execution_count": 497,
     "metadata": {},
     "output_type": "execute_result"
    }
   ],
   "source": [
    "normalize_cols(create_weird_dataframe())"
   ]
  },
  {
   "cell_type": "markdown",
   "metadata": {},
   "source": [
    "## Good job. \n",
    "\n",
    "Right now you have a function that receives a dataframe and returns its columns names with a good formatting."
   ]
  },
  {
   "cell_type": "markdown",
   "metadata": {},
   "source": [
    "# Creating our own dataframe."
   ]
  },
  {
   "cell_type": "code",
   "execution_count": 578,
   "metadata": {},
   "outputs": [],
   "source": [
    "from pandas import DataFrame"
   ]
  },
  {
   "cell_type": "markdown",
   "metadata": {},
   "source": [
    "A dataframe is just a simple class. It contains its own attributes and methods. \n",
    "\n",
    "When you create a pd.DataFrame() you are just instantiating the DataFrame class as an object that you can store in a variable. From this point onwards, you have access to all DataFrame class attributes (`.columns` for example) and methods (`.isna()` for example). We've been using those since always! "
   ]
  },
  {
   "cell_type": "markdown",
   "metadata": {},
   "source": [
    "If we wish, we could create our own class inheriting everything from a DataFrame class."
   ]
  },
  {
   "cell_type": "code",
   "execution_count": null,
   "metadata": {},
   "outputs": [],
   "source": [
    "class myDataFrame(DataFrame):\n",
    "    pass\n"
   ]
  },
  {
   "cell_type": "code",
   "execution_count": null,
   "metadata": {},
   "outputs": [],
   "source": []
  },
  {
   "cell_type": "code",
   "execution_count": 575,
   "metadata": {},
   "outputs": [],
   "source": [
    "class myDataFrame(DataFrame):\n",
    "    \n",
    "    \n",
    "    def normalize_cols(self):\n",
    "        \"\"\"\n",
    "        Receive a dataframe, get its columns, put it in lower \n",
    "        case and strip leading and trailing spaces. The inner remaining \n",
    "        spaces are then substituted by underlines (consecutive spaces\n",
    "        are ignored).\n",
    "        \"\"\"\n",
    "        colnames = self.columns\n",
    "        lower_colnames = [col.lower().strip() for col in colnames]\n",
    "\n",
    "        self.columns = [unidecode(re.sub('\\s+', '_', col)) for col in lower_colnames]\n",
    "        \n",
    "        return self"
   ]
  },
  {
   "cell_type": "code",
   "execution_count": 576,
   "metadata": {},
   "outputs": [],
   "source": [
    "df = myDataFrame(create_weird_dataframe())"
   ]
  },
  {
   "cell_type": "code",
   "execution_count": 577,
   "metadata": {},
   "outputs": [
    {
     "data": {
      "text/html": [
       "<div>\n",
       "<style scoped>\n",
       "    .dataframe tbody tr th:only-of-type {\n",
       "        vertical-align: middle;\n",
       "    }\n",
       "\n",
       "    .dataframe tbody tr th {\n",
       "        vertical-align: top;\n",
       "    }\n",
       "\n",
       "    .dataframe thead th {\n",
       "        text-align: right;\n",
       "    }\n",
       "</style>\n",
       "<table border=\"1\" class=\"dataframe\">\n",
       "  <thead>\n",
       "    <tr style=\"text-align: right;\">\n",
       "      <th></th>\n",
       "      <th>cfbbacaabobb</th>\n",
       "      <th>aeaeaaaacbdb</th>\n",
       "      <th>c_afeabeobaa</th>\n",
       "      <th>adbafebaaccc</th>\n",
       "      <th>ddfcbceaba</th>\n",
       "      <th>eccddaeeabae</th>\n",
       "      <th>edccbfabcfda</th>\n",
       "      <th>afadbaafcbfb</th>\n",
       "      <th>ebfebafbeba</th>\n",
       "      <th>f_c_aafddbcc</th>\n",
       "    </tr>\n",
       "  </thead>\n",
       "  <tbody>\n",
       "    <tr>\n",
       "      <th>0</th>\n",
       "      <td>0.472835</td>\n",
       "      <td>0.848847</td>\n",
       "      <td>0.906653</td>\n",
       "      <td>0.903822</td>\n",
       "      <td>0.109248</td>\n",
       "      <td>0.786137</td>\n",
       "      <td>0.746215</td>\n",
       "      <td>0.910873</td>\n",
       "      <td>0.127374</td>\n",
       "      <td>0.254131</td>\n",
       "    </tr>\n",
       "    <tr>\n",
       "      <th>1</th>\n",
       "      <td>0.895307</td>\n",
       "      <td>0.824130</td>\n",
       "      <td>0.581754</td>\n",
       "      <td>0.677616</td>\n",
       "      <td>0.543269</td>\n",
       "      <td>0.693672</td>\n",
       "      <td>0.791333</td>\n",
       "      <td>0.296323</td>\n",
       "      <td>0.574805</td>\n",
       "      <td>0.010372</td>\n",
       "    </tr>\n",
       "    <tr>\n",
       "      <th>2</th>\n",
       "      <td>0.361676</td>\n",
       "      <td>0.568477</td>\n",
       "      <td>0.310177</td>\n",
       "      <td>0.932225</td>\n",
       "      <td>0.520980</td>\n",
       "      <td>0.366340</td>\n",
       "      <td>0.949068</td>\n",
       "      <td>0.457448</td>\n",
       "      <td>0.880520</td>\n",
       "      <td>0.229401</td>\n",
       "    </tr>\n",
       "    <tr>\n",
       "      <th>3</th>\n",
       "      <td>0.447290</td>\n",
       "      <td>0.587247</td>\n",
       "      <td>0.065008</td>\n",
       "      <td>0.232211</td>\n",
       "      <td>0.226403</td>\n",
       "      <td>0.882723</td>\n",
       "      <td>0.211655</td>\n",
       "      <td>0.888467</td>\n",
       "      <td>0.399023</td>\n",
       "      <td>0.018939</td>\n",
       "    </tr>\n",
       "    <tr>\n",
       "      <th>4</th>\n",
       "      <td>0.968006</td>\n",
       "      <td>0.730009</td>\n",
       "      <td>0.429434</td>\n",
       "      <td>0.491126</td>\n",
       "      <td>0.566500</td>\n",
       "      <td>0.005355</td>\n",
       "      <td>0.194978</td>\n",
       "      <td>0.040664</td>\n",
       "      <td>0.825781</td>\n",
       "      <td>0.002027</td>\n",
       "    </tr>\n",
       "    <tr>\n",
       "      <th>5</th>\n",
       "      <td>0.535290</td>\n",
       "      <td>0.106083</td>\n",
       "      <td>0.238623</td>\n",
       "      <td>0.833247</td>\n",
       "      <td>0.330043</td>\n",
       "      <td>0.240625</td>\n",
       "      <td>0.428158</td>\n",
       "      <td>0.543237</td>\n",
       "      <td>0.823002</td>\n",
       "      <td>0.878882</td>\n",
       "    </tr>\n",
       "    <tr>\n",
       "      <th>6</th>\n",
       "      <td>0.182044</td>\n",
       "      <td>0.509740</td>\n",
       "      <td>0.253705</td>\n",
       "      <td>0.103030</td>\n",
       "      <td>0.600900</td>\n",
       "      <td>0.033798</td>\n",
       "      <td>0.184457</td>\n",
       "      <td>0.235554</td>\n",
       "      <td>0.116627</td>\n",
       "      <td>0.185139</td>\n",
       "    </tr>\n",
       "    <tr>\n",
       "      <th>7</th>\n",
       "      <td>0.094324</td>\n",
       "      <td>0.666160</td>\n",
       "      <td>0.510271</td>\n",
       "      <td>0.538886</td>\n",
       "      <td>0.831680</td>\n",
       "      <td>0.483634</td>\n",
       "      <td>0.756369</td>\n",
       "      <td>0.750077</td>\n",
       "      <td>0.981544</td>\n",
       "      <td>0.022830</td>\n",
       "    </tr>\n",
       "    <tr>\n",
       "      <th>8</th>\n",
       "      <td>0.193140</td>\n",
       "      <td>0.694843</td>\n",
       "      <td>0.468497</td>\n",
       "      <td>0.474393</td>\n",
       "      <td>0.753057</td>\n",
       "      <td>0.839238</td>\n",
       "      <td>0.163925</td>\n",
       "      <td>0.418921</td>\n",
       "      <td>0.708624</td>\n",
       "      <td>0.617461</td>\n",
       "    </tr>\n",
       "    <tr>\n",
       "      <th>9</th>\n",
       "      <td>0.918850</td>\n",
       "      <td>0.914129</td>\n",
       "      <td>0.665494</td>\n",
       "      <td>0.702666</td>\n",
       "      <td>0.302457</td>\n",
       "      <td>0.492509</td>\n",
       "      <td>0.922612</td>\n",
       "      <td>0.405814</td>\n",
       "      <td>0.980236</td>\n",
       "      <td>0.543627</td>\n",
       "    </tr>\n",
       "  </tbody>\n",
       "</table>\n",
       "</div>"
      ],
      "text/plain": [
       "   cfbbacaabobb  aeaeaaaacbdb  c_afeabeobaa  adbafebaaccc  ddfcbceaba  \\\n",
       "0      0.472835      0.848847      0.906653      0.903822    0.109248   \n",
       "1      0.895307      0.824130      0.581754      0.677616    0.543269   \n",
       "2      0.361676      0.568477      0.310177      0.932225    0.520980   \n",
       "3      0.447290      0.587247      0.065008      0.232211    0.226403   \n",
       "4      0.968006      0.730009      0.429434      0.491126    0.566500   \n",
       "5      0.535290      0.106083      0.238623      0.833247    0.330043   \n",
       "6      0.182044      0.509740      0.253705      0.103030    0.600900   \n",
       "7      0.094324      0.666160      0.510271      0.538886    0.831680   \n",
       "8      0.193140      0.694843      0.468497      0.474393    0.753057   \n",
       "9      0.918850      0.914129      0.665494      0.702666    0.302457   \n",
       "\n",
       "   eccddaeeabae  edccbfabcfda  afadbaafcbfb  ebfebafbeba  f_c_aafddbcc  \n",
       "0      0.786137      0.746215      0.910873     0.127374      0.254131  \n",
       "1      0.693672      0.791333      0.296323     0.574805      0.010372  \n",
       "2      0.366340      0.949068      0.457448     0.880520      0.229401  \n",
       "3      0.882723      0.211655      0.888467     0.399023      0.018939  \n",
       "4      0.005355      0.194978      0.040664     0.825781      0.002027  \n",
       "5      0.240625      0.428158      0.543237     0.823002      0.878882  \n",
       "6      0.033798      0.184457      0.235554     0.116627      0.185139  \n",
       "7      0.483634      0.756369      0.750077     0.981544      0.022830  \n",
       "8      0.839238      0.163925      0.418921     0.708624      0.617461  \n",
       "9      0.492509      0.922612      0.405814     0.980236      0.543627  "
      ]
     },
     "execution_count": 577,
     "metadata": {},
     "output_type": "execute_result"
    }
   ],
   "source": [
    "df.normalize_cols()"
   ]
  },
  {
   "cell_type": "markdown",
   "metadata": {},
   "source": [
    "## Understanding even more the `self` argument\n",
    "\n",
    "Now change your method to return the dataframe itself. That is, return the `self` argument this time and see the results!"
   ]
  },
  {
   "cell_type": "code",
   "execution_count": null,
   "metadata": {},
   "outputs": [],
   "source": []
  },
  {
   "cell_type": "code",
   "execution_count": null,
   "metadata": {},
   "outputs": [],
   "source": []
  },
  {
   "cell_type": "code",
   "execution_count": null,
   "metadata": {},
   "outputs": [],
   "source": []
  },
  {
   "cell_type": "code",
   "execution_count": null,
   "metadata": {},
   "outputs": [],
   "source": []
  },
  {
   "cell_type": "markdown",
   "metadata": {},
   "source": [
    "# Challenge 1"
   ]
  },
  {
   "cell_type": "markdown",
   "metadata": {},
   "source": [
    "## Creating a class"
   ]
  },
  {
   "cell_type": "markdown",
   "metadata": {},
   "source": [
    "First of all, let's create a simple class. Name this class `Car`. ([PEP8](https://www.python.org/dev/peps/pep-0008/#class-names) suggests using CamelCase for class names, i.e., using the first letter of each name as upper-case.)\n",
    "\n",
    "That should be as simple as possible. Use the class syntax to create it and its content should be only the \n",
    "```python \n",
    "pass\n",
    "```\n",
    "statement.\n",
    "\n",
    "\n",
    "The `pass` statement is used just as a placeholder. This will be a class that doesn't do anything (yet)."
   ]
  },
  {
   "cell_type": "code",
   "execution_count": 585,
   "metadata": {},
   "outputs": [],
   "source": [
    "# your code here"
   ]
  },
  {
   "cell_type": "code",
   "execution_count": 586,
   "metadata": {},
   "outputs": [],
   "source": [
    "class Car:\n",
    "    pass"
   ]
  },
  {
   "cell_type": "code",
   "execution_count": 587,
   "metadata": {},
   "outputs": [],
   "source": [
    "my_car = Car()"
   ]
  },
  {
   "cell_type": "markdown",
   "metadata": {},
   "source": [
    "## Let's think of which attributes should a car have\n",
    "\n",
    "Think of attributes that are intrinsic of a car. Think of 5 attributes that all cars have and their possible values. Write down these 5 attributes for later use."
   ]
  },
  {
   "cell_type": "code",
   "execution_count": 642,
   "metadata": {},
   "outputs": [],
   "source": [
    "# write the attributes name you've chosen as a comment here."
   ]
  },
  {
   "cell_type": "markdown",
   "metadata": {},
   "source": [
    "\n",
    "We will create the `__init(self,)__` special method. This is the first thing that is run when you instantiate a new object (by calling `Car()` for example).\n",
    "\n",
    "So each object that you are creating will instantly do whatever operation you perfom inside `__init(self,)__`. If you create new attributes over there, it will be accessible as soon as you create it. If you, instead, run some internal methods, it will perform as soon as the variable is created.\n",
    "\n",
    "Let's check that."
   ]
  },
  {
   "cell_type": "markdown",
   "metadata": {},
   "source": [
    "### Create a `__init__(self)` special method inside your `Car` class and then perform a `for loop`  inside of it. \n"
   ]
  },
  {
   "cell_type": "markdown",
   "metadata": {},
   "source": [
    "To see the what happens when you initialize your class when a `__init__(self)` method exists, define this function and plug the following piece of code inside of it.\n",
    "\n",
    "```python\n",
    "from tqdm.auto import tqdm\n",
    "import time\n",
    "\n",
    "for i in tqdm(range(10), desc='__init__ is running, yay'):\n",
    "    time.sleep(.1)\n",
    "```"
   ]
  },
  {
   "cell_type": "code",
   "execution_count": 638,
   "metadata": {},
   "outputs": [],
   "source": [
    "# your code here"
   ]
  },
  {
   "cell_type": "code",
   "execution_count": 639,
   "metadata": {},
   "outputs": [],
   "source": [
    "class Car:\n",
    "    def __init__(self):\n",
    "        from tqdm.auto import tqdm\n",
    "        import time\n",
    "        \n",
    "        for i in tqdm(range(10), desc='__init__ is running, yay'):\n",
    "            time.sleep(.1)"
   ]
  },
  {
   "cell_type": "markdown",
   "metadata": {},
   "source": [
    "### Afterwards, instantiate your `Car` class and see this beauty."
   ]
  },
  {
   "cell_type": "code",
   "execution_count": 637,
   "metadata": {},
   "outputs": [
    {
     "data": {
      "application/vnd.jupyter.widget-view+json": {
       "model_id": "58ae7afc946a434ba914a391517665ce",
       "version_major": 2,
       "version_minor": 0
      },
      "text/plain": [
       "HBox(children=(FloatProgress(value=0.0, description='__init__ is running, yay', max=10.0, style=ProgressStyle(…"
      ]
     },
     "metadata": {},
     "output_type": "display_data"
    },
    {
     "name": "stdout",
     "output_type": "stream",
     "text": [
      "\n"
     ]
    }
   ],
   "source": [
    "my_car = Car()"
   ]
  },
  {
   "cell_type": "markdown",
   "metadata": {},
   "source": [
    "## Understanding the self argument"
   ]
  },
  {
   "cell_type": "markdown",
   "metadata": {},
   "source": [
    "Now, below the `for loop` you've created, let's create the attributes of the `Car` class. Remember the attributes you wrote down earlier? Let's put them as arguments of the `__init__(self,)` function.\n",
    "\n",
    "Remember, the first argument of the `__init__(self,)` function should always be the `self` keyword. \n",
    "\n",
    "The `self` argument represents the object itself. That is a way for you to have access to the objects own attribute. \n"
   ]
  },
  {
   "cell_type": "markdown",
   "metadata": {},
   "source": [
    "### First, let's start creating one single attribute of this car."
   ]
  },
  {
   "cell_type": "markdown",
   "metadata": {},
   "source": [
    "Let's say you have chosen `name` as a car attribute (what? can't a car have a name?). \n",
    "\n",
    "If you want your class to receive a specific car name as an argument, you have to put this variable as the argument of the `__init__` function. So, to add `name`, the results of your special function definition would be:\n",
    "\n",
    "```python\n",
    "def __init__(self, name):\n",
    "    ...\n",
    "```\n",
    "\n",
    "Now, when you instantiate your Car class, the syntax would be similar to calling a function (which, by now, you should now that it is what you are effectively doing - you are calling the __init__ method), so the syntax would be:\n",
    "\n",
    "```python\n",
    "my_car = Car('jeguinho')\n",
    "```\n",
    "\n",
    "If you don't specify an argument, the python interpreter will complain that your class requires one argument (try that - if you don't try it now, it is not a problem, you'll try in future, even when you don't want to).\n",
    "\n"
   ]
  },
  {
   "cell_type": "markdown",
   "metadata": {},
   "source": [
    "### Now let's store that new argument\n",
    "\n",
    "By now, you are only receiving the name of the car as an argument, but you are not doing anything specifically with that variable called `name`.\n",
    "\n",
    "Let's store that in the object. That's the first use of the `self` keyword.\n",
    "\n",
    "To store the variable in a way that the user can access via a `car.SOMETHING`, you have to specify that the object itself is receiving the attribute `name` (for example)\n",
    "\n",
    "Then, **create a variable called `name` that receives the argument `name`** (keep in mind that the name of the variable need not necessarily be the same, you could assing the argument `name` to an attribute called `chimpanze` for example).\n",
    "\n",
    "Also **create the other 5 attributes that you previously had in mind**\n"
   ]
  },
  {
   "cell_type": "code",
   "execution_count": null,
   "metadata": {},
   "outputs": [],
   "source": [
    "# your code here"
   ]
  },
  {
   "cell_type": "markdown",
   "metadata": {},
   "source": [
    "### Access the attribute\n",
    "\n",
    "You should now be able to access the object's attribute once you instantiate it as `my_car.name`\n",
    "\n",
    "You can try to write `my_car.<TAB>` to check what attributes or methods your object contains."
   ]
  },
  {
   "cell_type": "code",
   "execution_count": null,
   "metadata": {},
   "outputs": [],
   "source": []
  },
  {
   "cell_type": "markdown",
   "metadata": {},
   "source": [
    "## Understanding special methods"
   ]
  },
  {
   "cell_type": "markdown",
   "metadata": {},
   "source": [
    "Special methods are the ones that start with double underlines (usually called `dunder`), for example the `__init__` method, the `__doc__` method or `__repr__` method (called as `dunder init`, `dunder doc`, `dunder repr`)."
   ]
  },
  {
   "cell_type": "code",
   "execution_count": null,
   "metadata": {},
   "outputs": [],
   "source": []
  },
  {
   "cell_type": "markdown",
   "metadata": {},
   "source": [
    "The `__repr__` method is responsible to show how your class will be displayed on screen when you display it.\n",
    "Let's create a `__repr__(self)` function on our `Car` class that returns the following string below:\n",
    "\n",
    "```python\n",
    "    car = f'''\n",
    "                  ______--------___\n",
    "                 /|             / |\n",
    "      o___________|_\\__________/__|\n",
    "     ]|___     |  |=   ||  =|___  |\"\n",
    "     //   \\\\    |  |____||_///   \\\\|\"\n",
    "    |  X  |\\--------------/|  X  |\\\"\n",
    "     \\___/                  \\___/\n",
    "    '''\n",
    "```\n",
    "\n",
    "Your class should now have two special methods, `__init__` and `__repr__`"
   ]
  },
  {
   "cell_type": "markdown",
   "metadata": {},
   "source": [
    "### Now instantiate your Car class again"
   ]
  },
  {
   "cell_type": "code",
   "execution_count": null,
   "metadata": {},
   "outputs": [],
   "source": []
  },
  {
   "cell_type": "markdown",
   "metadata": {},
   "source": [
    "### And check what happens when you print your object on screen"
   ]
  },
  {
   "cell_type": "code",
   "execution_count": null,
   "metadata": {},
   "outputs": [],
   "source": [
    "## The self "
   ]
  },
  {
   "cell_type": "code",
   "execution_count": null,
   "metadata": {},
   "outputs": [],
   "source": []
  },
  {
   "cell_type": "code",
   "execution_count": 656,
   "metadata": {},
   "outputs": [],
   "source": [
    "class Car:\n",
    "    \n",
    "    def __init__(self, car_name):\n",
    "        self.car_name = car_name\n",
    "    \n",
    "    def __repr__(self):\n",
    "        \n",
    "        car = f'''\n",
    "                      ______--------___\n",
    "                     /|             / |\n",
    "          o___________|_\\__________/__|\n",
    "         ]|___     |  |=   ||  =|___  |\"\n",
    "         //   \\\\    |  |____||_///   \\\\|\"\n",
    "        |  X  |\\--------------/|  X  |\\\"\n",
    "         \\___/                  \\___/\n",
    "                 {self.car_name}\n",
    "        '''\n",
    "        \n",
    "        return car"
   ]
  },
  {
   "cell_type": "code",
   "execution_count": 657,
   "metadata": {},
   "outputs": [],
   "source": [
    "my_car = Car('jequitinhonha')"
   ]
  },
  {
   "cell_type": "code",
   "execution_count": 658,
   "metadata": {},
   "outputs": [
    {
     "data": {
      "text/plain": [
       "\n",
       "                      ______--------___\n",
       "                     /|             / |\n",
       "          o___________|_\\__________/__|\n",
       "         ]|___     |  |=   ||  =|___  |\"\n",
       "         //   \\    |  |____||_///   \\|\"\n",
       "        |  X  |\\--------------/|  X  |\"\n",
       "         \\___/                  \\___/\n",
       "                 jequitinhonha\n",
       "        "
      ]
     },
     "execution_count": 658,
     "metadata": {},
     "output_type": "execute_result"
    }
   ],
   "source": [
    "my_car"
   ]
  },
  {
   "cell_type": "code",
   "execution_count": null,
   "metadata": {},
   "outputs": [],
   "source": []
  }
 ],
 "metadata": {
  "kernelspec": {
   "display_name": "Python 3",
   "language": "python",
   "name": "python3"
  },
  "language_info": {
   "codemirror_mode": {
    "name": "ipython",
    "version": 3
   },
   "file_extension": ".py",
   "mimetype": "text/x-python",
   "name": "python",
   "nbconvert_exporter": "python",
   "pygments_lexer": "ipython3",
   "version": "3.8.0"
  },
  "toc": {
   "base_numbering": 1,
   "nav_menu": {},
   "number_sections": true,
   "sideBar": true,
   "skip_h1_title": false,
   "title_cell": "Table of Contents",
   "title_sidebar": "Contents",
   "toc_cell": false,
   "toc_position": {},
   "toc_section_display": true,
   "toc_window_display": false
  }
 },
 "nbformat": 4,
 "nbformat_minor": 2
}
