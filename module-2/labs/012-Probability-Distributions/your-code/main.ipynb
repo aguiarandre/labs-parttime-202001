{
 "cells": [
  {
   "cell_type": "markdown",
   "metadata": {},
   "source": [
    "import numpy as np\n",
    "# ^^^ pyforest auto-imports - don't write above this line\n",
    "# Before your start:\n",
    "- Read the README.md file.\n",
    "- Comment as much as you can and use the resources (README.md file).\n",
    "- Happy learning!"
   ]
  },
  {
   "cell_type": "code",
   "execution_count": 1,
   "metadata": {
    "ExecuteTime": {
     "end_time": "2020-05-09T12:51:47.556451Z",
     "start_time": "2020-05-09T12:51:47.318088Z"
    }
   },
   "outputs": [],
   "source": [
    "# Libraries\n",
    "import matplotlib.pyplot as plt"
   ]
  },
  {
   "cell_type": "markdown",
   "metadata": {},
   "source": [
    "# Challenge 1 - Generate and Plot Normal Distributions\n",
    "#### Step 1: Generate samples and test normal distribution.\n",
    "\n",
    "Use mean=50, standard_deviation=5, and sample_size=[10, 50, 500, 5000] to generate 4 random samples that are normally distributed.\n",
    "\n",
    "**Hint**: Read the documentation for `scipy.stats.norm.rvs`. The function will help you create the normal random samples."
   ]
  },
  {
   "cell_type": "code",
   "execution_count": 49,
   "metadata": {
    "ExecuteTime": {
     "end_time": "2020-05-09T13:01:29.228962Z",
     "start_time": "2020-05-09T13:01:29.224972Z"
    }
   },
   "outputs": [],
   "source": [
    "from scipy.stats import norm, beta"
   ]
  },
  {
   "cell_type": "code",
   "execution_count": 56,
   "metadata": {
    "ExecuteTime": {
     "end_time": "2020-05-09T13:02:59.397893Z",
     "start_time": "2020-05-09T13:02:59.393904Z"
    }
   },
   "outputs": [],
   "source": [
    "# your code here\n",
    "\n",
    "mean = 50\n",
    "standard_deviation = 5\n",
    "sample_size = [10, 50, 500, 5000, 500000]\n",
    "\n",
    "normal_distribution = norm(loc=50, scale=5)"
   ]
  },
  {
   "cell_type": "code",
   "execution_count": 57,
   "metadata": {
    "ExecuteTime": {
     "end_time": "2020-05-09T13:02:59.647933Z",
     "start_time": "2020-05-09T13:02:59.642919Z"
    }
   },
   "outputs": [
    {
     "data": {
      "text/plain": [
       "array([49.99537513, 62.0502686 , 48.05590049, 43.91954078, 60.07197814,\n",
       "       54.04276292, 43.35150455, 52.13701238, 52.86870022, 55.47145525])"
      ]
     },
     "execution_count": 57,
     "metadata": {},
     "output_type": "execute_result"
    }
   ],
   "source": [
    "normal_distribution.rvs(size=10)"
   ]
  },
  {
   "cell_type": "code",
   "execution_count": 58,
   "metadata": {
    "ExecuteTime": {
     "end_time": "2020-05-09T13:02:59.876156Z",
     "start_time": "2020-05-09T13:02:59.870143Z"
    }
   },
   "outputs": [
    {
     "data": {
      "application/javascript": [
       "\n",
       "        if (window._pyforest_update_imports_cell) { window._pyforest_update_imports_cell('import numpy as np'); }\n",
       "    "
      ],
      "text/plain": [
       "<IPython.core.display.Javascript object>"
      ]
     },
     "metadata": {},
     "output_type": "display_data"
    },
    {
     "data": {
      "text/plain": [
       "array([57.91554949, 57.39951245, 49.80723934, 48.42933379, 52.26232405,\n",
       "       49.63166384, 50.4165826 , 52.22050612, 54.31470033, 47.20418803])"
      ]
     },
     "execution_count": 58,
     "metadata": {},
     "output_type": "execute_result"
    }
   ],
   "source": [
    "import numpy\n",
    "\n",
    "np.random.normal(loc=50, scale=5, size=10)"
   ]
  },
  {
   "cell_type": "markdown",
   "metadata": {},
   "source": [
    "#### Step 2: Plot normal distributions.\n",
    "\n",
    "To check the shape of the samples you have just created, you can use matplotlib. For example, you can use it to plot a histogram of each sample. \n",
    "\n",
    "If you did, your outputs would be really similar to the ones below:\n",
    "\n",
    "![normal distributions with different sample sizes](../images/ch-1.png)"
   ]
  },
  {
   "cell_type": "markdown",
   "metadata": {},
   "source": [
    "#### Compare the distributions above. What do you observe? Explain with the Central Limit Theorem."
   ]
  },
  {
   "cell_type": "markdown",
   "metadata": {},
   "source": [
    "This is not concerned to Central Limit Theorem. The Central Limit Theorem says that given **ANY** distribution, if you take a sample and take its mean, then as you increase sample size the distribution tends to a normal distribution. However, in this case, we are sampling from a normal distribution, and thus, of course, if we increase the sample size, the distribution tends to a normal, but we are not taking any average here. For example, if we've changed the distribution to a `beta` distribution for example, the results wouldn't turn into a normal, but rather into a closer beta distribution.\n",
    "\n"
   ]
  },
  {
   "cell_type": "code",
   "execution_count": 207,
   "metadata": {
    "ExecuteTime": {
     "end_time": "2020-05-09T14:25:14.777876Z",
     "start_time": "2020-05-09T14:25:14.774894Z"
    }
   },
   "outputs": [],
   "source": [
    "from scipy.stats import beta"
   ]
  },
  {
   "cell_type": "code",
   "execution_count": 210,
   "metadata": {
    "ExecuteTime": {
     "end_time": "2020-05-09T14:27:13.313685Z",
     "start_time": "2020-05-09T14:27:12.650765Z"
    }
   },
   "outputs": [
    {
     "data": {
      "image/png": "[encoded data removed]",
      "text/plain": [
       "<Figure size 1296x288 with 5 Axes>"
      ]
     },
     "metadata": {
      "needs_background": "light"
     },
     "output_type": "display_data"
    }
   ],
   "source": [
    "import seaborn as sns\n",
    "fig, axes =  plt.subplots(1, 5, figsize=(18,4))\n",
    "\n",
    "beta_distribution = beta(10, 1)\n",
    "\n",
    "for i, each_sample in enumerate(sample_size):\n",
    "    sns.distplot(beta_distribution.rvs(size=each_sample), kde=False, bins=50, ax=axes[i])"
   ]
  },
  {
   "cell_type": "markdown",
   "metadata": {},
   "source": [
    "#### Bonus: Plot normal distributions.\n",
    "\n",
    "Even though you still don't know how to use matplotlib, as a bonus challenge, you can try to reproduce the plot above using the samples you have created. This plotting library will be introduced later this week, so don't worry if you don't manage to get the results you want now: you can always come back to solve this challenge later."
   ]
  },
  {
   "cell_type": "code",
   "execution_count": 206,
   "metadata": {
    "ExecuteTime": {
     "end_time": "2020-05-09T14:22:18.508131Z",
     "start_time": "2020-05-09T14:22:17.688777Z"
    }
   },
   "outputs": [
    {
     "data": {
      "image/png": "[encoded data removed]",
      "text/plain": [
       "<Figure size 1296x288 with 5 Axes>"
      ]
     },
     "metadata": {
      "needs_background": "light"
     },
     "output_type": "display_data"
    }
   ],
   "source": [
    "import seaborn as sns\n",
    "fig, axes =  plt.subplots(1, 5, figsize=(18,4))\n",
    "\n",
    "for i, each_sample in enumerate(sample_size):\n",
    "    sns.distplot(normal_distribution.rvs(size=each_sample), kde=False, bins=50, ax=axes[i])"
   ]
  },
  {
   "cell_type": "markdown",
   "metadata": {},
   "source": [
    "# Challenge 2 - Plot Probability Mass Function (PMF)"
   ]
  },
  {
   "cell_type": "markdown",
   "metadata": {},
   "source": [
    "### Background knowledge\n",
    "\n",
    "[PMF](https://en.wikipedia.org/wiki/Probability_mass_function) shows the probability distribution of a **discrete random variable**. A [discrete random variable](https://en.wikipedia.org/wiki/Random_variable#Discrete_random_variable) has random numeric values that are not continuous. For example, the number of people in a household can only be integers but not floats. Therefore the number of people in a household is a discrete variable.\n",
    "\n",
    "### Challenge\n",
    "\n",
    "We assume that the probability of clicking an advertisement in a Youtube video is 0.15. We have a sample of 5 people who watched the video and we want to plot the PMF for a binomial distribution.\n",
    "\n",
    "#### Step 1: Create the binomial distribution mentioned above. Store the result in a variable called `dist`. \n",
    "**Hint**: use binom from `scipy.stats.binom`. This object takes *n* and *p* as shape parameters, where *n* is the number of independent experiments and *p* the probability of success of the experiment."
   ]
  },
  {
   "cell_type": "code",
   "execution_count": 211,
   "metadata": {
    "ExecuteTime": {
     "end_time": "2020-05-09T14:27:53.263408Z",
     "start_time": "2020-05-09T14:27:53.259419Z"
    }
   },
   "outputs": [],
   "source": [
    "# your code here\n",
    "\n",
    "from scipy.stats import binom\n",
    "\n",
    "p = 0.15\n",
    "n = 5\n",
    "\n",
    "dist = binom(n, p)"
   ]
  },
  {
   "cell_type": "markdown",
   "metadata": {},
   "source": [
    "#### Step 2: Plot the PMF of the distribution. \n",
    "To do it, run the code in the cell below. \n",
    "\n",
    "**Hint**: Your output should look like the one below:\n",
    "\n",
    "![binom 10](../images/ch-2.png)"
   ]
  },
  {
   "cell_type": "code",
   "execution_count": 212,
   "metadata": {
    "ExecuteTime": {
     "end_time": "2020-05-09T14:27:54.063966Z",
     "start_time": "2020-05-09T14:27:53.971214Z"
    }
   },
   "outputs": [
    {
     "data": {
      "image/png": "[encoded data removed]",
      "text/plain": [
       "<Figure size 432x288 with 1 Axes>"
      ]
     },
     "metadata": {
      "needs_background": "light"
     },
     "output_type": "display_data"
    }
   ],
   "source": [
    "# run this code\n",
    "x = range(n+1)\n",
    "\n",
    "fig, ax = plt.subplots(1, 1)\n",
    "\n",
    "plt.plot(x, dist.pmf(x), '-ko')\n",
    "plt.grid()\n",
    "plt.show()"
   ]
  },
  {
   "cell_type": "markdown",
   "metadata": {},
   "source": [
    "#### Step 3: Explain what you observe from the plot above."
   ]
  },
  {
   "cell_type": "markdown",
   "metadata": {},
   "source": [
    "This shows the probability of my success to happen exactly N times. So, if 5 viewers enter my video on youtube, and their probability of clicking an advertise is 15%, then what is the probability of exactly N viewers clicking on it. For instance, the probability of exactly 1 click is ~40%."
   ]
  },
  {
   "cell_type": "markdown",
   "metadata": {},
   "source": [
    "#### Step 4: Now plot PMF with 50, 500, and 5000 visitors.\n",
    "To plot the PMF, you can copy the code given above and replace variable `dist` for the name of the variables where you have stored the new binomial objects for 50, 500 and 5000 visitors."
   ]
  },
  {
   "cell_type": "code",
   "execution_count": 213,
   "metadata": {
    "ExecuteTime": {
     "end_time": "2020-05-09T14:27:55.898591Z",
     "start_time": "2020-05-09T14:27:55.807834Z"
    }
   },
   "outputs": [
    {
     "data": {
      "application/javascript": [
       "\n",
       "        if (window._pyforest_update_imports_cell) { window._pyforest_update_imports_cell('import numpy as np'); }\n",
       "    "
      ],
      "text/plain": [
       "<IPython.core.display.Javascript object>"
      ]
     },
     "metadata": {},
     "output_type": "display_data"
    },
    {
     "data": {
      "image/png": "[encoded data removed]",
      "text/plain": [
       "<Figure size 432x288 with 1 Axes>"
      ]
     },
     "metadata": {
      "needs_background": "light"
     },
     "output_type": "display_data"
    }
   ],
   "source": [
    "# your code here\n",
    "n = 100\n",
    "\n",
    "dist = binom(n, p)\n",
    "\n",
    "# run this code\n",
    "x = range(n+1)\n",
    "\n",
    "fig, ax = plt.subplots(1, 1)\n",
    "\n",
    "plt.plot(x, dist.pmf(x), 'ko')\n",
    "plt.xticks(np.arange(0, n+1, n/10))\n",
    "plt.grid()\n",
    "plt.show()"
   ]
  },
  {
   "cell_type": "code",
   "execution_count": 214,
   "metadata": {
    "ExecuteTime": {
     "end_time": "2020-05-09T14:27:56.359981Z",
     "start_time": "2020-05-09T14:27:56.355963Z"
    }
   },
   "outputs": [
    {
     "data": {
      "text/plain": [
       "0.8342328336830495"
      ]
     },
     "execution_count": 214,
     "metadata": {},
     "output_type": "execute_result"
    }
   ],
   "source": [
    "dist.cdf(20) - dist.cdf(10)"
   ]
  },
  {
   "cell_type": "markdown",
   "metadata": {},
   "source": [
    "#### Step 5: What did you notice from the distribution plots? Comment your findings."
   ]
  },
  {
   "cell_type": "markdown",
   "metadata": {},
   "source": [
    "One thing to notice is that as you increase the number of users, the chance of knowing exactly how many users will click diminishes, so you probably need to work with ranges (what's the probability of ~20-30 users to click when 50 users enter the video)"
   ]
  },
  {
   "cell_type": "markdown",
   "metadata": {},
   "source": [
    "# Challenge 3\n",
    "#### Step 1: Research the Poisson distribution. Write about your own understanding of the Poisson distribution."
   ]
  },
  {
   "cell_type": "markdown",
   "metadata": {},
   "source": [
    "The Poisson distribution explains the probability of an event to happen in a given fixed time frame. \n",
    "For example, if 5 buses passes on average in a range of 10 minutes, what would be the probability of passing - in the next 10 minutes - 2 buses \n",
    "\n",
    "\n"
   ]
  },
  {
   "cell_type": "markdown",
   "metadata": {},
   "source": [
    "#### Step 2: A website has an average of 300 visits per day. What is the probability of getting 320 visitors in a day?\n",
    "\n",
    "**Hint**: use `scipy.stats.poisson.pmf`."
   ]
  },
  {
   "cell_type": "code",
   "execution_count": 111,
   "metadata": {
    "ExecuteTime": {
     "end_time": "2020-05-09T13:27:23.713040Z",
     "start_time": "2020-05-09T13:27:23.708053Z"
    }
   },
   "outputs": [
    {
     "data": {
      "text/plain": [
       "0.011612348610402475"
      ]
     },
     "execution_count": 111,
     "metadata": {},
     "output_type": "execute_result"
    }
   ],
   "source": [
    "# your code here\n",
    "from scipy.stats import poisson\n",
    "\n",
    "mu = 300\n",
    "\n",
    "dist = poisson(mu)\n",
    "dist.pmf(320)"
   ]
  },
  {
   "cell_type": "markdown",
   "metadata": {},
   "source": [
    "#### Step 3: What is the probability of getting 60 visits?"
   ]
  },
  {
   "cell_type": "code",
   "execution_count": 112,
   "metadata": {
    "ExecuteTime": {
     "end_time": "2020-05-09T13:27:42.684581Z",
     "start_time": "2020-05-09T13:27:42.679595Z"
    }
   },
   "outputs": [
    {
     "data": {
      "text/plain": [
       "2.622743762294515e-64"
      ]
     },
     "execution_count": 112,
     "metadata": {},
     "output_type": "execute_result"
    }
   ],
   "source": [
    "# your code here\n",
    "dist.pmf(60)"
   ]
  },
  {
   "cell_type": "markdown",
   "metadata": {},
   "source": [
    "#### Step 4: Create a list to store the Poisson distribution probabilities for 0 to 1000 visitors. Store your list in a variable called `arr`."
   ]
  },
  {
   "cell_type": "code",
   "execution_count": 113,
   "metadata": {
    "ExecuteTime": {
     "end_time": "2020-05-09T13:28:08.753883Z",
     "start_time": "2020-05-09T13:28:08.749894Z"
    }
   },
   "outputs": [],
   "source": [
    "# your code here\n",
    "\n",
    "arr = dist.pmf(range(1001))"
   ]
  },
  {
   "cell_type": "markdown",
   "metadata": {},
   "source": [
    "#### Step 5: Plot the probabilities.\n",
    "To do it, run the code in the cell below. Your plot should look like the one below:\n",
    "\n",
    "![poisson distribution](../images/ch-3.png)"
   ]
  },
  {
   "cell_type": "code",
   "execution_count": 114,
   "metadata": {
    "ExecuteTime": {
     "end_time": "2020-05-09T13:28:11.262179Z",
     "start_time": "2020-05-09T13:28:11.164440Z"
    }
   },
   "outputs": [
    {
     "data": {
      "image/png": "[encoded data removed]",
      "text/plain": [
       "<Figure size 432x288 with 1 Axes>"
      ]
     },
     "metadata": {
      "needs_background": "light"
     },
     "output_type": "display_data"
    }
   ],
   "source": [
    "# run this code\n",
    "plt.plot(arr)\n",
    "plt.show()"
   ]
  },
  {
   "cell_type": "markdown",
   "metadata": {},
   "source": [
    "# Challenge 4 - Central Limit Theorem\n",
    "\n",
    "A delivery company needs 35 minutes to deliver a package, with a standard deviation of 8 minutes. Suppose that in one day, they deliver 200 packages.\n",
    "\n",
    "**Hint**: `stats.norm.cdf` can help you find the answers.\n",
    "\n",
    "#### Step 1: What is the probability that the mean delivery time today is between 30 and 35 minutes?"
   ]
  },
  {
   "cell_type": "code",
   "execution_count": 216,
   "metadata": {
    "ExecuteTime": {
     "end_time": "2020-05-09T14:32:30.905395Z",
     "start_time": "2020-05-09T14:32:30.898414Z"
    }
   },
   "outputs": [
    {
     "data": {
      "application/javascript": [
       "\n",
       "        if (window._pyforest_update_imports_cell) { window._pyforest_update_imports_cell('import numpy as np'); }\n",
       "    "
      ],
      "text/plain": [
       "<IPython.core.display.Javascript object>"
      ]
     },
     "metadata": {},
     "output_type": "display_data"
    },
    {
     "data": {
      "text/plain": [
       "0.5"
      ]
     },
     "execution_count": 216,
     "metadata": {},
     "output_type": "execute_result"
    }
   ],
   "source": [
    "# your code here\n",
    "\n",
    "mu = 35\n",
    "std = 8\n",
    "n = 200\n",
    "std_error = std/np.sqrt(n)\n",
    "\n",
    "\n",
    "dist = norm(mu, std_error)\n",
    "probabilidade_entre_30_35 = dist.cdf(35) - dist.cdf(30)\n",
    "probabilidade_entre_30_35"
   ]
  },
  {
   "cell_type": "markdown",
   "metadata": {},
   "source": [
    "#### Step 2: What is the probability that in total, it takes more than 115 hours to deliver all 200 packages?"
   ]
  },
  {
   "cell_type": "code",
   "execution_count": 217,
   "metadata": {
    "ExecuteTime": {
     "end_time": "2020-05-09T14:32:31.496282Z",
     "start_time": "2020-05-09T14:32:31.491294Z"
    }
   },
   "outputs": [
    {
     "data": {
      "text/plain": [
       "0.8116204410942089"
      ]
     },
     "execution_count": 217,
     "metadata": {},
     "output_type": "execute_result"
    }
   ],
   "source": [
    "# your code here\n",
    "\n",
    "minutes = 115 * 60 \n",
    "\n",
    "tempo_medio_por_pacote = minutes / n\n",
    "\n",
    "1 - dist.cdf(tempo_medio_por_pacote)"
   ]
  },
  {
   "cell_type": "code",
   "execution_count": 218,
   "metadata": {
    "ExecuteTime": {
     "end_time": "2020-05-09T14:32:32.057323Z",
     "start_time": "2020-05-09T14:32:31.931633Z"
    }
   },
   "outputs": [
    {
     "data": {
      "text/plain": [
       "<matplotlib.collections.LineCollection at 0x20e7bfd0748>"
      ]
     },
     "execution_count": 218,
     "metadata": {},
     "output_type": "execute_result"
    },
    {
     "data": {
      "image/png": "[encoded data removed]",
      "text/plain": [
       "<Figure size 432x288 with 1 Axes>"
      ]
     },
     "metadata": {
      "needs_background": "light"
     },
     "output_type": "display_data"
    }
   ],
   "source": [
    "sns.distplot(dist.rvs(size=1000))\n",
    "plt.vlines(34.5, 0, 1)"
   ]
  },
  {
   "cell_type": "markdown",
   "metadata": {},
   "source": [
    "# Challenge 5 - Normal Variables\n",
    "The value (in thousands) of the monthly sales of a publishing company follows a normal distribution with a mean equal to 200 and a standard deviation equal to 40.\n",
    "\n",
    "<div align=\"center\">$X → N(200,40)$</div>\n",
    "\n",
    "**Hint**: `stats.norm.cdf` can help you find the answers.\n",
    "\n",
    "#### Step 1: Find the probability that the monthly sales are more than 300."
   ]
  },
  {
   "cell_type": "code",
   "execution_count": 154,
   "metadata": {
    "ExecuteTime": {
     "end_time": "2020-05-09T13:51:08.730835Z",
     "start_time": "2020-05-09T13:51:08.725873Z"
    }
   },
   "outputs": [
    {
     "data": {
      "text/plain": [
       "0.006209665325776159"
      ]
     },
     "execution_count": 154,
     "metadata": {},
     "output_type": "execute_result"
    }
   ],
   "source": [
    "# your code here\n",
    "\n",
    "dist = norm(200, 40)\n",
    "1 - dist.cdf(300)"
   ]
  },
  {
   "cell_type": "markdown",
   "metadata": {},
   "source": [
    "#### Step 2: Find the probability that the monthly sales fall between 160 and 240."
   ]
  },
  {
   "cell_type": "code",
   "execution_count": 155,
   "metadata": {
    "ExecuteTime": {
     "end_time": "2020-05-09T13:53:11.664094Z",
     "start_time": "2020-05-09T13:53:11.659108Z"
    }
   },
   "outputs": [
    {
     "data": {
      "text/plain": [
       "0.6826894921370859"
      ]
     },
     "execution_count": 155,
     "metadata": {},
     "output_type": "execute_result"
    }
   ],
   "source": [
    "# your code here\n",
    "\n",
    "dist.cdf(240) - dist.cdf(160)"
   ]
  },
  {
   "cell_type": "markdown",
   "metadata": {},
   "source": [
    "#### Step 3: Find the probability that the monthly sales do not exceed 150."
   ]
  },
  {
   "cell_type": "code",
   "execution_count": 156,
   "metadata": {
    "ExecuteTime": {
     "end_time": "2020-05-09T13:53:52.120511Z",
     "start_time": "2020-05-09T13:53:52.115495Z"
    }
   },
   "outputs": [
    {
     "data": {
      "text/plain": [
       "0.10564977366685535"
      ]
     },
     "execution_count": 156,
     "metadata": {},
     "output_type": "execute_result"
    }
   ],
   "source": [
    "# your code here\n",
    "\n",
    "dist.cdf(150)"
   ]
  },
  {
   "cell_type": "markdown",
   "metadata": {},
   "source": [
    "#### Step 4: Find the probability that the monthly sales exceed 3000."
   ]
  },
  {
   "cell_type": "code",
   "execution_count": 158,
   "metadata": {
    "ExecuteTime": {
     "end_time": "2020-05-09T13:54:13.148331Z",
     "start_time": "2020-05-09T13:54:13.144341Z"
    }
   },
   "outputs": [
    {
     "data": {
      "text/plain": [
       "0.0"
      ]
     },
     "execution_count": 158,
     "metadata": {},
     "output_type": "execute_result"
    }
   ],
   "source": [
    "# your code here\n",
    "1 - dist.cdf(3000)"
   ]
  },
  {
   "cell_type": "markdown",
   "metadata": {},
   "source": [
    "# Challenge 6 - Poisson distribution\n",
    "The mean number of violent robberies per month that are registered in a particular barrio is 4.\n",
    "\n",
    "**Hint**: `stats.poisson.cdf` can help you find the answers.\n",
    "\n",
    "#### Step 1: Find the probability that in a particular month there is no violent robbery."
   ]
  },
  {
   "cell_type": "code",
   "execution_count": 172,
   "metadata": {
    "ExecuteTime": {
     "end_time": "2020-05-09T14:03:24.171290Z",
     "start_time": "2020-05-09T14:03:24.166304Z"
    }
   },
   "outputs": [
    {
     "data": {
      "text/plain": [
       "0.01831563888873418"
      ]
     },
     "execution_count": 172,
     "metadata": {},
     "output_type": "execute_result"
    }
   ],
   "source": [
    "# your code here\n",
    "\n",
    "dist = poisson(4)\n",
    "dist.pmf(0)"
   ]
  },
  {
   "cell_type": "markdown",
   "metadata": {},
   "source": [
    "#### Step 2: Find the probability that there are at least 1 robbery in a given month."
   ]
  },
  {
   "cell_type": "code",
   "execution_count": 173,
   "metadata": {
    "ExecuteTime": {
     "end_time": "2020-05-09T14:03:24.513887Z",
     "start_time": "2020-05-09T14:03:24.508873Z"
    }
   },
   "outputs": [
    {
     "data": {
      "text/plain": [
       "0.9084218055563291"
      ]
     },
     "execution_count": 173,
     "metadata": {},
     "output_type": "execute_result"
    }
   ],
   "source": [
    "# your code here\n",
    "1 - dist.cdf(1)"
   ]
  },
  {
   "cell_type": "markdown",
   "metadata": {},
   "source": [
    "#### Step 3: Find the probability that there are between 2 and 6 (inclusive) robberies in a given month."
   ]
  },
  {
   "cell_type": "code",
   "execution_count": 174,
   "metadata": {
    "ExecuteTime": {
     "end_time": "2020-05-09T14:03:25.198882Z",
     "start_time": "2020-05-09T14:03:25.194893Z"
    }
   },
   "outputs": [
    {
     "data": {
      "text/plain": [
       "0.6512227160438819"
      ]
     },
     "execution_count": 174,
     "metadata": {},
     "output_type": "execute_result"
    }
   ],
   "source": [
    "# your code here\n",
    "dist.cdf(6) - dist.cdf(2)"
   ]
  },
  {
   "cell_type": "markdown",
   "metadata": {},
   "source": [
    "#### Step 4: Find the probability that there are more than 2 robberies in 15 days."
   ]
  },
  {
   "cell_type": "code",
   "execution_count": 219,
   "metadata": {
    "ExecuteTime": {
     "end_time": "2020-05-09T14:33:31.646123Z",
     "start_time": "2020-05-09T14:33:31.643159Z"
    }
   },
   "outputs": [],
   "source": [
    "# your code here\n",
    "\n",
    "# via poisson hypothesis where the average should be proportional to the days, we have to create a new \n",
    "# poisson distribution that has average = 2 (because we had average = 4 for 30 days)"
   ]
  },
  {
   "cell_type": "code",
   "execution_count": 220,
   "metadata": {
    "ExecuteTime": {
     "end_time": "2020-05-09T14:33:31.872978Z",
     "start_time": "2020-05-09T14:33:31.867991Z"
    }
   },
   "outputs": [
    {
     "data": {
      "text/plain": [
       "0.3233235838169366"
      ]
     },
     "execution_count": 220,
     "metadata": {},
     "output_type": "execute_result"
    }
   ],
   "source": [
    "dist_half = poisson(2)\n",
    "1 - dist_half.cdf(2)"
   ]
  },
  {
   "cell_type": "code",
   "execution_count": 205,
   "metadata": {
    "ExecuteTime": {
     "end_time": "2020-05-09T14:18:05.821370Z",
     "start_time": "2020-05-09T14:18:05.621903Z"
    }
   },
   "outputs": [
    {
     "data": {
      "text/plain": [
       "<matplotlib.axes._subplots.AxesSubplot at 0x20e7a993400>"
      ]
     },
     "execution_count": 205,
     "metadata": {},
     "output_type": "execute_result"
    },
    {
     "data": {
      "image/png": "[encoded data removed]",
      "text/plain": [
       "<Figure size 432x288 with 1 Axes>"
      ]
     },
     "metadata": {
      "needs_background": "light"
     },
     "output_type": "display_data"
    }
   ],
   "source": [
    "sns.distplot(dist_half.rvs(size=10000), kde=False, color='r')\n",
    "sns.distplot(dist.rvs(size=10000)/2, kde=False, color='b')"
   ]
  }
 ],
 "metadata": {
  "anaconda-cloud": {},
  "kernelspec": {
   "display_name": "Python 3",
   "language": "python",
   "name": "python3"
  },
  "language_info": {
   "codemirror_mode": {
    "name": "ipython",
    "version": 3
   },
   "file_extension": ".py",
   "mimetype": "text/x-python",
   "name": "python",
   "nbconvert_exporter": "python",
   "pygments_lexer": "ipython3",
   "version": "3.7.3"
  },
  "toc": {
   "base_numbering": 1,
   "nav_menu": {},
   "number_sections": true,
   "sideBar": true,
   "skip_h1_title": false,
   "title_cell": "Table of Contents",
   "title_sidebar": "Contents",
   "toc_cell": false,
   "toc_position": {},
   "toc_section_display": true,
   "toc_window_display": false
  }
 },
 "nbformat": 4,
 "nbformat_minor": 1
}
