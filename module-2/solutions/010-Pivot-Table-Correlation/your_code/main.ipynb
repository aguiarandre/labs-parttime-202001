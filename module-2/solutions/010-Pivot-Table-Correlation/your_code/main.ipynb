{
 "cells": [
  {
   "cell_type": "markdown",
   "metadata": {},
   "source": [
    "# Before you start :\n",
    "   - These exercises are related to the Pivot table and correlation lessons.\n",
    "   - Keep in mind that you need to use some of the functions you learned in the previous lessons.\n",
    "   - All datasets are provided in the `your-code` folder of this lab.\n",
    "   - Elaborate your codes and outputs as much as you can.\n",
    "   - Try your best to answer the questions and complete the tasks and most importantly enjoy the process!!!"
   ]
  },
  {
   "cell_type": "markdown",
   "metadata": {},
   "source": [
    "#### Import all the libraries that are necessary."
   ]
  },
  {
   "cell_type": "code",
   "execution_count": 1,
   "metadata": {},
   "outputs": [],
   "source": [
    "import pandas as pd;\n",
    "import numpy as np;\n",
    "import matplotlib.pyplot as plt;"
   ]
  },
  {
   "cell_type": "markdown",
   "metadata": {},
   "source": [
    "# Challenge 1"
   ]
  },
  {
   "cell_type": "markdown",
   "metadata": {},
   "source": [
    "#### Open the ` Employee.csv` file and name your dataset `employee`."
   ]
  },
  {
   "cell_type": "code",
   "execution_count": 2,
   "metadata": {},
   "outputs": [],
   "source": [
    "employee = pd.read_csv('data/Employee.csv');"
   ]
  },
  {
   "cell_type": "markdown",
   "metadata": {},
   "source": [
    "#### What's the mean salary by department?\n",
    "Hint : There are 2 ways to do it - one way is with and the other way is without pivot tables. Do it both ways. \n"
   ]
  },
  {
   "cell_type": "code",
   "execution_count": 3,
   "metadata": {},
   "outputs": [
    {
     "data": {
      "text/plain": [
       "Department\n",
       "HR       45.00\n",
       "IT       48.75\n",
       "Sales    55.00\n",
       "Name: Salary, dtype: float64"
      ]
     },
     "execution_count": 3,
     "metadata": {},
     "output_type": "execute_result"
    }
   ],
   "source": [
    "# Method 1\n",
    "employee.groupby('Department').mean()['Salary']"
   ]
  },
  {
   "cell_type": "code",
   "execution_count": 4,
   "metadata": {},
   "outputs": [
    {
     "data": {
      "text/html": [
       "<div>\n",
       "<style scoped>\n",
       "    .dataframe tbody tr th:only-of-type {\n",
       "        vertical-align: middle;\n",
       "    }\n",
       "\n",
       "    .dataframe tbody tr th {\n",
       "        vertical-align: top;\n",
       "    }\n",
       "\n",
       "    .dataframe thead th {\n",
       "        text-align: right;\n",
       "    }\n",
       "</style>\n",
       "<table border=\"1\" class=\"dataframe\">\n",
       "  <thead>\n",
       "    <tr style=\"text-align: right;\">\n",
       "      <th></th>\n",
       "      <th>Salary</th>\n",
       "    </tr>\n",
       "    <tr>\n",
       "      <th>Department</th>\n",
       "      <th></th>\n",
       "    </tr>\n",
       "  </thead>\n",
       "  <tbody>\n",
       "    <tr>\n",
       "      <th>HR</th>\n",
       "      <td>45.00</td>\n",
       "    </tr>\n",
       "    <tr>\n",
       "      <th>IT</th>\n",
       "      <td>48.75</td>\n",
       "    </tr>\n",
       "    <tr>\n",
       "      <th>Sales</th>\n",
       "      <td>55.00</td>\n",
       "    </tr>\n",
       "  </tbody>\n",
       "</table>\n",
       "</div>"
      ],
      "text/plain": [
       "            Salary\n",
       "Department        \n",
       "HR           45.00\n",
       "IT           48.75\n",
       "Sales        55.00"
      ]
     },
     "execution_count": 4,
     "metadata": {},
     "output_type": "execute_result"
    }
   ],
   "source": [
    "# Method 2\n",
    "pd.pivot_table(employee, index='Department', values='Salary')"
   ]
  },
  {
   "cell_type": "markdown",
   "metadata": {},
   "source": [
    "#### We want now to group the data by more than one column. Use Pandas pivot table function to select the mean salary by department and title."
   ]
  },
  {
   "cell_type": "code",
   "execution_count": 5,
   "metadata": {},
   "outputs": [
    {
     "data": {
      "text/html": [
       "<div>\n",
       "<style scoped>\n",
       "    .dataframe tbody tr th:only-of-type {\n",
       "        vertical-align: middle;\n",
       "    }\n",
       "\n",
       "    .dataframe tbody tr th {\n",
       "        vertical-align: top;\n",
       "    }\n",
       "\n",
       "    .dataframe thead th {\n",
       "        text-align: right;\n",
       "    }\n",
       "</style>\n",
       "<table border=\"1\" class=\"dataframe\">\n",
       "  <thead>\n",
       "    <tr style=\"text-align: right;\">\n",
       "      <th></th>\n",
       "      <th></th>\n",
       "      <th>Salary</th>\n",
       "    </tr>\n",
       "    <tr>\n",
       "      <th>Department</th>\n",
       "      <th>Title</th>\n",
       "      <th></th>\n",
       "    </tr>\n",
       "  </thead>\n",
       "  <tbody>\n",
       "    <tr>\n",
       "      <th rowspan=\"2\" valign=\"top\">HR</th>\n",
       "      <th>VP</th>\n",
       "      <td>70.0</td>\n",
       "    </tr>\n",
       "    <tr>\n",
       "      <th>analyst</th>\n",
       "      <td>32.5</td>\n",
       "    </tr>\n",
       "    <tr>\n",
       "      <th rowspan=\"3\" valign=\"top\">IT</th>\n",
       "      <th>VP</th>\n",
       "      <td>70.0</td>\n",
       "    </tr>\n",
       "    <tr>\n",
       "      <th>analyst</th>\n",
       "      <td>32.5</td>\n",
       "    </tr>\n",
       "    <tr>\n",
       "      <th>associate</th>\n",
       "      <td>60.0</td>\n",
       "    </tr>\n",
       "    <tr>\n",
       "      <th>Sales</th>\n",
       "      <th>associate</th>\n",
       "      <td>55.0</td>\n",
       "    </tr>\n",
       "  </tbody>\n",
       "</table>\n",
       "</div>"
      ],
      "text/plain": [
       "                      Salary\n",
       "Department Title            \n",
       "HR         VP           70.0\n",
       "           analyst      32.5\n",
       "IT         VP           70.0\n",
       "           analyst      32.5\n",
       "           associate    60.0\n",
       "Sales      associate    55.0"
      ]
     },
     "execution_count": 5,
     "metadata": {},
     "output_type": "execute_result"
    }
   ],
   "source": [
    "pd.pivot_table(employee, index=['Department', 'Title'], values='Salary')"
   ]
  },
  {
   "cell_type": "markdown",
   "metadata": {},
   "source": [
    "#### We want to display the number of years of work experience and the salary for each Title. Add Years as a column in your pivot table.\n",
    "*Hint: Use Pandas doc(see References in README.md) to explore the pivot_table() arguments*"
   ]
  },
  {
   "cell_type": "code",
   "execution_count": 6,
   "metadata": {},
   "outputs": [
    {
     "data": {
      "text/html": [
       "<div>\n",
       "<style scoped>\n",
       "    .dataframe tbody tr th:only-of-type {\n",
       "        vertical-align: middle;\n",
       "    }\n",
       "\n",
       "    .dataframe tbody tr th {\n",
       "        vertical-align: top;\n",
       "    }\n",
       "\n",
       "    .dataframe thead th {\n",
       "        text-align: right;\n",
       "    }\n",
       "</style>\n",
       "<table border=\"1\" class=\"dataframe\">\n",
       "  <thead>\n",
       "    <tr style=\"text-align: right;\">\n",
       "      <th>Years</th>\n",
       "      <th>1</th>\n",
       "      <th>2</th>\n",
       "      <th>3</th>\n",
       "      <th>4</th>\n",
       "      <th>7</th>\n",
       "      <th>8</th>\n",
       "    </tr>\n",
       "    <tr>\n",
       "      <th>Title</th>\n",
       "      <th></th>\n",
       "      <th></th>\n",
       "      <th></th>\n",
       "      <th></th>\n",
       "      <th></th>\n",
       "      <th></th>\n",
       "    </tr>\n",
       "  </thead>\n",
       "  <tbody>\n",
       "    <tr>\n",
       "      <th>VP</th>\n",
       "      <td>NaN</td>\n",
       "      <td>NaN</td>\n",
       "      <td>NaN</td>\n",
       "      <td>NaN</td>\n",
       "      <td>NaN</td>\n",
       "      <td>70.0</td>\n",
       "    </tr>\n",
       "    <tr>\n",
       "      <th>analyst</th>\n",
       "      <td>35.0</td>\n",
       "      <td>30.0</td>\n",
       "      <td>NaN</td>\n",
       "      <td>35.0</td>\n",
       "      <td>NaN</td>\n",
       "      <td>NaN</td>\n",
       "    </tr>\n",
       "    <tr>\n",
       "      <th>associate</th>\n",
       "      <td>NaN</td>\n",
       "      <td>55.0</td>\n",
       "      <td>55.0</td>\n",
       "      <td>NaN</td>\n",
       "      <td>60.0</td>\n",
       "      <td>NaN</td>\n",
       "    </tr>\n",
       "  </tbody>\n",
       "</table>\n",
       "</div>"
      ],
      "text/plain": [
       "Years         1     2     3     4     7     8\n",
       "Title                                        \n",
       "VP          NaN   NaN   NaN   NaN   NaN  70.0\n",
       "analyst    35.0  30.0   NaN  35.0   NaN   NaN\n",
       "associate   NaN  55.0  55.0   NaN  60.0   NaN"
      ]
     },
     "execution_count": 6,
     "metadata": {},
     "output_type": "execute_result"
    }
   ],
   "source": [
    "pd.pivot_table(employee, index='Title', columns='Years', values='Salary')"
   ]
  },
  {
   "cell_type": "markdown",
   "metadata": {},
   "source": [
    "#### We want to know the information about the mean salary and number of employees in each department and for each job title."
   ]
  },
  {
   "cell_type": "code",
   "execution_count": 7,
   "metadata": {},
   "outputs": [
    {
     "data": {
      "text/html": [
       "<div>\n",
       "<style scoped>\n",
       "    .dataframe tbody tr th:only-of-type {\n",
       "        vertical-align: middle;\n",
       "    }\n",
       "\n",
       "    .dataframe tbody tr th {\n",
       "        vertical-align: top;\n",
       "    }\n",
       "\n",
       "    .dataframe thead tr th {\n",
       "        text-align: left;\n",
       "    }\n",
       "\n",
       "    .dataframe thead tr:last-of-type th {\n",
       "        text-align: right;\n",
       "    }\n",
       "</style>\n",
       "<table border=\"1\" class=\"dataframe\">\n",
       "  <thead>\n",
       "    <tr>\n",
       "      <th></th>\n",
       "      <th></th>\n",
       "      <th>mean</th>\n",
       "      <th>len</th>\n",
       "    </tr>\n",
       "    <tr>\n",
       "      <th></th>\n",
       "      <th></th>\n",
       "      <th>Salary</th>\n",
       "      <th>Salary</th>\n",
       "    </tr>\n",
       "    <tr>\n",
       "      <th>Department</th>\n",
       "      <th>Title</th>\n",
       "      <th></th>\n",
       "      <th></th>\n",
       "    </tr>\n",
       "  </thead>\n",
       "  <tbody>\n",
       "    <tr>\n",
       "      <th rowspan=\"2\" valign=\"top\">HR</th>\n",
       "      <th>VP</th>\n",
       "      <td>70.0</td>\n",
       "      <td>1</td>\n",
       "    </tr>\n",
       "    <tr>\n",
       "      <th>analyst</th>\n",
       "      <td>32.5</td>\n",
       "      <td>2</td>\n",
       "    </tr>\n",
       "    <tr>\n",
       "      <th rowspan=\"3\" valign=\"top\">IT</th>\n",
       "      <th>VP</th>\n",
       "      <td>70.0</td>\n",
       "      <td>1</td>\n",
       "    </tr>\n",
       "    <tr>\n",
       "      <th>analyst</th>\n",
       "      <td>32.5</td>\n",
       "      <td>2</td>\n",
       "    </tr>\n",
       "    <tr>\n",
       "      <th>associate</th>\n",
       "      <td>60.0</td>\n",
       "      <td>1</td>\n",
       "    </tr>\n",
       "    <tr>\n",
       "      <th>Sales</th>\n",
       "      <th>associate</th>\n",
       "      <td>55.0</td>\n",
       "      <td>2</td>\n",
       "    </tr>\n",
       "  </tbody>\n",
       "</table>\n",
       "</div>"
      ],
      "text/plain": [
       "                       mean    len\n",
       "                     Salary Salary\n",
       "Department Title                  \n",
       "HR         VP          70.0      1\n",
       "           analyst     32.5      2\n",
       "IT         VP          70.0      1\n",
       "           analyst     32.5      2\n",
       "           associate   60.0      1\n",
       "Sales      associate   55.0      2"
      ]
     },
     "execution_count": 7,
     "metadata": {},
     "output_type": "execute_result"
    }
   ],
   "source": [
    "pd.pivot_table(employee, index=['Department', 'Title'], values='Salary', aggfunc=[np.mean, len])"
   ]
  },
  {
   "cell_type": "markdown",
   "metadata": {},
   "source": [
    "#### We want to know for each department and for each job title the Salary's median, minimum, maximum and standard deviation. Comment your results."
   ]
  },
  {
   "cell_type": "code",
   "execution_count": 8,
   "metadata": {},
   "outputs": [
    {
     "data": {
      "text/html": [
       "<div>\n",
       "<style scoped>\n",
       "    .dataframe tbody tr th:only-of-type {\n",
       "        vertical-align: middle;\n",
       "    }\n",
       "\n",
       "    .dataframe tbody tr th {\n",
       "        vertical-align: top;\n",
       "    }\n",
       "\n",
       "    .dataframe thead tr th {\n",
       "        text-align: left;\n",
       "    }\n",
       "\n",
       "    .dataframe thead tr:last-of-type th {\n",
       "        text-align: right;\n",
       "    }\n",
       "</style>\n",
       "<table border=\"1\" class=\"dataframe\">\n",
       "  <thead>\n",
       "    <tr>\n",
       "      <th></th>\n",
       "      <th></th>\n",
       "      <th>median</th>\n",
       "      <th>min</th>\n",
       "      <th>max</th>\n",
       "      <th>std</th>\n",
       "    </tr>\n",
       "    <tr>\n",
       "      <th></th>\n",
       "      <th></th>\n",
       "      <th>Salary</th>\n",
       "      <th>Salary</th>\n",
       "      <th>Salary</th>\n",
       "      <th>Salary</th>\n",
       "    </tr>\n",
       "    <tr>\n",
       "      <th>Department</th>\n",
       "      <th>Title</th>\n",
       "      <th></th>\n",
       "      <th></th>\n",
       "      <th></th>\n",
       "      <th></th>\n",
       "    </tr>\n",
       "  </thead>\n",
       "  <tbody>\n",
       "    <tr>\n",
       "      <th rowspan=\"2\" valign=\"top\">HR</th>\n",
       "      <th>VP</th>\n",
       "      <td>70.0</td>\n",
       "      <td>70</td>\n",
       "      <td>70</td>\n",
       "      <td>NaN</td>\n",
       "    </tr>\n",
       "    <tr>\n",
       "      <th>analyst</th>\n",
       "      <td>32.5</td>\n",
       "      <td>30</td>\n",
       "      <td>35</td>\n",
       "      <td>3.535534</td>\n",
       "    </tr>\n",
       "    <tr>\n",
       "      <th rowspan=\"3\" valign=\"top\">IT</th>\n",
       "      <th>VP</th>\n",
       "      <td>70.0</td>\n",
       "      <td>70</td>\n",
       "      <td>70</td>\n",
       "      <td>NaN</td>\n",
       "    </tr>\n",
       "    <tr>\n",
       "      <th>analyst</th>\n",
       "      <td>32.5</td>\n",
       "      <td>30</td>\n",
       "      <td>35</td>\n",
       "      <td>3.535534</td>\n",
       "    </tr>\n",
       "    <tr>\n",
       "      <th>associate</th>\n",
       "      <td>60.0</td>\n",
       "      <td>60</td>\n",
       "      <td>60</td>\n",
       "      <td>NaN</td>\n",
       "    </tr>\n",
       "    <tr>\n",
       "      <th>Sales</th>\n",
       "      <th>associate</th>\n",
       "      <td>55.0</td>\n",
       "      <td>55</td>\n",
       "      <td>55</td>\n",
       "      <td>0.000000</td>\n",
       "    </tr>\n",
       "  </tbody>\n",
       "</table>\n",
       "</div>"
      ],
      "text/plain": [
       "                     median    min    max       std\n",
       "                     Salary Salary Salary    Salary\n",
       "Department Title                                   \n",
       "HR         VP          70.0     70     70       NaN\n",
       "           analyst     32.5     30     35  3.535534\n",
       "IT         VP          70.0     70     70       NaN\n",
       "           analyst     32.5     30     35  3.535534\n",
       "           associate   60.0     60     60       NaN\n",
       "Sales      associate   55.0     55     55  0.000000"
      ]
     },
     "execution_count": 8,
     "metadata": {},
     "output_type": "execute_result"
    }
   ],
   "source": [
    "df = pd.pivot_table(employee, index=['Department', 'Title'], values='Salary', aggfunc=[np.median, min, max, np.std]);\n",
    "df"
   ]
  },
  {
   "cell_type": "markdown",
   "metadata": {},
   "source": [
    "`Comments:`<br/>\n",
    "The values in the rows with NaNs in the std are values calculated over a single item. That's why the mean, max and minimum are equal and the std is a null value, which could be replaced by a 0."
   ]
  },
  {
   "cell_type": "markdown",
   "metadata": {},
   "source": [
    "#### Based on your comments, fill the missing values with an appropriate value."
   ]
  },
  {
   "cell_type": "code",
   "execution_count": 9,
   "metadata": {},
   "outputs": [
    {
     "data": {
      "text/html": [
       "<div>\n",
       "<style scoped>\n",
       "    .dataframe tbody tr th:only-of-type {\n",
       "        vertical-align: middle;\n",
       "    }\n",
       "\n",
       "    .dataframe tbody tr th {\n",
       "        vertical-align: top;\n",
       "    }\n",
       "\n",
       "    .dataframe thead tr th {\n",
       "        text-align: left;\n",
       "    }\n",
       "\n",
       "    .dataframe thead tr:last-of-type th {\n",
       "        text-align: right;\n",
       "    }\n",
       "</style>\n",
       "<table border=\"1\" class=\"dataframe\">\n",
       "  <thead>\n",
       "    <tr>\n",
       "      <th></th>\n",
       "      <th></th>\n",
       "      <th>median</th>\n",
       "      <th>min</th>\n",
       "      <th>max</th>\n",
       "      <th>std</th>\n",
       "    </tr>\n",
       "    <tr>\n",
       "      <th></th>\n",
       "      <th></th>\n",
       "      <th>Salary</th>\n",
       "      <th>Salary</th>\n",
       "      <th>Salary</th>\n",
       "      <th>Salary</th>\n",
       "    </tr>\n",
       "    <tr>\n",
       "      <th>Department</th>\n",
       "      <th>Title</th>\n",
       "      <th></th>\n",
       "      <th></th>\n",
       "      <th></th>\n",
       "      <th></th>\n",
       "    </tr>\n",
       "  </thead>\n",
       "  <tbody>\n",
       "    <tr>\n",
       "      <th rowspan=\"2\" valign=\"top\">HR</th>\n",
       "      <th>VP</th>\n",
       "      <td>70.0</td>\n",
       "      <td>70</td>\n",
       "      <td>70</td>\n",
       "      <td>0.000000</td>\n",
       "    </tr>\n",
       "    <tr>\n",
       "      <th>analyst</th>\n",
       "      <td>32.5</td>\n",
       "      <td>30</td>\n",
       "      <td>35</td>\n",
       "      <td>3.535534</td>\n",
       "    </tr>\n",
       "    <tr>\n",
       "      <th rowspan=\"3\" valign=\"top\">IT</th>\n",
       "      <th>VP</th>\n",
       "      <td>70.0</td>\n",
       "      <td>70</td>\n",
       "      <td>70</td>\n",
       "      <td>0.000000</td>\n",
       "    </tr>\n",
       "    <tr>\n",
       "      <th>analyst</th>\n",
       "      <td>32.5</td>\n",
       "      <td>30</td>\n",
       "      <td>35</td>\n",
       "      <td>3.535534</td>\n",
       "    </tr>\n",
       "    <tr>\n",
       "      <th>associate</th>\n",
       "      <td>60.0</td>\n",
       "      <td>60</td>\n",
       "      <td>60</td>\n",
       "      <td>0.000000</td>\n",
       "    </tr>\n",
       "    <tr>\n",
       "      <th>Sales</th>\n",
       "      <th>associate</th>\n",
       "      <td>55.0</td>\n",
       "      <td>55</td>\n",
       "      <td>55</td>\n",
       "      <td>0.000000</td>\n",
       "    </tr>\n",
       "  </tbody>\n",
       "</table>\n",
       "</div>"
      ],
      "text/plain": [
       "                     median    min    max       std\n",
       "                     Salary Salary Salary    Salary\n",
       "Department Title                                   \n",
       "HR         VP          70.0     70     70  0.000000\n",
       "           analyst     32.5     30     35  3.535534\n",
       "IT         VP          70.0     70     70  0.000000\n",
       "           analyst     32.5     30     35  3.535534\n",
       "           associate   60.0     60     60  0.000000\n",
       "Sales      associate   55.0     55     55  0.000000"
      ]
     },
     "execution_count": 9,
     "metadata": {},
     "output_type": "execute_result"
    }
   ],
   "source": [
    "df.fillna(0, inplace=True);\n",
    "df"
   ]
  },
  {
   "cell_type": "markdown",
   "metadata": {},
   "source": [
    "#### The stake holders want to know for each department the number of employees and how much money is spend on salaries. Could you provide that information? "
   ]
  },
  {
   "cell_type": "code",
   "execution_count": 10,
   "metadata": {},
   "outputs": [
    {
     "data": {
      "text/html": [
       "<div>\n",
       "<style scoped>\n",
       "    .dataframe tbody tr th:only-of-type {\n",
       "        vertical-align: middle;\n",
       "    }\n",
       "\n",
       "    .dataframe tbody tr th {\n",
       "        vertical-align: top;\n",
       "    }\n",
       "\n",
       "    .dataframe thead tr th {\n",
       "        text-align: left;\n",
       "    }\n",
       "\n",
       "    .dataframe thead tr:last-of-type th {\n",
       "        text-align: right;\n",
       "    }\n",
       "</style>\n",
       "<table border=\"1\" class=\"dataframe\">\n",
       "  <thead>\n",
       "    <tr>\n",
       "      <th></th>\n",
       "      <th>len</th>\n",
       "      <th>sum</th>\n",
       "    </tr>\n",
       "    <tr>\n",
       "      <th></th>\n",
       "      <th>Salary</th>\n",
       "      <th>Salary</th>\n",
       "    </tr>\n",
       "    <tr>\n",
       "      <th>Department</th>\n",
       "      <th></th>\n",
       "      <th></th>\n",
       "    </tr>\n",
       "  </thead>\n",
       "  <tbody>\n",
       "    <tr>\n",
       "      <th>HR</th>\n",
       "      <td>3</td>\n",
       "      <td>135</td>\n",
       "    </tr>\n",
       "    <tr>\n",
       "      <th>IT</th>\n",
       "      <td>4</td>\n",
       "      <td>195</td>\n",
       "    </tr>\n",
       "    <tr>\n",
       "      <th>Sales</th>\n",
       "      <td>2</td>\n",
       "      <td>110</td>\n",
       "    </tr>\n",
       "  </tbody>\n",
       "</table>\n",
       "</div>"
      ],
      "text/plain": [
       "              len    sum\n",
       "           Salary Salary\n",
       "Department              \n",
       "HR              3    135\n",
       "IT              4    195\n",
       "Sales           2    110"
      ]
     },
     "execution_count": 10,
     "metadata": {},
     "output_type": "execute_result"
    }
   ],
   "source": [
    "pd.pivot_table(employee, index='Department', values='Salary', aggfunc=[len, sum])"
   ]
  },
  {
   "cell_type": "markdown",
   "metadata": {},
   "source": [
    "#### For each Department and Title, we want to know the the total years of work experience and the mean salary."
   ]
  },
  {
   "cell_type": "code",
   "execution_count": 11,
   "metadata": {},
   "outputs": [
    {
     "data": {
      "text/html": [
       "<div>\n",
       "<style scoped>\n",
       "    .dataframe tbody tr th:only-of-type {\n",
       "        vertical-align: middle;\n",
       "    }\n",
       "\n",
       "    .dataframe tbody tr th {\n",
       "        vertical-align: top;\n",
       "    }\n",
       "\n",
       "    .dataframe thead th {\n",
       "        text-align: right;\n",
       "    }\n",
       "</style>\n",
       "<table border=\"1\" class=\"dataframe\">\n",
       "  <thead>\n",
       "    <tr style=\"text-align: right;\">\n",
       "      <th></th>\n",
       "      <th></th>\n",
       "      <th>Salary</th>\n",
       "      <th>Years</th>\n",
       "    </tr>\n",
       "    <tr>\n",
       "      <th>Department</th>\n",
       "      <th>Title</th>\n",
       "      <th></th>\n",
       "      <th></th>\n",
       "    </tr>\n",
       "  </thead>\n",
       "  <tbody>\n",
       "    <tr>\n",
       "      <th rowspan=\"2\" valign=\"top\">HR</th>\n",
       "      <th>VP</th>\n",
       "      <td>70.0</td>\n",
       "      <td>8</td>\n",
       "    </tr>\n",
       "    <tr>\n",
       "      <th>analyst</th>\n",
       "      <td>32.5</td>\n",
       "      <td>6</td>\n",
       "    </tr>\n",
       "    <tr>\n",
       "      <th rowspan=\"3\" valign=\"top\">IT</th>\n",
       "      <th>VP</th>\n",
       "      <td>70.0</td>\n",
       "      <td>8</td>\n",
       "    </tr>\n",
       "    <tr>\n",
       "      <th>analyst</th>\n",
       "      <td>32.5</td>\n",
       "      <td>3</td>\n",
       "    </tr>\n",
       "    <tr>\n",
       "      <th>associate</th>\n",
       "      <td>60.0</td>\n",
       "      <td>7</td>\n",
       "    </tr>\n",
       "    <tr>\n",
       "      <th>Sales</th>\n",
       "      <th>associate</th>\n",
       "      <td>55.0</td>\n",
       "      <td>5</td>\n",
       "    </tr>\n",
       "  </tbody>\n",
       "</table>\n",
       "</div>"
      ],
      "text/plain": [
       "                      Salary  Years\n",
       "Department Title                   \n",
       "HR         VP           70.0      8\n",
       "           analyst      32.5      6\n",
       "IT         VP           70.0      8\n",
       "           analyst      32.5      3\n",
       "           associate    60.0      7\n",
       "Sales      associate    55.0      5"
      ]
     },
     "execution_count": 11,
     "metadata": {},
     "output_type": "execute_result"
    }
   ],
   "source": [
    "pd.pivot_table(employee, \n",
    "               index=['Department', 'Title'], \n",
    "               values=['Years','Salary'], \n",
    "               aggfunc={'Years': np.sum, 'Salary': np.mean})"
   ]
  },
  {
   "cell_type": "markdown",
   "metadata": {},
   "source": [
    "### Bonus\n",
    "\n",
    "#### We now want to compute the mean salary after removing the maxima for each Department. Create the appropriate pivot table.\n",
    "\n",
    "Hint: Write a custom function."
   ]
  },
  {
   "cell_type": "code",
   "execution_count": 12,
   "metadata": {},
   "outputs": [],
   "source": [
    "def mean_without_max(x):\n",
    "    return x.sort_values()[:-1].mean()"
   ]
  },
  {
   "cell_type": "code",
   "execution_count": 13,
   "metadata": {},
   "outputs": [
    {
     "data": {
      "text/html": [
       "<div>\n",
       "<style scoped>\n",
       "    .dataframe tbody tr th:only-of-type {\n",
       "        vertical-align: middle;\n",
       "    }\n",
       "\n",
       "    .dataframe tbody tr th {\n",
       "        vertical-align: top;\n",
       "    }\n",
       "\n",
       "    .dataframe thead th {\n",
       "        text-align: right;\n",
       "    }\n",
       "</style>\n",
       "<table border=\"1\" class=\"dataframe\">\n",
       "  <thead>\n",
       "    <tr style=\"text-align: right;\">\n",
       "      <th></th>\n",
       "      <th>Salary</th>\n",
       "    </tr>\n",
       "    <tr>\n",
       "      <th>Department</th>\n",
       "      <th></th>\n",
       "    </tr>\n",
       "  </thead>\n",
       "  <tbody>\n",
       "    <tr>\n",
       "      <th>HR</th>\n",
       "      <td>32.500000</td>\n",
       "    </tr>\n",
       "    <tr>\n",
       "      <th>IT</th>\n",
       "      <td>41.666667</td>\n",
       "    </tr>\n",
       "    <tr>\n",
       "      <th>Sales</th>\n",
       "      <td>55.000000</td>\n",
       "    </tr>\n",
       "  </tbody>\n",
       "</table>\n",
       "</div>"
      ],
      "text/plain": [
       "               Salary\n",
       "Department           \n",
       "HR          32.500000\n",
       "IT          41.666667\n",
       "Sales       55.000000"
      ]
     },
     "execution_count": 13,
     "metadata": {},
     "output_type": "execute_result"
    }
   ],
   "source": [
    "pd.pivot_table(employee, \n",
    "               index='Department', \n",
    "               values='Salary', \n",
    "               aggfunc=mean_without_max)"
   ]
  },
  {
   "cell_type": "markdown",
   "metadata": {},
   "source": [
    "# Challenge 2"
   ]
  },
  {
   "cell_type": "markdown",
   "metadata": {},
   "source": [
    "#### Open the ` Fitbit.csv` file and name your dataset `fitbit`."
   ]
  },
  {
   "cell_type": "code",
   "execution_count": 14,
   "metadata": {
    "scrolled": true
   },
   "outputs": [],
   "source": [
    "fitbit = pd.read_csv('data/Fitbit.csv');"
   ]
  },
  {
   "cell_type": "markdown",
   "metadata": {},
   "source": [
    "#### Explore you dataset in terms of data types and descriptive statistics.\n",
    "Hint: Use Pandas functions from previous lectures."
   ]
  },
  {
   "cell_type": "code",
   "execution_count": 15,
   "metadata": {},
   "outputs": [
    {
     "data": {
      "text/plain": [
       "Date                       object\n",
       "Calorie burned              int64\n",
       "Steps                       int64\n",
       "Distance                  float64\n",
       "Floors                      int64\n",
       "Minutes Sedentary         float64\n",
       "Minutes Lightly Active      int64\n",
       "Minutes Fairly Active       int64\n",
       "Minutes Very Active         int64\n",
       "Activity Calories           int64\n",
       "MinutesOfSleep              int64\n",
       "MinutesOfBeingAwake         int64\n",
       "NumberOfAwakings            int64\n",
       "LengthOfRestInMinutes       int64\n",
       "dtype: object"
      ]
     },
     "execution_count": 15,
     "metadata": {},
     "output_type": "execute_result"
    }
   ],
   "source": [
    "fitbit.dtypes"
   ]
  },
  {
   "cell_type": "code",
   "execution_count": 16,
   "metadata": {},
   "outputs": [
    {
     "data": {
      "text/html": [
       "<div>\n",
       "<style scoped>\n",
       "    .dataframe tbody tr th:only-of-type {\n",
       "        vertical-align: middle;\n",
       "    }\n",
       "\n",
       "    .dataframe tbody tr th {\n",
       "        vertical-align: top;\n",
       "    }\n",
       "\n",
       "    .dataframe thead th {\n",
       "        text-align: right;\n",
       "    }\n",
       "</style>\n",
       "<table border=\"1\" class=\"dataframe\">\n",
       "  <thead>\n",
       "    <tr style=\"text-align: right;\">\n",
       "      <th></th>\n",
       "      <th>Calorie burned</th>\n",
       "      <th>Steps</th>\n",
       "      <th>Distance</th>\n",
       "      <th>Floors</th>\n",
       "      <th>Minutes Sedentary</th>\n",
       "      <th>Minutes Lightly Active</th>\n",
       "      <th>Minutes Fairly Active</th>\n",
       "      <th>Minutes Very Active</th>\n",
       "      <th>Activity Calories</th>\n",
       "      <th>MinutesOfSleep</th>\n",
       "      <th>MinutesOfBeingAwake</th>\n",
       "      <th>NumberOfAwakings</th>\n",
       "      <th>LengthOfRestInMinutes</th>\n",
       "    </tr>\n",
       "  </thead>\n",
       "  <tbody>\n",
       "    <tr>\n",
       "      <th>count</th>\n",
       "      <td>367.000000</td>\n",
       "      <td>367.000000</td>\n",
       "      <td>367.000000</td>\n",
       "      <td>367.000000</td>\n",
       "      <td>367.000000</td>\n",
       "      <td>367.000000</td>\n",
       "      <td>367.000000</td>\n",
       "      <td>367.000000</td>\n",
       "      <td>367.000000</td>\n",
       "      <td>367.000000</td>\n",
       "      <td>367.000000</td>\n",
       "      <td>367.000000</td>\n",
       "      <td>367.000000</td>\n",
       "    </tr>\n",
       "    <tr>\n",
       "      <th>mean</th>\n",
       "      <td>2741.501362</td>\n",
       "      <td>10121.588556</td>\n",
       "      <td>8.549128</td>\n",
       "      <td>11.724796</td>\n",
       "      <td>563.934482</td>\n",
       "      <td>236.405995</td>\n",
       "      <td>26.163488</td>\n",
       "      <td>35.722071</td>\n",
       "      <td>2044.147139</td>\n",
       "      <td>290.479564</td>\n",
       "      <td>28.008174</td>\n",
       "      <td>16.196185</td>\n",
       "      <td>321.343324</td>\n",
       "    </tr>\n",
       "    <tr>\n",
       "      <th>std</th>\n",
       "      <td>916.307036</td>\n",
       "      <td>5594.836225</td>\n",
       "      <td>3.409881</td>\n",
       "      <td>10.337370</td>\n",
       "      <td>294.793145</td>\n",
       "      <td>86.531376</td>\n",
       "      <td>20.319456</td>\n",
       "      <td>31.006682</td>\n",
       "      <td>2041.267168</td>\n",
       "      <td>154.752328</td>\n",
       "      <td>18.541415</td>\n",
       "      <td>10.757622</td>\n",
       "      <td>170.786726</td>\n",
       "    </tr>\n",
       "    <tr>\n",
       "      <th>min</th>\n",
       "      <td>179.000000</td>\n",
       "      <td>0.000000</td>\n",
       "      <td>0.000000</td>\n",
       "      <td>0.000000</td>\n",
       "      <td>1.002000</td>\n",
       "      <td>0.000000</td>\n",
       "      <td>0.000000</td>\n",
       "      <td>0.000000</td>\n",
       "      <td>0.000000</td>\n",
       "      <td>0.000000</td>\n",
       "      <td>0.000000</td>\n",
       "      <td>0.000000</td>\n",
       "      <td>0.000000</td>\n",
       "    </tr>\n",
       "    <tr>\n",
       "      <th>25%</th>\n",
       "      <td>2698.000000</td>\n",
       "      <td>6730.500000</td>\n",
       "      <td>6.155000</td>\n",
       "      <td>5.000000</td>\n",
       "      <td>520.000000</td>\n",
       "      <td>179.000000</td>\n",
       "      <td>8.000000</td>\n",
       "      <td>10.500000</td>\n",
       "      <td>1218.500000</td>\n",
       "      <td>224.000000</td>\n",
       "      <td>14.000000</td>\n",
       "      <td>7.000000</td>\n",
       "      <td>248.000000</td>\n",
       "    </tr>\n",
       "    <tr>\n",
       "      <th>50%</th>\n",
       "      <td>2974.000000</td>\n",
       "      <td>10413.000000</td>\n",
       "      <td>8.290000</td>\n",
       "      <td>11.000000</td>\n",
       "      <td>663.000000</td>\n",
       "      <td>226.000000</td>\n",
       "      <td>24.000000</td>\n",
       "      <td>29.000000</td>\n",
       "      <td>1553.000000</td>\n",
       "      <td>337.000000</td>\n",
       "      <td>29.000000</td>\n",
       "      <td>16.000000</td>\n",
       "      <td>370.000000</td>\n",
       "    </tr>\n",
       "    <tr>\n",
       "      <th>75%</th>\n",
       "      <td>3233.000000</td>\n",
       "      <td>13916.500000</td>\n",
       "      <td>10.560000</td>\n",
       "      <td>16.000000</td>\n",
       "      <td>756.500000</td>\n",
       "      <td>290.000000</td>\n",
       "      <td>41.500000</td>\n",
       "      <td>54.000000</td>\n",
       "      <td>1927.500000</td>\n",
       "      <td>400.500000</td>\n",
       "      <td>41.500000</td>\n",
       "      <td>24.000000</td>\n",
       "      <td>440.500000</td>\n",
       "    </tr>\n",
       "    <tr>\n",
       "      <th>max</th>\n",
       "      <td>4351.000000</td>\n",
       "      <td>26444.000000</td>\n",
       "      <td>20.450000</td>\n",
       "      <td>101.000000</td>\n",
       "      <td>998.000000</td>\n",
       "      <td>472.000000</td>\n",
       "      <td>101.000000</td>\n",
       "      <td>153.000000</td>\n",
       "      <td>9830.000000</td>\n",
       "      <td>553.000000</td>\n",
       "      <td>78.000000</td>\n",
       "      <td>45.000000</td>\n",
       "      <td>607.000000</td>\n",
       "    </tr>\n",
       "  </tbody>\n",
       "</table>\n",
       "</div>"
      ],
      "text/plain": [
       "       Calorie burned         Steps    Distance      Floors  \\\n",
       "count      367.000000    367.000000  367.000000  367.000000   \n",
       "mean      2741.501362  10121.588556    8.549128   11.724796   \n",
       "std        916.307036   5594.836225    3.409881   10.337370   \n",
       "min        179.000000      0.000000    0.000000    0.000000   \n",
       "25%       2698.000000   6730.500000    6.155000    5.000000   \n",
       "50%       2974.000000  10413.000000    8.290000   11.000000   \n",
       "75%       3233.000000  13916.500000   10.560000   16.000000   \n",
       "max       4351.000000  26444.000000   20.450000  101.000000   \n",
       "\n",
       "       Minutes Sedentary  Minutes Lightly Active  Minutes Fairly Active  \\\n",
       "count         367.000000              367.000000             367.000000   \n",
       "mean          563.934482              236.405995              26.163488   \n",
       "std           294.793145               86.531376              20.319456   \n",
       "min             1.002000                0.000000               0.000000   \n",
       "25%           520.000000              179.000000               8.000000   \n",
       "50%           663.000000              226.000000              24.000000   \n",
       "75%           756.500000              290.000000              41.500000   \n",
       "max           998.000000              472.000000             101.000000   \n",
       "\n",
       "       Minutes Very Active  Activity Calories  MinutesOfSleep  \\\n",
       "count           367.000000         367.000000      367.000000   \n",
       "mean             35.722071        2044.147139      290.479564   \n",
       "std              31.006682        2041.267168      154.752328   \n",
       "min               0.000000           0.000000        0.000000   \n",
       "25%              10.500000        1218.500000      224.000000   \n",
       "50%              29.000000        1553.000000      337.000000   \n",
       "75%              54.000000        1927.500000      400.500000   \n",
       "max             153.000000        9830.000000      553.000000   \n",
       "\n",
       "       MinutesOfBeingAwake  NumberOfAwakings  LengthOfRestInMinutes  \n",
       "count           367.000000        367.000000             367.000000  \n",
       "mean             28.008174         16.196185             321.343324  \n",
       "std              18.541415         10.757622             170.786726  \n",
       "min               0.000000          0.000000               0.000000  \n",
       "25%              14.000000          7.000000             248.000000  \n",
       "50%              29.000000         16.000000             370.000000  \n",
       "75%              41.500000         24.000000             440.500000  \n",
       "max              78.000000         45.000000             607.000000  "
      ]
     },
     "execution_count": 16,
     "metadata": {},
     "output_type": "execute_result"
    }
   ],
   "source": [
    "fitbit.describe()"
   ]
  },
  {
   "cell_type": "markdown",
   "metadata": {},
   "source": [
    "#### You suspect that there must be a linear relationship between the Minutes Very Active and the Steps. Compute the correlation between these variables."
   ]
  },
  {
   "cell_type": "code",
   "execution_count": 17,
   "metadata": {},
   "outputs": [
    {
     "data": {
      "text/plain": [
       "0.5714518481062608"
      ]
     },
     "execution_count": 17,
     "metadata": {},
     "output_type": "execute_result"
    }
   ],
   "source": [
    "fitbit['Minutes Very Active'].corr(fitbit['Steps'])"
   ]
  },
  {
   "cell_type": "markdown",
   "metadata": {},
   "source": [
    "#### Use matplotlib to visually plot Minutes Very active vs Steps. \n",
    "\n",
    "##### Hint : import matplotlib.pyplot as plt (See previous lessons)#####\n",
    "- Use plt.scatter(x=df['col_name_1'], y=df['col_name_2'])"
   ]
  },
  {
   "cell_type": "code",
   "execution_count": 18,
   "metadata": {},
   "outputs": [
    {
     "data": {
      "image/png": "[encoded data removed]",
      "text/plain": [
       "<Figure size 432x288 with 1 Axes>"
      ]
     },
     "metadata": {
      "needs_background": "light"
     },
     "output_type": "display_data"
    }
   ],
   "source": [
    "plt.scatter(fitbit['Minutes Very Active'], fitbit['Steps'])\n",
    "plt.title('Minutes Very Active VS Steps', fontweight=700)\n",
    "plt.xlabel('Minutes Very Active')\n",
    "plt.ylabel('Steps')\n",
    "plt.show()"
   ]
  },
  {
   "cell_type": "markdown",
   "metadata": {},
   "source": [
    "#### What can you say about Minute Very Active and Steps? Write a comment below"
   ]
  },
  {
   "cell_type": "markdown",
   "metadata": {},
   "source": [
    "There is a correlation between *Minutes Very Active* and *Steps*.\n",
    "As *Minutes Very Active* increases, *Steps* also increases. There is a positive linear relationship."
   ]
  },
  {
   "cell_type": "markdown",
   "metadata": {},
   "source": [
    "#### We also suspect that there must be a linear relationship between the Minutes Sedentary and the Steps. Compute the correlation between these variables."
   ]
  },
  {
   "cell_type": "code",
   "execution_count": 19,
   "metadata": {},
   "outputs": [
    {
     "data": {
      "text/plain": [
       "0.07690608062990094"
      ]
     },
     "execution_count": 19,
     "metadata": {},
     "output_type": "execute_result"
    }
   ],
   "source": [
    "fitbit['Minutes Sedentary'].corr(fitbit['Steps'])"
   ]
  },
  {
   "cell_type": "markdown",
   "metadata": {},
   "source": [
    "#### Use matplotlib to visually plot Minutes Sedentary vs Steps. Based on the results of the computed correlation and the plot. What can you say about these 2 variables?"
   ]
  },
  {
   "cell_type": "code",
   "execution_count": 20,
   "metadata": {},
   "outputs": [
    {
     "data": {
      "image/png": "[encoded data removed]",
      "text/plain": [
       "<Figure size 432x288 with 1 Axes>"
      ]
     },
     "metadata": {
      "needs_background": "light"
     },
     "output_type": "display_data"
    }
   ],
   "source": [
    "plt.scatter(fitbit['Minutes Sedentary'], fitbit['Steps'])\n",
    "plt.title('Minutes Sedentary VS Steps', fontweight=700)\n",
    "plt.xlabel('Minutes Sedentary')\n",
    "plt.ylabel('Steps')\n",
    "plt.show()"
   ]
  },
  {
   "cell_type": "markdown",
   "metadata": {},
   "source": [
    "It seems that there is no correlation between those variables. The correlation coefficient is almost zero."
   ]
  },
  {
   "cell_type": "markdown",
   "metadata": {},
   "source": [
    "#### We also suspect that there must be a linear relationship between the MinutesOfSleep and the Steps. Compute the correlation between these variables."
   ]
  },
  {
   "cell_type": "code",
   "execution_count": 21,
   "metadata": {},
   "outputs": [
    {
     "data": {
      "text/plain": [
       "0.13098565950836383"
      ]
     },
     "execution_count": 21,
     "metadata": {},
     "output_type": "execute_result"
    }
   ],
   "source": [
    "fitbit['MinutesOfSleep'].corr(fitbit['Steps'])"
   ]
  },
  {
   "cell_type": "markdown",
   "metadata": {},
   "source": [
    "#### Use matplotlib to visually plot MinutesOfSleep vs Steps. Based on the results of the computed correlation and the plot. What can you say about these 2 variables?"
   ]
  },
  {
   "cell_type": "code",
   "execution_count": 22,
   "metadata": {},
   "outputs": [
    {
     "data": {
      "image/png": "[encoded data removed]",
      "text/plain": [
       "<Figure size 432x288 with 1 Axes>"
      ]
     },
     "metadata": {
      "needs_background": "light"
     },
     "output_type": "display_data"
    }
   ],
   "source": [
    "plt.scatter(fitbit['MinutesOfSleep'], fitbit['Steps'])\n",
    "plt.title('MinutesOfSleep VS Steps', fontweight=700)\n",
    "plt.xlabel('MinutesOfSleep')\n",
    "plt.ylabel('Steps')\n",
    "plt.show()"
   ]
  },
  {
   "cell_type": "markdown",
   "metadata": {},
   "source": [
    "It seems that there is no correlation between those variables."
   ]
  },
  {
   "cell_type": "markdown",
   "metadata": {},
   "source": [
    "#### Select a subset of your dataset with the columns below and compute the correlation matrix. Save the results in the variable `cor_fit`\n",
    "column= ['Calorie burned', 'Steps','Floors','Minutes Sedentary','Minutes Very Active', 'MinutesOfSleep']"
   ]
  },
  {
   "cell_type": "code",
   "execution_count": 23,
   "metadata": {},
   "outputs": [],
   "source": [
    "cor_fit = fitbit[['Calorie burned', 'Steps','Floors', 'Minutes Sedentary', 'Minutes Very Active', 'MinutesOfSleep']].corr()"
   ]
  },
  {
   "cell_type": "code",
   "execution_count": 24,
   "metadata": {},
   "outputs": [
    {
     "data": {
      "text/html": [
       "<div>\n",
       "<style scoped>\n",
       "    .dataframe tbody tr th:only-of-type {\n",
       "        vertical-align: middle;\n",
       "    }\n",
       "\n",
       "    .dataframe tbody tr th {\n",
       "        vertical-align: top;\n",
       "    }\n",
       "\n",
       "    .dataframe thead th {\n",
       "        text-align: right;\n",
       "    }\n",
       "</style>\n",
       "<table border=\"1\" class=\"dataframe\">\n",
       "  <thead>\n",
       "    <tr style=\"text-align: right;\">\n",
       "      <th></th>\n",
       "      <th>Calorie burned</th>\n",
       "      <th>Steps</th>\n",
       "      <th>Floors</th>\n",
       "      <th>Minutes Sedentary</th>\n",
       "      <th>Minutes Very Active</th>\n",
       "      <th>MinutesOfSleep</th>\n",
       "    </tr>\n",
       "  </thead>\n",
       "  <tbody>\n",
       "    <tr>\n",
       "      <th>Calorie burned</th>\n",
       "      <td>1.000000</td>\n",
       "      <td>0.255305</td>\n",
       "      <td>0.130757</td>\n",
       "      <td>0.125353</td>\n",
       "      <td>0.197881</td>\n",
       "      <td>0.011485</td>\n",
       "    </tr>\n",
       "    <tr>\n",
       "      <th>Steps</th>\n",
       "      <td>0.255305</td>\n",
       "      <td>1.000000</td>\n",
       "      <td>0.306511</td>\n",
       "      <td>0.076906</td>\n",
       "      <td>0.571452</td>\n",
       "      <td>0.130986</td>\n",
       "    </tr>\n",
       "    <tr>\n",
       "      <th>Floors</th>\n",
       "      <td>0.130757</td>\n",
       "      <td>0.306511</td>\n",
       "      <td>1.000000</td>\n",
       "      <td>0.057812</td>\n",
       "      <td>0.399503</td>\n",
       "      <td>0.069464</td>\n",
       "    </tr>\n",
       "    <tr>\n",
       "      <th>Minutes Sedentary</th>\n",
       "      <td>0.125353</td>\n",
       "      <td>0.076906</td>\n",
       "      <td>0.057812</td>\n",
       "      <td>1.000000</td>\n",
       "      <td>0.105963</td>\n",
       "      <td>0.204242</td>\n",
       "    </tr>\n",
       "    <tr>\n",
       "      <th>Minutes Very Active</th>\n",
       "      <td>0.197881</td>\n",
       "      <td>0.571452</td>\n",
       "      <td>0.399503</td>\n",
       "      <td>0.105963</td>\n",
       "      <td>1.000000</td>\n",
       "      <td>0.108018</td>\n",
       "    </tr>\n",
       "    <tr>\n",
       "      <th>MinutesOfSleep</th>\n",
       "      <td>0.011485</td>\n",
       "      <td>0.130986</td>\n",
       "      <td>0.069464</td>\n",
       "      <td>0.204242</td>\n",
       "      <td>0.108018</td>\n",
       "      <td>1.000000</td>\n",
       "    </tr>\n",
       "  </tbody>\n",
       "</table>\n",
       "</div>"
      ],
      "text/plain": [
       "                     Calorie burned     Steps    Floors  Minutes Sedentary  \\\n",
       "Calorie burned             1.000000  0.255305  0.130757           0.125353   \n",
       "Steps                      0.255305  1.000000  0.306511           0.076906   \n",
       "Floors                     0.130757  0.306511  1.000000           0.057812   \n",
       "Minutes Sedentary          0.125353  0.076906  0.057812           1.000000   \n",
       "Minutes Very Active        0.197881  0.571452  0.399503           0.105963   \n",
       "MinutesOfSleep             0.011485  0.130986  0.069464           0.204242   \n",
       "\n",
       "                     Minutes Very Active  MinutesOfSleep  \n",
       "Calorie burned                  0.197881        0.011485  \n",
       "Steps                           0.571452        0.130986  \n",
       "Floors                          0.399503        0.069464  \n",
       "Minutes Sedentary               0.105963        0.204242  \n",
       "Minutes Very Active             1.000000        0.108018  \n",
       "MinutesOfSleep                  0.108018        1.000000  "
      ]
     },
     "execution_count": 24,
     "metadata": {},
     "output_type": "execute_result"
    }
   ],
   "source": [
    "cor_fit"
   ]
  },
  {
   "cell_type": "markdown",
   "metadata": {},
   "source": [
    "#### Based on the result of the correlation matrix. What are the highly correlated features with the variable Steps?\n",
    "*Hint: From the results above select the variable Steps and order your results in descending order (use Pandas sort_values function)*"
   ]
  },
  {
   "cell_type": "code",
   "execution_count": 25,
   "metadata": {},
   "outputs": [
    {
     "data": {
      "text/plain": [
       "Minutes Very Active    0.571452\n",
       "Floors                 0.306511\n",
       "Calorie burned         0.255305\n",
       "MinutesOfSleep         0.130986\n",
       "Minutes Sedentary      0.076906\n",
       "Name: Steps, dtype: float64"
      ]
     },
     "execution_count": 25,
     "metadata": {},
     "output_type": "execute_result"
    }
   ],
   "source": [
    "cor_fit['Steps'].sort_values(ascending=False)[1:]"
   ]
  },
  {
   "cell_type": "markdown",
   "metadata": {},
   "source": [
    "# Challenge 3"
   ]
  },
  {
   "cell_type": "markdown",
   "metadata": {},
   "source": [
    "#### Open the `Time_Grades.csv` file and name your dataset `time_grades`."
   ]
  },
  {
   "cell_type": "code",
   "execution_count": 26,
   "metadata": {},
   "outputs": [],
   "source": [
    "time_grades = pd.read_csv('data/Time_Grades.csv');"
   ]
  },
  {
   "cell_type": "code",
   "execution_count": 27,
   "metadata": {},
   "outputs": [
    {
     "data": {
      "text/html": [
       "<div>\n",
       "<style scoped>\n",
       "    .dataframe tbody tr th:only-of-type {\n",
       "        vertical-align: middle;\n",
       "    }\n",
       "\n",
       "    .dataframe tbody tr th {\n",
       "        vertical-align: top;\n",
       "    }\n",
       "\n",
       "    .dataframe thead th {\n",
       "        text-align: right;\n",
       "    }\n",
       "</style>\n",
       "<table border=\"1\" class=\"dataframe\">\n",
       "  <thead>\n",
       "    <tr style=\"text-align: right;\">\n",
       "      <th></th>\n",
       "      <th>Name</th>\n",
       "      <th>Study time</th>\n",
       "      <th>Grade</th>\n",
       "    </tr>\n",
       "  </thead>\n",
       "  <tbody>\n",
       "    <tr>\n",
       "      <th>0</th>\n",
       "      <td>Jose</td>\n",
       "      <td>4</td>\n",
       "      <td>4</td>\n",
       "    </tr>\n",
       "    <tr>\n",
       "      <th>1</th>\n",
       "      <td>Maria</td>\n",
       "      <td>9</td>\n",
       "      <td>7</td>\n",
       "    </tr>\n",
       "    <tr>\n",
       "      <th>2</th>\n",
       "      <td>David</td>\n",
       "      <td>8</td>\n",
       "      <td>9</td>\n",
       "    </tr>\n",
       "    <tr>\n",
       "      <th>3</th>\n",
       "      <td>Sonia</td>\n",
       "      <td>10</td>\n",
       "      <td>7</td>\n",
       "    </tr>\n",
       "    <tr>\n",
       "      <th>4</th>\n",
       "      <td>Samuel</td>\n",
       "      <td>20</td>\n",
       "      <td>9</td>\n",
       "    </tr>\n",
       "  </tbody>\n",
       "</table>\n",
       "</div>"
      ],
      "text/plain": [
       "     Name  Study time  Grade\n",
       "0    Jose           4      4\n",
       "1   Maria           9      7\n",
       "2   David           8      9\n",
       "3   Sonia          10      7\n",
       "4  Samuel          20      9"
      ]
     },
     "execution_count": 27,
     "metadata": {},
     "output_type": "execute_result"
    }
   ],
   "source": [
    "time_grades.head()"
   ]
  },
  {
   "cell_type": "markdown",
   "metadata": {},
   "source": [
    "#### Show visually the frequency distribution of the time_grades dataset."
   ]
  },
  {
   "cell_type": "code",
   "execution_count": 28,
   "metadata": {},
   "outputs": [
    {
     "data": {
      "image/png": "[encoded data removed]",
      "text/plain": [
       "<Figure size 720x288 with 2 Axes>"
      ]
     },
     "metadata": {
      "needs_background": "light"
     },
     "output_type": "display_data"
    }
   ],
   "source": [
    "time_grades.hist(figsize=(10,4), bins=30)\n",
    "plt.show()"
   ]
  },
  {
   "cell_type": "markdown",
   "metadata": {},
   "source": [
    "#### Is there a correlation between study time and Grade? Use both Pearson and Spearman correlation and comment your results."
   ]
  },
  {
   "cell_type": "code",
   "execution_count": 29,
   "metadata": {},
   "outputs": [
    {
     "data": {
      "text/plain": [
       "0.7980456073578858"
      ]
     },
     "execution_count": 29,
     "metadata": {},
     "output_type": "execute_result"
    }
   ],
   "source": [
    "time_grades['Study time'].corr(time_grades['Grade'])"
   ]
  },
  {
   "cell_type": "code",
   "execution_count": 30,
   "metadata": {},
   "outputs": [
    {
     "data": {
      "text/plain": [
       "0.819658753036942"
      ]
     },
     "execution_count": 30,
     "metadata": {},
     "output_type": "execute_result"
    }
   ],
   "source": [
    "time_grades['Study time'].corr(time_grades['Grade'], method='spearman')"
   ]
  },
  {
   "cell_type": "markdown",
   "metadata": {},
   "source": [
    "Yes, there is correlation between both variables."
   ]
  },
  {
   "cell_type": "markdown",
   "metadata": {},
   "source": [
    "#### Use matplotlib to visually plot Study time vs Grade. Based on the results of the computed correlation and the plot. What can you say about these 2 variables?"
   ]
  },
  {
   "cell_type": "code",
   "execution_count": 31,
   "metadata": {},
   "outputs": [
    {
     "data": {
      "image/png": "[encoded data removed]",
      "text/plain": [
       "<Figure size 432x288 with 1 Axes>"
      ]
     },
     "metadata": {
      "needs_background": "light"
     },
     "output_type": "display_data"
    }
   ],
   "source": [
    "plt.scatter(time_grades['Study time'], time_grades['Grade'])\n",
    "plt.title('Study Time VS Grade', fontweight=700)\n",
    "plt.xlabel('Study Time')\n",
    "plt.ylabel('Grade')\n",
    "plt.show()"
   ]
  },
  {
   "cell_type": "markdown",
   "metadata": {},
   "source": [
    "There is a high correlation between study time and grades. As study time increases, grades also increase. "
   ]
  },
  {
   "cell_type": "markdown",
   "metadata": {},
   "source": [
    "#### Could you explain the difference between Pearson and Spearman correlation? (see References in README.md) "
   ]
  },
  {
   "cell_type": "markdown",
   "metadata": {},
   "source": [
    "- Spearman correlation is a special case of Pearson's correlation.\n",
    "- The Spearman correlation evaluates the monotonic relationship between two continuous or ordinal variables (the variables tend to change together, but not necessarily at a constant rate).\n",
    "- The Pearson correlation evaluates the linear relationship between two continuous variables (a change in one variable is associated with a proportional change in the other variable). "
   ]
  }
 ],
 "metadata": {
  "anaconda-cloud": {},
  "kernelspec": {
   "display_name": "ironhack-3.7",
   "language": "python",
   "name": "ironhack-3.7"
  },
  "language_info": {
   "codemirror_mode": {
    "name": "ipython",
    "version": 3
   },
   "file_extension": ".py",
   "mimetype": "text/x-python",
   "name": "python",
   "nbconvert_exporter": "python",
   "pygments_lexer": "ipython3",
   "version": "3.7.3"
  }
 },
 "nbformat": 4,
 "nbformat_minor": 1
}
