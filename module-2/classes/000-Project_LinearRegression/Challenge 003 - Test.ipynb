{
 "cells": [
  {
   "cell_type": "markdown",
   "metadata": {},
   "source": [
    "# Descriptive Statistics Review\n",
    "\n",
    "In this second part of the lab, we are going to continue working with the data that we cleaned in the last part. \n",
    "Be sure to continue to write clean code and comment your work well!\n",
    "\n",
    "First, lets import our libraries and the data we saved. "
   ]
  },
  {
   "cell_type": "code",
   "execution_count": 1,
   "metadata": {},
   "outputs": [],
   "source": [
    "import pandas as pd\n",
    "import matplotlib.pyplot as plt\n",
    "import seaborn as sns\n",
    "import numpy as np\n",
    "\n",
    "from sklearn.preprocessing import StandardScaler, scale\n",
    "from sklearn.decomposition import PCA\n",
    "from sklearn.model_selection import train_test_split\n",
    "\n",
    "from sklearn.linear_model import LinearRegression\n",
    "from sklearn.metrics import mean_squared_error\n",
    "from sklearn.metrics import r2_score"
   ]
  },
  {
   "cell_type": "markdown",
   "metadata": {},
   "source": [
    "## Import file, dropping non-ordinal colums"
   ]
  },
  {
   "cell_type": "code",
   "execution_count": 2,
   "metadata": {},
   "outputs": [],
   "source": [
    "diamonds = pd.read_csv('diamonds_data.csv')"
   ]
  },
  {
   "cell_type": "code",
   "execution_count": 3,
   "metadata": {},
   "outputs": [],
   "source": [
    "diamonds = pd.read_csv('diamonds_data.csv')\n",
    "diamonds = diamonds.loc[:, diamonds.dtypes == 'float64']\n",
    "\n",
    "Diamonds = diamonds.loc[:, diamonds.columns != 'price']\n",
    "diamonds_price = diamonds['price']"
   ]
  },
  {
   "cell_type": "markdown",
   "metadata": {},
   "source": [
    "# Do the regression"
   ]
  },
  {
   "cell_type": "markdown",
   "metadata": {},
   "source": [
    "## Train test splitting"
   ]
  },
  {
   "cell_type": "code",
   "execution_count": 4,
   "metadata": {},
   "outputs": [],
   "source": [
    "Diamonds_train, Diamonds_test, diamonds_price_train, diamonds_price_test = \\\n",
    "    train_test_split(\n",
    "        Diamonds, diamonds_price\n",
    "    )"
   ]
  },
  {
   "cell_type": "markdown",
   "metadata": {},
   "source": [
    "## Model"
   ]
  },
  {
   "cell_type": "code",
   "execution_count": 40,
   "metadata": {},
   "outputs": [],
   "source": [
    "columns = ['carat', 'depth', 'table', 'clarity_idx', 'color_idx', 'cut_idx', 'pca_x_y_z']\n",
    "\n",
    "def add_level(lst = [], i = 0, l = 0):\n",
    "    if l == len(columns):\n",
    "        return lst\n",
    "\n",
    "    if l == 0:\n",
    "        lst = [[columns[0]]]\n",
    "        lst = add_level(lst, i, l + 1)\n",
    "    else:\n",
    "        curr_idx = len(lst)\n",
    "\n",
    "        for j in range(l, len(columns)):\n",
    "            if columns.index(lst[i][-1]) < j:\n",
    "                lst.append(lst[i] + [columns[j]])\n",
    "\n",
    "        for j in range(curr_idx, len(lst)):\n",
    "            lst = add_level(lst, j, l + 1)\n",
    "        \n",
    "    return lst\n",
    "\n",
    "tries = \\\n",
    "    pd.DataFrame(\n",
    "        index = [', '.join(c) for c in add_level()],\n",
    "        columns = ['MSE', 'R2']\n",
    "    )"
   ]
  },
  {
   "cell_type": "code",
   "execution_count": 41,
   "metadata": {},
   "outputs": [],
   "source": [
    "for idx in tries.index:\n",
    "    columns = idx.split(', ')\n",
    "    \n",
    "    model = LinearRegression()\n",
    "    model.fit(Diamonds_train[columns], diamonds_price_train)\n",
    "    \n",
    "    data = Diamonds_test[columns]    \n",
    "    price_predicted = model.predict(data)\n",
    "    \n",
    "    tries.loc[idx]['MSE'] = np.sqrt(mean_squared_error(diamonds_price_test, price_predicted))\n",
    "    tries.loc[idx]['R2']  = r2_score(diamonds_price_test, price_predicted)\n",
    "    "
   ]
  },
  {
   "cell_type": "code",
   "execution_count": 46,
   "metadata": {},
   "outputs": [
    {
     "data": {
      "text/html": [
       "<div>\n",
       "<style scoped>\n",
       "    .dataframe tbody tr th:only-of-type {\n",
       "        vertical-align: middle;\n",
       "    }\n",
       "\n",
       "    .dataframe tbody tr th {\n",
       "        vertical-align: top;\n",
       "    }\n",
       "\n",
       "    .dataframe thead th {\n",
       "        text-align: right;\n",
       "    }\n",
       "</style>\n",
       "<table border=\"1\" class=\"dataframe\">\n",
       "  <thead>\n",
       "    <tr style=\"text-align: right;\">\n",
       "      <th></th>\n",
       "      <th>MSE</th>\n",
       "      <th>R2</th>\n",
       "    </tr>\n",
       "  </thead>\n",
       "  <tbody>\n",
       "    <tr>\n",
       "      <th>carat, depth, table, clarity_idx, color_idx, cut_idx, pca_x_y_z</th>\n",
       "      <td>1164.84</td>\n",
       "      <td>0.915511</td>\n",
       "    </tr>\n",
       "    <tr>\n",
       "      <th>carat, depth, clarity_idx, color_idx, cut_idx, pca_x_y_z</th>\n",
       "      <td>1166.55</td>\n",
       "      <td>0.915263</td>\n",
       "    </tr>\n",
       "    <tr>\n",
       "      <th>carat, depth, table, clarity_idx, color_idx, pca_x_y_z</th>\n",
       "      <td>1167.42</td>\n",
       "      <td>0.915136</td>\n",
       "    </tr>\n",
       "    <tr>\n",
       "      <th>carat, table, clarity_idx, color_idx, cut_idx, pca_x_y_z</th>\n",
       "      <td>1169.49</td>\n",
       "      <td>0.914835</td>\n",
       "    </tr>\n",
       "    <tr>\n",
       "      <th>carat, clarity_idx, color_idx, cut_idx, pca_x_y_z</th>\n",
       "      <td>1169.61</td>\n",
       "      <td>0.914818</td>\n",
       "    </tr>\n",
       "  </tbody>\n",
       "</table>\n",
       "</div>"
      ],
      "text/plain": [
       "                                                        MSE        R2\n",
       "carat, depth, table, clarity_idx, color_idx, cu...  1164.84  0.915511\n",
       "carat, depth, clarity_idx, color_idx, cut_idx, ...  1166.55  0.915263\n",
       "carat, depth, table, clarity_idx, color_idx, pc...  1167.42  0.915136\n",
       "carat, table, clarity_idx, color_idx, cut_idx, ...  1169.49  0.914835\n",
       "carat, clarity_idx, color_idx, cut_idx, pca_x_y_z   1169.61  0.914818"
      ]
     },
     "execution_count": 46,
     "metadata": {},
     "output_type": "execute_result"
    }
   ],
   "source": [
    "tries.sort_values(by='R2', ascending=False).head()"
   ]
  },
  {
   "cell_type": "code",
   "execution_count": 49,
   "metadata": {},
   "outputs": [
    {
     "data": {
      "text/html": [
       "<div>\n",
       "<style scoped>\n",
       "    .dataframe tbody tr th:only-of-type {\n",
       "        vertical-align: middle;\n",
       "    }\n",
       "\n",
       "    .dataframe tbody tr th {\n",
       "        vertical-align: top;\n",
       "    }\n",
       "\n",
       "    .dataframe thead th {\n",
       "        text-align: right;\n",
       "    }\n",
       "</style>\n",
       "<table border=\"1\" class=\"dataframe\">\n",
       "  <thead>\n",
       "    <tr style=\"text-align: right;\">\n",
       "      <th></th>\n",
       "      <th>MSE</th>\n",
       "      <th>R2</th>\n",
       "    </tr>\n",
       "  </thead>\n",
       "  <tbody>\n",
       "    <tr>\n",
       "      <th>carat, depth, table, clarity_idx, color_idx, cut_idx, pca_x_y_z</th>\n",
       "      <td>1164.84</td>\n",
       "      <td>0.915511</td>\n",
       "    </tr>\n",
       "    <tr>\n",
       "      <th>carat, depth, clarity_idx, color_idx, cut_idx, pca_x_y_z</th>\n",
       "      <td>1166.55</td>\n",
       "      <td>0.915263</td>\n",
       "    </tr>\n",
       "    <tr>\n",
       "      <th>carat, depth, table, clarity_idx, color_idx, pca_x_y_z</th>\n",
       "      <td>1167.42</td>\n",
       "      <td>0.915136</td>\n",
       "    </tr>\n",
       "    <tr>\n",
       "      <th>carat, table, clarity_idx, color_idx, cut_idx, pca_x_y_z</th>\n",
       "      <td>1169.49</td>\n",
       "      <td>0.914835</td>\n",
       "    </tr>\n",
       "    <tr>\n",
       "      <th>carat, clarity_idx, color_idx, cut_idx, pca_x_y_z</th>\n",
       "      <td>1169.61</td>\n",
       "      <td>0.914818</td>\n",
       "    </tr>\n",
       "  </tbody>\n",
       "</table>\n",
       "</div>"
      ],
      "text/plain": [
       "                                                        MSE        R2\n",
       "carat, depth, table, clarity_idx, color_idx, cu...  1164.84  0.915511\n",
       "carat, depth, clarity_idx, color_idx, cut_idx, ...  1166.55  0.915263\n",
       "carat, depth, table, clarity_idx, color_idx, pc...  1167.42  0.915136\n",
       "carat, table, clarity_idx, color_idx, cut_idx, ...  1169.49  0.914835\n",
       "carat, clarity_idx, color_idx, cut_idx, pca_x_y_z   1169.61  0.914818"
      ]
     },
     "execution_count": 49,
     "metadata": {},
     "output_type": "execute_result"
    }
   ],
   "source": [
    "tries.sort_values(by='MSE', ascending=True).head()"
   ]
  },
  {
   "cell_type": "markdown",
   "metadata": {},
   "source": [
    "# Apply!"
   ]
  },
  {
   "cell_type": "code",
   "execution_count": 50,
   "metadata": {},
   "outputs": [],
   "source": [
    "rick = pd.read_csv('rick_diamonds.csv')"
   ]
  },
  {
   "cell_type": "markdown",
   "metadata": {},
   "source": [
    "## Qualify"
   ]
  },
  {
   "cell_type": "code",
   "execution_count": 51,
   "metadata": {},
   "outputs": [],
   "source": [
    "clarities = ['I1', 'SI2', 'SI1', 'VS2', 'VS1', 'VVS2', 'VVS1', 'IF']\n",
    "\n",
    "rick['clarity_idx'] = [clarities.index(c) for c in rick.clarity]"
   ]
  },
  {
   "cell_type": "code",
   "execution_count": 52,
   "metadata": {},
   "outputs": [],
   "source": [
    "colors = ['J', 'I', 'H', 'G', 'F', 'E', 'D']\n",
    "\n",
    "rick['color_idx'] = [colors.index(c) for c in rick.color]\n"
   ]
  },
  {
   "cell_type": "code",
   "execution_count": 53,
   "metadata": {},
   "outputs": [],
   "source": [
    "cuts = ['Fair', 'Good', 'Very Good', 'Premium', 'Ideal']\n",
    "\n",
    "rick['cut_idx'] = [cuts.index(c) for c in rick.cut]\n"
   ]
  },
  {
   "cell_type": "markdown",
   "metadata": {},
   "source": [
    "## PCA for x, y, z"
   ]
  },
  {
   "cell_type": "code",
   "execution_count": 57,
   "metadata": {},
   "outputs": [
    {
     "data": {
      "text/plain": [
       "array([0.99526299])"
      ]
     },
     "execution_count": 57,
     "metadata": {},
     "output_type": "execute_result"
    }
   ],
   "source": [
    "pca_data = rick[['x', 'y', 'z']]\n",
    "\n",
    "pca_x_y_z = PCA(n_components=1)\n",
    "pca_x_y_z.fit(pca_data)\n",
    "\n",
    "rick['pca_x_y_z'] = pca_x_y_z.transform(rick[['x', 'y', 'z']])\n",
    "pca_x_y_z.explained_variance_ratio_"
   ]
  },
  {
   "cell_type": "markdown",
   "metadata": {},
   "source": [
    "## Run model"
   ]
  },
  {
   "cell_type": "code",
   "execution_count": 72,
   "metadata": {},
   "outputs": [
    {
     "data": {
      "text/plain": [
       "LinearRegression(copy_X=True, fit_intercept=True, n_jobs=None, normalize=False)"
      ]
     },
     "execution_count": 72,
     "metadata": {},
     "output_type": "execute_result"
    }
   ],
   "source": [
    "model = LinearRegression()\n",
    "model_columns = ['carat', 'depth', 'table', 'clarity_idx', 'color_idx', 'cut_idx', 'pca_x_y_z']\n",
    "\n",
    "model.fit(diamonds[model_columns], diamonds_price)"
   ]
  },
  {
   "cell_type": "code",
   "execution_count": 73,
   "metadata": {},
   "outputs": [],
   "source": [
    "rick_prediction = \\\n",
    "    model.predict(rick[model_columns])"
   ]
  },
  {
   "cell_type": "code",
   "execution_count": 74,
   "metadata": {},
   "outputs": [],
   "source": [
    "rick['price_predicted'] = rick_prediction"
   ]
  },
  {
   "cell_type": "code",
   "execution_count": 75,
   "metadata": {},
   "outputs": [
    {
     "data": {
      "text/plain": [
       "<matplotlib.axes._subplots.AxesSubplot at 0x2217bd94d48>"
      ]
     },
     "execution_count": 75,
     "metadata": {},
     "output_type": "execute_result"
    },
    {
     "data": {
      "image/png": "[encoded data removed]",
      "text/plain": [
       "<Figure size 432x288 with 1 Axes>"
      ]
     },
     "metadata": {
      "needs_background": "light"
     },
     "output_type": "display_data"
    }
   ],
   "source": [
    "sns.distplot(rick['price_predicted'])\n"
   ]
  },
  {
   "cell_type": "markdown",
   "metadata": {},
   "source": [
    "## Output"
   ]
  },
  {
   "cell_type": "code",
   "execution_count": 63,
   "metadata": {},
   "outputs": [],
   "source": [
    "rick.to_csv('diamonds_rick.csv', index=False)"
   ]
  },
  {
   "cell_type": "code",
   "execution_count": null,
   "metadata": {},
   "outputs": [],
   "source": []
  }
 ],
 "metadata": {
  "kernelspec": {
   "display_name": "Python 3",
   "language": "python",
   "name": "python3"
  },
  "language_info": {
   "codemirror_mode": {
    "name": "ipython",
    "version": 3
   },
   "file_extension": ".py",
   "mimetype": "text/x-python",
   "name": "python",
   "nbconvert_exporter": "python",
   "pygments_lexer": "ipython3",
   "version": "3.7.6"
  }
 },
 "nbformat": 4,
 "nbformat_minor": 2
}
