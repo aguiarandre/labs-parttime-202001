{
 "cells": [
  {
   "cell_type": "markdown",
   "metadata": {},
   "source": [
    "\n",
    "# Probability"
   ]
  },
  {
   "cell_type": "markdown",
   "metadata": {},
   "source": [
    "## Key Concepts:\n",
    "\n",
    "### Sample Space"
   ]
  },
  {
   "cell_type": "markdown",
   "metadata": {
    "ExecuteTime": {
     "end_time": "2020-04-09T19:24:34.049973Z",
     "start_time": "2020-04-09T19:24:34.044986Z"
    }
   },
   "source": [
    "All the possible outcomes of an experiment. Examples:\n",
    "    - Flip of a coin: Ω = {'Cara','Coroa'}\n",
    "    - Roll of a dice: Ω = {1,2,3,4,5,6}\n",
    "    \n",
    "Omega is the nomenclature for a sample space: <b> Ω = {} </b>"
   ]
  },
  {
   "cell_type": "markdown",
   "metadata": {},
   "source": [
    "### Event\n",
    "\n"
   ]
  },
  {
   "cell_type": "markdown",
   "metadata": {},
   "source": [
    "Subset of our sample space:\n",
    "- even number of dice $\\rightarrow $ <b> A = {2, 4, 6} </b>\n",
    "    "
   ]
  },
  {
   "cell_type": "markdown",
   "metadata": {},
   "source": [
    "### Probability"
   ]
  },
  {
   "cell_type": "markdown",
   "metadata": {},
   "source": [
    "The probability of an event to happen is: \n",
    "\n",
    "$$P(event) = \\frac{\\text{number of outcomes of an event}}{\\text{number of outcomes of the sample space}}$$"
   ]
  },
  {
   "cell_type": "markdown",
   "metadata": {
    "ExecuteTime": {
     "end_time": "2020-04-09T19:35:04.548226Z",
     "start_time": "2020-04-09T19:35:04.543240Z"
    }
   },
   "source": [
    "$$P(A) = \\frac{len(A)}{len(Ω)} = \\frac{3}{6} = \\frac{1}{2} = 50\\% $$"
   ]
  },
  {
   "cell_type": "markdown",
   "metadata": {
    "ExecuteTime": {
     "end_time": "2020-04-10T13:20:01.470804Z",
     "start_time": "2020-04-10T13:20:01.467812Z"
    },
    "collapsed": true
   },
   "source": [
    "### What is the probability of the entire sample space?"
   ]
  },
  {
   "cell_type": "markdown",
   "metadata": {},
   "source": [
    "$$P(A) = \\frac{len(Ω)}{len(Ω)} = 1 = 100\\% $$"
   ]
  },
  {
   "cell_type": "markdown",
   "metadata": {},
   "source": [
    "## Simulating scenarios"
   ]
  },
  {
   "cell_type": "code",
   "execution_count": 1,
   "metadata": {
    "ExecuteTime": {
     "end_time": "2020-04-29T22:47:04.210771Z",
     "start_time": "2020-04-29T22:47:04.140788Z"
    }
   },
   "outputs": [],
   "source": [
    "import numpy as np"
   ]
  },
  {
   "cell_type": "code",
   "execution_count": 2,
   "metadata": {
    "ExecuteTime": {
     "end_time": "2020-04-29T22:47:04.745314Z",
     "start_time": "2020-04-29T22:47:04.212738Z"
    }
   },
   "outputs": [
    {
     "name": "stdout",
     "output_type": "stream",
     "text": [
      "50.0%\n"
     ]
    }
   ],
   "source": [
    "def is_even(x):\n",
    "    if x % 2 == 0:\n",
    "        return True\n",
    "    else:\n",
    "        return False\n",
    "    \n",
    "dice = [1, 2, 3, 4, 5, 6]\n",
    "\n",
    "dice_rolls = np.random.choice(dice, size=1000000)\n",
    "\n",
    "count_events = len([item for item in dice_rolls if is_even(item)])\n",
    "count_rolls  = len(dice_rolls)\n",
    "\n",
    "print(f'{count_events / count_rolls *100:.1f}%')"
   ]
  },
  {
   "cell_type": "markdown",
   "metadata": {},
   "source": [
    "## Union\n",
    "\n",
    "Event: \n",
    "\n",
    "A = even = {2, 4, 6}<br>\n",
    "B = greater than 4 = {5, 6}\n",
    "\n",
    "A U B = {2, 4, 5, 6}"
   ]
  },
  {
   "cell_type": "markdown",
   "metadata": {},
   "source": [
    "### Mutual Exclusivity\n",
    "\n",
    "Events that have no intersection: \n",
    "\n",
    "Events: even and odd numbers of dice\n",
    "\n",
    "A = {1, 3, 5}<br>\n",
    "B = {2, 4, 6}\n",
    "\n",
    "$ A ∩ B = \\{\\} $"
   ]
  },
  {
   "cell_type": "code",
   "execution_count": 3,
   "metadata": {
    "ExecuteTime": {
     "end_time": "2020-04-29T22:47:04.749328Z",
     "start_time": "2020-04-29T22:47:04.746312Z"
    }
   },
   "outputs": [],
   "source": [
    "# What is the sum of the probability of all mutual exclusive events ?\n",
    "\n",
    "# P(1) + P(2) + P(3) + ... + P(6) = 100%"
   ]
  },
  {
   "cell_type": "markdown",
   "metadata": {},
   "source": [
    "Event: \n",
    "\n",
    "A = even = {2, 4, 6} <br>\n",
    "C = less than 4 = {1, 2, 3}\n",
    "\n",
    "Are they mutually exclusive?\n",
    "\n",
    "No, because 𝐴∩C = {2}"
   ]
  },
  {
   "cell_type": "markdown",
   "metadata": {
    "ExecuteTime": {
     "end_time": "2020-04-09T20:14:37.283320Z",
     "start_time": "2020-04-09T20:14:37.281327Z"
    }
   },
   "source": [
    "### Conditional Probability"
   ]
  },
  {
   "cell_type": "markdown",
   "metadata": {},
   "source": [
    "P(A|B) $\\rightarrow$ Probability of event A to happen given that event B happens"
   ]
  },
  {
   "cell_type": "markdown",
   "metadata": {
    "ExecuteTime": {
     "end_time": "2020-04-09T20:16:19.542584Z",
     "start_time": "2020-04-09T20:16:19.538570Z"
    }
   },
   "source": [
    "$$ P(A|B) = \\frac{P(𝐴∩𝐵)}{P(B)} $$"
   ]
  },
  {
   "cell_type": "markdown",
   "metadata": {},
   "source": [
    "Example:\n",
    "\n",
    "The probability that a die roll is less than 3 given that it is odd"
   ]
  },
  {
   "cell_type": "markdown",
   "metadata": {},
   "source": [
    "Sample Space = {1,2,3,4,5,6}\n",
    "\n",
    "Events:\n",
    "- A = less than 3 = {1,2}\n",
    "- B = odd = {1,3,5}\n",
    "\n",
    "- A ∩ B = {1}\n",
    "\n",
    "$$ P(A|B) = \\frac{P(𝐴∩𝐵)}{P(B)} = \\frac{1}{3} $$"
   ]
  },
  {
   "cell_type": "markdown",
   "metadata": {},
   "source": [
    "-----"
   ]
  },
  {
   "cell_type": "markdown",
   "metadata": {},
   "source": [
    "## Mounty Hall Problem"
   ]
  },
  {
   "cell_type": "code",
   "execution_count": 4,
   "metadata": {
    "ExecuteTime": {
     "end_time": "2020-04-29T22:47:04.756329Z",
     "start_time": "2020-04-29T22:47:04.751299Z"
    }
   },
   "outputs": [],
   "source": [
    "def mounty_hall(decision):\n",
    "    choices = [1,2,3]\n",
    "    your_choice = np.random.choice(choices)\n",
    "    premium = np.random.choice(choices)\n",
    "    #print(choices, premium)\n",
    "    # open a door\n",
    "    cabras = [item for item in choices if item != premium]\n",
    "    #print(cabras)\n",
    "    \n",
    "    # select a cabra from a subset that is not your choice\n",
    "    door_to_open = np.random.choice([door for door in cabras if door != your_choice])\n",
    "    \n",
    "    # remove cabra from choices\n",
    "    choices.remove(door_to_open)\n",
    "    doors_remaining = choices\n",
    "    \n",
    "    #print(your_choice, premium,  choices, door_to_open)\n",
    "    \n",
    "    # switch choices\n",
    "    doors_remaining.remove(your_choice)\n",
    "    \n",
    "    if decision == 'switch':\n",
    "        final_choice = doors_remaining\n",
    "    else:\n",
    "        final_choice = your_choice\n",
    "        \n",
    "    #print(final_choice, premium)\n",
    "    if final_choice == premium:\n",
    "        return True\n",
    "    else:\n",
    "        return False"
   ]
  },
  {
   "cell_type": "code",
   "execution_count": 5,
   "metadata": {
    "ExecuteTime": {
     "end_time": "2020-04-29T22:47:06.159165Z",
     "start_time": "2020-04-29T22:47:04.758280Z"
    }
   },
   "outputs": [
    {
     "data": {
      "text/plain": [
       "0.33358"
      ]
     },
     "execution_count": 5,
     "metadata": {},
     "output_type": "execute_result"
    }
   ],
   "source": [
    "import numpy as np\n",
    "np.mean([mounty_hall('not switch') for i in range(100000)])"
   ]
  },
  {
   "cell_type": "markdown",
   "metadata": {},
   "source": [
    "# DISCRETE PROBABILITY DISTRIBUTIONS"
   ]
  },
  {
   "cell_type": "code",
   "execution_count": 61,
   "metadata": {
    "ExecuteTime": {
     "end_time": "2020-04-30T00:07:55.911627Z",
     "start_time": "2020-04-30T00:07:55.907638Z"
    }
   },
   "outputs": [],
   "source": [
    "import numpy as np\n",
    "import seaborn as sns\n",
    "import pandas as pd\n",
    "import matplotlib.pyplot as plt"
   ]
  },
  {
   "cell_type": "markdown",
   "metadata": {},
   "source": [
    "## Random Variables"
   ]
  },
  {
   "cell_type": "markdown",
   "metadata": {},
   "source": [
    "The map of <b>outcomes $\\rightarrow$ numbers</b>"
   ]
  },
  {
   "cell_type": "markdown",
   "metadata": {},
   "source": [
    "Discrete vs Continuous Distributions:\n",
    "\n",
    "Discrete\n",
    "- Dice roll\n",
    "- Nome escolhido aleatoriamente\n",
    "\n",
    "Continuous\n",
    "- Renda de um cliente aleatorio\n",
    "- Peso de um animal do meu dataset"
   ]
  },
  {
   "cell_type": "markdown",
   "metadata": {},
   "source": [
    "### Discrete Uniform Distribution"
   ]
  },
  {
   "cell_type": "code",
   "execution_count": 8,
   "metadata": {
    "ExecuteTime": {
     "end_time": "2020-04-29T22:47:07.455458Z",
     "start_time": "2020-04-29T22:47:07.257987Z"
    }
   },
   "outputs": [
    {
     "data": {
      "text/plain": [
       "<matplotlib.axes._subplots.AxesSubplot at 0x2200005d668>"
      ]
     },
     "execution_count": 8,
     "metadata": {},
     "output_type": "execute_result"
    },
    {
     "data": {
      "image/png": "[encoded data removed]",
      "text/plain": [
       "<Figure size 432x288 with 1 Axes>"
      ]
     },
     "metadata": {
      "needs_background": "light"
     },
     "output_type": "display_data"
    }
   ],
   "source": [
    "sns.distplot(np.random.randint(0, 100, size=100), kde=False, bins = 100)"
   ]
  },
  {
   "cell_type": "code",
   "execution_count": 73,
   "metadata": {
    "ExecuteTime": {
     "end_time": "2020-04-30T00:13:57.118676Z",
     "start_time": "2020-04-30T00:13:56.657534Z"
    }
   },
   "outputs": [
    {
     "data": {
      "text/plain": [
       "<matplotlib.axes._subplots.AxesSubplot at 0x220046f49b0>"
      ]
     },
     "execution_count": 73,
     "metadata": {},
     "output_type": "execute_result"
    },
    {
     "data": {
      "image/png": "[encoded data removed]",
      "text/plain": [
       "<Figure size 432x288 with 1 Axes>"
      ]
     },
     "metadata": {
      "needs_background": "light"
     },
     "output_type": "display_data"
    }
   ],
   "source": [
    "sns.distplot(np.random.randint(0, 100, size=10000000), kde=False, bins = 100)"
   ]
  },
  {
   "cell_type": "code",
   "execution_count": 74,
   "metadata": {
    "ExecuteTime": {
     "end_time": "2020-04-30T00:14:48.232951Z",
     "start_time": "2020-04-30T00:14:47.622648Z"
    }
   },
   "outputs": [
    {
     "data": {
      "text/html": [
       "<div>\n",
       "<style scoped>\n",
       "    .dataframe tbody tr th:only-of-type {\n",
       "        vertical-align: middle;\n",
       "    }\n",
       "\n",
       "    .dataframe tbody tr th {\n",
       "        vertical-align: top;\n",
       "    }\n",
       "\n",
       "    .dataframe thead th {\n",
       "        text-align: right;\n",
       "    }\n",
       "</style>\n",
       "<table border=\"1\" class=\"dataframe\">\n",
       "  <thead>\n",
       "    <tr style=\"text-align: right;\">\n",
       "      <th></th>\n",
       "      <th>Data</th>\n",
       "      <th>D1</th>\n",
       "      <th>D2</th>\n",
       "      <th>D3</th>\n",
       "      <th>D4</th>\n",
       "      <th>D5</th>\n",
       "      <th>D6</th>\n",
       "      <th>Arrecadacao_Total</th>\n",
       "      <th>Sena</th>\n",
       "      <th>Rateio_Sena</th>\n",
       "      <th>Quina</th>\n",
       "      <th>Rateio_Quina</th>\n",
       "      <th>Quadra</th>\n",
       "      <th>Rateio_Quadra</th>\n",
       "      <th>Acumulado</th>\n",
       "      <th>Valor_Acumulado</th>\n",
       "    </tr>\n",
       "  </thead>\n",
       "  <tbody>\n",
       "    <tr>\n",
       "      <th>0</th>\n",
       "      <td>11/03/1996</td>\n",
       "      <td>4</td>\n",
       "      <td>5</td>\n",
       "      <td>30</td>\n",
       "      <td>33</td>\n",
       "      <td>41</td>\n",
       "      <td>52</td>\n",
       "      <td>0.0</td>\n",
       "      <td>0</td>\n",
       "      <td>0.00</td>\n",
       "      <td>17</td>\n",
       "      <td>39158.92</td>\n",
       "      <td>2016</td>\n",
       "      <td>330.21</td>\n",
       "      <td>SIM</td>\n",
       "      <td>1714650.23</td>\n",
       "    </tr>\n",
       "    <tr>\n",
       "      <th>1</th>\n",
       "      <td>18/03/1996</td>\n",
       "      <td>9</td>\n",
       "      <td>37</td>\n",
       "      <td>39</td>\n",
       "      <td>41</td>\n",
       "      <td>43</td>\n",
       "      <td>49</td>\n",
       "      <td>0.0</td>\n",
       "      <td>1</td>\n",
       "      <td>2307162.23</td>\n",
       "      <td>65</td>\n",
       "      <td>14424.02</td>\n",
       "      <td>4488</td>\n",
       "      <td>208.91</td>\n",
       "      <td>NÃƒO</td>\n",
       "      <td>0.00</td>\n",
       "    </tr>\n",
       "    <tr>\n",
       "      <th>2</th>\n",
       "      <td>25/03/1996</td>\n",
       "      <td>10</td>\n",
       "      <td>11</td>\n",
       "      <td>29</td>\n",
       "      <td>30</td>\n",
       "      <td>36</td>\n",
       "      <td>47</td>\n",
       "      <td>0.0</td>\n",
       "      <td>2</td>\n",
       "      <td>391192.51</td>\n",
       "      <td>62</td>\n",
       "      <td>10515.93</td>\n",
       "      <td>4261</td>\n",
       "      <td>153.01</td>\n",
       "      <td>NÃƒO</td>\n",
       "      <td>0.00</td>\n",
       "    </tr>\n",
       "    <tr>\n",
       "      <th>3</th>\n",
       "      <td>01/04/1996</td>\n",
       "      <td>1</td>\n",
       "      <td>5</td>\n",
       "      <td>6</td>\n",
       "      <td>27</td>\n",
       "      <td>42</td>\n",
       "      <td>59</td>\n",
       "      <td>0.0</td>\n",
       "      <td>0</td>\n",
       "      <td>0.00</td>\n",
       "      <td>39</td>\n",
       "      <td>15322.24</td>\n",
       "      <td>3311</td>\n",
       "      <td>180.48</td>\n",
       "      <td>SIM</td>\n",
       "      <td>717080.75</td>\n",
       "    </tr>\n",
       "    <tr>\n",
       "      <th>4</th>\n",
       "      <td>08/04/1996</td>\n",
       "      <td>1</td>\n",
       "      <td>2</td>\n",
       "      <td>6</td>\n",
       "      <td>16</td>\n",
       "      <td>19</td>\n",
       "      <td>46</td>\n",
       "      <td>0.0</td>\n",
       "      <td>0</td>\n",
       "      <td>0.00</td>\n",
       "      <td>98</td>\n",
       "      <td>5318.10</td>\n",
       "      <td>5399</td>\n",
       "      <td>96.53</td>\n",
       "      <td>SIM</td>\n",
       "      <td>1342488.85</td>\n",
       "    </tr>\n",
       "  </tbody>\n",
       "</table>\n",
       "</div>"
      ],
      "text/plain": [
       "         Data  D1  D2  D3  D4  D5  D6  Arrecadacao_Total  Sena  Rateio_Sena  \\\n",
       "0  11/03/1996   4   5  30  33  41  52                0.0     0         0.00   \n",
       "1  18/03/1996   9  37  39  41  43  49                0.0     1   2307162.23   \n",
       "2  25/03/1996  10  11  29  30  36  47                0.0     2    391192.51   \n",
       "3  01/04/1996   1   5   6  27  42  59                0.0     0         0.00   \n",
       "4  08/04/1996   1   2   6  16  19  46                0.0     0         0.00   \n",
       "\n",
       "   Quina  Rateio_Quina  Quadra  Rateio_Quadra Acumulado  Valor_Acumulado  \n",
       "0     17      39158.92    2016         330.21       SIM       1714650.23  \n",
       "1     65      14424.02    4488         208.91      NÃƒO             0.00  \n",
       "2     62      10515.93    4261         153.01      NÃƒO             0.00  \n",
       "3     39      15322.24    3311         180.48       SIM        717080.75  \n",
       "4     98       5318.10    5399          96.53       SIM       1342488.85  "
      ]
     },
     "execution_count": 74,
     "metadata": {},
     "output_type": "execute_result"
    }
   ],
   "source": [
    "megasena = pd.read_csv(\"https://gist.githubusercontent.com/ikkebr/ce0b74f6d0dbf5a42015/raw/7f5120491feba60906946b56f5b88fb44382f11a/megasena.csv\", sep=';')\n",
    "megasena.head()"
   ]
  },
  {
   "cell_type": "code",
   "execution_count": 79,
   "metadata": {
    "ExecuteTime": {
     "end_time": "2020-04-30T00:15:27.573262Z",
     "start_time": "2020-04-30T00:15:27.447598Z"
    }
   },
   "outputs": [
    {
     "data": {
      "text/plain": [
       "<matplotlib.axes._subplots.AxesSubplot at 0x22004c786d8>"
      ]
     },
     "execution_count": 79,
     "metadata": {},
     "output_type": "execute_result"
    },
    {
     "data": {
      "image/png": "[encoded data removed]",
      "text/plain": [
       "<Figure size 432x288 with 1 Axes>"
      ]
     },
     "metadata": {
      "needs_background": "light"
     },
     "output_type": "display_data"
    }
   ],
   "source": [
    "numeros = pd.concat([megasena.D1, \n",
    "                     megasena.D2, \n",
    "                     megasena.D3, \n",
    "                     megasena.D4, \n",
    "                     megasena.D5, \n",
    "                     megasena.D6]).reset_index(drop=True)\n",
    "numeros\n",
    "numeros.hist(bins=20)"
   ]
  },
  {
   "cell_type": "code",
   "execution_count": 80,
   "metadata": {
    "ExecuteTime": {
     "end_time": "2020-04-30T00:15:56.052286Z",
     "start_time": "2020-04-30T00:15:56.045304Z"
    },
    "scrolled": true
   },
   "outputs": [
    {
     "data": {
      "text/plain": [
       "5     0.019437\n",
       "51    0.019061\n",
       "53    0.018967\n",
       "42    0.018592\n",
       "4     0.018498\n",
       "33    0.018404\n",
       "23    0.018122\n",
       "24    0.018122\n",
       "41    0.017934\n",
       "10    0.017934\n",
       "54    0.017934\n",
       "17    0.017840\n",
       "29    0.017840\n",
       "49    0.017746\n",
       "52    0.017653\n",
       "28    0.017559\n",
       "13    0.017559\n",
       "27    0.017465\n",
       "36    0.017465\n",
       "30    0.017277\n",
       "50    0.017277\n",
       "32    0.017277\n",
       "44    0.017183\n",
       "43    0.017183\n",
       "16    0.017183\n",
       "2     0.017183\n",
       "31    0.017089\n",
       "12    0.017089\n",
       "47    0.016995\n",
       "37    0.016901\n",
       "34    0.016808\n",
       "8     0.016714\n",
       "56    0.016620\n",
       "18    0.016620\n",
       "7     0.016620\n",
       "38    0.016526\n",
       "1     0.016338\n",
       "58    0.016338\n",
       "59    0.016244\n",
       "6     0.016244\n",
       "46    0.016150\n",
       "35    0.016056\n",
       "20    0.016056\n",
       "60    0.015962\n",
       "45    0.015775\n",
       "3     0.015681\n",
       "11    0.015493\n",
       "40    0.015493\n",
       "19    0.015305\n",
       "48    0.015211\n",
       "14    0.015117\n",
       "57    0.015117\n",
       "15    0.015023\n",
       "39    0.014836\n",
       "9     0.014648\n",
       "25    0.014648\n",
       "21    0.014366\n",
       "55    0.014272\n",
       "26    0.013521\n",
       "22    0.013427\n",
       "dtype: float64"
      ]
     },
     "execution_count": 80,
     "metadata": {},
     "output_type": "execute_result"
    }
   ],
   "source": [
    "numeros.value_counts(normalize=True).sort_values(ascending=False)"
   ]
  },
  {
   "cell_type": "code",
   "execution_count": 81,
   "metadata": {
    "ExecuteTime": {
     "end_time": "2020-04-30T00:18:48.835287Z",
     "start_time": "2020-04-30T00:18:48.411420Z"
    }
   },
   "outputs": [
    {
     "data": {
      "image/png": "[encoded data removed]",
      "text/plain": [
       "<Figure size 432x288 with 1 Axes>"
      ]
     },
     "metadata": {
      "needs_background": "light"
     },
     "output_type": "display_data"
    }
   ],
   "source": [
    "sns.countplot(x=numeros, color='green', orient='h');"
   ]
  },
  {
   "cell_type": "markdown",
   "metadata": {},
   "source": [
    "### Bernoulli Distribution\n"
   ]
  },
  {
   "cell_type": "markdown",
   "metadata": {},
   "source": [
    "The distribution for 0 and 1 outcomes. If the probability of an event being true is p, then the probability of it being false will be 1-p (because it has to sum 1, remember?)"
   ]
  },
  {
   "attachments": {
    "image.png": {
     "image/png": "[encoded data removed]"
    }
   },
   "cell_type": "markdown",
   "metadata": {},
   "source": [
    "![image.png](attachment:image.png)"
   ]
  },
  {
   "cell_type": "markdown",
   "metadata": {},
   "source": [
    "example:\n",
    "\n",
    "- biased coin"
   ]
  },
  {
   "cell_type": "markdown",
   "metadata": {},
   "source": [
    "### Binomial Distribution\n"
   ]
  },
  {
   "cell_type": "markdown",
   "metadata": {},
   "source": [
    "This is the same as before, except it is now a <b>sequence</b> of events. For instance, imagine you flip a coin twice. \n",
    "The binomial distribution represents the probability of obtaining exactly <b>k</b> successes flipping the coin <b>n</b> times."
   ]
  },
  {
   "cell_type": "markdown",
   "metadata": {},
   "source": [
    "### The Binomial Distribution in Python\n"
   ]
  },
  {
   "cell_type": "markdown",
   "metadata": {},
   "source": [
    "<b>Example: </b>The probability of a biased coin with a 30% chance of heads, being heads 5 times in 10 flips"
   ]
  },
  {
   "cell_type": "markdown",
   "metadata": {},
   "source": [
    "### PROBABILITY MASS FUNCTION (PMF)"
   ]
  },
  {
   "cell_type": "markdown",
   "metadata": {},
   "source": [
    "A function that gives the probability that a discrete random variable is <b> exactly </b> equal a  specific value."
   ]
  },
  {
   "cell_type": "markdown",
   "metadata": {},
   "source": [
    "For binomial distribution, you create it given:\n",
    "    $$ binom(n, p)$$ "
   ]
  },
  {
   "cell_type": "code",
   "execution_count": 165,
   "metadata": {
    "ExecuteTime": {
     "end_time": "2020-04-30T00:40:23.467908Z",
     "start_time": "2020-04-30T00:40:23.463891Z"
    }
   },
   "outputs": [],
   "source": [
    "from scipy.stats import binom\n",
    "\n",
    "# 10 flips\n",
    "# 0.3 chance of success\n",
    "\n",
    "dist = binom(10, 0.3)"
   ]
  },
  {
   "cell_type": "code",
   "execution_count": 166,
   "metadata": {
    "ExecuteTime": {
     "end_time": "2020-04-30T00:40:25.319397Z",
     "start_time": "2020-04-30T00:40:25.314438Z"
    }
   },
   "outputs": [
    {
     "data": {
      "text/plain": [
       "0.10291934520000003"
      ]
     },
     "execution_count": 166,
     "metadata": {},
     "output_type": "execute_result"
    }
   ],
   "source": [
    "# probability of obtaining exactly 5 successes (exactly 5 times == 'HEADS')\n",
    "dist.pmf(5)"
   ]
  },
  {
   "cell_type": "code",
   "execution_count": 167,
   "metadata": {
    "ExecuteTime": {
     "end_time": "2020-04-30T00:40:25.948939Z",
     "start_time": "2020-04-30T00:40:25.835591Z"
    }
   },
   "outputs": [
    {
     "data": {
      "text/plain": [
       "<matplotlib.axes._subplots.AxesSubplot at 0x22004e8eac8>"
      ]
     },
     "execution_count": 167,
     "metadata": {},
     "output_type": "execute_result"
    },
    {
     "data": {
      "image/png": "[encoded data removed]",
      "text/plain": [
       "<Figure size 432x288 with 1 Axes>"
      ]
     },
     "metadata": {
      "needs_background": "light"
     },
     "output_type": "display_data"
    }
   ],
   "source": [
    "sns.barplot(x=np.arange(0,11), \n",
    "            y=dist.pmf(np.arange(0,11)),\n",
    "            color='blue')"
   ]
  },
  {
   "cell_type": "markdown",
   "metadata": {},
   "source": [
    "OR you can simulate this game."
   ]
  },
  {
   "cell_type": "code",
   "execution_count": 168,
   "metadata": {
    "ExecuteTime": {
     "end_time": "2020-04-30T00:40:27.668147Z",
     "start_time": "2020-04-30T00:40:27.664158Z"
    }
   },
   "outputs": [
    {
     "data": {
      "text/plain": [
       "False"
      ]
     },
     "execution_count": 168,
     "metadata": {},
     "output_type": "execute_result"
    }
   ],
   "source": [
    "np.random.choice([0, 1], p=[0.7, 0.3], size=10).sum() == 5"
   ]
  },
  {
   "cell_type": "code",
   "execution_count": 169,
   "metadata": {
    "ExecuteTime": {
     "end_time": "2020-04-30T00:40:28.289485Z",
     "start_time": "2020-04-30T00:40:27.941417Z"
    }
   },
   "outputs": [
    {
     "data": {
      "text/plain": [
       "0.1033"
      ]
     },
     "execution_count": 169,
     "metadata": {},
     "output_type": "execute_result"
    }
   ],
   "source": [
    "np.mean([(np.random.choice([0, 1], p=[0.7, 0.3], size=10).sum() == 5) for i in range(10000)])"
   ]
  },
  {
   "cell_type": "code",
   "execution_count": 170,
   "metadata": {
    "ExecuteTime": {
     "end_time": "2020-04-30T00:40:32.970160Z",
     "start_time": "2020-04-30T00:40:32.966201Z"
    }
   },
   "outputs": [],
   "source": [
    "from collections import Counter"
   ]
  },
  {
   "cell_type": "code",
   "execution_count": 171,
   "metadata": {
    "ExecuteTime": {
     "end_time": "2020-04-30T00:40:47.614737Z",
     "start_time": "2020-04-30T00:40:43.060792Z"
    }
   },
   "outputs": [
    {
     "data": {
      "text/plain": [
       "0.10185"
      ]
     },
     "execution_count": 171,
     "metadata": {},
     "output_type": "execute_result"
    }
   ],
   "source": [
    "# using numpy\n",
    "np.mean([Counter(np.random.choice(['HEADS','TAILS'], p=[0.3, 0.7], size=10) )['HEADS'] == 5 for j in range(100000)])"
   ]
  },
  {
   "cell_type": "code",
   "execution_count": 198,
   "metadata": {
    "ExecuteTime": {
     "end_time": "2020-04-30T00:42:39.632491Z",
     "start_time": "2020-04-30T00:42:39.627504Z"
    }
   },
   "outputs": [
    {
     "data": {
      "text/plain": [
       "3"
      ]
     },
     "execution_count": 198,
     "metadata": {},
     "output_type": "execute_result"
    }
   ],
   "source": [
    "(np.random.binomial(10, 0.3))"
   ]
  },
  {
   "cell_type": "code",
   "execution_count": 19,
   "metadata": {
    "ExecuteTime": {
     "end_time": "2020-04-29T22:47:13.428056Z",
     "start_time": "2020-04-29T22:47:13.423069Z"
    }
   },
   "outputs": [
    {
     "data": {
      "text/plain": [
       "array([2, 5, 5, 3, 3, 5, 2, 2, 2, 2, 4, 4, 5, 3, 3, 3, 1, 2, 2, 0, 2, 6,\n",
       "       4, 2, 3, 1, 2, 1, 4, 0, 5, 5, 4, 1, 2, 3, 2, 2, 3, 2, 4, 4, 4, 1,\n",
       "       5, 2, 3, 3, 2, 1, 5, 4, 3, 5, 2, 4, 3, 3, 5, 2, 2, 4, 5, 3, 2, 1,\n",
       "       2, 6, 2, 3, 2, 3, 3, 4, 2, 3, 3, 3, 2, 3, 2, 1, 1, 3, 1, 3, 5, 3,\n",
       "       2, 4, 3, 2, 3, 2, 5, 1, 6, 5, 4, 1])"
      ]
     },
     "execution_count": 19,
     "metadata": {},
     "output_type": "execute_result"
    }
   ],
   "source": [
    "(np.random.binomial(10, 0.3, size=100))"
   ]
  },
  {
   "cell_type": "code",
   "execution_count": 20,
   "metadata": {
    "ExecuteTime": {
     "end_time": "2020-04-29T22:47:13.434040Z",
     "start_time": "2020-04-29T22:47:13.429054Z"
    }
   },
   "outputs": [
    {
     "data": {
      "text/plain": [
       "array([False, False, False, False, False, False, False, False, False,\n",
       "       False, False,  True, False, False,  True, False, False, False,\n",
       "       False, False, False, False, False, False, False, False, False,\n",
       "       False, False, False, False, False, False, False, False, False,\n",
       "       False, False, False, False, False,  True, False, False, False,\n",
       "       False, False, False, False, False, False, False, False, False,\n",
       "       False, False, False, False, False,  True, False, False, False,\n",
       "        True, False, False, False, False,  True, False, False, False,\n",
       "       False,  True,  True, False, False, False, False, False, False,\n",
       "       False, False, False, False, False, False, False, False, False,\n",
       "       False, False, False, False, False,  True, False, False, False,\n",
       "       False])"
      ]
     },
     "execution_count": 20,
     "metadata": {},
     "output_type": "execute_result"
    }
   ],
   "source": [
    "(np.random.binomial(10, 0.3, size=100) == 5)"
   ]
  },
  {
   "cell_type": "code",
   "execution_count": 21,
   "metadata": {
    "ExecuteTime": {
     "end_time": "2020-04-29T22:47:13.472936Z",
     "start_time": "2020-04-29T22:47:13.435037Z"
    }
   },
   "outputs": [
    {
     "data": {
      "text/plain": [
       "0.102382"
      ]
     },
     "execution_count": 21,
     "metadata": {},
     "output_type": "execute_result"
    }
   ],
   "source": [
    "(np.random.binomial(10, 0.3, size=1000000) == 5).mean()"
   ]
  },
  {
   "cell_type": "code",
   "execution_count": 200,
   "metadata": {
    "ExecuteTime": {
     "end_time": "2020-04-30T00:42:46.685568Z",
     "start_time": "2020-04-30T00:42:46.454215Z"
    }
   },
   "outputs": [
    {
     "data": {
      "text/plain": [
       "<matplotlib.axes._subplots.AxesSubplot at 0x220068e5c88>"
      ]
     },
     "execution_count": 200,
     "metadata": {},
     "output_type": "execute_result"
    },
    {
     "data": {
      "image/png": "[encoded data removed]",
      "text/plain": [
       "<Figure size 432x288 with 1 Axes>"
      ]
     },
     "metadata": {
      "needs_background": "light"
     },
     "output_type": "display_data"
    }
   ],
   "source": [
    "# plot\n",
    "\n",
    "sns.distplot(np.random.binomial(10, 0.3, size=1000000), kde=False)"
   ]
  },
  {
   "cell_type": "markdown",
   "metadata": {},
   "source": [
    "### Geometric Distribution\n"
   ]
  },
  {
   "cell_type": "markdown",
   "metadata": {},
   "source": [
    "The geometric distribution describes how many trials are needed before we get an outcome of success (where only 2 outcomes exist - success and failure)."
   ]
  },
  {
   "cell_type": "markdown",
   "metadata": {},
   "source": [
    "### The Geometric Distribution in Python\n"
   ]
  },
  {
   "cell_type": "markdown",
   "metadata": {},
   "source": [
    "<b>Example:</b> The probability that it will take exactly 5 trials to get a first success for a 80% biased coin."
   ]
  },
  {
   "cell_type": "code",
   "execution_count": 210,
   "metadata": {
    "ExecuteTime": {
     "end_time": "2020-04-30T00:52:48.220339Z",
     "start_time": "2020-04-30T00:52:48.215353Z"
    }
   },
   "outputs": [
    {
     "data": {
      "text/plain": [
       "0.03199999999999999"
      ]
     },
     "execution_count": 210,
     "metadata": {},
     "output_type": "execute_result"
    }
   ],
   "source": [
    "from scipy.stats import geom\n",
    "dist = geom(0.8)\n",
    "\n",
    "dist.pmf(3)"
   ]
  },
  {
   "cell_type": "code",
   "execution_count": 225,
   "metadata": {
    "ExecuteTime": {
     "end_time": "2020-04-30T00:54:44.207391Z",
     "start_time": "2020-04-30T00:54:44.084694Z"
    }
   },
   "outputs": [
    {
     "data": {
      "text/plain": [
       "<matplotlib.axes._subplots.AxesSubplot at 0x22007e7b860>"
      ]
     },
     "execution_count": 225,
     "metadata": {},
     "output_type": "execute_result"
    },
    {
     "data": {
      "image/png": "[encoded data removed]",
      "text/plain": [
       "<Figure size 432x288 with 1 Axes>"
      ]
     },
     "metadata": {
      "needs_background": "light"
     },
     "output_type": "display_data"
    }
   ],
   "source": [
    "dist = geom(0.4)\n",
    "\n",
    "sns.barplot(x=np.arange(0,11), \n",
    "            y=dist.pmf(np.arange(0,11)),\n",
    "            color='blue')"
   ]
  },
  {
   "cell_type": "code",
   "execution_count": 227,
   "metadata": {
    "ExecuteTime": {
     "end_time": "2020-04-30T00:56:45.223784Z",
     "start_time": "2020-04-30T00:56:44.927576Z"
    }
   },
   "outputs": [
    {
     "data": {
      "text/plain": [
       "0.4001111"
      ]
     },
     "execution_count": 227,
     "metadata": {},
     "output_type": "execute_result"
    }
   ],
   "source": [
    "(np.random.geometric(0.4, size=10000000) == 1).mean()"
   ]
  },
  {
   "cell_type": "code",
   "execution_count": 228,
   "metadata": {
    "ExecuteTime": {
     "end_time": "2020-04-30T00:56:50.401569Z",
     "start_time": "2020-04-30T00:56:50.264322Z"
    }
   },
   "outputs": [
    {
     "data": {
      "image/png": "[encoded data removed]",
      "text/plain": [
       "<Figure size 432x288 with 1 Axes>"
      ]
     },
     "metadata": {
      "needs_background": "light"
     },
     "output_type": "display_data"
    }
   ],
   "source": [
    "sns.distplot(np.random.geometric(0.4, size=1000), kde=False);"
   ]
  },
  {
   "cell_type": "code",
   "execution_count": null,
   "metadata": {},
   "outputs": [],
   "source": []
  },
  {
   "cell_type": "markdown",
   "metadata": {},
   "source": [
    "# Poisson Distributions"
   ]
  },
  {
   "cell_type": "markdown",
   "metadata": {},
   "source": [
    "The Poisson distribution is popular for modeling the number of times an event occurs in an interval of time or space."
   ]
  },
  {
   "cell_type": "markdown",
   "metadata": {},
   "source": [
    "\n",
    "<b> Example </b>: Imagine you have a dataset and discover that the average number of clients in a fast food is ~5 a minute. \n",
    "What is the probability of the fast food receiving 7 new clients on the next minute? \n",
    "\n",
    "Conditions for Poisson Distribution:\n",
    "\n",
    "* An event can occur any number of times during a time period.\n",
    "* Events occur independently. \n",
    "* The rate of occurrence is constant; that is, the rate does not change based on time.\n",
    "* The probability of an event occurring is proportional to the length of the time period. "
   ]
  },
  {
   "cell_type": "code",
   "execution_count": 229,
   "metadata": {
    "ExecuteTime": {
     "end_time": "2020-04-30T01:14:55.804241Z",
     "start_time": "2020-04-30T01:14:55.800253Z"
    }
   },
   "outputs": [],
   "source": [
    "from scipy.stats import poisson"
   ]
  },
  {
   "cell_type": "code",
   "execution_count": 232,
   "metadata": {
    "ExecuteTime": {
     "end_time": "2020-04-30T01:15:26.132575Z",
     "start_time": "2020-04-30T01:15:26.129584Z"
    }
   },
   "outputs": [],
   "source": [
    "average = 5\n",
    "dist = poisson(average)"
   ]
  },
  {
   "cell_type": "code",
   "execution_count": 235,
   "metadata": {
    "ExecuteTime": {
     "end_time": "2020-04-30T01:16:34.574921Z",
     "start_time": "2020-04-30T01:16:34.570905Z"
    }
   },
   "outputs": [
    {
     "data": {
      "text/plain": [
       "0.17546736976785068"
      ]
     },
     "execution_count": 235,
     "metadata": {},
     "output_type": "execute_result"
    }
   ],
   "source": [
    "dist.pmf(5)"
   ]
  },
  {
   "cell_type": "code",
   "execution_count": 238,
   "metadata": {
    "ExecuteTime": {
     "end_time": "2020-04-30T01:17:07.531814Z",
     "start_time": "2020-04-30T01:17:07.526827Z"
    }
   },
   "outputs": [
    {
     "data": {
      "text/plain": [
       "0.018132788707821854"
      ]
     },
     "execution_count": 238,
     "metadata": {},
     "output_type": "execute_result"
    }
   ],
   "source": [
    "dist.pmf(10)"
   ]
  },
  {
   "cell_type": "code",
   "execution_count": 240,
   "metadata": {
    "ExecuteTime": {
     "end_time": "2020-04-30T01:17:15.621571Z",
     "start_time": "2020-04-30T01:17:15.402130Z"
    }
   },
   "outputs": [
    {
     "data": {
      "text/plain": [
       "<BarContainer object of 11 artists>"
      ]
     },
     "execution_count": 240,
     "metadata": {},
     "output_type": "execute_result"
    },
    {
     "data": {
      "image/png": "[encoded data removed]",
      "text/plain": [
       "<Figure size 432x288 with 1 Axes>"
      ]
     },
     "metadata": {
      "needs_background": "light"
     },
     "output_type": "display_data"
    }
   ],
   "source": [
    "plt.bar(range(11), dist.pmf(range(11)))"
   ]
  },
  {
   "cell_type": "markdown",
   "metadata": {},
   "source": [
    "## Example 2"
   ]
  },
  {
   "cell_type": "markdown",
   "metadata": {},
   "source": [
    "A call center receives an average of 4.5 calls every 5 minutes. Each agent can handle one of these calls over the 5 minute period. If a call is received, but no agent is available to take it, then that caller will be placed on hold. Assuming that the calls follow a Poisson distribution, what is the minimum number of agents needed on duty so that calls are placed on hold at most 10% of the time?"
   ]
  },
  {
   "cell_type": "code",
   "execution_count": 241,
   "metadata": {
    "ExecuteTime": {
     "end_time": "2020-04-30T01:21:51.476064Z",
     "start_time": "2020-04-30T01:21:51.472074Z"
    }
   },
   "outputs": [],
   "source": [
    "average = 4.5\n",
    "dist = poisson(average)"
   ]
  },
  {
   "cell_type": "markdown",
   "metadata": {},
   "source": [
    "$ P(\\text{numero de ligacoes} > \\text{telefonistas}) \\le 10\\% $\n",
    "\n",
    "OU\n",
    "\n",
    "$ P(\\text{numero de ligacoes} \\le \\text{telefonistas}) > 90\\% $"
   ]
  },
  {
   "cell_type": "markdown",
   "metadata": {},
   "source": [
    "Probabilidade do número de ligações ser igual a zero:"
   ]
  },
  {
   "cell_type": "code",
   "execution_count": 242,
   "metadata": {
    "ExecuteTime": {
     "end_time": "2020-04-30T01:23:29.036772Z",
     "start_time": "2020-04-30T01:23:29.031784Z"
    }
   },
   "outputs": [
    {
     "data": {
      "text/plain": [
       "0.011108996538242306"
      ]
     },
     "execution_count": 242,
     "metadata": {},
     "output_type": "execute_result"
    }
   ],
   "source": [
    "dist.pmf(0)"
   ]
  },
  {
   "cell_type": "markdown",
   "metadata": {},
   "source": [
    "$P(X = 0) = 0.011$<br>"
   ]
  },
  {
   "cell_type": "markdown",
   "metadata": {},
   "source": [
    "Probabilidade do número de ligações ser igual a 1:\n",
    "    "
   ]
  },
  {
   "cell_type": "code",
   "execution_count": 243,
   "metadata": {
    "ExecuteTime": {
     "end_time": "2020-04-30T01:24:09.509030Z",
     "start_time": "2020-04-30T01:24:09.504044Z"
    }
   },
   "outputs": [
    {
     "data": {
      "text/plain": [
       "0.049990484422090385"
      ]
     },
     "execution_count": 243,
     "metadata": {},
     "output_type": "execute_result"
    }
   ],
   "source": [
    "dist.pmf(1)"
   ]
  },
  {
   "cell_type": "markdown",
   "metadata": {},
   "source": [
    "$P(X = 1) = 0.050$"
   ]
  },
  {
   "cell_type": "markdown",
   "metadata": {},
   "source": [
    "Qual a probabilidade então do número de ligações ser $\\le$ 1"
   ]
  },
  {
   "cell_type": "code",
   "execution_count": 246,
   "metadata": {
    "ExecuteTime": {
     "end_time": "2020-04-30T01:26:56.365076Z",
     "start_time": "2020-04-30T01:26:56.359091Z"
    }
   },
   "outputs": [
    {
     "data": {
      "text/plain": [
       "0.34229595583459105"
      ]
     },
     "execution_count": 246,
     "metadata": {},
     "output_type": "execute_result"
    }
   ],
   "source": [
    "dist.pmf(0) + dist.pmf(1) + dist.pmf(2) + dist.pmf(3)"
   ]
  },
  {
   "cell_type": "code",
   "execution_count": 247,
   "metadata": {
    "ExecuteTime": {
     "end_time": "2020-04-30T01:27:10.021731Z",
     "start_time": "2020-04-30T01:27:10.017740Z"
    }
   },
   "outputs": [
    {
     "data": {
      "text/plain": [
       "0.913413528352644"
      ]
     },
     "execution_count": 247,
     "metadata": {},
     "output_type": "execute_result"
    }
   ],
   "source": [
    "dist.cdf(7)"
   ]
  },
  {
   "cell_type": "markdown",
   "metadata": {
    "ExecuteTime": {
     "end_time": "2020-04-10T15:24:59.902631Z",
     "start_time": "2020-04-10T15:24:59.899638Z"
    }
   },
   "source": [
    "$P(X = 0) = 0.011$<br>\n",
    "$P(X = 1) = 0.050  \\rightarrow P(X \\le 1) = 0.066 $<br>\n",
    "$P(X = 2) = 0.112  \\rightarrow P(X \\le 2) = 0.173 $<br>\n",
    "$P(X = 3) = 0.168  \\rightarrow P(X \\le 3) = 0.342 $<br>\n",
    "$P(X = 4) = 0.190  \\rightarrow P(X \\le 4) = 0.532 $<br>\n",
    "$P(X = 5) = 0.170  \\rightarrow P(X \\le 5) = 0.703 $<br>\n",
    "$P(X = 6) = 0.128  \\rightarrow P(X \\le 6) = 0.831 $<br>\n",
    "$P(X = 7) = 0.082  \\rightarrow P(X \\le 7) = 0.913 $<br>"
   ]
  },
  {
   "cell_type": "markdown",
   "metadata": {},
   "source": [
    "# Cumulative distribution function"
   ]
  },
  {
   "cell_type": "code",
   "execution_count": 41,
   "metadata": {
    "ExecuteTime": {
     "end_time": "2020-04-29T23:59:07.473546Z",
     "start_time": "2020-04-29T23:59:07.468560Z"
    },
    "collapsed": true
   },
   "outputs": [
    {
     "data": {
      "text/plain": [
       "0.9933313279128181"
      ]
     },
     "execution_count": 41,
     "metadata": {},
     "output_type": "execute_result"
    }
   ],
   "source": [
    "average = 4.5\n",
    "dist = poisson(average)\n",
    "\n",
    "# cumulative distribution function\n",
    "dist.cdf(10)"
   ]
  },
  {
   "cell_type": "markdown",
   "metadata": {},
   "source": [
    "# Normal Distribution"
   ]
  },
  {
   "cell_type": "code",
   "execution_count": 252,
   "metadata": {
    "ExecuteTime": {
     "end_time": "2020-04-30T01:31:11.862498Z",
     "start_time": "2020-04-30T01:31:11.858510Z"
    }
   },
   "outputs": [],
   "source": [
    "from scipy.stats import norm\n",
    "\n",
    "dist = norm()"
   ]
  },
  {
   "cell_type": "code",
   "execution_count": 57,
   "metadata": {
    "ExecuteTime": {
     "end_time": "2020-04-29T23:59:11.835683Z",
     "start_time": "2020-04-29T23:59:11.830671Z"
    }
   },
   "outputs": [
    {
     "data": {
      "text/plain": [
       "0.3989422804014327"
      ]
     },
     "execution_count": 57,
     "metadata": {},
     "output_type": "execute_result"
    }
   ],
   "source": [
    "dist.pdf(0)"
   ]
  },
  {
   "cell_type": "code",
   "execution_count": 253,
   "metadata": {
    "ExecuteTime": {
     "end_time": "2020-04-30T01:31:27.300005Z",
     "start_time": "2020-04-30T01:31:27.296016Z"
    }
   },
   "outputs": [
    {
     "data": {
      "text/plain": [
       "0.5"
      ]
     },
     "execution_count": 253,
     "metadata": {},
     "output_type": "execute_result"
    }
   ],
   "source": [
    "dist.cdf(0)"
   ]
  },
  {
   "cell_type": "code",
   "execution_count": 254,
   "metadata": {
    "ExecuteTime": {
     "end_time": "2020-04-30T01:31:48.627204Z",
     "start_time": "2020-04-30T01:31:48.623212Z"
    }
   },
   "outputs": [
    {
     "data": {
      "text/plain": [
       "0.8413447460685429"
      ]
     },
     "execution_count": 254,
     "metadata": {},
     "output_type": "execute_result"
    }
   ],
   "source": [
    "dist.cdf(1)"
   ]
  },
  {
   "cell_type": "code",
   "execution_count": 255,
   "metadata": {
    "ExecuteTime": {
     "end_time": "2020-04-30T01:32:20.269373Z",
     "start_time": "2020-04-30T01:32:20.264385Z"
    }
   },
   "outputs": [
    {
     "data": {
      "text/plain": [
       "0.6826894921370859"
      ]
     },
     "execution_count": 255,
     "metadata": {},
     "output_type": "execute_result"
    }
   ],
   "source": [
    "dist.cdf(1) - dist.cdf(-1)"
   ]
  },
  {
   "cell_type": "code",
   "execution_count": 256,
   "metadata": {
    "ExecuteTime": {
     "end_time": "2020-04-30T01:32:33.954941Z",
     "start_time": "2020-04-30T01:32:33.949955Z"
    }
   },
   "outputs": [
    {
     "data": {
      "text/plain": [
       "0.9544997361036416"
      ]
     },
     "execution_count": 256,
     "metadata": {},
     "output_type": "execute_result"
    }
   ],
   "source": [
    "dist.cdf(2) - dist.cdf(-2)"
   ]
  },
  {
   "cell_type": "code",
   "execution_count": 257,
   "metadata": {
    "ExecuteTime": {
     "end_time": "2020-04-30T01:32:34.281070Z",
     "start_time": "2020-04-30T01:32:34.277081Z"
    }
   },
   "outputs": [
    {
     "data": {
      "text/plain": [
       "0.9973002039367398"
      ]
     },
     "execution_count": 257,
     "metadata": {},
     "output_type": "execute_result"
    }
   ],
   "source": [
    "dist.cdf(3) - dist.cdf(-3)"
   ]
  },
  {
   "cell_type": "code",
   "execution_count": null,
   "metadata": {},
   "outputs": [],
   "source": []
  },
  {
   "cell_type": "code",
   "execution_count": null,
   "metadata": {},
   "outputs": [],
   "source": []
  },
  {
   "cell_type": "code",
   "execution_count": null,
   "metadata": {},
   "outputs": [],
   "source": []
  },
  {
   "cell_type": "code",
   "execution_count": null,
   "metadata": {},
   "outputs": [],
   "source": []
  },
  {
   "cell_type": "code",
   "execution_count": null,
   "metadata": {},
   "outputs": [],
   "source": []
  },
  {
   "cell_type": "markdown",
   "metadata": {},
   "source": [
    "# Example World Cup"
   ]
  },
  {
   "cell_type": "code",
   "execution_count": 248,
   "metadata": {
    "ExecuteTime": {
     "end_time": "2020-04-30T01:30:02.966907Z",
     "start_time": "2020-04-30T01:30:02.951918Z"
    }
   },
   "outputs": [],
   "source": [
    "## Probabilidade de se fazer 7 gols em 1 jogo de copa do mundo?\n",
    "df = pd.read_csv('WorldCupMatches.csv')"
   ]
  },
  {
   "cell_type": "code",
   "execution_count": 249,
   "metadata": {
    "ExecuteTime": {
     "end_time": "2020-04-30T01:30:03.186920Z",
     "start_time": "2020-04-30T01:30:03.163982Z"
    }
   },
   "outputs": [
    {
     "data": {
      "text/html": [
       "<div>\n",
       "<style scoped>\n",
       "    .dataframe tbody tr th:only-of-type {\n",
       "        vertical-align: middle;\n",
       "    }\n",
       "\n",
       "    .dataframe tbody tr th {\n",
       "        vertical-align: top;\n",
       "    }\n",
       "\n",
       "    .dataframe thead th {\n",
       "        text-align: right;\n",
       "    }\n",
       "</style>\n",
       "<table border=\"1\" class=\"dataframe\">\n",
       "  <thead>\n",
       "    <tr style=\"text-align: right;\">\n",
       "      <th></th>\n",
       "      <th>Year</th>\n",
       "      <th>Datetime</th>\n",
       "      <th>Stage</th>\n",
       "      <th>Stadium</th>\n",
       "      <th>City</th>\n",
       "      <th>Home Team Name</th>\n",
       "      <th>Home Team Goals</th>\n",
       "      <th>Away Team Goals</th>\n",
       "      <th>Away Team Name</th>\n",
       "      <th>Win conditions</th>\n",
       "      <th>Attendance</th>\n",
       "      <th>Half-time Home Goals</th>\n",
       "      <th>Half-time Away Goals</th>\n",
       "      <th>Referee</th>\n",
       "      <th>Assistant 1</th>\n",
       "      <th>Assistant 2</th>\n",
       "      <th>RoundID</th>\n",
       "      <th>MatchID</th>\n",
       "      <th>Home Team Initials</th>\n",
       "      <th>Away Team Initials</th>\n",
       "    </tr>\n",
       "  </thead>\n",
       "  <tbody>\n",
       "    <tr>\n",
       "      <th>806</th>\n",
       "      <td>2014.0</td>\n",
       "      <td>23 Jun 2014 - 17:00</td>\n",
       "      <td>Group A</td>\n",
       "      <td>Estadio Nacional</td>\n",
       "      <td>Brasilia</td>\n",
       "      <td>Cameroon</td>\n",
       "      <td>1.0</td>\n",
       "      <td>4.0</td>\n",
       "      <td>Brazil</td>\n",
       "      <td></td>\n",
       "      <td>69112.0</td>\n",
       "      <td>1.0</td>\n",
       "      <td>2.0</td>\n",
       "      <td>ERIKSSON Jonas (SWE)</td>\n",
       "      <td>KLASENIUS Mathias (SWE)</td>\n",
       "      <td>WARNMARK Daniel (SWE)</td>\n",
       "      <td>255931.0</td>\n",
       "      <td>300186472.0</td>\n",
       "      <td>CMR</td>\n",
       "      <td>BRA</td>\n",
       "    </tr>\n",
       "  </tbody>\n",
       "</table>\n",
       "</div>"
      ],
      "text/plain": [
       "       Year              Datetime    Stage           Stadium       City  \\\n",
       "806  2014.0  23 Jun 2014 - 17:00   Group A  Estadio Nacional  Brasilia    \n",
       "\n",
       "    Home Team Name  Home Team Goals  Away Team Goals Away Team Name  \\\n",
       "806       Cameroon              1.0              4.0         Brazil   \n",
       "\n",
       "    Win conditions  Attendance  Half-time Home Goals  Half-time Away Goals  \\\n",
       "806                    69112.0                   1.0                   2.0   \n",
       "\n",
       "                  Referee              Assistant 1            Assistant 2  \\\n",
       "806  ERIKSSON Jonas (SWE)  KLASENIUS Mathias (SWE)  WARNMARK Daniel (SWE)   \n",
       "\n",
       "      RoundID      MatchID Home Team Initials Away Team Initials  \n",
       "806  255931.0  300186472.0                CMR                BRA  "
      ]
     },
     "execution_count": 249,
     "metadata": {},
     "output_type": "execute_result"
    }
   ],
   "source": [
    "df.dropna().query('Year == 2014.0').query('`Away Team Name` == \"Brazil\"')"
   ]
  },
  {
   "cell_type": "code",
   "execution_count": 251,
   "metadata": {
    "ExecuteTime": {
     "end_time": "2020-04-30T01:30:05.349185Z",
     "start_time": "2020-04-30T01:30:05.331206Z"
    }
   },
   "outputs": [
    {
     "data": {
      "text/html": [
       "<div>\n",
       "<style scoped>\n",
       "    .dataframe tbody tr th:only-of-type {\n",
       "        vertical-align: middle;\n",
       "    }\n",
       "\n",
       "    .dataframe tbody tr th {\n",
       "        vertical-align: top;\n",
       "    }\n",
       "\n",
       "    .dataframe thead th {\n",
       "        text-align: right;\n",
       "    }\n",
       "</style>\n",
       "<table border=\"1\" class=\"dataframe\">\n",
       "  <thead>\n",
       "    <tr style=\"text-align: right;\">\n",
       "      <th></th>\n",
       "      <th>Year</th>\n",
       "      <th>Datetime</th>\n",
       "      <th>Stage</th>\n",
       "      <th>Stadium</th>\n",
       "      <th>City</th>\n",
       "      <th>Home Team Name</th>\n",
       "      <th>Home Team Goals</th>\n",
       "      <th>Away Team Goals</th>\n",
       "      <th>Away Team Name</th>\n",
       "      <th>Win conditions</th>\n",
       "      <th>Attendance</th>\n",
       "      <th>Half-time Home Goals</th>\n",
       "      <th>Half-time Away Goals</th>\n",
       "      <th>Referee</th>\n",
       "      <th>Assistant 1</th>\n",
       "      <th>Assistant 2</th>\n",
       "      <th>RoundID</th>\n",
       "      <th>MatchID</th>\n",
       "      <th>Home Team Initials</th>\n",
       "      <th>Away Team Initials</th>\n",
       "    </tr>\n",
       "  </thead>\n",
       "  <tbody>\n",
       "    <tr>\n",
       "      <th>948</th>\n",
       "      <td>NaN</td>\n",
       "      <td>NaN</td>\n",
       "      <td>NaN</td>\n",
       "      <td>NaN</td>\n",
       "      <td>NaN</td>\n",
       "      <td>NaN</td>\n",
       "      <td>NaN</td>\n",
       "      <td>NaN</td>\n",
       "      <td>NaN</td>\n",
       "      <td>NaN</td>\n",
       "      <td>NaN</td>\n",
       "      <td>NaN</td>\n",
       "      <td>NaN</td>\n",
       "      <td>NaN</td>\n",
       "      <td>NaN</td>\n",
       "      <td>NaN</td>\n",
       "      <td>NaN</td>\n",
       "      <td>NaN</td>\n",
       "      <td>NaN</td>\n",
       "      <td>NaN</td>\n",
       "    </tr>\n",
       "    <tr>\n",
       "      <th>4322</th>\n",
       "      <td>NaN</td>\n",
       "      <td>NaN</td>\n",
       "      <td>NaN</td>\n",
       "      <td>NaN</td>\n",
       "      <td>NaN</td>\n",
       "      <td>NaN</td>\n",
       "      <td>NaN</td>\n",
       "      <td>NaN</td>\n",
       "      <td>NaN</td>\n",
       "      <td>NaN</td>\n",
       "      <td>NaN</td>\n",
       "      <td>NaN</td>\n",
       "      <td>NaN</td>\n",
       "      <td>NaN</td>\n",
       "      <td>NaN</td>\n",
       "      <td>NaN</td>\n",
       "      <td>NaN</td>\n",
       "      <td>NaN</td>\n",
       "      <td>NaN</td>\n",
       "      <td>NaN</td>\n",
       "    </tr>\n",
       "    <tr>\n",
       "      <th>425</th>\n",
       "      <td>1990.0</td>\n",
       "      <td>14 Jun 1990 - 17:00</td>\n",
       "      <td>Group B</td>\n",
       "      <td>Stadio San Nicola</td>\n",
       "      <td>Bari</td>\n",
       "      <td>Cameroon</td>\n",
       "      <td>2.0</td>\n",
       "      <td>1.0</td>\n",
       "      <td>Romania</td>\n",
       "      <td></td>\n",
       "      <td>38687.0</td>\n",
       "      <td>0.0</td>\n",
       "      <td>0.0</td>\n",
       "      <td>SILVA ARCE Hernan (CHI)</td>\n",
       "      <td>SILVA VALENTE Carlos Alberto (POR)</td>\n",
       "      <td>PEREZ HOYOS Armando (COL)</td>\n",
       "      <td>322.0</td>\n",
       "      <td>108.0</td>\n",
       "      <td>CMR</td>\n",
       "      <td>ROU</td>\n",
       "    </tr>\n",
       "    <tr>\n",
       "      <th>2233</th>\n",
       "      <td>NaN</td>\n",
       "      <td>NaN</td>\n",
       "      <td>NaN</td>\n",
       "      <td>NaN</td>\n",
       "      <td>NaN</td>\n",
       "      <td>NaN</td>\n",
       "      <td>NaN</td>\n",
       "      <td>NaN</td>\n",
       "      <td>NaN</td>\n",
       "      <td>NaN</td>\n",
       "      <td>NaN</td>\n",
       "      <td>NaN</td>\n",
       "      <td>NaN</td>\n",
       "      <td>NaN</td>\n",
       "      <td>NaN</td>\n",
       "      <td>NaN</td>\n",
       "      <td>NaN</td>\n",
       "      <td>NaN</td>\n",
       "      <td>NaN</td>\n",
       "      <td>NaN</td>\n",
       "    </tr>\n",
       "    <tr>\n",
       "      <th>3253</th>\n",
       "      <td>NaN</td>\n",
       "      <td>NaN</td>\n",
       "      <td>NaN</td>\n",
       "      <td>NaN</td>\n",
       "      <td>NaN</td>\n",
       "      <td>NaN</td>\n",
       "      <td>NaN</td>\n",
       "      <td>NaN</td>\n",
       "      <td>NaN</td>\n",
       "      <td>NaN</td>\n",
       "      <td>NaN</td>\n",
       "      <td>NaN</td>\n",
       "      <td>NaN</td>\n",
       "      <td>NaN</td>\n",
       "      <td>NaN</td>\n",
       "      <td>NaN</td>\n",
       "      <td>NaN</td>\n",
       "      <td>NaN</td>\n",
       "      <td>NaN</td>\n",
       "      <td>NaN</td>\n",
       "    </tr>\n",
       "    <tr>\n",
       "      <th>1424</th>\n",
       "      <td>NaN</td>\n",
       "      <td>NaN</td>\n",
       "      <td>NaN</td>\n",
       "      <td>NaN</td>\n",
       "      <td>NaN</td>\n",
       "      <td>NaN</td>\n",
       "      <td>NaN</td>\n",
       "      <td>NaN</td>\n",
       "      <td>NaN</td>\n",
       "      <td>NaN</td>\n",
       "      <td>NaN</td>\n",
       "      <td>NaN</td>\n",
       "      <td>NaN</td>\n",
       "      <td>NaN</td>\n",
       "      <td>NaN</td>\n",
       "      <td>NaN</td>\n",
       "      <td>NaN</td>\n",
       "      <td>NaN</td>\n",
       "      <td>NaN</td>\n",
       "      <td>NaN</td>\n",
       "    </tr>\n",
       "    <tr>\n",
       "      <th>4088</th>\n",
       "      <td>NaN</td>\n",
       "      <td>NaN</td>\n",
       "      <td>NaN</td>\n",
       "      <td>NaN</td>\n",
       "      <td>NaN</td>\n",
       "      <td>NaN</td>\n",
       "      <td>NaN</td>\n",
       "      <td>NaN</td>\n",
       "      <td>NaN</td>\n",
       "      <td>NaN</td>\n",
       "      <td>NaN</td>\n",
       "      <td>NaN</td>\n",
       "      <td>NaN</td>\n",
       "      <td>NaN</td>\n",
       "      <td>NaN</td>\n",
       "      <td>NaN</td>\n",
       "      <td>NaN</td>\n",
       "      <td>NaN</td>\n",
       "      <td>NaN</td>\n",
       "      <td>NaN</td>\n",
       "    </tr>\n",
       "    <tr>\n",
       "      <th>2230</th>\n",
       "      <td>NaN</td>\n",
       "      <td>NaN</td>\n",
       "      <td>NaN</td>\n",
       "      <td>NaN</td>\n",
       "      <td>NaN</td>\n",
       "      <td>NaN</td>\n",
       "      <td>NaN</td>\n",
       "      <td>NaN</td>\n",
       "      <td>NaN</td>\n",
       "      <td>NaN</td>\n",
       "      <td>NaN</td>\n",
       "      <td>NaN</td>\n",
       "      <td>NaN</td>\n",
       "      <td>NaN</td>\n",
       "      <td>NaN</td>\n",
       "      <td>NaN</td>\n",
       "      <td>NaN</td>\n",
       "      <td>NaN</td>\n",
       "      <td>NaN</td>\n",
       "      <td>NaN</td>\n",
       "    </tr>\n",
       "    <tr>\n",
       "      <th>986</th>\n",
       "      <td>NaN</td>\n",
       "      <td>NaN</td>\n",
       "      <td>NaN</td>\n",
       "      <td>NaN</td>\n",
       "      <td>NaN</td>\n",
       "      <td>NaN</td>\n",
       "      <td>NaN</td>\n",
       "      <td>NaN</td>\n",
       "      <td>NaN</td>\n",
       "      <td>NaN</td>\n",
       "      <td>NaN</td>\n",
       "      <td>NaN</td>\n",
       "      <td>NaN</td>\n",
       "      <td>NaN</td>\n",
       "      <td>NaN</td>\n",
       "      <td>NaN</td>\n",
       "      <td>NaN</td>\n",
       "      <td>NaN</td>\n",
       "      <td>NaN</td>\n",
       "      <td>NaN</td>\n",
       "    </tr>\n",
       "    <tr>\n",
       "      <th>282</th>\n",
       "      <td>1978.0</td>\n",
       "      <td>07 Jun 1978 - 13:45</td>\n",
       "      <td>Group 3</td>\n",
       "      <td>Estadio Jos� Mar�a Minella</td>\n",
       "      <td>Mar Del Plata</td>\n",
       "      <td>Brazil</td>\n",
       "      <td>0.0</td>\n",
       "      <td>0.0</td>\n",
       "      <td>Spain</td>\n",
       "      <td></td>\n",
       "      <td>34771.0</td>\n",
       "      <td>0.0</td>\n",
       "      <td>0.0</td>\n",
       "      <td>GONELLA Sergio (ITA)</td>\n",
       "      <td>KLEIN Abraham (ISR)</td>\n",
       "      <td>ITHURRALDE Arturo Andres (ARG)</td>\n",
       "      <td>278.0</td>\n",
       "      <td>2246.0</td>\n",
       "      <td>BRA</td>\n",
       "      <td>ESP</td>\n",
       "    </tr>\n",
       "  </tbody>\n",
       "</table>\n",
       "</div>"
      ],
      "text/plain": [
       "        Year              Datetime    Stage                     Stadium  \\\n",
       "948      NaN                   NaN      NaN                         NaN   \n",
       "4322     NaN                   NaN      NaN                         NaN   \n",
       "425   1990.0  14 Jun 1990 - 17:00   Group B           Stadio San Nicola   \n",
       "2233     NaN                   NaN      NaN                         NaN   \n",
       "3253     NaN                   NaN      NaN                         NaN   \n",
       "1424     NaN                   NaN      NaN                         NaN   \n",
       "4088     NaN                   NaN      NaN                         NaN   \n",
       "2230     NaN                   NaN      NaN                         NaN   \n",
       "986      NaN                   NaN      NaN                         NaN   \n",
       "282   1978.0  07 Jun 1978 - 13:45   Group 3  Estadio Jos� Mar�a Minella   \n",
       "\n",
       "                City Home Team Name  Home Team Goals  Away Team Goals  \\\n",
       "948              NaN            NaN              NaN              NaN   \n",
       "4322             NaN            NaN              NaN              NaN   \n",
       "425            Bari        Cameroon              2.0              1.0   \n",
       "2233             NaN            NaN              NaN              NaN   \n",
       "3253             NaN            NaN              NaN              NaN   \n",
       "1424             NaN            NaN              NaN              NaN   \n",
       "4088             NaN            NaN              NaN              NaN   \n",
       "2230             NaN            NaN              NaN              NaN   \n",
       "986              NaN            NaN              NaN              NaN   \n",
       "282   Mar Del Plata          Brazil              0.0              0.0   \n",
       "\n",
       "     Away Team Name Win conditions  Attendance  Half-time Home Goals  \\\n",
       "948             NaN            NaN         NaN                   NaN   \n",
       "4322            NaN            NaN         NaN                   NaN   \n",
       "425         Romania                    38687.0                   0.0   \n",
       "2233            NaN            NaN         NaN                   NaN   \n",
       "3253            NaN            NaN         NaN                   NaN   \n",
       "1424            NaN            NaN         NaN                   NaN   \n",
       "4088            NaN            NaN         NaN                   NaN   \n",
       "2230            NaN            NaN         NaN                   NaN   \n",
       "986             NaN            NaN         NaN                   NaN   \n",
       "282           Spain                    34771.0                   0.0   \n",
       "\n",
       "      Half-time Away Goals                  Referee  \\\n",
       "948                    NaN                      NaN   \n",
       "4322                   NaN                      NaN   \n",
       "425                    0.0  SILVA ARCE Hernan (CHI)   \n",
       "2233                   NaN                      NaN   \n",
       "3253                   NaN                      NaN   \n",
       "1424                   NaN                      NaN   \n",
       "4088                   NaN                      NaN   \n",
       "2230                   NaN                      NaN   \n",
       "986                    NaN                      NaN   \n",
       "282                    0.0     GONELLA Sergio (ITA)   \n",
       "\n",
       "                             Assistant 1                     Assistant 2  \\\n",
       "948                                  NaN                             NaN   \n",
       "4322                                 NaN                             NaN   \n",
       "425   SILVA VALENTE Carlos Alberto (POR)       PEREZ HOYOS Armando (COL)   \n",
       "2233                                 NaN                             NaN   \n",
       "3253                                 NaN                             NaN   \n",
       "1424                                 NaN                             NaN   \n",
       "4088                                 NaN                             NaN   \n",
       "2230                                 NaN                             NaN   \n",
       "986                                  NaN                             NaN   \n",
       "282                  KLEIN Abraham (ISR)  ITHURRALDE Arturo Andres (ARG)   \n",
       "\n",
       "      RoundID  MatchID Home Team Initials Away Team Initials  \n",
       "948       NaN      NaN                NaN                NaN  \n",
       "4322      NaN      NaN                NaN                NaN  \n",
       "425     322.0    108.0                CMR                ROU  \n",
       "2233      NaN      NaN                NaN                NaN  \n",
       "3253      NaN      NaN                NaN                NaN  \n",
       "1424      NaN      NaN                NaN                NaN  \n",
       "4088      NaN      NaN                NaN                NaN  \n",
       "2230      NaN      NaN                NaN                NaN  \n",
       "986       NaN      NaN                NaN                NaN  \n",
       "282     278.0   2246.0                BRA                ESP  "
      ]
     },
     "execution_count": 251,
     "metadata": {},
     "output_type": "execute_result"
    }
   ],
   "source": [
    "df.sample(10)"
   ]
  },
  {
   "cell_type": "code",
   "execution_count": 45,
   "metadata": {
    "ExecuteTime": {
     "end_time": "2020-04-29T23:59:08.810971Z",
     "start_time": "2020-04-29T23:59:08.799971Z"
    }
   },
   "outputs": [],
   "source": [
    "df = df.drop_duplicates()"
   ]
  },
  {
   "cell_type": "code",
   "execution_count": 46,
   "metadata": {
    "ExecuteTime": {
     "end_time": "2020-04-29T23:59:09.061822Z",
     "start_time": "2020-04-29T23:59:09.057779Z"
    }
   },
   "outputs": [],
   "source": [
    "df['total_goals'] = df['Away Team Goals'] + df['Home Team Goals']"
   ]
  },
  {
   "cell_type": "code",
   "execution_count": 47,
   "metadata": {
    "ExecuteTime": {
     "end_time": "2020-04-29T23:59:09.580491Z",
     "start_time": "2020-04-29T23:59:09.574507Z"
    }
   },
   "outputs": [
    {
     "data": {
      "text/plain": [
       "0      1.0\n",
       "1      0.0\n",
       "2      1.0\n",
       "3      1.0\n",
       "4      0.0\n",
       "      ... \n",
       "832    1.0\n",
       "833    1.0\n",
       "834    0.0\n",
       "835    1.0\n",
       "852    NaN\n",
       "Name: Away Team Goals, Length: 837, dtype: float64"
      ]
     },
     "execution_count": 47,
     "metadata": {},
     "output_type": "execute_result"
    }
   ],
   "source": [
    "df['Away Team Goals']"
   ]
  },
  {
   "cell_type": "code",
   "execution_count": 48,
   "metadata": {
    "ExecuteTime": {
     "end_time": "2020-04-29T23:59:09.770887Z",
     "start_time": "2020-04-29T23:59:09.767901Z"
    }
   },
   "outputs": [],
   "source": [
    "team_name = 'Brazil'\n",
    "\n",
    "other_team = 'Germany'"
   ]
  },
  {
   "cell_type": "code",
   "execution_count": 49,
   "metadata": {
    "ExecuteTime": {
     "end_time": "2020-04-29T23:59:09.953401Z",
     "start_time": "2020-04-29T23:59:09.930434Z"
    }
   },
   "outputs": [
    {
     "data": {
      "text/html": [
       "<div>\n",
       "<style scoped>\n",
       "    .dataframe tbody tr th:only-of-type {\n",
       "        vertical-align: middle;\n",
       "    }\n",
       "\n",
       "    .dataframe tbody tr th {\n",
       "        vertical-align: top;\n",
       "    }\n",
       "\n",
       "    .dataframe thead th {\n",
       "        text-align: right;\n",
       "    }\n",
       "</style>\n",
       "<table border=\"1\" class=\"dataframe\">\n",
       "  <thead>\n",
       "    <tr style=\"text-align: right;\">\n",
       "      <th></th>\n",
       "      <th>Year</th>\n",
       "      <th>Datetime</th>\n",
       "      <th>Stage</th>\n",
       "      <th>Stadium</th>\n",
       "      <th>City</th>\n",
       "      <th>Home Team Name</th>\n",
       "      <th>Home Team Goals</th>\n",
       "      <th>Away Team Goals</th>\n",
       "      <th>Away Team Name</th>\n",
       "      <th>Win conditions</th>\n",
       "      <th>...</th>\n",
       "      <th>Half-time Home Goals</th>\n",
       "      <th>Half-time Away Goals</th>\n",
       "      <th>Referee</th>\n",
       "      <th>Assistant 1</th>\n",
       "      <th>Assistant 2</th>\n",
       "      <th>RoundID</th>\n",
       "      <th>MatchID</th>\n",
       "      <th>Home Team Initials</th>\n",
       "      <th>Away Team Initials</th>\n",
       "      <th>total_goals</th>\n",
       "    </tr>\n",
       "  </thead>\n",
       "  <tbody>\n",
       "    <tr>\n",
       "      <th>826</th>\n",
       "      <td>2014.0</td>\n",
       "      <td>08 Jul 2014 - 17:00</td>\n",
       "      <td>Semi-finals</td>\n",
       "      <td>Estadio Mineirao</td>\n",
       "      <td>Belo Horizonte</td>\n",
       "      <td>Brazil</td>\n",
       "      <td>1.0</td>\n",
       "      <td>7.0</td>\n",
       "      <td>Germany</td>\n",
       "      <td></td>\n",
       "      <td>...</td>\n",
       "      <td>0.0</td>\n",
       "      <td>5.0</td>\n",
       "      <td>RODRIGUEZ Marco (MEX)</td>\n",
       "      <td>TORRENTERA Marvin (MEX)</td>\n",
       "      <td>QUINTERO Marcos (MEX)</td>\n",
       "      <td>255955.0</td>\n",
       "      <td>300186474.0</td>\n",
       "      <td>BRA</td>\n",
       "      <td>GER</td>\n",
       "      <td>8.0</td>\n",
       "    </tr>\n",
       "  </tbody>\n",
       "</table>\n",
       "<p>1 rows × 21 columns</p>\n",
       "</div>"
      ],
      "text/plain": [
       "       Year              Datetime        Stage           Stadium  \\\n",
       "826  2014.0  08 Jul 2014 - 17:00   Semi-finals  Estadio Mineirao   \n",
       "\n",
       "                City Home Team Name  Home Team Goals  Away Team Goals  \\\n",
       "826  Belo Horizonte          Brazil              1.0              7.0   \n",
       "\n",
       "    Away Team Name Win conditions  ...  Half-time Home Goals  \\\n",
       "826        Germany                 ...                   0.0   \n",
       "\n",
       "     Half-time Away Goals                Referee              Assistant 1  \\\n",
       "826                   5.0  RODRIGUEZ Marco (MEX)  TORRENTERA Marvin (MEX)   \n",
       "\n",
       "               Assistant 2   RoundID      MatchID  Home Team Initials  \\\n",
       "826  QUINTERO Marcos (MEX)  255955.0  300186474.0                 BRA   \n",
       "\n",
       "    Away Team Initials total_goals  \n",
       "826                GER         8.0  \n",
       "\n",
       "[1 rows x 21 columns]"
      ]
     },
     "execution_count": 49,
     "metadata": {},
     "output_type": "execute_result"
    }
   ],
   "source": [
    "df.query(f'`Home Team Name` == \"{team_name}\" and `Away Team Name` == \"{other_team}\"')"
   ]
  },
  {
   "cell_type": "code",
   "execution_count": 50,
   "metadata": {
    "ExecuteTime": {
     "end_time": "2020-04-29T23:59:10.102510Z",
     "start_time": "2020-04-29T23:59:10.089515Z"
    }
   },
   "outputs": [
    {
     "data": {
      "text/plain": [
       "826    1.0\n",
       "643    2.0\n",
       "dtype: float64"
      ]
     },
     "execution_count": 50,
     "metadata": {},
     "output_type": "execute_result"
    }
   ],
   "source": [
    " pd.concat([df.query(f'`Home Team Name` == \"{team_name}\" and `Away Team Name` == \"{other_team}\"')['Home Team Goals'], \n",
    "                     df.query(f'`Away Team Name` == \"{team_name}\" and `Home Team Name` == \"{other_team}\"')['Away Team Goals']])"
   ]
  },
  {
   "cell_type": "code",
   "execution_count": 51,
   "metadata": {
    "ExecuteTime": {
     "end_time": "2020-04-29T23:59:10.257176Z",
     "start_time": "2020-04-29T23:59:10.246180Z"
    }
   },
   "outputs": [
    {
     "data": {
      "text/plain": [
       "1.5"
      ]
     },
     "execution_count": 51,
     "metadata": {},
     "output_type": "execute_result"
    }
   ],
   "source": [
    "average = pd.concat([df.query(f'`Home Team Name` == \"{team_name}\" and `Away Team Name` == \"{other_team}\"')['Home Team Goals'], \n",
    "                     df.query(f'`Away Team Name` == \"{team_name}\" and `Home Team Name` == \"{other_team}\"')['Away Team Goals']]).mean()\n",
    "average"
   ]
  },
  {
   "cell_type": "code",
   "execution_count": 52,
   "metadata": {
    "ExecuteTime": {
     "end_time": "2020-04-29T23:59:10.404038Z",
     "start_time": "2020-04-29T23:59:10.399025Z"
    }
   },
   "outputs": [
    {
     "data": {
      "text/plain": [
       "1.5"
      ]
     },
     "execution_count": 52,
     "metadata": {},
     "output_type": "execute_result"
    }
   ],
   "source": [
    "average"
   ]
  },
  {
   "cell_type": "code",
   "execution_count": 53,
   "metadata": {
    "ExecuteTime": {
     "end_time": "2020-04-29T23:59:10.557708Z",
     "start_time": "2020-04-29T23:59:10.553719Z"
    }
   },
   "outputs": [],
   "source": [
    "dist = poisson(average)"
   ]
  },
  {
   "cell_type": "code",
   "execution_count": 54,
   "metadata": {
    "ExecuteTime": {
     "end_time": "2020-04-29T23:59:10.705314Z",
     "start_time": "2020-04-29T23:59:10.701324Z"
    }
   },
   "outputs": [
    {
     "data": {
      "text/plain": [
       "1322.0060599252374"
      ]
     },
     "execution_count": 54,
     "metadata": {},
     "output_type": "execute_result"
    }
   ],
   "source": [
    "# de quantos em quantos jogos eu faço 7 gols\n",
    "\n",
    "100 / (dist.pmf(7) * 100)"
   ]
  },
  {
   "cell_type": "code",
   "execution_count": 55,
   "metadata": {
    "ExecuteTime": {
     "end_time": "2020-04-29T23:59:10.860960Z",
     "start_time": "2020-04-29T23:59:10.854977Z"
    }
   },
   "outputs": [
    {
     "data": {
      "text/plain": [
       "0.07564261846549723"
      ]
     },
     "execution_count": 55,
     "metadata": {},
     "output_type": "execute_result"
    }
   ],
   "source": [
    "(dist.pmf(7) * 100)"
   ]
  },
  {
   "cell_type": "markdown",
   "metadata": {},
   "source": [
    "Of course, we're breaking some of the hypothesis. But that gives us an idea.\n"
   ]
  },
  {
   "cell_type": "markdown",
   "metadata": {},
   "source": [
    "Listen to this podcast to hear some interesting applications of the Poisson distribution!\n",
    "\n",
    "http://lineardigressions.com/episodes/2018/10/21/better-know-a-distribution-the-poisson-distribution"
   ]
  }
 ],
 "metadata": {
  "kernelspec": {
   "display_name": "Python 3",
   "language": "python",
   "name": "python3"
  },
  "language_info": {
   "codemirror_mode": {
    "name": "ipython",
    "version": 3
   },
   "file_extension": ".py",
   "mimetype": "text/x-python",
   "name": "python",
   "nbconvert_exporter": "python",
   "pygments_lexer": "ipython3",
   "version": "3.7.3"
  },
  "toc": {
   "base_numbering": 1,
   "nav_menu": {},
   "number_sections": true,
   "sideBar": true,
   "skip_h1_title": false,
   "title_cell": "Table of Contents",
   "title_sidebar": "Contents",
   "toc_cell": false,
   "toc_position": {},
   "toc_section_display": true,
   "toc_window_display": false
  }
 },
 "nbformat": 4,
 "nbformat_minor": 2
}
