{
 "cells": [
  {
   "cell_type": "markdown",
   "metadata": {},
   "source": [
    "# Review - Descriptive Stats"
   ]
  },
  {
   "cell_type": "markdown",
   "metadata": {},
   "source": [
    "- Medidas de Tendência Central --> Sintetizar um dataset através de um único valor\n",
    "    - Moda, Mediana, Media\n",
    "        - Outlier: Media considera tudo e, por isso, é afetada por outliers (o outlier puxa a média pra perto dele)\n",
    "        - Outlier: Mediana considera o ponto do meio do dataset (o lado bom disso é que ela é menos afetada por outliers)\n",
    "                \n",
    "    - Medias geometrica, aritmetica e harmônica\n",
    "        - harmonica: uma média que penaliza valores muito baixos\n",
    "\n",
    "- Medidas de Dispersão\n",
    "    - Range, Desvio Padrão, Variância\n",
    "        - Variância: Informação contida numa variável\n",
    "\n",
    "- Distribuições\n",
    "    - Frequências (histograma)\n",
    "    - kde - Kernel Density Estimation\n",
    "        - Gaussian Distribution\n"
   ]
  },
  {
   "cell_type": "markdown",
   "metadata": {},
   "source": [
    "# Gaussian Distribution\n",
    "> Objectives:\n",
    "    - Observe normal distribution properties in a ~real data."
   ]
  },
  {
   "cell_type": "code",
   "execution_count": 1,
   "metadata": {
    "ExecuteTime": {
     "end_time": "2020-04-06T12:35:38.573709Z",
     "start_time": "2020-04-06T12:35:38.094942Z"
    }
   },
   "outputs": [],
   "source": [
    "import pandas as pd\n",
    "import numpy as np"
   ]
  },
  {
   "cell_type": "code",
   "execution_count": 3,
   "metadata": {
    "ExecuteTime": {
     "end_time": "2020-04-06T12:35:56.871031Z",
     "start_time": "2020-04-06T12:35:56.443599Z"
    }
   },
   "outputs": [],
   "source": [
    "data = pd.read_csv('data/vehicles_messy.csv', low_memory=False)"
   ]
  },
  {
   "cell_type": "code",
   "execution_count": 4,
   "metadata": {
    "ExecuteTime": {
     "end_time": "2020-04-06T12:36:06.676276Z",
     "start_time": "2020-04-06T12:36:06.652339Z"
    }
   },
   "outputs": [
    {
     "data": {
      "text/html": [
       "<div>\n",
       "<style scoped>\n",
       "    .dataframe tbody tr th:only-of-type {\n",
       "        vertical-align: middle;\n",
       "    }\n",
       "\n",
       "    .dataframe tbody tr th {\n",
       "        vertical-align: top;\n",
       "    }\n",
       "\n",
       "    .dataframe thead th {\n",
       "        text-align: right;\n",
       "    }\n",
       "</style>\n",
       "<table border=\"1\" class=\"dataframe\">\n",
       "  <thead>\n",
       "    <tr style=\"text-align: right;\">\n",
       "      <th></th>\n",
       "      <th>barrels08</th>\n",
       "      <th>barrelsA08</th>\n",
       "      <th>charge120</th>\n",
       "      <th>charge240</th>\n",
       "      <th>city08</th>\n",
       "      <th>city08U</th>\n",
       "      <th>cityA08</th>\n",
       "      <th>cityA08U</th>\n",
       "      <th>cityCD</th>\n",
       "      <th>cityE</th>\n",
       "      <th>...</th>\n",
       "      <th>mfrCode</th>\n",
       "      <th>c240Dscr</th>\n",
       "      <th>charge240b</th>\n",
       "      <th>c240bDscr</th>\n",
       "      <th>createdOn</th>\n",
       "      <th>modifiedOn</th>\n",
       "      <th>startStop</th>\n",
       "      <th>phevCity</th>\n",
       "      <th>phevHwy</th>\n",
       "      <th>phevComb</th>\n",
       "    </tr>\n",
       "  </thead>\n",
       "  <tbody>\n",
       "    <tr>\n",
       "      <th>0</th>\n",
       "      <td>15.695714</td>\n",
       "      <td>0.0</td>\n",
       "      <td>0.0</td>\n",
       "      <td>0.0</td>\n",
       "      <td>19</td>\n",
       "      <td>0.0</td>\n",
       "      <td>0</td>\n",
       "      <td>0.0</td>\n",
       "      <td>0.0</td>\n",
       "      <td>0.0</td>\n",
       "      <td>...</td>\n",
       "      <td>NaN</td>\n",
       "      <td>NaN</td>\n",
       "      <td>0.0</td>\n",
       "      <td>NaN</td>\n",
       "      <td>Tue Jan 01 00:00:00 EST 2013</td>\n",
       "      <td>Tue Jan 01 00:00:00 EST 2013</td>\n",
       "      <td>NaN</td>\n",
       "      <td>0</td>\n",
       "      <td>0</td>\n",
       "      <td>0</td>\n",
       "    </tr>\n",
       "    <tr>\n",
       "      <th>1</th>\n",
       "      <td>29.964545</td>\n",
       "      <td>0.0</td>\n",
       "      <td>0.0</td>\n",
       "      <td>0.0</td>\n",
       "      <td>9</td>\n",
       "      <td>0.0</td>\n",
       "      <td>0</td>\n",
       "      <td>0.0</td>\n",
       "      <td>0.0</td>\n",
       "      <td>0.0</td>\n",
       "      <td>...</td>\n",
       "      <td>NaN</td>\n",
       "      <td>NaN</td>\n",
       "      <td>0.0</td>\n",
       "      <td>NaN</td>\n",
       "      <td>Tue Jan 01 00:00:00 EST 2013</td>\n",
       "      <td>Tue Jan 01 00:00:00 EST 2013</td>\n",
       "      <td>NaN</td>\n",
       "      <td>0</td>\n",
       "      <td>0</td>\n",
       "      <td>0</td>\n",
       "    </tr>\n",
       "    <tr>\n",
       "      <th>2</th>\n",
       "      <td>12.207778</td>\n",
       "      <td>0.0</td>\n",
       "      <td>0.0</td>\n",
       "      <td>0.0</td>\n",
       "      <td>23</td>\n",
       "      <td>0.0</td>\n",
       "      <td>0</td>\n",
       "      <td>0.0</td>\n",
       "      <td>0.0</td>\n",
       "      <td>0.0</td>\n",
       "      <td>...</td>\n",
       "      <td>NaN</td>\n",
       "      <td>NaN</td>\n",
       "      <td>0.0</td>\n",
       "      <td>NaN</td>\n",
       "      <td>Tue Jan 01 00:00:00 EST 2013</td>\n",
       "      <td>Tue Jan 01 00:00:00 EST 2013</td>\n",
       "      <td>NaN</td>\n",
       "      <td>0</td>\n",
       "      <td>0</td>\n",
       "      <td>0</td>\n",
       "    </tr>\n",
       "    <tr>\n",
       "      <th>3</th>\n",
       "      <td>29.964545</td>\n",
       "      <td>0.0</td>\n",
       "      <td>0.0</td>\n",
       "      <td>0.0</td>\n",
       "      <td>10</td>\n",
       "      <td>0.0</td>\n",
       "      <td>0</td>\n",
       "      <td>0.0</td>\n",
       "      <td>0.0</td>\n",
       "      <td>0.0</td>\n",
       "      <td>...</td>\n",
       "      <td>NaN</td>\n",
       "      <td>NaN</td>\n",
       "      <td>0.0</td>\n",
       "      <td>NaN</td>\n",
       "      <td>Tue Jan 01 00:00:00 EST 2013</td>\n",
       "      <td>Tue Jan 01 00:00:00 EST 2013</td>\n",
       "      <td>NaN</td>\n",
       "      <td>0</td>\n",
       "      <td>0</td>\n",
       "      <td>0</td>\n",
       "    </tr>\n",
       "    <tr>\n",
       "      <th>4</th>\n",
       "      <td>17.347895</td>\n",
       "      <td>0.0</td>\n",
       "      <td>0.0</td>\n",
       "      <td>0.0</td>\n",
       "      <td>17</td>\n",
       "      <td>0.0</td>\n",
       "      <td>0</td>\n",
       "      <td>0.0</td>\n",
       "      <td>0.0</td>\n",
       "      <td>0.0</td>\n",
       "      <td>...</td>\n",
       "      <td>NaN</td>\n",
       "      <td>NaN</td>\n",
       "      <td>0.0</td>\n",
       "      <td>NaN</td>\n",
       "      <td>Tue Jan 01 00:00:00 EST 2013</td>\n",
       "      <td>Tue Jan 01 00:00:00 EST 2013</td>\n",
       "      <td>NaN</td>\n",
       "      <td>0</td>\n",
       "      <td>0</td>\n",
       "      <td>0</td>\n",
       "    </tr>\n",
       "  </tbody>\n",
       "</table>\n",
       "<p>5 rows × 83 columns</p>\n",
       "</div>"
      ],
      "text/plain": [
       "   barrels08  barrelsA08  charge120  charge240  city08  city08U  cityA08  \\\n",
       "0  15.695714         0.0        0.0        0.0      19      0.0        0   \n",
       "1  29.964545         0.0        0.0        0.0       9      0.0        0   \n",
       "2  12.207778         0.0        0.0        0.0      23      0.0        0   \n",
       "3  29.964545         0.0        0.0        0.0      10      0.0        0   \n",
       "4  17.347895         0.0        0.0        0.0      17      0.0        0   \n",
       "\n",
       "   cityA08U  cityCD  cityE  ...  mfrCode  c240Dscr  charge240b  c240bDscr  \\\n",
       "0       0.0     0.0    0.0  ...      NaN       NaN         0.0        NaN   \n",
       "1       0.0     0.0    0.0  ...      NaN       NaN         0.0        NaN   \n",
       "2       0.0     0.0    0.0  ...      NaN       NaN         0.0        NaN   \n",
       "3       0.0     0.0    0.0  ...      NaN       NaN         0.0        NaN   \n",
       "4       0.0     0.0    0.0  ...      NaN       NaN         0.0        NaN   \n",
       "\n",
       "                      createdOn                    modifiedOn  startStop  \\\n",
       "0  Tue Jan 01 00:00:00 EST 2013  Tue Jan 01 00:00:00 EST 2013        NaN   \n",
       "1  Tue Jan 01 00:00:00 EST 2013  Tue Jan 01 00:00:00 EST 2013        NaN   \n",
       "2  Tue Jan 01 00:00:00 EST 2013  Tue Jan 01 00:00:00 EST 2013        NaN   \n",
       "3  Tue Jan 01 00:00:00 EST 2013  Tue Jan 01 00:00:00 EST 2013        NaN   \n",
       "4  Tue Jan 01 00:00:00 EST 2013  Tue Jan 01 00:00:00 EST 2013        NaN   \n",
       "\n",
       "   phevCity  phevHwy  phevComb  \n",
       "0         0        0         0  \n",
       "1         0        0         0  \n",
       "2         0        0         0  \n",
       "3         0        0         0  \n",
       "4         0        0         0  \n",
       "\n",
       "[5 rows x 83 columns]"
      ]
     },
     "execution_count": 4,
     "metadata": {},
     "output_type": "execute_result"
    }
   ],
   "source": [
    "data.head()"
   ]
  },
  {
   "cell_type": "code",
   "execution_count": 5,
   "metadata": {
    "ExecuteTime": {
     "end_time": "2020-04-06T12:36:15.035797Z",
     "start_time": "2020-04-06T12:36:15.031780Z"
    }
   },
   "outputs": [
    {
     "data": {
      "text/plain": [
       "(37843, 83)"
      ]
     },
     "execution_count": 5,
     "metadata": {},
     "output_type": "execute_result"
    }
   ],
   "source": [
    "data.shape"
   ]
  },
  {
   "cell_type": "code",
   "execution_count": 7,
   "metadata": {
    "ExecuteTime": {
     "end_time": "2020-04-06T12:36:47.880187Z",
     "start_time": "2020-04-06T12:36:47.695681Z"
    }
   },
   "outputs": [
    {
     "data": {
      "text/html": [
       "<div>\n",
       "<style scoped>\n",
       "    .dataframe tbody tr th:only-of-type {\n",
       "        vertical-align: middle;\n",
       "    }\n",
       "\n",
       "    .dataframe tbody tr th {\n",
       "        vertical-align: top;\n",
       "    }\n",
       "\n",
       "    .dataframe thead th {\n",
       "        text-align: right;\n",
       "    }\n",
       "</style>\n",
       "<table border=\"1\" class=\"dataframe\">\n",
       "  <thead>\n",
       "    <tr style=\"text-align: right;\">\n",
       "      <th></th>\n",
       "      <th>barrels08</th>\n",
       "      <th>barrelsA08</th>\n",
       "      <th>charge120</th>\n",
       "      <th>charge240</th>\n",
       "      <th>city08</th>\n",
       "      <th>city08U</th>\n",
       "      <th>cityA08</th>\n",
       "      <th>cityA08U</th>\n",
       "      <th>cityCD</th>\n",
       "      <th>cityE</th>\n",
       "      <th>...</th>\n",
       "      <th>UCity</th>\n",
       "      <th>UCityA</th>\n",
       "      <th>UHighway</th>\n",
       "      <th>UHighwayA</th>\n",
       "      <th>year</th>\n",
       "      <th>youSaveSpend</th>\n",
       "      <th>charge240b</th>\n",
       "      <th>phevCity</th>\n",
       "      <th>phevHwy</th>\n",
       "      <th>phevComb</th>\n",
       "    </tr>\n",
       "  </thead>\n",
       "  <tbody>\n",
       "    <tr>\n",
       "      <th>count</th>\n",
       "      <td>37843.000000</td>\n",
       "      <td>37843.000000</td>\n",
       "      <td>37843.0</td>\n",
       "      <td>37843.000000</td>\n",
       "      <td>37843.000000</td>\n",
       "      <td>37843.000000</td>\n",
       "      <td>37843.000000</td>\n",
       "      <td>37843.000000</td>\n",
       "      <td>37843.000000</td>\n",
       "      <td>37843.000000</td>\n",
       "      <td>...</td>\n",
       "      <td>37843.000000</td>\n",
       "      <td>37843.000000</td>\n",
       "      <td>37843.000000</td>\n",
       "      <td>37843.000000</td>\n",
       "      <td>37843.000000</td>\n",
       "      <td>37843.000000</td>\n",
       "      <td>37843.000000</td>\n",
       "      <td>37843.000000</td>\n",
       "      <td>37843.000000</td>\n",
       "      <td>37843.000000</td>\n",
       "    </tr>\n",
       "    <tr>\n",
       "      <th>mean</th>\n",
       "      <td>17.532506</td>\n",
       "      <td>0.216169</td>\n",
       "      <td>0.0</td>\n",
       "      <td>0.023531</td>\n",
       "      <td>17.941389</td>\n",
       "      <td>4.042737</td>\n",
       "      <td>0.520149</td>\n",
       "      <td>0.327163</td>\n",
       "      <td>0.000406</td>\n",
       "      <td>0.184790</td>\n",
       "      <td>...</td>\n",
       "      <td>22.587229</td>\n",
       "      <td>0.652380</td>\n",
       "      <td>33.619221</td>\n",
       "      <td>0.933845</td>\n",
       "      <td>2000.064398</td>\n",
       "      <td>-2658.999022</td>\n",
       "      <td>0.004360</td>\n",
       "      <td>0.069313</td>\n",
       "      <td>0.068203</td>\n",
       "      <td>0.068573</td>\n",
       "    </tr>\n",
       "    <tr>\n",
       "      <th>std</th>\n",
       "      <td>4.575950</td>\n",
       "      <td>1.141527</td>\n",
       "      <td>0.0</td>\n",
       "      <td>0.427647</td>\n",
       "      <td>6.660360</td>\n",
       "      <td>9.645820</td>\n",
       "      <td>3.837874</td>\n",
       "      <td>3.542596</td>\n",
       "      <td>0.039918</td>\n",
       "      <td>2.904558</td>\n",
       "      <td>...</td>\n",
       "      <td>9.350163</td>\n",
       "      <td>5.284547</td>\n",
       "      <td>10.048326</td>\n",
       "      <td>6.059456</td>\n",
       "      <td>10.390588</td>\n",
       "      <td>2553.098329</td>\n",
       "      <td>0.142776</td>\n",
       "      <td>1.966806</td>\n",
       "      <td>1.871986</td>\n",
       "      <td>1.913647</td>\n",
       "    </tr>\n",
       "    <tr>\n",
       "      <th>min</th>\n",
       "      <td>0.060000</td>\n",
       "      <td>0.000000</td>\n",
       "      <td>0.0</td>\n",
       "      <td>0.000000</td>\n",
       "      <td>6.000000</td>\n",
       "      <td>0.000000</td>\n",
       "      <td>0.000000</td>\n",
       "      <td>0.000000</td>\n",
       "      <td>0.000000</td>\n",
       "      <td>0.000000</td>\n",
       "      <td>...</td>\n",
       "      <td>0.000000</td>\n",
       "      <td>0.000000</td>\n",
       "      <td>0.000000</td>\n",
       "      <td>0.000000</td>\n",
       "      <td>1984.000000</td>\n",
       "      <td>-22250.000000</td>\n",
       "      <td>0.000000</td>\n",
       "      <td>0.000000</td>\n",
       "      <td>0.000000</td>\n",
       "      <td>0.000000</td>\n",
       "    </tr>\n",
       "    <tr>\n",
       "      <th>25%</th>\n",
       "      <td>14.330870</td>\n",
       "      <td>0.000000</td>\n",
       "      <td>0.0</td>\n",
       "      <td>0.000000</td>\n",
       "      <td>15.000000</td>\n",
       "      <td>0.000000</td>\n",
       "      <td>0.000000</td>\n",
       "      <td>0.000000</td>\n",
       "      <td>0.000000</td>\n",
       "      <td>0.000000</td>\n",
       "      <td>...</td>\n",
       "      <td>18.000000</td>\n",
       "      <td>0.000000</td>\n",
       "      <td>27.100000</td>\n",
       "      <td>0.000000</td>\n",
       "      <td>1990.000000</td>\n",
       "      <td>-4250.000000</td>\n",
       "      <td>0.000000</td>\n",
       "      <td>0.000000</td>\n",
       "      <td>0.000000</td>\n",
       "      <td>0.000000</td>\n",
       "    </tr>\n",
       "    <tr>\n",
       "      <th>50%</th>\n",
       "      <td>17.347895</td>\n",
       "      <td>0.000000</td>\n",
       "      <td>0.0</td>\n",
       "      <td>0.000000</td>\n",
       "      <td>17.000000</td>\n",
       "      <td>0.000000</td>\n",
       "      <td>0.000000</td>\n",
       "      <td>0.000000</td>\n",
       "      <td>0.000000</td>\n",
       "      <td>0.000000</td>\n",
       "      <td>...</td>\n",
       "      <td>21.000000</td>\n",
       "      <td>0.000000</td>\n",
       "      <td>33.000000</td>\n",
       "      <td>0.000000</td>\n",
       "      <td>2001.000000</td>\n",
       "      <td>-2500.000000</td>\n",
       "      <td>0.000000</td>\n",
       "      <td>0.000000</td>\n",
       "      <td>0.000000</td>\n",
       "      <td>0.000000</td>\n",
       "    </tr>\n",
       "    <tr>\n",
       "      <th>75%</th>\n",
       "      <td>20.600625</td>\n",
       "      <td>0.000000</td>\n",
       "      <td>0.0</td>\n",
       "      <td>0.000000</td>\n",
       "      <td>20.000000</td>\n",
       "      <td>0.000000</td>\n",
       "      <td>0.000000</td>\n",
       "      <td>0.000000</td>\n",
       "      <td>0.000000</td>\n",
       "      <td>0.000000</td>\n",
       "      <td>...</td>\n",
       "      <td>25.139300</td>\n",
       "      <td>0.000000</td>\n",
       "      <td>38.109600</td>\n",
       "      <td>0.000000</td>\n",
       "      <td>2009.000000</td>\n",
       "      <td>-750.000000</td>\n",
       "      <td>0.000000</td>\n",
       "      <td>0.000000</td>\n",
       "      <td>0.000000</td>\n",
       "      <td>0.000000</td>\n",
       "    </tr>\n",
       "    <tr>\n",
       "      <th>max</th>\n",
       "      <td>47.087143</td>\n",
       "      <td>18.311667</td>\n",
       "      <td>0.0</td>\n",
       "      <td>12.000000</td>\n",
       "      <td>138.000000</td>\n",
       "      <td>138.304000</td>\n",
       "      <td>127.000000</td>\n",
       "      <td>127.093000</td>\n",
       "      <td>5.350000</td>\n",
       "      <td>122.000000</td>\n",
       "      <td>...</td>\n",
       "      <td>197.577100</td>\n",
       "      <td>181.560900</td>\n",
       "      <td>159.100000</td>\n",
       "      <td>152.187800</td>\n",
       "      <td>2017.000000</td>\n",
       "      <td>4000.000000</td>\n",
       "      <td>7.000000</td>\n",
       "      <td>97.000000</td>\n",
       "      <td>79.000000</td>\n",
       "      <td>88.000000</td>\n",
       "    </tr>\n",
       "  </tbody>\n",
       "</table>\n",
       "<p>8 rows × 59 columns</p>\n",
       "</div>"
      ],
      "text/plain": [
       "          barrels08    barrelsA08  charge120     charge240        city08  \\\n",
       "count  37843.000000  37843.000000    37843.0  37843.000000  37843.000000   \n",
       "mean      17.532506      0.216169        0.0      0.023531     17.941389   \n",
       "std        4.575950      1.141527        0.0      0.427647      6.660360   \n",
       "min        0.060000      0.000000        0.0      0.000000      6.000000   \n",
       "25%       14.330870      0.000000        0.0      0.000000     15.000000   \n",
       "50%       17.347895      0.000000        0.0      0.000000     17.000000   \n",
       "75%       20.600625      0.000000        0.0      0.000000     20.000000   \n",
       "max       47.087143     18.311667        0.0     12.000000    138.000000   \n",
       "\n",
       "            city08U       cityA08      cityA08U        cityCD         cityE  \\\n",
       "count  37843.000000  37843.000000  37843.000000  37843.000000  37843.000000   \n",
       "mean       4.042737      0.520149      0.327163      0.000406      0.184790   \n",
       "std        9.645820      3.837874      3.542596      0.039918      2.904558   \n",
       "min        0.000000      0.000000      0.000000      0.000000      0.000000   \n",
       "25%        0.000000      0.000000      0.000000      0.000000      0.000000   \n",
       "50%        0.000000      0.000000      0.000000      0.000000      0.000000   \n",
       "75%        0.000000      0.000000      0.000000      0.000000      0.000000   \n",
       "max      138.304000    127.000000    127.093000      5.350000    122.000000   \n",
       "\n",
       "       ...         UCity        UCityA      UHighway     UHighwayA  \\\n",
       "count  ...  37843.000000  37843.000000  37843.000000  37843.000000   \n",
       "mean   ...     22.587229      0.652380     33.619221      0.933845   \n",
       "std    ...      9.350163      5.284547     10.048326      6.059456   \n",
       "min    ...      0.000000      0.000000      0.000000      0.000000   \n",
       "25%    ...     18.000000      0.000000     27.100000      0.000000   \n",
       "50%    ...     21.000000      0.000000     33.000000      0.000000   \n",
       "75%    ...     25.139300      0.000000     38.109600      0.000000   \n",
       "max    ...    197.577100    181.560900    159.100000    152.187800   \n",
       "\n",
       "               year  youSaveSpend    charge240b      phevCity       phevHwy  \\\n",
       "count  37843.000000  37843.000000  37843.000000  37843.000000  37843.000000   \n",
       "mean    2000.064398  -2658.999022      0.004360      0.069313      0.068203   \n",
       "std       10.390588   2553.098329      0.142776      1.966806      1.871986   \n",
       "min     1984.000000 -22250.000000      0.000000      0.000000      0.000000   \n",
       "25%     1990.000000  -4250.000000      0.000000      0.000000      0.000000   \n",
       "50%     2001.000000  -2500.000000      0.000000      0.000000      0.000000   \n",
       "75%     2009.000000   -750.000000      0.000000      0.000000      0.000000   \n",
       "max     2017.000000   4000.000000      7.000000     97.000000     79.000000   \n",
       "\n",
       "           phevComb  \n",
       "count  37843.000000  \n",
       "mean       0.068573  \n",
       "std        1.913647  \n",
       "min        0.000000  \n",
       "25%        0.000000  \n",
       "50%        0.000000  \n",
       "75%        0.000000  \n",
       "max       88.000000  \n",
       "\n",
       "[8 rows x 59 columns]"
      ]
     },
     "execution_count": 7,
     "metadata": {},
     "output_type": "execute_result"
    }
   ],
   "source": [
    "data.describe()"
   ]
  },
  {
   "cell_type": "markdown",
   "metadata": {},
   "source": [
    "# Outliers (!)\n",
    "\n",
    ">    - Several methods:\n",
    "        - Interquartile range ($\\approx$2.7$\\sigma$)\n",
    "        - \\> 3$\\sigma$ (standard-deviations)\n",
    "        - Cap on specified quantile"
   ]
  },
  {
   "cell_type": "code",
   "execution_count": 8,
   "metadata": {
    "ExecuteTime": {
     "end_time": "2020-04-06T12:36:57.215210Z",
     "start_time": "2020-04-06T12:36:57.039680Z"
    },
    "scrolled": true
   },
   "outputs": [
    {
     "data": {
      "text/html": [
       "<div>\n",
       "<style scoped>\n",
       "    .dataframe tbody tr th:only-of-type {\n",
       "        vertical-align: middle;\n",
       "    }\n",
       "\n",
       "    .dataframe tbody tr th {\n",
       "        vertical-align: top;\n",
       "    }\n",
       "\n",
       "    .dataframe thead th {\n",
       "        text-align: right;\n",
       "    }\n",
       "</style>\n",
       "<table border=\"1\" class=\"dataframe\">\n",
       "  <thead>\n",
       "    <tr style=\"text-align: right;\">\n",
       "      <th></th>\n",
       "      <th>count</th>\n",
       "      <th>mean</th>\n",
       "      <th>std</th>\n",
       "      <th>min</th>\n",
       "      <th>25%</th>\n",
       "      <th>50%</th>\n",
       "      <th>75%</th>\n",
       "      <th>max</th>\n",
       "    </tr>\n",
       "  </thead>\n",
       "  <tbody>\n",
       "    <tr>\n",
       "      <th>barrels08</th>\n",
       "      <td>37843.0</td>\n",
       "      <td>17.532506</td>\n",
       "      <td>4.575950</td>\n",
       "      <td>0.06</td>\n",
       "      <td>14.33087</td>\n",
       "      <td>17.347895</td>\n",
       "      <td>20.600625</td>\n",
       "      <td>47.087143</td>\n",
       "    </tr>\n",
       "    <tr>\n",
       "      <th>barrelsA08</th>\n",
       "      <td>37843.0</td>\n",
       "      <td>0.216169</td>\n",
       "      <td>1.141527</td>\n",
       "      <td>0.00</td>\n",
       "      <td>0.00000</td>\n",
       "      <td>0.000000</td>\n",
       "      <td>0.000000</td>\n",
       "      <td>18.311667</td>\n",
       "    </tr>\n",
       "    <tr>\n",
       "      <th>charge120</th>\n",
       "      <td>37843.0</td>\n",
       "      <td>0.000000</td>\n",
       "      <td>0.000000</td>\n",
       "      <td>0.00</td>\n",
       "      <td>0.00000</td>\n",
       "      <td>0.000000</td>\n",
       "      <td>0.000000</td>\n",
       "      <td>0.000000</td>\n",
       "    </tr>\n",
       "    <tr>\n",
       "      <th>charge240</th>\n",
       "      <td>37843.0</td>\n",
       "      <td>0.023531</td>\n",
       "      <td>0.427647</td>\n",
       "      <td>0.00</td>\n",
       "      <td>0.00000</td>\n",
       "      <td>0.000000</td>\n",
       "      <td>0.000000</td>\n",
       "      <td>12.000000</td>\n",
       "    </tr>\n",
       "    <tr>\n",
       "      <th>city08</th>\n",
       "      <td>37843.0</td>\n",
       "      <td>17.941389</td>\n",
       "      <td>6.660360</td>\n",
       "      <td>6.00</td>\n",
       "      <td>15.00000</td>\n",
       "      <td>17.000000</td>\n",
       "      <td>20.000000</td>\n",
       "      <td>138.000000</td>\n",
       "    </tr>\n",
       "    <tr>\n",
       "      <th>city08U</th>\n",
       "      <td>37843.0</td>\n",
       "      <td>4.042737</td>\n",
       "      <td>9.645820</td>\n",
       "      <td>0.00</td>\n",
       "      <td>0.00000</td>\n",
       "      <td>0.000000</td>\n",
       "      <td>0.000000</td>\n",
       "      <td>138.304000</td>\n",
       "    </tr>\n",
       "    <tr>\n",
       "      <th>cityA08</th>\n",
       "      <td>37843.0</td>\n",
       "      <td>0.520149</td>\n",
       "      <td>3.837874</td>\n",
       "      <td>0.00</td>\n",
       "      <td>0.00000</td>\n",
       "      <td>0.000000</td>\n",
       "      <td>0.000000</td>\n",
       "      <td>127.000000</td>\n",
       "    </tr>\n",
       "    <tr>\n",
       "      <th>cityA08U</th>\n",
       "      <td>37843.0</td>\n",
       "      <td>0.327163</td>\n",
       "      <td>3.542596</td>\n",
       "      <td>0.00</td>\n",
       "      <td>0.00000</td>\n",
       "      <td>0.000000</td>\n",
       "      <td>0.000000</td>\n",
       "      <td>127.093000</td>\n",
       "    </tr>\n",
       "    <tr>\n",
       "      <th>cityCD</th>\n",
       "      <td>37843.0</td>\n",
       "      <td>0.000406</td>\n",
       "      <td>0.039918</td>\n",
       "      <td>0.00</td>\n",
       "      <td>0.00000</td>\n",
       "      <td>0.000000</td>\n",
       "      <td>0.000000</td>\n",
       "      <td>5.350000</td>\n",
       "    </tr>\n",
       "    <tr>\n",
       "      <th>cityE</th>\n",
       "      <td>37843.0</td>\n",
       "      <td>0.184790</td>\n",
       "      <td>2.904558</td>\n",
       "      <td>0.00</td>\n",
       "      <td>0.00000</td>\n",
       "      <td>0.000000</td>\n",
       "      <td>0.000000</td>\n",
       "      <td>122.000000</td>\n",
       "    </tr>\n",
       "    <tr>\n",
       "      <th>cityUF</th>\n",
       "      <td>37843.0</td>\n",
       "      <td>0.000706</td>\n",
       "      <td>0.019458</td>\n",
       "      <td>0.00</td>\n",
       "      <td>0.00000</td>\n",
       "      <td>0.000000</td>\n",
       "      <td>0.000000</td>\n",
       "      <td>0.849000</td>\n",
       "    </tr>\n",
       "    <tr>\n",
       "      <th>co2</th>\n",
       "      <td>37843.0</td>\n",
       "      <td>61.503713</td>\n",
       "      <td>153.387715</td>\n",
       "      <td>-1.00</td>\n",
       "      <td>-1.00000</td>\n",
       "      <td>-1.000000</td>\n",
       "      <td>-1.000000</td>\n",
       "      <td>847.000000</td>\n",
       "    </tr>\n",
       "    <tr>\n",
       "      <th>co2A</th>\n",
       "      <td>37843.0</td>\n",
       "      <td>5.349919</td>\n",
       "      <td>55.539497</td>\n",
       "      <td>-1.00</td>\n",
       "      <td>-1.00000</td>\n",
       "      <td>-1.000000</td>\n",
       "      <td>-1.000000</td>\n",
       "      <td>719.000000</td>\n",
       "    </tr>\n",
       "    <tr>\n",
       "      <th>co2TailpipeAGpm</th>\n",
       "      <td>37843.0</td>\n",
       "      <td>17.771433</td>\n",
       "      <td>94.129283</td>\n",
       "      <td>0.00</td>\n",
       "      <td>0.00000</td>\n",
       "      <td>0.000000</td>\n",
       "      <td>0.000000</td>\n",
       "      <td>719.000000</td>\n",
       "    </tr>\n",
       "    <tr>\n",
       "      <th>co2TailpipeGpm</th>\n",
       "      <td>37843.0</td>\n",
       "      <td>473.179736</td>\n",
       "      <td>122.188847</td>\n",
       "      <td>0.00</td>\n",
       "      <td>388.00000</td>\n",
       "      <td>467.736842</td>\n",
       "      <td>555.437500</td>\n",
       "      <td>1269.571429</td>\n",
       "    </tr>\n",
       "    <tr>\n",
       "      <th>comb08</th>\n",
       "      <td>37843.0</td>\n",
       "      <td>20.195809</td>\n",
       "      <td>6.623444</td>\n",
       "      <td>7.00</td>\n",
       "      <td>17.00000</td>\n",
       "      <td>19.000000</td>\n",
       "      <td>23.000000</td>\n",
       "      <td>124.000000</td>\n",
       "    </tr>\n",
       "    <tr>\n",
       "      <th>comb08U</th>\n",
       "      <td>37843.0</td>\n",
       "      <td>4.549751</td>\n",
       "      <td>10.389994</td>\n",
       "      <td>0.00</td>\n",
       "      <td>0.00000</td>\n",
       "      <td>0.000000</td>\n",
       "      <td>0.000000</td>\n",
       "      <td>124.360100</td>\n",
       "    </tr>\n",
       "    <tr>\n",
       "      <th>combA08</th>\n",
       "      <td>37843.0</td>\n",
       "      <td>0.581191</td>\n",
       "      <td>3.966255</td>\n",
       "      <td>0.00</td>\n",
       "      <td>0.00000</td>\n",
       "      <td>0.000000</td>\n",
       "      <td>0.000000</td>\n",
       "      <td>117.000000</td>\n",
       "    </tr>\n",
       "    <tr>\n",
       "      <th>combA08U</th>\n",
       "      <td>37843.0</td>\n",
       "      <td>0.359027</td>\n",
       "      <td>3.589260</td>\n",
       "      <td>0.00</td>\n",
       "      <td>0.00000</td>\n",
       "      <td>0.000000</td>\n",
       "      <td>0.000000</td>\n",
       "      <td>116.936400</td>\n",
       "    </tr>\n",
       "    <tr>\n",
       "      <th>combE</th>\n",
       "      <td>37843.0</td>\n",
       "      <td>0.190575</td>\n",
       "      <td>2.979567</td>\n",
       "      <td>0.00</td>\n",
       "      <td>0.00000</td>\n",
       "      <td>0.000000</td>\n",
       "      <td>0.000000</td>\n",
       "      <td>121.000000</td>\n",
       "    </tr>\n",
       "    <tr>\n",
       "      <th>combinedCD</th>\n",
       "      <td>37843.0</td>\n",
       "      <td>0.000335</td>\n",
       "      <td>0.035284</td>\n",
       "      <td>0.00</td>\n",
       "      <td>0.00000</td>\n",
       "      <td>0.000000</td>\n",
       "      <td>0.000000</td>\n",
       "      <td>4.800000</td>\n",
       "    </tr>\n",
       "    <tr>\n",
       "      <th>combinedUF</th>\n",
       "      <td>37843.0</td>\n",
       "      <td>0.000691</td>\n",
       "      <td>0.019049</td>\n",
       "      <td>0.00</td>\n",
       "      <td>0.00000</td>\n",
       "      <td>0.000000</td>\n",
       "      <td>0.000000</td>\n",
       "      <td>0.834000</td>\n",
       "    </tr>\n",
       "    <tr>\n",
       "      <th>cylinders</th>\n",
       "      <td>37720.0</td>\n",
       "      <td>5.737990</td>\n",
       "      <td>1.751795</td>\n",
       "      <td>2.00</td>\n",
       "      <td>4.00000</td>\n",
       "      <td>6.000000</td>\n",
       "      <td>6.000000</td>\n",
       "      <td>16.000000</td>\n",
       "    </tr>\n",
       "    <tr>\n",
       "      <th>displ</th>\n",
       "      <td>37723.0</td>\n",
       "      <td>3.318180</td>\n",
       "      <td>1.361399</td>\n",
       "      <td>0.00</td>\n",
       "      <td>2.20000</td>\n",
       "      <td>3.000000</td>\n",
       "      <td>4.300000</td>\n",
       "      <td>8.400000</td>\n",
       "    </tr>\n",
       "    <tr>\n",
       "      <th>engId</th>\n",
       "      <td>37843.0</td>\n",
       "      <td>8860.308961</td>\n",
       "      <td>17829.683477</td>\n",
       "      <td>0.00</td>\n",
       "      <td>0.00000</td>\n",
       "      <td>211.000000</td>\n",
       "      <td>4505.000000</td>\n",
       "      <td>69102.000000</td>\n",
       "    </tr>\n",
       "    <tr>\n",
       "      <th>feScore</th>\n",
       "      <td>37843.0</td>\n",
       "      <td>-0.035145</td>\n",
       "      <td>2.379584</td>\n",
       "      <td>-1.00</td>\n",
       "      <td>-1.00000</td>\n",
       "      <td>-1.000000</td>\n",
       "      <td>-1.000000</td>\n",
       "      <td>10.000000</td>\n",
       "    </tr>\n",
       "    <tr>\n",
       "      <th>fuelCost08</th>\n",
       "      <td>37843.0</td>\n",
       "      <td>1882.060090</td>\n",
       "      <td>510.280408</td>\n",
       "      <td>550.00</td>\n",
       "      <td>1500.00000</td>\n",
       "      <td>1850.000000</td>\n",
       "      <td>2200.000000</td>\n",
       "      <td>5800.000000</td>\n",
       "    </tr>\n",
       "    <tr>\n",
       "      <th>fuelCostA08</th>\n",
       "      <td>37843.0</td>\n",
       "      <td>79.070105</td>\n",
       "      <td>417.668580</td>\n",
       "      <td>0.00</td>\n",
       "      <td>0.00000</td>\n",
       "      <td>0.000000</td>\n",
       "      <td>0.000000</td>\n",
       "      <td>3800.000000</td>\n",
       "    </tr>\n",
       "    <tr>\n",
       "      <th>ghgScore</th>\n",
       "      <td>37843.0</td>\n",
       "      <td>-0.037206</td>\n",
       "      <td>2.374338</td>\n",
       "      <td>-1.00</td>\n",
       "      <td>-1.00000</td>\n",
       "      <td>-1.000000</td>\n",
       "      <td>-1.000000</td>\n",
       "      <td>10.000000</td>\n",
       "    </tr>\n",
       "    <tr>\n",
       "      <th>ghgScoreA</th>\n",
       "      <td>37843.0</td>\n",
       "      <td>-0.929630</td>\n",
       "      <td>0.627565</td>\n",
       "      <td>-1.00</td>\n",
       "      <td>-1.00000</td>\n",
       "      <td>-1.000000</td>\n",
       "      <td>-1.000000</td>\n",
       "      <td>8.000000</td>\n",
       "    </tr>\n",
       "    <tr>\n",
       "      <th>highway08</th>\n",
       "      <td>37843.0</td>\n",
       "      <td>24.104881</td>\n",
       "      <td>6.963192</td>\n",
       "      <td>9.00</td>\n",
       "      <td>20.00000</td>\n",
       "      <td>24.000000</td>\n",
       "      <td>27.000000</td>\n",
       "      <td>111.000000</td>\n",
       "    </tr>\n",
       "    <tr>\n",
       "      <th>highway08U</th>\n",
       "      <td>37843.0</td>\n",
       "      <td>5.438467</td>\n",
       "      <td>11.936327</td>\n",
       "      <td>0.00</td>\n",
       "      <td>0.00000</td>\n",
       "      <td>0.000000</td>\n",
       "      <td>0.000000</td>\n",
       "      <td>111.370000</td>\n",
       "    </tr>\n",
       "    <tr>\n",
       "      <th>highwayA08</th>\n",
       "      <td>37843.0</td>\n",
       "      <td>0.686891</td>\n",
       "      <td>4.308934</td>\n",
       "      <td>0.00</td>\n",
       "      <td>0.00000</td>\n",
       "      <td>0.000000</td>\n",
       "      <td>0.000000</td>\n",
       "      <td>107.000000</td>\n",
       "    </tr>\n",
       "    <tr>\n",
       "      <th>highwayA08U</th>\n",
       "      <td>37843.0</td>\n",
       "      <td>0.418698</td>\n",
       "      <td>3.808877</td>\n",
       "      <td>0.00</td>\n",
       "      <td>0.00000</td>\n",
       "      <td>0.000000</td>\n",
       "      <td>0.000000</td>\n",
       "      <td>106.531000</td>\n",
       "    </tr>\n",
       "    <tr>\n",
       "      <th>highwayCD</th>\n",
       "      <td>37843.0</td>\n",
       "      <td>0.000233</td>\n",
       "      <td>0.029564</td>\n",
       "      <td>0.00</td>\n",
       "      <td>0.00000</td>\n",
       "      <td>0.000000</td>\n",
       "      <td>0.000000</td>\n",
       "      <td>4.060000</td>\n",
       "    </tr>\n",
       "    <tr>\n",
       "      <th>highwayE</th>\n",
       "      <td>37843.0</td>\n",
       "      <td>0.198247</td>\n",
       "      <td>3.091862</td>\n",
       "      <td>0.00</td>\n",
       "      <td>0.00000</td>\n",
       "      <td>0.000000</td>\n",
       "      <td>0.000000</td>\n",
       "      <td>120.000000</td>\n",
       "    </tr>\n",
       "    <tr>\n",
       "      <th>highwayUF</th>\n",
       "      <td>37843.0</td>\n",
       "      <td>0.000673</td>\n",
       "      <td>0.018583</td>\n",
       "      <td>0.00</td>\n",
       "      <td>0.00000</td>\n",
       "      <td>0.000000</td>\n",
       "      <td>0.000000</td>\n",
       "      <td>0.813000</td>\n",
       "    </tr>\n",
       "    <tr>\n",
       "      <th>hlv</th>\n",
       "      <td>37843.0</td>\n",
       "      <td>2.026214</td>\n",
       "      <td>5.947989</td>\n",
       "      <td>0.00</td>\n",
       "      <td>0.00000</td>\n",
       "      <td>0.000000</td>\n",
       "      <td>0.000000</td>\n",
       "      <td>49.000000</td>\n",
       "    </tr>\n",
       "    <tr>\n",
       "      <th>hpv</th>\n",
       "      <td>37843.0</td>\n",
       "      <td>10.424332</td>\n",
       "      <td>28.148770</td>\n",
       "      <td>0.00</td>\n",
       "      <td>0.00000</td>\n",
       "      <td>0.000000</td>\n",
       "      <td>0.000000</td>\n",
       "      <td>195.000000</td>\n",
       "    </tr>\n",
       "    <tr>\n",
       "      <th>id</th>\n",
       "      <td>37843.0</td>\n",
       "      <td>19019.286235</td>\n",
       "      <td>11034.784855</td>\n",
       "      <td>1.00</td>\n",
       "      <td>9461.50000</td>\n",
       "      <td>18923.000000</td>\n",
       "      <td>28570.500000</td>\n",
       "      <td>38173.000000</td>\n",
       "    </tr>\n",
       "    <tr>\n",
       "      <th>lv2</th>\n",
       "      <td>37843.0</td>\n",
       "      <td>1.849219</td>\n",
       "      <td>4.429983</td>\n",
       "      <td>0.00</td>\n",
       "      <td>0.00000</td>\n",
       "      <td>0.000000</td>\n",
       "      <td>0.000000</td>\n",
       "      <td>41.000000</td>\n",
       "    </tr>\n",
       "    <tr>\n",
       "      <th>lv4</th>\n",
       "      <td>37843.0</td>\n",
       "      <td>6.165658</td>\n",
       "      <td>9.743297</td>\n",
       "      <td>0.00</td>\n",
       "      <td>0.00000</td>\n",
       "      <td>0.000000</td>\n",
       "      <td>13.000000</td>\n",
       "      <td>55.000000</td>\n",
       "    </tr>\n",
       "    <tr>\n",
       "      <th>pv2</th>\n",
       "      <td>37843.0</td>\n",
       "      <td>13.696113</td>\n",
       "      <td>31.269930</td>\n",
       "      <td>0.00</td>\n",
       "      <td>0.00000</td>\n",
       "      <td>0.000000</td>\n",
       "      <td>0.000000</td>\n",
       "      <td>194.000000</td>\n",
       "    </tr>\n",
       "    <tr>\n",
       "      <th>pv4</th>\n",
       "      <td>37843.0</td>\n",
       "      <td>33.769125</td>\n",
       "      <td>45.914462</td>\n",
       "      <td>0.00</td>\n",
       "      <td>0.00000</td>\n",
       "      <td>0.000000</td>\n",
       "      <td>91.000000</td>\n",
       "      <td>192.000000</td>\n",
       "    </tr>\n",
       "    <tr>\n",
       "      <th>range</th>\n",
       "      <td>37843.0</td>\n",
       "      <td>0.392675</td>\n",
       "      <td>8.251191</td>\n",
       "      <td>0.00</td>\n",
       "      <td>0.00000</td>\n",
       "      <td>0.000000</td>\n",
       "      <td>0.000000</td>\n",
       "      <td>315.000000</td>\n",
       "    </tr>\n",
       "    <tr>\n",
       "      <th>rangeCity</th>\n",
       "      <td>37843.0</td>\n",
       "      <td>0.352618</td>\n",
       "      <td>8.049082</td>\n",
       "      <td>0.00</td>\n",
       "      <td>0.00000</td>\n",
       "      <td>0.000000</td>\n",
       "      <td>0.000000</td>\n",
       "      <td>305.900000</td>\n",
       "    </tr>\n",
       "    <tr>\n",
       "      <th>rangeCityA</th>\n",
       "      <td>37843.0</td>\n",
       "      <td>0.036800</td>\n",
       "      <td>1.158270</td>\n",
       "      <td>0.00</td>\n",
       "      <td>0.00000</td>\n",
       "      <td>0.000000</td>\n",
       "      <td>0.000000</td>\n",
       "      <td>77.504000</td>\n",
       "    </tr>\n",
       "    <tr>\n",
       "      <th>rangeHwy</th>\n",
       "      <td>37843.0</td>\n",
       "      <td>0.343399</td>\n",
       "      <td>8.171939</td>\n",
       "      <td>0.00</td>\n",
       "      <td>0.00000</td>\n",
       "      <td>0.000000</td>\n",
       "      <td>0.000000</td>\n",
       "      <td>346.900000</td>\n",
       "    </tr>\n",
       "    <tr>\n",
       "      <th>rangeHwyA</th>\n",
       "      <td>37843.0</td>\n",
       "      <td>0.033475</td>\n",
       "      <td>1.032642</td>\n",
       "      <td>0.00</td>\n",
       "      <td>0.00000</td>\n",
       "      <td>0.000000</td>\n",
       "      <td>0.000000</td>\n",
       "      <td>65.632000</td>\n",
       "    </tr>\n",
       "    <tr>\n",
       "      <th>UCity</th>\n",
       "      <td>37843.0</td>\n",
       "      <td>22.587229</td>\n",
       "      <td>9.350163</td>\n",
       "      <td>0.00</td>\n",
       "      <td>18.00000</td>\n",
       "      <td>21.000000</td>\n",
       "      <td>25.139300</td>\n",
       "      <td>197.577100</td>\n",
       "    </tr>\n",
       "    <tr>\n",
       "      <th>UCityA</th>\n",
       "      <td>37843.0</td>\n",
       "      <td>0.652380</td>\n",
       "      <td>5.284547</td>\n",
       "      <td>0.00</td>\n",
       "      <td>0.00000</td>\n",
       "      <td>0.000000</td>\n",
       "      <td>0.000000</td>\n",
       "      <td>181.560900</td>\n",
       "    </tr>\n",
       "    <tr>\n",
       "      <th>UHighway</th>\n",
       "      <td>37843.0</td>\n",
       "      <td>33.619221</td>\n",
       "      <td>10.048326</td>\n",
       "      <td>0.00</td>\n",
       "      <td>27.10000</td>\n",
       "      <td>33.000000</td>\n",
       "      <td>38.109600</td>\n",
       "      <td>159.100000</td>\n",
       "    </tr>\n",
       "    <tr>\n",
       "      <th>UHighwayA</th>\n",
       "      <td>37843.0</td>\n",
       "      <td>0.933845</td>\n",
       "      <td>6.059456</td>\n",
       "      <td>0.00</td>\n",
       "      <td>0.00000</td>\n",
       "      <td>0.000000</td>\n",
       "      <td>0.000000</td>\n",
       "      <td>152.187800</td>\n",
       "    </tr>\n",
       "    <tr>\n",
       "      <th>year</th>\n",
       "      <td>37843.0</td>\n",
       "      <td>2000.064398</td>\n",
       "      <td>10.390588</td>\n",
       "      <td>1984.00</td>\n",
       "      <td>1990.00000</td>\n",
       "      <td>2001.000000</td>\n",
       "      <td>2009.000000</td>\n",
       "      <td>2017.000000</td>\n",
       "    </tr>\n",
       "    <tr>\n",
       "      <th>youSaveSpend</th>\n",
       "      <td>37843.0</td>\n",
       "      <td>-2658.999022</td>\n",
       "      <td>2553.098329</td>\n",
       "      <td>-22250.00</td>\n",
       "      <td>-4250.00000</td>\n",
       "      <td>-2500.000000</td>\n",
       "      <td>-750.000000</td>\n",
       "      <td>4000.000000</td>\n",
       "    </tr>\n",
       "    <tr>\n",
       "      <th>charge240b</th>\n",
       "      <td>37843.0</td>\n",
       "      <td>0.004360</td>\n",
       "      <td>0.142776</td>\n",
       "      <td>0.00</td>\n",
       "      <td>0.00000</td>\n",
       "      <td>0.000000</td>\n",
       "      <td>0.000000</td>\n",
       "      <td>7.000000</td>\n",
       "    </tr>\n",
       "    <tr>\n",
       "      <th>phevCity</th>\n",
       "      <td>37843.0</td>\n",
       "      <td>0.069313</td>\n",
       "      <td>1.966806</td>\n",
       "      <td>0.00</td>\n",
       "      <td>0.00000</td>\n",
       "      <td>0.000000</td>\n",
       "      <td>0.000000</td>\n",
       "      <td>97.000000</td>\n",
       "    </tr>\n",
       "    <tr>\n",
       "      <th>phevHwy</th>\n",
       "      <td>37843.0</td>\n",
       "      <td>0.068203</td>\n",
       "      <td>1.871986</td>\n",
       "      <td>0.00</td>\n",
       "      <td>0.00000</td>\n",
       "      <td>0.000000</td>\n",
       "      <td>0.000000</td>\n",
       "      <td>79.000000</td>\n",
       "    </tr>\n",
       "    <tr>\n",
       "      <th>phevComb</th>\n",
       "      <td>37843.0</td>\n",
       "      <td>0.068573</td>\n",
       "      <td>1.913647</td>\n",
       "      <td>0.00</td>\n",
       "      <td>0.00000</td>\n",
       "      <td>0.000000</td>\n",
       "      <td>0.000000</td>\n",
       "      <td>88.000000</td>\n",
       "    </tr>\n",
       "  </tbody>\n",
       "</table>\n",
       "</div>"
      ],
      "text/plain": [
       "                   count          mean           std       min         25%  \\\n",
       "barrels08        37843.0     17.532506      4.575950      0.06    14.33087   \n",
       "barrelsA08       37843.0      0.216169      1.141527      0.00     0.00000   \n",
       "charge120        37843.0      0.000000      0.000000      0.00     0.00000   \n",
       "charge240        37843.0      0.023531      0.427647      0.00     0.00000   \n",
       "city08           37843.0     17.941389      6.660360      6.00    15.00000   \n",
       "city08U          37843.0      4.042737      9.645820      0.00     0.00000   \n",
       "cityA08          37843.0      0.520149      3.837874      0.00     0.00000   \n",
       "cityA08U         37843.0      0.327163      3.542596      0.00     0.00000   \n",
       "cityCD           37843.0      0.000406      0.039918      0.00     0.00000   \n",
       "cityE            37843.0      0.184790      2.904558      0.00     0.00000   \n",
       "cityUF           37843.0      0.000706      0.019458      0.00     0.00000   \n",
       "co2              37843.0     61.503713    153.387715     -1.00    -1.00000   \n",
       "co2A             37843.0      5.349919     55.539497     -1.00    -1.00000   \n",
       "co2TailpipeAGpm  37843.0     17.771433     94.129283      0.00     0.00000   \n",
       "co2TailpipeGpm   37843.0    473.179736    122.188847      0.00   388.00000   \n",
       "comb08           37843.0     20.195809      6.623444      7.00    17.00000   \n",
       "comb08U          37843.0      4.549751     10.389994      0.00     0.00000   \n",
       "combA08          37843.0      0.581191      3.966255      0.00     0.00000   \n",
       "combA08U         37843.0      0.359027      3.589260      0.00     0.00000   \n",
       "combE            37843.0      0.190575      2.979567      0.00     0.00000   \n",
       "combinedCD       37843.0      0.000335      0.035284      0.00     0.00000   \n",
       "combinedUF       37843.0      0.000691      0.019049      0.00     0.00000   \n",
       "cylinders        37720.0      5.737990      1.751795      2.00     4.00000   \n",
       "displ            37723.0      3.318180      1.361399      0.00     2.20000   \n",
       "engId            37843.0   8860.308961  17829.683477      0.00     0.00000   \n",
       "feScore          37843.0     -0.035145      2.379584     -1.00    -1.00000   \n",
       "fuelCost08       37843.0   1882.060090    510.280408    550.00  1500.00000   \n",
       "fuelCostA08      37843.0     79.070105    417.668580      0.00     0.00000   \n",
       "ghgScore         37843.0     -0.037206      2.374338     -1.00    -1.00000   \n",
       "ghgScoreA        37843.0     -0.929630      0.627565     -1.00    -1.00000   \n",
       "highway08        37843.0     24.104881      6.963192      9.00    20.00000   \n",
       "highway08U       37843.0      5.438467     11.936327      0.00     0.00000   \n",
       "highwayA08       37843.0      0.686891      4.308934      0.00     0.00000   \n",
       "highwayA08U      37843.0      0.418698      3.808877      0.00     0.00000   \n",
       "highwayCD        37843.0      0.000233      0.029564      0.00     0.00000   \n",
       "highwayE         37843.0      0.198247      3.091862      0.00     0.00000   \n",
       "highwayUF        37843.0      0.000673      0.018583      0.00     0.00000   \n",
       "hlv              37843.0      2.026214      5.947989      0.00     0.00000   \n",
       "hpv              37843.0     10.424332     28.148770      0.00     0.00000   \n",
       "id               37843.0  19019.286235  11034.784855      1.00  9461.50000   \n",
       "lv2              37843.0      1.849219      4.429983      0.00     0.00000   \n",
       "lv4              37843.0      6.165658      9.743297      0.00     0.00000   \n",
       "pv2              37843.0     13.696113     31.269930      0.00     0.00000   \n",
       "pv4              37843.0     33.769125     45.914462      0.00     0.00000   \n",
       "range            37843.0      0.392675      8.251191      0.00     0.00000   \n",
       "rangeCity        37843.0      0.352618      8.049082      0.00     0.00000   \n",
       "rangeCityA       37843.0      0.036800      1.158270      0.00     0.00000   \n",
       "rangeHwy         37843.0      0.343399      8.171939      0.00     0.00000   \n",
       "rangeHwyA        37843.0      0.033475      1.032642      0.00     0.00000   \n",
       "UCity            37843.0     22.587229      9.350163      0.00    18.00000   \n",
       "UCityA           37843.0      0.652380      5.284547      0.00     0.00000   \n",
       "UHighway         37843.0     33.619221     10.048326      0.00    27.10000   \n",
       "UHighwayA        37843.0      0.933845      6.059456      0.00     0.00000   \n",
       "year             37843.0   2000.064398     10.390588   1984.00  1990.00000   \n",
       "youSaveSpend     37843.0  -2658.999022   2553.098329 -22250.00 -4250.00000   \n",
       "charge240b       37843.0      0.004360      0.142776      0.00     0.00000   \n",
       "phevCity         37843.0      0.069313      1.966806      0.00     0.00000   \n",
       "phevHwy          37843.0      0.068203      1.871986      0.00     0.00000   \n",
       "phevComb         37843.0      0.068573      1.913647      0.00     0.00000   \n",
       "\n",
       "                          50%           75%           max  \n",
       "barrels08           17.347895     20.600625     47.087143  \n",
       "barrelsA08           0.000000      0.000000     18.311667  \n",
       "charge120            0.000000      0.000000      0.000000  \n",
       "charge240            0.000000      0.000000     12.000000  \n",
       "city08              17.000000     20.000000    138.000000  \n",
       "city08U              0.000000      0.000000    138.304000  \n",
       "cityA08              0.000000      0.000000    127.000000  \n",
       "cityA08U             0.000000      0.000000    127.093000  \n",
       "cityCD               0.000000      0.000000      5.350000  \n",
       "cityE                0.000000      0.000000    122.000000  \n",
       "cityUF               0.000000      0.000000      0.849000  \n",
       "co2                 -1.000000     -1.000000    847.000000  \n",
       "co2A                -1.000000     -1.000000    719.000000  \n",
       "co2TailpipeAGpm      0.000000      0.000000    719.000000  \n",
       "co2TailpipeGpm     467.736842    555.437500   1269.571429  \n",
       "comb08              19.000000     23.000000    124.000000  \n",
       "comb08U              0.000000      0.000000    124.360100  \n",
       "combA08              0.000000      0.000000    117.000000  \n",
       "combA08U             0.000000      0.000000    116.936400  \n",
       "combE                0.000000      0.000000    121.000000  \n",
       "combinedCD           0.000000      0.000000      4.800000  \n",
       "combinedUF           0.000000      0.000000      0.834000  \n",
       "cylinders            6.000000      6.000000     16.000000  \n",
       "displ                3.000000      4.300000      8.400000  \n",
       "engId              211.000000   4505.000000  69102.000000  \n",
       "feScore             -1.000000     -1.000000     10.000000  \n",
       "fuelCost08        1850.000000   2200.000000   5800.000000  \n",
       "fuelCostA08          0.000000      0.000000   3800.000000  \n",
       "ghgScore            -1.000000     -1.000000     10.000000  \n",
       "ghgScoreA           -1.000000     -1.000000      8.000000  \n",
       "highway08           24.000000     27.000000    111.000000  \n",
       "highway08U           0.000000      0.000000    111.370000  \n",
       "highwayA08           0.000000      0.000000    107.000000  \n",
       "highwayA08U          0.000000      0.000000    106.531000  \n",
       "highwayCD            0.000000      0.000000      4.060000  \n",
       "highwayE             0.000000      0.000000    120.000000  \n",
       "highwayUF            0.000000      0.000000      0.813000  \n",
       "hlv                  0.000000      0.000000     49.000000  \n",
       "hpv                  0.000000      0.000000    195.000000  \n",
       "id               18923.000000  28570.500000  38173.000000  \n",
       "lv2                  0.000000      0.000000     41.000000  \n",
       "lv4                  0.000000     13.000000     55.000000  \n",
       "pv2                  0.000000      0.000000    194.000000  \n",
       "pv4                  0.000000     91.000000    192.000000  \n",
       "range                0.000000      0.000000    315.000000  \n",
       "rangeCity            0.000000      0.000000    305.900000  \n",
       "rangeCityA           0.000000      0.000000     77.504000  \n",
       "rangeHwy             0.000000      0.000000    346.900000  \n",
       "rangeHwyA            0.000000      0.000000     65.632000  \n",
       "UCity               21.000000     25.139300    197.577100  \n",
       "UCityA               0.000000      0.000000    181.560900  \n",
       "UHighway            33.000000     38.109600    159.100000  \n",
       "UHighwayA            0.000000      0.000000    152.187800  \n",
       "year              2001.000000   2009.000000   2017.000000  \n",
       "youSaveSpend     -2500.000000   -750.000000   4000.000000  \n",
       "charge240b           0.000000      0.000000      7.000000  \n",
       "phevCity             0.000000      0.000000     97.000000  \n",
       "phevHwy              0.000000      0.000000     79.000000  \n",
       "phevComb             0.000000      0.000000     88.000000  "
      ]
     },
     "execution_count": 8,
     "metadata": {},
     "output_type": "execute_result"
    }
   ],
   "source": [
    "data.describe().transpose()"
   ]
  },
  {
   "cell_type": "code",
   "execution_count": 10,
   "metadata": {
    "ExecuteTime": {
     "end_time": "2020-04-06T12:45:56.354155Z",
     "start_time": "2020-04-06T12:45:56.164662Z"
    },
    "scrolled": true
   },
   "outputs": [
    {
     "data": {
      "text/html": [
       "<div>\n",
       "<style scoped>\n",
       "    .dataframe tbody tr th:only-of-type {\n",
       "        vertical-align: middle;\n",
       "    }\n",
       "\n",
       "    .dataframe tbody tr th {\n",
       "        vertical-align: top;\n",
       "    }\n",
       "\n",
       "    .dataframe thead th {\n",
       "        text-align: right;\n",
       "    }\n",
       "</style>\n",
       "<table border=\"1\" class=\"dataframe\">\n",
       "  <thead>\n",
       "    <tr style=\"text-align: right;\">\n",
       "      <th></th>\n",
       "      <th>count</th>\n",
       "      <th>mean</th>\n",
       "      <th>std</th>\n",
       "      <th>min</th>\n",
       "      <th>25%</th>\n",
       "      <th>50%</th>\n",
       "      <th>75%</th>\n",
       "      <th>max</th>\n",
       "      <th>IQR</th>\n",
       "    </tr>\n",
       "  </thead>\n",
       "  <tbody>\n",
       "    <tr>\n",
       "      <th>barrels08</th>\n",
       "      <td>37843.0</td>\n",
       "      <td>17.532506</td>\n",
       "      <td>4.575950</td>\n",
       "      <td>0.06</td>\n",
       "      <td>14.33087</td>\n",
       "      <td>17.347895</td>\n",
       "      <td>20.600625</td>\n",
       "      <td>47.087143</td>\n",
       "      <td>6.269755</td>\n",
       "    </tr>\n",
       "    <tr>\n",
       "      <th>barrelsA08</th>\n",
       "      <td>37843.0</td>\n",
       "      <td>0.216169</td>\n",
       "      <td>1.141527</td>\n",
       "      <td>0.00</td>\n",
       "      <td>0.00000</td>\n",
       "      <td>0.000000</td>\n",
       "      <td>0.000000</td>\n",
       "      <td>18.311667</td>\n",
       "      <td>0.000000</td>\n",
       "    </tr>\n",
       "    <tr>\n",
       "      <th>charge120</th>\n",
       "      <td>37843.0</td>\n",
       "      <td>0.000000</td>\n",
       "      <td>0.000000</td>\n",
       "      <td>0.00</td>\n",
       "      <td>0.00000</td>\n",
       "      <td>0.000000</td>\n",
       "      <td>0.000000</td>\n",
       "      <td>0.000000</td>\n",
       "      <td>0.000000</td>\n",
       "    </tr>\n",
       "    <tr>\n",
       "      <th>charge240</th>\n",
       "      <td>37843.0</td>\n",
       "      <td>0.023531</td>\n",
       "      <td>0.427647</td>\n",
       "      <td>0.00</td>\n",
       "      <td>0.00000</td>\n",
       "      <td>0.000000</td>\n",
       "      <td>0.000000</td>\n",
       "      <td>12.000000</td>\n",
       "      <td>0.000000</td>\n",
       "    </tr>\n",
       "    <tr>\n",
       "      <th>city08</th>\n",
       "      <td>37843.0</td>\n",
       "      <td>17.941389</td>\n",
       "      <td>6.660360</td>\n",
       "      <td>6.00</td>\n",
       "      <td>15.00000</td>\n",
       "      <td>17.000000</td>\n",
       "      <td>20.000000</td>\n",
       "      <td>138.000000</td>\n",
       "      <td>5.000000</td>\n",
       "    </tr>\n",
       "    <tr>\n",
       "      <th>city08U</th>\n",
       "      <td>37843.0</td>\n",
       "      <td>4.042737</td>\n",
       "      <td>9.645820</td>\n",
       "      <td>0.00</td>\n",
       "      <td>0.00000</td>\n",
       "      <td>0.000000</td>\n",
       "      <td>0.000000</td>\n",
       "      <td>138.304000</td>\n",
       "      <td>0.000000</td>\n",
       "    </tr>\n",
       "    <tr>\n",
       "      <th>cityA08</th>\n",
       "      <td>37843.0</td>\n",
       "      <td>0.520149</td>\n",
       "      <td>3.837874</td>\n",
       "      <td>0.00</td>\n",
       "      <td>0.00000</td>\n",
       "      <td>0.000000</td>\n",
       "      <td>0.000000</td>\n",
       "      <td>127.000000</td>\n",
       "      <td>0.000000</td>\n",
       "    </tr>\n",
       "    <tr>\n",
       "      <th>cityA08U</th>\n",
       "      <td>37843.0</td>\n",
       "      <td>0.327163</td>\n",
       "      <td>3.542596</td>\n",
       "      <td>0.00</td>\n",
       "      <td>0.00000</td>\n",
       "      <td>0.000000</td>\n",
       "      <td>0.000000</td>\n",
       "      <td>127.093000</td>\n",
       "      <td>0.000000</td>\n",
       "    </tr>\n",
       "    <tr>\n",
       "      <th>cityCD</th>\n",
       "      <td>37843.0</td>\n",
       "      <td>0.000406</td>\n",
       "      <td>0.039918</td>\n",
       "      <td>0.00</td>\n",
       "      <td>0.00000</td>\n",
       "      <td>0.000000</td>\n",
       "      <td>0.000000</td>\n",
       "      <td>5.350000</td>\n",
       "      <td>0.000000</td>\n",
       "    </tr>\n",
       "    <tr>\n",
       "      <th>cityE</th>\n",
       "      <td>37843.0</td>\n",
       "      <td>0.184790</td>\n",
       "      <td>2.904558</td>\n",
       "      <td>0.00</td>\n",
       "      <td>0.00000</td>\n",
       "      <td>0.000000</td>\n",
       "      <td>0.000000</td>\n",
       "      <td>122.000000</td>\n",
       "      <td>0.000000</td>\n",
       "    </tr>\n",
       "    <tr>\n",
       "      <th>cityUF</th>\n",
       "      <td>37843.0</td>\n",
       "      <td>0.000706</td>\n",
       "      <td>0.019458</td>\n",
       "      <td>0.00</td>\n",
       "      <td>0.00000</td>\n",
       "      <td>0.000000</td>\n",
       "      <td>0.000000</td>\n",
       "      <td>0.849000</td>\n",
       "      <td>0.000000</td>\n",
       "    </tr>\n",
       "    <tr>\n",
       "      <th>co2</th>\n",
       "      <td>37843.0</td>\n",
       "      <td>61.503713</td>\n",
       "      <td>153.387715</td>\n",
       "      <td>-1.00</td>\n",
       "      <td>-1.00000</td>\n",
       "      <td>-1.000000</td>\n",
       "      <td>-1.000000</td>\n",
       "      <td>847.000000</td>\n",
       "      <td>0.000000</td>\n",
       "    </tr>\n",
       "    <tr>\n",
       "      <th>co2A</th>\n",
       "      <td>37843.0</td>\n",
       "      <td>5.349919</td>\n",
       "      <td>55.539497</td>\n",
       "      <td>-1.00</td>\n",
       "      <td>-1.00000</td>\n",
       "      <td>-1.000000</td>\n",
       "      <td>-1.000000</td>\n",
       "      <td>719.000000</td>\n",
       "      <td>0.000000</td>\n",
       "    </tr>\n",
       "    <tr>\n",
       "      <th>co2TailpipeAGpm</th>\n",
       "      <td>37843.0</td>\n",
       "      <td>17.771433</td>\n",
       "      <td>94.129283</td>\n",
       "      <td>0.00</td>\n",
       "      <td>0.00000</td>\n",
       "      <td>0.000000</td>\n",
       "      <td>0.000000</td>\n",
       "      <td>719.000000</td>\n",
       "      <td>0.000000</td>\n",
       "    </tr>\n",
       "    <tr>\n",
       "      <th>co2TailpipeGpm</th>\n",
       "      <td>37843.0</td>\n",
       "      <td>473.179736</td>\n",
       "      <td>122.188847</td>\n",
       "      <td>0.00</td>\n",
       "      <td>388.00000</td>\n",
       "      <td>467.736842</td>\n",
       "      <td>555.437500</td>\n",
       "      <td>1269.571429</td>\n",
       "      <td>167.437500</td>\n",
       "    </tr>\n",
       "    <tr>\n",
       "      <th>comb08</th>\n",
       "      <td>37843.0</td>\n",
       "      <td>20.195809</td>\n",
       "      <td>6.623444</td>\n",
       "      <td>7.00</td>\n",
       "      <td>17.00000</td>\n",
       "      <td>19.000000</td>\n",
       "      <td>23.000000</td>\n",
       "      <td>124.000000</td>\n",
       "      <td>6.000000</td>\n",
       "    </tr>\n",
       "    <tr>\n",
       "      <th>comb08U</th>\n",
       "      <td>37843.0</td>\n",
       "      <td>4.549751</td>\n",
       "      <td>10.389994</td>\n",
       "      <td>0.00</td>\n",
       "      <td>0.00000</td>\n",
       "      <td>0.000000</td>\n",
       "      <td>0.000000</td>\n",
       "      <td>124.360100</td>\n",
       "      <td>0.000000</td>\n",
       "    </tr>\n",
       "    <tr>\n",
       "      <th>combA08</th>\n",
       "      <td>37843.0</td>\n",
       "      <td>0.581191</td>\n",
       "      <td>3.966255</td>\n",
       "      <td>0.00</td>\n",
       "      <td>0.00000</td>\n",
       "      <td>0.000000</td>\n",
       "      <td>0.000000</td>\n",
       "      <td>117.000000</td>\n",
       "      <td>0.000000</td>\n",
       "    </tr>\n",
       "    <tr>\n",
       "      <th>combA08U</th>\n",
       "      <td>37843.0</td>\n",
       "      <td>0.359027</td>\n",
       "      <td>3.589260</td>\n",
       "      <td>0.00</td>\n",
       "      <td>0.00000</td>\n",
       "      <td>0.000000</td>\n",
       "      <td>0.000000</td>\n",
       "      <td>116.936400</td>\n",
       "      <td>0.000000</td>\n",
       "    </tr>\n",
       "    <tr>\n",
       "      <th>combE</th>\n",
       "      <td>37843.0</td>\n",
       "      <td>0.190575</td>\n",
       "      <td>2.979567</td>\n",
       "      <td>0.00</td>\n",
       "      <td>0.00000</td>\n",
       "      <td>0.000000</td>\n",
       "      <td>0.000000</td>\n",
       "      <td>121.000000</td>\n",
       "      <td>0.000000</td>\n",
       "    </tr>\n",
       "    <tr>\n",
       "      <th>combinedCD</th>\n",
       "      <td>37843.0</td>\n",
       "      <td>0.000335</td>\n",
       "      <td>0.035284</td>\n",
       "      <td>0.00</td>\n",
       "      <td>0.00000</td>\n",
       "      <td>0.000000</td>\n",
       "      <td>0.000000</td>\n",
       "      <td>4.800000</td>\n",
       "      <td>0.000000</td>\n",
       "    </tr>\n",
       "    <tr>\n",
       "      <th>combinedUF</th>\n",
       "      <td>37843.0</td>\n",
       "      <td>0.000691</td>\n",
       "      <td>0.019049</td>\n",
       "      <td>0.00</td>\n",
       "      <td>0.00000</td>\n",
       "      <td>0.000000</td>\n",
       "      <td>0.000000</td>\n",
       "      <td>0.834000</td>\n",
       "      <td>0.000000</td>\n",
       "    </tr>\n",
       "    <tr>\n",
       "      <th>cylinders</th>\n",
       "      <td>37720.0</td>\n",
       "      <td>5.737990</td>\n",
       "      <td>1.751795</td>\n",
       "      <td>2.00</td>\n",
       "      <td>4.00000</td>\n",
       "      <td>6.000000</td>\n",
       "      <td>6.000000</td>\n",
       "      <td>16.000000</td>\n",
       "      <td>2.000000</td>\n",
       "    </tr>\n",
       "    <tr>\n",
       "      <th>displ</th>\n",
       "      <td>37723.0</td>\n",
       "      <td>3.318180</td>\n",
       "      <td>1.361399</td>\n",
       "      <td>0.00</td>\n",
       "      <td>2.20000</td>\n",
       "      <td>3.000000</td>\n",
       "      <td>4.300000</td>\n",
       "      <td>8.400000</td>\n",
       "      <td>2.100000</td>\n",
       "    </tr>\n",
       "    <tr>\n",
       "      <th>engId</th>\n",
       "      <td>37843.0</td>\n",
       "      <td>8860.308961</td>\n",
       "      <td>17829.683477</td>\n",
       "      <td>0.00</td>\n",
       "      <td>0.00000</td>\n",
       "      <td>211.000000</td>\n",
       "      <td>4505.000000</td>\n",
       "      <td>69102.000000</td>\n",
       "      <td>4505.000000</td>\n",
       "    </tr>\n",
       "    <tr>\n",
       "      <th>feScore</th>\n",
       "      <td>37843.0</td>\n",
       "      <td>-0.035145</td>\n",
       "      <td>2.379584</td>\n",
       "      <td>-1.00</td>\n",
       "      <td>-1.00000</td>\n",
       "      <td>-1.000000</td>\n",
       "      <td>-1.000000</td>\n",
       "      <td>10.000000</td>\n",
       "      <td>0.000000</td>\n",
       "    </tr>\n",
       "    <tr>\n",
       "      <th>fuelCost08</th>\n",
       "      <td>37843.0</td>\n",
       "      <td>1882.060090</td>\n",
       "      <td>510.280408</td>\n",
       "      <td>550.00</td>\n",
       "      <td>1500.00000</td>\n",
       "      <td>1850.000000</td>\n",
       "      <td>2200.000000</td>\n",
       "      <td>5800.000000</td>\n",
       "      <td>700.000000</td>\n",
       "    </tr>\n",
       "    <tr>\n",
       "      <th>fuelCostA08</th>\n",
       "      <td>37843.0</td>\n",
       "      <td>79.070105</td>\n",
       "      <td>417.668580</td>\n",
       "      <td>0.00</td>\n",
       "      <td>0.00000</td>\n",
       "      <td>0.000000</td>\n",
       "      <td>0.000000</td>\n",
       "      <td>3800.000000</td>\n",
       "      <td>0.000000</td>\n",
       "    </tr>\n",
       "    <tr>\n",
       "      <th>ghgScore</th>\n",
       "      <td>37843.0</td>\n",
       "      <td>-0.037206</td>\n",
       "      <td>2.374338</td>\n",
       "      <td>-1.00</td>\n",
       "      <td>-1.00000</td>\n",
       "      <td>-1.000000</td>\n",
       "      <td>-1.000000</td>\n",
       "      <td>10.000000</td>\n",
       "      <td>0.000000</td>\n",
       "    </tr>\n",
       "    <tr>\n",
       "      <th>ghgScoreA</th>\n",
       "      <td>37843.0</td>\n",
       "      <td>-0.929630</td>\n",
       "      <td>0.627565</td>\n",
       "      <td>-1.00</td>\n",
       "      <td>-1.00000</td>\n",
       "      <td>-1.000000</td>\n",
       "      <td>-1.000000</td>\n",
       "      <td>8.000000</td>\n",
       "      <td>0.000000</td>\n",
       "    </tr>\n",
       "    <tr>\n",
       "      <th>highway08</th>\n",
       "      <td>37843.0</td>\n",
       "      <td>24.104881</td>\n",
       "      <td>6.963192</td>\n",
       "      <td>9.00</td>\n",
       "      <td>20.00000</td>\n",
       "      <td>24.000000</td>\n",
       "      <td>27.000000</td>\n",
       "      <td>111.000000</td>\n",
       "      <td>7.000000</td>\n",
       "    </tr>\n",
       "    <tr>\n",
       "      <th>highway08U</th>\n",
       "      <td>37843.0</td>\n",
       "      <td>5.438467</td>\n",
       "      <td>11.936327</td>\n",
       "      <td>0.00</td>\n",
       "      <td>0.00000</td>\n",
       "      <td>0.000000</td>\n",
       "      <td>0.000000</td>\n",
       "      <td>111.370000</td>\n",
       "      <td>0.000000</td>\n",
       "    </tr>\n",
       "    <tr>\n",
       "      <th>highwayA08</th>\n",
       "      <td>37843.0</td>\n",
       "      <td>0.686891</td>\n",
       "      <td>4.308934</td>\n",
       "      <td>0.00</td>\n",
       "      <td>0.00000</td>\n",
       "      <td>0.000000</td>\n",
       "      <td>0.000000</td>\n",
       "      <td>107.000000</td>\n",
       "      <td>0.000000</td>\n",
       "    </tr>\n",
       "    <tr>\n",
       "      <th>highwayA08U</th>\n",
       "      <td>37843.0</td>\n",
       "      <td>0.418698</td>\n",
       "      <td>3.808877</td>\n",
       "      <td>0.00</td>\n",
       "      <td>0.00000</td>\n",
       "      <td>0.000000</td>\n",
       "      <td>0.000000</td>\n",
       "      <td>106.531000</td>\n",
       "      <td>0.000000</td>\n",
       "    </tr>\n",
       "    <tr>\n",
       "      <th>highwayCD</th>\n",
       "      <td>37843.0</td>\n",
       "      <td>0.000233</td>\n",
       "      <td>0.029564</td>\n",
       "      <td>0.00</td>\n",
       "      <td>0.00000</td>\n",
       "      <td>0.000000</td>\n",
       "      <td>0.000000</td>\n",
       "      <td>4.060000</td>\n",
       "      <td>0.000000</td>\n",
       "    </tr>\n",
       "    <tr>\n",
       "      <th>highwayE</th>\n",
       "      <td>37843.0</td>\n",
       "      <td>0.198247</td>\n",
       "      <td>3.091862</td>\n",
       "      <td>0.00</td>\n",
       "      <td>0.00000</td>\n",
       "      <td>0.000000</td>\n",
       "      <td>0.000000</td>\n",
       "      <td>120.000000</td>\n",
       "      <td>0.000000</td>\n",
       "    </tr>\n",
       "    <tr>\n",
       "      <th>highwayUF</th>\n",
       "      <td>37843.0</td>\n",
       "      <td>0.000673</td>\n",
       "      <td>0.018583</td>\n",
       "      <td>0.00</td>\n",
       "      <td>0.00000</td>\n",
       "      <td>0.000000</td>\n",
       "      <td>0.000000</td>\n",
       "      <td>0.813000</td>\n",
       "      <td>0.000000</td>\n",
       "    </tr>\n",
       "    <tr>\n",
       "      <th>hlv</th>\n",
       "      <td>37843.0</td>\n",
       "      <td>2.026214</td>\n",
       "      <td>5.947989</td>\n",
       "      <td>0.00</td>\n",
       "      <td>0.00000</td>\n",
       "      <td>0.000000</td>\n",
       "      <td>0.000000</td>\n",
       "      <td>49.000000</td>\n",
       "      <td>0.000000</td>\n",
       "    </tr>\n",
       "    <tr>\n",
       "      <th>hpv</th>\n",
       "      <td>37843.0</td>\n",
       "      <td>10.424332</td>\n",
       "      <td>28.148770</td>\n",
       "      <td>0.00</td>\n",
       "      <td>0.00000</td>\n",
       "      <td>0.000000</td>\n",
       "      <td>0.000000</td>\n",
       "      <td>195.000000</td>\n",
       "      <td>0.000000</td>\n",
       "    </tr>\n",
       "    <tr>\n",
       "      <th>id</th>\n",
       "      <td>37843.0</td>\n",
       "      <td>19019.286235</td>\n",
       "      <td>11034.784855</td>\n",
       "      <td>1.00</td>\n",
       "      <td>9461.50000</td>\n",
       "      <td>18923.000000</td>\n",
       "      <td>28570.500000</td>\n",
       "      <td>38173.000000</td>\n",
       "      <td>19109.000000</td>\n",
       "    </tr>\n",
       "    <tr>\n",
       "      <th>lv2</th>\n",
       "      <td>37843.0</td>\n",
       "      <td>1.849219</td>\n",
       "      <td>4.429983</td>\n",
       "      <td>0.00</td>\n",
       "      <td>0.00000</td>\n",
       "      <td>0.000000</td>\n",
       "      <td>0.000000</td>\n",
       "      <td>41.000000</td>\n",
       "      <td>0.000000</td>\n",
       "    </tr>\n",
       "    <tr>\n",
       "      <th>lv4</th>\n",
       "      <td>37843.0</td>\n",
       "      <td>6.165658</td>\n",
       "      <td>9.743297</td>\n",
       "      <td>0.00</td>\n",
       "      <td>0.00000</td>\n",
       "      <td>0.000000</td>\n",
       "      <td>13.000000</td>\n",
       "      <td>55.000000</td>\n",
       "      <td>13.000000</td>\n",
       "    </tr>\n",
       "    <tr>\n",
       "      <th>pv2</th>\n",
       "      <td>37843.0</td>\n",
       "      <td>13.696113</td>\n",
       "      <td>31.269930</td>\n",
       "      <td>0.00</td>\n",
       "      <td>0.00000</td>\n",
       "      <td>0.000000</td>\n",
       "      <td>0.000000</td>\n",
       "      <td>194.000000</td>\n",
       "      <td>0.000000</td>\n",
       "    </tr>\n",
       "    <tr>\n",
       "      <th>pv4</th>\n",
       "      <td>37843.0</td>\n",
       "      <td>33.769125</td>\n",
       "      <td>45.914462</td>\n",
       "      <td>0.00</td>\n",
       "      <td>0.00000</td>\n",
       "      <td>0.000000</td>\n",
       "      <td>91.000000</td>\n",
       "      <td>192.000000</td>\n",
       "      <td>91.000000</td>\n",
       "    </tr>\n",
       "    <tr>\n",
       "      <th>range</th>\n",
       "      <td>37843.0</td>\n",
       "      <td>0.392675</td>\n",
       "      <td>8.251191</td>\n",
       "      <td>0.00</td>\n",
       "      <td>0.00000</td>\n",
       "      <td>0.000000</td>\n",
       "      <td>0.000000</td>\n",
       "      <td>315.000000</td>\n",
       "      <td>0.000000</td>\n",
       "    </tr>\n",
       "    <tr>\n",
       "      <th>rangeCity</th>\n",
       "      <td>37843.0</td>\n",
       "      <td>0.352618</td>\n",
       "      <td>8.049082</td>\n",
       "      <td>0.00</td>\n",
       "      <td>0.00000</td>\n",
       "      <td>0.000000</td>\n",
       "      <td>0.000000</td>\n",
       "      <td>305.900000</td>\n",
       "      <td>0.000000</td>\n",
       "    </tr>\n",
       "    <tr>\n",
       "      <th>rangeCityA</th>\n",
       "      <td>37843.0</td>\n",
       "      <td>0.036800</td>\n",
       "      <td>1.158270</td>\n",
       "      <td>0.00</td>\n",
       "      <td>0.00000</td>\n",
       "      <td>0.000000</td>\n",
       "      <td>0.000000</td>\n",
       "      <td>77.504000</td>\n",
       "      <td>0.000000</td>\n",
       "    </tr>\n",
       "    <tr>\n",
       "      <th>rangeHwy</th>\n",
       "      <td>37843.0</td>\n",
       "      <td>0.343399</td>\n",
       "      <td>8.171939</td>\n",
       "      <td>0.00</td>\n",
       "      <td>0.00000</td>\n",
       "      <td>0.000000</td>\n",
       "      <td>0.000000</td>\n",
       "      <td>346.900000</td>\n",
       "      <td>0.000000</td>\n",
       "    </tr>\n",
       "    <tr>\n",
       "      <th>rangeHwyA</th>\n",
       "      <td>37843.0</td>\n",
       "      <td>0.033475</td>\n",
       "      <td>1.032642</td>\n",
       "      <td>0.00</td>\n",
       "      <td>0.00000</td>\n",
       "      <td>0.000000</td>\n",
       "      <td>0.000000</td>\n",
       "      <td>65.632000</td>\n",
       "      <td>0.000000</td>\n",
       "    </tr>\n",
       "    <tr>\n",
       "      <th>UCity</th>\n",
       "      <td>37843.0</td>\n",
       "      <td>22.587229</td>\n",
       "      <td>9.350163</td>\n",
       "      <td>0.00</td>\n",
       "      <td>18.00000</td>\n",
       "      <td>21.000000</td>\n",
       "      <td>25.139300</td>\n",
       "      <td>197.577100</td>\n",
       "      <td>7.139300</td>\n",
       "    </tr>\n",
       "    <tr>\n",
       "      <th>UCityA</th>\n",
       "      <td>37843.0</td>\n",
       "      <td>0.652380</td>\n",
       "      <td>5.284547</td>\n",
       "      <td>0.00</td>\n",
       "      <td>0.00000</td>\n",
       "      <td>0.000000</td>\n",
       "      <td>0.000000</td>\n",
       "      <td>181.560900</td>\n",
       "      <td>0.000000</td>\n",
       "    </tr>\n",
       "    <tr>\n",
       "      <th>UHighway</th>\n",
       "      <td>37843.0</td>\n",
       "      <td>33.619221</td>\n",
       "      <td>10.048326</td>\n",
       "      <td>0.00</td>\n",
       "      <td>27.10000</td>\n",
       "      <td>33.000000</td>\n",
       "      <td>38.109600</td>\n",
       "      <td>159.100000</td>\n",
       "      <td>11.009600</td>\n",
       "    </tr>\n",
       "    <tr>\n",
       "      <th>UHighwayA</th>\n",
       "      <td>37843.0</td>\n",
       "      <td>0.933845</td>\n",
       "      <td>6.059456</td>\n",
       "      <td>0.00</td>\n",
       "      <td>0.00000</td>\n",
       "      <td>0.000000</td>\n",
       "      <td>0.000000</td>\n",
       "      <td>152.187800</td>\n",
       "      <td>0.000000</td>\n",
       "    </tr>\n",
       "    <tr>\n",
       "      <th>year</th>\n",
       "      <td>37843.0</td>\n",
       "      <td>2000.064398</td>\n",
       "      <td>10.390588</td>\n",
       "      <td>1984.00</td>\n",
       "      <td>1990.00000</td>\n",
       "      <td>2001.000000</td>\n",
       "      <td>2009.000000</td>\n",
       "      <td>2017.000000</td>\n",
       "      <td>19.000000</td>\n",
       "    </tr>\n",
       "    <tr>\n",
       "      <th>youSaveSpend</th>\n",
       "      <td>37843.0</td>\n",
       "      <td>-2658.999022</td>\n",
       "      <td>2553.098329</td>\n",
       "      <td>-22250.00</td>\n",
       "      <td>-4250.00000</td>\n",
       "      <td>-2500.000000</td>\n",
       "      <td>-750.000000</td>\n",
       "      <td>4000.000000</td>\n",
       "      <td>3500.000000</td>\n",
       "    </tr>\n",
       "    <tr>\n",
       "      <th>charge240b</th>\n",
       "      <td>37843.0</td>\n",
       "      <td>0.004360</td>\n",
       "      <td>0.142776</td>\n",
       "      <td>0.00</td>\n",
       "      <td>0.00000</td>\n",
       "      <td>0.000000</td>\n",
       "      <td>0.000000</td>\n",
       "      <td>7.000000</td>\n",
       "      <td>0.000000</td>\n",
       "    </tr>\n",
       "    <tr>\n",
       "      <th>phevCity</th>\n",
       "      <td>37843.0</td>\n",
       "      <td>0.069313</td>\n",
       "      <td>1.966806</td>\n",
       "      <td>0.00</td>\n",
       "      <td>0.00000</td>\n",
       "      <td>0.000000</td>\n",
       "      <td>0.000000</td>\n",
       "      <td>97.000000</td>\n",
       "      <td>0.000000</td>\n",
       "    </tr>\n",
       "    <tr>\n",
       "      <th>phevHwy</th>\n",
       "      <td>37843.0</td>\n",
       "      <td>0.068203</td>\n",
       "      <td>1.871986</td>\n",
       "      <td>0.00</td>\n",
       "      <td>0.00000</td>\n",
       "      <td>0.000000</td>\n",
       "      <td>0.000000</td>\n",
       "      <td>79.000000</td>\n",
       "      <td>0.000000</td>\n",
       "    </tr>\n",
       "    <tr>\n",
       "      <th>phevComb</th>\n",
       "      <td>37843.0</td>\n",
       "      <td>0.068573</td>\n",
       "      <td>1.913647</td>\n",
       "      <td>0.00</td>\n",
       "      <td>0.00000</td>\n",
       "      <td>0.000000</td>\n",
       "      <td>0.000000</td>\n",
       "      <td>88.000000</td>\n",
       "      <td>0.000000</td>\n",
       "    </tr>\n",
       "  </tbody>\n",
       "</table>\n",
       "</div>"
      ],
      "text/plain": [
       "                   count          mean           std       min         25%  \\\n",
       "barrels08        37843.0     17.532506      4.575950      0.06    14.33087   \n",
       "barrelsA08       37843.0      0.216169      1.141527      0.00     0.00000   \n",
       "charge120        37843.0      0.000000      0.000000      0.00     0.00000   \n",
       "charge240        37843.0      0.023531      0.427647      0.00     0.00000   \n",
       "city08           37843.0     17.941389      6.660360      6.00    15.00000   \n",
       "city08U          37843.0      4.042737      9.645820      0.00     0.00000   \n",
       "cityA08          37843.0      0.520149      3.837874      0.00     0.00000   \n",
       "cityA08U         37843.0      0.327163      3.542596      0.00     0.00000   \n",
       "cityCD           37843.0      0.000406      0.039918      0.00     0.00000   \n",
       "cityE            37843.0      0.184790      2.904558      0.00     0.00000   \n",
       "cityUF           37843.0      0.000706      0.019458      0.00     0.00000   \n",
       "co2              37843.0     61.503713    153.387715     -1.00    -1.00000   \n",
       "co2A             37843.0      5.349919     55.539497     -1.00    -1.00000   \n",
       "co2TailpipeAGpm  37843.0     17.771433     94.129283      0.00     0.00000   \n",
       "co2TailpipeGpm   37843.0    473.179736    122.188847      0.00   388.00000   \n",
       "comb08           37843.0     20.195809      6.623444      7.00    17.00000   \n",
       "comb08U          37843.0      4.549751     10.389994      0.00     0.00000   \n",
       "combA08          37843.0      0.581191      3.966255      0.00     0.00000   \n",
       "combA08U         37843.0      0.359027      3.589260      0.00     0.00000   \n",
       "combE            37843.0      0.190575      2.979567      0.00     0.00000   \n",
       "combinedCD       37843.0      0.000335      0.035284      0.00     0.00000   \n",
       "combinedUF       37843.0      0.000691      0.019049      0.00     0.00000   \n",
       "cylinders        37720.0      5.737990      1.751795      2.00     4.00000   \n",
       "displ            37723.0      3.318180      1.361399      0.00     2.20000   \n",
       "engId            37843.0   8860.308961  17829.683477      0.00     0.00000   \n",
       "feScore          37843.0     -0.035145      2.379584     -1.00    -1.00000   \n",
       "fuelCost08       37843.0   1882.060090    510.280408    550.00  1500.00000   \n",
       "fuelCostA08      37843.0     79.070105    417.668580      0.00     0.00000   \n",
       "ghgScore         37843.0     -0.037206      2.374338     -1.00    -1.00000   \n",
       "ghgScoreA        37843.0     -0.929630      0.627565     -1.00    -1.00000   \n",
       "highway08        37843.0     24.104881      6.963192      9.00    20.00000   \n",
       "highway08U       37843.0      5.438467     11.936327      0.00     0.00000   \n",
       "highwayA08       37843.0      0.686891      4.308934      0.00     0.00000   \n",
       "highwayA08U      37843.0      0.418698      3.808877      0.00     0.00000   \n",
       "highwayCD        37843.0      0.000233      0.029564      0.00     0.00000   \n",
       "highwayE         37843.0      0.198247      3.091862      0.00     0.00000   \n",
       "highwayUF        37843.0      0.000673      0.018583      0.00     0.00000   \n",
       "hlv              37843.0      2.026214      5.947989      0.00     0.00000   \n",
       "hpv              37843.0     10.424332     28.148770      0.00     0.00000   \n",
       "id               37843.0  19019.286235  11034.784855      1.00  9461.50000   \n",
       "lv2              37843.0      1.849219      4.429983      0.00     0.00000   \n",
       "lv4              37843.0      6.165658      9.743297      0.00     0.00000   \n",
       "pv2              37843.0     13.696113     31.269930      0.00     0.00000   \n",
       "pv4              37843.0     33.769125     45.914462      0.00     0.00000   \n",
       "range            37843.0      0.392675      8.251191      0.00     0.00000   \n",
       "rangeCity        37843.0      0.352618      8.049082      0.00     0.00000   \n",
       "rangeCityA       37843.0      0.036800      1.158270      0.00     0.00000   \n",
       "rangeHwy         37843.0      0.343399      8.171939      0.00     0.00000   \n",
       "rangeHwyA        37843.0      0.033475      1.032642      0.00     0.00000   \n",
       "UCity            37843.0     22.587229      9.350163      0.00    18.00000   \n",
       "UCityA           37843.0      0.652380      5.284547      0.00     0.00000   \n",
       "UHighway         37843.0     33.619221     10.048326      0.00    27.10000   \n",
       "UHighwayA        37843.0      0.933845      6.059456      0.00     0.00000   \n",
       "year             37843.0   2000.064398     10.390588   1984.00  1990.00000   \n",
       "youSaveSpend     37843.0  -2658.999022   2553.098329 -22250.00 -4250.00000   \n",
       "charge240b       37843.0      0.004360      0.142776      0.00     0.00000   \n",
       "phevCity         37843.0      0.069313      1.966806      0.00     0.00000   \n",
       "phevHwy          37843.0      0.068203      1.871986      0.00     0.00000   \n",
       "phevComb         37843.0      0.068573      1.913647      0.00     0.00000   \n",
       "\n",
       "                          50%           75%           max           IQR  \n",
       "barrels08           17.347895     20.600625     47.087143      6.269755  \n",
       "barrelsA08           0.000000      0.000000     18.311667      0.000000  \n",
       "charge120            0.000000      0.000000      0.000000      0.000000  \n",
       "charge240            0.000000      0.000000     12.000000      0.000000  \n",
       "city08              17.000000     20.000000    138.000000      5.000000  \n",
       "city08U              0.000000      0.000000    138.304000      0.000000  \n",
       "cityA08              0.000000      0.000000    127.000000      0.000000  \n",
       "cityA08U             0.000000      0.000000    127.093000      0.000000  \n",
       "cityCD               0.000000      0.000000      5.350000      0.000000  \n",
       "cityE                0.000000      0.000000    122.000000      0.000000  \n",
       "cityUF               0.000000      0.000000      0.849000      0.000000  \n",
       "co2                 -1.000000     -1.000000    847.000000      0.000000  \n",
       "co2A                -1.000000     -1.000000    719.000000      0.000000  \n",
       "co2TailpipeAGpm      0.000000      0.000000    719.000000      0.000000  \n",
       "co2TailpipeGpm     467.736842    555.437500   1269.571429    167.437500  \n",
       "comb08              19.000000     23.000000    124.000000      6.000000  \n",
       "comb08U              0.000000      0.000000    124.360100      0.000000  \n",
       "combA08              0.000000      0.000000    117.000000      0.000000  \n",
       "combA08U             0.000000      0.000000    116.936400      0.000000  \n",
       "combE                0.000000      0.000000    121.000000      0.000000  \n",
       "combinedCD           0.000000      0.000000      4.800000      0.000000  \n",
       "combinedUF           0.000000      0.000000      0.834000      0.000000  \n",
       "cylinders            6.000000      6.000000     16.000000      2.000000  \n",
       "displ                3.000000      4.300000      8.400000      2.100000  \n",
       "engId              211.000000   4505.000000  69102.000000   4505.000000  \n",
       "feScore             -1.000000     -1.000000     10.000000      0.000000  \n",
       "fuelCost08        1850.000000   2200.000000   5800.000000    700.000000  \n",
       "fuelCostA08          0.000000      0.000000   3800.000000      0.000000  \n",
       "ghgScore            -1.000000     -1.000000     10.000000      0.000000  \n",
       "ghgScoreA           -1.000000     -1.000000      8.000000      0.000000  \n",
       "highway08           24.000000     27.000000    111.000000      7.000000  \n",
       "highway08U           0.000000      0.000000    111.370000      0.000000  \n",
       "highwayA08           0.000000      0.000000    107.000000      0.000000  \n",
       "highwayA08U          0.000000      0.000000    106.531000      0.000000  \n",
       "highwayCD            0.000000      0.000000      4.060000      0.000000  \n",
       "highwayE             0.000000      0.000000    120.000000      0.000000  \n",
       "highwayUF            0.000000      0.000000      0.813000      0.000000  \n",
       "hlv                  0.000000      0.000000     49.000000      0.000000  \n",
       "hpv                  0.000000      0.000000    195.000000      0.000000  \n",
       "id               18923.000000  28570.500000  38173.000000  19109.000000  \n",
       "lv2                  0.000000      0.000000     41.000000      0.000000  \n",
       "lv4                  0.000000     13.000000     55.000000     13.000000  \n",
       "pv2                  0.000000      0.000000    194.000000      0.000000  \n",
       "pv4                  0.000000     91.000000    192.000000     91.000000  \n",
       "range                0.000000      0.000000    315.000000      0.000000  \n",
       "rangeCity            0.000000      0.000000    305.900000      0.000000  \n",
       "rangeCityA           0.000000      0.000000     77.504000      0.000000  \n",
       "rangeHwy             0.000000      0.000000    346.900000      0.000000  \n",
       "rangeHwyA            0.000000      0.000000     65.632000      0.000000  \n",
       "UCity               21.000000     25.139300    197.577100      7.139300  \n",
       "UCityA               0.000000      0.000000    181.560900      0.000000  \n",
       "UHighway            33.000000     38.109600    159.100000     11.009600  \n",
       "UHighwayA            0.000000      0.000000    152.187800      0.000000  \n",
       "year              2001.000000   2009.000000   2017.000000     19.000000  \n",
       "youSaveSpend     -2500.000000   -750.000000   4000.000000   3500.000000  \n",
       "charge240b           0.000000      0.000000      7.000000      0.000000  \n",
       "phevCity             0.000000      0.000000     97.000000      0.000000  \n",
       "phevHwy              0.000000      0.000000     79.000000      0.000000  \n",
       "phevComb             0.000000      0.000000     88.000000      0.000000  "
      ]
     },
     "execution_count": 10,
     "metadata": {},
     "output_type": "execute_result"
    }
   ],
   "source": [
    "stats = data.describe().T\n",
    "stats['IQR'] = stats['75%'] - stats['25%']\n",
    "stats"
   ]
  },
  {
   "cell_type": "code",
   "execution_count": null,
   "metadata": {},
   "outputs": [],
   "source": []
  },
  {
   "cell_type": "markdown",
   "metadata": {},
   "source": [
    "# Visualizing outlier rules using variable distributions\n",
    "    - Inter-quartile range rule\n",
    "    - 3 standard-deviation rule"
   ]
  },
  {
   "cell_type": "code",
   "execution_count": 11,
   "metadata": {
    "ExecuteTime": {
     "end_time": "2020-04-06T12:46:33.945563Z",
     "start_time": "2020-04-06T12:46:33.482775Z"
    }
   },
   "outputs": [],
   "source": [
    "import seaborn as sns\n",
    "import matplotlib.pyplot as plt"
   ]
  },
  {
   "cell_type": "markdown",
   "metadata": {},
   "source": [
    "## The Gaussian curve"
   ]
  },
  {
   "cell_type": "code",
   "execution_count": 112,
   "metadata": {
    "ExecuteTime": {
     "end_time": "2020-04-06T13:15:39.215673Z",
     "start_time": "2020-04-06T13:15:38.997722Z"
    }
   },
   "outputs": [
    {
     "data": {
      "text/plain": [
       "0.99746"
      ]
     },
     "execution_count": 112,
     "metadata": {},
     "output_type": "execute_result"
    },
    {
     "data": {
      "image/png": "[encoded data removed]",
      "text/plain": [
       "<Figure size 432x288 with 1 Axes>"
      ]
     },
     "metadata": {
      "needs_background": "light"
     },
     "output_type": "display_data"
    }
   ],
   "source": [
    "N = 100000\n",
    "y = np.random.normal(size=N)\n",
    "sns.distplot(y)\n",
    "\n",
    "1 - len(y[(y > np.mean(y) + 3 * np.std(y)) | (y < np.mean(y) - 3 * np.std(y))]) / len(y)"
   ]
  },
  {
   "cell_type": "code",
   "execution_count": null,
   "metadata": {},
   "outputs": [],
   "source": []
  },
  {
   "cell_type": "markdown",
   "metadata": {},
   "source": [
    "## Practical case"
   ]
  },
  {
   "cell_type": "code",
   "execution_count": 12,
   "metadata": {
    "ExecuteTime": {
     "end_time": "2020-04-06T12:46:47.095093Z",
     "start_time": "2020-04-06T12:46:47.090107Z"
    }
   },
   "outputs": [
    {
     "data": {
      "text/plain": [
       "0        15.695714\n",
       "1        29.964545\n",
       "2        12.207778\n",
       "3        29.964545\n",
       "4        17.347895\n",
       "           ...    \n",
       "37838    14.982273\n",
       "37839    14.330870\n",
       "37840    15.695714\n",
       "37841    15.695714\n",
       "37842    18.311667\n",
       "Name: barrels08, Length: 37843, dtype: float64"
      ]
     },
     "execution_count": 12,
     "metadata": {},
     "output_type": "execute_result"
    }
   ],
   "source": [
    "data.barrels08"
   ]
  },
  {
   "cell_type": "code",
   "execution_count": 45,
   "metadata": {
    "ExecuteTime": {
     "end_time": "2020-04-06T13:03:43.252129Z",
     "start_time": "2020-04-06T13:03:42.995542Z"
    }
   },
   "outputs": [
    {
     "data": {
      "text/plain": [
       "<matplotlib.collections.LineCollection at 0x1a86ade84a8>"
      ]
     },
     "execution_count": 45,
     "metadata": {},
     "output_type": "execute_result"
    },
    {
     "data": {
      "image/png": "[encoded data removed]",
      "text/plain": [
       "<Figure size 432x288 with 1 Axes>"
      ]
     },
     "metadata": {
      "needs_background": "light"
     },
     "output_type": "display_data"
    }
   ],
   "source": [
    "sns.distplot(data.barrels08)\n",
    "\n",
    "x = data.barrels08.mean()\n",
    "\n",
    "plt.vlines(x, 0, 0.13, color='gray')"
   ]
  },
  {
   "cell_type": "code",
   "execution_count": 21,
   "metadata": {
    "ExecuteTime": {
     "end_time": "2020-04-06T12:51:49.392498Z",
     "start_time": "2020-04-06T12:51:49.387483Z"
    }
   },
   "outputs": [],
   "source": [
    "std = stats.loc['barrels08', 'std']\n",
    "mean = data.barrels08.mean()"
   ]
  },
  {
   "cell_type": "code",
   "execution_count": 23,
   "metadata": {
    "ExecuteTime": {
     "end_time": "2020-04-06T12:52:02.388116Z",
     "start_time": "2020-04-06T12:52:02.384099Z"
    }
   },
   "outputs": [
    {
     "data": {
      "text/plain": [
       "12.956556094935344"
      ]
     },
     "execution_count": 23,
     "metadata": {},
     "output_type": "execute_result"
    }
   ],
   "source": [
    "mean - std"
   ]
  },
  {
   "cell_type": "code",
   "execution_count": 46,
   "metadata": {
    "ExecuteTime": {
     "end_time": "2020-04-06T13:03:57.981589Z",
     "start_time": "2020-04-06T13:03:57.769985Z"
    }
   },
   "outputs": [
    {
     "data": {
      "text/plain": [
       "(0, 0.12)"
      ]
     },
     "execution_count": 46,
     "metadata": {},
     "output_type": "execute_result"
    },
    {
     "data": {
      "image/png": "[encoded data removed]",
      "text/plain": [
       "<Figure size 432x288 with 1 Axes>"
      ]
     },
     "metadata": {
      "needs_background": "light"
     },
     "output_type": "display_data"
    }
   ],
   "source": [
    "sns.distplot(data.barrels08)\n",
    "\n",
    "x = data.barrels08.mean()\n",
    "\n",
    "plt.title('Media + 1 desvio padrão')\n",
    "plt.vlines(x, 0, 0.13, color='gray')\n",
    "plt.vlines(mean + std, 0, 0.13, color='red')\n",
    "plt.vlines(mean - std, 0, 0.13, color='red')\n",
    "plt.ylim([0, 0.12])"
   ]
  },
  {
   "cell_type": "code",
   "execution_count": null,
   "metadata": {},
   "outputs": [],
   "source": [
    "# data.query(f'barrels08 > {mean - std} and barrels08 < {mean + std}')"
   ]
  },
  {
   "cell_type": "code",
   "execution_count": 37,
   "metadata": {
    "ExecuteTime": {
     "end_time": "2020-04-06T12:58:44.086709Z",
     "start_time": "2020-04-06T12:58:44.062745Z"
    },
    "scrolled": true
   },
   "outputs": [
    {
     "data": {
      "text/plain": [
       "0.7446027006315566"
      ]
     },
     "execution_count": 37,
     "metadata": {},
     "output_type": "execute_result"
    }
   ],
   "source": [
    "data.query(f'{mean - std} < barrels08 < {mean + std}').shape[0] / data.shape[0]"
   ]
  },
  {
   "cell_type": "code",
   "execution_count": 47,
   "metadata": {
    "ExecuteTime": {
     "end_time": "2020-04-06T13:04:04.824508Z",
     "start_time": "2020-04-06T13:04:04.624018Z"
    }
   },
   "outputs": [
    {
     "data": {
      "text/plain": [
       "(0, 0.12)"
      ]
     },
     "execution_count": 47,
     "metadata": {},
     "output_type": "execute_result"
    },
    {
     "data": {
      "image/png": "[encoded data removed]",
      "text/plain": [
       "<Figure size 432x288 with 1 Axes>"
      ]
     },
     "metadata": {
      "needs_background": "light"
     },
     "output_type": "display_data"
    }
   ],
   "source": [
    "sns.distplot(data.barrels08)\n",
    "\n",
    "x = data.barrels08.median()\n",
    "plt.title('Media + 2 desvios padrões')\n",
    "plt.vlines(x, 0, 0.13, color='gray')\n",
    "plt.vlines(mean + 2 * std, 0, 0.13, color='red')\n",
    "plt.vlines(mean - 2 * std, 0, 0.13, color='red')\n",
    "plt.ylim([0, 0.12])"
   ]
  },
  {
   "cell_type": "code",
   "execution_count": 39,
   "metadata": {
    "ExecuteTime": {
     "end_time": "2020-04-06T13:02:28.678882Z",
     "start_time": "2020-04-06T13:02:28.647937Z"
    }
   },
   "outputs": [
    {
     "data": {
      "text/plain": [
       "0.950743862801575"
      ]
     },
     "execution_count": 39,
     "metadata": {},
     "output_type": "execute_result"
    }
   ],
   "source": [
    "data.query(f'{mean - 2 * std} < barrels08 < {mean + 2 * std}').shape[0] / data.shape[0]"
   ]
  },
  {
   "cell_type": "code",
   "execution_count": 43,
   "metadata": {
    "ExecuteTime": {
     "end_time": "2020-04-06T13:03:32.001723Z",
     "start_time": "2020-04-06T13:03:31.997733Z"
    }
   },
   "outputs": [
    {
     "data": {
      "text/plain": [
       "17.532506123093643"
      ]
     },
     "execution_count": 43,
     "metadata": {},
     "output_type": "execute_result"
    }
   ],
   "source": [
    "data.barrels08.mean()"
   ]
  },
  {
   "cell_type": "code",
   "execution_count": 48,
   "metadata": {
    "ExecuteTime": {
     "end_time": "2020-04-06T13:04:25.043710Z",
     "start_time": "2020-04-06T13:04:24.842221Z"
    }
   },
   "outputs": [
    {
     "data": {
      "text/plain": [
       "(0, 0.12)"
      ]
     },
     "execution_count": 48,
     "metadata": {},
     "output_type": "execute_result"
    },
    {
     "data": {
      "image/png": "[encoded data removed]",
      "text/plain": [
       "<Figure size 432x288 with 1 Axes>"
      ]
     },
     "metadata": {
      "needs_background": "light"
     },
     "output_type": "display_data"
    }
   ],
   "source": [
    "sns.distplot(data.barrels08)\n",
    "x = data.barrels08.median()\n",
    "plt.title('Media + 3 desvios padrões')\n",
    "plt.vlines(x, 0, 0.13, color='gray')\n",
    "plt.vlines(mean + 3 * std, 0, 0.13, color='red')\n",
    "plt.vlines(mean - 3 * std, 0, 0.13, color='red')\n",
    "plt.ylim([0, 0.12])"
   ]
  },
  {
   "cell_type": "code",
   "execution_count": 49,
   "metadata": {
    "ExecuteTime": {
     "end_time": "2020-04-06T13:04:40.768106Z",
     "start_time": "2020-04-06T13:04:40.739459Z"
    }
   },
   "outputs": [
    {
     "data": {
      "text/plain": [
       "0.9890336389821103"
      ]
     },
     "execution_count": 49,
     "metadata": {},
     "output_type": "execute_result"
    }
   ],
   "source": [
    "data.query(f'{mean - 3 * std} < barrels08 < {mean + 3 * std}').shape[0] / data.shape[0]"
   ]
  },
  {
   "cell_type": "code",
   "execution_count": 113,
   "metadata": {
    "ExecuteTime": {
     "end_time": "2020-04-06T13:25:05.830652Z",
     "start_time": "2020-04-06T13:25:05.747903Z"
    }
   },
   "outputs": [
    {
     "data": {
      "text/plain": [
       "<matplotlib.axes._subplots.AxesSubplot at 0x1a800190438>"
      ]
     },
     "execution_count": 113,
     "metadata": {},
     "output_type": "execute_result"
    },
    {
     "data": {
      "image/png": "[encoded data removed]",
      "text/plain": [
       "<Figure size 432x288 with 1 Axes>"
      ]
     },
     "metadata": {
      "needs_background": "light"
     },
     "output_type": "display_data"
    }
   ],
   "source": [
    "sns.boxplot(data.barrels08)"
   ]
  },
  {
   "cell_type": "code",
   "execution_count": 118,
   "metadata": {
    "ExecuteTime": {
     "end_time": "2020-04-06T13:29:11.870612Z",
     "start_time": "2020-04-06T13:29:11.864627Z"
    }
   },
   "outputs": [
    {
     "data": {
      "text/plain": [
       "4.9262364130434815"
      ]
     },
     "execution_count": 118,
     "metadata": {},
     "output_type": "execute_result"
    }
   ],
   "source": [
    "iqr = stats.loc['barrels08', 'IQR']\n",
    "q3 = stats.loc['barrels08', '75%']\n",
    "q1 = stats.loc['barrels08', '25%']"
   ]
  },
  {
   "cell_type": "code",
   "execution_count": 120,
   "metadata": {
    "ExecuteTime": {
     "end_time": "2020-04-06T13:30:05.008928Z",
     "start_time": "2020-04-06T13:30:04.836390Z"
    }
   },
   "outputs": [
    {
     "data": {
      "image/png": "[encoded data removed]",
      "text/plain": [
       "<Figure size 432x288 with 1 Axes>"
      ]
     },
     "metadata": {
      "needs_background": "light"
     },
     "output_type": "display_data"
    }
   ],
   "source": [
    "sns.distplot(data.barrels08)\n",
    "plt.vlines(x=q3 + 1.5 * iqr, ymin=0, ymax=0.13)\n",
    "plt.vlines(x=q1 - 1.5 * iqr, ymin=0, ymax=0.13)\n",
    "plt.show()"
   ]
  },
  {
   "cell_type": "code",
   "execution_count": 124,
   "metadata": {
    "ExecuteTime": {
     "end_time": "2020-04-06T13:33:09.314559Z",
     "start_time": "2020-04-06T13:33:09.048272Z"
    }
   },
   "outputs": [
    {
     "data": {
      "image/png": "[encoded data removed]",
      "text/plain": [
       "<Figure size 432x288 with 1 Axes>"
      ]
     },
     "metadata": {
      "needs_background": "light"
     },
     "output_type": "display_data"
    }
   ],
   "source": [
    "sns.distplot(data.barrels08)\n",
    "\n",
    "sns.distplot(data.barrels08)\n",
    "plt.vlines(x=(stats.loc['barrels08']['25%'] - stats.loc['barrels08']['IQR'] * 1.5 ), ymin=0, ymax=0.13, color='blue')\n",
    "plt.vlines(x=(stats.loc['barrels08']['75%'] + stats.loc['barrels08']['IQR'] * 1.5 ), ymin=0, ymax=0.13, color='blue')\n",
    "plt.vlines(x=(stats.loc['barrels08']['25%'] ), ymin=0, ymax=0.13, color='k')\n",
    "plt.vlines(x=(stats.loc['barrels08']['75%'] ), ymin=0, ymax=0.13, color='k')\n",
    "plt.vlines(x=(stats.loc['barrels08']['50%'] ), ymin=0, ymax=0.13, color='k')\n",
    "\n",
    "\n",
    "\n",
    "\n",
    "plt.vlines(x=(stats.loc['barrels08']['mean'] - stats.loc['barrels08']['std'] * 3 ), ymin=0, ymax=0.13, color='red')\n",
    "plt.vlines(x=(stats.loc['barrels08']['mean'] + stats.loc['barrels08']['std'] * 3 ), ymin=0, ymax=0.13, color='red')\n",
    "\n",
    "\n",
    "plt.show()"
   ]
  },
  {
   "cell_type": "code",
   "execution_count": 128,
   "metadata": {
    "ExecuteTime": {
     "end_time": "2020-04-06T13:34:42.961713Z",
     "start_time": "2020-04-06T13:34:42.952708Z"
    }
   },
   "outputs": [
    {
     "data": {
      "text/plain": [
       "count    37843.000000\n",
       "mean        17.532506\n",
       "std          4.575950\n",
       "min          0.060000\n",
       "25%         14.330870\n",
       "50%         17.347895\n",
       "75%         20.600625\n",
       "max         47.087143\n",
       "Name: barrels08, dtype: float64"
      ]
     },
     "execution_count": 128,
     "metadata": {},
     "output_type": "execute_result"
    }
   ],
   "source": [
    "data.barrels08.describe()"
   ]
  },
  {
   "cell_type": "markdown",
   "metadata": {},
   "source": [
    "# Non-normal distribution\n",
    "> Now suppose you have a variable with a distribution far from a Normal distribution. Like pv4 for instance. What would happen?"
   ]
  },
  {
   "cell_type": "code",
   "execution_count": 140,
   "metadata": {
    "ExecuteTime": {
     "end_time": "2020-04-06T14:03:13.368086Z",
     "start_time": "2020-04-06T14:03:13.116745Z"
    }
   },
   "outputs": [
    {
     "data": {
      "text/plain": [
       "<matplotlib.axes._subplots.AxesSubplot at 0x1a86fff8da0>"
      ]
     },
     "execution_count": 140,
     "metadata": {},
     "output_type": "execute_result"
    },
    {
     "data": {
      "image/png": "[encoded data removed]",
      "text/plain": [
       "<Figure size 432x288 with 1 Axes>"
      ]
     },
     "metadata": {
      "needs_background": "light"
     },
     "output_type": "display_data"
    }
   ],
   "source": [
    "sns.distplot(data.pv4)"
   ]
  },
  {
   "cell_type": "code",
   "execution_count": 141,
   "metadata": {
    "ExecuteTime": {
     "end_time": "2020-04-06T14:05:15.664117Z",
     "start_time": "2020-04-06T14:05:15.558400Z"
    }
   },
   "outputs": [
    {
     "data": {
      "text/plain": [
       "<matplotlib.axes._subplots.AxesSubplot at 0x1a86eab34a8>"
      ]
     },
     "execution_count": 141,
     "metadata": {},
     "output_type": "execute_result"
    },
    {
     "data": {
      "image/png": "[encoded data removed]",
      "text/plain": [
       "<Figure size 432x288 with 1 Axes>"
      ]
     },
     "metadata": {
      "needs_background": "light"
     },
     "output_type": "display_data"
    }
   ],
   "source": [
    "sns.distplot(data.pv4, hist=False)"
   ]
  },
  {
   "cell_type": "code",
   "execution_count": 142,
   "metadata": {
    "ExecuteTime": {
     "end_time": "2020-04-06T14:05:31.479459Z",
     "start_time": "2020-04-06T14:05:31.471480Z"
    }
   },
   "outputs": [
    {
     "data": {
      "text/plain": [
       "count    37843.000000\n",
       "mean        33.769125\n",
       "std         45.914462\n",
       "min          0.000000\n",
       "25%          0.000000\n",
       "50%          0.000000\n",
       "75%         91.000000\n",
       "max        192.000000\n",
       "Name: pv4, dtype: float64"
      ]
     },
     "execution_count": 142,
     "metadata": {},
     "output_type": "execute_result"
    }
   ],
   "source": [
    "data.pv4.describe()"
   ]
  },
  {
   "cell_type": "code",
   "execution_count": 143,
   "metadata": {
    "ExecuteTime": {
     "end_time": "2020-04-06T14:08:16.410877Z",
     "start_time": "2020-04-06T14:08:16.305161Z"
    }
   },
   "outputs": [
    {
     "data": {
      "image/png": "[encoded data removed]",
      "text/plain": [
       "<Figure size 432x288 with 1 Axes>"
      ]
     },
     "metadata": {
      "needs_background": "light"
     },
     "output_type": "display_data"
    }
   ],
   "source": [
    "# it only works for normal distribution\n",
    "sns.distplot(data.pv4, hist=False)\n",
    "plt.vlines(x=(stats.loc['pv4']['25%'] - stats.loc['pv4']['IQR'] * 1.5 ), ymin=0, ymax=0.13, color='red')\n",
    "plt.vlines(x=(stats.loc['pv4']['75%'] + stats.loc['pv4']['IQR'] * 1.5 ), ymin=0, ymax=0.13, color='red')\n",
    "plt.show() "
   ]
  },
  {
   "cell_type": "code",
   "execution_count": 144,
   "metadata": {
    "ExecuteTime": {
     "end_time": "2020-04-06T14:08:54.227921Z",
     "start_time": "2020-04-06T14:08:54.124691Z"
    }
   },
   "outputs": [
    {
     "data": {
      "image/png": "[encoded data removed]",
      "text/plain": [
       "<Figure size 432x288 with 1 Axes>"
      ]
     },
     "metadata": {
      "needs_background": "light"
     },
     "output_type": "display_data"
    }
   ],
   "source": [
    "# it only works for normal distribution\n",
    "sns.distplot(data.pv4, hist=False)\n",
    "plt.vlines(x=(stats.loc['pv4']['mean'] - stats.loc['pv4']['std'] * 3 ), ymin=0, ymax=0.13, color='blue')\n",
    "plt.vlines(x=(stats.loc['pv4']['mean'] + stats.loc['pv4']['std'] * 3 ), ymin=0, ymax=0.13, color='blue')\n",
    "plt.show()\n"
   ]
  },
  {
   "cell_type": "code",
   "execution_count": 146,
   "metadata": {
    "ExecuteTime": {
     "end_time": "2020-04-06T14:10:20.924037Z",
     "start_time": "2020-04-06T14:10:20.739507Z"
    },
    "scrolled": true
   },
   "outputs": [
    {
     "data": {
      "text/html": [
       "<div>\n",
       "<style scoped>\n",
       "    .dataframe tbody tr th:only-of-type {\n",
       "        vertical-align: middle;\n",
       "    }\n",
       "\n",
       "    .dataframe tbody tr th {\n",
       "        vertical-align: top;\n",
       "    }\n",
       "\n",
       "    .dataframe thead th {\n",
       "        text-align: right;\n",
       "    }\n",
       "</style>\n",
       "<table border=\"1\" class=\"dataframe\">\n",
       "  <thead>\n",
       "    <tr style=\"text-align: right;\">\n",
       "      <th></th>\n",
       "      <th>count</th>\n",
       "      <th>mean</th>\n",
       "      <th>std</th>\n",
       "      <th>min</th>\n",
       "      <th>25%</th>\n",
       "      <th>50%</th>\n",
       "      <th>75%</th>\n",
       "      <th>max</th>\n",
       "    </tr>\n",
       "  </thead>\n",
       "  <tbody>\n",
       "    <tr>\n",
       "      <th>barrels08</th>\n",
       "      <td>37843.0</td>\n",
       "      <td>17.532506</td>\n",
       "      <td>4.575950</td>\n",
       "      <td>0.06</td>\n",
       "      <td>14.33087</td>\n",
       "      <td>17.347895</td>\n",
       "      <td>20.600625</td>\n",
       "      <td>47.087143</td>\n",
       "    </tr>\n",
       "    <tr>\n",
       "      <th>barrelsA08</th>\n",
       "      <td>37843.0</td>\n",
       "      <td>0.216169</td>\n",
       "      <td>1.141527</td>\n",
       "      <td>0.00</td>\n",
       "      <td>0.00000</td>\n",
       "      <td>0.000000</td>\n",
       "      <td>0.000000</td>\n",
       "      <td>18.311667</td>\n",
       "    </tr>\n",
       "    <tr>\n",
       "      <th>charge120</th>\n",
       "      <td>37843.0</td>\n",
       "      <td>0.000000</td>\n",
       "      <td>0.000000</td>\n",
       "      <td>0.00</td>\n",
       "      <td>0.00000</td>\n",
       "      <td>0.000000</td>\n",
       "      <td>0.000000</td>\n",
       "      <td>0.000000</td>\n",
       "    </tr>\n",
       "    <tr>\n",
       "      <th>charge240</th>\n",
       "      <td>37843.0</td>\n",
       "      <td>0.023531</td>\n",
       "      <td>0.427647</td>\n",
       "      <td>0.00</td>\n",
       "      <td>0.00000</td>\n",
       "      <td>0.000000</td>\n",
       "      <td>0.000000</td>\n",
       "      <td>12.000000</td>\n",
       "    </tr>\n",
       "    <tr>\n",
       "      <th>city08</th>\n",
       "      <td>37843.0</td>\n",
       "      <td>17.941389</td>\n",
       "      <td>6.660360</td>\n",
       "      <td>6.00</td>\n",
       "      <td>15.00000</td>\n",
       "      <td>17.000000</td>\n",
       "      <td>20.000000</td>\n",
       "      <td>138.000000</td>\n",
       "    </tr>\n",
       "    <tr>\n",
       "      <th>city08U</th>\n",
       "      <td>37843.0</td>\n",
       "      <td>4.042737</td>\n",
       "      <td>9.645820</td>\n",
       "      <td>0.00</td>\n",
       "      <td>0.00000</td>\n",
       "      <td>0.000000</td>\n",
       "      <td>0.000000</td>\n",
       "      <td>138.304000</td>\n",
       "    </tr>\n",
       "    <tr>\n",
       "      <th>cityA08</th>\n",
       "      <td>37843.0</td>\n",
       "      <td>0.520149</td>\n",
       "      <td>3.837874</td>\n",
       "      <td>0.00</td>\n",
       "      <td>0.00000</td>\n",
       "      <td>0.000000</td>\n",
       "      <td>0.000000</td>\n",
       "      <td>127.000000</td>\n",
       "    </tr>\n",
       "    <tr>\n",
       "      <th>cityA08U</th>\n",
       "      <td>37843.0</td>\n",
       "      <td>0.327163</td>\n",
       "      <td>3.542596</td>\n",
       "      <td>0.00</td>\n",
       "      <td>0.00000</td>\n",
       "      <td>0.000000</td>\n",
       "      <td>0.000000</td>\n",
       "      <td>127.093000</td>\n",
       "    </tr>\n",
       "    <tr>\n",
       "      <th>cityCD</th>\n",
       "      <td>37843.0</td>\n",
       "      <td>0.000406</td>\n",
       "      <td>0.039918</td>\n",
       "      <td>0.00</td>\n",
       "      <td>0.00000</td>\n",
       "      <td>0.000000</td>\n",
       "      <td>0.000000</td>\n",
       "      <td>5.350000</td>\n",
       "    </tr>\n",
       "    <tr>\n",
       "      <th>cityE</th>\n",
       "      <td>37843.0</td>\n",
       "      <td>0.184790</td>\n",
       "      <td>2.904558</td>\n",
       "      <td>0.00</td>\n",
       "      <td>0.00000</td>\n",
       "      <td>0.000000</td>\n",
       "      <td>0.000000</td>\n",
       "      <td>122.000000</td>\n",
       "    </tr>\n",
       "    <tr>\n",
       "      <th>cityUF</th>\n",
       "      <td>37843.0</td>\n",
       "      <td>0.000706</td>\n",
       "      <td>0.019458</td>\n",
       "      <td>0.00</td>\n",
       "      <td>0.00000</td>\n",
       "      <td>0.000000</td>\n",
       "      <td>0.000000</td>\n",
       "      <td>0.849000</td>\n",
       "    </tr>\n",
       "    <tr>\n",
       "      <th>co2</th>\n",
       "      <td>37843.0</td>\n",
       "      <td>61.503713</td>\n",
       "      <td>153.387715</td>\n",
       "      <td>-1.00</td>\n",
       "      <td>-1.00000</td>\n",
       "      <td>-1.000000</td>\n",
       "      <td>-1.000000</td>\n",
       "      <td>847.000000</td>\n",
       "    </tr>\n",
       "    <tr>\n",
       "      <th>co2A</th>\n",
       "      <td>37843.0</td>\n",
       "      <td>5.349919</td>\n",
       "      <td>55.539497</td>\n",
       "      <td>-1.00</td>\n",
       "      <td>-1.00000</td>\n",
       "      <td>-1.000000</td>\n",
       "      <td>-1.000000</td>\n",
       "      <td>719.000000</td>\n",
       "    </tr>\n",
       "    <tr>\n",
       "      <th>co2TailpipeAGpm</th>\n",
       "      <td>37843.0</td>\n",
       "      <td>17.771433</td>\n",
       "      <td>94.129283</td>\n",
       "      <td>0.00</td>\n",
       "      <td>0.00000</td>\n",
       "      <td>0.000000</td>\n",
       "      <td>0.000000</td>\n",
       "      <td>719.000000</td>\n",
       "    </tr>\n",
       "    <tr>\n",
       "      <th>co2TailpipeGpm</th>\n",
       "      <td>37843.0</td>\n",
       "      <td>473.179736</td>\n",
       "      <td>122.188847</td>\n",
       "      <td>0.00</td>\n",
       "      <td>388.00000</td>\n",
       "      <td>467.736842</td>\n",
       "      <td>555.437500</td>\n",
       "      <td>1269.571429</td>\n",
       "    </tr>\n",
       "    <tr>\n",
       "      <th>comb08</th>\n",
       "      <td>37843.0</td>\n",
       "      <td>20.195809</td>\n",
       "      <td>6.623444</td>\n",
       "      <td>7.00</td>\n",
       "      <td>17.00000</td>\n",
       "      <td>19.000000</td>\n",
       "      <td>23.000000</td>\n",
       "      <td>124.000000</td>\n",
       "    </tr>\n",
       "    <tr>\n",
       "      <th>comb08U</th>\n",
       "      <td>37843.0</td>\n",
       "      <td>4.549751</td>\n",
       "      <td>10.389994</td>\n",
       "      <td>0.00</td>\n",
       "      <td>0.00000</td>\n",
       "      <td>0.000000</td>\n",
       "      <td>0.000000</td>\n",
       "      <td>124.360100</td>\n",
       "    </tr>\n",
       "    <tr>\n",
       "      <th>combA08</th>\n",
       "      <td>37843.0</td>\n",
       "      <td>0.581191</td>\n",
       "      <td>3.966255</td>\n",
       "      <td>0.00</td>\n",
       "      <td>0.00000</td>\n",
       "      <td>0.000000</td>\n",
       "      <td>0.000000</td>\n",
       "      <td>117.000000</td>\n",
       "    </tr>\n",
       "    <tr>\n",
       "      <th>combA08U</th>\n",
       "      <td>37843.0</td>\n",
       "      <td>0.359027</td>\n",
       "      <td>3.589260</td>\n",
       "      <td>0.00</td>\n",
       "      <td>0.00000</td>\n",
       "      <td>0.000000</td>\n",
       "      <td>0.000000</td>\n",
       "      <td>116.936400</td>\n",
       "    </tr>\n",
       "    <tr>\n",
       "      <th>combE</th>\n",
       "      <td>37843.0</td>\n",
       "      <td>0.190575</td>\n",
       "      <td>2.979567</td>\n",
       "      <td>0.00</td>\n",
       "      <td>0.00000</td>\n",
       "      <td>0.000000</td>\n",
       "      <td>0.000000</td>\n",
       "      <td>121.000000</td>\n",
       "    </tr>\n",
       "    <tr>\n",
       "      <th>combinedCD</th>\n",
       "      <td>37843.0</td>\n",
       "      <td>0.000335</td>\n",
       "      <td>0.035284</td>\n",
       "      <td>0.00</td>\n",
       "      <td>0.00000</td>\n",
       "      <td>0.000000</td>\n",
       "      <td>0.000000</td>\n",
       "      <td>4.800000</td>\n",
       "    </tr>\n",
       "    <tr>\n",
       "      <th>combinedUF</th>\n",
       "      <td>37843.0</td>\n",
       "      <td>0.000691</td>\n",
       "      <td>0.019049</td>\n",
       "      <td>0.00</td>\n",
       "      <td>0.00000</td>\n",
       "      <td>0.000000</td>\n",
       "      <td>0.000000</td>\n",
       "      <td>0.834000</td>\n",
       "    </tr>\n",
       "    <tr>\n",
       "      <th>cylinders</th>\n",
       "      <td>37720.0</td>\n",
       "      <td>5.737990</td>\n",
       "      <td>1.751795</td>\n",
       "      <td>2.00</td>\n",
       "      <td>4.00000</td>\n",
       "      <td>6.000000</td>\n",
       "      <td>6.000000</td>\n",
       "      <td>16.000000</td>\n",
       "    </tr>\n",
       "    <tr>\n",
       "      <th>displ</th>\n",
       "      <td>37723.0</td>\n",
       "      <td>3.318180</td>\n",
       "      <td>1.361399</td>\n",
       "      <td>0.00</td>\n",
       "      <td>2.20000</td>\n",
       "      <td>3.000000</td>\n",
       "      <td>4.300000</td>\n",
       "      <td>8.400000</td>\n",
       "    </tr>\n",
       "    <tr>\n",
       "      <th>engId</th>\n",
       "      <td>37843.0</td>\n",
       "      <td>8860.308961</td>\n",
       "      <td>17829.683477</td>\n",
       "      <td>0.00</td>\n",
       "      <td>0.00000</td>\n",
       "      <td>211.000000</td>\n",
       "      <td>4505.000000</td>\n",
       "      <td>69102.000000</td>\n",
       "    </tr>\n",
       "    <tr>\n",
       "      <th>feScore</th>\n",
       "      <td>37843.0</td>\n",
       "      <td>-0.035145</td>\n",
       "      <td>2.379584</td>\n",
       "      <td>-1.00</td>\n",
       "      <td>-1.00000</td>\n",
       "      <td>-1.000000</td>\n",
       "      <td>-1.000000</td>\n",
       "      <td>10.000000</td>\n",
       "    </tr>\n",
       "    <tr>\n",
       "      <th>fuelCost08</th>\n",
       "      <td>37843.0</td>\n",
       "      <td>1882.060090</td>\n",
       "      <td>510.280408</td>\n",
       "      <td>550.00</td>\n",
       "      <td>1500.00000</td>\n",
       "      <td>1850.000000</td>\n",
       "      <td>2200.000000</td>\n",
       "      <td>5800.000000</td>\n",
       "    </tr>\n",
       "    <tr>\n",
       "      <th>fuelCostA08</th>\n",
       "      <td>37843.0</td>\n",
       "      <td>79.070105</td>\n",
       "      <td>417.668580</td>\n",
       "      <td>0.00</td>\n",
       "      <td>0.00000</td>\n",
       "      <td>0.000000</td>\n",
       "      <td>0.000000</td>\n",
       "      <td>3800.000000</td>\n",
       "    </tr>\n",
       "    <tr>\n",
       "      <th>ghgScore</th>\n",
       "      <td>37843.0</td>\n",
       "      <td>-0.037206</td>\n",
       "      <td>2.374338</td>\n",
       "      <td>-1.00</td>\n",
       "      <td>-1.00000</td>\n",
       "      <td>-1.000000</td>\n",
       "      <td>-1.000000</td>\n",
       "      <td>10.000000</td>\n",
       "    </tr>\n",
       "    <tr>\n",
       "      <th>ghgScoreA</th>\n",
       "      <td>37843.0</td>\n",
       "      <td>-0.929630</td>\n",
       "      <td>0.627565</td>\n",
       "      <td>-1.00</td>\n",
       "      <td>-1.00000</td>\n",
       "      <td>-1.000000</td>\n",
       "      <td>-1.000000</td>\n",
       "      <td>8.000000</td>\n",
       "    </tr>\n",
       "    <tr>\n",
       "      <th>highway08</th>\n",
       "      <td>37843.0</td>\n",
       "      <td>24.104881</td>\n",
       "      <td>6.963192</td>\n",
       "      <td>9.00</td>\n",
       "      <td>20.00000</td>\n",
       "      <td>24.000000</td>\n",
       "      <td>27.000000</td>\n",
       "      <td>111.000000</td>\n",
       "    </tr>\n",
       "    <tr>\n",
       "      <th>highway08U</th>\n",
       "      <td>37843.0</td>\n",
       "      <td>5.438467</td>\n",
       "      <td>11.936327</td>\n",
       "      <td>0.00</td>\n",
       "      <td>0.00000</td>\n",
       "      <td>0.000000</td>\n",
       "      <td>0.000000</td>\n",
       "      <td>111.370000</td>\n",
       "    </tr>\n",
       "    <tr>\n",
       "      <th>highwayA08</th>\n",
       "      <td>37843.0</td>\n",
       "      <td>0.686891</td>\n",
       "      <td>4.308934</td>\n",
       "      <td>0.00</td>\n",
       "      <td>0.00000</td>\n",
       "      <td>0.000000</td>\n",
       "      <td>0.000000</td>\n",
       "      <td>107.000000</td>\n",
       "    </tr>\n",
       "    <tr>\n",
       "      <th>highwayA08U</th>\n",
       "      <td>37843.0</td>\n",
       "      <td>0.418698</td>\n",
       "      <td>3.808877</td>\n",
       "      <td>0.00</td>\n",
       "      <td>0.00000</td>\n",
       "      <td>0.000000</td>\n",
       "      <td>0.000000</td>\n",
       "      <td>106.531000</td>\n",
       "    </tr>\n",
       "    <tr>\n",
       "      <th>highwayCD</th>\n",
       "      <td>37843.0</td>\n",
       "      <td>0.000233</td>\n",
       "      <td>0.029564</td>\n",
       "      <td>0.00</td>\n",
       "      <td>0.00000</td>\n",
       "      <td>0.000000</td>\n",
       "      <td>0.000000</td>\n",
       "      <td>4.060000</td>\n",
       "    </tr>\n",
       "    <tr>\n",
       "      <th>highwayE</th>\n",
       "      <td>37843.0</td>\n",
       "      <td>0.198247</td>\n",
       "      <td>3.091862</td>\n",
       "      <td>0.00</td>\n",
       "      <td>0.00000</td>\n",
       "      <td>0.000000</td>\n",
       "      <td>0.000000</td>\n",
       "      <td>120.000000</td>\n",
       "    </tr>\n",
       "    <tr>\n",
       "      <th>highwayUF</th>\n",
       "      <td>37843.0</td>\n",
       "      <td>0.000673</td>\n",
       "      <td>0.018583</td>\n",
       "      <td>0.00</td>\n",
       "      <td>0.00000</td>\n",
       "      <td>0.000000</td>\n",
       "      <td>0.000000</td>\n",
       "      <td>0.813000</td>\n",
       "    </tr>\n",
       "    <tr>\n",
       "      <th>hlv</th>\n",
       "      <td>37843.0</td>\n",
       "      <td>2.026214</td>\n",
       "      <td>5.947989</td>\n",
       "      <td>0.00</td>\n",
       "      <td>0.00000</td>\n",
       "      <td>0.000000</td>\n",
       "      <td>0.000000</td>\n",
       "      <td>49.000000</td>\n",
       "    </tr>\n",
       "    <tr>\n",
       "      <th>hpv</th>\n",
       "      <td>37843.0</td>\n",
       "      <td>10.424332</td>\n",
       "      <td>28.148770</td>\n",
       "      <td>0.00</td>\n",
       "      <td>0.00000</td>\n",
       "      <td>0.000000</td>\n",
       "      <td>0.000000</td>\n",
       "      <td>195.000000</td>\n",
       "    </tr>\n",
       "    <tr>\n",
       "      <th>id</th>\n",
       "      <td>37843.0</td>\n",
       "      <td>19019.286235</td>\n",
       "      <td>11034.784855</td>\n",
       "      <td>1.00</td>\n",
       "      <td>9461.50000</td>\n",
       "      <td>18923.000000</td>\n",
       "      <td>28570.500000</td>\n",
       "      <td>38173.000000</td>\n",
       "    </tr>\n",
       "    <tr>\n",
       "      <th>lv2</th>\n",
       "      <td>37843.0</td>\n",
       "      <td>1.849219</td>\n",
       "      <td>4.429983</td>\n",
       "      <td>0.00</td>\n",
       "      <td>0.00000</td>\n",
       "      <td>0.000000</td>\n",
       "      <td>0.000000</td>\n",
       "      <td>41.000000</td>\n",
       "    </tr>\n",
       "    <tr>\n",
       "      <th>lv4</th>\n",
       "      <td>37843.0</td>\n",
       "      <td>6.165658</td>\n",
       "      <td>9.743297</td>\n",
       "      <td>0.00</td>\n",
       "      <td>0.00000</td>\n",
       "      <td>0.000000</td>\n",
       "      <td>13.000000</td>\n",
       "      <td>55.000000</td>\n",
       "    </tr>\n",
       "    <tr>\n",
       "      <th>pv2</th>\n",
       "      <td>37843.0</td>\n",
       "      <td>13.696113</td>\n",
       "      <td>31.269930</td>\n",
       "      <td>0.00</td>\n",
       "      <td>0.00000</td>\n",
       "      <td>0.000000</td>\n",
       "      <td>0.000000</td>\n",
       "      <td>194.000000</td>\n",
       "    </tr>\n",
       "    <tr>\n",
       "      <th>pv4</th>\n",
       "      <td>37843.0</td>\n",
       "      <td>33.769125</td>\n",
       "      <td>45.914462</td>\n",
       "      <td>0.00</td>\n",
       "      <td>0.00000</td>\n",
       "      <td>0.000000</td>\n",
       "      <td>91.000000</td>\n",
       "      <td>192.000000</td>\n",
       "    </tr>\n",
       "    <tr>\n",
       "      <th>range</th>\n",
       "      <td>37843.0</td>\n",
       "      <td>0.392675</td>\n",
       "      <td>8.251191</td>\n",
       "      <td>0.00</td>\n",
       "      <td>0.00000</td>\n",
       "      <td>0.000000</td>\n",
       "      <td>0.000000</td>\n",
       "      <td>315.000000</td>\n",
       "    </tr>\n",
       "    <tr>\n",
       "      <th>rangeCity</th>\n",
       "      <td>37843.0</td>\n",
       "      <td>0.352618</td>\n",
       "      <td>8.049082</td>\n",
       "      <td>0.00</td>\n",
       "      <td>0.00000</td>\n",
       "      <td>0.000000</td>\n",
       "      <td>0.000000</td>\n",
       "      <td>305.900000</td>\n",
       "    </tr>\n",
       "    <tr>\n",
       "      <th>rangeCityA</th>\n",
       "      <td>37843.0</td>\n",
       "      <td>0.036800</td>\n",
       "      <td>1.158270</td>\n",
       "      <td>0.00</td>\n",
       "      <td>0.00000</td>\n",
       "      <td>0.000000</td>\n",
       "      <td>0.000000</td>\n",
       "      <td>77.504000</td>\n",
       "    </tr>\n",
       "    <tr>\n",
       "      <th>rangeHwy</th>\n",
       "      <td>37843.0</td>\n",
       "      <td>0.343399</td>\n",
       "      <td>8.171939</td>\n",
       "      <td>0.00</td>\n",
       "      <td>0.00000</td>\n",
       "      <td>0.000000</td>\n",
       "      <td>0.000000</td>\n",
       "      <td>346.900000</td>\n",
       "    </tr>\n",
       "    <tr>\n",
       "      <th>rangeHwyA</th>\n",
       "      <td>37843.0</td>\n",
       "      <td>0.033475</td>\n",
       "      <td>1.032642</td>\n",
       "      <td>0.00</td>\n",
       "      <td>0.00000</td>\n",
       "      <td>0.000000</td>\n",
       "      <td>0.000000</td>\n",
       "      <td>65.632000</td>\n",
       "    </tr>\n",
       "    <tr>\n",
       "      <th>UCity</th>\n",
       "      <td>37843.0</td>\n",
       "      <td>22.587229</td>\n",
       "      <td>9.350163</td>\n",
       "      <td>0.00</td>\n",
       "      <td>18.00000</td>\n",
       "      <td>21.000000</td>\n",
       "      <td>25.139300</td>\n",
       "      <td>197.577100</td>\n",
       "    </tr>\n",
       "    <tr>\n",
       "      <th>UCityA</th>\n",
       "      <td>37843.0</td>\n",
       "      <td>0.652380</td>\n",
       "      <td>5.284547</td>\n",
       "      <td>0.00</td>\n",
       "      <td>0.00000</td>\n",
       "      <td>0.000000</td>\n",
       "      <td>0.000000</td>\n",
       "      <td>181.560900</td>\n",
       "    </tr>\n",
       "    <tr>\n",
       "      <th>UHighway</th>\n",
       "      <td>37843.0</td>\n",
       "      <td>33.619221</td>\n",
       "      <td>10.048326</td>\n",
       "      <td>0.00</td>\n",
       "      <td>27.10000</td>\n",
       "      <td>33.000000</td>\n",
       "      <td>38.109600</td>\n",
       "      <td>159.100000</td>\n",
       "    </tr>\n",
       "    <tr>\n",
       "      <th>UHighwayA</th>\n",
       "      <td>37843.0</td>\n",
       "      <td>0.933845</td>\n",
       "      <td>6.059456</td>\n",
       "      <td>0.00</td>\n",
       "      <td>0.00000</td>\n",
       "      <td>0.000000</td>\n",
       "      <td>0.000000</td>\n",
       "      <td>152.187800</td>\n",
       "    </tr>\n",
       "    <tr>\n",
       "      <th>year</th>\n",
       "      <td>37843.0</td>\n",
       "      <td>2000.064398</td>\n",
       "      <td>10.390588</td>\n",
       "      <td>1984.00</td>\n",
       "      <td>1990.00000</td>\n",
       "      <td>2001.000000</td>\n",
       "      <td>2009.000000</td>\n",
       "      <td>2017.000000</td>\n",
       "    </tr>\n",
       "    <tr>\n",
       "      <th>youSaveSpend</th>\n",
       "      <td>37843.0</td>\n",
       "      <td>-2658.999022</td>\n",
       "      <td>2553.098329</td>\n",
       "      <td>-22250.00</td>\n",
       "      <td>-4250.00000</td>\n",
       "      <td>-2500.000000</td>\n",
       "      <td>-750.000000</td>\n",
       "      <td>4000.000000</td>\n",
       "    </tr>\n",
       "    <tr>\n",
       "      <th>charge240b</th>\n",
       "      <td>37843.0</td>\n",
       "      <td>0.004360</td>\n",
       "      <td>0.142776</td>\n",
       "      <td>0.00</td>\n",
       "      <td>0.00000</td>\n",
       "      <td>0.000000</td>\n",
       "      <td>0.000000</td>\n",
       "      <td>7.000000</td>\n",
       "    </tr>\n",
       "    <tr>\n",
       "      <th>phevCity</th>\n",
       "      <td>37843.0</td>\n",
       "      <td>0.069313</td>\n",
       "      <td>1.966806</td>\n",
       "      <td>0.00</td>\n",
       "      <td>0.00000</td>\n",
       "      <td>0.000000</td>\n",
       "      <td>0.000000</td>\n",
       "      <td>97.000000</td>\n",
       "    </tr>\n",
       "    <tr>\n",
       "      <th>phevHwy</th>\n",
       "      <td>37843.0</td>\n",
       "      <td>0.068203</td>\n",
       "      <td>1.871986</td>\n",
       "      <td>0.00</td>\n",
       "      <td>0.00000</td>\n",
       "      <td>0.000000</td>\n",
       "      <td>0.000000</td>\n",
       "      <td>79.000000</td>\n",
       "    </tr>\n",
       "    <tr>\n",
       "      <th>phevComb</th>\n",
       "      <td>37843.0</td>\n",
       "      <td>0.068573</td>\n",
       "      <td>1.913647</td>\n",
       "      <td>0.00</td>\n",
       "      <td>0.00000</td>\n",
       "      <td>0.000000</td>\n",
       "      <td>0.000000</td>\n",
       "      <td>88.000000</td>\n",
       "    </tr>\n",
       "  </tbody>\n",
       "</table>\n",
       "</div>"
      ],
      "text/plain": [
       "                   count          mean           std       min         25%  \\\n",
       "barrels08        37843.0     17.532506      4.575950      0.06    14.33087   \n",
       "barrelsA08       37843.0      0.216169      1.141527      0.00     0.00000   \n",
       "charge120        37843.0      0.000000      0.000000      0.00     0.00000   \n",
       "charge240        37843.0      0.023531      0.427647      0.00     0.00000   \n",
       "city08           37843.0     17.941389      6.660360      6.00    15.00000   \n",
       "city08U          37843.0      4.042737      9.645820      0.00     0.00000   \n",
       "cityA08          37843.0      0.520149      3.837874      0.00     0.00000   \n",
       "cityA08U         37843.0      0.327163      3.542596      0.00     0.00000   \n",
       "cityCD           37843.0      0.000406      0.039918      0.00     0.00000   \n",
       "cityE            37843.0      0.184790      2.904558      0.00     0.00000   \n",
       "cityUF           37843.0      0.000706      0.019458      0.00     0.00000   \n",
       "co2              37843.0     61.503713    153.387715     -1.00    -1.00000   \n",
       "co2A             37843.0      5.349919     55.539497     -1.00    -1.00000   \n",
       "co2TailpipeAGpm  37843.0     17.771433     94.129283      0.00     0.00000   \n",
       "co2TailpipeGpm   37843.0    473.179736    122.188847      0.00   388.00000   \n",
       "comb08           37843.0     20.195809      6.623444      7.00    17.00000   \n",
       "comb08U          37843.0      4.549751     10.389994      0.00     0.00000   \n",
       "combA08          37843.0      0.581191      3.966255      0.00     0.00000   \n",
       "combA08U         37843.0      0.359027      3.589260      0.00     0.00000   \n",
       "combE            37843.0      0.190575      2.979567      0.00     0.00000   \n",
       "combinedCD       37843.0      0.000335      0.035284      0.00     0.00000   \n",
       "combinedUF       37843.0      0.000691      0.019049      0.00     0.00000   \n",
       "cylinders        37720.0      5.737990      1.751795      2.00     4.00000   \n",
       "displ            37723.0      3.318180      1.361399      0.00     2.20000   \n",
       "engId            37843.0   8860.308961  17829.683477      0.00     0.00000   \n",
       "feScore          37843.0     -0.035145      2.379584     -1.00    -1.00000   \n",
       "fuelCost08       37843.0   1882.060090    510.280408    550.00  1500.00000   \n",
       "fuelCostA08      37843.0     79.070105    417.668580      0.00     0.00000   \n",
       "ghgScore         37843.0     -0.037206      2.374338     -1.00    -1.00000   \n",
       "ghgScoreA        37843.0     -0.929630      0.627565     -1.00    -1.00000   \n",
       "highway08        37843.0     24.104881      6.963192      9.00    20.00000   \n",
       "highway08U       37843.0      5.438467     11.936327      0.00     0.00000   \n",
       "highwayA08       37843.0      0.686891      4.308934      0.00     0.00000   \n",
       "highwayA08U      37843.0      0.418698      3.808877      0.00     0.00000   \n",
       "highwayCD        37843.0      0.000233      0.029564      0.00     0.00000   \n",
       "highwayE         37843.0      0.198247      3.091862      0.00     0.00000   \n",
       "highwayUF        37843.0      0.000673      0.018583      0.00     0.00000   \n",
       "hlv              37843.0      2.026214      5.947989      0.00     0.00000   \n",
       "hpv              37843.0     10.424332     28.148770      0.00     0.00000   \n",
       "id               37843.0  19019.286235  11034.784855      1.00  9461.50000   \n",
       "lv2              37843.0      1.849219      4.429983      0.00     0.00000   \n",
       "lv4              37843.0      6.165658      9.743297      0.00     0.00000   \n",
       "pv2              37843.0     13.696113     31.269930      0.00     0.00000   \n",
       "pv4              37843.0     33.769125     45.914462      0.00     0.00000   \n",
       "range            37843.0      0.392675      8.251191      0.00     0.00000   \n",
       "rangeCity        37843.0      0.352618      8.049082      0.00     0.00000   \n",
       "rangeCityA       37843.0      0.036800      1.158270      0.00     0.00000   \n",
       "rangeHwy         37843.0      0.343399      8.171939      0.00     0.00000   \n",
       "rangeHwyA        37843.0      0.033475      1.032642      0.00     0.00000   \n",
       "UCity            37843.0     22.587229      9.350163      0.00    18.00000   \n",
       "UCityA           37843.0      0.652380      5.284547      0.00     0.00000   \n",
       "UHighway         37843.0     33.619221     10.048326      0.00    27.10000   \n",
       "UHighwayA        37843.0      0.933845      6.059456      0.00     0.00000   \n",
       "year             37843.0   2000.064398     10.390588   1984.00  1990.00000   \n",
       "youSaveSpend     37843.0  -2658.999022   2553.098329 -22250.00 -4250.00000   \n",
       "charge240b       37843.0      0.004360      0.142776      0.00     0.00000   \n",
       "phevCity         37843.0      0.069313      1.966806      0.00     0.00000   \n",
       "phevHwy          37843.0      0.068203      1.871986      0.00     0.00000   \n",
       "phevComb         37843.0      0.068573      1.913647      0.00     0.00000   \n",
       "\n",
       "                          50%           75%           max  \n",
       "barrels08           17.347895     20.600625     47.087143  \n",
       "barrelsA08           0.000000      0.000000     18.311667  \n",
       "charge120            0.000000      0.000000      0.000000  \n",
       "charge240            0.000000      0.000000     12.000000  \n",
       "city08              17.000000     20.000000    138.000000  \n",
       "city08U              0.000000      0.000000    138.304000  \n",
       "cityA08              0.000000      0.000000    127.000000  \n",
       "cityA08U             0.000000      0.000000    127.093000  \n",
       "cityCD               0.000000      0.000000      5.350000  \n",
       "cityE                0.000000      0.000000    122.000000  \n",
       "cityUF               0.000000      0.000000      0.849000  \n",
       "co2                 -1.000000     -1.000000    847.000000  \n",
       "co2A                -1.000000     -1.000000    719.000000  \n",
       "co2TailpipeAGpm      0.000000      0.000000    719.000000  \n",
       "co2TailpipeGpm     467.736842    555.437500   1269.571429  \n",
       "comb08              19.000000     23.000000    124.000000  \n",
       "comb08U              0.000000      0.000000    124.360100  \n",
       "combA08              0.000000      0.000000    117.000000  \n",
       "combA08U             0.000000      0.000000    116.936400  \n",
       "combE                0.000000      0.000000    121.000000  \n",
       "combinedCD           0.000000      0.000000      4.800000  \n",
       "combinedUF           0.000000      0.000000      0.834000  \n",
       "cylinders            6.000000      6.000000     16.000000  \n",
       "displ                3.000000      4.300000      8.400000  \n",
       "engId              211.000000   4505.000000  69102.000000  \n",
       "feScore             -1.000000     -1.000000     10.000000  \n",
       "fuelCost08        1850.000000   2200.000000   5800.000000  \n",
       "fuelCostA08          0.000000      0.000000   3800.000000  \n",
       "ghgScore            -1.000000     -1.000000     10.000000  \n",
       "ghgScoreA           -1.000000     -1.000000      8.000000  \n",
       "highway08           24.000000     27.000000    111.000000  \n",
       "highway08U           0.000000      0.000000    111.370000  \n",
       "highwayA08           0.000000      0.000000    107.000000  \n",
       "highwayA08U          0.000000      0.000000    106.531000  \n",
       "highwayCD            0.000000      0.000000      4.060000  \n",
       "highwayE             0.000000      0.000000    120.000000  \n",
       "highwayUF            0.000000      0.000000      0.813000  \n",
       "hlv                  0.000000      0.000000     49.000000  \n",
       "hpv                  0.000000      0.000000    195.000000  \n",
       "id               18923.000000  28570.500000  38173.000000  \n",
       "lv2                  0.000000      0.000000     41.000000  \n",
       "lv4                  0.000000     13.000000     55.000000  \n",
       "pv2                  0.000000      0.000000    194.000000  \n",
       "pv4                  0.000000     91.000000    192.000000  \n",
       "range                0.000000      0.000000    315.000000  \n",
       "rangeCity            0.000000      0.000000    305.900000  \n",
       "rangeCityA           0.000000      0.000000     77.504000  \n",
       "rangeHwy             0.000000      0.000000    346.900000  \n",
       "rangeHwyA            0.000000      0.000000     65.632000  \n",
       "UCity               21.000000     25.139300    197.577100  \n",
       "UCityA               0.000000      0.000000    181.560900  \n",
       "UHighway            33.000000     38.109600    159.100000  \n",
       "UHighwayA            0.000000      0.000000    152.187800  \n",
       "year              2001.000000   2009.000000   2017.000000  \n",
       "youSaveSpend     -2500.000000   -750.000000   4000.000000  \n",
       "charge240b           0.000000      0.000000      7.000000  \n",
       "phevCity             0.000000      0.000000     97.000000  \n",
       "phevHwy              0.000000      0.000000     79.000000  \n",
       "phevComb             0.000000      0.000000     88.000000  "
      ]
     },
     "execution_count": 146,
     "metadata": {},
     "output_type": "execute_result"
    }
   ],
   "source": [
    "data.describe().T"
   ]
  },
  {
   "cell_type": "code",
   "execution_count": 148,
   "metadata": {
    "ExecuteTime": {
     "end_time": "2020-04-06T14:11:38.981811Z",
     "start_time": "2020-04-06T14:11:38.832214Z"
    },
    "scrolled": true
   },
   "outputs": [
    {
     "data": {
      "text/plain": [
       "<matplotlib.axes._subplots.AxesSubplot at 0x1a800257f98>"
      ]
     },
     "execution_count": 148,
     "metadata": {},
     "output_type": "execute_result"
    },
    {
     "data": {
      "image/png": "[encoded data removed]",
      "text/plain": [
       "<Figure size 432x288 with 1 Axes>"
      ]
     },
     "metadata": {
      "needs_background": "light"
     },
     "output_type": "display_data"
    }
   ],
   "source": [
    "data.fuelCostA08.plot(kind='hist')"
   ]
  },
  {
   "cell_type": "code",
   "execution_count": 149,
   "metadata": {
    "ExecuteTime": {
     "end_time": "2020-04-06T14:12:16.647231Z",
     "start_time": "2020-04-06T14:12:16.641248Z"
    }
   },
   "outputs": [],
   "source": [
    "upper_limit = data.fuelCostA08.mean() + 3 * data.fuelCostA08.std()\n",
    "lower_limit = data.fuelCostA08.mean() - 3 * data.fuelCostA08.std()"
   ]
  },
  {
   "cell_type": "code",
   "execution_count": 151,
   "metadata": {
    "ExecuteTime": {
     "end_time": "2020-04-06T14:12:44.968940Z",
     "start_time": "2020-04-06T14:12:44.831087Z"
    }
   },
   "outputs": [
    {
     "data": {
      "text/plain": [
       "(0, 36000)"
      ]
     },
     "execution_count": 151,
     "metadata": {},
     "output_type": "execute_result"
    },
    {
     "data": {
      "image/png": "[encoded data removed]",
      "text/plain": [
       "<Figure size 432x288 with 1 Axes>"
      ]
     },
     "metadata": {
      "needs_background": "light"
     },
     "output_type": "display_data"
    }
   ],
   "source": [
    "data.fuelCostA08.plot(kind='hist')\n",
    "plt.vlines(upper_limit, 0, 36000)\n",
    "plt.ylim([0, 36000])"
   ]
  },
  {
   "cell_type": "code",
   "execution_count": 155,
   "metadata": {
    "ExecuteTime": {
     "end_time": "2020-04-06T14:14:43.365390Z",
     "start_time": "2020-04-06T14:14:43.357412Z"
    }
   },
   "outputs": [
    {
     "data": {
      "text/plain": [
       "count    37843.000000\n",
       "mean        79.070105\n",
       "std        417.668580\n",
       "min          0.000000\n",
       "25%          0.000000\n",
       "50%          0.000000\n",
       "75%          0.000000\n",
       "max       3800.000000\n",
       "Name: fuelCostA08, dtype: float64"
      ]
     },
     "execution_count": 155,
     "metadata": {},
     "output_type": "execute_result"
    }
   ],
   "source": [
    "data.fuelCostA08.describe()"
   ]
  },
  {
   "cell_type": "code",
   "execution_count": 154,
   "metadata": {
    "ExecuteTime": {
     "end_time": "2020-04-06T14:14:14.286970Z",
     "start_time": "2020-04-06T14:14:14.144842Z"
    }
   },
   "outputs": [
    {
     "data": {
      "text/plain": [
       "(0, 36000)"
      ]
     },
     "execution_count": 154,
     "metadata": {},
     "output_type": "execute_result"
    },
    {
     "data": {
      "image/png": "[encoded data removed]",
      "text/plain": [
       "<Figure size 432x288 with 1 Axes>"
      ]
     },
     "metadata": {
      "needs_background": "light"
     },
     "output_type": "display_data"
    }
   ],
   "source": [
    "upper_limit = stats.loc['fuelCostA08', '75%'] + 1.5 * stats.loc['fuelCostA08', 'IQR']\n",
    "lower_limit = stats.loc['fuelCostA08', '25%'] - 1.5 * stats.loc['fuelCostA08', 'IQR']\n",
    "\n",
    "data.fuelCostA08.plot(kind='hist')\n",
    "plt.vlines(upper_limit, 0, 36000, color='red')\n",
    "plt.ylim([0, 36000])"
   ]
  },
  {
   "cell_type": "code",
   "execution_count": 156,
   "metadata": {
    "ExecuteTime": {
     "end_time": "2020-04-06T14:15:25.790412Z",
     "start_time": "2020-04-06T14:15:25.695360Z"
    }
   },
   "outputs": [
    {
     "data": {
      "text/plain": [
       "<matplotlib.axes._subplots.AxesSubplot at 0x1a800547470>"
      ]
     },
     "execution_count": 156,
     "metadata": {},
     "output_type": "execute_result"
    },
    {
     "data": {
      "image/png": "[encoded data removed]",
      "text/plain": [
       "<Figure size 432x288 with 1 Axes>"
      ]
     },
     "metadata": {
      "needs_background": "light"
     },
     "output_type": "display_data"
    }
   ],
   "source": [
    "sns.boxplot(data.fuelCostA08)"
   ]
  },
  {
   "cell_type": "code",
   "execution_count": 157,
   "metadata": {
    "ExecuteTime": {
     "end_time": "2020-04-06T14:16:47.999633Z",
     "start_time": "2020-04-06T14:16:47.994670Z"
    }
   },
   "outputs": [
    {
     "data": {
      "text/plain": [
       "count    37843.000000\n",
       "mean        33.769125\n",
       "std         45.914462\n",
       "min          0.000000\n",
       "25%          0.000000\n",
       "50%          0.000000\n",
       "75%         91.000000\n",
       "max        192.000000\n",
       "IQR         91.000000\n",
       "Name: pv4, dtype: float64"
      ]
     },
     "execution_count": 157,
     "metadata": {},
     "output_type": "execute_result"
    }
   ],
   "source": [
    "# why?\n",
    "stats.loc['pv4']"
   ]
  },
  {
   "cell_type": "code",
   "execution_count": 158,
   "metadata": {
    "ExecuteTime": {
     "end_time": "2020-04-06T14:17:01.223088Z",
     "start_time": "2020-04-06T14:17:01.218101Z"
    }
   },
   "outputs": [
    {
     "data": {
      "text/plain": [
       "13394"
      ]
     },
     "execution_count": 158,
     "metadata": {},
     "output_type": "execute_result"
    }
   ],
   "source": [
    "(data.pv4 != 0).sum()"
   ]
  },
  {
   "cell_type": "code",
   "execution_count": 159,
   "metadata": {
    "ExecuteTime": {
     "end_time": "2020-04-06T14:17:04.777205Z",
     "start_time": "2020-04-06T14:17:04.772218Z"
    }
   },
   "outputs": [
    {
     "data": {
      "text/plain": [
       "0.35393599873160164"
      ]
     },
     "execution_count": 159,
     "metadata": {},
     "output_type": "execute_result"
    }
   ],
   "source": [
    "(data.pv4 != 0).mean()"
   ]
  },
  {
   "cell_type": "code",
   "execution_count": 160,
   "metadata": {
    "ExecuteTime": {
     "end_time": "2020-04-06T14:17:27.410983Z",
     "start_time": "2020-04-06T14:17:27.405973Z"
    }
   },
   "outputs": [
    {
     "data": {
      "text/plain": [
       "0.03625505377480644"
      ]
     },
     "execution_count": 160,
     "metadata": {},
     "output_type": "execute_result"
    }
   ],
   "source": [
    "(data.fuelCostA08 != 0).mean()"
   ]
  },
  {
   "cell_type": "code",
   "execution_count": 167,
   "metadata": {
    "ExecuteTime": {
     "end_time": "2020-04-06T14:19:17.724398Z",
     "start_time": "2020-04-06T14:19:17.718415Z"
    }
   },
   "outputs": [
    {
     "data": {
      "text/plain": [
       "112.0"
      ]
     },
     "execution_count": 167,
     "metadata": {},
     "output_type": "execute_result"
    }
   ],
   "source": []
  },
  {
   "cell_type": "code",
   "execution_count": 184,
   "metadata": {
    "ExecuteTime": {
     "end_time": "2020-04-06T14:24:06.121529Z",
     "start_time": "2020-04-06T14:24:06.116543Z"
    }
   },
   "outputs": [
    {
     "data": {
      "text/plain": [
       "104.0"
      ]
     },
     "execution_count": 184,
     "metadata": {},
     "output_type": "execute_result"
    }
   ],
   "source": [
    "data.pv4.quantile(q=0.95)"
   ]
  },
  {
   "cell_type": "code",
   "execution_count": 191,
   "metadata": {
    "ExecuteTime": {
     "end_time": "2020-04-06T14:25:14.711922Z",
     "start_time": "2020-04-06T14:25:14.708928Z"
    }
   },
   "outputs": [],
   "source": [
    "# sns.distplot(data.query('pv4 != 0').pv4)"
   ]
  },
  {
   "cell_type": "code",
   "execution_count": 192,
   "metadata": {
    "ExecuteTime": {
     "end_time": "2020-04-06T14:25:18.686993Z",
     "start_time": "2020-04-06T14:25:18.683005Z"
    }
   },
   "outputs": [],
   "source": [
    "# sns.distplot(np.clip(data.pv4, data.pv4.quantile(q=0.70), data.pv4.max()), hist=False)"
   ]
  },
  {
   "cell_type": "markdown",
   "metadata": {},
   "source": [
    "# Skewness\n",
    "\n",
    "O quão assimétrica é sua curva"
   ]
  },
  {
   "cell_type": "code",
   "execution_count": 199,
   "metadata": {
    "ExecuteTime": {
     "end_time": "2020-04-06T14:28:10.315933Z",
     "start_time": "2020-04-06T14:28:10.311944Z"
    }
   },
   "outputs": [],
   "source": [
    "N = 10000"
   ]
  },
  {
   "cell_type": "code",
   "execution_count": 200,
   "metadata": {
    "ExecuteTime": {
     "end_time": "2020-04-06T14:28:10.966204Z",
     "start_time": "2020-04-06T14:28:10.800636Z"
    }
   },
   "outputs": [
    {
     "data": {
      "text/plain": [
       "<matplotlib.axes._subplots.AxesSubplot at 0x1a802608e80>"
      ]
     },
     "execution_count": 200,
     "metadata": {},
     "output_type": "execute_result"
    },
    {
     "data": {
      "image/png": "[encoded data removed]",
      "text/plain": [
       "<Figure size 432x288 with 1 Axes>"
      ]
     },
     "metadata": {
      "needs_background": "light"
     },
     "output_type": "display_data"
    }
   ],
   "source": [
    "uniform = np.random.randint(0, 100, size=N)\n",
    "sns.distplot(uniform)"
   ]
  },
  {
   "cell_type": "code",
   "execution_count": 201,
   "metadata": {
    "ExecuteTime": {
     "end_time": "2020-04-06T14:28:28.324181Z",
     "start_time": "2020-04-06T14:28:28.210079Z"
    },
    "scrolled": true
   },
   "outputs": [
    {
     "data": {
      "text/plain": [
       "<matplotlib.axes._subplots.AxesSubplot at 0x1a802b2acf8>"
      ]
     },
     "execution_count": 201,
     "metadata": {},
     "output_type": "execute_result"
    },
    {
     "data": {
      "image/png": "[encoded data removed]",
      "text/plain": [
       "<Figure size 432x288 with 1 Axes>"
      ]
     },
     "metadata": {
      "needs_background": "light"
     },
     "output_type": "display_data"
    }
   ],
   "source": [
    "normal = np.random.normal(size=N)\n",
    "sns.distplot(normal, hist=False)"
   ]
  },
  {
   "cell_type": "code",
   "execution_count": 202,
   "metadata": {
    "ExecuteTime": {
     "end_time": "2020-04-06T14:28:52.023573Z",
     "start_time": "2020-04-06T14:28:52.019585Z"
    }
   },
   "outputs": [],
   "source": [
    "df = pd.DataFrame(normal, columns=['normal'])"
   ]
  },
  {
   "cell_type": "code",
   "execution_count": 203,
   "metadata": {
    "ExecuteTime": {
     "end_time": "2020-04-06T14:28:53.081460Z",
     "start_time": "2020-04-06T14:28:53.073481Z"
    }
   },
   "outputs": [
    {
     "data": {
      "text/html": [
       "<div>\n",
       "<style scoped>\n",
       "    .dataframe tbody tr th:only-of-type {\n",
       "        vertical-align: middle;\n",
       "    }\n",
       "\n",
       "    .dataframe tbody tr th {\n",
       "        vertical-align: top;\n",
       "    }\n",
       "\n",
       "    .dataframe thead th {\n",
       "        text-align: right;\n",
       "    }\n",
       "</style>\n",
       "<table border=\"1\" class=\"dataframe\">\n",
       "  <thead>\n",
       "    <tr style=\"text-align: right;\">\n",
       "      <th></th>\n",
       "      <th>normal</th>\n",
       "    </tr>\n",
       "  </thead>\n",
       "  <tbody>\n",
       "    <tr>\n",
       "      <th>0</th>\n",
       "      <td>-0.334503</td>\n",
       "    </tr>\n",
       "    <tr>\n",
       "      <th>1</th>\n",
       "      <td>-2.607206</td>\n",
       "    </tr>\n",
       "    <tr>\n",
       "      <th>2</th>\n",
       "      <td>1.271044</td>\n",
       "    </tr>\n",
       "    <tr>\n",
       "      <th>3</th>\n",
       "      <td>-0.658973</td>\n",
       "    </tr>\n",
       "    <tr>\n",
       "      <th>4</th>\n",
       "      <td>-0.604658</td>\n",
       "    </tr>\n",
       "    <tr>\n",
       "      <th>...</th>\n",
       "      <td>...</td>\n",
       "    </tr>\n",
       "    <tr>\n",
       "      <th>9995</th>\n",
       "      <td>-0.686870</td>\n",
       "    </tr>\n",
       "    <tr>\n",
       "      <th>9996</th>\n",
       "      <td>-0.851922</td>\n",
       "    </tr>\n",
       "    <tr>\n",
       "      <th>9997</th>\n",
       "      <td>-0.569666</td>\n",
       "    </tr>\n",
       "    <tr>\n",
       "      <th>9998</th>\n",
       "      <td>-0.901614</td>\n",
       "    </tr>\n",
       "    <tr>\n",
       "      <th>9999</th>\n",
       "      <td>-1.337322</td>\n",
       "    </tr>\n",
       "  </tbody>\n",
       "</table>\n",
       "<p>10000 rows × 1 columns</p>\n",
       "</div>"
      ],
      "text/plain": [
       "        normal\n",
       "0    -0.334503\n",
       "1    -2.607206\n",
       "2     1.271044\n",
       "3    -0.658973\n",
       "4    -0.604658\n",
       "...        ...\n",
       "9995 -0.686870\n",
       "9996 -0.851922\n",
       "9997 -0.569666\n",
       "9998 -0.901614\n",
       "9999 -1.337322\n",
       "\n",
       "[10000 rows x 1 columns]"
      ]
     },
     "execution_count": 203,
     "metadata": {},
     "output_type": "execute_result"
    }
   ],
   "source": [
    "df"
   ]
  },
  {
   "cell_type": "code",
   "execution_count": 204,
   "metadata": {
    "ExecuteTime": {
     "end_time": "2020-04-06T14:29:07.208213Z",
     "start_time": "2020-04-06T14:29:07.203226Z"
    }
   },
   "outputs": [
    {
     "data": {
      "text/plain": [
       "0.027653462120694205"
      ]
     },
     "execution_count": 204,
     "metadata": {},
     "output_type": "execute_result"
    }
   ],
   "source": [
    "df.normal.skew()"
   ]
  },
  {
   "cell_type": "markdown",
   "metadata": {},
   "source": [
    "## Right skewed"
   ]
  },
  {
   "cell_type": "code",
   "execution_count": 230,
   "metadata": {
    "ExecuteTime": {
     "end_time": "2020-04-06T14:35:03.594806Z",
     "start_time": "2020-04-06T14:35:03.472623Z"
    }
   },
   "outputs": [
    {
     "data": {
      "text/plain": [
       "(0, 2)"
      ]
     },
     "execution_count": 230,
     "metadata": {},
     "output_type": "execute_result"
    },
    {
     "data": {
      "image/png": "[encoded data removed]",
      "text/plain": [
       "<Figure size 432x288 with 1 Axes>"
      ]
     },
     "metadata": {
      "needs_background": "light"
     },
     "output_type": "display_data"
    }
   ],
   "source": [
    "gamma = np.random.gamma(shape=0.5, size=N )\n",
    "sns.distplot(gamma, hist=False)\n",
    "\n",
    "plt.vlines(np.mean(gamma), 0, 1, color='red')\n",
    "plt.vlines(np.median(gamma), 0, 1, color='k')\n",
    "\n",
    "plt.ylim([0, 2])"
   ]
  },
  {
   "cell_type": "code",
   "execution_count": 231,
   "metadata": {
    "ExecuteTime": {
     "end_time": "2020-04-06T14:35:09.958848Z",
     "start_time": "2020-04-06T14:35:09.954889Z"
    }
   },
   "outputs": [],
   "source": [
    "df['gamma'] = gamma"
   ]
  },
  {
   "cell_type": "code",
   "execution_count": 232,
   "metadata": {
    "ExecuteTime": {
     "end_time": "2020-04-06T14:35:10.560695Z",
     "start_time": "2020-04-06T14:35:10.554706Z"
    }
   },
   "outputs": [
    {
     "data": {
      "text/plain": [
       "normal    0.027653\n",
       "gamma     2.540469\n",
       "dtype: float64"
      ]
     },
     "execution_count": 232,
     "metadata": {},
     "output_type": "execute_result"
    }
   ],
   "source": [
    "df.skew()"
   ]
  },
  {
   "cell_type": "markdown",
   "metadata": {},
   "source": [
    "## Left skewed"
   ]
  },
  {
   "cell_type": "code",
   "execution_count": 259,
   "metadata": {
    "ExecuteTime": {
     "end_time": "2020-04-06T14:38:56.203940Z",
     "start_time": "2020-04-06T14:38:56.079765Z"
    }
   },
   "outputs": [
    {
     "data": {
      "text/plain": [
       "<matplotlib.axes._subplots.AxesSubplot at 0x1a8035e6a20>"
      ]
     },
     "execution_count": 259,
     "metadata": {},
     "output_type": "execute_result"
    },
    {
     "data": {
      "image/png": "[encoded data removed]",
      "text/plain": [
       "<Figure size 432x288 with 1 Axes>"
      ]
     },
     "metadata": {
      "needs_background": "light"
     },
     "output_type": "display_data"
    }
   ],
   "source": [
    "beta = np.random.beta(a=500, b=0.01, size=N )\n",
    "sns.distplot(beta, hist=False)"
   ]
  },
  {
   "cell_type": "code",
   "execution_count": 260,
   "metadata": {
    "ExecuteTime": {
     "end_time": "2020-04-06T14:38:58.113097Z",
     "start_time": "2020-04-06T14:38:58.109108Z"
    }
   },
   "outputs": [],
   "source": [
    "df['beta'] = beta"
   ]
  },
  {
   "cell_type": "code",
   "execution_count": 261,
   "metadata": {
    "ExecuteTime": {
     "end_time": "2020-04-06T14:38:58.342501Z",
     "start_time": "2020-04-06T14:38:58.339492Z"
    }
   },
   "outputs": [],
   "source": [
    "df['uniform'] = uniform"
   ]
  },
  {
   "cell_type": "code",
   "execution_count": 262,
   "metadata": {
    "ExecuteTime": {
     "end_time": "2020-04-06T14:38:58.625764Z",
     "start_time": "2020-04-06T14:38:58.619780Z"
    }
   },
   "outputs": [
    {
     "data": {
      "text/plain": [
       "normal      0.027653\n",
       "gamma       2.540469\n",
       "beta      -17.138117\n",
       "uniform    -0.018247\n",
       "dtype: float64"
      ]
     },
     "execution_count": 262,
     "metadata": {},
     "output_type": "execute_result"
    }
   ],
   "source": [
    "df.skew()"
   ]
  },
  {
   "cell_type": "markdown",
   "metadata": {},
   "source": [
    "# Kurtosis\n",
    "\n",
    "How likely it is for this distribution to have outliers when compared to the gaussian normal distribution"
   ]
  },
  {
   "cell_type": "code",
   "execution_count": 263,
   "metadata": {
    "ExecuteTime": {
     "end_time": "2020-04-06T14:40:05.787812Z",
     "start_time": "2020-04-06T14:40:05.782798Z"
    }
   },
   "outputs": [
    {
     "data": {
      "text/plain": [
       "normal       0.021231\n",
       "gamma        8.722704\n",
       "beta       384.824524\n",
       "uniform     -1.208679\n",
       "dtype: float64"
      ]
     },
     "execution_count": 263,
     "metadata": {},
     "output_type": "execute_result"
    }
   ],
   "source": [
    "df.kurtosis()"
   ]
  },
  {
   "cell_type": "code",
   "execution_count": 264,
   "metadata": {
    "ExecuteTime": {
     "end_time": "2020-04-06T14:42:25.094048Z",
     "start_time": "2020-04-06T14:42:25.090059Z"
    }
   },
   "outputs": [],
   "source": [
    "from scipy.stats import kurtosis"
   ]
  },
  {
   "cell_type": "code",
   "execution_count": 270,
   "metadata": {
    "ExecuteTime": {
     "end_time": "2020-04-06T14:44:27.677933Z",
     "start_time": "2020-04-06T14:44:27.672918Z"
    }
   },
   "outputs": [
    {
     "data": {
      "text/plain": [
       "8.71774332678701"
      ]
     },
     "execution_count": 270,
     "metadata": {},
     "output_type": "execute_result"
    }
   ],
   "source": [
    "kurtosis(df.gamma, fisher=True)"
   ]
  },
  {
   "cell_type": "code",
   "execution_count": null,
   "metadata": {
    "ExecuteTime": {
     "end_time": "2020-04-06T12:20:31.459582Z",
     "start_time": "2020-04-06T12:20:31.451603Z"
    }
   },
   "outputs": [],
   "source": [
    "data.barrels08.describe()"
   ]
  },
  {
   "cell_type": "code",
   "execution_count": null,
   "metadata": {
    "ExecuteTime": {
     "end_time": "2020-04-06T12:20:33.302377Z",
     "start_time": "2020-04-06T12:20:33.294428Z"
    }
   },
   "outputs": [],
   "source": [
    "data.pv4.describe()"
   ]
  }
 ],
 "metadata": {
  "kernelspec": {
   "display_name": "Python 3",
   "language": "python",
   "name": "python3"
  },
  "language_info": {
   "codemirror_mode": {
    "name": "ipython",
    "version": 3
   },
   "file_extension": ".py",
   "mimetype": "text/x-python",
   "name": "python",
   "nbconvert_exporter": "python",
   "pygments_lexer": "ipython3",
   "version": "3.7.3"
  },
  "toc": {
   "base_numbering": 1,
   "nav_menu": {},
   "number_sections": true,
   "sideBar": true,
   "skip_h1_title": false,
   "title_cell": "Table of Contents",
   "title_sidebar": "Contents",
   "toc_cell": false,
   "toc_position": {},
   "toc_section_display": true,
   "toc_window_display": false
  }
 },
 "nbformat": 4,
 "nbformat_minor": 2
}
