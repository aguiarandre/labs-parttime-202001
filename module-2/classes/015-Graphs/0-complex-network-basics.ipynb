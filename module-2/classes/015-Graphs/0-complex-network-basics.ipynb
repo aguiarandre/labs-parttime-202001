{
 "cells": [
  {
   "cell_type": "code",
   "execution_count": 2,
   "metadata": {
    "ExecuteTime": {
     "end_time": "2020-05-12T22:55:10.841019Z",
     "start_time": "2020-05-12T22:55:10.838054Z"
    }
   },
   "outputs": [],
   "source": [
    "import pandas as pd\n",
    "import numpy as np"
   ]
  },
  {
   "cell_type": "markdown",
   "metadata": {},
   "source": [
    "# Complex Networks - Graphs"
   ]
  },
  {
   "cell_type": "markdown",
   "metadata": {},
   "source": [
    "The main library used to handle graphs is <a href=https://networkx.github.io/><b>networkx</b></a>"
   ]
  },
  {
   "cell_type": "code",
   "execution_count": null,
   "metadata": {
    "collapsed": true
   },
   "outputs": [],
   "source": [
    "# !pip install networkx"
   ]
  },
  {
   "cell_type": "code",
   "execution_count": 3,
   "metadata": {
    "ExecuteTime": {
     "end_time": "2020-05-12T22:55:35.957179Z",
     "start_time": "2020-05-12T22:55:35.469485Z"
    },
    "slideshow": {
     "slide_type": "slide"
    }
   },
   "outputs": [],
   "source": [
    "import networkx as nx\n",
    "import matplotlib.pyplot as plt"
   ]
  },
  {
   "cell_type": "markdown",
   "metadata": {},
   "source": [
    "## Networkx"
   ]
  },
  {
   "cell_type": "markdown",
   "metadata": {},
   "source": [
    "### The Graph class\n",
    "\n",
    "The most important class in Networkx is the Graph class. It creates an empty graph for you to load data. \n",
    "This creates what is called an `undirected graph` - that is, the graph doesn't really care about source and target nodes. It just connects dots."
   ]
  },
  {
   "cell_type": "code",
   "execution_count": 13,
   "metadata": {
    "ExecuteTime": {
     "end_time": "2020-05-12T22:58:36.971383Z",
     "start_time": "2020-05-12T22:58:36.967361Z"
    },
    "slideshow": {
     "slide_type": "slide"
    }
   },
   "outputs": [],
   "source": [
    "G = nx.Graph()"
   ]
  },
  {
   "cell_type": "markdown",
   "metadata": {},
   "source": [
    "### Graph nodes\n",
    "\n",
    "By invoking `.nodes` on a graph, you can see all your graph's nodes. Of course there are none yet."
   ]
  },
  {
   "cell_type": "code",
   "execution_count": 14,
   "metadata": {
    "ExecuteTime": {
     "end_time": "2020-05-12T22:58:37.319250Z",
     "start_time": "2020-05-12T22:58:37.315285Z"
    },
    "slideshow": {
     "slide_type": "slide"
    }
   },
   "outputs": [
    {
     "data": {
      "text/plain": [
       "NodeView(())"
      ]
     },
     "execution_count": 14,
     "metadata": {},
     "output_type": "execute_result"
    }
   ],
   "source": [
    "G.nodes"
   ]
  },
  {
   "cell_type": "markdown",
   "metadata": {},
   "source": [
    "### Helper function to visualize graph\n",
    "\n",
    "For now, I'll create a function to visualize graphs - but we'll come back later on how to that exactly"
   ]
  },
  {
   "cell_type": "code",
   "execution_count": 15,
   "metadata": {
    "ExecuteTime": {
     "end_time": "2020-05-12T22:58:37.706920Z",
     "start_time": "2020-05-12T22:58:37.702931Z"
    }
   },
   "outputs": [],
   "source": [
    "# Visualisation helper function\n",
    "def view_graph(G):\n",
    "    \"\"\"\n",
    "    View graph is a helper function that takes a graph G and plot its contents.\n",
    "    \"\"\"\n",
    "    \n",
    "    print(f'Nodes in graph: {G.nodes}')\n",
    "    print(f'Edges in graph: {G.edges}')\n",
    "    \n",
    "    # Create a visualisation using NetworkX and draw using matplotlib\n",
    "    pos = nx.spring_layout(G)\n",
    "    nx.draw(G, pos=pos, with_labels=True)\n",
    "    plt.show()"
   ]
  },
  {
   "cell_type": "markdown",
   "metadata": {},
   "source": [
    "### Add nodes to graph:\n",
    "\n",
    "#### The `.add_node()` method\n",
    "\n",
    "The `.add_node()` function is like a way of updating a dictionary for graphs. It takes a `key`, a name of your node, and this will be the `id` of your node. The example I'll use here is to add_node named `1`, but it could be anything like a string as well. "
   ]
  },
  {
   "cell_type": "code",
   "execution_count": 16,
   "metadata": {
    "ExecuteTime": {
     "end_time": "2020-05-12T22:58:38.440385Z",
     "start_time": "2020-05-12T22:58:38.437393Z"
    }
   },
   "outputs": [],
   "source": [
    "G.add_node(1)"
   ]
  },
  {
   "cell_type": "code",
   "execution_count": 17,
   "metadata": {
    "ExecuteTime": {
     "end_time": "2020-05-12T22:58:39.645145Z",
     "start_time": "2020-05-12T22:58:39.641155Z"
    }
   },
   "outputs": [
    {
     "data": {
      "text/plain": [
       "NodeView((1,))"
      ]
     },
     "execution_count": 17,
     "metadata": {},
     "output_type": "execute_result"
    }
   ],
   "source": [
    "G.nodes"
   ]
  },
  {
   "cell_type": "code",
   "execution_count": 18,
   "metadata": {
    "ExecuteTime": {
     "end_time": "2020-05-12T22:58:43.575092Z",
     "start_time": "2020-05-12T22:58:43.473335Z"
    },
    "slideshow": {
     "slide_type": "slide"
    }
   },
   "outputs": [
    {
     "name": "stdout",
     "output_type": "stream",
     "text": [
      "Nodes in graph: [1]\n",
      "Edges in graph: []\n"
     ]
    },
    {
     "data": {
      "image/png": "[encoded data removed]",
      "text/plain": [
       "<Figure size 432x288 with 1 Axes>"
      ]
     },
     "metadata": {},
     "output_type": "display_data"
    }
   ],
   "source": [
    "# visualizing it\n",
    "view_graph(G);"
   ]
  },
  {
   "cell_type": "markdown",
   "metadata": {},
   "source": [
    "#### The `add_nodes_from()` method\n",
    "\n",
    "The `add_nodes_from()` receives multiple nodes at a time and add all of them to your graph"
   ]
  },
  {
   "cell_type": "code",
   "execution_count": 19,
   "metadata": {
    "ExecuteTime": {
     "end_time": "2020-05-12T22:59:38.236946Z",
     "start_time": "2020-05-12T22:59:38.233982Z"
    },
    "slideshow": {
     "slide_type": "slide"
    }
   },
   "outputs": [],
   "source": [
    "G.add_nodes_from([2, 3])"
   ]
  },
  {
   "cell_type": "code",
   "execution_count": 20,
   "metadata": {
    "ExecuteTime": {
     "end_time": "2020-05-12T22:59:39.438748Z",
     "start_time": "2020-05-12T22:59:39.335026Z"
    }
   },
   "outputs": [
    {
     "name": "stdout",
     "output_type": "stream",
     "text": [
      "Nodes in graph: [1, 2, 3]\n",
      "Edges in graph: []\n"
     ]
    },
    {
     "data": {
      "image/png": "[encoded data removed]",
      "text/plain": [
       "<Figure size 432x288 with 1 Axes>"
      ]
     },
     "metadata": {},
     "output_type": "display_data"
    }
   ],
   "source": [
    "view_graph(G)"
   ]
  },
  {
   "cell_type": "markdown",
   "metadata": {
    "ExecuteTime": {
     "end_time": "2020-04-17T11:20:13.214437Z",
     "start_time": "2020-04-17T11:20:13.210473Z"
    }
   },
   "source": [
    "### Adding Edges to your graph\n",
    "\n",
    "#### The `add_edge()` method\n",
    "\n",
    "The `add_edge()` method is like the `add_node`, except you have to specify two nodes to connect them.\n",
    "\n",
    "The two nodes are usually called `u` and `v`, where `u` is the source node and `v` the target node. \n",
    "However, remember Graph is an instance of an `undirected graph`, which means the graph won't care about sources and targets, it will just put a line between them."
   ]
  },
  {
   "cell_type": "code",
   "execution_count": 21,
   "metadata": {
    "ExecuteTime": {
     "end_time": "2020-05-12T23:00:40.490150Z",
     "start_time": "2020-05-12T23:00:40.487132Z"
    },
    "slideshow": {
     "slide_type": "slide"
    }
   },
   "outputs": [],
   "source": [
    "G.add_edge(1, 2)"
   ]
  },
  {
   "cell_type": "code",
   "execution_count": 24,
   "metadata": {
    "ExecuteTime": {
     "end_time": "2020-05-12T23:00:52.131425Z",
     "start_time": "2020-05-12T23:00:52.026035Z"
    }
   },
   "outputs": [
    {
     "name": "stdout",
     "output_type": "stream",
     "text": [
      "Nodes in graph: [1, 2, 3]\n",
      "Edges in graph: [(1, 2)]\n"
     ]
    },
    {
     "data": {
      "image/png": "[encoded data removed]",
      "text/plain": [
       "<Figure size 432x288 with 1 Axes>"
      ]
     },
     "metadata": {},
     "output_type": "display_data"
    }
   ],
   "source": [
    "view_graph(G)"
   ]
  },
  {
   "cell_type": "markdown",
   "metadata": {},
   "source": [
    "#### The `add_edges_from()` method\n",
    "\n",
    "Just like `add_nodes_from` adds a bunch of nodes to your graph, you can do that too with edges."
   ]
  },
  {
   "cell_type": "code",
   "execution_count": 25,
   "metadata": {
    "ExecuteTime": {
     "end_time": "2020-05-12T23:01:46.610425Z",
     "start_time": "2020-05-12T23:01:46.606436Z"
    },
    "slideshow": {
     "slide_type": "slide"
    }
   },
   "outputs": [],
   "source": [
    "G.add_edges_from([(1, 3), (2, 3)])"
   ]
  },
  {
   "cell_type": "code",
   "execution_count": 26,
   "metadata": {
    "ExecuteTime": {
     "end_time": "2020-05-12T23:01:47.387007Z",
     "start_time": "2020-05-12T23:01:47.283285Z"
    }
   },
   "outputs": [
    {
     "name": "stdout",
     "output_type": "stream",
     "text": [
      "Nodes in graph: [1, 2, 3]\n",
      "Edges in graph: [(1, 2), (1, 3), (2, 3)]\n"
     ]
    },
    {
     "data": {
      "image/png": "[encoded data removed]",
      "text/plain": [
       "<Figure size 432x288 with 1 Axes>"
      ]
     },
     "metadata": {},
     "output_type": "display_data"
    }
   ],
   "source": [
    "view_graph(G)"
   ]
  },
  {
   "cell_type": "markdown",
   "metadata": {},
   "source": [
    "# Creating a simple example structure\n",
    "\n",
    "You can also specify the edges of your graph on the instance creation:"
   ]
  },
  {
   "cell_type": "code",
   "execution_count": null,
   "metadata": {},
   "outputs": [],
   "source": [
    "pd.DataFrame({'cpf_origem':np.random.randint(0,100, size=10),\n",
    "              'cpf_destino':np.random.randint(0,100, size=10),\n",
    "              'vlr':np.random.randint(0,100, size=10)})"
   ]
  },
  {
   "cell_type": "code",
   "execution_count": 27,
   "metadata": {
    "ExecuteTime": {
     "end_time": "2020-05-12T23:02:27.756569Z",
     "start_time": "2020-05-12T23:02:27.751582Z"
    }
   },
   "outputs": [
    {
     "data": {
      "text/plain": [
       "[('Arthur', 'Jenny'), ('Jenny', 'Chris'), ('Chris', 'Arthur')]"
      ]
     },
     "execution_count": 27,
     "metadata": {},
     "output_type": "execute_result"
    }
   ],
   "source": [
    "friends_connections = [('Arthur', 'Jenny'), \n",
    "                       ('Jenny', 'Chris'), \n",
    "                       ('Chris', 'Arthur')]\n",
    "\n",
    "friends_connections"
   ]
  },
  {
   "cell_type": "code",
   "execution_count": 28,
   "metadata": {
    "ExecuteTime": {
     "end_time": "2020-05-12T23:03:07.220061Z",
     "start_time": "2020-05-12T23:03:07.217069Z"
    },
    "slideshow": {
     "slide_type": "slide"
    }
   },
   "outputs": [],
   "source": [
    "friends = nx.Graph(friends_connections)"
   ]
  },
  {
   "cell_type": "code",
   "execution_count": 29,
   "metadata": {
    "ExecuteTime": {
     "end_time": "2020-05-12T23:03:08.119720Z",
     "start_time": "2020-05-12T23:03:08.115730Z"
    }
   },
   "outputs": [
    {
     "data": {
      "text/plain": [
       "NodeView(('Arthur', 'Jenny', 'Chris'))"
      ]
     },
     "execution_count": 29,
     "metadata": {},
     "output_type": "execute_result"
    }
   ],
   "source": [
    "friends.nodes"
   ]
  },
  {
   "cell_type": "code",
   "execution_count": 30,
   "metadata": {
    "ExecuteTime": {
     "end_time": "2020-05-12T23:03:19.379404Z",
     "start_time": "2020-05-12T23:03:19.375415Z"
    }
   },
   "outputs": [
    {
     "data": {
      "text/plain": [
       "EdgeView([('Arthur', 'Jenny'), ('Arthur', 'Chris'), ('Jenny', 'Chris')])"
      ]
     },
     "execution_count": 30,
     "metadata": {},
     "output_type": "execute_result"
    }
   ],
   "source": [
    "friends.edges"
   ]
  },
  {
   "cell_type": "code",
   "execution_count": 31,
   "metadata": {
    "ExecuteTime": {
     "end_time": "2020-05-12T23:03:22.830287Z",
     "start_time": "2020-05-12T23:03:22.724570Z"
    }
   },
   "outputs": [
    {
     "name": "stdout",
     "output_type": "stream",
     "text": [
      "Nodes in graph: ['Arthur', 'Jenny', 'Chris']\n",
      "Edges in graph: [('Arthur', 'Jenny'), ('Arthur', 'Chris'), ('Jenny', 'Chris')]\n"
     ]
    },
    {
     "data": {
      "image/png": "[encoded data removed]",
      "text/plain": [
       "<Figure size 432x288 with 1 Axes>"
      ]
     },
     "metadata": {},
     "output_type": "display_data"
    }
   ],
   "source": [
    "view_graph(friends)"
   ]
  },
  {
   "cell_type": "markdown",
   "metadata": {},
   "source": [
    "## Graph's `.neighbors()` method.\n",
    "\n",
    "The method `.neighbors()` returns an iterator - it means you have to transform it into a list to view the resulting neighbours of a node. "
   ]
  },
  {
   "cell_type": "code",
   "execution_count": 32,
   "metadata": {
    "ExecuteTime": {
     "end_time": "2020-05-12T23:04:25.310164Z",
     "start_time": "2020-05-12T23:04:25.306174Z"
    },
    "slideshow": {
     "slide_type": "slide"
    }
   },
   "outputs": [
    {
     "data": {
      "text/plain": [
       "['Jenny', 'Chris']"
      ]
     },
     "execution_count": 32,
     "metadata": {},
     "output_type": "execute_result"
    }
   ],
   "source": [
    "list(friends.neighbors('Arthur'))"
   ]
  },
  {
   "cell_type": "markdown",
   "metadata": {},
   "source": [
    "## Degree of a node\n",
    "\n",
    "An important concept in graphs is the degree of a node. Usually, you are interested in the relevance of that node to your structure, and the most simple relevance metric is the degree of a node, which is just how many neighbours (or <b>connections</b>) it has."
   ]
  },
  {
   "cell_type": "code",
   "execution_count": 33,
   "metadata": {
    "ExecuteTime": {
     "end_time": "2020-05-12T23:04:55.927844Z",
     "start_time": "2020-05-12T23:04:55.923855Z"
    }
   },
   "outputs": [
    {
     "data": {
      "text/plain": [
       "2"
      ]
     },
     "execution_count": 33,
     "metadata": {},
     "output_type": "execute_result"
    }
   ],
   "source": [
    "len(list(friends.neighbors('Arthur')))"
   ]
  },
  {
   "cell_type": "markdown",
   "metadata": {},
   "source": [
    "Of course there's already something that does that automatically for you. In this case it is a property of a graph called `.degree`. Just as a curiosity: a property is like an attribute, but under the hood it runs a method."
   ]
  },
  {
   "cell_type": "code",
   "execution_count": 34,
   "metadata": {
    "ExecuteTime": {
     "end_time": "2020-05-12T23:04:59.490794Z",
     "start_time": "2020-05-12T23:04:59.487775Z"
    }
   },
   "outputs": [
    {
     "data": {
      "text/plain": [
       "DegreeView({'Arthur': 2, 'Jenny': 2, 'Chris': 2})"
      ]
     },
     "execution_count": 34,
     "metadata": {},
     "output_type": "execute_result"
    }
   ],
   "source": [
    "friends.degree"
   ]
  },
  {
   "cell_type": "code",
   "execution_count": 35,
   "metadata": {
    "ExecuteTime": {
     "end_time": "2020-05-12T23:05:14.241568Z",
     "start_time": "2020-05-12T23:05:14.236581Z"
    }
   },
   "outputs": [
    {
     "data": {
      "text/plain": [
       "2"
      ]
     },
     "execution_count": 35,
     "metadata": {},
     "output_type": "execute_result"
    }
   ],
   "source": [
    "friends.degree['Arthur']"
   ]
  },
  {
   "cell_type": "markdown",
   "metadata": {},
   "source": [
    "## Removing nodes\n",
    "\n",
    "You can remove nodes using the `.remove_node()` method."
   ]
  },
  {
   "cell_type": "code",
   "execution_count": 36,
   "metadata": {
    "ExecuteTime": {
     "end_time": "2020-05-12T23:06:03.516281Z",
     "start_time": "2020-05-12T23:06:03.513288Z"
    },
    "slideshow": {
     "slide_type": "slide"
    }
   },
   "outputs": [],
   "source": [
    "friends.remove_node('Arthur')"
   ]
  },
  {
   "cell_type": "code",
   "execution_count": 37,
   "metadata": {
    "ExecuteTime": {
     "end_time": "2020-05-12T23:06:06.219094Z",
     "start_time": "2020-05-12T23:06:06.215105Z"
    }
   },
   "outputs": [
    {
     "data": {
      "text/plain": [
       "DegreeView({'Jenny': 1, 'Chris': 1})"
      ]
     },
     "execution_count": 37,
     "metadata": {},
     "output_type": "execute_result"
    }
   ],
   "source": [
    "friends.degree"
   ]
  },
  {
   "cell_type": "code",
   "execution_count": 38,
   "metadata": {
    "ExecuteTime": {
     "end_time": "2020-05-12T23:06:10.950477Z",
     "start_time": "2020-05-12T23:06:10.850380Z"
    }
   },
   "outputs": [
    {
     "name": "stdout",
     "output_type": "stream",
     "text": [
      "Nodes in graph: ['Jenny', 'Chris']\n",
      "Edges in graph: [('Jenny', 'Chris')]\n"
     ]
    },
    {
     "data": {
      "image/png": "[encoded data removed]",
      "text/plain": [
       "<Figure size 432x288 with 1 Axes>"
      ]
     },
     "metadata": {},
     "output_type": "display_data"
    }
   ],
   "source": [
    "view_graph(friends)"
   ]
  },
  {
   "cell_type": "markdown",
   "metadata": {},
   "source": [
    "## Removing edges\n",
    "\n",
    "You can remove connections with the `remove_edge()` method. You have to specify again both `u` and `v` nodes."
   ]
  },
  {
   "cell_type": "code",
   "execution_count": 39,
   "metadata": {
    "ExecuteTime": {
     "end_time": "2020-05-12T23:06:29.702809Z",
     "start_time": "2020-05-12T23:06:29.600083Z"
    },
    "slideshow": {
     "slide_type": "slide"
    }
   },
   "outputs": [
    {
     "name": "stdout",
     "output_type": "stream",
     "text": [
      "Nodes in graph: ['Jenny', 'Chris']\n",
      "Edges in graph: []\n"
     ]
    },
    {
     "data": {
      "image/png": "[encoded data removed]",
      "text/plain": [
       "<Figure size 432x288 with 1 Axes>"
      ]
     },
     "metadata": {},
     "output_type": "display_data"
    }
   ],
   "source": [
    "friends.remove_edge('Chris',  'Jenny')\n",
    "view_graph(friends)"
   ]
  },
  {
   "cell_type": "markdown",
   "metadata": {},
   "source": [
    "# Another example"
   ]
  },
  {
   "cell_type": "markdown",
   "metadata": {},
   "source": [
    "## Another helper function to visualize the next example more closely."
   ]
  },
  {
   "cell_type": "code",
   "execution_count": 40,
   "metadata": {
    "ExecuteTime": {
     "end_time": "2020-05-12T23:06:44.924182Z",
     "start_time": "2020-05-12T23:06:44.917202Z"
    }
   },
   "outputs": [],
   "source": [
    "# Visualisation helper function\n",
    "def view_graph(G):\n",
    "    \"\"\"\n",
    "    View graph is a helper function that takes a graph G and plot its contents.\n",
    "    \n",
    "    This is specific for the uk_places graph below. \n",
    "    It takes its attribute and plot their labels.\n",
    "    \"\"\"\n",
    "    \n",
    "    print(f'Nodes in graph: {G.nodes}')\n",
    "    print(f'Edges in graph: {G.edges}')\n",
    "    \n",
    "    # Create a visualisation using NetworkX and draw using matplotlib\n",
    "    pos = nx.spring_layout(G)   \n",
    "    \n",
    "    # Extract node attributes and display them as labels\n",
    "    if len(nx.get_node_attributes(G, 'population')) != 0:\n",
    "        labels = {key: f'{key} : {str(value)}' for (key, value) in nx.get_node_attributes(G, 'population').items()}\n",
    "        \n",
    "        nx.draw(G, pos=pos, with_labels=True, labels=labels)\n",
    "    else:\n",
    "        nx.draw(G, pos=pos, with_labels=True)\n",
    "    # Extract edge attributes and display them as labels    \n",
    "    if len(nx.get_edge_attributes(G,'distance')) != 0:\n",
    "        edge_labels = nx.get_edge_attributes(G, 'distance')\n",
    "        nx.draw_networkx_edge_labels(G, pos=pos, labels = edge_labels)\n",
    "    plt.figure(figsize=(12,12)) \n",
    "    plt.show()"
   ]
  },
  {
   "cell_type": "markdown",
   "metadata": {},
   "source": [
    "## Directed Graphs - DiGraph\n",
    "\n",
    "Using `Digraph` class from networkx, you can create directed graphs. This means that the order now matters, the first node in a description of an edge is the `source node` and the last node is the `target node`. It is represented graphically via an arrow pointing from source to target."
   ]
  },
  {
   "cell_type": "code",
   "execution_count": 41,
   "metadata": {
    "ExecuteTime": {
     "end_time": "2020-05-12T23:08:15.258541Z",
     "start_time": "2020-05-12T23:08:15.254550Z"
    },
    "slideshow": {
     "slide_type": "slide"
    }
   },
   "outputs": [],
   "source": [
    "roads = [('London', 'Manchester'), \n",
    "         ('Manchester', 'Leeds'), \n",
    "         ('London', 'Leeds')]\n",
    "\n",
    "uk_places = nx.DiGraph(roads)"
   ]
  },
  {
   "cell_type": "code",
   "execution_count": 42,
   "metadata": {
    "ExecuteTime": {
     "end_time": "2020-05-12T23:08:15.798446Z",
     "start_time": "2020-05-12T23:08:15.683752Z"
    }
   },
   "outputs": [
    {
     "name": "stdout",
     "output_type": "stream",
     "text": [
      "Nodes in graph: ['London', 'Manchester', 'Leeds']\n",
      "Edges in graph: [('London', 'Manchester'), ('London', 'Leeds'), ('Manchester', 'Leeds')]\n"
     ]
    },
    {
     "data": {
      "image/png": "[encoded data removed]",
      "text/plain": [
       "<Figure size 432x288 with 1 Axes>"
      ]
     },
     "metadata": {},
     "output_type": "display_data"
    },
    {
     "data": {
      "text/plain": [
       "<Figure size 864x864 with 0 Axes>"
      ]
     },
     "metadata": {},
     "output_type": "display_data"
    }
   ],
   "source": [
    "view_graph(uk_places)"
   ]
  },
  {
   "cell_type": "code",
   "execution_count": 43,
   "metadata": {
    "ExecuteTime": {
     "end_time": "2020-05-12T23:08:46.988863Z",
     "start_time": "2020-05-12T23:08:46.983876Z"
    }
   },
   "outputs": [
    {
     "data": {
      "text/plain": [
       "DiDegreeView({'London': 2, 'Manchester': 2, 'Leeds': 2})"
      ]
     },
     "execution_count": 43,
     "metadata": {},
     "output_type": "execute_result"
    }
   ],
   "source": [
    "uk_places.degree"
   ]
  },
  {
   "cell_type": "markdown",
   "metadata": {},
   "source": [
    "## Directed Graph features: successors and predecessors"
   ]
  },
  {
   "cell_type": "code",
   "execution_count": 44,
   "metadata": {
    "ExecuteTime": {
     "end_time": "2020-05-12T23:09:12.121907Z",
     "start_time": "2020-05-12T23:09:12.116890Z"
    }
   },
   "outputs": [
    {
     "data": {
      "text/plain": [
       "['Manchester', 'Leeds']"
      ]
     },
     "execution_count": 44,
     "metadata": {},
     "output_type": "execute_result"
    }
   ],
   "source": [
    "# from London, you can go both to Manchester or Leeds\n",
    "list(uk_places.successors('London'))"
   ]
  },
  {
   "cell_type": "code",
   "execution_count": 45,
   "metadata": {
    "ExecuteTime": {
     "end_time": "2020-05-12T23:09:26.752437Z",
     "start_time": "2020-05-12T23:09:26.748421Z"
    }
   },
   "outputs": [
    {
     "data": {
      "text/plain": [
       "['Leeds']"
      ]
     },
     "execution_count": 45,
     "metadata": {},
     "output_type": "execute_result"
    }
   ],
   "source": [
    "list(uk_places.successors('Manchester'))"
   ]
  },
  {
   "cell_type": "code",
   "execution_count": 46,
   "metadata": {
    "ExecuteTime": {
     "end_time": "2020-05-12T23:09:39.406170Z",
     "start_time": "2020-05-12T23:09:39.402182Z"
    }
   },
   "outputs": [
    {
     "data": {
      "text/plain": [
       "['London']"
      ]
     },
     "execution_count": 46,
     "metadata": {},
     "output_type": "execute_result"
    }
   ],
   "source": [
    "# you can only go to Manchester from London\n",
    "list(uk_places.predecessors('Manchester'))"
   ]
  },
  {
   "cell_type": "code",
   "execution_count": 47,
   "metadata": {
    "ExecuteTime": {
     "end_time": "2020-05-12T23:09:48.943947Z",
     "start_time": "2020-05-12T23:09:48.939958Z"
    },
    "slideshow": {
     "slide_type": "slide"
    }
   },
   "outputs": [
    {
     "data": {
      "text/plain": [
       "[]"
      ]
     },
     "execution_count": 47,
     "metadata": {},
     "output_type": "execute_result"
    }
   ],
   "source": [
    "# there's no way to go to London:\n",
    "list(uk_places.predecessors('London'))"
   ]
  },
  {
   "cell_type": "markdown",
   "metadata": {},
   "source": [
    "## Subgraphs\n",
    "\n",
    "The `.subgraphs()` method creates a subset of your whole graph."
   ]
  },
  {
   "cell_type": "code",
   "execution_count": 48,
   "metadata": {
    "ExecuteTime": {
     "end_time": "2020-05-12T23:10:51.090375Z",
     "start_time": "2020-05-12T23:10:51.086386Z"
    },
    "slideshow": {
     "slide_type": "slide"
    }
   },
   "outputs": [],
   "source": [
    "subgraph = uk_places.subgraph(['London', 'Manchester'])"
   ]
  },
  {
   "cell_type": "code",
   "execution_count": 49,
   "metadata": {
    "ExecuteTime": {
     "end_time": "2020-05-12T23:10:53.425854Z",
     "start_time": "2020-05-12T23:10:53.313155Z"
    }
   },
   "outputs": [
    {
     "name": "stdout",
     "output_type": "stream",
     "text": [
      "Nodes in graph: ['London', 'Manchester']\n",
      "Edges in graph: [('London', 'Manchester')]\n"
     ]
    },
    {
     "data": {
      "image/png": "[encoded data removed]",
      "text/plain": [
       "<Figure size 432x288 with 1 Axes>"
      ]
     },
     "metadata": {},
     "output_type": "display_data"
    },
    {
     "data": {
      "text/plain": [
       "<Figure size 864x864 with 0 Axes>"
      ]
     },
     "metadata": {},
     "output_type": "display_data"
    }
   ],
   "source": [
    "view_graph(subgraph)"
   ]
  },
  {
   "cell_type": "code",
   "execution_count": 50,
   "metadata": {
    "ExecuteTime": {
     "end_time": "2020-05-12T23:11:33.750947Z",
     "start_time": "2020-05-12T23:11:33.746957Z"
    }
   },
   "outputs": [
    {
     "data": {
      "text/plain": [
       "DiDegreeView({'London': 2, 'Manchester': 2, 'Leeds': 2})"
      ]
     },
     "execution_count": 50,
     "metadata": {},
     "output_type": "execute_result"
    }
   ],
   "source": [
    "uk_places.degree"
   ]
  },
  {
   "cell_type": "markdown",
   "metadata": {},
   "source": [
    "## Degrees\n",
    "\n",
    "Along with the measure of degrees (how many nodes a node is connected to), comes the notion of `in_degree` and `out_degree`"
   ]
  },
  {
   "cell_type": "code",
   "execution_count": 51,
   "metadata": {
    "ExecuteTime": {
     "end_time": "2020-05-12T23:12:09.285291Z",
     "start_time": "2020-05-12T23:12:09.281302Z"
    }
   },
   "outputs": [
    {
     "data": {
      "text/plain": [
       "InDegreeView({'London': 0, 'Manchester': 1, 'Leeds': 2})"
      ]
     },
     "execution_count": 51,
     "metadata": {},
     "output_type": "execute_result"
    }
   ],
   "source": [
    "uk_places.in_degree"
   ]
  },
  {
   "cell_type": "code",
   "execution_count": 52,
   "metadata": {
    "ExecuteTime": {
     "end_time": "2020-05-12T23:12:12.931588Z",
     "start_time": "2020-05-12T23:12:12.927599Z"
    },
    "slideshow": {
     "slide_type": "slide"
    }
   },
   "outputs": [
    {
     "data": {
      "text/plain": [
       "[('London', 0), ('Manchester', 1), ('Leeds', 2)]"
      ]
     },
     "execution_count": 52,
     "metadata": {},
     "output_type": "execute_result"
    }
   ],
   "source": [
    "list(uk_places.in_degree)"
   ]
  },
  {
   "cell_type": "code",
   "execution_count": 53,
   "metadata": {
    "ExecuteTime": {
     "end_time": "2020-05-12T23:12:51.649442Z",
     "start_time": "2020-05-12T23:12:51.645482Z"
    }
   },
   "outputs": [
    {
     "data": {
      "text/plain": [
       "[('London', 2), ('Manchester', 1), ('Leeds', 0)]"
      ]
     },
     "execution_count": 53,
     "metadata": {},
     "output_type": "execute_result"
    }
   ],
   "source": [
    "list(uk_places.out_degree)"
   ]
  },
  {
   "cell_type": "code",
   "execution_count": 55,
   "metadata": {
    "ExecuteTime": {
     "end_time": "2020-05-12T23:13:19.959229Z",
     "start_time": "2020-05-12T23:13:19.955241Z"
    },
    "slideshow": {
     "slide_type": "slide"
    }
   },
   "outputs": [
    {
     "data": {
      "text/plain": [
       "OutDegreeView({'Manchester': 1})"
      ]
     },
     "execution_count": 55,
     "metadata": {},
     "output_type": "execute_result"
    }
   ],
   "source": [
    "uk_places.out_degree(['Manchester'])"
   ]
  },
  {
   "cell_type": "code",
   "execution_count": 56,
   "metadata": {
    "ExecuteTime": {
     "end_time": "2020-05-12T23:13:21.478736Z",
     "start_time": "2020-05-12T23:13:21.474746Z"
    }
   },
   "outputs": [
    {
     "data": {
      "text/plain": [
       "1"
      ]
     },
     "execution_count": 56,
     "metadata": {},
     "output_type": "execute_result"
    }
   ],
   "source": [
    "uk_places.out_degree()['Manchester']"
   ]
  },
  {
   "cell_type": "markdown",
   "metadata": {},
   "source": [
    "# Adding information to your graph"
   ]
  },
  {
   "cell_type": "markdown",
   "metadata": {},
   "source": [
    "## Adding features to a node\n",
    "\n",
    "You can recall that we can obtain a node from our graph using `.nodes` attribute"
   ]
  },
  {
   "cell_type": "code",
   "execution_count": 57,
   "metadata": {
    "ExecuteTime": {
     "end_time": "2020-05-12T23:14:20.585341Z",
     "start_time": "2020-05-12T23:14:20.581325Z"
    }
   },
   "outputs": [
    {
     "data": {
      "text/plain": [
       "NodeView(('London', 'Manchester', 'Leeds'))"
      ]
     },
     "execution_count": 57,
     "metadata": {},
     "output_type": "execute_result"
    }
   ],
   "source": [
    "uk_places.nodes"
   ]
  },
  {
   "cell_type": "markdown",
   "metadata": {
    "ExecuteTime": {
     "end_time": "2020-04-17T11:42:36.265487Z",
     "start_time": "2020-04-17T11:42:36.262490Z"
    }
   },
   "source": [
    "Inside a node, you can see the `node's attribute`. By now, there are none, of course. For example, for `London`"
   ]
  },
  {
   "cell_type": "code",
   "execution_count": 59,
   "metadata": {
    "ExecuteTime": {
     "end_time": "2020-05-12T23:15:13.878897Z",
     "start_time": "2020-05-12T23:15:13.874908Z"
    }
   },
   "outputs": [],
   "source": [
    "uk_places.nodes['London'].update({'population': 100})"
   ]
  },
  {
   "cell_type": "markdown",
   "metadata": {},
   "source": [
    "But it is, thus, like a dictionary that we can add information to:"
   ]
  },
  {
   "cell_type": "code",
   "execution_count": 63,
   "metadata": {
    "ExecuteTime": {
     "end_time": "2020-05-12T23:15:43.715232Z",
     "start_time": "2020-05-12T23:15:43.712240Z"
    },
    "slideshow": {
     "slide_type": "slide"
    }
   },
   "outputs": [],
   "source": [
    "uk_places.nodes['London']['population'] = 8000000\n",
    "uk_places.nodes['Manchester']['population'] = 500000\n",
    "uk_places.nodes['Leeds']['population'] = 470000"
   ]
  },
  {
   "cell_type": "code",
   "execution_count": 68,
   "metadata": {
    "ExecuteTime": {
     "end_time": "2020-05-12T23:16:34.657870Z",
     "start_time": "2020-05-12T23:16:34.653882Z"
    }
   },
   "outputs": [],
   "source": [
    "uk_places.nodes['London']['population'] = 8000000\n",
    "uk_places.nodes['Manchester']['population'] = 500000\n",
    "uk_places.nodes['Leeds']['population'] = 470000"
   ]
  },
  {
   "cell_type": "code",
   "execution_count": 69,
   "metadata": {
    "ExecuteTime": {
     "end_time": "2020-05-12T23:16:36.271155Z",
     "start_time": "2020-05-12T23:16:36.267167Z"
    }
   },
   "outputs": [
    {
     "data": {
      "text/plain": [
       "{'population': 8000000}"
      ]
     },
     "execution_count": 69,
     "metadata": {},
     "output_type": "execute_result"
    }
   ],
   "source": [
    "uk_places.nodes['London']"
   ]
  },
  {
   "cell_type": "code",
   "execution_count": 70,
   "metadata": {
    "ExecuteTime": {
     "end_time": "2020-05-12T23:16:36.856759Z",
     "start_time": "2020-05-12T23:16:36.743039Z"
    }
   },
   "outputs": [
    {
     "name": "stdout",
     "output_type": "stream",
     "text": [
      "Nodes in graph: ['London', 'Manchester', 'Leeds']\n",
      "Edges in graph: [('London', 'Manchester'), ('London', 'Leeds'), ('Manchester', 'Leeds')]\n"
     ]
    },
    {
     "data": {
      "image/png": "[encoded data removed]",
      "text/plain": [
       "<Figure size 432x288 with 1 Axes>"
      ]
     },
     "metadata": {},
     "output_type": "display_data"
    },
    {
     "data": {
      "text/plain": [
       "<Figure size 864x864 with 0 Axes>"
      ]
     },
     "metadata": {},
     "output_type": "display_data"
    }
   ],
   "source": [
    "view_graph(uk_places)"
   ]
  },
  {
   "cell_type": "markdown",
   "metadata": {},
   "source": [
    "# Adding features to edges\n",
    "\n",
    "The edges attribute is also like a dictionary, but remember, the `key` of an edge is the pair of `source node` and `target node` (`u`, `v`)"
   ]
  },
  {
   "cell_type": "code",
   "execution_count": 71,
   "metadata": {
    "ExecuteTime": {
     "end_time": "2020-05-12T23:17:14.236416Z",
     "start_time": "2020-05-12T23:17:14.232427Z"
    }
   },
   "outputs": [
    {
     "data": {
      "text/plain": [
       "{'population': 8000000}"
      ]
     },
     "execution_count": 71,
     "metadata": {},
     "output_type": "execute_result"
    }
   ],
   "source": [
    "uk_places.nodes['London']"
   ]
  },
  {
   "cell_type": "code",
   "execution_count": 72,
   "metadata": {
    "ExecuteTime": {
     "end_time": "2020-05-12T23:17:21.275771Z",
     "start_time": "2020-05-12T23:17:21.270785Z"
    }
   },
   "outputs": [
    {
     "data": {
      "text/plain": [
       "OutEdgeView([('London', 'Manchester'), ('London', 'Leeds'), ('Manchester', 'Leeds')])"
      ]
     },
     "execution_count": 72,
     "metadata": {},
     "output_type": "execute_result"
    }
   ],
   "source": [
    "uk_places.edges"
   ]
  },
  {
   "cell_type": "code",
   "execution_count": 73,
   "metadata": {
    "ExecuteTime": {
     "end_time": "2020-05-12T23:17:44.294265Z",
     "start_time": "2020-05-12T23:17:44.290275Z"
    }
   },
   "outputs": [
    {
     "data": {
      "text/plain": [
       "{}"
      ]
     },
     "execution_count": 73,
     "metadata": {},
     "output_type": "execute_result"
    }
   ],
   "source": [
    "uk_places.edges[('London', 'Manchester')]"
   ]
  },
  {
   "cell_type": "code",
   "execution_count": 76,
   "metadata": {
    "ExecuteTime": {
     "end_time": "2020-05-12T23:18:17.653118Z",
     "start_time": "2020-05-12T23:18:17.649129Z"
    }
   },
   "outputs": [
    {
     "data": {
      "text/plain": [
       "{}"
      ]
     },
     "execution_count": 76,
     "metadata": {},
     "output_type": "execute_result"
    }
   ],
   "source": [
    "# of course it is empty for now\n",
    "uk_places.edges['London', 'Leeds']"
   ]
  },
  {
   "cell_type": "code",
   "execution_count": 77,
   "metadata": {
    "ExecuteTime": {
     "end_time": "2020-05-12T23:18:48.767434Z",
     "start_time": "2020-05-12T23:18:48.635813Z"
    },
    "slideshow": {
     "slide_type": "slide"
    }
   },
   "outputs": [
    {
     "name": "stdout",
     "output_type": "stream",
     "text": [
      "Nodes in graph: ['London', 'Manchester', 'Leeds']\n",
      "Edges in graph: [('London', 'Manchester'), ('London', 'Leeds'), ('Manchester', 'Leeds')]\n"
     ]
    },
    {
     "data": {
      "image/png": "[encoded data removed]",
      "text/plain": [
       "<Figure size 432x288 with 1 Axes>"
      ]
     },
     "metadata": {},
     "output_type": "display_data"
    },
    {
     "data": {
      "text/plain": [
       "<Figure size 864x864 with 0 Axes>"
      ]
     },
     "metadata": {},
     "output_type": "display_data"
    }
   ],
   "source": [
    "# but we can add anything again, like a dictionary.\n",
    "uk_places.edges['London', 'Leeds']['distance'] = 195\n",
    "uk_places.edges['London', 'Manchester']['distance'] = 208\n",
    "uk_places.edges['Manchester', 'Leeds']['distance'] = 45\n",
    "\n",
    "view_graph(uk_places)"
   ]
  },
  {
   "cell_type": "markdown",
   "metadata": {},
   "source": [
    "## Setting node attributes all together:\n",
    "\n",
    "The methods `nx.set_node_attributes( your_graph, node_json )` and `nx.set_edge_attributes( your_graph, edge_json )` do it all together:"
   ]
  },
  {
   "cell_type": "code",
   "execution_count": 78,
   "metadata": {
    "ExecuteTime": {
     "end_time": "2020-05-12T23:20:33.093770Z",
     "start_time": "2020-05-12T23:20:33.089808Z"
    },
    "slideshow": {
     "slide_type": "slide"
    }
   },
   "outputs": [],
   "source": [
    "# see it is a dictionary of dictionaries, containing the key node: {attributtes dictionary}\n",
    "node_attributes = {'London': {'population': 4000000, 'money':10000},\n",
    "                   'Manchester': {'population': 200000},\n",
    "                   'Leeds': {'population': 970000}\n",
    "                  }\n",
    "\n",
    "nx.set_node_attributes(uk_places, node_attributes)"
   ]
  },
  {
   "cell_type": "code",
   "execution_count": 79,
   "metadata": {
    "ExecuteTime": {
     "end_time": "2020-05-12T23:20:33.385886Z",
     "start_time": "2020-05-12T23:20:33.380924Z"
    }
   },
   "outputs": [],
   "source": [
    "edge_attributes = {('London', 'Leeds'): {'distance': 295},\n",
    "                   ('London', 'Manchester'): {'distance': 508},\n",
    "                   ('Manchester', 'Leeds'): {'distance': 450},\n",
    "        }\n",
    "\n",
    "nx.set_edge_attributes(uk_places, edge_attributes)"
   ]
  },
  {
   "cell_type": "code",
   "execution_count": 80,
   "metadata": {
    "ExecuteTime": {
     "end_time": "2020-05-12T23:20:34.127845Z",
     "start_time": "2020-05-12T23:20:34.007167Z"
    }
   },
   "outputs": [
    {
     "name": "stdout",
     "output_type": "stream",
     "text": [
      "Nodes in graph: ['London', 'Manchester', 'Leeds']\n",
      "Edges in graph: [('London', 'Manchester'), ('London', 'Leeds'), ('Manchester', 'Leeds')]\n"
     ]
    },
    {
     "data": {
      "image/png": "[encoded data removed]",
      "text/plain": [
       "<Figure size 432x288 with 1 Axes>"
      ]
     },
     "metadata": {},
     "output_type": "display_data"
    },
    {
     "data": {
      "text/plain": [
       "<Figure size 864x864 with 0 Axes>"
      ]
     },
     "metadata": {},
     "output_type": "display_data"
    }
   ],
   "source": [
    "view_graph(uk_places)"
   ]
  }
 ],
 "metadata": {
  "kernelspec": {
   "display_name": "Python 3",
   "language": "python",
   "name": "python3"
  },
  "language_info": {
   "codemirror_mode": {
    "name": "ipython",
    "version": 3
   },
   "file_extension": ".py",
   "mimetype": "text/x-python",
   "name": "python",
   "nbconvert_exporter": "python",
   "pygments_lexer": "ipython3",
   "version": "3.7.3"
  },
  "livereveal": {
   "transition": "zoomy"
  },
  "toc": {
   "base_numbering": 1,
   "nav_menu": {},
   "number_sections": true,
   "sideBar": true,
   "skip_h1_title": false,
   "title_cell": "Table of Contents",
   "title_sidebar": "Contents",
   "toc_cell": false,
   "toc_position": {},
   "toc_section_display": true,
   "toc_window_display": false
  }
 },
 "nbformat": 4,
 "nbformat_minor": 2
}
