{
 "cells": [
  {
   "cell_type": "code",
   "execution_count": 15,
   "metadata": {
    "ExecuteTime": {
     "end_time": "2020-05-12T23:26:05.986730Z",
     "start_time": "2020-05-12T23:26:05.983738Z"
    },
    "collapsed": true
   },
   "outputs": [],
   "source": [
    "import pandas as pd\n",
    "import matplotlib.pyplot as plt\n",
    "import numpy as np"
   ]
  },
  {
   "cell_type": "markdown",
   "metadata": {},
   "source": [
    "# Centrality Measures"
   ]
  },
  {
   "cell_type": "code",
   "execution_count": 16,
   "metadata": {
    "ExecuteTime": {
     "end_time": "2020-05-12T23:26:44.673954Z",
     "start_time": "2020-05-12T23:26:06.324883Z"
    },
    "collapsed": true
   },
   "outputs": [],
   "source": [
    "import pandas as pd\n",
    "df = pd.read_csv('https://raw.githubusercontent.com/rfordatascience/tidytuesday/master/data/2019/2019-02-26/small_trains.csv')"
   ]
  },
  {
   "cell_type": "code",
   "execution_count": 56,
   "metadata": {
    "ExecuteTime": {
     "end_time": "2020-05-12T23:29:43.492755Z",
     "start_time": "2020-05-12T23:29:43.480787Z"
    }
   },
   "outputs": [
    {
     "data": {
      "text/html": [
       "<div>\n",
       "<style scoped>\n",
       "    .dataframe tbody tr th:only-of-type {\n",
       "        vertical-align: middle;\n",
       "    }\n",
       "\n",
       "    .dataframe tbody tr th {\n",
       "        vertical-align: top;\n",
       "    }\n",
       "\n",
       "    .dataframe thead th {\n",
       "        text-align: right;\n",
       "    }\n",
       "</style>\n",
       "<table border=\"1\" class=\"dataframe\">\n",
       "  <thead>\n",
       "    <tr style=\"text-align: right;\">\n",
       "      <th></th>\n",
       "      <th>year</th>\n",
       "      <th>month</th>\n",
       "      <th>service</th>\n",
       "      <th>departure_station</th>\n",
       "      <th>arrival_station</th>\n",
       "      <th>journey_time_avg</th>\n",
       "      <th>total_num_trips</th>\n",
       "      <th>avg_delay_all_departing</th>\n",
       "      <th>avg_delay_all_arriving</th>\n",
       "      <th>num_late_at_departure</th>\n",
       "      <th>num_arriving_late</th>\n",
       "      <th>delay_cause</th>\n",
       "      <th>delayed_number</th>\n",
       "    </tr>\n",
       "  </thead>\n",
       "  <tbody>\n",
       "    <tr>\n",
       "      <th>0</th>\n",
       "      <td>2017</td>\n",
       "      <td>9</td>\n",
       "      <td>National</td>\n",
       "      <td>PARIS EST</td>\n",
       "      <td>METZ</td>\n",
       "      <td>85.133779</td>\n",
       "      <td>299</td>\n",
       "      <td>0.752007</td>\n",
       "      <td>0.419844</td>\n",
       "      <td>15</td>\n",
       "      <td>17.0</td>\n",
       "      <td>delay_cause_external_cause</td>\n",
       "      <td>0.250000</td>\n",
       "    </tr>\n",
       "    <tr>\n",
       "      <th>1</th>\n",
       "      <td>2017</td>\n",
       "      <td>9</td>\n",
       "      <td>National</td>\n",
       "      <td>REIMS</td>\n",
       "      <td>PARIS EST</td>\n",
       "      <td>47.064516</td>\n",
       "      <td>218</td>\n",
       "      <td>1.263518</td>\n",
       "      <td>1.137558</td>\n",
       "      <td>10</td>\n",
       "      <td>23.0</td>\n",
       "      <td>delay_cause_external_cause</td>\n",
       "      <td>0.250000</td>\n",
       "    </tr>\n",
       "    <tr>\n",
       "      <th>2</th>\n",
       "      <td>2017</td>\n",
       "      <td>9</td>\n",
       "      <td>National</td>\n",
       "      <td>PARIS EST</td>\n",
       "      <td>STRASBOURG</td>\n",
       "      <td>116.234940</td>\n",
       "      <td>333</td>\n",
       "      <td>1.139257</td>\n",
       "      <td>1.586396</td>\n",
       "      <td>20</td>\n",
       "      <td>19.0</td>\n",
       "      <td>delay_cause_external_cause</td>\n",
       "      <td>0.214286</td>\n",
       "    </tr>\n",
       "    <tr>\n",
       "      <th>3</th>\n",
       "      <td>2017</td>\n",
       "      <td>9</td>\n",
       "      <td>National</td>\n",
       "      <td>PARIS LYON</td>\n",
       "      <td>AVIGNON TGV</td>\n",
       "      <td>161.089583</td>\n",
       "      <td>481</td>\n",
       "      <td>1.406215</td>\n",
       "      <td>4.788542</td>\n",
       "      <td>36</td>\n",
       "      <td>61.0</td>\n",
       "      <td>delay_cause_external_cause</td>\n",
       "      <td>0.155172</td>\n",
       "    </tr>\n",
       "    <tr>\n",
       "      <th>4</th>\n",
       "      <td>2017</td>\n",
       "      <td>9</td>\n",
       "      <td>National</td>\n",
       "      <td>PARIS LYON</td>\n",
       "      <td>BELLEGARDE (AIN)</td>\n",
       "      <td>164.452632</td>\n",
       "      <td>190</td>\n",
       "      <td>1.728947</td>\n",
       "      <td>6.008860</td>\n",
       "      <td>16</td>\n",
       "      <td>38.0</td>\n",
       "      <td>delay_cause_external_cause</td>\n",
       "      <td>0.166667</td>\n",
       "    </tr>\n",
       "  </tbody>\n",
       "</table>\n",
       "</div>"
      ],
      "text/plain": [
       "   year  month   service departure_station   arrival_station  \\\n",
       "0  2017      9  National         PARIS EST              METZ   \n",
       "1  2017      9  National             REIMS         PARIS EST   \n",
       "2  2017      9  National         PARIS EST        STRASBOURG   \n",
       "3  2017      9  National        PARIS LYON       AVIGNON TGV   \n",
       "4  2017      9  National        PARIS LYON  BELLEGARDE (AIN)   \n",
       "\n",
       "   journey_time_avg  total_num_trips  avg_delay_all_departing  \\\n",
       "0         85.133779              299                 0.752007   \n",
       "1         47.064516              218                 1.263518   \n",
       "2        116.234940              333                 1.139257   \n",
       "3        161.089583              481                 1.406215   \n",
       "4        164.452632              190                 1.728947   \n",
       "\n",
       "   avg_delay_all_arriving  num_late_at_departure  num_arriving_late  \\\n",
       "0                0.419844                     15               17.0   \n",
       "1                1.137558                     10               23.0   \n",
       "2                1.586396                     20               19.0   \n",
       "3                4.788542                     36               61.0   \n",
       "4                6.008860                     16               38.0   \n",
       "\n",
       "                  delay_cause  delayed_number  \n",
       "0  delay_cause_external_cause        0.250000  \n",
       "1  delay_cause_external_cause        0.250000  \n",
       "2  delay_cause_external_cause        0.214286  \n",
       "3  delay_cause_external_cause        0.155172  \n",
       "4  delay_cause_external_cause        0.166667  "
      ]
     },
     "execution_count": 56,
     "metadata": {},
     "output_type": "execute_result"
    }
   ],
   "source": [
    "df.head()"
   ]
  },
  {
   "cell_type": "code",
   "execution_count": 57,
   "metadata": {
    "ExecuteTime": {
     "end_time": "2020-05-12T23:30:34.391213Z",
     "start_time": "2020-05-12T23:30:34.386227Z"
    }
   },
   "outputs": [
    {
     "data": {
      "text/plain": [
       "(32772, 13)"
      ]
     },
     "execution_count": 57,
     "metadata": {},
     "output_type": "execute_result"
    }
   ],
   "source": [
    "df.shape"
   ]
  },
  {
   "cell_type": "code",
   "execution_count": 58,
   "metadata": {
    "ExecuteTime": {
     "end_time": "2020-05-12T23:30:55.689453Z",
     "start_time": "2020-05-12T23:30:55.679480Z"
    }
   },
   "outputs": [
    {
     "data": {
      "text/html": [
       "<div>\n",
       "<style scoped>\n",
       "    .dataframe tbody tr th:only-of-type {\n",
       "        vertical-align: middle;\n",
       "    }\n",
       "\n",
       "    .dataframe tbody tr th {\n",
       "        vertical-align: top;\n",
       "    }\n",
       "\n",
       "    .dataframe thead th {\n",
       "        text-align: right;\n",
       "    }\n",
       "</style>\n",
       "<table border=\"1\" class=\"dataframe\">\n",
       "  <thead>\n",
       "    <tr style=\"text-align: right;\">\n",
       "      <th></th>\n",
       "      <th>departure_station</th>\n",
       "      <th>arrival_station</th>\n",
       "    </tr>\n",
       "  </thead>\n",
       "  <tbody>\n",
       "    <tr>\n",
       "      <th>0</th>\n",
       "      <td>PARIS EST</td>\n",
       "      <td>METZ</td>\n",
       "    </tr>\n",
       "    <tr>\n",
       "      <th>1</th>\n",
       "      <td>REIMS</td>\n",
       "      <td>PARIS EST</td>\n",
       "    </tr>\n",
       "    <tr>\n",
       "      <th>2</th>\n",
       "      <td>PARIS EST</td>\n",
       "      <td>STRASBOURG</td>\n",
       "    </tr>\n",
       "    <tr>\n",
       "      <th>3</th>\n",
       "      <td>PARIS LYON</td>\n",
       "      <td>AVIGNON TGV</td>\n",
       "    </tr>\n",
       "    <tr>\n",
       "      <th>4</th>\n",
       "      <td>PARIS LYON</td>\n",
       "      <td>BELLEGARDE (AIN)</td>\n",
       "    </tr>\n",
       "    <tr>\n",
       "      <th>...</th>\n",
       "      <td>...</td>\n",
       "      <td>...</td>\n",
       "    </tr>\n",
       "    <tr>\n",
       "      <th>32767</th>\n",
       "      <td>ANGOULEME</td>\n",
       "      <td>PARIS MONTPARNASSE</td>\n",
       "    </tr>\n",
       "    <tr>\n",
       "      <th>32768</th>\n",
       "      <td>TOULOUSE MATABIAU</td>\n",
       "      <td>PARIS MONTPARNASSE</td>\n",
       "    </tr>\n",
       "    <tr>\n",
       "      <th>32769</th>\n",
       "      <td>PARIS MONTPARNASSE</td>\n",
       "      <td>TOURS</td>\n",
       "    </tr>\n",
       "    <tr>\n",
       "      <th>32770</th>\n",
       "      <td>PARIS MONTPARNASSE</td>\n",
       "      <td>LAVAL</td>\n",
       "    </tr>\n",
       "    <tr>\n",
       "      <th>32771</th>\n",
       "      <td>ST MALO</td>\n",
       "      <td>PARIS MONTPARNASSE</td>\n",
       "    </tr>\n",
       "  </tbody>\n",
       "</table>\n",
       "<p>32772 rows × 2 columns</p>\n",
       "</div>"
      ],
      "text/plain": [
       "        departure_station     arrival_station\n",
       "0               PARIS EST                METZ\n",
       "1                   REIMS           PARIS EST\n",
       "2               PARIS EST          STRASBOURG\n",
       "3              PARIS LYON         AVIGNON TGV\n",
       "4              PARIS LYON    BELLEGARDE (AIN)\n",
       "...                   ...                 ...\n",
       "32767           ANGOULEME  PARIS MONTPARNASSE\n",
       "32768   TOULOUSE MATABIAU  PARIS MONTPARNASSE\n",
       "32769  PARIS MONTPARNASSE               TOURS\n",
       "32770  PARIS MONTPARNASSE               LAVAL\n",
       "32771             ST MALO  PARIS MONTPARNASSE\n",
       "\n",
       "[32772 rows x 2 columns]"
      ]
     },
     "execution_count": 58,
     "metadata": {},
     "output_type": "execute_result"
    }
   ],
   "source": [
    "data = df[['departure_station','arrival_station']]\n",
    "data"
   ]
  },
  {
   "cell_type": "code",
   "execution_count": 59,
   "metadata": {
    "ExecuteTime": {
     "end_time": "2020-05-12T23:31:05.669543Z",
     "start_time": "2020-05-12T23:31:05.666551Z"
    }
   },
   "outputs": [],
   "source": [
    "import networkx as nx"
   ]
  },
  {
   "cell_type": "code",
   "execution_count": 60,
   "metadata": {
    "ExecuteTime": {
     "end_time": "2020-05-12T23:31:07.405318Z",
     "start_time": "2020-05-12T23:31:07.399334Z"
    }
   },
   "outputs": [
    {
     "data": {
      "text/html": [
       "<div>\n",
       "<style scoped>\n",
       "    .dataframe tbody tr th:only-of-type {\n",
       "        vertical-align: middle;\n",
       "    }\n",
       "\n",
       "    .dataframe tbody tr th {\n",
       "        vertical-align: top;\n",
       "    }\n",
       "\n",
       "    .dataframe thead th {\n",
       "        text-align: right;\n",
       "    }\n",
       "</style>\n",
       "<table border=\"1\" class=\"dataframe\">\n",
       "  <thead>\n",
       "    <tr style=\"text-align: right;\">\n",
       "      <th></th>\n",
       "      <th>departure_station</th>\n",
       "      <th>arrival_station</th>\n",
       "    </tr>\n",
       "  </thead>\n",
       "  <tbody>\n",
       "    <tr>\n",
       "      <th>0</th>\n",
       "      <td>PARIS EST</td>\n",
       "      <td>METZ</td>\n",
       "    </tr>\n",
       "    <tr>\n",
       "      <th>1</th>\n",
       "      <td>REIMS</td>\n",
       "      <td>PARIS EST</td>\n",
       "    </tr>\n",
       "    <tr>\n",
       "      <th>2</th>\n",
       "      <td>PARIS EST</td>\n",
       "      <td>STRASBOURG</td>\n",
       "    </tr>\n",
       "    <tr>\n",
       "      <th>3</th>\n",
       "      <td>PARIS LYON</td>\n",
       "      <td>AVIGNON TGV</td>\n",
       "    </tr>\n",
       "    <tr>\n",
       "      <th>4</th>\n",
       "      <td>PARIS LYON</td>\n",
       "      <td>BELLEGARDE (AIN)</td>\n",
       "    </tr>\n",
       "  </tbody>\n",
       "</table>\n",
       "</div>"
      ],
      "text/plain": [
       "  departure_station   arrival_station\n",
       "0         PARIS EST              METZ\n",
       "1             REIMS         PARIS EST\n",
       "2         PARIS EST        STRASBOURG\n",
       "3        PARIS LYON       AVIGNON TGV\n",
       "4        PARIS LYON  BELLEGARDE (AIN)"
      ]
     },
     "execution_count": 60,
     "metadata": {},
     "output_type": "execute_result"
    }
   ],
   "source": [
    "data.head()"
   ]
  },
  {
   "cell_type": "code",
   "execution_count": 61,
   "metadata": {
    "ExecuteTime": {
     "end_time": "2020-05-12T23:33:02.615374Z",
     "start_time": "2020-05-12T23:33:02.610387Z"
    }
   },
   "outputs": [
    {
     "name": "stderr",
     "output_type": "stream",
     "text": [
      "c:\\programas\\anaconda3\\lib\\site-packages\\ipykernel_launcher.py:1: SettingWithCopyWarning: \n",
      "A value is trying to be set on a copy of a slice from a DataFrame.\n",
      "Try using .loc[row_indexer,col_indexer] = value instead\n",
      "\n",
      "See the caveats in the documentation: https://pandas.pydata.org/pandas-docs/stable/user_guide/indexing.html#returning-a-view-versus-a-copy\n",
      "  \"\"\"Entry point for launching an IPython kernel.\n"
     ]
    }
   ],
   "source": [
    "data['distance'] = np.random.randint(1, 100, size=data.shape[0])"
   ]
  },
  {
   "cell_type": "code",
   "execution_count": 62,
   "metadata": {
    "ExecuteTime": {
     "end_time": "2020-05-12T23:33:04.199610Z",
     "start_time": "2020-05-12T23:33:04.190634Z"
    }
   },
   "outputs": [
    {
     "data": {
      "text/html": [
       "<div>\n",
       "<style scoped>\n",
       "    .dataframe tbody tr th:only-of-type {\n",
       "        vertical-align: middle;\n",
       "    }\n",
       "\n",
       "    .dataframe tbody tr th {\n",
       "        vertical-align: top;\n",
       "    }\n",
       "\n",
       "    .dataframe thead th {\n",
       "        text-align: right;\n",
       "    }\n",
       "</style>\n",
       "<table border=\"1\" class=\"dataframe\">\n",
       "  <thead>\n",
       "    <tr style=\"text-align: right;\">\n",
       "      <th></th>\n",
       "      <th>departure_station</th>\n",
       "      <th>arrival_station</th>\n",
       "      <th>distance</th>\n",
       "    </tr>\n",
       "  </thead>\n",
       "  <tbody>\n",
       "    <tr>\n",
       "      <th>0</th>\n",
       "      <td>PARIS EST</td>\n",
       "      <td>METZ</td>\n",
       "      <td>80</td>\n",
       "    </tr>\n",
       "    <tr>\n",
       "      <th>1</th>\n",
       "      <td>REIMS</td>\n",
       "      <td>PARIS EST</td>\n",
       "      <td>74</td>\n",
       "    </tr>\n",
       "    <tr>\n",
       "      <th>2</th>\n",
       "      <td>PARIS EST</td>\n",
       "      <td>STRASBOURG</td>\n",
       "      <td>60</td>\n",
       "    </tr>\n",
       "    <tr>\n",
       "      <th>3</th>\n",
       "      <td>PARIS LYON</td>\n",
       "      <td>AVIGNON TGV</td>\n",
       "      <td>6</td>\n",
       "    </tr>\n",
       "    <tr>\n",
       "      <th>4</th>\n",
       "      <td>PARIS LYON</td>\n",
       "      <td>BELLEGARDE (AIN)</td>\n",
       "      <td>25</td>\n",
       "    </tr>\n",
       "    <tr>\n",
       "      <th>...</th>\n",
       "      <td>...</td>\n",
       "      <td>...</td>\n",
       "      <td>...</td>\n",
       "    </tr>\n",
       "    <tr>\n",
       "      <th>32767</th>\n",
       "      <td>ANGOULEME</td>\n",
       "      <td>PARIS MONTPARNASSE</td>\n",
       "      <td>10</td>\n",
       "    </tr>\n",
       "    <tr>\n",
       "      <th>32768</th>\n",
       "      <td>TOULOUSE MATABIAU</td>\n",
       "      <td>PARIS MONTPARNASSE</td>\n",
       "      <td>54</td>\n",
       "    </tr>\n",
       "    <tr>\n",
       "      <th>32769</th>\n",
       "      <td>PARIS MONTPARNASSE</td>\n",
       "      <td>TOURS</td>\n",
       "      <td>47</td>\n",
       "    </tr>\n",
       "    <tr>\n",
       "      <th>32770</th>\n",
       "      <td>PARIS MONTPARNASSE</td>\n",
       "      <td>LAVAL</td>\n",
       "      <td>8</td>\n",
       "    </tr>\n",
       "    <tr>\n",
       "      <th>32771</th>\n",
       "      <td>ST MALO</td>\n",
       "      <td>PARIS MONTPARNASSE</td>\n",
       "      <td>15</td>\n",
       "    </tr>\n",
       "  </tbody>\n",
       "</table>\n",
       "<p>32772 rows × 3 columns</p>\n",
       "</div>"
      ],
      "text/plain": [
       "        departure_station     arrival_station  distance\n",
       "0               PARIS EST                METZ        80\n",
       "1                   REIMS           PARIS EST        74\n",
       "2               PARIS EST          STRASBOURG        60\n",
       "3              PARIS LYON         AVIGNON TGV         6\n",
       "4              PARIS LYON    BELLEGARDE (AIN)        25\n",
       "...                   ...                 ...       ...\n",
       "32767           ANGOULEME  PARIS MONTPARNASSE        10\n",
       "32768   TOULOUSE MATABIAU  PARIS MONTPARNASSE        54\n",
       "32769  PARIS MONTPARNASSE               TOURS        47\n",
       "32770  PARIS MONTPARNASSE               LAVAL         8\n",
       "32771             ST MALO  PARIS MONTPARNASSE        15\n",
       "\n",
       "[32772 rows x 3 columns]"
      ]
     },
     "execution_count": 62,
     "metadata": {},
     "output_type": "execute_result"
    }
   ],
   "source": [
    "data"
   ]
  },
  {
   "cell_type": "code",
   "execution_count": null,
   "metadata": {},
   "outputs": [],
   "source": [
    "nx.from_pandas_edgelist"
   ]
  },
  {
   "cell_type": "code",
   "execution_count": 63,
   "metadata": {
    "ExecuteTime": {
     "end_time": "2020-05-12T23:33:24.976926Z",
     "start_time": "2020-05-12T23:33:24.899094Z"
    }
   },
   "outputs": [],
   "source": [
    "G = nx.from_pandas_edgelist(data, 'departure_station', 'arrival_station', edge_attr='distance')"
   ]
  },
  {
   "cell_type": "code",
   "execution_count": 69,
   "metadata": {
    "ExecuteTime": {
     "end_time": "2020-05-12T23:35:37.371782Z",
     "start_time": "2020-05-12T23:35:37.238140Z"
    }
   },
   "outputs": [
    {
     "data": {
      "image/png": "[encoded data removed]",
      "text/plain": [
       "<Figure size 1080x720 with 1 Axes>"
      ]
     },
     "metadata": {},
     "output_type": "display_data"
    }
   ],
   "source": [
    "plt.figure(figsize=(15,10))\n",
    "\n",
    "nx.draw(G)"
   ]
  },
  {
   "cell_type": "code",
   "execution_count": 76,
   "metadata": {
    "ExecuteTime": {
     "end_time": "2020-05-12T23:37:51.045665Z",
     "start_time": "2020-05-12T23:37:51.038683Z"
    },
    "scrolled": true
   },
   "outputs": [
    {
     "data": {
      "text/plain": [
       "[('PARIS LYON', 25),\n",
       " ('PARIS MONTPARNASSE', 16),\n",
       " ('PARIS EST', 6),\n",
       " ('LYON PART DIEU', 6),\n",
       " ('MARSEILLE ST CHARLES', 6),\n",
       " ('PARIS NORD', 4),\n",
       " ('BORDEAUX ST JEAN', 3),\n",
       " ('RENNES', 3),\n",
       " ('LILLE', 3),\n",
       " ('NANTES', 3),\n",
       " ('PARIS VAUGIRARD', 3),\n",
       " ('STRASBOURG', 2),\n",
       " ('MONTPELLIER', 2),\n",
       " ('TOURCOING', 2),\n",
       " ('MARNE LA VALLEE', 2),\n",
       " ('METZ', 1),\n",
       " ('REIMS', 1),\n",
       " ('AVIGNON TGV', 1),\n",
       " ('BELLEGARDE (AIN)', 1),\n",
       " ('BESANCON FRANCHE COMTE TGV', 1),\n",
       " ('CHAMBERY CHALLES LES EAUX', 1),\n",
       " ('GRENOBLE', 1),\n",
       " ('MACON LOCHE', 1),\n",
       " ('MULHOUSE VILLE', 1),\n",
       " ('ANGERS SAINT LAUD', 1),\n",
       " ('LA ROCHELLE VILLE', 1),\n",
       " ('POITIERS', 1),\n",
       " ('VANNES', 1),\n",
       " ('FRANCFORT', 1),\n",
       " ('LAUSANNE', 1),\n",
       " ('DOUAI', 1),\n",
       " ('NANCY', 1),\n",
       " ('LE CREUSOT MONTCEAU MONTCHANIN', 1),\n",
       " ('NICE VILLE', 1),\n",
       " ('ZURICH', 1),\n",
       " ('DUNKERQUE', 1),\n",
       " ('PERPIGNAN', 1),\n",
       " ('SAINT ETIENNE CHATEAUCREUX', 1),\n",
       " ('ST PIERRE DES CORPS', 1),\n",
       " ('VALENCE ALIXAN TGV', 1),\n",
       " ('DIJON VILLE', 1),\n",
       " ('LAVAL', 1),\n",
       " ('QUIMPER', 1),\n",
       " ('TOULOUSE MATABIAU', 1),\n",
       " ('ARRAS', 1),\n",
       " ('NIMES', 1),\n",
       " ('TOULON', 1),\n",
       " ('LE MANS', 1),\n",
       " ('STUTTGART', 1),\n",
       " ('GENEVE', 1),\n",
       " ('ITALIE', 1),\n",
       " ('ANGOULEME', 1),\n",
       " ('ST MALO', 1),\n",
       " ('TOURS', 1),\n",
       " ('BREST', 1),\n",
       " ('AIX EN PROVENCE TGV', 1),\n",
       " ('ANNECY', 1),\n",
       " ('BARCELONA', 1),\n",
       " ('MADRID', 1)]"
      ]
     },
     "execution_count": 76,
     "metadata": {},
     "output_type": "execute_result"
    }
   ],
   "source": [
    "sorted(dict(G.degree).items(), key=lambda x : x[1], reverse=True)"
   ]
  },
  {
   "cell_type": "code",
   "execution_count": 80,
   "metadata": {
    "ExecuteTime": {
     "end_time": "2020-05-12T23:39:07.721501Z",
     "start_time": "2020-05-12T23:39:07.716490Z"
    }
   },
   "outputs": [
    {
     "data": {
      "text/plain": [
       "dict_values([6, 1, 1, 2, 25, 1, 1, 1, 1, 1, 6, 1, 6, 2, 1, 16, 1, 3, 1, 1, 3, 1, 3, 1, 1, 1, 4, 1, 1, 1, 1, 3, 1, 1, 1, 1, 1, 1, 1, 1, 1, 1, 1, 1, 1, 1, 1, 1, 1, 1, 1, 1, 1, 1, 2, 2, 1, 3, 1])"
      ]
     },
     "execution_count": 80,
     "metadata": {},
     "output_type": "execute_result"
    }
   ],
   "source": [
    "dict(G.degree()).values()"
   ]
  },
  {
   "cell_type": "code",
   "execution_count": 81,
   "metadata": {
    "ExecuteTime": {
     "end_time": "2020-05-12T23:39:23.411469Z",
     "start_time": "2020-05-12T23:39:23.407480Z"
    }
   },
   "outputs": [
    {
     "data": {
      "text/plain": [
       "59"
      ]
     },
     "execution_count": 81,
     "metadata": {},
     "output_type": "execute_result"
    }
   ],
   "source": [
    "G.order()"
   ]
  },
  {
   "cell_type": "code",
   "execution_count": 82,
   "metadata": {
    "ExecuteTime": {
     "end_time": "2020-05-12T23:39:32.427166Z",
     "start_time": "2020-05-12T23:39:32.423177Z"
    }
   },
   "outputs": [
    {
     "name": "stdout",
     "output_type": "stream",
     "text": [
      "Number of edges: 65\n",
      "Average degree: 2.2033898305084745\n",
      "Density: 0.03798947983635301\n"
     ]
    }
   ],
   "source": [
    "print('Number of edges:', G.size())\n",
    "print('Average degree:', sum(dict(G.degree()).values())/G.order())\n",
    "print('Density:', nx.density(G))"
   ]
  },
  {
   "cell_type": "markdown",
   "metadata": {},
   "source": [
    "# Centrality Measures"
   ]
  },
  {
   "cell_type": "markdown",
   "metadata": {},
   "source": [
    "## Degree"
   ]
  },
  {
   "cell_type": "code",
   "execution_count": 87,
   "metadata": {
    "ExecuteTime": {
     "end_time": "2020-05-12T23:43:50.859437Z",
     "start_time": "2020-05-12T23:43:50.850437Z"
    }
   },
   "outputs": [
    {
     "data": {
      "text/html": [
       "<div>\n",
       "<style scoped>\n",
       "    .dataframe tbody tr th:only-of-type {\n",
       "        vertical-align: middle;\n",
       "    }\n",
       "\n",
       "    .dataframe tbody tr th {\n",
       "        vertical-align: top;\n",
       "    }\n",
       "\n",
       "    .dataframe thead th {\n",
       "        text-align: right;\n",
       "    }\n",
       "</style>\n",
       "<table border=\"1\" class=\"dataframe\">\n",
       "  <thead>\n",
       "    <tr style=\"text-align: right;\">\n",
       "      <th></th>\n",
       "      <th>Node</th>\n",
       "      <th>Degree Centrality</th>\n",
       "    </tr>\n",
       "  </thead>\n",
       "  <tbody>\n",
       "    <tr>\n",
       "      <th>4</th>\n",
       "      <td>PARIS LYON</td>\n",
       "      <td>0.431034</td>\n",
       "    </tr>\n",
       "    <tr>\n",
       "      <th>15</th>\n",
       "      <td>PARIS MONTPARNASSE</td>\n",
       "      <td>0.275862</td>\n",
       "    </tr>\n",
       "    <tr>\n",
       "      <th>0</th>\n",
       "      <td>PARIS EST</td>\n",
       "      <td>0.103448</td>\n",
       "    </tr>\n",
       "    <tr>\n",
       "      <th>10</th>\n",
       "      <td>LYON PART DIEU</td>\n",
       "      <td>0.103448</td>\n",
       "    </tr>\n",
       "    <tr>\n",
       "      <th>12</th>\n",
       "      <td>MARSEILLE ST CHARLES</td>\n",
       "      <td>0.103448</td>\n",
       "    </tr>\n",
       "  </tbody>\n",
       "</table>\n",
       "</div>"
      ],
      "text/plain": [
       "                    Node  Degree Centrality\n",
       "4             PARIS LYON           0.431034\n",
       "15    PARIS MONTPARNASSE           0.275862\n",
       "0              PARIS EST           0.103448\n",
       "10        LYON PART DIEU           0.103448\n",
       "12  MARSEILLE ST CHARLES           0.103448"
      ]
     },
     "execution_count": 87,
     "metadata": {},
     "output_type": "execute_result"
    }
   ],
   "source": [
    "degree = nx.degree_centrality(G)\n",
    "degree = pd.DataFrame.from_dict(degree, orient='index').reset_index()\n",
    "degree.columns = ['Node', 'Degree Centrality']\n",
    "degree.sort_values('Degree Centrality', ascending=False).head()"
   ]
  },
  {
   "cell_type": "markdown",
   "metadata": {},
   "source": [
    "# Betweenness Centrality"
   ]
  },
  {
   "cell_type": "code",
   "execution_count": 88,
   "metadata": {
    "ExecuteTime": {
     "end_time": "2020-05-12T23:44:42.665475Z",
     "start_time": "2020-05-12T23:44:42.559111Z"
    }
   },
   "outputs": [
    {
     "data": {
      "image/png": "[encoded data removed]",
      "text/plain": [
       "<Figure size 432x288 with 1 Axes>"
      ]
     },
     "metadata": {},
     "output_type": "display_data"
    }
   ],
   "source": [
    "nx.draw(G, node_size=50)"
   ]
  },
  {
   "cell_type": "code",
   "execution_count": 96,
   "metadata": {
    "ExecuteTime": {
     "end_time": "2020-05-12T23:52:09.587844Z",
     "start_time": "2020-05-12T23:52:09.583855Z"
    }
   },
   "outputs": [
    {
     "data": {
      "text/plain": [
       "{'distance': 54}"
      ]
     },
     "execution_count": 96,
     "metadata": {},
     "output_type": "execute_result"
    }
   ],
   "source": [
    "G.edges['PARIS LYON','LYON PART DIEU']"
   ]
  },
  {
   "cell_type": "code",
   "execution_count": 89,
   "metadata": {
    "ExecuteTime": {
     "end_time": "2020-05-12T23:45:07.827838Z",
     "start_time": "2020-05-12T23:45:07.814871Z"
    },
    "scrolled": true
   },
   "outputs": [
    {
     "data": {
      "text/plain": [
       "{'PARIS EST': 0.1663641863278887,\n",
       " 'METZ': 0.0,\n",
       " 'REIMS': 0.0,\n",
       " 'STRASBOURG': 0.18874773139745918,\n",
       " 'PARIS LYON': 0.6199334543254689,\n",
       " 'AVIGNON TGV': 0.0,\n",
       " 'BELLEGARDE (AIN)': 0.0,\n",
       " 'BESANCON FRANCHE COMTE TGV': 0.0,\n",
       " 'CHAMBERY CHALLES LES EAUX': 0.0,\n",
       " 'GRENOBLE': 0.0,\n",
       " 'LYON PART DIEU': 0.49914297237346245,\n",
       " 'MACON LOCHE': 0.0,\n",
       " 'MARSEILLE ST CHARLES': 0.11474087517644686,\n",
       " 'MONTPELLIER': 0.0,\n",
       " 'MULHOUSE VILLE': 0.0,\n",
       " 'PARIS MONTPARNASSE': 0.4890602944141964,\n",
       " 'ANGERS SAINT LAUD': 0.0,\n",
       " 'BORDEAUX ST JEAN': 0.03105464811453923,\n",
       " 'LA ROCHELLE VILLE': 0.0,\n",
       " 'POITIERS': 0.0,\n",
       " 'RENNES': 0.4487799959669288,\n",
       " 'VANNES': 0.0,\n",
       " 'LILLE': 0.13067150635208713,\n",
       " 'FRANCFORT': 0.0,\n",
       " 'LAUSANNE': 0.0,\n",
       " 'DOUAI': 0.0,\n",
       " 'PARIS NORD': 0.10163339382940109,\n",
       " 'NANCY': 0.0,\n",
       " 'LE CREUSOT MONTCEAU MONTCHANIN': 0.0,\n",
       " 'NICE VILLE': 0.0,\n",
       " 'ZURICH': 0.0,\n",
       " 'NANTES': 0.21879411171607185,\n",
       " 'DUNKERQUE': 0.0,\n",
       " 'PERPIGNAN': 0.0,\n",
       " 'SAINT ETIENNE CHATEAUCREUX': 0.0,\n",
       " 'ST PIERRE DES CORPS': 0.0,\n",
       " 'VALENCE ALIXAN TGV': 0.0,\n",
       " 'DIJON VILLE': 0.0,\n",
       " 'LAVAL': 0.0,\n",
       " 'QUIMPER': 0.0,\n",
       " 'TOULOUSE MATABIAU': 0.0,\n",
       " 'ARRAS': 0.0,\n",
       " 'NIMES': 0.0,\n",
       " 'TOULON': 0.0,\n",
       " 'LE MANS': 0.0,\n",
       " 'STUTTGART': 0.0,\n",
       " 'GENEVE': 0.0,\n",
       " 'ITALIE': 0.0,\n",
       " 'ANGOULEME': 0.0,\n",
       " 'ST MALO': 0.0,\n",
       " 'TOURS': 0.0,\n",
       " 'BREST': 0.0,\n",
       " 'AIX EN PROVENCE TGV': 0.0,\n",
       " 'ANNECY': 0.0,\n",
       " 'TOURCOING': 0.03317201048598508,\n",
       " 'MARNE LA VALLEE': 0.0,\n",
       " 'BARCELONA': 0.0,\n",
       " 'PARIS VAUGIRARD': 0.08797136519459568,\n",
       " 'MADRID': 0.0}"
      ]
     },
     "execution_count": 89,
     "metadata": {},
     "output_type": "execute_result"
    }
   ],
   "source": [
    "nx.betweenness_centrality(G)"
   ]
  },
  {
   "cell_type": "code",
   "execution_count": 90,
   "metadata": {
    "ExecuteTime": {
     "end_time": "2020-05-12T23:49:37.741173Z",
     "start_time": "2020-05-12T23:49:37.723221Z"
    }
   },
   "outputs": [
    {
     "data": {
      "text/html": [
       "<div>\n",
       "<style scoped>\n",
       "    .dataframe tbody tr th:only-of-type {\n",
       "        vertical-align: middle;\n",
       "    }\n",
       "\n",
       "    .dataframe tbody tr th {\n",
       "        vertical-align: top;\n",
       "    }\n",
       "\n",
       "    .dataframe thead th {\n",
       "        text-align: right;\n",
       "    }\n",
       "</style>\n",
       "<table border=\"1\" class=\"dataframe\">\n",
       "  <thead>\n",
       "    <tr style=\"text-align: right;\">\n",
       "      <th></th>\n",
       "      <th>Node</th>\n",
       "      <th>Betweenness Centrality</th>\n",
       "    </tr>\n",
       "  </thead>\n",
       "  <tbody>\n",
       "    <tr>\n",
       "      <th>4</th>\n",
       "      <td>PARIS LYON</td>\n",
       "      <td>0.619933</td>\n",
       "    </tr>\n",
       "    <tr>\n",
       "      <th>10</th>\n",
       "      <td>LYON PART DIEU</td>\n",
       "      <td>0.499143</td>\n",
       "    </tr>\n",
       "    <tr>\n",
       "      <th>15</th>\n",
       "      <td>PARIS MONTPARNASSE</td>\n",
       "      <td>0.489060</td>\n",
       "    </tr>\n",
       "    <tr>\n",
       "      <th>20</th>\n",
       "      <td>RENNES</td>\n",
       "      <td>0.448780</td>\n",
       "    </tr>\n",
       "    <tr>\n",
       "      <th>31</th>\n",
       "      <td>NANTES</td>\n",
       "      <td>0.218794</td>\n",
       "    </tr>\n",
       "  </tbody>\n",
       "</table>\n",
       "</div>"
      ],
      "text/plain": [
       "                  Node  Betweenness Centrality\n",
       "4           PARIS LYON                0.619933\n",
       "10      LYON PART DIEU                0.499143\n",
       "15  PARIS MONTPARNASSE                0.489060\n",
       "20              RENNES                0.448780\n",
       "31              NANTES                0.218794"
      ]
     },
     "execution_count": 90,
     "metadata": {},
     "output_type": "execute_result"
    }
   ],
   "source": [
    "# maior betweeness é o ponto que se você remover, afeta mais o grafo \n",
    "betweenness = nx.betweenness_centrality(G)\n",
    "\n",
    "betweenness\n",
    "betweenness = pd.DataFrame.from_dict(betweenness, orient='index').reset_index()\n",
    "betweenness.columns = ['Node', 'Betweenness Centrality']\n",
    "betweenness.sort_values('Betweenness Centrality', ascending=False).head()"
   ]
  },
  {
   "cell_type": "markdown",
   "metadata": {},
   "source": [
    "# Pagerank"
   ]
  },
  {
   "cell_type": "markdown",
   "metadata": {},
   "source": [
    "Pagerank mede a relevância de um nó baseado não só em quantos vizinhos ele tem, mas também medindo quantos vizinhos importantes ele tem"
   ]
  },
  {
   "cell_type": "code",
   "execution_count": 97,
   "metadata": {
    "ExecuteTime": {
     "end_time": "2020-05-12T23:54:25.588286Z",
     "start_time": "2020-05-12T23:54:25.566344Z"
    }
   },
   "outputs": [
    {
     "data": {
      "text/html": [
       "<div>\n",
       "<style scoped>\n",
       "    .dataframe tbody tr th:only-of-type {\n",
       "        vertical-align: middle;\n",
       "    }\n",
       "\n",
       "    .dataframe tbody tr th {\n",
       "        vertical-align: top;\n",
       "    }\n",
       "\n",
       "    .dataframe thead th {\n",
       "        text-align: right;\n",
       "    }\n",
       "</style>\n",
       "<table border=\"1\" class=\"dataframe\">\n",
       "  <thead>\n",
       "    <tr style=\"text-align: right;\">\n",
       "      <th></th>\n",
       "      <th>Node</th>\n",
       "      <th>PageRank Centrality</th>\n",
       "    </tr>\n",
       "  </thead>\n",
       "  <tbody>\n",
       "    <tr>\n",
       "      <th>4</th>\n",
       "      <td>PARIS LYON</td>\n",
       "      <td>0.182676</td>\n",
       "    </tr>\n",
       "    <tr>\n",
       "      <th>15</th>\n",
       "      <td>PARIS MONTPARNASSE</td>\n",
       "      <td>0.115534</td>\n",
       "    </tr>\n",
       "    <tr>\n",
       "      <th>0</th>\n",
       "      <td>PARIS EST</td>\n",
       "      <td>0.050158</td>\n",
       "    </tr>\n",
       "    <tr>\n",
       "      <th>12</th>\n",
       "      <td>MARSEILLE ST CHARLES</td>\n",
       "      <td>0.037562</td>\n",
       "    </tr>\n",
       "    <tr>\n",
       "      <th>10</th>\n",
       "      <td>LYON PART DIEU</td>\n",
       "      <td>0.036688</td>\n",
       "    </tr>\n",
       "  </tbody>\n",
       "</table>\n",
       "</div>"
      ],
      "text/plain": [
       "                    Node  PageRank Centrality\n",
       "4             PARIS LYON             0.182676\n",
       "15    PARIS MONTPARNASSE             0.115534\n",
       "0              PARIS EST             0.050158\n",
       "12  MARSEILLE ST CHARLES             0.037562\n",
       "10        LYON PART DIEU             0.036688"
      ]
     },
     "execution_count": 97,
     "metadata": {},
     "output_type": "execute_result"
    }
   ],
   "source": [
    "pagerank = nx.pagerank(G)\n",
    "\n",
    "pagerank = pd.DataFrame.from_dict(pagerank, orient='index').reset_index()\n",
    "pagerank.columns = ['Node', 'PageRank Centrality']\n",
    "pagerank.sort_values('PageRank Centrality', ascending=False).head()"
   ]
  },
  {
   "cell_type": "code",
   "execution_count": 99,
   "metadata": {
    "ExecuteTime": {
     "end_time": "2020-05-12T23:55:13.046941Z",
     "start_time": "2020-05-12T23:55:12.903326Z"
    }
   },
   "outputs": [
    {
     "data": {
      "image/png": "[encoded data removed]",
      "text/plain": [
       "<Figure size 432x288 with 1 Axes>"
      ]
     },
     "metadata": {},
     "output_type": "display_data"
    }
   ],
   "source": [
    "nx.draw_kamada_kawai(G, node_size=20,)"
   ]
  },
  {
   "cell_type": "markdown",
   "metadata": {},
   "source": [
    "# Ego graph"
   ]
  },
  {
   "cell_type": "code",
   "execution_count": 100,
   "metadata": {
    "ExecuteTime": {
     "end_time": "2020-05-12T23:55:45.093597Z",
     "start_time": "2020-05-12T23:55:45.088617Z"
    }
   },
   "outputs": [
    {
     "data": {
      "text/plain": [
       "<networkx.classes.graph.Graph at 0x21f3e273c88>"
      ]
     },
     "execution_count": 100,
     "metadata": {},
     "output_type": "execute_result"
    }
   ],
   "source": [
    "nx.ego_graph(G, 'PARIS LYON', radius=1)"
   ]
  },
  {
   "cell_type": "code",
   "execution_count": 108,
   "metadata": {
    "ExecuteTime": {
     "end_time": "2020-05-12T23:58:52.250494Z",
     "start_time": "2020-05-12T23:58:52.132783Z"
    }
   },
   "outputs": [
    {
     "data": {
      "text/plain": [
       "[('PARIS EST', 0.8333333333333333),\n",
       " ('STRASBOURG', 0.5),\n",
       " ('NANTES', 0.41666666666666663),\n",
       " ('FRANCFORT', 0.0),\n",
       " ('NANCY', 0.0),\n",
       " ('PARIS VAUGIRARD', 0.0),\n",
       " ('PARIS MONTPARNASSE', 0.0),\n",
       " ('METZ', 0.0),\n",
       " ('STUTTGART', 0.0),\n",
       " ('REIMS', 0.0)]"
      ]
     },
     "execution_count": 108,
     "metadata": {},
     "output_type": "execute_result"
    },
    {
     "data": {
      "image/png": "[encoded data removed]",
      "text/plain": [
       "<Figure size 432x288 with 1 Axes>"
      ]
     },
     "metadata": {},
     "output_type": "display_data"
    }
   ],
   "source": [
    "ego = nx.ego_graph(G, 'PARIS EST', radius=3)\n",
    "nx.draw_kamada_kawai(ego, node_size=20, node_color='cyan', with_labels=True)\n",
    "\n",
    "sorted(nx.betweenness_centrality(ego).items(), key=lambda x : x[1], reverse=True)"
   ]
  },
  {
   "cell_type": "markdown",
   "metadata": {},
   "source": [
    "# Converting non-graph dataframes to edge lists"
   ]
  },
  {
   "cell_type": "markdown",
   "metadata": {},
   "source": [
    "## Simpsons Network"
   ]
  },
  {
   "cell_type": "code",
   "execution_count": 109,
   "metadata": {
    "ExecuteTime": {
     "end_time": "2020-05-13T00:48:49.754811Z",
     "start_time": "2020-05-13T00:48:47.849007Z"
    }
   },
   "outputs": [],
   "source": [
    "df = pd.read_csv('https://raw.githubusercontent.com/rfordatascience/tidytuesday/master/data/2019/2019-08-27/simpsons-guests.csv', sep='|')"
   ]
  },
  {
   "cell_type": "code",
   "execution_count": 110,
   "metadata": {
    "ExecuteTime": {
     "end_time": "2020-05-13T00:49:48.571301Z",
     "start_time": "2020-05-13T00:49:48.562324Z"
    }
   },
   "outputs": [
    {
     "data": {
      "text/html": [
       "<div>\n",
       "<style scoped>\n",
       "    .dataframe tbody tr th:only-of-type {\n",
       "        vertical-align: middle;\n",
       "    }\n",
       "\n",
       "    .dataframe tbody tr th {\n",
       "        vertical-align: top;\n",
       "    }\n",
       "\n",
       "    .dataframe thead th {\n",
       "        text-align: right;\n",
       "    }\n",
       "</style>\n",
       "<table border=\"1\" class=\"dataframe\">\n",
       "  <thead>\n",
       "    <tr style=\"text-align: right;\">\n",
       "      <th></th>\n",
       "      <th>season</th>\n",
       "      <th>number</th>\n",
       "      <th>production_code</th>\n",
       "      <th>episode_title</th>\n",
       "      <th>guest_star</th>\n",
       "      <th>role</th>\n",
       "    </tr>\n",
       "  </thead>\n",
       "  <tbody>\n",
       "    <tr>\n",
       "      <th>0</th>\n",
       "      <td>1</td>\n",
       "      <td>002–102</td>\n",
       "      <td>7G02</td>\n",
       "      <td>Bart the Genius</td>\n",
       "      <td>Marcia Wallace</td>\n",
       "      <td>Edna Krabappel;  Ms. Melon</td>\n",
       "    </tr>\n",
       "    <tr>\n",
       "      <th>1</th>\n",
       "      <td>1</td>\n",
       "      <td>003–103</td>\n",
       "      <td>7G03</td>\n",
       "      <td>Homer's Odyssey</td>\n",
       "      <td>Sam McMurray</td>\n",
       "      <td>Worker</td>\n",
       "    </tr>\n",
       "    <tr>\n",
       "      <th>2</th>\n",
       "      <td>1</td>\n",
       "      <td>003–103</td>\n",
       "      <td>7G03</td>\n",
       "      <td>Homer's Odyssey</td>\n",
       "      <td>Marcia Wallace</td>\n",
       "      <td>Edna Krabappel</td>\n",
       "    </tr>\n",
       "    <tr>\n",
       "      <th>3</th>\n",
       "      <td>1</td>\n",
       "      <td>006–106</td>\n",
       "      <td>7G06</td>\n",
       "      <td>Moaning Lisa</td>\n",
       "      <td>Miriam Flynn</td>\n",
       "      <td>Ms. Barr</td>\n",
       "    </tr>\n",
       "    <tr>\n",
       "      <th>4</th>\n",
       "      <td>1</td>\n",
       "      <td>006–106</td>\n",
       "      <td>7G06</td>\n",
       "      <td>Moaning Lisa</td>\n",
       "      <td>Ron Taylor</td>\n",
       "      <td>Bleeding Gums Murphy</td>\n",
       "    </tr>\n",
       "  </tbody>\n",
       "</table>\n",
       "</div>"
      ],
      "text/plain": [
       "  season   number production_code    episode_title      guest_star  \\\n",
       "0      1  002–102            7G02  Bart the Genius  Marcia Wallace   \n",
       "1      1  003–103            7G03  Homer's Odyssey    Sam McMurray   \n",
       "2      1  003–103            7G03  Homer's Odyssey  Marcia Wallace   \n",
       "3      1  006–106            7G06     Moaning Lisa    Miriam Flynn   \n",
       "4      1  006–106            7G06     Moaning Lisa      Ron Taylor   \n",
       "\n",
       "                         role  \n",
       "0  Edna Krabappel;  Ms. Melon  \n",
       "1                      Worker  \n",
       "2              Edna Krabappel  \n",
       "3                    Ms. Barr  \n",
       "4        Bleeding Gums Murphy  "
      ]
     },
     "execution_count": 110,
     "metadata": {},
     "output_type": "execute_result"
    }
   ],
   "source": [
    "df.head()"
   ]
  },
  {
   "cell_type": "code",
   "execution_count": 111,
   "metadata": {
    "ExecuteTime": {
     "end_time": "2020-05-13T00:53:29.282503Z",
     "start_time": "2020-05-13T00:53:29.276519Z"
    }
   },
   "outputs": [],
   "source": [
    "def df_to_graph(df, node, edge):\n",
    "    ''' \n",
    "    Transform a dataframe into another dataframe suitable to work with graphs.\n",
    "    '''\n",
    "    \n",
    "    graph_df = pd.merge(df, df, how='inner', on=edge)\n",
    "    graph_df = graph_df.groupby([f'{node}_x', f'{node}_y']).count().reset_index()\n",
    "    graph_df = graph_df.query(f'{node}_x != {node}_y')\n",
    "\n",
    "    if type(edge) == list:\n",
    "        graph_df = graph_df.loc[:, [node + '_x', node + '_y'] + edge]\n",
    "    else:\n",
    "        graph_df = graph_df.loc[:, [node + '_x', node + '_y', edge]]\n",
    "    \n",
    "    return graph_df.rename(columns={f'{node}_x':f'{node}_src', \n",
    "                                    f'{node}_y':f'{node}_dest',\n",
    "                                    f'{edge}':f'{edge}_count'})\n"
   ]
  },
  {
   "cell_type": "code",
   "execution_count": 112,
   "metadata": {
    "ExecuteTime": {
     "end_time": "2020-05-13T00:53:49.663255Z",
     "start_time": "2020-05-13T00:53:49.637175Z"
    }
   },
   "outputs": [
    {
     "data": {
      "text/html": [
       "<div>\n",
       "<style scoped>\n",
       "    .dataframe tbody tr th:only-of-type {\n",
       "        vertical-align: middle;\n",
       "    }\n",
       "\n",
       "    .dataframe tbody tr th {\n",
       "        vertical-align: top;\n",
       "    }\n",
       "\n",
       "    .dataframe thead th {\n",
       "        text-align: right;\n",
       "    }\n",
       "</style>\n",
       "<table border=\"1\" class=\"dataframe\">\n",
       "  <thead>\n",
       "    <tr style=\"text-align: right;\">\n",
       "      <th></th>\n",
       "      <th>guest_star_src</th>\n",
       "      <th>guest_star_dest</th>\n",
       "      <th>episode_title_count</th>\n",
       "    </tr>\n",
       "  </thead>\n",
       "  <tbody>\n",
       "    <tr>\n",
       "      <th>2</th>\n",
       "      <td>50 Cent</td>\n",
       "      <td>Dana Gould</td>\n",
       "      <td>1</td>\n",
       "    </tr>\n",
       "    <tr>\n",
       "      <th>4</th>\n",
       "      <td>Aaron Paul</td>\n",
       "      <td>Bryan Cranston</td>\n",
       "      <td>1</td>\n",
       "    </tr>\n",
       "    <tr>\n",
       "      <th>5</th>\n",
       "      <td>Aaron Paul</td>\n",
       "      <td>George Takei</td>\n",
       "      <td>1</td>\n",
       "    </tr>\n",
       "    <tr>\n",
       "      <th>6</th>\n",
       "      <td>Aaron Paul</td>\n",
       "      <td>Marcia Wallace</td>\n",
       "      <td>1</td>\n",
       "    </tr>\n",
       "    <tr>\n",
       "      <th>7</th>\n",
       "      <td>Aaron Paul</td>\n",
       "      <td>Maurice LaMarche</td>\n",
       "      <td>1</td>\n",
       "    </tr>\n",
       "    <tr>\n",
       "      <th>...</th>\n",
       "      <td>...</td>\n",
       "      <td>...</td>\n",
       "      <td>...</td>\n",
       "    </tr>\n",
       "    <tr>\n",
       "      <th>4127</th>\n",
       "      <td>Zosia Mamet</td>\n",
       "      <td>Adam Driver</td>\n",
       "      <td>1</td>\n",
       "    </tr>\n",
       "    <tr>\n",
       "      <th>4128</th>\n",
       "      <td>Zosia Mamet</td>\n",
       "      <td>Allison Williams</td>\n",
       "      <td>1</td>\n",
       "    </tr>\n",
       "    <tr>\n",
       "      <th>4129</th>\n",
       "      <td>Zosia Mamet</td>\n",
       "      <td>Jemima Kirke</td>\n",
       "      <td>1</td>\n",
       "    </tr>\n",
       "    <tr>\n",
       "      <th>4130</th>\n",
       "      <td>Zosia Mamet</td>\n",
       "      <td>Laura Ingraham</td>\n",
       "      <td>1</td>\n",
       "    </tr>\n",
       "    <tr>\n",
       "      <th>4131</th>\n",
       "      <td>Zosia Mamet</td>\n",
       "      <td>Lena Dunham</td>\n",
       "      <td>1</td>\n",
       "    </tr>\n",
       "  </tbody>\n",
       "</table>\n",
       "<p>3338 rows × 3 columns</p>\n",
       "</div>"
      ],
      "text/plain": [
       "     guest_star_src   guest_star_dest  episode_title_count\n",
       "2           50 Cent        Dana Gould                    1\n",
       "4        Aaron Paul    Bryan Cranston                    1\n",
       "5        Aaron Paul      George Takei                    1\n",
       "6        Aaron Paul    Marcia Wallace                    1\n",
       "7        Aaron Paul  Maurice LaMarche                    1\n",
       "...             ...               ...                  ...\n",
       "4127    Zosia Mamet       Adam Driver                    1\n",
       "4128    Zosia Mamet  Allison Williams                    1\n",
       "4129    Zosia Mamet      Jemima Kirke                    1\n",
       "4130    Zosia Mamet    Laura Ingraham                    1\n",
       "4131    Zosia Mamet       Lena Dunham                    1\n",
       "\n",
       "[3338 rows x 3 columns]"
      ]
     },
     "execution_count": 112,
     "metadata": {},
     "output_type": "execute_result"
    }
   ],
   "source": [
    "df_to_graph(df = df, node='guest_star', edge='episode_title')"
   ]
  },
  {
   "cell_type": "code",
   "execution_count": 113,
   "metadata": {
    "ExecuteTime": {
     "end_time": "2020-05-13T00:55:05.909259Z",
     "start_time": "2020-05-13T00:55:05.884326Z"
    },
    "scrolled": true
   },
   "outputs": [
    {
     "data": {
      "text/html": [
       "<div>\n",
       "<style scoped>\n",
       "    .dataframe tbody tr th:only-of-type {\n",
       "        vertical-align: middle;\n",
       "    }\n",
       "\n",
       "    .dataframe tbody tr th {\n",
       "        vertical-align: top;\n",
       "    }\n",
       "\n",
       "    .dataframe thead th {\n",
       "        text-align: right;\n",
       "    }\n",
       "</style>\n",
       "<table border=\"1\" class=\"dataframe\">\n",
       "  <thead>\n",
       "    <tr style=\"text-align: right;\">\n",
       "      <th></th>\n",
       "      <th>guest_star_src</th>\n",
       "      <th>guest_star_dest</th>\n",
       "      <th>episode_title_count</th>\n",
       "    </tr>\n",
       "  </thead>\n",
       "  <tbody>\n",
       "    <tr>\n",
       "      <th>2</th>\n",
       "      <td>50 Cent</td>\n",
       "      <td>Dana Gould</td>\n",
       "      <td>1</td>\n",
       "    </tr>\n",
       "    <tr>\n",
       "      <th>2734</th>\n",
       "      <td>Michael Jackson</td>\n",
       "      <td>Kipp Lennon</td>\n",
       "      <td>1</td>\n",
       "    </tr>\n",
       "    <tr>\n",
       "      <th>2736</th>\n",
       "      <td>Michael Keaton</td>\n",
       "      <td>Bruce Vilanch</td>\n",
       "      <td>1</td>\n",
       "    </tr>\n",
       "    <tr>\n",
       "      <th>2737</th>\n",
       "      <td>Michael Keaton</td>\n",
       "      <td>Charles Napier</td>\n",
       "      <td>1</td>\n",
       "    </tr>\n",
       "    <tr>\n",
       "      <th>2738</th>\n",
       "      <td>Michael Keaton</td>\n",
       "      <td>Marcia Wallace</td>\n",
       "      <td>1</td>\n",
       "    </tr>\n",
       "    <tr>\n",
       "      <th>...</th>\n",
       "      <td>...</td>\n",
       "      <td>...</td>\n",
       "      <td>...</td>\n",
       "    </tr>\n",
       "    <tr>\n",
       "      <th>1602</th>\n",
       "      <td>Joe Mantegna</td>\n",
       "      <td>Marcia Wallace</td>\n",
       "      <td>8</td>\n",
       "    </tr>\n",
       "    <tr>\n",
       "      <th>2375</th>\n",
       "      <td>Marcia Wallace</td>\n",
       "      <td>Joe Mantegna</td>\n",
       "      <td>8</td>\n",
       "    </tr>\n",
       "    <tr>\n",
       "      <th>999</th>\n",
       "      <td>Frank Welker</td>\n",
       "      <td>Marcia Wallace</td>\n",
       "      <td>8</td>\n",
       "    </tr>\n",
       "    <tr>\n",
       "      <th>2438</th>\n",
       "      <td>Marcia Wallace</td>\n",
       "      <td>Phil Hartman</td>\n",
       "      <td>18</td>\n",
       "    </tr>\n",
       "    <tr>\n",
       "      <th>3074</th>\n",
       "      <td>Phil Hartman</td>\n",
       "      <td>Marcia Wallace</td>\n",
       "      <td>18</td>\n",
       "    </tr>\n",
       "  </tbody>\n",
       "</table>\n",
       "<p>3338 rows × 3 columns</p>\n",
       "</div>"
      ],
      "text/plain": [
       "       guest_star_src guest_star_dest  episode_title_count\n",
       "2             50 Cent      Dana Gould                    1\n",
       "2734  Michael Jackson     Kipp Lennon                    1\n",
       "2736   Michael Keaton   Bruce Vilanch                    1\n",
       "2737   Michael Keaton  Charles Napier                    1\n",
       "2738   Michael Keaton  Marcia Wallace                    1\n",
       "...               ...             ...                  ...\n",
       "1602     Joe Mantegna  Marcia Wallace                    8\n",
       "2375   Marcia Wallace    Joe Mantegna                    8\n",
       "999      Frank Welker  Marcia Wallace                    8\n",
       "2438   Marcia Wallace    Phil Hartman                   18\n",
       "3074     Phil Hartman  Marcia Wallace                   18\n",
       "\n",
       "[3338 rows x 3 columns]"
      ]
     },
     "execution_count": 113,
     "metadata": {},
     "output_type": "execute_result"
    }
   ],
   "source": [
    "graph_df = df_to_graph(df, 'guest_star', 'episode_title')\n",
    "graph_df.sort_values(by='episode_title_count')"
   ]
  },
  {
   "cell_type": "code",
   "execution_count": 114,
   "metadata": {
    "ExecuteTime": {
     "end_time": "2020-05-13T00:56:04.776699Z",
     "start_time": "2020-05-13T00:56:03.346785Z"
    }
   },
   "outputs": [
    {
     "name": "stdout",
     "output_type": "stream",
     "text": [
      "Number of edges: 1669\n",
      "Average degree: 4.5788751714677645\n",
      "Density: 0.006289663697071105\n"
     ]
    },
    {
     "data": {
      "text/html": [
       "<div>\n",
       "<style scoped>\n",
       "    .dataframe tbody tr th:only-of-type {\n",
       "        vertical-align: middle;\n",
       "    }\n",
       "\n",
       "    .dataframe tbody tr th {\n",
       "        vertical-align: top;\n",
       "    }\n",
       "\n",
       "    .dataframe thead th {\n",
       "        text-align: right;\n",
       "    }\n",
       "</style>\n",
       "<table border=\"1\" class=\"dataframe\">\n",
       "  <thead>\n",
       "    <tr style=\"text-align: right;\">\n",
       "      <th></th>\n",
       "      <th>Node</th>\n",
       "      <th>Betweenness Centrality</th>\n",
       "    </tr>\n",
       "  </thead>\n",
       "  <tbody>\n",
       "    <tr>\n",
       "      <th>5</th>\n",
       "      <td>Marcia Wallace</td>\n",
       "      <td>0.317746</td>\n",
       "    </tr>\n",
       "    <tr>\n",
       "      <th>6</th>\n",
       "      <td>Maurice LaMarche</td>\n",
       "      <td>0.082161</td>\n",
       "    </tr>\n",
       "    <tr>\n",
       "      <th>115</th>\n",
       "      <td>Jon Lovitz</td>\n",
       "      <td>0.060001</td>\n",
       "    </tr>\n",
       "    <tr>\n",
       "      <th>26</th>\n",
       "      <td>Phil Hartman</td>\n",
       "      <td>0.055232</td>\n",
       "    </tr>\n",
       "    <tr>\n",
       "      <th>46</th>\n",
       "      <td>Joe Mantegna</td>\n",
       "      <td>0.053040</td>\n",
       "    </tr>\n",
       "  </tbody>\n",
       "</table>\n",
       "</div>"
      ],
      "text/plain": [
       "                 Node  Betweenness Centrality\n",
       "5      Marcia Wallace                0.317746\n",
       "6    Maurice LaMarche                0.082161\n",
       "115        Jon Lovitz                0.060001\n",
       "26       Phil Hartman                0.055232\n",
       "46       Joe Mantegna                0.053040"
      ]
     },
     "execution_count": 114,
     "metadata": {},
     "output_type": "execute_result"
    }
   ],
   "source": [
    "G = nx.from_pandas_edgelist(graph_df, 'guest_star_src', 'guest_star_dest')\n",
    "print('Number of edges:', G.size())\n",
    "print('Average degree:', sum(dict(G.degree()).values())/G.order())\n",
    "print('Density:', nx.density(G))\n",
    "\n",
    "betweenness = nx.betweenness_centrality(G, weight='edge')\n",
    "betweenness = pd.DataFrame.from_dict(betweenness, orient='index').reset_index()\n",
    "betweenness.columns = ['Node', 'Betweenness Centrality']\n",
    "betweenness.sort_values('Betweenness Centrality', ascending=False).head()"
   ]
  },
  {
   "cell_type": "code",
   "execution_count": 115,
   "metadata": {
    "ExecuteTime": {
     "end_time": "2020-05-13T00:57:58.157144Z",
     "start_time": "2020-05-13T00:57:58.055416Z"
    }
   },
   "outputs": [
    {
     "data": {
      "text/html": [
       "<div>\n",
       "<style scoped>\n",
       "    .dataframe tbody tr th:only-of-type {\n",
       "        vertical-align: middle;\n",
       "    }\n",
       "\n",
       "    .dataframe tbody tr th {\n",
       "        vertical-align: top;\n",
       "    }\n",
       "\n",
       "    .dataframe thead th {\n",
       "        text-align: right;\n",
       "    }\n",
       "</style>\n",
       "<table border=\"1\" class=\"dataframe\">\n",
       "  <thead>\n",
       "    <tr style=\"text-align: right;\">\n",
       "      <th></th>\n",
       "      <th>Node</th>\n",
       "      <th>Pagerank Centrality</th>\n",
       "    </tr>\n",
       "  </thead>\n",
       "  <tbody>\n",
       "    <tr>\n",
       "      <th>5</th>\n",
       "      <td>Marcia Wallace</td>\n",
       "      <td>0.054583</td>\n",
       "    </tr>\n",
       "    <tr>\n",
       "      <th>26</th>\n",
       "      <td>Phil Hartman</td>\n",
       "      <td>0.013763</td>\n",
       "    </tr>\n",
       "    <tr>\n",
       "      <th>6</th>\n",
       "      <td>Maurice LaMarche</td>\n",
       "      <td>0.013545</td>\n",
       "    </tr>\n",
       "    <tr>\n",
       "      <th>46</th>\n",
       "      <td>Joe Mantegna</td>\n",
       "      <td>0.012000</td>\n",
       "    </tr>\n",
       "    <tr>\n",
       "      <th>115</th>\n",
       "      <td>Jon Lovitz</td>\n",
       "      <td>0.008910</td>\n",
       "    </tr>\n",
       "  </tbody>\n",
       "</table>\n",
       "</div>"
      ],
      "text/plain": [
       "                 Node  Pagerank Centrality\n",
       "5      Marcia Wallace             0.054583\n",
       "26       Phil Hartman             0.013763\n",
       "6    Maurice LaMarche             0.013545\n",
       "46       Joe Mantegna             0.012000\n",
       "115        Jon Lovitz             0.008910"
      ]
     },
     "execution_count": 115,
     "metadata": {},
     "output_type": "execute_result"
    }
   ],
   "source": [
    "pagerank = nx.pagerank(G, weight='edge')\n",
    "pagerank = pd.DataFrame.from_dict(pagerank, orient='index').reset_index()\n",
    "pagerank.columns = ['Node', 'Pagerank Centrality']\n",
    "pagerank.sort_values('Pagerank Centrality', ascending=False).head()"
   ]
  },
  {
   "cell_type": "code",
   "execution_count": 117,
   "metadata": {
    "ExecuteTime": {
     "end_time": "2020-05-13T00:58:32.105283Z",
     "start_time": "2020-05-13T00:58:31.336622Z"
    }
   },
   "outputs": [],
   "source": [
    "bb = nx.betweenness_centrality(G)\n",
    "nx.set_node_attributes(G, bb, 'betweenness')"
   ]
  },
  {
   "cell_type": "code",
   "execution_count": 118,
   "metadata": {
    "ExecuteTime": {
     "end_time": "2020-05-13T00:58:36.095012Z",
     "start_time": "2020-05-13T00:58:32.643854Z"
    }
   },
   "outputs": [
    {
     "data": {
      "image/png": "[encoded data removed]",
      "text/plain": [
       "<Figure size 432x288 with 1 Axes>"
      ]
     },
     "metadata": {},
     "output_type": "display_data"
    }
   ],
   "source": [
    "#d = dict(G.degree)\n",
    "#d\n",
    "nx.draw(G, nodelist=bb.keys(), node_size=2, edge_size=2)"
   ]
  },
  {
   "cell_type": "code",
   "execution_count": 119,
   "metadata": {
    "ExecuteTime": {
     "end_time": "2020-05-13T00:59:21.519976Z",
     "start_time": "2020-05-13T00:59:04.129326Z"
    }
   },
   "outputs": [
    {
     "data": {
      "image/png": "[encoded data removed]",
      "text/plain": [
       "<Figure size 432x288 with 1 Axes>"
      ]
     },
     "metadata": {},
     "output_type": "display_data"
    }
   ],
   "source": [
    "nx.draw_kamada_kawai(G, node_size=20, node_color='cyan')"
   ]
  },
  {
   "cell_type": "code",
   "execution_count": 120,
   "metadata": {
    "ExecuteTime": {
     "end_time": "2020-05-13T00:59:47.323786Z",
     "start_time": "2020-05-13T00:59:47.312783Z"
    }
   },
   "outputs": [
    {
     "data": {
      "text/html": [
       "<div>\n",
       "<style scoped>\n",
       "    .dataframe tbody tr th:only-of-type {\n",
       "        vertical-align: middle;\n",
       "    }\n",
       "\n",
       "    .dataframe tbody tr th {\n",
       "        vertical-align: top;\n",
       "    }\n",
       "\n",
       "    .dataframe thead th {\n",
       "        text-align: right;\n",
       "    }\n",
       "</style>\n",
       "<table border=\"1\" class=\"dataframe\">\n",
       "  <thead>\n",
       "    <tr style=\"text-align: right;\">\n",
       "      <th></th>\n",
       "      <th>season</th>\n",
       "      <th>number</th>\n",
       "      <th>production_code</th>\n",
       "      <th>episode_title</th>\n",
       "      <th>guest_star</th>\n",
       "      <th>role</th>\n",
       "    </tr>\n",
       "  </thead>\n",
       "  <tbody>\n",
       "    <tr>\n",
       "      <th>0</th>\n",
       "      <td>1</td>\n",
       "      <td>002–102</td>\n",
       "      <td>7G02</td>\n",
       "      <td>Bart the Genius</td>\n",
       "      <td>Marcia Wallace</td>\n",
       "      <td>Edna Krabappel;  Ms. Melon</td>\n",
       "    </tr>\n",
       "    <tr>\n",
       "      <th>1</th>\n",
       "      <td>1</td>\n",
       "      <td>003–103</td>\n",
       "      <td>7G03</td>\n",
       "      <td>Homer's Odyssey</td>\n",
       "      <td>Sam McMurray</td>\n",
       "      <td>Worker</td>\n",
       "    </tr>\n",
       "    <tr>\n",
       "      <th>2</th>\n",
       "      <td>1</td>\n",
       "      <td>003–103</td>\n",
       "      <td>7G03</td>\n",
       "      <td>Homer's Odyssey</td>\n",
       "      <td>Marcia Wallace</td>\n",
       "      <td>Edna Krabappel</td>\n",
       "    </tr>\n",
       "    <tr>\n",
       "      <th>3</th>\n",
       "      <td>1</td>\n",
       "      <td>006–106</td>\n",
       "      <td>7G06</td>\n",
       "      <td>Moaning Lisa</td>\n",
       "      <td>Miriam Flynn</td>\n",
       "      <td>Ms. Barr</td>\n",
       "    </tr>\n",
       "    <tr>\n",
       "      <th>4</th>\n",
       "      <td>1</td>\n",
       "      <td>006–106</td>\n",
       "      <td>7G06</td>\n",
       "      <td>Moaning Lisa</td>\n",
       "      <td>Ron Taylor</td>\n",
       "      <td>Bleeding Gums Murphy</td>\n",
       "    </tr>\n",
       "    <tr>\n",
       "      <th>...</th>\n",
       "      <td>...</td>\n",
       "      <td>...</td>\n",
       "      <td>...</td>\n",
       "      <td>...</td>\n",
       "      <td>...</td>\n",
       "      <td>...</td>\n",
       "    </tr>\n",
       "    <tr>\n",
       "      <th>1381</th>\n",
       "      <td>30</td>\n",
       "      <td>661–3022</td>\n",
       "      <td>YABF15</td>\n",
       "      <td>Woo-Hoo Dunnit?</td>\n",
       "      <td>Jackie Mason</td>\n",
       "      <td>Rabbi Hyman Krustofsky</td>\n",
       "    </tr>\n",
       "    <tr>\n",
       "      <th>1382</th>\n",
       "      <td>30</td>\n",
       "      <td>661–3022</td>\n",
       "      <td>YABF15</td>\n",
       "      <td>Woo-Hoo Dunnit?</td>\n",
       "      <td>Liev Schreiber</td>\n",
       "      <td>Dateline: Springfield Narrator</td>\n",
       "    </tr>\n",
       "    <tr>\n",
       "      <th>1383</th>\n",
       "      <td>30</td>\n",
       "      <td>662–3023</td>\n",
       "      <td>YABF16</td>\n",
       "      <td>Crystal Blue-Haired Persuasion</td>\n",
       "      <td>Illeana Douglas</td>\n",
       "      <td>New Age Clerk</td>\n",
       "    </tr>\n",
       "    <tr>\n",
       "      <th>1384</th>\n",
       "      <td>30</td>\n",
       "      <td>662–3023</td>\n",
       "      <td>YABF16</td>\n",
       "      <td>Crystal Blue-Haired Persuasion</td>\n",
       "      <td>Werner Herzog</td>\n",
       "      <td>Walter Hotenhoffer</td>\n",
       "    </tr>\n",
       "    <tr>\n",
       "      <th>1385</th>\n",
       "      <td>30</td>\n",
       "      <td>662–3023</td>\n",
       "      <td>YABF16</td>\n",
       "      <td>Crystal Blue-Haired Persuasion</td>\n",
       "      <td>Jenny Slate</td>\n",
       "      <td>Piper Paisley</td>\n",
       "    </tr>\n",
       "  </tbody>\n",
       "</table>\n",
       "<p>1386 rows × 6 columns</p>\n",
       "</div>"
      ],
      "text/plain": [
       "     season    number production_code                   episode_title  \\\n",
       "0         1   002–102            7G02                 Bart the Genius   \n",
       "1         1   003–103            7G03                 Homer's Odyssey   \n",
       "2         1   003–103            7G03                 Homer's Odyssey   \n",
       "3         1   006–106            7G06                    Moaning Lisa   \n",
       "4         1   006–106            7G06                    Moaning Lisa   \n",
       "...     ...       ...             ...                             ...   \n",
       "1381     30  661–3022          YABF15                 Woo-Hoo Dunnit?   \n",
       "1382     30  661–3022          YABF15                 Woo-Hoo Dunnit?   \n",
       "1383     30  662–3023          YABF16  Crystal Blue-Haired Persuasion   \n",
       "1384     30  662–3023          YABF16  Crystal Blue-Haired Persuasion   \n",
       "1385     30  662–3023          YABF16  Crystal Blue-Haired Persuasion   \n",
       "\n",
       "           guest_star                            role  \n",
       "0      Marcia Wallace      Edna Krabappel;  Ms. Melon  \n",
       "1        Sam McMurray                          Worker  \n",
       "2      Marcia Wallace                  Edna Krabappel  \n",
       "3        Miriam Flynn                        Ms. Barr  \n",
       "4          Ron Taylor            Bleeding Gums Murphy  \n",
       "...               ...                             ...  \n",
       "1381     Jackie Mason          Rabbi Hyman Krustofsky  \n",
       "1382   Liev Schreiber  Dateline: Springfield Narrator  \n",
       "1383  Illeana Douglas                   New Age Clerk  \n",
       "1384    Werner Herzog              Walter Hotenhoffer  \n",
       "1385      Jenny Slate                   Piper Paisley  \n",
       "\n",
       "[1386 rows x 6 columns]"
      ]
     },
     "execution_count": 120,
     "metadata": {},
     "output_type": "execute_result"
    }
   ],
   "source": [
    "df"
   ]
  },
  {
   "cell_type": "code",
   "execution_count": 121,
   "metadata": {
    "ExecuteTime": {
     "end_time": "2020-05-13T00:59:50.291058Z",
     "start_time": "2020-05-13T00:59:50.287069Z"
    }
   },
   "outputs": [
    {
     "data": {
      "text/plain": [
       "218"
      ]
     },
     "execution_count": 121,
     "metadata": {},
     "output_type": "execute_result"
    }
   ],
   "source": [
    "len(list(G.neighbors('Marcia Wallace')))"
   ]
  },
  {
   "cell_type": "markdown",
   "metadata": {},
   "source": [
    "# Interactive Visualization"
   ]
  },
  {
   "cell_type": "code",
   "execution_count": 30,
   "metadata": {
    "ExecuteTime": {
     "end_time": "2020-04-13T07:28:18.006931Z",
     "start_time": "2020-04-13T07:28:18.003939Z"
    }
   },
   "outputs": [],
   "source": [
    "# !pip install pyvis"
   ]
  },
  {
   "cell_type": "code",
   "execution_count": 122,
   "metadata": {
    "ExecuteTime": {
     "end_time": "2020-05-13T01:00:31.011295Z",
     "start_time": "2020-05-13T01:00:31.004313Z"
    }
   },
   "outputs": [
    {
     "data": {
      "text/html": [
       "<div>\n",
       "<style scoped>\n",
       "    .dataframe tbody tr th:only-of-type {\n",
       "        vertical-align: middle;\n",
       "    }\n",
       "\n",
       "    .dataframe tbody tr th {\n",
       "        vertical-align: top;\n",
       "    }\n",
       "\n",
       "    .dataframe thead th {\n",
       "        text-align: right;\n",
       "    }\n",
       "</style>\n",
       "<table border=\"1\" class=\"dataframe\">\n",
       "  <thead>\n",
       "    <tr style=\"text-align: right;\">\n",
       "      <th></th>\n",
       "      <th>guest_star_src</th>\n",
       "      <th>guest_star_dest</th>\n",
       "      <th>episode_title_count</th>\n",
       "    </tr>\n",
       "  </thead>\n",
       "  <tbody>\n",
       "    <tr>\n",
       "      <th>2</th>\n",
       "      <td>50 Cent</td>\n",
       "      <td>Dana Gould</td>\n",
       "      <td>1</td>\n",
       "    </tr>\n",
       "    <tr>\n",
       "      <th>4</th>\n",
       "      <td>Aaron Paul</td>\n",
       "      <td>Bryan Cranston</td>\n",
       "      <td>1</td>\n",
       "    </tr>\n",
       "    <tr>\n",
       "      <th>5</th>\n",
       "      <td>Aaron Paul</td>\n",
       "      <td>George Takei</td>\n",
       "      <td>1</td>\n",
       "    </tr>\n",
       "    <tr>\n",
       "      <th>6</th>\n",
       "      <td>Aaron Paul</td>\n",
       "      <td>Marcia Wallace</td>\n",
       "      <td>1</td>\n",
       "    </tr>\n",
       "    <tr>\n",
       "      <th>7</th>\n",
       "      <td>Aaron Paul</td>\n",
       "      <td>Maurice LaMarche</td>\n",
       "      <td>1</td>\n",
       "    </tr>\n",
       "  </tbody>\n",
       "</table>\n",
       "</div>"
      ],
      "text/plain": [
       "  guest_star_src   guest_star_dest  episode_title_count\n",
       "2        50 Cent        Dana Gould                    1\n",
       "4     Aaron Paul    Bryan Cranston                    1\n",
       "5     Aaron Paul      George Takei                    1\n",
       "6     Aaron Paul    Marcia Wallace                    1\n",
       "7     Aaron Paul  Maurice LaMarche                    1"
      ]
     },
     "execution_count": 122,
     "metadata": {},
     "output_type": "execute_result"
    }
   ],
   "source": [
    "graph_df.head()"
   ]
  },
  {
   "cell_type": "code",
   "execution_count": 124,
   "metadata": {
    "ExecuteTime": {
     "end_time": "2020-05-13T01:00:35.701350Z",
     "start_time": "2020-05-13T01:00:35.697361Z"
    }
   },
   "outputs": [
    {
     "data": {
      "text/plain": [
       "<networkx.classes.graph.Graph at 0x21f3d9189e8>"
      ]
     },
     "execution_count": 124,
     "metadata": {},
     "output_type": "execute_result"
    }
   ],
   "source": [
    "G"
   ]
  },
  {
   "cell_type": "code",
   "execution_count": 126,
   "metadata": {
    "ExecuteTime": {
     "end_time": "2020-05-13T01:00:57.070532Z",
     "start_time": "2020-05-13T01:00:57.066571Z"
    }
   },
   "outputs": [],
   "source": [
    "from pyvis.network import Network"
   ]
  },
  {
   "cell_type": "code",
   "execution_count": 127,
   "metadata": {
    "ExecuteTime": {
     "end_time": "2020-05-13T01:01:02.575730Z",
     "start_time": "2020-05-13T01:01:02.565757Z"
    }
   },
   "outputs": [],
   "source": [
    "g = Network(notebook=True)"
   ]
  },
  {
   "cell_type": "code",
   "execution_count": 128,
   "metadata": {
    "ExecuteTime": {
     "end_time": "2020-05-13T01:01:03.532807Z",
     "start_time": "2020-05-13T01:01:03.528818Z"
    }
   },
   "outputs": [
    {
     "data": {
      "text/plain": [
       "NodeView(('50 Cent', 'Dana Gould', 'Aaron Paul', 'Bryan Cranston', 'George Takei', 'Marcia Wallace', 'Maurice LaMarche', 'Wanda Sykes', 'Adam Driver', 'Allison Williams', 'Jemima Kirke', 'Laura Ingraham', 'Lena Dunham', 'Zosia Mamet', 'Adam Savage', 'Jamie Hyneman', 'Michael Cera', 'Adam Silver', 'Brian Posehn', 'Rob Riggle', 'Vanessa Bayer', 'Adam West', 'Baha Men', 'Burt Ward', 'Jan Hooks', 'Linda Ronstadt', 'Phil Hartman', 'Aerosmith', 'Kipp Lennon', 'Al Roker', 'Anne Hathaway', 'Don Pardo', 'Ken Burns', 'Kevin Michael Richardson', 'Natalie Portman', 'Sarah Michelle Gellar', 'Sarah Silverman', 'Zooey Deschanel', 'Alan Moore', 'Art Spiegelman', 'Daniel Clowes', 'Jack Black', 'Sang Am Lee', 'Albert Brooks', 'Green Day', 'James Brown', 'Joe Mantegna', 'Johnny Mathis', 'Philip Rosenthal', 'Sally Stevens', 'Tom Hanks', 'Alec Baldwin', 'Brian Grazer', 'Kim Basinger', 'Ron Howard', 'Alex Rocco', 'Jack Sheldon', 'Kirk Douglas', 'Suzanne Somers', 'Alex Trebek', 'Steve Carell', 'Terry W. Greene', 'Alison Bechdel', 'Dan Harmon', 'Marjane Satrapi', 'Martin Short', 'Rachel Bloom', 'Roz Chast', 'Alison Krauss and Union Station', 'Jackie Mason', 'Julian Assange', 'Kelsey Grammer', 'Susie Stevens', 'Alton Brown', 'Anthony Newley (archival)', 'Ben Schwartz', 'Bobby Moynihan', 'Edward James Olmos', 'Rex Harrison (archival)', 'Alyson Hannigan', 'Kristen Wiig', 'Scott Thompson', 'Amber Riley', 'Bret McKenzie', 'Cory Monteith', 'Ira Glass', 'Jemaine Clement', 'Lea Michele', 'Stephen Hawking', 'Amick Byram', 'Bob Joyce', 'Frances McDormand', 'Jim Gilstrap', 'Oren Waters', 'Amy Poehler', 'John DiMaggio', 'Amy Schumer', 'Pendleton Ward', 'Amy Tan', 'Drew Barrymore', 'Jay Mohr', 'John Updike', 'Stephen King', 'Anderson Cooper', 'Eva Longoria', 'Andre Agassi', 'Pete Sampras', 'Serena Williams', 'Venus Williams', 'Andrea Martin', 'Andrés Cantor', 'Joey Vieira', 'Andy Daly', 'Damian Kulash', 'Dawnn Lewis', 'Jon Lovitz', 'Tim Nordwind', 'Andy Dick', 'James Patterson', 'Meg Ryan', 'Peter Bogdanovich', 'Stephen Sondheim', 'Andy García', 'Neil Gaiman', 'Andy Serkis', 'David Byrne', 'Jonathan Taylor Thomas', 'Angela Bassett', 'Anika Noni Rose', 'Jennifer Tilly', 'Marvin Hamlisch', 'Anne Bancroft', 'George Wendt', 'John Ratzenberger', 'Rhea Perlman', 'Ted Danson', 'Woody Harrelson', 'Eartha Kitt', 'Gary Larson', 'Anthony Bourdain', 'Eric Wareheim', 'Gordon Ramsay', 'Mario Batali', 'Tim Heidecker', 'Antonio Fargas', 'Dave Thomas', 'Randy Johnson', 'Susan Sarandon', 'Armie Hammer', 'David Letterman', 'Tiger Lillies', 'Aron Ralston', 'Ashley Olsen', 'Mary-Kate Olsen', 'Thomas Pynchon', 'Tom Clancy', 'Audrey Meadows', 'Awkwafina', 'Chelsea Peretti', 'Judy Blume', 'Lucas Meyer', 'Nicole Byer', 'Los Lobos', 'Barry White', 'Bette Midler', 'Elizabeth Taylor', 'Gene Merlino', 'Hugh Hefner', 'Johnny Carson', 'Luke Perry', 'Red Hot Chili Peppers', 'Ben Daniels', 'William Friedkin', 'Ben Schatz', 'Weird Al Yankovic', 'Benedict Cumberbatch', 'Max Weinberg', 'Robert A. Caro', 'Betty White', 'J. K. Simmons', \"Beverly D'Angelo\", 'Dixie Chicks', 'Bill Burr', 'Doris Kearns Goodwin', 'Jason Nash', 'Michael Chiklis', 'Mike Mitchell', 'Rachel Dratch', 'Bill Hader', 'Cecily Strong', 'Jane Krakowski', 'Justin Bieber', 'Patrick Stewart', 'Bill James', 'Mike Scioscia', 'Bill Saluga', 'Olympia Dukakis', 'Bill de Blasio', 'Bryan Batt', \"Lawrence O'Donnell\", 'Billy Boyd', 'Nikolaj Coster-Waldau', 'Billy Eichner', 'Peter Serafinowicz', 'Billy West', 'David Herman', 'Frank Welker', 'Katey Sagal', 'Lauren Tom', 'Phil LaMarr', 'Blake Anderson', 'Nick Kroll', 'Renee Ridgeley', 'Blink-182', 'Jane Kaczmarek', 'Tony Hawk', 'Bob Boilen', 'Kate McKinnon', 'Natalie Maines', 'Bob Denver', 'Michael Carrington', 'Rod Steiger', 'Bob Hope', 'Lona Williams', 'Bob Newhart', 'Bobcat Goldthwait', 'Bruce Baum', 'Hank Williams, Jr.', 'Janeane Garofalo', 'Jay Leno', 'Steven Wright', 'Brave Combo', 'Brendan Fraser', 'Steven Weber', 'Denis Leary', 'Brian J. Kaufman', 'Jon Wurster', 'Tom Scharpling', 'Brian Setzer', 'Elvis Costello', 'Keith Richards', 'Lenny Kravitz', 'Mick Jagger', 'Tom Petty', 'Bruce Vilanch', 'Charles Napier', 'Michael Keaton', 'Robert Schimmel', 'Eric Idle', 'Butch Patrick', 'Garry Marshall', 'Buzz Aldrin', 'James Taylor', 'Caitlin Parrott', 'Glenn Close', 'Carice van Houten', 'Carl Kasell', 'John Oliver', 'Peter Sagal', 'Carmen Electra', 'Frances Sternhagen', 'Carol Kane', 'Greg Berg', 'Carrie Brownstein', 'Colin Meloy', 'Fred Armisen', 'Patton Oswalt', 'Cat Deeley', 'R. Lee Ermey', 'Stacy Keach', 'Channing Tatum', 'Judd Apatow', 'Leslie Mann', 'Paul Rudd', 'Rob Halford', 'Seth Rogen', 'Will Arnett', 'Charlean Carmon', 'Charles Barkley', 'Common', 'Destiny Torres', 'Jim Beanz', 'Keegan-Michael Key', 'RZA', 'Snoop Dogg', 'Taraji P. Henson', 'V. Bozeman', 'Frank Gehry', 'Charlie Rose', 'Diedrich Bader', 'Joe C.', 'Kid Rock', 'Robert Evans', 'Cheech Marin', 'Tommy Chong', 'Chick Hearn', 'Magic Johnson', 'Chris Hansen', 'Mark Zuckerberg', 'Muhammad Yunus', 'Chris Martin', 'Chris Wedge', 'Christina Ricci', 'Christopher Guest', 'Michael McKean', 'Christopher Lloyd', 'Rich Sommer', 'Chuck Liddell', 'Clarence Clemons', 'Gary Coleman', 'Tim Robbins', 'Cloris Leachman', 'Daniel Stern', 'Colm Meaney', 'Glen Hansard', 'Markéta Irglová', \"Conan O'Brien\", 'Cooper Manning', 'Eli Manning', 'Huell Howser', 'Jordan Nagai', 'Kim Cattrall', 'Peyton Manning', 'Smothers Brothers', 'Cyndi Lauper', 'Franklin D. Roosevelt (archival)', 'Cypress Hill', 'Peter Frampton', 'Sonic Youth', 'The Smashing Pumpkins', 'Dan Marino', 'Dolly Parton', 'Fred Willard', 'John Madden', 'Pat Summerall', 'Rosey Grier', 'Rupert Murdoch', 'Troy Aikman', 'Dan Mintz', 'Eugene Mirman', 'H. Jon Benjamin', 'John Roberts', 'Kristen Schaal', 'Ted Moock', 'Tracy Morgan', 'Dan Rather', 'Jon Stewart', 'John Kassir', 'Sab Shimono', 'Ted Nugent', 'Danica Patrick', 'Gregg Berger', 'Rachel Weisz', 'Daniel Radcliffe', 'Hugh Laurie', 'Jimmy O. Yang', 'Danny DeVito', 'Joe Frazier', 'Rashida Jones', 'Darryl Strawberry', 'Don Mattingly', 'Jose Canseco', 'Ken Griffey, Jr.', 'Ozzie Smith', 'Roger Clemens', 'Steve Sax', 'Terry Cashman', 'Wade Boggs', 'Daryl Coley', 'Ken Levine', 'Tom Poston', 'Tony Bennett', 'Dave Attell', 'Emily Deschanel', 'Gal Gadot', 'Jonathan Groff', 'Pete Holmes', 'Dave Matthews', 'David Copperfield', 'Jack McBrayer', 'Kristen Bell', 'Martin Landau', 'Penn Jillette', 'Ricky Jay', 'Teller', 'David Crosby', 'George Harrison', 'The Dapper Dans', 'David Duchovny', 'Gillian Anderson', 'Leonard Nimoy', 'David Hyde Pierce', 'Don Hertzfeldt', 'Jeff Ross', 'John Mahoney', 'Keith Olbermann', 'David Lander', 'Larry Holmes', 'David Mamet', 'James Lipton', 'Michael Paul Chan', 'David Silverman', 'Willem Dafoe', 'David Turley', 'Ken Jeong', 'Natasha Lyonne', 'Trombone Shorty', 'Deb Lacusta', 'Debi Mazar', 'Jonathan Schmock', 'Ray Liotta', 'Delroy Lindo', 'Denice Kumagai', 'Gedde Watanabe', 'Karen Maruyama', 'Keone Young', 'Denise Donatelli', 'Dennis Rodman', 'Terry Bradshaw', 'Dennis Weaver', 'Diana Tanaka', 'Joey Miyashima', 'Larry King', 'Dick Cavett', 'Johnny Unitas', 'Dick Clark', 'Lucy Lawless', 'Tom Arnold', 'Dick Tufeld', 'Isabel Sanford', 'Mark Hamill', 'Nick Bakay', 'William Daniels', 'Don Cheadle', 'Donald Fagen', 'Drew Carey', 'Judith Owen', 'Donald Sutherland', 'Dr. Demento', 'Henry Corden', 'Dudley R. Herschbach', 'Jennifer Garner', 'Jerry Lewis', 'Oscar De La Hoya', 'Dustin Hoffman', 'Earl Mann', 'Stephen Curry', 'Ed McMahon', 'Jerry Springer', 'Kathie Lee Gifford', 'Regis Philbin', 'Robert Englund', 'Eddie Izzard', 'Edward Asner', 'Edward Norton', 'Edwin Moses', 'Ellen DeGeneres', 'Kara DioGuardi', 'Randy Jackson', 'Ryan Seacrest', 'Simon Cowell', 'Ellen Page', 'Elton John', 'Elwood Edwards', 'Emily Blunt', 'Fall Out Boy', 'Ernest Borgnine', 'Evan Marriott', 'Ian McKellen', 'J. K. Rowling', 'Jane Leeves', 'Tony Blair', 'Fran Drescher', 'Phil McGraw', 'Richard Lewis', 'Sir Mix-a-Lot', 'Joan Kenley', 'Shawn Colvin', \"The B-52's\", 'The Who', 'Tracey Ullman', 'Frankie Muniz', 'Fred Turner', 'Jim Cummings', 'Randy Bachman', 'Trevor Denman', 'Gailard Sartain', 'Tim Conway', 'Gary Busey', 'Helen Fielding', 'James L. Brooks', 'Marisa Tomei', 'Gene Tenace', 'Sal Bando', 'George Carlin', 'Martin Mull', 'Yo La Tengo', 'George Fenneman', 'Pamela Reed', 'George Segal', 'Joe Clabby', 'Rhys Darby', 'Julia Louis-Dreyfus', 'Gerry Cooney', 'Robert Goulet', 'Harry Morgan', 'Lance Armstrong', 'Gore Vidal', 'Jonathan Franzen', 'Michael Chabon', 'Tom Wolfe', 'Gregory Peck (archival)', 'John Megna (archival)', 'Mary Badham (archival)', 'Phillip Alford (archival)', 'Halle Berry', 'J. B. Smoove', 'Nick Park', 'Ricky Gervais', 'Russell Brand', 'Harlan Ellison', 'Stan Lee', 'Heavy Young Heathens', 'Matthew Sweet', 'Sammy Hagar', 'Will Forte', 'Helen Hunt', 'Henry Winkler', 'Jay North', 'John Goodman', 'NRBQ', 'Illeana Douglas', 'Jenny Slate', 'Werner Herzog', 'Isabella Rossellini', 'Jasper Johns', 'Michael Dees', 'John Baldessari', 'Kevin Pollak', 'Jack Burns', 'Mel Gibson', 'Jack LaLanne', 'Jack Lemmon', 'Jack Ong', 'James Earl Jones', 'Joan Rivers', 'Kevin Dillon', 'Liev Schreiber', 'Mr. T', 'Theo Jansen', 'Wayne Gretzky', 'Jackson Browne', 'Steve Buscemi', 'James Caan', 'James Woods', 'Kathy Griffin', 'Jane Fonda', 'Robert Siegel', 'Jess Harnell', 'Janet Reno', 'Maggy Reno Hurchalla', 'Jason Alexander', 'Ken Jennings', 'Neil deGrasse Tyson', 'Robert McKee', 'Suze Orman', 'Jeff Bezos', 'Mark Cuban', 'Marv Albert', 'Jeff Goldblum', 'Jennifer Saunders', 'Valerie Harper', 'Jim Forbes', 'Willie Nelson', 'Jim Jarmusch', 'John C. Reilly', 'Michael York', 'William H. Macy', 'Joe Pantoliano', 'Jon Hamm', 'Metallica', 'Michael Imperioli', 'Neil Patrick Harris', 'Nick Fascitelli', 'Paul Newman', 'Robert Forster', 'Tavi Gevinson', 'Joe Namath', 'Mike Judge', 'Rachel Maddow', 'Roy Firestone', 'Joey Kramer', 'John F. Kennedy (archival)', \"Shaquille O'Neal\", 'John Lithgow', 'Josh Groban', 'Okilly Dokilly', 'John Slattery', 'Matthew Weiner', 'Johnnie Cochran (archival)', 'Neil Armstrong (archival)', 'Richard Nixon (archival)', 'Tom Savini', 'Kat Dennings', 'Ksenia Solo', 'Norman Lear', 'Richard Branson', 'Ringo Starr', 'Yaya DaCosta', 'Yo-Yo Ma', 'Jonah Hill', 'Joyce Carol Oates', 'June Foray', 'Paul Willson', 'Penny Marshall', 'Kaitlin Olson', 'Stephen Merchant', 'Kareem Abdul-Jabbar', 'Katy Perry', 'Martha Stewart', 'Maria Grazia Cucinotta', 'Lisa Leslie', 'Kenny Scharf', 'Nicholas McKaig', 'Robbie Conal', 'Ron English', 'Shepard Fairey', 'Kiefer Sutherland', 'Lady Gaga', 'Matt Groening', 'Pharrell Williams', 'Ping Marshall', 'Ron Taylor', 'Sonny Rollins', 'Tom Colicchio', 'Mary Lynn Rajskub', 'Kimmy Robertson', 'Michael Jackson', 'Kurt Loder', 'Larina Jean Adamson', 'The White Stripes', 'Larry Hagman', 'Melanie Griffith', 'Larry McKay', 'Lawrence Tierney', 'LeBron James', 'Michelle Kwan', 'Tom Brady', 'Warren Sapp', 'Yao Ming', 'Leeza Gibbons', 'Liam Neeson', 'Linda McCartney', 'Paul McCartney', 'Lionel Richie', 'Stephen Colbert', 'Lisa Lampanelli', 'Seth MacFarlane', 'Little Richard', 'Lizzy Caplan', 'Michael Sheen', 'Lucy Liu', 'Robert Wagner', 'Ludacris', 'Magnus Carlsen', 'Seth Green', 'Mandy Moore', 'Mandy Patinkin', 'Marc Wilmore', 'Nick Offerman', 'Parker Posey', 'Mark McGwire', 'Martin Sheen', 'Matthew Perry', 'Merl Reagle', 'Michael Moore', 'Michelle Pfeiffer', 'Mitch Albom', \"Nancy O'Dell\", \"Pat O'Brien\", 'Patrick McGoohan', 'Paul Anka', 'Paul McGuinness', 'Paul Winfield', 'Pierce Brosnan', 'Richard Dawkins', 'Ronaldo', 'Rudy Giuliani', 'Sam McMurray', 'Stephen Jay Gould', 'Steve Allen', 'Steve Martin', 'Sting', 'Susie Smith', 'Terry Gross', 'The Moody Blues', 'Theodore Roosevelt (archival)', 'Tina Fey', 'Tom Jones', 'Topher Grace', 'U2', 'Werner Klemperer', 'Will Shortz', 'Mark Campbell', 'Nichelle Nichols', 'Tom Waits', 'Will Lyman', 'Max von Sydow', 'Maya Rudolph', 'Plácido Domingo', 'Meher Tatna', 'Richard Dean Anderson', 'Mel Brooks', 'Michael Buffer', 'Rob Reiner', 'Michele Pillar', 'Mickey Rooney', 'Miriam Flynn', 'Sara Gilbert', 'Patti LuPone', 'Ray Romano', 'Reese Witherspoon', 'Wolfgang Puck', 'Steve Coogan', 'Treat Williams', 'RuPaul', 'Sutan Amrull', 'Sacha Baron Cohen', 'Yael Naim'))"
      ]
     },
     "execution_count": 128,
     "metadata": {},
     "output_type": "execute_result"
    }
   ],
   "source": [
    "G.nodes()"
   ]
  },
  {
   "cell_type": "code",
   "execution_count": 129,
   "metadata": {
    "ExecuteTime": {
     "end_time": "2020-05-13T01:01:16.723110Z",
     "start_time": "2020-05-13T01:01:16.566530Z"
    }
   },
   "outputs": [],
   "source": [
    "g.from_nx(G)"
   ]
  },
  {
   "cell_type": "code",
   "execution_count": 130,
   "metadata": {
    "ExecuteTime": {
     "end_time": "2020-05-13T01:01:18.045437Z",
     "start_time": "2020-05-13T01:01:18.041447Z"
    }
   },
   "outputs": [
    {
     "data": {
      "text/plain": [
       "<class 'pyvis.network.Network'> |N|=729 |E|=1,669"
      ]
     },
     "execution_count": 130,
     "metadata": {},
     "output_type": "execute_result"
    }
   ],
   "source": [
    "g"
   ]
  },
  {
   "cell_type": "code",
   "execution_count": 132,
   "metadata": {
    "ExecuteTime": {
     "end_time": "2020-05-13T01:03:58.152042Z",
     "start_time": "2020-05-13T01:03:58.143066Z"
    }
   },
   "outputs": [
    {
     "data": {
      "text/html": [
       "\n",
       "        <iframe\n",
       "            width=\"500px\"\n",
       "            height=\"500px\"\n",
       "            src=\"test.html\"\n",
       "            frameborder=\"0\"\n",
       "            allowfullscreen\n",
       "        ></iframe>\n",
       "        "
      ],
      "text/plain": [
       "<IPython.lib.display.IFrame at 0x21f3d192518>"
      ]
     },
     "execution_count": 132,
     "metadata": {},
     "output_type": "execute_result"
    }
   ],
   "source": [
    "\n",
    "g.show_buttons()\n",
    "g.show('test.html', )"
   ]
  },
  {
   "cell_type": "markdown",
   "metadata": {},
   "source": [
    "# Game of Thrones Graph"
   ]
  },
  {
   "cell_type": "code",
   "execution_count": 138,
   "metadata": {
    "ExecuteTime": {
     "end_time": "2020-05-13T01:09:50.891806Z",
     "start_time": "2020-05-13T01:09:50.887817Z"
    }
   },
   "outputs": [],
   "source": [
    "url = 'https://www.macalester.edu/~abeverid/data/stormofswords.csv'\n",
    "got_data = pd.read_csv(url)\n",
    "G = nx.from_pandas_edgelist(got_data, 'Source','Target', edge_attr='Weight')"
   ]
  },
  {
   "cell_type": "code",
   "execution_count": 147,
   "metadata": {
    "ExecuteTime": {
     "end_time": "2020-05-13T01:12:25.954378Z",
     "start_time": "2020-05-13T01:12:25.921466Z"
    }
   },
   "outputs": [
    {
     "data": {
      "text/html": [
       "<div>\n",
       "<style scoped>\n",
       "    .dataframe tbody tr th:only-of-type {\n",
       "        vertical-align: middle;\n",
       "    }\n",
       "\n",
       "    .dataframe tbody tr th {\n",
       "        vertical-align: top;\n",
       "    }\n",
       "\n",
       "    .dataframe thead th {\n",
       "        text-align: right;\n",
       "    }\n",
       "</style>\n",
       "<table border=\"1\" class=\"dataframe\">\n",
       "  <thead>\n",
       "    <tr style=\"text-align: right;\">\n",
       "      <th></th>\n",
       "      <th>Node</th>\n",
       "      <th>Pagerank Centrality</th>\n",
       "    </tr>\n",
       "  </thead>\n",
       "  <tbody>\n",
       "    <tr>\n",
       "      <th>6</th>\n",
       "      <td>Tyrion</td>\n",
       "      <td>0.042878</td>\n",
       "    </tr>\n",
       "    <tr>\n",
       "      <th>21</th>\n",
       "      <td>Jon</td>\n",
       "      <td>0.035831</td>\n",
       "    </tr>\n",
       "    <tr>\n",
       "      <th>48</th>\n",
       "      <td>Robb</td>\n",
       "      <td>0.030166</td>\n",
       "    </tr>\n",
       "    <tr>\n",
       "      <th>50</th>\n",
       "      <td>Sansa</td>\n",
       "      <td>0.030004</td>\n",
       "    </tr>\n",
       "    <tr>\n",
       "      <th>63</th>\n",
       "      <td>Daenerys</td>\n",
       "      <td>0.028835</td>\n",
       "    </tr>\n",
       "    <tr>\n",
       "      <th>4</th>\n",
       "      <td>Jaime</td>\n",
       "      <td>0.028724</td>\n",
       "    </tr>\n",
       "    <tr>\n",
       "      <th>7</th>\n",
       "      <td>Tywin</td>\n",
       "      <td>0.025695</td>\n",
       "    </tr>\n",
       "    <tr>\n",
       "      <th>5</th>\n",
       "      <td>Robert</td>\n",
       "      <td>0.022293</td>\n",
       "    </tr>\n",
       "    <tr>\n",
       "      <th>17</th>\n",
       "      <td>Cersei</td>\n",
       "      <td>0.022283</td>\n",
       "    </tr>\n",
       "    <tr>\n",
       "      <th>12</th>\n",
       "      <td>Arya</td>\n",
       "      <td>0.022046</td>\n",
       "    </tr>\n",
       "  </tbody>\n",
       "</table>\n",
       "</div>"
      ],
      "text/plain": [
       "        Node  Pagerank Centrality\n",
       "6     Tyrion             0.042878\n",
       "21       Jon             0.035831\n",
       "48      Robb             0.030166\n",
       "50     Sansa             0.030004\n",
       "63  Daenerys             0.028835\n",
       "4      Jaime             0.028724\n",
       "7      Tywin             0.025695\n",
       "5     Robert             0.022293\n",
       "17    Cersei             0.022283\n",
       "12      Arya             0.022046"
      ]
     },
     "execution_count": 147,
     "metadata": {},
     "output_type": "execute_result"
    }
   ],
   "source": [
    "pagerank = nx.pagerank(G, weight='edge')\n",
    "pagerank = pd.DataFrame.from_dict(pagerank, orient='index').reset_index()\n",
    "pagerank.columns = ['Node', 'Pagerank Centrality']\n",
    "pagerank.sort_values('Pagerank Centrality', ascending=False).head(10)"
   ]
  },
  {
   "cell_type": "code",
   "execution_count": 148,
   "metadata": {
    "ExecuteTime": {
     "end_time": "2020-05-13T01:12:38.871550Z",
     "start_time": "2020-05-13T01:12:38.861576Z"
    }
   },
   "outputs": [
    {
     "data": {
      "text/html": [
       "<div>\n",
       "<style scoped>\n",
       "    .dataframe tbody tr th:only-of-type {\n",
       "        vertical-align: middle;\n",
       "    }\n",
       "\n",
       "    .dataframe tbody tr th {\n",
       "        vertical-align: top;\n",
       "    }\n",
       "\n",
       "    .dataframe thead th {\n",
       "        text-align: right;\n",
       "    }\n",
       "</style>\n",
       "<table border=\"1\" class=\"dataframe\">\n",
       "  <thead>\n",
       "    <tr style=\"text-align: right;\">\n",
       "      <th></th>\n",
       "      <th>Node</th>\n",
       "      <th>Degree Centrality</th>\n",
       "    </tr>\n",
       "  </thead>\n",
       "  <tbody>\n",
       "    <tr>\n",
       "      <th>6</th>\n",
       "      <td>Tyrion</td>\n",
       "      <td>0.339623</td>\n",
       "    </tr>\n",
       "    <tr>\n",
       "      <th>21</th>\n",
       "      <td>Jon</td>\n",
       "      <td>0.245283</td>\n",
       "    </tr>\n",
       "    <tr>\n",
       "      <th>50</th>\n",
       "      <td>Sansa</td>\n",
       "      <td>0.245283</td>\n",
       "    </tr>\n",
       "    <tr>\n",
       "      <th>48</th>\n",
       "      <td>Robb</td>\n",
       "      <td>0.235849</td>\n",
       "    </tr>\n",
       "    <tr>\n",
       "      <th>4</th>\n",
       "      <td>Jaime</td>\n",
       "      <td>0.226415</td>\n",
       "    </tr>\n",
       "    <tr>\n",
       "      <th>7</th>\n",
       "      <td>Tywin</td>\n",
       "      <td>0.207547</td>\n",
       "    </tr>\n",
       "    <tr>\n",
       "      <th>17</th>\n",
       "      <td>Cersei</td>\n",
       "      <td>0.188679</td>\n",
       "    </tr>\n",
       "    <tr>\n",
       "      <th>12</th>\n",
       "      <td>Arya</td>\n",
       "      <td>0.179245</td>\n",
       "    </tr>\n",
       "    <tr>\n",
       "      <th>42</th>\n",
       "      <td>Catelyn</td>\n",
       "      <td>0.169811</td>\n",
       "    </tr>\n",
       "    <tr>\n",
       "      <th>5</th>\n",
       "      <td>Robert</td>\n",
       "      <td>0.169811</td>\n",
       "    </tr>\n",
       "  </tbody>\n",
       "</table>\n",
       "</div>"
      ],
      "text/plain": [
       "       Node  Degree Centrality\n",
       "6    Tyrion           0.339623\n",
       "21      Jon           0.245283\n",
       "50    Sansa           0.245283\n",
       "48     Robb           0.235849\n",
       "4     Jaime           0.226415\n",
       "7     Tywin           0.207547\n",
       "17   Cersei           0.188679\n",
       "12     Arya           0.179245\n",
       "42  Catelyn           0.169811\n",
       "5    Robert           0.169811"
      ]
     },
     "execution_count": 148,
     "metadata": {},
     "output_type": "execute_result"
    }
   ],
   "source": [
    "degree = nx.degree_centrality(G)\n",
    "degree = pd.DataFrame.from_dict(degree, orient='index').reset_index()\n",
    "degree.columns = ['Node', 'Degree Centrality']\n",
    "degree.sort_values('Degree Centrality', ascending=False).head(10)"
   ]
  },
  {
   "cell_type": "code",
   "execution_count": 151,
   "metadata": {
    "ExecuteTime": {
     "end_time": "2020-05-13T01:13:50.351309Z",
     "start_time": "2020-05-13T01:13:50.307427Z"
    }
   },
   "outputs": [
    {
     "data": {
      "text/html": [
       "<div>\n",
       "<style scoped>\n",
       "    .dataframe tbody tr th:only-of-type {\n",
       "        vertical-align: middle;\n",
       "    }\n",
       "\n",
       "    .dataframe tbody tr th {\n",
       "        vertical-align: top;\n",
       "    }\n",
       "\n",
       "    .dataframe thead th {\n",
       "        text-align: right;\n",
       "    }\n",
       "</style>\n",
       "<table border=\"1\" class=\"dataframe\">\n",
       "  <thead>\n",
       "    <tr style=\"text-align: right;\">\n",
       "      <th></th>\n",
       "      <th>Node</th>\n",
       "      <th>Betweenness Centrality</th>\n",
       "    </tr>\n",
       "  </thead>\n",
       "  <tbody>\n",
       "    <tr>\n",
       "      <th>21</th>\n",
       "      <td>Jon</td>\n",
       "      <td>0.229965</td>\n",
       "    </tr>\n",
       "    <tr>\n",
       "      <th>5</th>\n",
       "      <td>Robert</td>\n",
       "      <td>0.209452</td>\n",
       "    </tr>\n",
       "    <tr>\n",
       "      <th>6</th>\n",
       "      <td>Tyrion</td>\n",
       "      <td>0.197913</td>\n",
       "    </tr>\n",
       "    <tr>\n",
       "      <th>63</th>\n",
       "      <td>Daenerys</td>\n",
       "      <td>0.157203</td>\n",
       "    </tr>\n",
       "    <tr>\n",
       "      <th>48</th>\n",
       "      <td>Robb</td>\n",
       "      <td>0.126964</td>\n",
       "    </tr>\n",
       "    <tr>\n",
       "      <th>50</th>\n",
       "      <td>Sansa</td>\n",
       "      <td>0.126720</td>\n",
       "    </tr>\n",
       "    <tr>\n",
       "      <th>51</th>\n",
       "      <td>Stannis</td>\n",
       "      <td>0.102700</td>\n",
       "    </tr>\n",
       "    <tr>\n",
       "      <th>4</th>\n",
       "      <td>Jaime</td>\n",
       "      <td>0.099943</td>\n",
       "    </tr>\n",
       "    <tr>\n",
       "      <th>12</th>\n",
       "      <td>Arya</td>\n",
       "      <td>0.079607</td>\n",
       "    </tr>\n",
       "    <tr>\n",
       "      <th>7</th>\n",
       "      <td>Tywin</td>\n",
       "      <td>0.065538</td>\n",
       "    </tr>\n",
       "  </tbody>\n",
       "</table>\n",
       "</div>"
      ],
      "text/plain": [
       "        Node  Betweenness Centrality\n",
       "21       Jon                0.229965\n",
       "5     Robert                0.209452\n",
       "6     Tyrion                0.197913\n",
       "63  Daenerys                0.157203\n",
       "48      Robb                0.126964\n",
       "50     Sansa                0.126720\n",
       "51   Stannis                0.102700\n",
       "4      Jaime                0.099943\n",
       "12      Arya                0.079607\n",
       "7      Tywin                0.065538"
      ]
     },
     "execution_count": 151,
     "metadata": {},
     "output_type": "execute_result"
    }
   ],
   "source": [
    "betweenness = nx.betweenness_centrality(G)\n",
    "betweenness = pd.DataFrame.from_dict(betweenness, orient='index').reset_index()\n",
    "betweenness.columns = ['Node', 'Betweenness Centrality']\n",
    "betweenness.sort_values('Betweenness Centrality', ascending=False).head(10)"
   ]
  },
  {
   "cell_type": "code",
   "execution_count": null,
   "metadata": {},
   "outputs": [],
   "source": []
  },
  {
   "cell_type": "code",
   "execution_count": null,
   "metadata": {},
   "outputs": [],
   "source": []
  },
  {
   "cell_type": "code",
   "execution_count": 134,
   "metadata": {
    "ExecuteTime": {
     "end_time": "2020-05-13T01:07:53.209133Z",
     "start_time": "2020-05-13T01:07:49.148908Z"
    },
    "scrolled": false
   },
   "outputs": [
    {
     "data": {
      "text/html": [
       "\n",
       "        <iframe\n",
       "            width=\"100%\"\n",
       "            height=\"750px\"\n",
       "            src=\"gameofthrones.html\"\n",
       "            frameborder=\"0\"\n",
       "            allowfullscreen\n",
       "        ></iframe>\n",
       "        "
      ],
      "text/plain": [
       "<IPython.lib.display.IFrame at 0x21f3dc8fa90>"
      ]
     },
     "execution_count": 134,
     "metadata": {},
     "output_type": "execute_result"
    }
   ],
   "source": [
    "from pyvis.network import Network\n",
    "import pandas as pd\n",
    "url = 'https://www.macalester.edu/~abeverid/data/stormofswords.csv'\n",
    "# https://raw.githubusercontent.com/mathbeveridge/asoiaf/master/data/asoiaf-all-edges.csv\n",
    "\n",
    "\n",
    "got_net = Network(height=\"750px\", width=\"100%\", notebook=True)\n",
    "\n",
    "# set the physics layout of the network\n",
    "got_net.barnes_hut()\n",
    "got_data = pd.read_csv(url)\n",
    "\n",
    "sources = got_data['Source']\n",
    "targets = got_data['Target']\n",
    "weights = got_data['Weight']\n",
    "\n",
    "edge_data = zip(sources, targets, weights)\n",
    "\n",
    "# run through each edge and assign a value\n",
    "for e in edge_data:\n",
    "    src = e[0]\n",
    "    dst = e[1]\n",
    "    w = e[2]\n",
    "\n",
    "    got_net.add_node(src, src, title=src)\n",
    "    got_net.add_node(dst, dst, title=dst)\n",
    "    got_net.add_edge(src, dst, value=w)\n",
    "\n",
    "# get neighbors\n",
    "neighbor_map = got_net.get_adj_list()\n",
    "\n",
    "# add neighbor data to node hover data\n",
    "for node in got_net.nodes:\n",
    "    node[\"title\"] += \" Neighbors:<br>\" + \"<br>\".join(neighbor_map[node[\"id\"]])\n",
    "    node[\"value\"] = len(neighbor_map[node[\"id\"]])\n",
    "\n",
    "got_net.show_buttons()\n",
    "got_net.show(\"gameofthrones.html\", )"
   ]
  },
  {
   "cell_type": "code",
   "execution_count": null,
   "metadata": {},
   "outputs": [],
   "source": []
  },
  {
   "cell_type": "code",
   "execution_count": 266,
   "metadata": {
    "ExecuteTime": {
     "end_time": "2020-04-17T15:17:09.708362Z",
     "start_time": "2020-04-17T15:17:09.697357Z"
    },
    "collapsed": true
   },
   "outputs": [],
   "source": [
    "got_net.save_graph('got.html')"
   ]
  },
  {
   "cell_type": "code",
   "execution_count": null,
   "metadata": {
    "collapsed": true
   },
   "outputs": [],
   "source": [
    "# https://pyvis.readthedocs.io/en/latest/tutorial.html#visualization"
   ]
  }
 ],
 "metadata": {
  "kernelspec": {
   "display_name": "Python 3",
   "language": "python",
   "name": "python3"
  },
  "language_info": {
   "codemirror_mode": {
    "name": "ipython",
    "version": 3
   },
   "file_extension": ".py",
   "mimetype": "text/x-python",
   "name": "python",
   "nbconvert_exporter": "python",
   "pygments_lexer": "ipython3",
   "version": "3.7.3"
  },
  "toc": {
   "base_numbering": 1,
   "nav_menu": {},
   "number_sections": true,
   "sideBar": true,
   "skip_h1_title": false,
   "title_cell": "Table of Contents",
   "title_sidebar": "Contents",
   "toc_cell": false,
   "toc_position": {},
   "toc_section_display": true,
   "toc_window_display": false
  }
 },
 "nbformat": 4,
 "nbformat_minor": 2
}
