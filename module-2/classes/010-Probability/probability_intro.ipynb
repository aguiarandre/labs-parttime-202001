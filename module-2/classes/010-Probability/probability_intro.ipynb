{
 "cells": [
  {
   "cell_type": "markdown",
   "metadata": {},
   "source": [
    "import numpy as np\n",
    "# ^^^ pyforest auto-imports - don't write above this line\n",
    "# Linear Regression Review"
   ]
  },
  {
   "cell_type": "code",
   "execution_count": 1,
   "metadata": {
    "ExecuteTime": {
     "end_time": "2020-04-10T15:17:34.059296Z",
     "start_time": "2020-04-10T15:17:30.575563Z"
    },
    "collapsed": true
   },
   "outputs": [],
   "source": [
    "import seaborn as sns\n",
    "import pandas as pd\n",
    "import matplotlib.pyplot as plt\n",
    "import pandas as pd\n",
    "\n",
    "df = pd.read_excel('https://github.com/rfordatascience/tidytuesday/blob/master/data/2018/2018-04-16/global_mortality.xlsx?raw=true')"
   ]
  },
  {
   "cell_type": "code",
   "execution_count": 2,
   "metadata": {
    "ExecuteTime": {
     "end_time": "2020-04-10T15:17:34.069270Z",
     "start_time": "2020-04-10T15:17:34.062289Z"
    },
    "collapsed": true
   },
   "outputs": [
    {
     "data": {
      "text/plain": [
       "Index(['country', 'country_code', 'year', 'Cardiovascular diseases (%)',\n",
       "       'Cancers (%)', 'Respiratory diseases (%)', 'Diabetes (%)',\n",
       "       'Dementia (%)', 'Lower respiratory infections (%)',\n",
       "       'Neonatal deaths (%)', 'Diarrheal diseases (%)', 'Road accidents (%)',\n",
       "       'Liver disease (%)', 'Tuberculosis (%)', 'Kidney disease (%)',\n",
       "       'Digestive diseases (%)', 'HIV/AIDS (%)', 'Suicide (%)', 'Malaria (%)',\n",
       "       'Homicide (%)', 'Nutritional deficiencies (%)', 'Meningitis (%)',\n",
       "       'Protein-energy malnutrition (%)', 'Drowning (%)',\n",
       "       'Maternal deaths (%)', 'Parkinson disease (%)', 'Alcohol disorders (%)',\n",
       "       'Intestinal infectious diseases (%)', 'Drug disorders (%)',\n",
       "       'Hepatitis (%)', 'Fire (%)', 'Heat-related (hot and cold exposure) (%)',\n",
       "       'Natural disasters (%)', 'Conflict (%)', 'Terrorism (%)'],\n",
       "      dtype='object')"
      ]
     },
     "execution_count": 2,
     "metadata": {},
     "output_type": "execute_result"
    }
   ],
   "source": [
    "df.columns"
   ]
  },
  {
   "cell_type": "code",
   "execution_count": 3,
   "metadata": {
    "ExecuteTime": {
     "end_time": "2020-04-10T15:17:34.089246Z",
     "start_time": "2020-04-10T15:17:34.071265Z"
    },
    "collapsed": true
   },
   "outputs": [
    {
     "data": {
      "text/html": [
       "<div>\n",
       "<style scoped>\n",
       "    .dataframe tbody tr th:only-of-type {\n",
       "        vertical-align: middle;\n",
       "    }\n",
       "\n",
       "    .dataframe tbody tr th {\n",
       "        vertical-align: top;\n",
       "    }\n",
       "\n",
       "    .dataframe thead th {\n",
       "        text-align: right;\n",
       "    }\n",
       "</style>\n",
       "<table border=\"1\" class=\"dataframe\">\n",
       "  <thead>\n",
       "    <tr style=\"text-align: right;\">\n",
       "      <th></th>\n",
       "      <th>country</th>\n",
       "      <th>country_code</th>\n",
       "      <th>year</th>\n",
       "      <th>Cardiovascular diseases (%)</th>\n",
       "      <th>Cancers (%)</th>\n",
       "      <th>Respiratory diseases (%)</th>\n",
       "      <th>Diabetes (%)</th>\n",
       "      <th>Dementia (%)</th>\n",
       "      <th>Lower respiratory infections (%)</th>\n",
       "      <th>Neonatal deaths (%)</th>\n",
       "      <th>...</th>\n",
       "      <th>Parkinson disease (%)</th>\n",
       "      <th>Alcohol disorders (%)</th>\n",
       "      <th>Intestinal infectious diseases (%)</th>\n",
       "      <th>Drug disorders (%)</th>\n",
       "      <th>Hepatitis (%)</th>\n",
       "      <th>Fire (%)</th>\n",
       "      <th>Heat-related (hot and cold exposure) (%)</th>\n",
       "      <th>Natural disasters (%)</th>\n",
       "      <th>Conflict (%)</th>\n",
       "      <th>Terrorism (%)</th>\n",
       "    </tr>\n",
       "  </thead>\n",
       "  <tbody>\n",
       "    <tr>\n",
       "      <th>0</th>\n",
       "      <td>Afghanistan</td>\n",
       "      <td>AFG</td>\n",
       "      <td>1990</td>\n",
       "      <td>17.610397</td>\n",
       "      <td>4.025975</td>\n",
       "      <td>2.106626</td>\n",
       "      <td>3.832555</td>\n",
       "      <td>0.531429</td>\n",
       "      <td>10.886362</td>\n",
       "      <td>9.184653</td>\n",
       "      <td>...</td>\n",
       "      <td>0.025159</td>\n",
       "      <td>0.028998</td>\n",
       "      <td>0.183330</td>\n",
       "      <td>0.041205</td>\n",
       "      <td>0.138738</td>\n",
       "      <td>0.174157</td>\n",
       "      <td>0.137823</td>\n",
       "      <td>0.000000</td>\n",
       "      <td>0.932</td>\n",
       "      <td>0.007</td>\n",
       "    </tr>\n",
       "    <tr>\n",
       "      <th>1</th>\n",
       "      <td>Afghanistan</td>\n",
       "      <td>AFG</td>\n",
       "      <td>1991</td>\n",
       "      <td>17.801807</td>\n",
       "      <td>4.054145</td>\n",
       "      <td>2.134176</td>\n",
       "      <td>3.822228</td>\n",
       "      <td>0.532497</td>\n",
       "      <td>10.356968</td>\n",
       "      <td>8.938897</td>\n",
       "      <td>...</td>\n",
       "      <td>0.025451</td>\n",
       "      <td>0.029172</td>\n",
       "      <td>0.178107</td>\n",
       "      <td>0.042033</td>\n",
       "      <td>0.135008</td>\n",
       "      <td>0.170671</td>\n",
       "      <td>0.134827</td>\n",
       "      <td>0.797603</td>\n",
       "      <td>2.044</td>\n",
       "      <td>0.040</td>\n",
       "    </tr>\n",
       "    <tr>\n",
       "      <th>2</th>\n",
       "      <td>Afghanistan</td>\n",
       "      <td>AFG</td>\n",
       "      <td>1992</td>\n",
       "      <td>18.386833</td>\n",
       "      <td>4.173959</td>\n",
       "      <td>2.208298</td>\n",
       "      <td>3.900125</td>\n",
       "      <td>0.540066</td>\n",
       "      <td>10.095546</td>\n",
       "      <td>8.841380</td>\n",
       "      <td>...</td>\n",
       "      <td>0.026122</td>\n",
       "      <td>0.029973</td>\n",
       "      <td>0.176855</td>\n",
       "      <td>0.043843</td>\n",
       "      <td>0.134582</td>\n",
       "      <td>0.171171</td>\n",
       "      <td>0.139053</td>\n",
       "      <td>0.340210</td>\n",
       "      <td>2.408</td>\n",
       "      <td>0.027</td>\n",
       "    </tr>\n",
       "    <tr>\n",
       "      <th>3</th>\n",
       "      <td>Afghanistan</td>\n",
       "      <td>AFG</td>\n",
       "      <td>1993</td>\n",
       "      <td>18.959646</td>\n",
       "      <td>4.269233</td>\n",
       "      <td>2.283923</td>\n",
       "      <td>3.974113</td>\n",
       "      <td>0.553813</td>\n",
       "      <td>9.873841</td>\n",
       "      <td>8.676409</td>\n",
       "      <td>...</td>\n",
       "      <td>0.027044</td>\n",
       "      <td>0.030456</td>\n",
       "      <td>0.173467</td>\n",
       "      <td>0.045350</td>\n",
       "      <td>0.133888</td>\n",
       "      <td>0.171032</td>\n",
       "      <td>0.150136</td>\n",
       "      <td>0.116263</td>\n",
       "      <td>NaN</td>\n",
       "      <td>NaN</td>\n",
       "    </tr>\n",
       "    <tr>\n",
       "      <th>4</th>\n",
       "      <td>Afghanistan</td>\n",
       "      <td>AFG</td>\n",
       "      <td>1994</td>\n",
       "      <td>19.089513</td>\n",
       "      <td>4.256034</td>\n",
       "      <td>2.307721</td>\n",
       "      <td>3.968954</td>\n",
       "      <td>0.550087</td>\n",
       "      <td>9.530242</td>\n",
       "      <td>8.384454</td>\n",
       "      <td>...</td>\n",
       "      <td>0.027180</td>\n",
       "      <td>0.030103</td>\n",
       "      <td>0.165135</td>\n",
       "      <td>0.045744</td>\n",
       "      <td>0.130486</td>\n",
       "      <td>0.167263</td>\n",
       "      <td>0.148970</td>\n",
       "      <td>0.075506</td>\n",
       "      <td>4.296</td>\n",
       "      <td>0.010</td>\n",
       "    </tr>\n",
       "  </tbody>\n",
       "</table>\n",
       "<p>5 rows × 35 columns</p>\n",
       "</div>"
      ],
      "text/plain": [
       "       country country_code  year  Cardiovascular diseases (%)  Cancers (%)  \\\n",
       "0  Afghanistan          AFG  1990                    17.610397     4.025975   \n",
       "1  Afghanistan          AFG  1991                    17.801807     4.054145   \n",
       "2  Afghanistan          AFG  1992                    18.386833     4.173959   \n",
       "3  Afghanistan          AFG  1993                    18.959646     4.269233   \n",
       "4  Afghanistan          AFG  1994                    19.089513     4.256034   \n",
       "\n",
       "   Respiratory diseases (%)  Diabetes (%)  Dementia (%)  \\\n",
       "0                  2.106626      3.832555      0.531429   \n",
       "1                  2.134176      3.822228      0.532497   \n",
       "2                  2.208298      3.900125      0.540066   \n",
       "3                  2.283923      3.974113      0.553813   \n",
       "4                  2.307721      3.968954      0.550087   \n",
       "\n",
       "   Lower respiratory infections (%)  Neonatal deaths (%)  ...  \\\n",
       "0                         10.886362             9.184653  ...   \n",
       "1                         10.356968             8.938897  ...   \n",
       "2                         10.095546             8.841380  ...   \n",
       "3                          9.873841             8.676409  ...   \n",
       "4                          9.530242             8.384454  ...   \n",
       "\n",
       "   Parkinson disease (%)  Alcohol disorders (%)  \\\n",
       "0               0.025159               0.028998   \n",
       "1               0.025451               0.029172   \n",
       "2               0.026122               0.029973   \n",
       "3               0.027044               0.030456   \n",
       "4               0.027180               0.030103   \n",
       "\n",
       "   Intestinal infectious diseases (%)  Drug disorders (%)  Hepatitis (%)  \\\n",
       "0                            0.183330            0.041205       0.138738   \n",
       "1                            0.178107            0.042033       0.135008   \n",
       "2                            0.176855            0.043843       0.134582   \n",
       "3                            0.173467            0.045350       0.133888   \n",
       "4                            0.165135            0.045744       0.130486   \n",
       "\n",
       "   Fire (%)  Heat-related (hot and cold exposure) (%)  Natural disasters (%)  \\\n",
       "0  0.174157                                  0.137823               0.000000   \n",
       "1  0.170671                                  0.134827               0.797603   \n",
       "2  0.171171                                  0.139053               0.340210   \n",
       "3  0.171032                                  0.150136               0.116263   \n",
       "4  0.167263                                  0.148970               0.075506   \n",
       "\n",
       "   Conflict (%)  Terrorism (%)  \n",
       "0         0.932          0.007  \n",
       "1         2.044          0.040  \n",
       "2         2.408          0.027  \n",
       "3           NaN            NaN  \n",
       "4         4.296          0.010  \n",
       "\n",
       "[5 rows x 35 columns]"
      ]
     },
     "execution_count": 3,
     "metadata": {},
     "output_type": "execute_result"
    }
   ],
   "source": [
    "df.head()"
   ]
  },
  {
   "cell_type": "code",
   "execution_count": 4,
   "metadata": {
    "ExecuteTime": {
     "end_time": "2020-04-10T15:17:34.274720Z",
     "start_time": "2020-04-10T15:17:34.090214Z"
    },
    "collapsed": true
   },
   "outputs": [
    {
     "data": {
      "text/plain": [
       "<matplotlib.axes._subplots.AxesSubplot at 0x1919031bbe0>"
      ]
     },
     "execution_count": 4,
     "metadata": {},
     "output_type": "execute_result"
    },
    {
     "data": {
      "image/png": "[encoded data removed]",
      "text/plain": [
       "<Figure size 432x288 with 1 Axes>"
      ]
     },
     "metadata": {
      "needs_background": "light"
     },
     "output_type": "display_data"
    }
   ],
   "source": [
    "sns.scatterplot('Lower respiratory infections (%)', 'Neonatal deaths (%)', data=df)"
   ]
  },
  {
   "cell_type": "code",
   "execution_count": 5,
   "metadata": {
    "ExecuteTime": {
     "end_time": "2020-04-10T15:17:34.287713Z",
     "start_time": "2020-04-10T15:17:34.276715Z"
    },
    "collapsed": true
   },
   "outputs": [],
   "source": [
    "data = df.query('country == \"Brazil\"')"
   ]
  },
  {
   "cell_type": "code",
   "execution_count": 6,
   "metadata": {
    "ExecuteTime": {
     "end_time": "2020-04-10T15:17:34.292672Z",
     "start_time": "2020-04-10T15:17:34.288683Z"
    },
    "collapsed": true
   },
   "outputs": [],
   "source": [
    "# target\n",
    "y = df['Neonatal deaths (%)']\n",
    "\n",
    "# features\n",
    "X = df[['Lower respiratory infections (%)']]"
   ]
  },
  {
   "cell_type": "code",
   "execution_count": 7,
   "metadata": {
    "ExecuteTime": {
     "end_time": "2020-04-10T15:17:34.340572Z",
     "start_time": "2020-04-10T15:17:34.293669Z"
    },
    "collapsed": true
   },
   "outputs": [],
   "source": [
    "# linear regression\n",
    "\n",
    "from sklearn.linear_model import LinearRegression\n",
    "\n",
    "model = LinearRegression(n_jobs=-1)\n"
   ]
  },
  {
   "cell_type": "code",
   "execution_count": 8,
   "metadata": {
    "ExecuteTime": {
     "end_time": "2020-04-10T15:17:34.348523Z",
     "start_time": "2020-04-10T15:17:34.341541Z"
    },
    "collapsed": true
   },
   "outputs": [
    {
     "data": {
      "text/plain": [
       "LinearRegression(copy_X=True, fit_intercept=True, n_jobs=-1, normalize=False)"
      ]
     },
     "execution_count": 8,
     "metadata": {},
     "output_type": "execute_result"
    }
   ],
   "source": [
    "# treino\n",
    "model.fit(X, y)"
   ]
  },
  {
   "cell_type": "code",
   "execution_count": 9,
   "metadata": {
    "ExecuteTime": {
     "end_time": "2020-04-10T15:17:34.354535Z",
     "start_time": "2020-04-10T15:17:34.349520Z"
    },
    "collapsed": true
   },
   "outputs": [
    {
     "data": {
      "text/plain": [
       "array([0.75050623])"
      ]
     },
     "execution_count": 9,
     "metadata": {},
     "output_type": "execute_result"
    }
   ],
   "source": [
    "# angular coefficients\n",
    "model.coef_"
   ]
  },
  {
   "cell_type": "code",
   "execution_count": 10,
   "metadata": {
    "ExecuteTime": {
     "end_time": "2020-04-10T15:17:34.364510Z",
     "start_time": "2020-04-10T15:17:34.355504Z"
    },
    "collapsed": true
   },
   "outputs": [
    {
     "data": {
      "text/plain": [
       "0.18428698023008927"
      ]
     },
     "execution_count": 10,
     "metadata": {},
     "output_type": "execute_result"
    }
   ],
   "source": [
    "model.intercept_"
   ]
  },
  {
   "cell_type": "code",
   "execution_count": 11,
   "metadata": {
    "ExecuteTime": {
     "end_time": "2020-04-10T15:17:34.371489Z",
     "start_time": "2020-04-10T15:17:34.365477Z"
    },
    "collapsed": true
   },
   "outputs": [
    {
     "data": {
      "text/plain": [
       "0.44448311221260145"
      ]
     },
     "execution_count": 11,
     "metadata": {},
     "output_type": "execute_result"
    }
   ],
   "source": [
    "model.score(X, y)"
   ]
  },
  {
   "cell_type": "code",
   "execution_count": 12,
   "metadata": {
    "ExecuteTime": {
     "end_time": "2020-04-10T15:17:34.377473Z",
     "start_time": "2020-04-10T15:17:34.372459Z"
    },
    "collapsed": true
   },
   "outputs": [],
   "source": [
    "y_predict = model.predict(X)"
   ]
  },
  {
   "cell_type": "code",
   "execution_count": null,
   "metadata": {
    "ExecuteTime": {
     "end_time": "2020-04-10T12:34:38.719653Z",
     "start_time": "2020-04-10T12:34:38.713670Z"
    },
    "collapsed": true
   },
   "outputs": [],
   "source": []
  },
  {
   "cell_type": "code",
   "execution_count": 13,
   "metadata": {
    "ExecuteTime": {
     "end_time": "2020-04-10T15:17:34.986414Z",
     "start_time": "2020-04-10T15:17:34.982398Z"
    },
    "collapsed": true
   },
   "outputs": [],
   "source": [
    "y_predict_40 = model.predict(pd.DataFrame([40], columns=['Lower respiratory infections (%)']))"
   ]
  },
  {
   "cell_type": "code",
   "execution_count": 14,
   "metadata": {
    "ExecuteTime": {
     "end_time": "2020-04-10T15:17:35.127038Z",
     "start_time": "2020-04-10T15:17:35.122024Z"
    },
    "collapsed": true
   },
   "outputs": [
    {
     "data": {
      "text/plain": [
       "array([30.20453635])"
      ]
     },
     "execution_count": 14,
     "metadata": {},
     "output_type": "execute_result"
    }
   ],
   "source": [
    "y_predict_40"
   ]
  },
  {
   "cell_type": "code",
   "execution_count": 15,
   "metadata": {
    "ExecuteTime": {
     "end_time": "2020-04-10T15:17:35.438790Z",
     "start_time": "2020-04-10T15:17:35.254719Z"
    },
    "collapsed": true
   },
   "outputs": [
    {
     "data": {
      "text/plain": [
       "<matplotlib.collections.PathCollection at 0x191904b6320>"
      ]
     },
     "execution_count": 15,
     "metadata": {},
     "output_type": "execute_result"
    },
    {
     "data": {
      "image/png": "[encoded data removed]",
      "text/plain": [
       "<Figure size 432x288 with 1 Axes>"
      ]
     },
     "metadata": {
      "needs_background": "light"
     },
     "output_type": "display_data"
    }
   ],
   "source": [
    "plt.scatter(X, y, s=0.4)\n",
    "plt.scatter(X, y_predict, s=1)\n",
    "\n",
    "\n",
    "plt.scatter([40], y_predict_40, marker= 's')"
   ]
  },
  {
   "cell_type": "code",
   "execution_count": 16,
   "metadata": {
    "ExecuteTime": {
     "end_time": "2020-04-10T15:17:35.446768Z",
     "start_time": "2020-04-10T15:17:35.439787Z"
    },
    "collapsed": true
   },
   "outputs": [],
   "source": [
    "# target\n",
    "y = df['Neonatal deaths (%)']\n",
    "\n",
    "# features\n",
    "X = df[['Lower respiratory infections (%)','Alcohol disorders (%)']]\n",
    "\n",
    "# X_std = (X - X.mean())/X.std()\n",
    "\n",
    "from sklearn.preprocessing import StandardScaler\n",
    "scaler = StandardScaler()\n",
    "scaler.fit(X)\n",
    "\n",
    "X_std = scaler.transform(X)"
   ]
  },
  {
   "cell_type": "code",
   "execution_count": 17,
   "metadata": {
    "ExecuteTime": {
     "end_time": "2020-04-10T15:17:35.530121Z",
     "start_time": "2020-04-10T15:17:35.525107Z"
    },
    "collapsed": true
   },
   "outputs": [
    {
     "data": {
      "text/plain": [
       "LinearRegression(copy_X=True, fit_intercept=True, n_jobs=-1, normalize=False)"
      ]
     },
     "execution_count": 17,
     "metadata": {},
     "output_type": "execute_result"
    }
   ],
   "source": [
    "model.fit(X_std, y)"
   ]
  },
  {
   "cell_type": "code",
   "execution_count": 18,
   "metadata": {
    "ExecuteTime": {
     "end_time": "2020-04-10T15:17:35.661768Z",
     "start_time": "2020-04-10T15:17:35.657753Z"
    },
    "collapsed": true
   },
   "outputs": [
    {
     "data": {
      "text/plain": [
       "array([ 2.39317378, -0.65668845])"
      ]
     },
     "execution_count": 18,
     "metadata": {},
     "output_type": "execute_result"
    }
   ],
   "source": [
    "model.coef_"
   ]
  },
  {
   "cell_type": "code",
   "execution_count": 19,
   "metadata": {
    "ExecuteTime": {
     "end_time": "2020-04-10T15:17:35.823065Z",
     "start_time": "2020-04-10T15:17:35.818030Z"
    },
    "collapsed": true
   },
   "outputs": [
    {
     "data": {
      "text/plain": [
       "0.4714094838310369"
      ]
     },
     "execution_count": 19,
     "metadata": {},
     "output_type": "execute_result"
    }
   ],
   "source": [
    "model.score(X_std, y)"
   ]
  },
  {
   "cell_type": "code",
   "execution_count": null,
   "metadata": {
    "collapsed": true
   },
   "outputs": [],
   "source": []
  },
  {
   "cell_type": "code",
   "execution_count": null,
   "metadata": {
    "collapsed": true
   },
   "outputs": [],
   "source": []
  },
  {
   "cell_type": "code",
   "execution_count": null,
   "metadata": {
    "collapsed": true
   },
   "outputs": [],
   "source": []
  },
  {
   "cell_type": "code",
   "execution_count": null,
   "metadata": {
    "collapsed": true
   },
   "outputs": [],
   "source": []
  },
  {
   "cell_type": "code",
   "execution_count": null,
   "metadata": {
    "collapsed": true
   },
   "outputs": [],
   "source": []
  },
  {
   "cell_type": "code",
   "execution_count": null,
   "metadata": {
    "collapsed": true
   },
   "outputs": [],
   "source": []
  },
  {
   "cell_type": "markdown",
   "metadata": {},
   "source": [
    "\n",
    "# Probability"
   ]
  },
  {
   "cell_type": "markdown",
   "metadata": {},
   "source": [
    "## Key Concepts:\n",
    "\n",
    "### Sample Space"
   ]
  },
  {
   "cell_type": "markdown",
   "metadata": {
    "ExecuteTime": {
     "end_time": "2020-04-09T19:24:34.049973Z",
     "start_time": "2020-04-09T19:24:34.044986Z"
    }
   },
   "source": [
    "All the possible outcomes of an experiment. Examples:\n",
    "    - Flip of a coin: Ω = {'Cara','Coroa'}\n",
    "    - Roll of a dice: Ω = {1,2,3,4,5,6}\n",
    "    \n",
    "Omega is the nomenclature for a sample space: <b> Ω = {} </b>"
   ]
  },
  {
   "cell_type": "markdown",
   "metadata": {},
   "source": [
    "### Event\n",
    "\n"
   ]
  },
  {
   "cell_type": "markdown",
   "metadata": {},
   "source": [
    "Subset of our sample space:\n",
    "- even number of dice $\\rightarrow $ <b> A = {2, 4, 6} </b>\n",
    "    "
   ]
  },
  {
   "cell_type": "markdown",
   "metadata": {},
   "source": [
    "### Probability"
   ]
  },
  {
   "cell_type": "markdown",
   "metadata": {},
   "source": [
    "The probability of an event to happen is: \n",
    "\n",
    "$$P(event) = \\frac{\\text{number of outcomes of an event}}{\\text{number of outcomes of the sample space}}$$"
   ]
  },
  {
   "cell_type": "markdown",
   "metadata": {
    "ExecuteTime": {
     "end_time": "2020-04-09T19:35:04.548226Z",
     "start_time": "2020-04-09T19:35:04.543240Z"
    }
   },
   "source": [
    "$$P(A) = \\frac{len(A)}{len(Ω)} = \\frac{3}{6} = \\frac{1}{2} = 50\\% $$"
   ]
  },
  {
   "cell_type": "code",
   "execution_count": 263,
   "metadata": {
    "ExecuteTime": {
     "end_time": "2020-04-10T13:20:01.470804Z",
     "start_time": "2020-04-10T13:20:01.467812Z"
    },
    "collapsed": true
   },
   "outputs": [],
   "source": [
    "## What is the probability of the entire sample space?"
   ]
  },
  {
   "cell_type": "markdown",
   "metadata": {},
   "source": [
    "$$P(A) = \\frac{len(Ω)}{len(Ω)} = 1 = 100\\% $$"
   ]
  },
  {
   "cell_type": "markdown",
   "metadata": {},
   "source": [
    "## Simulating scenarios"
   ]
  },
  {
   "cell_type": "code",
   "execution_count": 264,
   "metadata": {
    "ExecuteTime": {
     "end_time": "2020-04-10T13:20:07.938111Z",
     "start_time": "2020-04-10T13:20:07.934121Z"
    },
    "collapsed": true
   },
   "outputs": [],
   "source": [
    "import numpy as np"
   ]
  },
  {
   "cell_type": "code",
   "execution_count": 325,
   "metadata": {
    "ExecuteTime": {
     "end_time": "2020-04-10T13:24:03.842405Z",
     "start_time": "2020-04-10T13:23:58.361436Z"
    },
    "collapsed": true
   },
   "outputs": [
    {
     "name": "stdout",
     "output_type": "stream",
     "text": [
      "50.0%\n"
     ]
    }
   ],
   "source": [
    "def is_even(x):\n",
    "    if x % 2 == 0:\n",
    "        return True\n",
    "    else:\n",
    "        return False\n",
    "    \n",
    "sample_space = [1, 2, 3, 4, 5, 6]\n",
    "\n",
    "dice_rolls = np.random.choice(sample_space, size=10000000)\n",
    "\n",
    "count_events = len([item for item in dice_rolls if is_even(item)])\n",
    "count_rolls  = len(dice_rolls)\n",
    "\n",
    "print(f'{count_events / count_rolls *100:.1f}%')"
   ]
  },
  {
   "cell_type": "markdown",
   "metadata": {},
   "source": [
    "## Union\n",
    "\n",
    "Event: \n",
    "\n",
    "A = even = {2, 4, 6}<br>\n",
    "B = greater than 4 = {5, 6}\n",
    "\n",
    "A U B = {2, 4, 5, 6}"
   ]
  },
  {
   "cell_type": "markdown",
   "metadata": {},
   "source": [
    "### Mutual Exclusivity\n",
    "\n",
    "Events that have no intersection: \n",
    "\n",
    "Events: even and odd numbers of dice\n",
    "\n",
    "A = {1, 3, 5}<br>\n",
    "B = {2, 4, 6}\n",
    "\n",
    "$ A ∩ B = \\{\\} $"
   ]
  },
  {
   "cell_type": "code",
   "execution_count": null,
   "metadata": {
    "collapsed": true
   },
   "outputs": [],
   "source": [
    "# What is the sum of the probability of all mutual exclusive events ?\n",
    "\n",
    "# P(1) + P(2) + P(3) + ... + P(6) = 100%"
   ]
  },
  {
   "cell_type": "markdown",
   "metadata": {},
   "source": [
    "Event: \n",
    "\n",
    "A = even = {2, 4, 6} <br>\n",
    "C = less than 4 = {1, 2, 3}\n",
    "\n",
    "Are they mutually exclusive?\n",
    "\n",
    "No, because 𝐴∩C = {2}"
   ]
  },
  {
   "cell_type": "markdown",
   "metadata": {
    "ExecuteTime": {
     "end_time": "2020-04-09T20:14:37.283320Z",
     "start_time": "2020-04-09T20:14:37.281327Z"
    }
   },
   "source": [
    "### Conditional Probability"
   ]
  },
  {
   "cell_type": "markdown",
   "metadata": {},
   "source": [
    "P(A|B) $\\rightarrow$ Probability of event A to happen given that event B happens"
   ]
  },
  {
   "cell_type": "markdown",
   "metadata": {
    "ExecuteTime": {
     "end_time": "2020-04-09T20:16:19.542584Z",
     "start_time": "2020-04-09T20:16:19.538570Z"
    }
   },
   "source": [
    "$$ P(A|B) = \\frac{P(𝐴∩𝐵)}{P(B)} $$"
   ]
  },
  {
   "cell_type": "markdown",
   "metadata": {},
   "source": [
    "Example:\n",
    "\n",
    "The probability that a die roll is less than 3 given that it is odd"
   ]
  },
  {
   "cell_type": "markdown",
   "metadata": {},
   "source": [
    "Sample Space = {1,2,3,4,5,6}\n",
    "\n",
    "Events:\n",
    "- A = less than 3 = {1,2}\n",
    "- B = odd = {1,3,5}\n",
    "\n",
    "- A ∩ B = {1}\n",
    "\n",
    "$$ P(A|B) = \\frac{P(𝐴∩𝐵)}{P(B)} = \\frac{1}{3} $$"
   ]
  },
  {
   "cell_type": "markdown",
   "metadata": {},
   "source": [
    "-----"
   ]
  },
  {
   "cell_type": "markdown",
   "metadata": {},
   "source": [
    "## Mounty Hall Problem"
   ]
  },
  {
   "cell_type": "code",
   "execution_count": 227,
   "metadata": {
    "ExecuteTime": {
     "end_time": "2020-04-10T17:34:18.968191Z",
     "start_time": "2020-04-10T17:34:18.963205Z"
    }
   },
   "outputs": [],
   "source": [
    "def mounty_hall(decision):\n",
    "    choices = [1,2,3]\n",
    "    your_choice = np.random.choice(choices)\n",
    "    premium = np.random.choice(choices)\n",
    "    #print(choices, premium)\n",
    "    # open a door\n",
    "    cabras = [item for item in choices if item != premium]\n",
    "    #print(cabras)\n",
    "    \n",
    "    # select a cabra from a subset that is not your choice\n",
    "    door_to_open = np.random.choice([door for door in cabras if door != your_choice])\n",
    "    \n",
    "    # remove cabra from choices\n",
    "    choices.remove(door_to_open)\n",
    "    doors_remaining = choices\n",
    "    \n",
    "    #print(your_choice, premium,  choices, door_to_open)\n",
    "    \n",
    "    # switch choices\n",
    "    doors_remaining.remove(your_choice)\n",
    "    \n",
    "    if decision == 'switch':\n",
    "        final_choice = doors_remaining\n",
    "    else:\n",
    "        final_choice = your_choice\n",
    "        \n",
    "    #print(final_choice, premium)\n",
    "    if final_choice == premium:\n",
    "        return True\n",
    "    else:\n",
    "        return False"
   ]
  },
  {
   "cell_type": "code",
   "execution_count": 247,
   "metadata": {
    "ExecuteTime": {
     "end_time": "2020-04-10T17:34:51.901996Z",
     "start_time": "2020-04-10T17:34:51.754419Z"
    }
   },
   "outputs": [
    {
     "data": {
      "text/plain": [
       "0.3367"
      ]
     },
     "execution_count": 247,
     "metadata": {},
     "output_type": "execute_result"
    }
   ],
   "source": [
    "import numpy as np\n",
    "np.mean([mounty_hall('not switch') for i in range(10000)])"
   ]
  },
  {
   "cell_type": "markdown",
   "metadata": {},
   "source": [
    "# DISCRETE PROBABILITY DISTRIBUTIONS"
   ]
  },
  {
   "cell_type": "code",
   "execution_count": 249,
   "metadata": {
    "ExecuteTime": {
     "end_time": "2020-04-10T17:45:07.785398Z",
     "start_time": "2020-04-10T17:45:07.782406Z"
    }
   },
   "outputs": [],
   "source": [
    "import numpy as np\n",
    "import seaborn as sns\n",
    "import pandas as pd\n",
    "import matplotlib.pyplot as plt"
   ]
  },
  {
   "cell_type": "markdown",
   "metadata": {},
   "source": [
    "## Random Variables"
   ]
  },
  {
   "cell_type": "markdown",
   "metadata": {},
   "source": [
    "The map of <b>outcomes $\\rightarrow$ numbers</b>"
   ]
  },
  {
   "cell_type": "markdown",
   "metadata": {},
   "source": [
    "Discrete vs Continuous Distributions:\n",
    "\n",
    "Discrete\n",
    "- Dice roll\n",
    "- Nome escolhido aleatoriamente\n",
    "\n",
    "Continuous\n",
    "- Renda de um cliente aleatorio\n",
    "- Peso de um animal do meu dataset"
   ]
  },
  {
   "cell_type": "markdown",
   "metadata": {},
   "source": [
    "### Discrete Uniform Distribution"
   ]
  },
  {
   "cell_type": "code",
   "execution_count": 258,
   "metadata": {
    "ExecuteTime": {
     "end_time": "2020-04-10T17:49:41.870242Z",
     "start_time": "2020-04-10T17:49:41.447440Z"
    }
   },
   "outputs": [
    {
     "data": {
      "text/plain": [
       "<matplotlib.axes._subplots.AxesSubplot at 0x19198a8ae48>"
      ]
     },
     "execution_count": 258,
     "metadata": {},
     "output_type": "execute_result"
    },
    {
     "data": {
      "image/png": "[encoded data removed]",
      "text/plain": [
       "<Figure size 432x288 with 1 Axes>"
      ]
     },
     "metadata": {
      "needs_background": "light"
     },
     "output_type": "display_data"
    }
   ],
   "source": [
    "sns.distplot(np.random.randint(0, 100, size=10000000), kde=False, bins = 100)"
   ]
  },
  {
   "cell_type": "code",
   "execution_count": 260,
   "metadata": {
    "ExecuteTime": {
     "end_time": "2020-04-10T17:51:03.069692Z",
     "start_time": "2020-04-10T17:51:02.840307Z"
    }
   },
   "outputs": [
    {
     "data": {
      "text/plain": [
       "<matplotlib.axes._subplots.AxesSubplot at 0x1919774f2b0>"
      ]
     },
     "execution_count": 260,
     "metadata": {},
     "output_type": "execute_result"
    },
    {
     "data": {
      "image/png": "[encoded data removed]",
      "text/plain": [
       "<Figure size 432x288 with 1 Axes>"
      ]
     },
     "metadata": {
      "needs_background": "light"
     },
     "output_type": "display_data"
    }
   ],
   "source": [
    "sns.distplot(np.random.randint(0, 100, size=100), kde=False, bins = 100)"
   ]
  },
  {
   "cell_type": "code",
   "execution_count": 259,
   "metadata": {
    "ExecuteTime": {
     "end_time": "2020-04-10T17:50:07.729104Z",
     "start_time": "2020-04-10T17:50:07.456663Z"
    }
   },
   "outputs": [
    {
     "data": {
      "text/html": [
       "<div>\n",
       "<style scoped>\n",
       "    .dataframe tbody tr th:only-of-type {\n",
       "        vertical-align: middle;\n",
       "    }\n",
       "\n",
       "    .dataframe tbody tr th {\n",
       "        vertical-align: top;\n",
       "    }\n",
       "\n",
       "    .dataframe thead th {\n",
       "        text-align: right;\n",
       "    }\n",
       "</style>\n",
       "<table border=\"1\" class=\"dataframe\">\n",
       "  <thead>\n",
       "    <tr style=\"text-align: right;\">\n",
       "      <th></th>\n",
       "      <th>Data</th>\n",
       "      <th>D1</th>\n",
       "      <th>D2</th>\n",
       "      <th>D3</th>\n",
       "      <th>D4</th>\n",
       "      <th>D5</th>\n",
       "      <th>D6</th>\n",
       "      <th>Arrecadacao_Total</th>\n",
       "      <th>Sena</th>\n",
       "      <th>Rateio_Sena</th>\n",
       "      <th>Quina</th>\n",
       "      <th>Rateio_Quina</th>\n",
       "      <th>Quadra</th>\n",
       "      <th>Rateio_Quadra</th>\n",
       "      <th>Acumulado</th>\n",
       "      <th>Valor_Acumulado</th>\n",
       "    </tr>\n",
       "  </thead>\n",
       "  <tbody>\n",
       "    <tr>\n",
       "      <th>0</th>\n",
       "      <td>11/03/1996</td>\n",
       "      <td>4</td>\n",
       "      <td>5</td>\n",
       "      <td>30</td>\n",
       "      <td>33</td>\n",
       "      <td>41</td>\n",
       "      <td>52</td>\n",
       "      <td>0.0</td>\n",
       "      <td>0</td>\n",
       "      <td>0.00</td>\n",
       "      <td>17</td>\n",
       "      <td>39158.92</td>\n",
       "      <td>2016</td>\n",
       "      <td>330.21</td>\n",
       "      <td>SIM</td>\n",
       "      <td>1714650.23</td>\n",
       "    </tr>\n",
       "    <tr>\n",
       "      <th>1</th>\n",
       "      <td>18/03/1996</td>\n",
       "      <td>9</td>\n",
       "      <td>37</td>\n",
       "      <td>39</td>\n",
       "      <td>41</td>\n",
       "      <td>43</td>\n",
       "      <td>49</td>\n",
       "      <td>0.0</td>\n",
       "      <td>1</td>\n",
       "      <td>2307162.23</td>\n",
       "      <td>65</td>\n",
       "      <td>14424.02</td>\n",
       "      <td>4488</td>\n",
       "      <td>208.91</td>\n",
       "      <td>NÃƒO</td>\n",
       "      <td>0.00</td>\n",
       "    </tr>\n",
       "    <tr>\n",
       "      <th>2</th>\n",
       "      <td>25/03/1996</td>\n",
       "      <td>10</td>\n",
       "      <td>11</td>\n",
       "      <td>29</td>\n",
       "      <td>30</td>\n",
       "      <td>36</td>\n",
       "      <td>47</td>\n",
       "      <td>0.0</td>\n",
       "      <td>2</td>\n",
       "      <td>391192.51</td>\n",
       "      <td>62</td>\n",
       "      <td>10515.93</td>\n",
       "      <td>4261</td>\n",
       "      <td>153.01</td>\n",
       "      <td>NÃƒO</td>\n",
       "      <td>0.00</td>\n",
       "    </tr>\n",
       "    <tr>\n",
       "      <th>3</th>\n",
       "      <td>01/04/1996</td>\n",
       "      <td>1</td>\n",
       "      <td>5</td>\n",
       "      <td>6</td>\n",
       "      <td>27</td>\n",
       "      <td>42</td>\n",
       "      <td>59</td>\n",
       "      <td>0.0</td>\n",
       "      <td>0</td>\n",
       "      <td>0.00</td>\n",
       "      <td>39</td>\n",
       "      <td>15322.24</td>\n",
       "      <td>3311</td>\n",
       "      <td>180.48</td>\n",
       "      <td>SIM</td>\n",
       "      <td>717080.75</td>\n",
       "    </tr>\n",
       "    <tr>\n",
       "      <th>4</th>\n",
       "      <td>08/04/1996</td>\n",
       "      <td>1</td>\n",
       "      <td>2</td>\n",
       "      <td>6</td>\n",
       "      <td>16</td>\n",
       "      <td>19</td>\n",
       "      <td>46</td>\n",
       "      <td>0.0</td>\n",
       "      <td>0</td>\n",
       "      <td>0.00</td>\n",
       "      <td>98</td>\n",
       "      <td>5318.10</td>\n",
       "      <td>5399</td>\n",
       "      <td>96.53</td>\n",
       "      <td>SIM</td>\n",
       "      <td>1342488.85</td>\n",
       "    </tr>\n",
       "  </tbody>\n",
       "</table>\n",
       "</div>"
      ],
      "text/plain": [
       "         Data  D1  D2  D3  D4  D5  D6  Arrecadacao_Total  Sena  Rateio_Sena  \\\n",
       "0  11/03/1996   4   5  30  33  41  52                0.0     0         0.00   \n",
       "1  18/03/1996   9  37  39  41  43  49                0.0     1   2307162.23   \n",
       "2  25/03/1996  10  11  29  30  36  47                0.0     2    391192.51   \n",
       "3  01/04/1996   1   5   6  27  42  59                0.0     0         0.00   \n",
       "4  08/04/1996   1   2   6  16  19  46                0.0     0         0.00   \n",
       "\n",
       "   Quina  Rateio_Quina  Quadra  Rateio_Quadra Acumulado  Valor_Acumulado  \n",
       "0     17      39158.92    2016         330.21       SIM       1714650.23  \n",
       "1     65      14424.02    4488         208.91      NÃƒO             0.00  \n",
       "2     62      10515.93    4261         153.01      NÃƒO             0.00  \n",
       "3     39      15322.24    3311         180.48       SIM        717080.75  \n",
       "4     98       5318.10    5399          96.53       SIM       1342488.85  "
      ]
     },
     "execution_count": 259,
     "metadata": {},
     "output_type": "execute_result"
    }
   ],
   "source": [
    "megasena = pd.read_csv(\"https://gist.githubusercontent.com/ikkebr/ce0b74f6d0dbf5a42015/raw/7f5120491feba60906946b56f5b88fb44382f11a/megasena.csv\", sep=';')\n",
    "megasena.head()"
   ]
  },
  {
   "cell_type": "code",
   "execution_count": 269,
   "metadata": {
    "ExecuteTime": {
     "end_time": "2020-04-10T17:59:36.469425Z",
     "start_time": "2020-04-10T17:59:36.235107Z"
    }
   },
   "outputs": [
    {
     "data": {
      "text/plain": [
       "<matplotlib.axes._subplots.AxesSubplot at 0x19198cffa58>"
      ]
     },
     "execution_count": 269,
     "metadata": {},
     "output_type": "execute_result"
    },
    {
     "data": {
      "image/png": "[encoded data removed]",
      "text/plain": [
       "<Figure size 432x288 with 1 Axes>"
      ]
     },
     "metadata": {
      "needs_background": "light"
     },
     "output_type": "display_data"
    }
   ],
   "source": [
    "numeros = pd.concat([megasena.D1, \n",
    "                     megasena.D2, \n",
    "                     megasena.D3, \n",
    "                     megasena.D4, \n",
    "                     megasena.D5, \n",
    "                     megasena.D6]).reset_index(drop=True)\n",
    "numeros\n",
    "numeros.hist(bins=100)"
   ]
  },
  {
   "cell_type": "code",
   "execution_count": 270,
   "metadata": {
    "ExecuteTime": {
     "end_time": "2020-04-10T17:59:37.786193Z",
     "start_time": "2020-04-10T17:59:37.778215Z"
    },
    "scrolled": true
   },
   "outputs": [
    {
     "data": {
      "text/plain": [
       "5     0.019437\n",
       "51    0.019061\n",
       "53    0.018967\n",
       "42    0.018592\n",
       "4     0.018498\n",
       "33    0.018404\n",
       "23    0.018122\n",
       "24    0.018122\n",
       "41    0.017934\n",
       "10    0.017934\n",
       "54    0.017934\n",
       "17    0.017840\n",
       "29    0.017840\n",
       "49    0.017746\n",
       "52    0.017653\n",
       "28    0.017559\n",
       "13    0.017559\n",
       "27    0.017465\n",
       "36    0.017465\n",
       "30    0.017277\n",
       "50    0.017277\n",
       "32    0.017277\n",
       "44    0.017183\n",
       "43    0.017183\n",
       "16    0.017183\n",
       "2     0.017183\n",
       "31    0.017089\n",
       "12    0.017089\n",
       "47    0.016995\n",
       "37    0.016901\n",
       "34    0.016808\n",
       "8     0.016714\n",
       "56    0.016620\n",
       "18    0.016620\n",
       "7     0.016620\n",
       "38    0.016526\n",
       "1     0.016338\n",
       "58    0.016338\n",
       "59    0.016244\n",
       "6     0.016244\n",
       "46    0.016150\n",
       "35    0.016056\n",
       "20    0.016056\n",
       "60    0.015962\n",
       "45    0.015775\n",
       "3     0.015681\n",
       "11    0.015493\n",
       "40    0.015493\n",
       "19    0.015305\n",
       "48    0.015211\n",
       "14    0.015117\n",
       "57    0.015117\n",
       "15    0.015023\n",
       "39    0.014836\n",
       "9     0.014648\n",
       "25    0.014648\n",
       "21    0.014366\n",
       "55    0.014272\n",
       "26    0.013521\n",
       "22    0.013427\n",
       "dtype: float64"
      ]
     },
     "execution_count": 270,
     "metadata": {},
     "output_type": "execute_result"
    }
   ],
   "source": [
    "numeros.value_counts(normalize=True).sort_values(ascending=False)"
   ]
  },
  {
   "cell_type": "code",
   "execution_count": 271,
   "metadata": {
    "ExecuteTime": {
     "end_time": "2020-04-10T17:59:41.061137Z",
     "start_time": "2020-04-10T17:59:40.570728Z"
    }
   },
   "outputs": [
    {
     "data": {
      "image/png": "[encoded data removed]",
      "text/plain": [
       "<Figure size 432x288 with 1 Axes>"
      ]
     },
     "metadata": {
      "needs_background": "light"
     },
     "output_type": "display_data"
    }
   ],
   "source": [
    "sns.countplot(x=numeros, color='green', orient='h');"
   ]
  },
  {
   "cell_type": "markdown",
   "metadata": {},
   "source": [
    "### Bernoulli Distribution\n"
   ]
  },
  {
   "cell_type": "markdown",
   "metadata": {},
   "source": [
    "The distribution for 0 and 1 outcomes. If the probability of an event being true is p, then the probability of it being false will be 1-p (because it has to sum 1, remember?)"
   ]
  },
  {
   "attachments": {
    "image.png": {
     "image/png": "[encoded data removed]"
    }
   },
   "cell_type": "markdown",
   "metadata": {},
   "source": [
    "![image.png](attachment:image.png)"
   ]
  },
  {
   "cell_type": "markdown",
   "metadata": {},
   "source": [
    "example:\n",
    "\n",
    "- biased coin"
   ]
  },
  {
   "cell_type": "code",
   "execution_count": null,
   "metadata": {
    "collapsed": true
   },
   "outputs": [],
   "source": []
  },
  {
   "cell_type": "markdown",
   "metadata": {},
   "source": [
    "### Binomial Distribution\n"
   ]
  },
  {
   "cell_type": "markdown",
   "metadata": {},
   "source": [
    "This is the same as before, except it is now a <b>sequence</b> of events. For instance, imagine you flip a coin twice. \n",
    "The binomial distribution represents the probability of obtaining exactly <b>k</b> successes flipping the coin <b>n</b> times."
   ]
  },
  {
   "cell_type": "markdown",
   "metadata": {},
   "source": [
    "### The Binomial Distribution in Python\n"
   ]
  },
  {
   "cell_type": "markdown",
   "metadata": {},
   "source": [
    "<b>Example: </b>The probability of a biased coin with a 30% chance of heads, being heads 5 times in 10 flips"
   ]
  },
  {
   "cell_type": "code",
   "execution_count": 341,
   "metadata": {
    "ExecuteTime": {
     "end_time": "2020-04-10T18:12:51.482595Z",
     "start_time": "2020-04-10T18:12:51.477609Z"
    }
   },
   "outputs": [
    {
     "data": {
      "text/plain": [
       "array([0, 1, 0, 0, 1, 1, 0, 1, 0, 1])"
      ]
     },
     "execution_count": 341,
     "metadata": {},
     "output_type": "execute_result"
    }
   ],
   "source": [
    "np.random.choice([0, 1], p=[0.7, 0.3], size=10)"
   ]
  },
  {
   "cell_type": "markdown",
   "metadata": {},
   "source": [
    "### PROBABILITY MASS FUNCTION (PMF)"
   ]
  },
  {
   "cell_type": "markdown",
   "metadata": {},
   "source": [
    "A function that gives the probability that a discrete random variable is <b> exactly </b> equal a  specific value."
   ]
  },
  {
   "cell_type": "markdown",
   "metadata": {},
   "source": [
    "For binomial distribution, you create it given:\n",
    "    $$ binom(n, p)$$ "
   ]
  },
  {
   "cell_type": "code",
   "execution_count": 447,
   "metadata": {
    "ExecuteTime": {
     "end_time": "2020-04-10T18:47:27.882253Z",
     "start_time": "2020-04-10T18:47:27.876292Z"
    }
   },
   "outputs": [
    {
     "data": {
      "text/plain": [
       "0.10291934520000003"
      ]
     },
     "execution_count": 447,
     "metadata": {},
     "output_type": "execute_result"
    }
   ],
   "source": [
    "from scipy.stats import binom\n",
    "\n",
    "# 10 flips\n",
    "# 0.3 chance of success\n",
    "\n",
    "dist = binom(10, 0.3)\n",
    "\n",
    "# probability of obtaining exactly 5 successes (exactly 5 times == 'HEADS')\n",
    "dist.pmf(5)"
   ]
  },
  {
   "cell_type": "code",
   "execution_count": 353,
   "metadata": {
    "ExecuteTime": {
     "end_time": "2020-04-10T18:15:26.994082Z",
     "start_time": "2020-04-10T18:15:26.862405Z"
    }
   },
   "outputs": [
    {
     "data": {
      "text/plain": [
       "<matplotlib.axes._subplots.AxesSubplot at 0x19199124cc0>"
      ]
     },
     "execution_count": 353,
     "metadata": {},
     "output_type": "execute_result"
    },
    {
     "data": {
      "image/png": "[encoded data removed]",
      "text/plain": [
       "<Figure size 432x288 with 1 Axes>"
      ]
     },
     "metadata": {
      "needs_background": "light"
     },
     "output_type": "display_data"
    }
   ],
   "source": [
    "sns.barplot(x=np.arange(0,11), \n",
    "            y=dist.pmf(np.arange(0,11)),\n",
    "            color='blue')"
   ]
  },
  {
   "cell_type": "markdown",
   "metadata": {},
   "source": [
    "OR you can simulate this game."
   ]
  },
  {
   "cell_type": "code",
   "execution_count": 360,
   "metadata": {
    "ExecuteTime": {
     "end_time": "2020-04-10T18:21:27.226764Z",
     "start_time": "2020-04-10T18:21:27.223744Z"
    }
   },
   "outputs": [],
   "source": [
    "from collections import Counter"
   ]
  },
  {
   "cell_type": "code",
   "execution_count": 450,
   "metadata": {
    "ExecuteTime": {
     "end_time": "2020-04-10T18:47:42.394440Z",
     "start_time": "2020-04-10T18:47:38.162456Z"
    }
   },
   "outputs": [
    {
     "data": {
      "text/plain": [
       "0.10392"
      ]
     },
     "execution_count": 450,
     "metadata": {},
     "output_type": "execute_result"
    }
   ],
   "source": [
    "# using numpy\n",
    "np.mean([Counter(np.random.choice(['HEADS','TAILS'], p=[0.3, 0.7], size=10) )['HEADS'] == 5 for j in range(100000)])"
   ]
  },
  {
   "cell_type": "code",
   "execution_count": 465,
   "metadata": {
    "ExecuteTime": {
     "end_time": "2020-04-10T18:49:26.011994Z",
     "start_time": "2020-04-10T18:49:25.671057Z"
    }
   },
   "outputs": [
    {
     "data": {
      "text/plain": [
       "0.1027745"
      ]
     },
     "execution_count": 465,
     "metadata": {},
     "output_type": "execute_result"
    }
   ],
   "source": [
    "np.mean(np.random.binomial(n=10, p = 0.3, size=10000000) == 5)"
   ]
  },
  {
   "cell_type": "code",
   "execution_count": 78,
   "metadata": {
    "ExecuteTime": {
     "end_time": "2020-04-10T15:20:42.751437Z",
     "start_time": "2020-04-10T15:20:42.746422Z"
    },
    "collapsed": true
   },
   "outputs": [
    {
     "data": {
      "text/plain": [
       "array([4, 0, 3, 1, 1, 4, 4, 3, 2, 3, 4, 3, 4, 4, 3, 3, 2, 4, 1, 2, 4, 5,\n",
       "       4, 5, 2, 5, 5, 1, 2, 4, 4, 1, 2, 2, 0, 4, 2, 3, 6, 2, 2, 4, 0, 2,\n",
       "       2, 3, 3, 4, 3, 1, 3, 3, 1, 2, 3, 0, 5, 4, 3, 3, 1, 1, 3, 4, 4, 1,\n",
       "       2, 2, 3, 4, 4, 7, 2, 2, 2, 6, 2, 3, 1, 2, 3, 5, 3, 3, 1, 4, 3, 2,\n",
       "       2, 1, 2, 3, 2, 4, 4, 3, 3, 3, 1, 1])"
      ]
     },
     "execution_count": 78,
     "metadata": {},
     "output_type": "execute_result"
    }
   ],
   "source": [
    "(np.random.binomial(10, 0.3, size=100))"
   ]
  },
  {
   "cell_type": "code",
   "execution_count": 79,
   "metadata": {
    "ExecuteTime": {
     "end_time": "2020-04-10T15:20:46.422875Z",
     "start_time": "2020-04-10T15:20:46.418887Z"
    },
    "collapsed": true
   },
   "outputs": [
    {
     "data": {
      "text/plain": [
       "array([False, False, False, False, False, False, False, False, False,\n",
       "       False, False, False, False, False,  True, False, False, False,\n",
       "       False, False, False, False, False, False,  True, False, False,\n",
       "       False, False, False, False, False, False,  True, False, False,\n",
       "       False, False, False, False, False, False, False,  True, False,\n",
       "       False, False, False, False, False, False, False, False, False,\n",
       "       False, False, False, False,  True, False, False,  True, False,\n",
       "       False, False, False, False, False, False, False, False, False,\n",
       "       False, False, False, False, False, False, False, False, False,\n",
       "       False, False, False, False, False, False, False, False, False,\n",
       "       False, False, False, False, False, False, False, False, False,\n",
       "       False])"
      ]
     },
     "execution_count": 79,
     "metadata": {},
     "output_type": "execute_result"
    }
   ],
   "source": [
    "(np.random.binomial(10, 0.3, size=100) == 5)"
   ]
  },
  {
   "cell_type": "code",
   "execution_count": 80,
   "metadata": {
    "ExecuteTime": {
     "end_time": "2020-04-10T15:20:49.433662Z",
     "start_time": "2020-04-10T15:20:49.396761Z"
    },
    "collapsed": true
   },
   "outputs": [
    {
     "data": {
      "text/plain": [
       "0.102945"
      ]
     },
     "execution_count": 80,
     "metadata": {},
     "output_type": "execute_result"
    }
   ],
   "source": [
    "(np.random.binomial(10, 0.3, size=1000000) == 5).mean()"
   ]
  },
  {
   "cell_type": "code",
   "execution_count": 477,
   "metadata": {
    "ExecuteTime": {
     "end_time": "2020-04-10T18:52:27.250865Z",
     "start_time": "2020-04-10T18:52:27.008490Z"
    }
   },
   "outputs": [
    {
     "data": {
      "text/plain": [
       "<matplotlib.axes._subplots.AxesSubplot at 0x1919a928a90>"
      ]
     },
     "execution_count": 477,
     "metadata": {},
     "output_type": "execute_result"
    },
    {
     "data": {
      "image/png": "[encoded data removed]",
      "text/plain": [
       "<Figure size 432x288 with 1 Axes>"
      ]
     },
     "metadata": {
      "needs_background": "light"
     },
     "output_type": "display_data"
    }
   ],
   "source": [
    "# plot\n",
    "\n",
    "sns.distplot(np.random.binomial(10, 0.1, size=1000000), kde=False)"
   ]
  },
  {
   "cell_type": "markdown",
   "metadata": {},
   "source": [
    "### Geometric Distribution\n"
   ]
  },
  {
   "cell_type": "markdown",
   "metadata": {},
   "source": [
    "The geometric distribution describes how many trials are needed before we get an outcome of success (where only 2 outcomes exist - success and failure)."
   ]
  },
  {
   "cell_type": "markdown",
   "metadata": {},
   "source": [
    "### The Geometric Distribution in Python\n"
   ]
  },
  {
   "cell_type": "markdown",
   "metadata": {},
   "source": [
    "<b>Example:</b> The probability that it will take exactly 5 trials to get a first success."
   ]
  },
  {
   "cell_type": "code",
   "execution_count": null,
   "metadata": {},
   "outputs": [],
   "source": [
    "(1 - 0.5)^(k-1) * 0.5\n",
    "\n",
    "0.5 ^ (k-1) * 0.5\n",
    "\n",
    "0.5 ^ 2"
   ]
  },
  {
   "cell_type": "code",
   "execution_count": null,
   "metadata": {},
   "outputs": [],
   "source": [
    "(1 - 0.8)^(k-1) * 0.8\n",
    "\n",
    "0.8 * 0.2^(k-1)"
   ]
  },
  {
   "cell_type": "code",
   "execution_count": 498,
   "metadata": {
    "ExecuteTime": {
     "end_time": "2020-04-10T19:04:55.616239Z",
     "start_time": "2020-04-10T19:04:55.611225Z"
    }
   },
   "outputs": [
    {
     "data": {
      "text/plain": [
       "0.03199999999999999"
      ]
     },
     "execution_count": 498,
     "metadata": {},
     "output_type": "execute_result"
    }
   ],
   "source": [
    "from scipy.stats import geom\n",
    "dist = geom(0.8)\n",
    "\n",
    "# P = (1-p)^{k-1} * p\n",
    "# 0.8 * 0.2\n",
    "# 0.8 * 0.2 * 0.2 * 0.2 * 0.2\n",
    "\n",
    "dist.pmf(3)"
   ]
  },
  {
   "cell_type": "code",
   "execution_count": 517,
   "metadata": {
    "ExecuteTime": {
     "end_time": "2020-04-10T19:09:57.083750Z",
     "start_time": "2020-04-10T19:09:56.951288Z"
    }
   },
   "outputs": [
    {
     "data": {
      "text/plain": [
       "<matplotlib.axes._subplots.AxesSubplot at 0x1919fae7518>"
      ]
     },
     "execution_count": 517,
     "metadata": {},
     "output_type": "execute_result"
    },
    {
     "data": {
      "image/png": "[encoded data removed]",
      "text/plain": [
       "<Figure size 432x288 with 1 Axes>"
      ]
     },
     "metadata": {
      "needs_background": "light"
     },
     "output_type": "display_data"
    }
   ],
   "source": [
    "dist = geom(0.6)\n",
    "\n",
    "sns.barplot(x=np.arange(0,11), \n",
    "            y=dist.pmf(np.arange(0,11)),\n",
    "            color='blue')"
   ]
  },
  {
   "cell_type": "code",
   "execution_count": 64,
   "metadata": {
    "collapsed": true
   },
   "outputs": [
    {
     "data": {
      "text/plain": [
       "0.0056965"
      ]
     },
     "execution_count": 64,
     "metadata": {},
     "output_type": "execute_result"
    }
   ],
   "source": [
    "(np.random.geometric(0.7, size=10000000) == 5).mean()"
   ]
  },
  {
   "cell_type": "code",
   "execution_count": 65,
   "metadata": {
    "collapsed": true
   },
   "outputs": [
    {
     "data": {
      "image/png": "[encoded data removed]",
      "text/plain": [
       "<Figure size 432x288 with 1 Axes>"
      ]
     },
     "metadata": {
      "needs_background": "light"
     },
     "output_type": "display_data"
    }
   ],
   "source": [
    "sns.distplot(np.random.geometric(0.7, size=1000), kde=False);"
   ]
  },
  {
   "cell_type": "code",
   "execution_count": 66,
   "metadata": {
    "collapsed": true
   },
   "outputs": [
    {
     "data": {
      "text/plain": [
       "<matplotlib.axes._subplots.AxesSubplot at 0x126ad28e0>"
      ]
     },
     "execution_count": 66,
     "metadata": {},
     "output_type": "execute_result"
    },
    {
     "data": {
      "image/png": "[encoded data removed]",
      "text/plain": [
       "<Figure size 432x288 with 1 Axes>"
      ]
     },
     "metadata": {
      "needs_background": "light"
     },
     "output_type": "display_data"
    }
   ],
   "source": [
    "sns.barplot(x=np.arange(1,11), \n",
    "            y=dist.pmf(np.arange(1,11)),\n",
    "            color='blue')"
   ]
  },
  {
   "cell_type": "code",
   "execution_count": 86,
   "metadata": {
    "ExecuteTime": {
     "end_time": "2020-04-10T15:22:05.725128Z",
     "start_time": "2020-04-10T15:22:05.721114Z"
    },
    "collapsed": true
   },
   "outputs": [
    {
     "data": {
      "text/plain": [
       "0.001279999999999999"
      ]
     },
     "execution_count": 86,
     "metadata": {},
     "output_type": "execute_result"
    }
   ],
   "source": [
    "from scipy.stats import geom\n",
    "dist = geom(0.8)\n",
    "dist.pmf(5)"
   ]
  },
  {
   "cell_type": "code",
   "execution_count": 87,
   "metadata": {
    "ExecuteTime": {
     "end_time": "2020-04-10T15:22:07.013378Z",
     "start_time": "2020-04-10T15:22:06.892701Z"
    },
    "collapsed": true
   },
   "outputs": [
    {
     "data": {
      "text/plain": [
       "<matplotlib.axes._subplots.AxesSubplot at 0x19192725b70>"
      ]
     },
     "execution_count": 87,
     "metadata": {},
     "output_type": "execute_result"
    },
    {
     "data": {
      "image/png": "[encoded data removed]",
      "text/plain": [
       "<Figure size 432x288 with 1 Axes>"
      ]
     },
     "metadata": {
      "needs_background": "light"
     },
     "output_type": "display_data"
    }
   ],
   "source": [
    "sns.barplot(x=np.arange(1,11), \n",
    "            y=dist.pmf(np.arange(1,11)),\n",
    "            color='blue')"
   ]
  },
  {
   "cell_type": "code",
   "execution_count": null,
   "metadata": {},
   "outputs": [],
   "source": [
    "log4(a) = log(a)/log(4)"
   ]
  },
  {
   "cell_type": "code",
   "execution_count": 520,
   "metadata": {
    "ExecuteTime": {
     "end_time": "2020-04-10T20:10:57.884791Z",
     "start_time": "2020-04-10T20:10:57.881770Z"
    }
   },
   "outputs": [
    {
     "data": {
      "text/plain": [
       "0.3868528072345416"
      ]
     },
     "execution_count": 520,
     "metadata": {},
     "output_type": "execute_result"
    }
   ],
   "source": [
    "np.log10(1 + 1/1) / np.log10(6)"
   ]
  },
  {
   "cell_type": "code",
   "execution_count": null,
   "metadata": {},
   "outputs": [],
   "source": []
  },
  {
   "cell_type": "markdown",
   "metadata": {},
   "source": [
    "# Poisson Distributions"
   ]
  },
  {
   "cell_type": "markdown",
   "metadata": {},
   "source": [
    "The Poisson distribution is popular for modeling the number of times an event occurs in an interval of time or space."
   ]
  },
  {
   "cell_type": "markdown",
   "metadata": {},
   "source": [
    "\n",
    "<b> Example </b>: Imagine you have a dataset and discover that the average number of clients in a fast food is ~5 a minute. \n",
    "What is the probability of the fast food receiving 7 new clients on the next minute? \n",
    "\n",
    "Conditions for Poisson Distribution:\n",
    "\n",
    "* An event can occur any number of times during a time period.\n",
    "* Events occur independently. \n",
    "* The rate of occurrence is constant; that is, the rate does not change based on time.\n",
    "* The probability of an event occurring is proportional to the length of the time period. "
   ]
  },
  {
   "cell_type": "code",
   "execution_count": 522,
   "metadata": {
    "ExecuteTime": {
     "end_time": "2020-04-10T20:16:20.758105Z",
     "start_time": "2020-04-10T20:16:20.755113Z"
    }
   },
   "outputs": [],
   "source": [
    "from scipy.stats import poisson"
   ]
  },
  {
   "cell_type": "code",
   "execution_count": 523,
   "metadata": {
    "ExecuteTime": {
     "end_time": "2020-04-10T20:16:41.319196Z",
     "start_time": "2020-04-10T20:16:41.314236Z"
    }
   },
   "outputs": [
    {
     "data": {
      "text/plain": [
       "0.10444486295705395"
      ]
     },
     "execution_count": 523,
     "metadata": {},
     "output_type": "execute_result"
    }
   ],
   "source": [
    "average = 5\n",
    "dist = poisson(average)\n",
    "dist.pmf(7)"
   ]
  },
  {
   "cell_type": "code",
   "execution_count": 524,
   "metadata": {
    "ExecuteTime": {
     "end_time": "2020-04-10T20:17:04.032233Z",
     "start_time": "2020-04-10T20:17:04.028244Z"
    }
   },
   "outputs": [
    {
     "data": {
      "text/plain": [
       "0.018132788707821854"
      ]
     },
     "execution_count": 524,
     "metadata": {},
     "output_type": "execute_result"
    }
   ],
   "source": [
    "dist.pmf(10)"
   ]
  },
  {
   "cell_type": "code",
   "execution_count": 530,
   "metadata": {
    "ExecuteTime": {
     "end_time": "2020-04-10T20:18:01.553308Z",
     "start_time": "2020-04-10T20:18:01.441606Z"
    }
   },
   "outputs": [
    {
     "data": {
      "text/plain": [
       "<BarContainer object of 10 artists>"
      ]
     },
     "execution_count": 530,
     "metadata": {},
     "output_type": "execute_result"
    },
    {
     "data": {
      "image/png": "[encoded data removed]",
      "text/plain": [
       "<Figure size 432x288 with 1 Axes>"
      ]
     },
     "metadata": {
      "needs_background": "light"
     },
     "output_type": "display_data"
    }
   ],
   "source": [
    "plt.bar(range(10), dist.pmf(range(10)))"
   ]
  },
  {
   "cell_type": "markdown",
   "metadata": {},
   "source": [
    "A call center receives an average of 4.5 calls every 5 minutes. Each agent can handle one of these calls over the 5 minute period. If a call is received, but no agent is available to take it, then that caller will be placed on hold. Assuming that the calls follow a Poisson distribution, what is the minimum number of agents needed on duty so that calls are placed on hold at most 10% of the time?"
   ]
  },
  {
   "cell_type": "code",
   "execution_count": 531,
   "metadata": {
    "ExecuteTime": {
     "end_time": "2020-04-10T20:19:34.055200Z",
     "start_time": "2020-04-10T20:19:34.051238Z"
    }
   },
   "outputs": [],
   "source": [
    "average = 4.5\n",
    "dist = poisson(average)"
   ]
  },
  {
   "cell_type": "markdown",
   "metadata": {},
   "source": [
    "$ P(\\text{numero de ligacoes} > \\text{telefonistas}) \\le 10\\% $\n",
    "\n",
    "OU\n",
    "\n",
    "$ P(\\text{numero de ligacoes} \\le \\text{telefonistas}) > 90\\% $"
   ]
  },
  {
   "cell_type": "markdown",
   "metadata": {},
   "source": [
    "Probabilidade do número de ligações ser igual a zero:"
   ]
  },
  {
   "cell_type": "code",
   "execution_count": 532,
   "metadata": {
    "ExecuteTime": {
     "end_time": "2020-04-10T20:21:05.992770Z",
     "start_time": "2020-04-10T20:21:05.988781Z"
    }
   },
   "outputs": [
    {
     "data": {
      "text/plain": [
       "0.011108996538242306"
      ]
     },
     "execution_count": 532,
     "metadata": {},
     "output_type": "execute_result"
    }
   ],
   "source": [
    "dist.pmf(0)"
   ]
  },
  {
   "cell_type": "markdown",
   "metadata": {},
   "source": [
    "$P(X = 0) = 0.011$<br>"
   ]
  },
  {
   "cell_type": "markdown",
   "metadata": {},
   "source": [
    "Probabilidade do número de ligações ser igual a 1:\n",
    "    "
   ]
  },
  {
   "cell_type": "code",
   "execution_count": 533,
   "metadata": {
    "ExecuteTime": {
     "end_time": "2020-04-10T20:21:42.805629Z",
     "start_time": "2020-04-10T20:21:42.800643Z"
    }
   },
   "outputs": [
    {
     "data": {
      "text/plain": [
       "0.049990484422090385"
      ]
     },
     "execution_count": 533,
     "metadata": {},
     "output_type": "execute_result"
    }
   ],
   "source": [
    "dist.pmf(1)"
   ]
  },
  {
   "cell_type": "markdown",
   "metadata": {},
   "source": [
    "$P(X = 1) = 0.050$"
   ]
  },
  {
   "cell_type": "markdown",
   "metadata": {},
   "source": [
    "Qual a probabilidade então do número de ligações ser $\\le$ 1"
   ]
  },
  {
   "cell_type": "code",
   "execution_count": 541,
   "metadata": {
    "ExecuteTime": {
     "end_time": "2020-04-10T20:24:56.671847Z",
     "start_time": "2020-04-10T20:24:56.666834Z"
    }
   },
   "outputs": [
    {
     "data": {
      "text/plain": [
       "0.9134135283526441"
      ]
     },
     "execution_count": 541,
     "metadata": {},
     "output_type": "execute_result"
    }
   ],
   "source": [
    "dist.pmf(0) + dist.pmf(1) + dist.pmf(2) + dist.pmf(3) + dist.pmf(4) + dist.pmf(5) + dist.pmf(6) + dist.pmf(7)"
   ]
  },
  {
   "cell_type": "code",
   "execution_count": 535,
   "metadata": {
    "ExecuteTime": {
     "end_time": "2020-04-10T20:23:17.882988Z",
     "start_time": "2020-04-10T20:23:17.878030Z"
    }
   },
   "outputs": [
    {
     "data": {
      "text/plain": [
       "0.11247858994970336"
      ]
     },
     "execution_count": 535,
     "metadata": {},
     "output_type": "execute_result"
    }
   ],
   "source": [
    "dist.pmf(2)"
   ]
  },
  {
   "cell_type": "markdown",
   "metadata": {
    "ExecuteTime": {
     "end_time": "2020-04-10T15:24:59.902631Z",
     "start_time": "2020-04-10T15:24:59.899638Z"
    }
   },
   "source": [
    "$P(X = 0) = 0.011$<br>\n",
    "$P(X = 1) = 0.050  \\rightarrow P(X \\le 1) = 0.066 $<br>\n",
    "$P(X = 2) = 0.112  \\rightarrow P(X \\le 2) = 0.173 $<br>\n",
    "$P(X = 3) = 0.168  \\rightarrow P(X \\le 3) = 0.342 $<br>\n",
    "$P(X = 4) = 0.190  \\rightarrow P(X \\le 4) = 0.532 $<br>\n",
    "$P(X = 5) = 0.170  \\rightarrow P(X \\le 5) = 0.703 $<br>\n",
    "$P(X = 6) = 0.128  \\rightarrow P(X \\le 6) = 0.831 $<br>\n",
    "$P(X = 7) = 0.082  \\rightarrow P(X \\le 7) = 0.913 $<br>"
   ]
  },
  {
   "cell_type": "markdown",
   "metadata": {},
   "source": [
    "# Cumulative distribution function"
   ]
  },
  {
   "cell_type": "code",
   "execution_count": 551,
   "metadata": {
    "ExecuteTime": {
     "end_time": "2020-04-10T20:29:32.071855Z",
     "start_time": "2020-04-10T20:29:32.066868Z"
    }
   },
   "outputs": [
    {
     "data": {
      "text/plain": [
       "0.9933313279128181"
      ]
     },
     "execution_count": 551,
     "metadata": {},
     "output_type": "execute_result"
    }
   ],
   "source": [
    "average = 4.5\n",
    "dist = poisson(average)\n",
    "\n",
    "# cumulative distribution function\n",
    "dist.cdf(10)"
   ]
  },
  {
   "cell_type": "code",
   "execution_count": 552,
   "metadata": {
    "ExecuteTime": {
     "end_time": "2020-04-10T20:30:16.453003Z",
     "start_time": "2020-04-10T20:30:16.439012Z"
    }
   },
   "outputs": [],
   "source": [
    "## Probabilidade de se fazer 7 gols em 1 jogo de copa do mundo?\n",
    "df = pd.read_csv('WorldCupMatches.csv')"
   ]
  },
  {
   "cell_type": "code",
   "execution_count": 592,
   "metadata": {
    "ExecuteTime": {
     "end_time": "2020-04-10T20:43:00.728751Z",
     "start_time": "2020-04-10T20:43:00.702783Z"
    }
   },
   "outputs": [
    {
     "data": {
      "text/html": [
       "<div>\n",
       "<style scoped>\n",
       "    .dataframe tbody tr th:only-of-type {\n",
       "        vertical-align: middle;\n",
       "    }\n",
       "\n",
       "    .dataframe tbody tr th {\n",
       "        vertical-align: top;\n",
       "    }\n",
       "\n",
       "    .dataframe thead th {\n",
       "        text-align: right;\n",
       "    }\n",
       "</style>\n",
       "<table border=\"1\" class=\"dataframe\">\n",
       "  <thead>\n",
       "    <tr style=\"text-align: right;\">\n",
       "      <th></th>\n",
       "      <th>Year</th>\n",
       "      <th>Datetime</th>\n",
       "      <th>Stage</th>\n",
       "      <th>Stadium</th>\n",
       "      <th>City</th>\n",
       "      <th>Home Team Name</th>\n",
       "      <th>Home Team Goals</th>\n",
       "      <th>Away Team Goals</th>\n",
       "      <th>Away Team Name</th>\n",
       "      <th>Win conditions</th>\n",
       "      <th>...</th>\n",
       "      <th>Half-time Home Goals</th>\n",
       "      <th>Half-time Away Goals</th>\n",
       "      <th>Referee</th>\n",
       "      <th>Assistant 1</th>\n",
       "      <th>Assistant 2</th>\n",
       "      <th>RoundID</th>\n",
       "      <th>MatchID</th>\n",
       "      <th>Home Team Initials</th>\n",
       "      <th>Away Team Initials</th>\n",
       "      <th>total_goals</th>\n",
       "    </tr>\n",
       "  </thead>\n",
       "  <tbody>\n",
       "    <tr>\n",
       "      <th>806</th>\n",
       "      <td>2014.0</td>\n",
       "      <td>23 Jun 2014 - 17:00</td>\n",
       "      <td>Group A</td>\n",
       "      <td>Estadio Nacional</td>\n",
       "      <td>Brasilia</td>\n",
       "      <td>Cameroon</td>\n",
       "      <td>1.0</td>\n",
       "      <td>4.0</td>\n",
       "      <td>Brazil</td>\n",
       "      <td></td>\n",
       "      <td>...</td>\n",
       "      <td>1.0</td>\n",
       "      <td>2.0</td>\n",
       "      <td>ERIKSSON Jonas (SWE)</td>\n",
       "      <td>KLASENIUS Mathias (SWE)</td>\n",
       "      <td>WARNMARK Daniel (SWE)</td>\n",
       "      <td>255931.0</td>\n",
       "      <td>300186472.0</td>\n",
       "      <td>CMR</td>\n",
       "      <td>BRA</td>\n",
       "      <td>5.0</td>\n",
       "    </tr>\n",
       "  </tbody>\n",
       "</table>\n",
       "<p>1 rows × 21 columns</p>\n",
       "</div>"
      ],
      "text/plain": [
       "       Year              Datetime    Stage           Stadium       City  \\\n",
       "806  2014.0  23 Jun 2014 - 17:00   Group A  Estadio Nacional  Brasilia    \n",
       "\n",
       "    Home Team Name  Home Team Goals  Away Team Goals Away Team Name  \\\n",
       "806       Cameroon              1.0              4.0         Brazil   \n",
       "\n",
       "    Win conditions  ...  Half-time Home Goals  Half-time Away Goals  \\\n",
       "806                 ...                   1.0                   2.0   \n",
       "\n",
       "                  Referee              Assistant 1            Assistant 2  \\\n",
       "806  ERIKSSON Jonas (SWE)  KLASENIUS Mathias (SWE)  WARNMARK Daniel (SWE)   \n",
       "\n",
       "      RoundID      MatchID  Home Team Initials Away Team Initials total_goals  \n",
       "806  255931.0  300186472.0                 CMR                BRA         5.0  \n",
       "\n",
       "[1 rows x 21 columns]"
      ]
     },
     "execution_count": 592,
     "metadata": {},
     "output_type": "execute_result"
    }
   ],
   "source": [
    "df.dropna().query('Year == 2014.0').query('`Away Team Name` == \"Brazil\"')"
   ]
  },
  {
   "cell_type": "code",
   "execution_count": 588,
   "metadata": {
    "ExecuteTime": {
     "end_time": "2020-04-10T20:41:42.593908Z",
     "start_time": "2020-04-10T20:41:42.574958Z"
    }
   },
   "outputs": [
    {
     "data": {
      "text/html": [
       "<div>\n",
       "<style scoped>\n",
       "    .dataframe tbody tr th:only-of-type {\n",
       "        vertical-align: middle;\n",
       "    }\n",
       "\n",
       "    .dataframe tbody tr th {\n",
       "        vertical-align: top;\n",
       "    }\n",
       "\n",
       "    .dataframe thead th {\n",
       "        text-align: right;\n",
       "    }\n",
       "</style>\n",
       "<table border=\"1\" class=\"dataframe\">\n",
       "  <thead>\n",
       "    <tr style=\"text-align: right;\">\n",
       "      <th></th>\n",
       "      <th>Year</th>\n",
       "      <th>Datetime</th>\n",
       "      <th>Stage</th>\n",
       "      <th>Stadium</th>\n",
       "      <th>City</th>\n",
       "      <th>Home Team Name</th>\n",
       "      <th>Home Team Goals</th>\n",
       "      <th>Away Team Goals</th>\n",
       "      <th>Away Team Name</th>\n",
       "      <th>Win conditions</th>\n",
       "      <th>...</th>\n",
       "      <th>Half-time Home Goals</th>\n",
       "      <th>Half-time Away Goals</th>\n",
       "      <th>Referee</th>\n",
       "      <th>Assistant 1</th>\n",
       "      <th>Assistant 2</th>\n",
       "      <th>RoundID</th>\n",
       "      <th>MatchID</th>\n",
       "      <th>Home Team Initials</th>\n",
       "      <th>Away Team Initials</th>\n",
       "      <th>total_goals</th>\n",
       "    </tr>\n",
       "  </thead>\n",
       "  <tbody>\n",
       "    <tr>\n",
       "      <th>2031</th>\n",
       "      <td>NaN</td>\n",
       "      <td>NaN</td>\n",
       "      <td>NaN</td>\n",
       "      <td>NaN</td>\n",
       "      <td>NaN</td>\n",
       "      <td>NaN</td>\n",
       "      <td>NaN</td>\n",
       "      <td>NaN</td>\n",
       "      <td>NaN</td>\n",
       "      <td>NaN</td>\n",
       "      <td>...</td>\n",
       "      <td>NaN</td>\n",
       "      <td>NaN</td>\n",
       "      <td>NaN</td>\n",
       "      <td>NaN</td>\n",
       "      <td>NaN</td>\n",
       "      <td>NaN</td>\n",
       "      <td>NaN</td>\n",
       "      <td>NaN</td>\n",
       "      <td>NaN</td>\n",
       "      <td>NaN</td>\n",
       "    </tr>\n",
       "    <tr>\n",
       "      <th>4043</th>\n",
       "      <td>NaN</td>\n",
       "      <td>NaN</td>\n",
       "      <td>NaN</td>\n",
       "      <td>NaN</td>\n",
       "      <td>NaN</td>\n",
       "      <td>NaN</td>\n",
       "      <td>NaN</td>\n",
       "      <td>NaN</td>\n",
       "      <td>NaN</td>\n",
       "      <td>NaN</td>\n",
       "      <td>...</td>\n",
       "      <td>NaN</td>\n",
       "      <td>NaN</td>\n",
       "      <td>NaN</td>\n",
       "      <td>NaN</td>\n",
       "      <td>NaN</td>\n",
       "      <td>NaN</td>\n",
       "      <td>NaN</td>\n",
       "      <td>NaN</td>\n",
       "      <td>NaN</td>\n",
       "      <td>NaN</td>\n",
       "    </tr>\n",
       "    <tr>\n",
       "      <th>1095</th>\n",
       "      <td>NaN</td>\n",
       "      <td>NaN</td>\n",
       "      <td>NaN</td>\n",
       "      <td>NaN</td>\n",
       "      <td>NaN</td>\n",
       "      <td>NaN</td>\n",
       "      <td>NaN</td>\n",
       "      <td>NaN</td>\n",
       "      <td>NaN</td>\n",
       "      <td>NaN</td>\n",
       "      <td>...</td>\n",
       "      <td>NaN</td>\n",
       "      <td>NaN</td>\n",
       "      <td>NaN</td>\n",
       "      <td>NaN</td>\n",
       "      <td>NaN</td>\n",
       "      <td>NaN</td>\n",
       "      <td>NaN</td>\n",
       "      <td>NaN</td>\n",
       "      <td>NaN</td>\n",
       "      <td>NaN</td>\n",
       "    </tr>\n",
       "    <tr>\n",
       "      <th>2582</th>\n",
       "      <td>NaN</td>\n",
       "      <td>NaN</td>\n",
       "      <td>NaN</td>\n",
       "      <td>NaN</td>\n",
       "      <td>NaN</td>\n",
       "      <td>NaN</td>\n",
       "      <td>NaN</td>\n",
       "      <td>NaN</td>\n",
       "      <td>NaN</td>\n",
       "      <td>NaN</td>\n",
       "      <td>...</td>\n",
       "      <td>NaN</td>\n",
       "      <td>NaN</td>\n",
       "      <td>NaN</td>\n",
       "      <td>NaN</td>\n",
       "      <td>NaN</td>\n",
       "      <td>NaN</td>\n",
       "      <td>NaN</td>\n",
       "      <td>NaN</td>\n",
       "      <td>NaN</td>\n",
       "      <td>NaN</td>\n",
       "    </tr>\n",
       "    <tr>\n",
       "      <th>3047</th>\n",
       "      <td>NaN</td>\n",
       "      <td>NaN</td>\n",
       "      <td>NaN</td>\n",
       "      <td>NaN</td>\n",
       "      <td>NaN</td>\n",
       "      <td>NaN</td>\n",
       "      <td>NaN</td>\n",
       "      <td>NaN</td>\n",
       "      <td>NaN</td>\n",
       "      <td>NaN</td>\n",
       "      <td>...</td>\n",
       "      <td>NaN</td>\n",
       "      <td>NaN</td>\n",
       "      <td>NaN</td>\n",
       "      <td>NaN</td>\n",
       "      <td>NaN</td>\n",
       "      <td>NaN</td>\n",
       "      <td>NaN</td>\n",
       "      <td>NaN</td>\n",
       "      <td>NaN</td>\n",
       "      <td>NaN</td>\n",
       "    </tr>\n",
       "    <tr>\n",
       "      <th>3717</th>\n",
       "      <td>NaN</td>\n",
       "      <td>NaN</td>\n",
       "      <td>NaN</td>\n",
       "      <td>NaN</td>\n",
       "      <td>NaN</td>\n",
       "      <td>NaN</td>\n",
       "      <td>NaN</td>\n",
       "      <td>NaN</td>\n",
       "      <td>NaN</td>\n",
       "      <td>NaN</td>\n",
       "      <td>...</td>\n",
       "      <td>NaN</td>\n",
       "      <td>NaN</td>\n",
       "      <td>NaN</td>\n",
       "      <td>NaN</td>\n",
       "      <td>NaN</td>\n",
       "      <td>NaN</td>\n",
       "      <td>NaN</td>\n",
       "      <td>NaN</td>\n",
       "      <td>NaN</td>\n",
       "      <td>NaN</td>\n",
       "    </tr>\n",
       "    <tr>\n",
       "      <th>2245</th>\n",
       "      <td>NaN</td>\n",
       "      <td>NaN</td>\n",
       "      <td>NaN</td>\n",
       "      <td>NaN</td>\n",
       "      <td>NaN</td>\n",
       "      <td>NaN</td>\n",
       "      <td>NaN</td>\n",
       "      <td>NaN</td>\n",
       "      <td>NaN</td>\n",
       "      <td>NaN</td>\n",
       "      <td>...</td>\n",
       "      <td>NaN</td>\n",
       "      <td>NaN</td>\n",
       "      <td>NaN</td>\n",
       "      <td>NaN</td>\n",
       "      <td>NaN</td>\n",
       "      <td>NaN</td>\n",
       "      <td>NaN</td>\n",
       "      <td>NaN</td>\n",
       "      <td>NaN</td>\n",
       "      <td>NaN</td>\n",
       "    </tr>\n",
       "    <tr>\n",
       "      <th>2081</th>\n",
       "      <td>NaN</td>\n",
       "      <td>NaN</td>\n",
       "      <td>NaN</td>\n",
       "      <td>NaN</td>\n",
       "      <td>NaN</td>\n",
       "      <td>NaN</td>\n",
       "      <td>NaN</td>\n",
       "      <td>NaN</td>\n",
       "      <td>NaN</td>\n",
       "      <td>NaN</td>\n",
       "      <td>...</td>\n",
       "      <td>NaN</td>\n",
       "      <td>NaN</td>\n",
       "      <td>NaN</td>\n",
       "      <td>NaN</td>\n",
       "      <td>NaN</td>\n",
       "      <td>NaN</td>\n",
       "      <td>NaN</td>\n",
       "      <td>NaN</td>\n",
       "      <td>NaN</td>\n",
       "      <td>NaN</td>\n",
       "    </tr>\n",
       "    <tr>\n",
       "      <th>3458</th>\n",
       "      <td>NaN</td>\n",
       "      <td>NaN</td>\n",
       "      <td>NaN</td>\n",
       "      <td>NaN</td>\n",
       "      <td>NaN</td>\n",
       "      <td>NaN</td>\n",
       "      <td>NaN</td>\n",
       "      <td>NaN</td>\n",
       "      <td>NaN</td>\n",
       "      <td>NaN</td>\n",
       "      <td>...</td>\n",
       "      <td>NaN</td>\n",
       "      <td>NaN</td>\n",
       "      <td>NaN</td>\n",
       "      <td>NaN</td>\n",
       "      <td>NaN</td>\n",
       "      <td>NaN</td>\n",
       "      <td>NaN</td>\n",
       "      <td>NaN</td>\n",
       "      <td>NaN</td>\n",
       "      <td>NaN</td>\n",
       "    </tr>\n",
       "    <tr>\n",
       "      <th>1108</th>\n",
       "      <td>NaN</td>\n",
       "      <td>NaN</td>\n",
       "      <td>NaN</td>\n",
       "      <td>NaN</td>\n",
       "      <td>NaN</td>\n",
       "      <td>NaN</td>\n",
       "      <td>NaN</td>\n",
       "      <td>NaN</td>\n",
       "      <td>NaN</td>\n",
       "      <td>NaN</td>\n",
       "      <td>...</td>\n",
       "      <td>NaN</td>\n",
       "      <td>NaN</td>\n",
       "      <td>NaN</td>\n",
       "      <td>NaN</td>\n",
       "      <td>NaN</td>\n",
       "      <td>NaN</td>\n",
       "      <td>NaN</td>\n",
       "      <td>NaN</td>\n",
       "      <td>NaN</td>\n",
       "      <td>NaN</td>\n",
       "    </tr>\n",
       "  </tbody>\n",
       "</table>\n",
       "<p>10 rows × 21 columns</p>\n",
       "</div>"
      ],
      "text/plain": [
       "      Year Datetime Stage Stadium City Home Team Name  Home Team Goals  \\\n",
       "2031   NaN      NaN   NaN     NaN  NaN            NaN              NaN   \n",
       "4043   NaN      NaN   NaN     NaN  NaN            NaN              NaN   \n",
       "1095   NaN      NaN   NaN     NaN  NaN            NaN              NaN   \n",
       "2582   NaN      NaN   NaN     NaN  NaN            NaN              NaN   \n",
       "3047   NaN      NaN   NaN     NaN  NaN            NaN              NaN   \n",
       "3717   NaN      NaN   NaN     NaN  NaN            NaN              NaN   \n",
       "2245   NaN      NaN   NaN     NaN  NaN            NaN              NaN   \n",
       "2081   NaN      NaN   NaN     NaN  NaN            NaN              NaN   \n",
       "3458   NaN      NaN   NaN     NaN  NaN            NaN              NaN   \n",
       "1108   NaN      NaN   NaN     NaN  NaN            NaN              NaN   \n",
       "\n",
       "      Away Team Goals Away Team Name Win conditions  ...  \\\n",
       "2031              NaN            NaN            NaN  ...   \n",
       "4043              NaN            NaN            NaN  ...   \n",
       "1095              NaN            NaN            NaN  ...   \n",
       "2582              NaN            NaN            NaN  ...   \n",
       "3047              NaN            NaN            NaN  ...   \n",
       "3717              NaN            NaN            NaN  ...   \n",
       "2245              NaN            NaN            NaN  ...   \n",
       "2081              NaN            NaN            NaN  ...   \n",
       "3458              NaN            NaN            NaN  ...   \n",
       "1108              NaN            NaN            NaN  ...   \n",
       "\n",
       "      Half-time Home Goals  Half-time Away Goals  Referee Assistant 1  \\\n",
       "2031                   NaN                   NaN      NaN         NaN   \n",
       "4043                   NaN                   NaN      NaN         NaN   \n",
       "1095                   NaN                   NaN      NaN         NaN   \n",
       "2582                   NaN                   NaN      NaN         NaN   \n",
       "3047                   NaN                   NaN      NaN         NaN   \n",
       "3717                   NaN                   NaN      NaN         NaN   \n",
       "2245                   NaN                   NaN      NaN         NaN   \n",
       "2081                   NaN                   NaN      NaN         NaN   \n",
       "3458                   NaN                   NaN      NaN         NaN   \n",
       "1108                   NaN                   NaN      NaN         NaN   \n",
       "\n",
       "     Assistant 2 RoundID  MatchID  Home Team Initials Away Team Initials  \\\n",
       "2031         NaN     NaN      NaN                 NaN                NaN   \n",
       "4043         NaN     NaN      NaN                 NaN                NaN   \n",
       "1095         NaN     NaN      NaN                 NaN                NaN   \n",
       "2582         NaN     NaN      NaN                 NaN                NaN   \n",
       "3047         NaN     NaN      NaN                 NaN                NaN   \n",
       "3717         NaN     NaN      NaN                 NaN                NaN   \n",
       "2245         NaN     NaN      NaN                 NaN                NaN   \n",
       "2081         NaN     NaN      NaN                 NaN                NaN   \n",
       "3458         NaN     NaN      NaN                 NaN                NaN   \n",
       "1108         NaN     NaN      NaN                 NaN                NaN   \n",
       "\n",
       "     total_goals  \n",
       "2031         NaN  \n",
       "4043         NaN  \n",
       "1095         NaN  \n",
       "2582         NaN  \n",
       "3047         NaN  \n",
       "3717         NaN  \n",
       "2245         NaN  \n",
       "2081         NaN  \n",
       "3458         NaN  \n",
       "1108         NaN  \n",
       "\n",
       "[10 rows x 21 columns]"
      ]
     },
     "execution_count": 588,
     "metadata": {},
     "output_type": "execute_result"
    }
   ],
   "source": [
    "df.sample(10)"
   ]
  },
  {
   "cell_type": "code",
   "execution_count": 634,
   "metadata": {
    "ExecuteTime": {
     "end_time": "2020-04-10T20:49:51.250766Z",
     "start_time": "2020-04-10T20:49:51.240762Z"
    }
   },
   "outputs": [],
   "source": [
    "df = df.drop_duplicates()"
   ]
  },
  {
   "cell_type": "code",
   "execution_count": 635,
   "metadata": {
    "ExecuteTime": {
     "end_time": "2020-04-10T20:49:51.668619Z",
     "start_time": "2020-04-10T20:49:51.664629Z"
    }
   },
   "outputs": [
    {
     "name": "stderr",
     "output_type": "stream",
     "text": [
      "c:\\programas\\anaconda3\\lib\\site-packages\\ipykernel_launcher.py:1: SettingWithCopyWarning: \n",
      "A value is trying to be set on a copy of a slice from a DataFrame.\n",
      "Try using .loc[row_indexer,col_indexer] = value instead\n",
      "\n",
      "See the caveats in the documentation: http://pandas.pydata.org/pandas-docs/stable/user_guide/indexing.html#returning-a-view-versus-a-copy\n",
      "  \"\"\"Entry point for launching an IPython kernel.\n"
     ]
    }
   ],
   "source": [
    "df['total_goals'] = df['Away Team Goals'] + df['Home Team Goals']"
   ]
  },
  {
   "cell_type": "code",
   "execution_count": 636,
   "metadata": {
    "ExecuteTime": {
     "end_time": "2020-04-10T20:49:53.083017Z",
     "start_time": "2020-04-10T20:49:53.078030Z"
    }
   },
   "outputs": [
    {
     "data": {
      "text/plain": [
       "0      1.0\n",
       "1      0.0\n",
       "2      1.0\n",
       "3      1.0\n",
       "4      0.0\n",
       "      ... \n",
       "832    1.0\n",
       "833    1.0\n",
       "834    0.0\n",
       "835    1.0\n",
       "852    NaN\n",
       "Name: Away Team Goals, Length: 837, dtype: float64"
      ]
     },
     "execution_count": 636,
     "metadata": {},
     "output_type": "execute_result"
    }
   ],
   "source": [
    "df['Away Team Goals']"
   ]
  },
  {
   "cell_type": "code",
   "execution_count": 637,
   "metadata": {
    "ExecuteTime": {
     "end_time": "2020-04-10T20:49:54.003415Z",
     "start_time": "2020-04-10T20:49:54.000423Z"
    }
   },
   "outputs": [],
   "source": [
    "team_name = 'Brazil'\n",
    "\n",
    "other_team = 'Germany'"
   ]
  },
  {
   "cell_type": "code",
   "execution_count": 638,
   "metadata": {
    "ExecuteTime": {
     "end_time": "2020-04-10T20:49:54.898940Z",
     "start_time": "2020-04-10T20:49:54.879023Z"
    }
   },
   "outputs": [
    {
     "data": {
      "text/html": [
       "<div>\n",
       "<style scoped>\n",
       "    .dataframe tbody tr th:only-of-type {\n",
       "        vertical-align: middle;\n",
       "    }\n",
       "\n",
       "    .dataframe tbody tr th {\n",
       "        vertical-align: top;\n",
       "    }\n",
       "\n",
       "    .dataframe thead th {\n",
       "        text-align: right;\n",
       "    }\n",
       "</style>\n",
       "<table border=\"1\" class=\"dataframe\">\n",
       "  <thead>\n",
       "    <tr style=\"text-align: right;\">\n",
       "      <th></th>\n",
       "      <th>Year</th>\n",
       "      <th>Datetime</th>\n",
       "      <th>Stage</th>\n",
       "      <th>Stadium</th>\n",
       "      <th>City</th>\n",
       "      <th>Home Team Name</th>\n",
       "      <th>Home Team Goals</th>\n",
       "      <th>Away Team Goals</th>\n",
       "      <th>Away Team Name</th>\n",
       "      <th>Win conditions</th>\n",
       "      <th>...</th>\n",
       "      <th>Half-time Home Goals</th>\n",
       "      <th>Half-time Away Goals</th>\n",
       "      <th>Referee</th>\n",
       "      <th>Assistant 1</th>\n",
       "      <th>Assistant 2</th>\n",
       "      <th>RoundID</th>\n",
       "      <th>MatchID</th>\n",
       "      <th>Home Team Initials</th>\n",
       "      <th>Away Team Initials</th>\n",
       "      <th>total_goals</th>\n",
       "    </tr>\n",
       "  </thead>\n",
       "  <tbody>\n",
       "    <tr>\n",
       "      <th>826</th>\n",
       "      <td>2014.0</td>\n",
       "      <td>08 Jul 2014 - 17:00</td>\n",
       "      <td>Semi-finals</td>\n",
       "      <td>Estadio Mineirao</td>\n",
       "      <td>Belo Horizonte</td>\n",
       "      <td>Brazil</td>\n",
       "      <td>1.0</td>\n",
       "      <td>7.0</td>\n",
       "      <td>Germany</td>\n",
       "      <td></td>\n",
       "      <td>...</td>\n",
       "      <td>0.0</td>\n",
       "      <td>5.0</td>\n",
       "      <td>RODRIGUEZ Marco (MEX)</td>\n",
       "      <td>TORRENTERA Marvin (MEX)</td>\n",
       "      <td>QUINTERO Marcos (MEX)</td>\n",
       "      <td>255955.0</td>\n",
       "      <td>300186474.0</td>\n",
       "      <td>BRA</td>\n",
       "      <td>GER</td>\n",
       "      <td>8.0</td>\n",
       "    </tr>\n",
       "  </tbody>\n",
       "</table>\n",
       "<p>1 rows × 21 columns</p>\n",
       "</div>"
      ],
      "text/plain": [
       "       Year              Datetime        Stage           Stadium  \\\n",
       "826  2014.0  08 Jul 2014 - 17:00   Semi-finals  Estadio Mineirao   \n",
       "\n",
       "                City Home Team Name  Home Team Goals  Away Team Goals  \\\n",
       "826  Belo Horizonte          Brazil              1.0              7.0   \n",
       "\n",
       "    Away Team Name Win conditions  ...  Half-time Home Goals  \\\n",
       "826        Germany                 ...                   0.0   \n",
       "\n",
       "     Half-time Away Goals                Referee              Assistant 1  \\\n",
       "826                   5.0  RODRIGUEZ Marco (MEX)  TORRENTERA Marvin (MEX)   \n",
       "\n",
       "               Assistant 2   RoundID      MatchID  Home Team Initials  \\\n",
       "826  QUINTERO Marcos (MEX)  255955.0  300186474.0                 BRA   \n",
       "\n",
       "    Away Team Initials total_goals  \n",
       "826                GER         8.0  \n",
       "\n",
       "[1 rows x 21 columns]"
      ]
     },
     "execution_count": 638,
     "metadata": {},
     "output_type": "execute_result"
    }
   ],
   "source": [
    "df.query(f'`Home Team Name` == \"{team_name}\" and `Away Team Name` == \"{other_team}\"')"
   ]
  },
  {
   "cell_type": "code",
   "execution_count": 641,
   "metadata": {
    "ExecuteTime": {
     "end_time": "2020-04-10T20:50:13.607777Z",
     "start_time": "2020-04-10T20:50:13.598800Z"
    }
   },
   "outputs": [
    {
     "data": {
      "text/plain": [
       "826    1.0\n",
       "643    2.0\n",
       "dtype: float64"
      ]
     },
     "execution_count": 641,
     "metadata": {},
     "output_type": "execute_result"
    }
   ],
   "source": [
    " pd.concat([df.query(f'`Home Team Name` == \"{team_name}\" and `Away Team Name` == \"{other_team}\"')['Home Team Goals'], \n",
    "                     df.query(f'`Away Team Name` == \"{team_name}\" and `Home Team Name` == \"{other_team}\"')['Away Team Goals']])"
   ]
  },
  {
   "cell_type": "code",
   "execution_count": 640,
   "metadata": {
    "ExecuteTime": {
     "end_time": "2020-04-10T20:50:06.029109Z",
     "start_time": "2020-04-10T20:50:06.019137Z"
    }
   },
   "outputs": [
    {
     "data": {
      "text/plain": [
       "1.5"
      ]
     },
     "execution_count": 640,
     "metadata": {},
     "output_type": "execute_result"
    }
   ],
   "source": [
    "average = pd.concat([df.query(f'`Home Team Name` == \"{team_name}\" and `Away Team Name` == \"{other_team}\"')['Home Team Goals'], \n",
    "                     df.query(f'`Away Team Name` == \"{team_name}\" and `Home Team Name` == \"{other_team}\"')['Away Team Goals']]).mean()\n",
    "average"
   ]
  },
  {
   "cell_type": "code",
   "execution_count": 619,
   "metadata": {
    "ExecuteTime": {
     "end_time": "2020-04-10T20:47:22.676309Z",
     "start_time": "2020-04-10T20:47:22.672320Z"
    }
   },
   "outputs": [
    {
     "data": {
      "text/plain": [
       "2.0833333333333335"
      ]
     },
     "execution_count": 619,
     "metadata": {},
     "output_type": "execute_result"
    }
   ],
   "source": [
    "average"
   ]
  },
  {
   "cell_type": "code",
   "execution_count": 620,
   "metadata": {
    "ExecuteTime": {
     "end_time": "2020-04-10T20:47:22.926597Z",
     "start_time": "2020-04-10T20:47:22.922581Z"
    }
   },
   "outputs": [],
   "source": [
    "dist = poisson(average)"
   ]
  },
  {
   "cell_type": "code",
   "execution_count": 621,
   "metadata": {
    "ExecuteTime": {
     "end_time": "2020-04-10T20:47:23.261738Z",
     "start_time": "2020-04-10T20:47:23.258713Z"
    }
   },
   "outputs": [
    {
     "data": {
      "text/plain": [
       "237.62896077334105"
      ]
     },
     "execution_count": 621,
     "metadata": {},
     "output_type": "execute_result"
    }
   ],
   "source": [
    "# de quantos em quantos jogos eu faço 7 gols\n",
    "\n",
    "100 / (dist.pmf(7) * 100)"
   ]
  },
  {
   "cell_type": "code",
   "execution_count": 622,
   "metadata": {
    "ExecuteTime": {
     "end_time": "2020-04-10T20:47:37.557914Z",
     "start_time": "2020-04-10T20:47:37.553896Z"
    }
   },
   "outputs": [
    {
     "data": {
      "text/plain": [
       "0.42082412713736334"
      ]
     },
     "execution_count": 622,
     "metadata": {},
     "output_type": "execute_result"
    }
   ],
   "source": [
    "(dist.pmf(7) * 100)"
   ]
  }
 ],
 "metadata": {
  "kernelspec": {
   "display_name": "Python 3",
   "language": "python",
   "name": "python3"
  },
  "language_info": {
   "codemirror_mode": {
    "name": "ipython",
    "version": 3
   },
   "file_extension": ".py",
   "mimetype": "text/x-python",
   "name": "python",
   "nbconvert_exporter": "python",
   "pygments_lexer": "ipython3",
   "version": "3.7.3"
  },
  "toc": {
   "base_numbering": 1,
   "nav_menu": {},
   "number_sections": true,
   "sideBar": true,
   "skip_h1_title": false,
   "title_cell": "Table of Contents",
   "title_sidebar": "Contents",
   "toc_cell": false,
   "toc_position": {},
   "toc_section_display": true,
   "toc_window_display": false
  }
 },
 "nbformat": 4,
 "nbformat_minor": 2
}
