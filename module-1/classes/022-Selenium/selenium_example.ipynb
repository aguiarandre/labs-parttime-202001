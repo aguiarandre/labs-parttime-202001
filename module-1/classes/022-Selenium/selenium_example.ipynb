{
 "cells": [
  {
   "cell_type": "code",
   "execution_count": 2,
   "metadata": {
    "ExecuteTime": {
     "end_time": "2020-03-24T22:57:24.601131Z",
     "start_time": "2020-03-24T22:57:24.260017Z"
    }
   },
   "outputs": [],
   "source": [
    "import pandas as pd\n",
    "from selenium import webdriver"
   ]
  },
  {
   "cell_type": "code",
   "execution_count": 5,
   "metadata": {
    "ExecuteTime": {
     "end_time": "2020-03-24T22:59:18.797712Z",
     "start_time": "2020-03-24T22:59:16.816729Z"
    }
   },
   "outputs": [],
   "source": [
    "# open the chrome browser\n",
    "driver = webdriver.Chrome(executable_path='/Users/andreaguiar/Desktop/selenium/chromedriver.exe')"
   ]
  },
  {
   "cell_type": "code",
   "execution_count": 6,
   "metadata": {
    "ExecuteTime": {
     "end_time": "2020-03-24T23:00:44.364726Z",
     "start_time": "2020-03-24T23:00:40.735743Z"
    }
   },
   "outputs": [],
   "source": [
    "# open the chrome browser\n",
    "driver = webdriver.Chrome(executable_path='/Users/andreaguiar/Desktop/selenium/chromedriver')\n",
    "\n",
    "# navigate to webpage\n",
    "driver.get(\"http://testing-ground.scraping.pro/login\")"
   ]
  },
  {
   "cell_type": "code",
   "execution_count": 10,
   "metadata": {
    "ExecuteTime": {
     "end_time": "2020-03-24T23:09:31.172667Z",
     "start_time": "2020-03-24T23:09:31.161667Z"
    }
   },
   "outputs": [],
   "source": [
    "elem = driver.find_element_by_id('usr')"
   ]
  },
  {
   "cell_type": "code",
   "execution_count": 21,
   "metadata": {
    "ExecuteTime": {
     "end_time": "2020-03-24T23:12:09.854032Z",
     "start_time": "2020-03-24T23:12:09.842064Z"
    }
   },
   "outputs": [],
   "source": [
    "elem = driver.find_element_by_tag_name('input')"
   ]
  },
  {
   "cell_type": "code",
   "execution_count": 35,
   "metadata": {
    "ExecuteTime": {
     "end_time": "2020-03-24T23:14:34.388913Z",
     "start_time": "2020-03-24T23:14:34.375948Z"
    }
   },
   "outputs": [],
   "source": [
    "elem = driver.find_elements_by_tag_name('input')"
   ]
  },
  {
   "cell_type": "code",
   "execution_count": 25,
   "metadata": {
    "ExecuteTime": {
     "end_time": "2020-03-24T23:13:25.658875Z",
     "start_time": "2020-03-24T23:13:25.646908Z"
    }
   },
   "outputs": [],
   "source": [
    "elem = driver.find_element_by_xpath('/html/body/div[2]/div[2]/form/input[2]')"
   ]
  },
  {
   "cell_type": "code",
   "execution_count": 27,
   "metadata": {
    "ExecuteTime": {
     "end_time": "2020-03-24T23:13:36.528724Z",
     "start_time": "2020-03-24T23:13:36.524734Z"
    }
   },
   "outputs": [
    {
     "data": {
      "text/plain": [
       "<selenium.webdriver.remote.webelement.WebElement (session=\"0ed4d76f7812edb708f28abd850b0014\", element=\"b34fb5da-346d-42a1-8e29-828e76cec10f\")>"
      ]
     },
     "execution_count": 27,
     "metadata": {},
     "output_type": "execute_result"
    }
   ],
   "source": [
    "elem"
   ]
  },
  {
   "cell_type": "code",
   "execution_count": 33,
   "metadata": {
    "ExecuteTime": {
     "end_time": "2020-03-24T23:14:13.697506Z",
     "start_time": "2020-03-24T23:14:13.687534Z"
    }
   },
   "outputs": [
    {
     "data": {
      "text/plain": [
       "'pwd'"
      ]
     },
     "execution_count": 33,
     "metadata": {},
     "output_type": "execute_result"
    }
   ],
   "source": [
    "elem.get_attribute('name')"
   ]
  },
  {
   "cell_type": "code",
   "execution_count": 26,
   "metadata": {
    "ExecuteTime": {
     "end_time": "2020-03-24T23:13:29.192914Z",
     "start_time": "2020-03-24T23:13:29.163991Z"
    }
   },
   "outputs": [],
   "source": [
    "elem.clear()"
   ]
  },
  {
   "cell_type": "code",
   "execution_count": 36,
   "metadata": {
    "ExecuteTime": {
     "end_time": "2020-03-24T23:14:35.662739Z",
     "start_time": "2020-03-24T23:14:35.640796Z"
    }
   },
   "outputs": [
    {
     "data": {
      "text/plain": [
       "['usr', 'pwd', '']"
      ]
     },
     "execution_count": 36,
     "metadata": {},
     "output_type": "execute_result"
    }
   ],
   "source": [
    "[item.get_attribute('name') for item in elem]"
   ]
  },
  {
   "cell_type": "code",
   "execution_count": 22,
   "metadata": {
    "ExecuteTime": {
     "end_time": "2020-03-24T23:12:15.819811Z",
     "start_time": "2020-03-24T23:12:15.766953Z"
    }
   },
   "outputs": [],
   "source": [
    "elem.send_keys('IRONHACK')"
   ]
  },
  {
   "cell_type": "code",
   "execution_count": 52,
   "metadata": {
    "ExecuteTime": {
     "end_time": "2020-03-24T23:22:37.576423Z",
     "start_time": "2020-03-24T23:22:37.549472Z"
    }
   },
   "outputs": [],
   "source": [
    "elem.clear()"
   ]
  },
  {
   "cell_type": "code",
   "execution_count": null,
   "metadata": {},
   "outputs": [],
   "source": []
  },
  {
   "cell_type": "code",
   "execution_count": 64,
   "metadata": {
    "ExecuteTime": {
     "end_time": "2020-03-24T23:24:05.356444Z",
     "start_time": "2020-03-24T23:24:05.321538Z"
    }
   },
   "outputs": [],
   "source": [
    "# selecting elements by\n",
    "elem = driver.find_element_by_id('usr')\n",
    "elem = driver.find_element_by_name('usr')\n",
    "elem = driver.find_element_by_xpath('/html/body/div[2]/div[2]/form/input[1]')"
   ]
  },
  {
   "cell_type": "code",
   "execution_count": 65,
   "metadata": {
    "ExecuteTime": {
     "end_time": "2020-03-24T23:24:07.030182Z",
     "start_time": "2020-03-24T23:24:07.003226Z"
    }
   },
   "outputs": [],
   "source": [
    "elem.clear()"
   ]
  },
  {
   "cell_type": "code",
   "execution_count": 66,
   "metadata": {
    "ExecuteTime": {
     "end_time": "2020-03-24T23:24:07.739902Z",
     "start_time": "2020-03-24T23:24:07.689066Z"
    }
   },
   "outputs": [],
   "source": [
    "elem.send_keys('admin')"
   ]
  },
  {
   "cell_type": "code",
   "execution_count": 67,
   "metadata": {
    "ExecuteTime": {
     "end_time": "2020-03-24T23:24:09.379465Z",
     "start_time": "2020-03-24T23:24:09.360516Z"
    }
   },
   "outputs": [],
   "source": [
    "from selenium.webdriver.common.keys import Keys\n",
    "elem.send_keys(Keys.TAB)"
   ]
  },
  {
   "cell_type": "code",
   "execution_count": 68,
   "metadata": {
    "ExecuteTime": {
     "end_time": "2020-03-24T23:24:10.014034Z",
     "start_time": "2020-03-24T23:24:10.001041Z"
    }
   },
   "outputs": [],
   "source": [
    "elem = driver.find_element_by_id('pwd')"
   ]
  },
  {
   "cell_type": "code",
   "execution_count": 69,
   "metadata": {
    "ExecuteTime": {
     "end_time": "2020-03-24T23:24:16.933154Z",
     "start_time": "2020-03-24T23:24:16.905229Z"
    }
   },
   "outputs": [],
   "source": [
    "elem.send_keys('12345')"
   ]
  },
  {
   "cell_type": "code",
   "execution_count": 62,
   "metadata": {
    "ExecuteTime": {
     "end_time": "2020-03-24T23:23:17.133060Z",
     "start_time": "2020-03-24T23:23:16.428344Z"
    }
   },
   "outputs": [],
   "source": [
    "elem.send_keys(Keys.RETURN)"
   ]
  },
  {
   "cell_type": "code",
   "execution_count": 70,
   "metadata": {
    "ExecuteTime": {
     "end_time": "2020-03-24T23:24:20.506900Z",
     "start_time": "2020-03-24T23:24:20.493037Z"
    }
   },
   "outputs": [],
   "source": [
    "elem = driver.find_element_by_xpath('/html/body/div[2]/div[2]/form/input[3]')"
   ]
  },
  {
   "cell_type": "code",
   "execution_count": 72,
   "metadata": {
    "ExecuteTime": {
     "end_time": "2020-03-24T23:24:30.557202Z",
     "start_time": "2020-03-24T23:24:29.879243Z"
    }
   },
   "outputs": [],
   "source": [
    "elem.click()"
   ]
  },
  {
   "cell_type": "code",
   "execution_count": 74,
   "metadata": {
    "ExecuteTime": {
     "end_time": "2020-03-24T23:25:09.933475Z",
     "start_time": "2020-03-24T23:25:09.921507Z"
    }
   },
   "outputs": [],
   "source": [
    "elem = driver.find_element_by_tag_name('h3')"
   ]
  },
  {
   "cell_type": "code",
   "execution_count": 75,
   "metadata": {
    "ExecuteTime": {
     "end_time": "2020-03-24T23:25:13.427761Z",
     "start_time": "2020-03-24T23:25:13.412776Z"
    }
   },
   "outputs": [
    {
     "data": {
      "text/plain": [
       "'WELCOME :)'"
      ]
     },
     "execution_count": 75,
     "metadata": {},
     "output_type": "execute_result"
    }
   ],
   "source": [
    "elem.text"
   ]
  },
  {
   "cell_type": "code",
   "execution_count": null,
   "metadata": {},
   "outputs": [],
   "source": []
  },
  {
   "cell_type": "code",
   "execution_count": 82,
   "metadata": {
    "ExecuteTime": {
     "end_time": "2020-03-24T23:27:52.496918Z",
     "start_time": "2020-03-24T23:27:48.491861Z"
    }
   },
   "outputs": [
    {
     "data": {
      "text/plain": [
       "'ACCESS DENIED!'"
      ]
     },
     "execution_count": 82,
     "metadata": {},
     "output_type": "execute_result"
    }
   ],
   "source": [
    "# open the chrome browser\n",
    "driver = webdriver.Chrome(executable_path='/Users/andreaguiar/Desktop/selenium/chromedriver')\n",
    "\n",
    "# navigate to webpage\n",
    "driver.get(\"http://testing-ground.scraping.pro/login\")\n",
    "\n",
    "elem = driver.find_element_by_id('usr')\n",
    "elem.send_keys('admin')\n",
    "\n",
    "elem = driver.find_element_by_id('pwd')\n",
    "elem.send_keys('12345123123')\n",
    "\n",
    "# clicking login\n",
    "elem = driver.find_element_by_xpath('/html/body/div[2]/div[2]/form/input[3]')\n",
    "elem.click()\n",
    "\n",
    "\n",
    "driver.find_element_by_tag_name('h3').text"
   ]
  },
  {
   "cell_type": "code",
   "execution_count": 78,
   "metadata": {
    "ExecuteTime": {
     "end_time": "2020-03-24T23:26:11.198211Z",
     "start_time": "2020-03-24T23:26:11.190207Z"
    },
    "scrolled": true
   },
   "outputs": [
    {
     "data": {
      "text/plain": [
       "'<html class=\" js flexbox canvas canvastext webgl no-touch geolocation postmessage websqldatabase indexeddb hashchange history draganddrop websockets rgba hsla multiplebgs backgroundsize borderimage borderradius boxshadow textshadow opacity cssanimations csscolumns cssgradients cssreflections csstransforms csstransforms3d csstransitions fontface generatedcontent video audio localstorage sessionstorage webworkers no-applicationcache svg inlinesvg smil svgclippaths\"><!--<![endif]--><head>\\n        <meta charset=\"utf-8\">\\n        <meta http-equiv=\"X-UA-Compatible\" content=\"IE=edge,chrome=1\">\\n        <title>Web Scraper Testing Ground</title>\\n        <meta name=\"description\" content=\"\">\\n        <meta name=\"viewport\" content=\"width=device-width\">\\n        <link rel=\"stylesheet\" href=\"/css/normalize.css\">\\n        <link rel=\"stylesheet\" href=\"/css/main.css\">\\n        <script type=\"text/javascript\" async=\"\" src=\"http://www.google-analytics.com/ga.js\"></script><script src=\"/js/vendor/modernizr-2.6.1.min.js\"></script>\\n        <script src=\"/js/vendor/jquery-1.9.1.min.js\"></script>\\n        <script src=\"/js/vendor/jquery-ui-1.10.2.min.js\"></script>\\n        <script src=\"/js/plugins.js\"></script>\\n        <script src=\"/js/main.js\"></script>\\n\\n        <link rel=\"stylesheet\" href=\"/css/QapTcha.jquery.css\">\\n        <script src=\"/js/QapTcha.jquery.js\"></script>\\n        \\n        <link rel=\"stylesheet\" href=\"/fancy-captcha/captcha.css\">\\n        <script src=\"/fancy-captcha/jquery.captcha.js\"></script>\\n\\n    </head>\\n    <body>\\n\\t\\t<script type=\"text/javascript\">\\n\\t\\t\\n\\t\\t  var _gaq = _gaq || [];\\n\\t\\t  _gaq.push([\\'_setAccount\\', \\'UA-4436411-8\\']);\\n\\t\\t  _gaq.push([\\'_setDomainName\\', \\'extract-web-data.com\\']);\\n\\t\\t  _gaq.push([\\'_trackPageview\\']);\\n\\t\\t\\n\\t\\t  (function() {\\n\\t\\t    var ga = document.createElement(\\'script\\'); ga.type = \\'text/javascript\\'; ga.async = true;\\n\\t\\t    ga.src = (\\'https:\\' == document.location.protocol ? \\'https://ssl\\' : \\'http://www\\') + \\'.google-analytics.com/ga.js\\';\\n\\t\\t    var s = document.getElementsByTagName(\\'script\\')[0]; s.parentNode.insertBefore(ga, s);\\n\\t\\t  })();\\n\\t\\t\\n\\t\\t</script>\\n        <!--[if lt IE 7]>\\n            <p class=\"chromeframe\">You are using an outdated browser. <a href=\"http://browsehappy.com/\">Upgrade your browser today</a> or <a href=\"http://www.google.com/chromeframe/?redirect=true\">install Google Chrome Frame</a> to better experience this site.</p>\\n        <![endif]-->\\n        <div id=\"topbar\"></div>\\n\\t\\t<a href=\"/\" style=\"text-decoration: none\">\\n\\t\\t    <div id=\"title\">WEB SCRAPER TESTING GROUND</div>\\n\\t\\t    <div id=\"logo\"></div>\\n\\t\\t</a>\\n\\t\\t<div id=\"content\">\\n<h1>LOGIN</h1>\\n<div id=\"caseinfo\">Often in order to reach the desired information you need to be logged in to the website. Most of today\\'s websites use so-called form-based authentication which implies sending user credentials using POST method, authenticating it on the server and storing user\\'s session in a cookie.<p></p>\\n<p>This simple test shows scraper\\'s ability to:</p>\\n\\t<ol>\\n\\t\\t<li>Send user credentials via POST method</li>\\n\\t\\t<li>Receive, Keep and Return a session cookie</li>\\n\\t\\t<li>Process HTTP redirect (302)</li>\\n\\t</ol>\\n<p>How to test:</p>\\n    <ol>\\n        <li>Enter <b>admin</b> and <b>12345</b> in the form below and press <b>Login</b></li>\\n        <li>If you see <span class=\"success\">WELCOME :)</span> then the user credentials were sent, the cookie was passed and HTTP redirect was processed</li>\\n        <li>If you see <span class=\"error\">ACCESS DENIED!</span> then either you entered wrong credentials or they were not sent to the server properly</li>\\n        <li>If you see <span class=\"error\">THE SESSION COOKIE IS MISSING OR HAS A WRONG VALUE!</span> then the user credentials were properly sent but the session cookie was not properly stored or passed</li>\\n        <li>If you see <span class=\"success\">REDIRECTING...</span> then the user credentials were properly sent but HTTP redirection was not processed</li>\\n        <li>Click <b>GO BACK</b> to start again</li>\\n    </ol>\\n</div>\\n\\n<hr>\\n\\n<div id=\"case_login\">\\n<h3 class=\"error\">ACCESS DENIED!</h3><a href=\"login\">&lt;&lt;&nbsp;GO BACK</a></div>\\n<br><br><br>\\n\\t\\t</div>\\n    \\n</body></html>'"
      ]
     },
     "execution_count": 78,
     "metadata": {},
     "output_type": "execute_result"
    }
   ],
   "source": [
    "driver.page_source"
   ]
  },
  {
   "cell_type": "code",
   "execution_count": 79,
   "metadata": {
    "ExecuteTime": {
     "end_time": "2020-03-24T23:26:21.778863Z",
     "start_time": "2020-03-24T23:26:19.658338Z"
    }
   },
   "outputs": [],
   "source": [
    "from bs4 import BeautifulSoup\n",
    "\n",
    "soup = BeautifulSoup(driver.page_source)"
   ]
  },
  {
   "cell_type": "code",
   "execution_count": 81,
   "metadata": {
    "ExecuteTime": {
     "end_time": "2020-03-24T23:26:28.293235Z",
     "start_time": "2020-03-24T23:26:28.289246Z"
    }
   },
   "outputs": [
    {
     "data": {
      "text/plain": [
       "'ACCESS DENIED!'"
      ]
     },
     "execution_count": 81,
     "metadata": {},
     "output_type": "execute_result"
    }
   ],
   "source": [
    "soup.find('h3').text"
   ]
  },
  {
   "cell_type": "code",
   "execution_count": 85,
   "metadata": {
    "ExecuteTime": {
     "end_time": "2020-03-24T23:48:41.248380Z",
     "start_time": "2020-03-24T23:48:34.408210Z"
    }
   },
   "outputs": [
    {
     "name": "stderr",
     "output_type": "stream",
     "text": [
      "c:\\programas\\anaconda3\\lib\\site-packages\\ipykernel_launcher.py:9: DeprecationWarning: use options instead of chrome_options\n",
      "  if __name__ == '__main__':\n"
     ]
    },
    {
     "data": {
      "text/plain": [
       "'ACCESS DENIED!'"
      ]
     },
     "execution_count": 85,
     "metadata": {},
     "output_type": "execute_result"
    }
   ],
   "source": [
    "from selenium.webdriver.chrome.options import Options\n",
    "\n",
    "chrome_options = Options()  \n",
    "chrome_options.add_argument(\"--headless\")\n",
    "chrome_options.add_argument('--disable-gpu')\n",
    "chrome_options.add_argument('--no-sandbox')\n",
    "\n",
    "# open the chrome browser\n",
    "driver = webdriver.Chrome(executable_path='/Users/andreaguiar/Desktop/selenium/chromedriver', chrome_options=chrome_options)\n",
    "\n",
    "# navigate to webpage\n",
    "driver.get(\"http://testing-ground.scraping.pro/login\")\n",
    "\n",
    "elem = driver.find_element_by_id('usr')\n",
    "elem.send_keys('admin')\n",
    "\n",
    "elem = driver.find_element_by_id('pwd')\n",
    "elem.send_keys('12345123123')\n",
    "\n",
    "# clicking login\n",
    "elem = driver.find_element_by_xpath('/html/body/div[2]/div[2]/form/input[3]')\n",
    "elem.click()\n",
    "\n",
    "\n",
    "driver.find_element_by_tag_name('h3').text"
   ]
  },
  {
   "cell_type": "markdown",
   "metadata": {},
   "source": [
    "# Forms"
   ]
  },
  {
   "cell_type": "code",
   "execution_count": 86,
   "metadata": {
    "ExecuteTime": {
     "end_time": "2020-03-24T23:55:50.199076Z",
     "start_time": "2020-03-24T23:55:46.815375Z"
    }
   },
   "outputs": [],
   "source": [
    "# open the chrome browser\n",
    "driver = webdriver.Chrome(executable_path='/Users/andreaguiar/Desktop/selenium/chromedriver.exe')\n",
    "\n",
    "# navigate to webpage\n",
    "driver.get(\"https://forms.gle/v1jzZRf6LTATd2eX6\")\n",
    "\n",
    "elem = driver.find_element_by_class_name('quantumWizTextinputPaperinputInput')\n",
    "\n",
    "elem.send_keys('Darua')"
   ]
  },
  {
   "cell_type": "code",
   "execution_count": null,
   "metadata": {
    "ExecuteTime": {
     "end_time": "2020-03-21T01:41:21.762721Z",
     "start_time": "2020-03-21T01:41:21.759729Z"
    }
   },
   "outputs": [],
   "source": [
    "from selenium import webdriver\n",
    "from selenium.webdriver.common.keys import Keys\n",
    "from selenium.webdriver.chrome.options import Options"
   ]
  },
  {
   "cell_type": "code",
   "execution_count": null,
   "metadata": {},
   "outputs": [],
   "source": [
    "from selenium.webdriver.chrome.options import Options\n",
    "chrome_options = Options()  \n",
    "chrome_options.add_argument(\"--headless\")\n",
    "chrome_options.add_argument('--disable-gpu')\n",
    "chrome_options.add_argument('--no-sandbox')\n"
   ]
  },
  {
   "cell_type": "code",
   "execution_count": null,
   "metadata": {
    "ExecuteTime": {
     "end_time": "2020-03-21T01:41:36.797219Z",
     "start_time": "2020-03-21T01:41:33.543183Z"
    }
   },
   "outputs": [],
   "source": [
    "# open the chrome browser\n",
    "driver = webdriver.Chrome(executable_path='/Users/andreaguiar/Desktop/selenium/chromedriver')\n",
    "\n",
    "# navigate to webpage\n",
    "driver.get(\"https://forms.gle/v1jzZRf6LTATd2eX6\")\n"
   ]
  },
  {
   "cell_type": "code",
   "execution_count": 90,
   "metadata": {
    "ExecuteTime": {
     "end_time": "2020-03-24T23:57:48.285941Z",
     "start_time": "2020-03-24T23:57:48.263004Z"
    }
   },
   "outputs": [
    {
     "data": {
      "text/plain": [
       "''"
      ]
     },
     "execution_count": 90,
     "metadata": {},
     "output_type": "execute_result"
    }
   ],
   "source": [
    "driver.find_elements_by_class_name('appsMaterialWizToggleRadiogroupOffRadio')[1].text"
   ]
  },
  {
   "cell_type": "code",
   "execution_count": 96,
   "metadata": {
    "ExecuteTime": {
     "end_time": "2020-03-24T23:58:55.860040Z",
     "start_time": "2020-03-24T23:58:55.836104Z"
    }
   },
   "outputs": [
    {
     "data": {
      "text/plain": [
       "'>= 30 and < 35'"
      ]
     },
     "execution_count": 96,
     "metadata": {},
     "output_type": "execute_result"
    }
   ],
   "source": [
    "driver.find_elements_by_class_name('freebirdFormviewerViewItemsRadioLabel')[].text"
   ]
  },
  {
   "cell_type": "code",
   "execution_count": null,
   "metadata": {},
   "outputs": [],
   "source": []
  },
  {
   "cell_type": "code",
   "execution_count": null,
   "metadata": {},
   "outputs": [],
   "source": []
  },
  {
   "cell_type": "code",
   "execution_count": null,
   "metadata": {},
   "outputs": [],
   "source": []
  },
  {
   "cell_type": "code",
   "execution_count": 100,
   "metadata": {
    "ExecuteTime": {
     "end_time": "2020-03-25T00:00:02.842268Z",
     "start_time": "2020-03-25T00:00:02.730566Z"
    }
   },
   "outputs": [
    {
     "name": "stdout",
     "output_type": "stream",
     "text": [
      ">= 35\n"
     ]
    }
   ],
   "source": [
    "elems = driver.find_elements_by_class_name('freebirdFormviewerViewItemsRadioLabel')\n",
    "for elem in elems:\n",
    "    if '>= 35' in elem.text:\n",
    "        print(elem.text)\n",
    "        elem.click()"
   ]
  },
  {
   "cell_type": "code",
   "execution_count": 101,
   "metadata": {
    "ExecuteTime": {
     "end_time": "2020-03-25T00:00:33.667727Z",
     "start_time": "2020-03-25T00:00:33.654762Z"
    }
   },
   "outputs": [],
   "source": [
    "elems = driver.find_elements_by_class_name('freebirdMaterialScalecontentLabel')"
   ]
  },
  {
   "cell_type": "code",
   "execution_count": 102,
   "metadata": {
    "ExecuteTime": {
     "end_time": "2020-03-25T00:00:36.361100Z",
     "start_time": "2020-03-25T00:00:36.357111Z"
    }
   },
   "outputs": [
    {
     "data": {
      "text/plain": [
       "[<selenium.webdriver.remote.webelement.WebElement (session=\"cd99c67c759fd5a26bde965166170d7a\", element=\"e43a557a-50c8-4cfc-897f-ce37fc70fb11\")>,\n",
       " <selenium.webdriver.remote.webelement.WebElement (session=\"cd99c67c759fd5a26bde965166170d7a\", element=\"5ac626b8-d4d3-47d4-ad64-01530ef5a388\")>,\n",
       " <selenium.webdriver.remote.webelement.WebElement (session=\"cd99c67c759fd5a26bde965166170d7a\", element=\"949c0024-f041-4bc5-b94b-5c0d6d112d6b\")>,\n",
       " <selenium.webdriver.remote.webelement.WebElement (session=\"cd99c67c759fd5a26bde965166170d7a\", element=\"e1a9f115-30cd-4729-927a-3706e2de5ece\")>,\n",
       " <selenium.webdriver.remote.webelement.WebElement (session=\"cd99c67c759fd5a26bde965166170d7a\", element=\"352926e1-6b4a-4037-86bc-3218fa37b159\")>,\n",
       " <selenium.webdriver.remote.webelement.WebElement (session=\"cd99c67c759fd5a26bde965166170d7a\", element=\"d366c581-23d6-4d32-b4b5-15fca139fc19\")>,\n",
       " <selenium.webdriver.remote.webelement.WebElement (session=\"cd99c67c759fd5a26bde965166170d7a\", element=\"e118c578-c0b5-497a-98ba-bae56af38c30\")>,\n",
       " <selenium.webdriver.remote.webelement.WebElement (session=\"cd99c67c759fd5a26bde965166170d7a\", element=\"530b1bfc-2b9c-4766-b76d-e631fd5df426\")>,\n",
       " <selenium.webdriver.remote.webelement.WebElement (session=\"cd99c67c759fd5a26bde965166170d7a\", element=\"9bfab5b6-be87-4ded-8d7c-a563fed02334\")>,\n",
       " <selenium.webdriver.remote.webelement.WebElement (session=\"cd99c67c759fd5a26bde965166170d7a\", element=\"7f2e42a2-0ea8-4a57-9f70-b9a35dbe07ff\")>,\n",
       " <selenium.webdriver.remote.webelement.WebElement (session=\"cd99c67c759fd5a26bde965166170d7a\", element=\"5f47de3f-f89d-4dd1-ae50-7c90d5155cc3\")>]"
      ]
     },
     "execution_count": 102,
     "metadata": {},
     "output_type": "execute_result"
    }
   ],
   "source": [
    "elems"
   ]
  },
  {
   "cell_type": "code",
   "execution_count": null,
   "metadata": {},
   "outputs": [],
   "source": [
    "[0, my_grade)"
   ]
  },
  {
   "cell_type": "code",
   "execution_count": 107,
   "metadata": {
    "ExecuteTime": {
     "end_time": "2020-03-25T00:01:20.821147Z",
     "start_time": "2020-03-25T00:01:20.816133Z"
    }
   },
   "outputs": [
    {
     "name": "stdout",
     "output_type": "stream",
     "text": [
      "0\n",
      "1\n",
      "2\n",
      "3\n",
      "4\n",
      "5\n",
      "6\n",
      "7\n",
      "8\n",
      "9\n"
     ]
    }
   ],
   "source": [
    "for i in range(my_grade + 1):\n",
    "    print(i)"
   ]
  },
  {
   "cell_type": "code",
   "execution_count": 106,
   "metadata": {
    "ExecuteTime": {
     "end_time": "2020-03-25T00:01:06.955338Z",
     "start_time": "2020-03-25T00:01:06.560837Z"
    }
   },
   "outputs": [],
   "source": [
    "my_grade = 9\n",
    "for i in range(my_grade + 1):\n",
    "    elems[i].click()"
   ]
  },
  {
   "cell_type": "code",
   "execution_count": 108,
   "metadata": {
    "ExecuteTime": {
     "end_time": "2020-03-25T00:02:10.176692Z",
     "start_time": "2020-03-25T00:02:10.164723Z"
    }
   },
   "outputs": [],
   "source": [
    "elem = driver.find_element_by_class_name('appsMaterialWizButtonPaperbuttonLabel')"
   ]
  },
  {
   "cell_type": "code",
   "execution_count": 109,
   "metadata": {
    "ExecuteTime": {
     "end_time": "2020-03-25T00:02:12.180397Z",
     "start_time": "2020-03-25T00:02:11.525954Z"
    }
   },
   "outputs": [],
   "source": [
    "elem.click()"
   ]
  },
  {
   "cell_type": "code",
   "execution_count": 110,
   "metadata": {
    "ExecuteTime": {
     "end_time": "2020-03-25T00:02:57.590904Z",
     "start_time": "2020-03-25T00:02:57.579933Z"
    }
   },
   "outputs": [],
   "source": [
    "def answer_form(name, age, grade):\n",
    "    # access the form\n",
    "    form = 'https://forms.gle/xXLiESYZWkgV2Yuf7'\n",
    "    driver = webdriver.Chrome(executable_path='/Users/andreaguiar/Desktop/selenium/chromedriver')\n",
    "    driver.get(form)\n",
    "    \n",
    "    # write the person's name\n",
    "    elem = driver.find_element_by_class_name('quantumWizTextinputPaperinputInput')\n",
    "    elem.send_keys(name)\n",
    "    \n",
    "    # select your age based on the range you've chosen\n",
    "    elems = driver.find_elements_by_class_name('freebirdFormviewerViewItemsRadioLabel')\n",
    "    for elem in elems:\n",
    "        if f'< {age}' in elem.text:\n",
    "            print(elem.text)\n",
    "            elem.click()\n",
    "        \n",
    "    # give the grade by clicking the n-th radio button\n",
    "    elems = driver.find_elements_by_class_name('freebirdMaterialScalecontentLabel')\n",
    "    if grade not in range(11):\n",
    "        raise ValueError('Grade not within correct range')\n",
    "        \n",
    "        \n",
    "    my_grade = grade\n",
    "    for i in range(my_grade + 1):\n",
    "        elems[i].click()\n",
    "        \n",
    "    # click 'send button'\n",
    "    elem = driver.find_element_by_class_name('appsMaterialWizButtonPaperbuttonLabel')\n",
    "    elem.click()"
   ]
  },
  {
   "cell_type": "code",
   "execution_count": 111,
   "metadata": {
    "ExecuteTime": {
     "end_time": "2020-03-25T00:03:13.312387Z",
     "start_time": "2020-03-25T00:03:09.060936Z"
    }
   },
   "outputs": [],
   "source": [
    "answer_form('Fernanda', '<20', 8)"
   ]
  },
  {
   "cell_type": "code",
   "execution_count": null,
   "metadata": {},
   "outputs": [],
   "source": []
  },
  {
   "cell_type": "code",
   "execution_count": null,
   "metadata": {},
   "outputs": [],
   "source": []
  },
  {
   "cell_type": "markdown",
   "metadata": {},
   "source": [
    "# CS GO"
   ]
  },
  {
   "cell_type": "code",
   "execution_count": 116,
   "metadata": {
    "ExecuteTime": {
     "end_time": "2020-03-25T00:05:38.222672Z",
     "start_time": "2020-03-25T00:05:34.070781Z"
    }
   },
   "outputs": [],
   "source": [
    "driver = webdriver.Chrome(executable_path='/Users/andreaguiar/Desktop/selenium/chromedriver')\n",
    "driver.get('https://www.hltv.org/results?offset=100')"
   ]
  },
  {
   "cell_type": "code",
   "execution_count": 117,
   "metadata": {
    "ExecuteTime": {
     "end_time": "2020-03-25T00:05:38.247605Z",
     "start_time": "2020-03-25T00:05:38.224666Z"
    }
   },
   "outputs": [],
   "source": [
    "elems = driver.find_elements_by_class_name('result-con')"
   ]
  },
  {
   "cell_type": "code",
   "execution_count": 118,
   "metadata": {
    "ExecuteTime": {
     "end_time": "2020-03-25T00:05:38.253589Z",
     "start_time": "2020-03-25T00:05:38.248601Z"
    }
   },
   "outputs": [
    {
     "data": {
      "text/plain": [
       "100"
      ]
     },
     "execution_count": 118,
     "metadata": {},
     "output_type": "execute_result"
    }
   ],
   "source": [
    "len(elems)"
   ]
  },
  {
   "cell_type": "code",
   "execution_count": null,
   "metadata": {},
   "outputs": [],
   "source": []
  },
  {
   "cell_type": "code",
   "execution_count": 119,
   "metadata": {
    "ExecuteTime": {
     "end_time": "2020-03-25T00:05:45.548829Z",
     "start_time": "2020-03-25T00:05:38.254585Z"
    }
   },
   "outputs": [],
   "source": [
    "team_a = [elem.find_elements_by_class_name('team-cell')[0].text for elem in elems]\n",
    "team_b = [elem.find_elements_by_class_name('team-cell')[1].text for elem in elems]\n",
    "score_a = [elem.find_elements_by_tag_name('span')[0].text for elem in elems]\n",
    "score_b = [elem.find_elements_by_tag_name('span')[1].text for elem in elems]"
   ]
  },
  {
   "cell_type": "code",
   "execution_count": 120,
   "metadata": {
    "ExecuteTime": {
     "end_time": "2020-03-25T00:05:45.553843Z",
     "start_time": "2020-03-25T00:05:45.550824Z"
    }
   },
   "outputs": [],
   "source": [
    "df = pd.DataFrame(data={'team_a': team_a, 'score_a': score_a, 'score_b': score_b, 'team_b': team_b})"
   ]
  },
  {
   "cell_type": "code",
   "execution_count": 121,
   "metadata": {
    "ExecuteTime": {
     "end_time": "2020-03-25T00:05:49.582995Z",
     "start_time": "2020-03-25T00:05:45.555811Z"
    },
    "scrolled": true
   },
   "outputs": [
    {
     "data": {
      "text/html": [
       "<div>\n",
       "<style scoped>\n",
       "    .dataframe tbody tr th:only-of-type {\n",
       "        vertical-align: middle;\n",
       "    }\n",
       "\n",
       "    .dataframe tbody tr th {\n",
       "        vertical-align: top;\n",
       "    }\n",
       "\n",
       "    .dataframe thead th {\n",
       "        text-align: right;\n",
       "    }\n",
       "</style>\n",
       "<table border=\"1\" class=\"dataframe\">\n",
       "  <thead>\n",
       "    <tr style=\"text-align: right;\">\n",
       "      <th></th>\n",
       "      <th>team_a</th>\n",
       "      <th>score_a</th>\n",
       "      <th>score_b</th>\n",
       "      <th>team_b</th>\n",
       "    </tr>\n",
       "  </thead>\n",
       "  <tbody>\n",
       "    <tr>\n",
       "      <th>0</th>\n",
       "      <td>Astralis</td>\n",
       "      <td>2</td>\n",
       "      <td>0</td>\n",
       "      <td>GODSENT</td>\n",
       "    </tr>\n",
       "    <tr>\n",
       "      <th>1</th>\n",
       "      <td>NiP</td>\n",
       "      <td>2</td>\n",
       "      <td>0</td>\n",
       "      <td>Spirit</td>\n",
       "    </tr>\n",
       "    <tr>\n",
       "      <th>2</th>\n",
       "      <td>Chiefs</td>\n",
       "      <td>2</td>\n",
       "      <td>0</td>\n",
       "      <td>I sleep</td>\n",
       "    </tr>\n",
       "    <tr>\n",
       "      <th>3</th>\n",
       "      <td>Ground Zero</td>\n",
       "      <td>2</td>\n",
       "      <td>0</td>\n",
       "      <td>Eimi Fukada FC</td>\n",
       "    </tr>\n",
       "    <tr>\n",
       "      <th>4</th>\n",
       "      <td>District 7</td>\n",
       "      <td>1</td>\n",
       "      <td>2</td>\n",
       "      <td>Alcoholics Anonymous</td>\n",
       "    </tr>\n",
       "    <tr>\n",
       "      <th>...</th>\n",
       "      <td>...</td>\n",
       "      <td>...</td>\n",
       "      <td>...</td>\n",
       "      <td>...</td>\n",
       "    </tr>\n",
       "    <tr>\n",
       "      <th>95</th>\n",
       "      <td>Triumph</td>\n",
       "      <td>16</td>\n",
       "      <td>7</td>\n",
       "      <td>In The Lab</td>\n",
       "    </tr>\n",
       "    <tr>\n",
       "      <th>96</th>\n",
       "      <td>Bad News Bears</td>\n",
       "      <td>16</td>\n",
       "      <td>4</td>\n",
       "      <td>Oceanus</td>\n",
       "    </tr>\n",
       "    <tr>\n",
       "      <th>97</th>\n",
       "      <td>Under 21</td>\n",
       "      <td>22</td>\n",
       "      <td>19</td>\n",
       "      <td>Mythic</td>\n",
       "    </tr>\n",
       "    <tr>\n",
       "      <th>98</th>\n",
       "      <td>Divine</td>\n",
       "      <td>13</td>\n",
       "      <td>16</td>\n",
       "      <td>Station7</td>\n",
       "    </tr>\n",
       "    <tr>\n",
       "      <th>99</th>\n",
       "      <td>Chaos</td>\n",
       "      <td>16</td>\n",
       "      <td>10</td>\n",
       "      <td>New England Whalers</td>\n",
       "    </tr>\n",
       "  </tbody>\n",
       "</table>\n",
       "<p>100 rows × 4 columns</p>\n",
       "</div>"
      ],
      "text/plain": [
       "            team_a score_a score_b                team_b\n",
       "0         Astralis       2       0               GODSENT\n",
       "1              NiP       2       0                Spirit\n",
       "2           Chiefs       2       0               I sleep\n",
       "3      Ground Zero       2       0        Eimi Fukada FC\n",
       "4       District 7       1       2  Alcoholics Anonymous\n",
       "..             ...     ...     ...                   ...\n",
       "95         Triumph      16       7            In The Lab\n",
       "96  Bad News Bears      16       4               Oceanus\n",
       "97        Under 21      22      19                Mythic\n",
       "98          Divine      13      16              Station7\n",
       "99           Chaos      16      10   New England Whalers\n",
       "\n",
       "[100 rows x 4 columns]"
      ]
     },
     "execution_count": 121,
     "metadata": {},
     "output_type": "execute_result"
    }
   ],
   "source": [
    "df"
   ]
  },
  {
   "cell_type": "code",
   "execution_count": 122,
   "metadata": {
    "ExecuteTime": {
     "end_time": "2020-03-25T00:05:49.596958Z",
     "start_time": "2020-03-25T00:05:49.583992Z"
    }
   },
   "outputs": [],
   "source": [
    "elem = driver.find_element_by_class_name('pagination-next')"
   ]
  },
  {
   "cell_type": "code",
   "execution_count": 123,
   "metadata": {
    "ExecuteTime": {
     "end_time": "2020-03-25T00:07:09.288110Z",
     "start_time": "2020-03-25T00:06:45.553380Z"
    }
   },
   "outputs": [],
   "source": [
    "while '1500' not in driver.find_element_by_xpath('/html/body/div[2]/div/div[2]/div[1]/div/div[1]/span').text:\n",
    "    elem = driver.find_element_by_xpath('/html/body/div[2]/div/div[2]/div[1]/div/div[1]/a[2]')\n",
    "    elem.click()"
   ]
  },
  {
   "cell_type": "code",
   "execution_count": null,
   "metadata": {},
   "outputs": [],
   "source": []
  },
  {
   "cell_type": "code",
   "execution_count": null,
   "metadata": {},
   "outputs": [],
   "source": []
  },
  {
   "cell_type": "code",
   "execution_count": 129,
   "metadata": {
    "ExecuteTime": {
     "end_time": "2020-03-25T00:09:37.893915Z",
     "start_time": "2020-03-25T00:09:36.356010Z"
    },
    "scrolled": true
   },
   "outputs": [
    {
     "data": {
      "text/html": [
       "<div>\n",
       "<style scoped>\n",
       "    .dataframe tbody tr th:only-of-type {\n",
       "        vertical-align: middle;\n",
       "    }\n",
       "\n",
       "    .dataframe tbody tr th {\n",
       "        vertical-align: top;\n",
       "    }\n",
       "\n",
       "    .dataframe thead th {\n",
       "        text-align: right;\n",
       "    }\n",
       "</style>\n",
       "<table border=\"1\" class=\"dataframe\">\n",
       "  <thead>\n",
       "    <tr style=\"text-align: right;\">\n",
       "      <th></th>\n",
       "      <th>Code</th>\n",
       "      <th>Meaning</th>\n",
       "    </tr>\n",
       "  </thead>\n",
       "  <tbody>\n",
       "    <tr>\n",
       "      <th>0</th>\n",
       "      <td>APNE</td>\n",
       "      <td>No request for review or appeal has been lodged</td>\n",
       "    </tr>\n",
       "    <tr>\n",
       "      <th>1</th>\n",
       "      <td>APNL</td>\n",
       "      <td>A request for review or an appeal has been lodged</td>\n",
       "    </tr>\n",
       "    <tr>\n",
       "      <th>2</th>\n",
       "      <td>APNW</td>\n",
       "      <td>Withdrawal of request for review or appeal</td>\n",
       "    </tr>\n",
       "    <tr>\n",
       "      <th>3</th>\n",
       "      <td>CBNP</td>\n",
       "      <td>Cancellation effected for some of the goods an...</td>\n",
       "    </tr>\n",
       "    <tr>\n",
       "      <th>4</th>\n",
       "      <td>CBNT</td>\n",
       "      <td>Cancellation effected for all the goods and se...</td>\n",
       "    </tr>\n",
       "    <tr>\n",
       "      <th>...</th>\n",
       "      <td>...</td>\n",
       "      <td>...</td>\n",
       "    </tr>\n",
       "    <tr>\n",
       "      <th>56</th>\n",
       "      <td>SEN</td>\n",
       "      <td>Balances of fees</td>\n",
       "    </tr>\n",
       "    <tr>\n",
       "      <th>57</th>\n",
       "      <td>SNNA</td>\n",
       "      <td>Seniority Claimed Subsequent to the Internatio...</td>\n",
       "    </tr>\n",
       "    <tr>\n",
       "      <th>58</th>\n",
       "      <td>SNNR</td>\n",
       "      <td>Final refusal of seniority claim</td>\n",
       "    </tr>\n",
       "    <tr>\n",
       "      <th>59</th>\n",
       "      <td>UFINO</td>\n",
       "      <td>Other final decision - Awaiting translation be...</td>\n",
       "    </tr>\n",
       "    <tr>\n",
       "      <th>60</th>\n",
       "      <td>URFNP</td>\n",
       "      <td>Partial provisional refusal of protection - Aw...</td>\n",
       "    </tr>\n",
       "  </tbody>\n",
       "</table>\n",
       "<p>61 rows × 2 columns</p>\n",
       "</div>"
      ],
      "text/plain": [
       "     Code                                            Meaning\n",
       "0    APNE    No request for review or appeal has been lodged\n",
       "1    APNL  A request for review or an appeal has been lodged\n",
       "2    APNW         Withdrawal of request for review or appeal\n",
       "3    CBNP  Cancellation effected for some of the goods an...\n",
       "4    CBNT  Cancellation effected for all the goods and se...\n",
       "..    ...                                                ...\n",
       "56    SEN                                   Balances of fees\n",
       "57   SNNA  Seniority Claimed Subsequent to the Internatio...\n",
       "58   SNNR                   Final refusal of seniority claim\n",
       "59  UFINO  Other final decision - Awaiting translation be...\n",
       "60  URFNP  Partial provisional refusal of protection - Aw...\n",
       "\n",
       "[61 rows x 2 columns]"
      ]
     },
     "execution_count": 129,
     "metadata": {},
     "output_type": "execute_result"
    }
   ],
   "source": [
    "pd.read_html('https://www3.wipo.int/madrid/monitor/en/?q=%7B%22searches%22:[%7B%22te%22:%22(*)%22,%22fi%22:%22*%22,%22co%22:%22AND%22%7D],%22mode%22:%22advanced%22%7D')[1]"
   ]
  },
  {
   "cell_type": "code",
   "execution_count": 131,
   "metadata": {
    "ExecuteTime": {
     "end_time": "2020-03-25T00:12:44.308017Z",
     "start_time": "2020-03-25T00:12:27.957274Z"
    }
   },
   "outputs": [
    {
     "data": {
      "text/plain": [
       "[                                   0   1\n",
       " 0  International Registration Number NaN\n",
       " 1                     WIPO reference NaN\n",
       " 2                   Office reference NaN\n",
       " 3                Applicant reference NaN\n",
       " 4                  Basic application NaN\n",
       " 5                 Basic registration NaN\n",
       " 6                          Mark name NaN\n",
       " 7                                NaN NaN\n",
       " 8                                NaN NaN,                  0\n",
       " 0  Drop image here,                  0\n",
       " 0  Drop image here, Empty DataFrame\n",
       " Columns: [Unnamed: 0, Trademark, Image, Status, Origin, Holder, Reg. No, Reg. Date, Nice Cl., Vienna Cl.]\n",
       " Index: [],                    0                              1   2       3    4  \\\n",
       " 0                NaN                            NaN NaN     NaN  NaN   \n",
       " 1   Mark ROM.1523816                  KYLIE MINOGUE NaN  Active   AU   \n",
       " 2   Mark ROM.1523780                              K NaN  Active   AU   \n",
       " 3   Mark ROM.1523768                  KYLIE MINOGUE NaN  Active   AU   \n",
       " 4   Mark ROM.1523748             No Verbal Elements NaN  Active   CN   \n",
       " 5   Mark ROM.1523743                        lardmee NaN  Active   CN   \n",
       " 6   Mark ROM.1523738                         Floral NaN  Active   CN   \n",
       " 7   Mark ROM.1523735         Millionairess Magazine NaN  Active   AU   \n",
       " 8   Mark ROM.1522858                   Baby Handing NaN  Active   CN   \n",
       " 9   Mark ROM.1522848                     Super Star NaN  Active   CN   \n",
       " 10  Mark ROM.1522847                 JIANG HAI YUAN NaN  Active   CN   \n",
       " 11  Mark ROM.1523525                HANDS OFF STEEL NaN  Active   AU   \n",
       " 12  Mark ROM.1522844                G&S VETUS PURUM NaN  Active   AU   \n",
       " 13  Mark ROM.1523844                    activ-graft NaN  Active   AU   \n",
       " 14  Mark ROM.1523758                            T&H NaN  Active   GB   \n",
       " 15  Mark ROM.1523734                    Victory For NaN  Active   KR   \n",
       " 16  Mark ROM.1523533             No Verbal Elements NaN  Active   AU   \n",
       " 17  Mark ROM.1522843                     TestoUltra NaN  Active   CN   \n",
       " 18  Mark ROM.1522841                    AI Learnpad NaN  Active   CN   \n",
       " 19  Mark ROM.1522840                     KETO BOOST NaN  Active   CN   \n",
       " 20  Mark ROM.1523672                             MF NaN  Active   AU   \n",
       " 21  Mark ROM.1522845                           Rise NaN  Active   GB   \n",
       " 22  Mark ROM.1522838              BALLISTIC BEER Co NaN  Active   AU   \n",
       " 23  Mark ROM.1523742                 R8GZ AUSTRALIA NaN  Active   AU   \n",
       " 24  Mark ROM.1523580                  TALOS ARCTICA NaN  Active   US   \n",
       " 25  Mark ROM.1523520                        PLENITY NaN  Active   US   \n",
       " 26  Mark ROM.1523048  NO PIGMENT VIRTUAL FOUNDATION NaN  Active   US   \n",
       " 27  Mark ROM.1523005                            SS8 NaN  Active   US   \n",
       " 28  Mark ROM.1523004                     SCENT BOMB NaN  Active   US   \n",
       " 29  Mark ROM.1522973                          INLET NaN  Active   US   \n",
       " 30  Mark ROM.1522941                   BABY BOUQUET NaN  Active   US   \n",
       " \n",
       "                                                     5          6           7  \\\n",
       " 0                                                 NaN        NaN         NaN   \n",
       " 1                                         KDB Pty Ltd  1523816.0  2020-03-12   \n",
       " 2                                         KDB Pty Ltd  1523780.0  2020-03-12   \n",
       " 3                                         KDB Pty Ltd  1523768.0  2020-03-12   \n",
       " 4        Anhui Yanda Intelligent Technology Co., Ltd.  1523748.0  2020-03-12   \n",
       " 5     GUANGDONG LARDMEE CHEMICAL FERTILIZER CO., LTD.  1523743.0  2020-03-12   \n",
       " 6                     Guangdong Wanan Paper Co., Ltd.  1523738.0  2020-03-12   \n",
       " 7                      Millionairess Magazine Pty Ltd  1523735.0  2020-03-12   \n",
       " 8          Xiamen Olivee Daily Use Chemical CO., Ltd.  1522858.0  2020-03-11   \n",
       " 9   Jinan Jinshengxing Machinery Manufacture Co., Ltd  1522848.0  2020-03-11   \n",
       " 10  Shandong Jianghaiyuan Water Purification Mater...  1522847.0  2020-03-11   \n",
       " 11                             SMS Operations Pty Ltd  1523525.0  2020-03-10   \n",
       " 12                   Pernod Ricard Winemakers Pty Ltd  1522844.0  2020-03-10   \n",
       " 13       Global Surgical Innovations Holdings Pty Ltd  1523844.0  2020-03-09   \n",
       " 14                            Thames & Hudson Limited  1523758.0  2020-03-09   \n",
       " 15                                NAT GAMES Co., Ltd.  1523734.0  2020-03-09   \n",
       " 16              Leatherwood Bespoke Rosin Pty Limited  1523533.0  2020-03-09   \n",
       " 17          Hunan Idvert Network Technology Co., Ltd.  1522843.0  2020-03-09   \n",
       " 18    Sapphire glacier education Technology Co., Ltd.  1522841.0  2020-03-09   \n",
       " 19          Hunan Idvert Network Technology Co., Ltd.  1522840.0  2020-03-09   \n",
       " 20                              MF SOFTBOARDS PTY LTD  1523672.0  2020-03-07   \n",
       " 21                          Ultramax Products Limited  1522845.0  2020-03-07   \n",
       " 22                     Ballistic Beer Company Pty Ltd  1522838.0  2020-03-07   \n",
       " 23               Globe International Nominees Pty Ltd  1523742.0  2020-03-06   \n",
       " 24                                        FEI Company  1523580.0  2020-03-06   \n",
       " 25                                      Gelesis, Inc.  1523520.0  2020-03-06   \n",
       " 26                                        Becca, Inc.  1523048.0  2020-03-06   \n",
       " 27                                    PHD Fitness LLC  1523005.0  2020-03-06   \n",
       " 28                                         Careco LLC  1523004.0  2020-03-06   \n",
       " 29                                    Oru Kayak, Inc.  1522973.0  2020-03-06   \n",
       " 30                        CLINIQUE LABORATORIES, LLC.  1522941.0  2020-03-06   \n",
       " \n",
       "                 8                                  9  \n",
       " 0             NaN                                NaN  \n",
       " 1               9                                NaN  \n",
       " 2               9                       01.01, 27.05  \n",
       " 3               9                       01.01, 27.05  \n",
       " 4   9, 10, 12, 42                              04.03  \n",
       " 5               1                01.05, 27.03, 27.05  \n",
       " 6              16                05.05, 27.03, 27.05  \n",
       " 7              41                                NaN  \n",
       " 8               3                26.11, 27.01, 27.05  \n",
       " 9               7                                NaN  \n",
       " 10              1  26.01, 26.11, 26.13, 27.05, 28.03  \n",
       " 11              6                                NaN  \n",
       " 12             33                24.01, 24.09, 27.05  \n",
       " 13          5, 10                              27.05  \n",
       " 14      9, 16, 41                03.09, 24.17, 26.01  \n",
       " 15          9, 41                                NaN  \n",
       " 16      2, 15, 35                       03.06, 05.01  \n",
       " 17              5                                NaN  \n",
       " 18          9, 41                                NaN  \n",
       " 19              5                              27.05  \n",
       " 20             28                       26.04, 27.05  \n",
       " 21              5                                NaN  \n",
       " 22             32                19.01, 23.03, 27.05  \n",
       " 23             25                                NaN  \n",
       " 24              9                                NaN  \n",
       " 25              5                                NaN  \n",
       " 26              3                                NaN  \n",
       " 27              5                                NaN  \n",
       " 28           3, 5                                NaN  \n",
       " 29             12                                NaN  \n",
       " 30              3                                NaN  ,      Code                                            Meaning\n",
       " 0    APNE    No request for review or appeal has been lodged\n",
       " 1    APNL  A request for review or an appeal has been lodged\n",
       " 2    APNW         Withdrawal of request for review or appeal\n",
       " 3    CBNP  Cancellation effected for some of the goods an...\n",
       " 4    CBNT  Cancellation effected for all the goods and se...\n",
       " ..    ...                                                ...\n",
       " 56    SEN                                   Balances of fees\n",
       " 57   SNNA  Seniority Claimed Subsequent to the Internatio...\n",
       " 58   SNNR                   Final refusal of seniority claim\n",
       " 59  UFINO  Other final decision - Awaiting translation be...\n",
       " 60  URFNP  Partial provisional refusal of protection - Aw...\n",
       " \n",
       " [61 rows x 2 columns],                                            Link Type  \\\n",
       " 0           Direct link to registration using an IRN   \n",
       " 1  Direct link to registration using a basic regi...   \n",
       " 2  Direct link to registration using a basic appl...   \n",
       " 3       Direct link to documents by reference number   \n",
       " \n",
       "                                           Old Format  \\\n",
       " 0  http://www.wipo.int/romarin/searchAccess.xhtml...   \n",
       " 1  http://www.wipo.int/romarin/searchAccess.xhtml...   \n",
       " 2  http://www.wipo.int/romarin/searchAccess.xhtml...   \n",
       " 3  http://www.wipo.int/romarin/documentAccess?doc...   \n",
       " \n",
       "                                           New Format  \n",
       " 0  https://www3.wipo.int/madrid/monitor/en/showDa...  \n",
       " 1  https://www3.wipo.int/madrid/monitor/en/showDa...  \n",
       " 2  https://www3.wipo.int/madrid/monitor/en/showDa...  \n",
       " 3  https://www.wipo.int/documentaccess/documentAc...  , Empty DataFrame\n",
       " Columns: [Description, Code, Example]\n",
       " Index: [],    Su  Mo  Tu    We    Th    Fr    Sa\n",
       " 0   1   2   3   4.0   5.0   6.0   7.0\n",
       " 1   8   9  10  11.0  12.0  13.0  14.0\n",
       " 2  15  16  17  18.0  19.0  20.0  21.0\n",
       " 3  22  23  24  25.0  26.0  27.0  28.0\n",
       " 4  29  30  31   NaN   NaN   NaN   NaN,    Su  Mo  Tu    We    Th    Fr    Sa\n",
       " 0   1   2   3   4.0   5.0   6.0   7.0\n",
       " 1   8   9  10  11.0  12.0  13.0  14.0\n",
       " 2  15  16  17  18.0  19.0  20.0  21.0\n",
       " 3  22  23  24  25.0  26.0  27.0  28.0\n",
       " 4  29  30  31   NaN   NaN   NaN   NaN,    Su  Mo  Tu    We    Th    Fr    Sa\n",
       " 0   1   2   3   4.0   5.0   6.0   7.0\n",
       " 1   8   9  10  11.0  12.0  13.0  14.0\n",
       " 2  15  16  17  18.0  19.0  20.0  21.0\n",
       " 3  22  23  24  25.0  26.0  27.0  28.0\n",
       " 4  29  30  31   NaN   NaN   NaN   NaN,    Su  Mo  Tu    We    Th    Fr    Sa\n",
       " 0   1   2   3   4.0   5.0   6.0   7.0\n",
       " 1   8   9  10  11.0  12.0  13.0  14.0\n",
       " 2  15  16  17  18.0  19.0  20.0  21.0\n",
       " 3  22  23  24  25.0  26.0  27.0  28.0\n",
       " 4  29  30  31   NaN   NaN   NaN   NaN,    Su  Mo  Tu    We    Th    Fr    Sa\n",
       " 0   1   2   3   4.0   5.0   6.0   7.0\n",
       " 1   8   9  10  11.0  12.0  13.0  14.0\n",
       " 2  15  16  17  18.0  19.0  20.0  21.0\n",
       " 3  22  23  24  25.0  26.0  27.0  28.0\n",
       " 4  29  30  31   NaN   NaN   NaN   NaN,    Su  Mo  Tu    We    Th    Fr    Sa\n",
       " 0   1   2   3   4.0   5.0   6.0   7.0\n",
       " 1   8   9  10  11.0  12.0  13.0  14.0\n",
       " 2  15  16  17  18.0  19.0  20.0  21.0\n",
       " 3  22  23  24  25.0  26.0  27.0  28.0\n",
       " 4  29  30  31   NaN   NaN   NaN   NaN,    Su  Mo  Tu    We    Th    Fr    Sa\n",
       " 0   1   2   3   4.0   5.0   6.0   7.0\n",
       " 1   8   9  10  11.0  12.0  13.0  14.0\n",
       " 2  15  16  17  18.0  19.0  20.0  21.0\n",
       " 3  22  23  24  25.0  26.0  27.0  28.0\n",
       " 4  29  30  31   NaN   NaN   NaN   NaN,    Su  Mo  Tu    We    Th    Fr    Sa\n",
       " 0   1   2   3   4.0   5.0   6.0   7.0\n",
       " 1   8   9  10  11.0  12.0  13.0  14.0\n",
       " 2  15  16  17  18.0  19.0  20.0  21.0\n",
       " 3  22  23  24  25.0  26.0  27.0  28.0\n",
       " 4  29  30  31   NaN   NaN   NaN   NaN,    Su  Mo  Tu    We    Th    Fr    Sa\n",
       " 0   1   2   3   4.0   5.0   6.0   7.0\n",
       " 1   8   9  10  11.0  12.0  13.0  14.0\n",
       " 2  15  16  17  18.0  19.0  20.0  21.0\n",
       " 3  22  23  24  25.0  26.0  27.0  28.0\n",
       " 4  29  30  31   NaN   NaN   NaN   NaN,    Su  Mo  Tu    We    Th    Fr    Sa\n",
       " 0   1   2   3   4.0   5.0   6.0   7.0\n",
       " 1   8   9  10  11.0  12.0  13.0  14.0\n",
       " 2  15  16  17  18.0  19.0  20.0  21.0\n",
       " 3  22  23  24  25.0  26.0  27.0  28.0\n",
       " 4  29  30  31   NaN   NaN   NaN   NaN,    Su  Mo  Tu    We    Th    Fr    Sa\n",
       " 0   1   2   3   4.0   5.0   6.0   7.0\n",
       " 1   8   9  10  11.0  12.0  13.0  14.0\n",
       " 2  15  16  17  18.0  19.0  20.0  21.0\n",
       " 3  22  23  24  25.0  26.0  27.0  28.0\n",
       " 4  29  30  31   NaN   NaN   NaN   NaN,    Su  Mo  Tu    We    Th    Fr    Sa\n",
       " 0   1   2   3   4.0   5.0   6.0   7.0\n",
       " 1   8   9  10  11.0  12.0  13.0  14.0\n",
       " 2  15  16  17  18.0  19.0  20.0  21.0\n",
       " 3  22  23  24  25.0  26.0  27.0  28.0\n",
       " 4  29  30  31   NaN   NaN   NaN   NaN,    Su  Mo  Tu    We    Th    Fr    Sa\n",
       " 0   1   2   3   4.0   5.0   6.0   7.0\n",
       " 1   8   9  10  11.0  12.0  13.0  14.0\n",
       " 2  15  16  17  18.0  19.0  20.0  21.0\n",
       " 3  22  23  24  25.0  26.0  27.0  28.0\n",
       " 4  29  30  31   NaN   NaN   NaN   NaN,    Su  Mo  Tu    We    Th    Fr    Sa\n",
       " 0   1   2   3   4.0   5.0   6.0   7.0\n",
       " 1   8   9  10  11.0  12.0  13.0  14.0\n",
       " 2  15  16  17  18.0  19.0  20.0  21.0\n",
       " 3  22  23  24  25.0  26.0  27.0  28.0\n",
       " 4  29  30  31   NaN   NaN   NaN   NaN]"
      ]
     },
     "execution_count": 131,
     "metadata": {},
     "output_type": "execute_result"
    }
   ],
   "source": [
    "import pandas as pd\n",
    "from selenium import webdriver\n",
    "\n",
    "# open the chrome browser\n",
    "driver = webdriver.Chrome(executable_path='/Users/andreaguiar/Desktop/selenium/chromedriver')\n",
    "\n",
    "# navigate to webpage\n",
    "url = 'https://www3.wipo.int/madrid/monitor/en/?q=%7B%22searches%22:[%7B%22te%22:%22(*)%22,%22fi%22:%22*%22,%22co%22:%22AND%22%7D],%22mode%22:%22advanced%22%7D'\n",
    "driver.get(url)\n",
    "\n",
    "\n",
    "from bs4 import BeautifulSoup\n",
    "\n",
    "pd.read_html(driver.page_source)"
   ]
  },
  {
   "cell_type": "code",
   "execution_count": 132,
   "metadata": {
    "ExecuteTime": {
     "end_time": "2020-03-25T00:13:45.107172Z",
     "start_time": "2020-03-25T00:13:45.104180Z"
    }
   },
   "outputs": [],
   "source": [
    "df = Out[131]"
   ]
  },
  {
   "cell_type": "code",
   "execution_count": 138,
   "metadata": {
    "ExecuteTime": {
     "end_time": "2020-03-25T00:13:55.413191Z",
     "start_time": "2020-03-25T00:13:55.396237Z"
    },
    "scrolled": true
   },
   "outputs": [
    {
     "data": {
      "text/html": [
       "<div>\n",
       "<style scoped>\n",
       "    .dataframe tbody tr th:only-of-type {\n",
       "        vertical-align: middle;\n",
       "    }\n",
       "\n",
       "    .dataframe tbody tr th {\n",
       "        vertical-align: top;\n",
       "    }\n",
       "\n",
       "    .dataframe thead th {\n",
       "        text-align: right;\n",
       "    }\n",
       "</style>\n",
       "<table border=\"1\" class=\"dataframe\">\n",
       "  <thead>\n",
       "    <tr style=\"text-align: right;\">\n",
       "      <th></th>\n",
       "      <th>0</th>\n",
       "      <th>1</th>\n",
       "      <th>2</th>\n",
       "      <th>3</th>\n",
       "      <th>4</th>\n",
       "      <th>5</th>\n",
       "      <th>6</th>\n",
       "      <th>7</th>\n",
       "      <th>8</th>\n",
       "      <th>9</th>\n",
       "    </tr>\n",
       "  </thead>\n",
       "  <tbody>\n",
       "    <tr>\n",
       "      <th>0</th>\n",
       "      <td>NaN</td>\n",
       "      <td>NaN</td>\n",
       "      <td>NaN</td>\n",
       "      <td>NaN</td>\n",
       "      <td>NaN</td>\n",
       "      <td>NaN</td>\n",
       "      <td>NaN</td>\n",
       "      <td>NaN</td>\n",
       "      <td>NaN</td>\n",
       "      <td>NaN</td>\n",
       "    </tr>\n",
       "    <tr>\n",
       "      <th>1</th>\n",
       "      <td>Mark ROM.1523816</td>\n",
       "      <td>KYLIE MINOGUE</td>\n",
       "      <td>NaN</td>\n",
       "      <td>Active</td>\n",
       "      <td>AU</td>\n",
       "      <td>KDB Pty Ltd</td>\n",
       "      <td>1523816.0</td>\n",
       "      <td>2020-03-12</td>\n",
       "      <td>9</td>\n",
       "      <td>NaN</td>\n",
       "    </tr>\n",
       "    <tr>\n",
       "      <th>2</th>\n",
       "      <td>Mark ROM.1523780</td>\n",
       "      <td>K</td>\n",
       "      <td>NaN</td>\n",
       "      <td>Active</td>\n",
       "      <td>AU</td>\n",
       "      <td>KDB Pty Ltd</td>\n",
       "      <td>1523780.0</td>\n",
       "      <td>2020-03-12</td>\n",
       "      <td>9</td>\n",
       "      <td>01.01, 27.05</td>\n",
       "    </tr>\n",
       "    <tr>\n",
       "      <th>3</th>\n",
       "      <td>Mark ROM.1523768</td>\n",
       "      <td>KYLIE MINOGUE</td>\n",
       "      <td>NaN</td>\n",
       "      <td>Active</td>\n",
       "      <td>AU</td>\n",
       "      <td>KDB Pty Ltd</td>\n",
       "      <td>1523768.0</td>\n",
       "      <td>2020-03-12</td>\n",
       "      <td>9</td>\n",
       "      <td>01.01, 27.05</td>\n",
       "    </tr>\n",
       "    <tr>\n",
       "      <th>4</th>\n",
       "      <td>Mark ROM.1523748</td>\n",
       "      <td>No Verbal Elements</td>\n",
       "      <td>NaN</td>\n",
       "      <td>Active</td>\n",
       "      <td>CN</td>\n",
       "      <td>Anhui Yanda Intelligent Technology Co., Ltd.</td>\n",
       "      <td>1523748.0</td>\n",
       "      <td>2020-03-12</td>\n",
       "      <td>9, 10, 12, 42</td>\n",
       "      <td>04.03</td>\n",
       "    </tr>\n",
       "    <tr>\n",
       "      <th>5</th>\n",
       "      <td>Mark ROM.1523743</td>\n",
       "      <td>lardmee</td>\n",
       "      <td>NaN</td>\n",
       "      <td>Active</td>\n",
       "      <td>CN</td>\n",
       "      <td>GUANGDONG LARDMEE CHEMICAL FERTILIZER CO., LTD.</td>\n",
       "      <td>1523743.0</td>\n",
       "      <td>2020-03-12</td>\n",
       "      <td>1</td>\n",
       "      <td>01.05, 27.03, 27.05</td>\n",
       "    </tr>\n",
       "    <tr>\n",
       "      <th>6</th>\n",
       "      <td>Mark ROM.1523738</td>\n",
       "      <td>Floral</td>\n",
       "      <td>NaN</td>\n",
       "      <td>Active</td>\n",
       "      <td>CN</td>\n",
       "      <td>Guangdong Wanan Paper Co., Ltd.</td>\n",
       "      <td>1523738.0</td>\n",
       "      <td>2020-03-12</td>\n",
       "      <td>16</td>\n",
       "      <td>05.05, 27.03, 27.05</td>\n",
       "    </tr>\n",
       "    <tr>\n",
       "      <th>7</th>\n",
       "      <td>Mark ROM.1523735</td>\n",
       "      <td>Millionairess Magazine</td>\n",
       "      <td>NaN</td>\n",
       "      <td>Active</td>\n",
       "      <td>AU</td>\n",
       "      <td>Millionairess Magazine Pty Ltd</td>\n",
       "      <td>1523735.0</td>\n",
       "      <td>2020-03-12</td>\n",
       "      <td>41</td>\n",
       "      <td>NaN</td>\n",
       "    </tr>\n",
       "    <tr>\n",
       "      <th>8</th>\n",
       "      <td>Mark ROM.1522858</td>\n",
       "      <td>Baby Handing</td>\n",
       "      <td>NaN</td>\n",
       "      <td>Active</td>\n",
       "      <td>CN</td>\n",
       "      <td>Xiamen Olivee Daily Use Chemical CO., Ltd.</td>\n",
       "      <td>1522858.0</td>\n",
       "      <td>2020-03-11</td>\n",
       "      <td>3</td>\n",
       "      <td>26.11, 27.01, 27.05</td>\n",
       "    </tr>\n",
       "    <tr>\n",
       "      <th>9</th>\n",
       "      <td>Mark ROM.1522848</td>\n",
       "      <td>Super Star</td>\n",
       "      <td>NaN</td>\n",
       "      <td>Active</td>\n",
       "      <td>CN</td>\n",
       "      <td>Jinan Jinshengxing Machinery Manufacture Co., Ltd</td>\n",
       "      <td>1522848.0</td>\n",
       "      <td>2020-03-11</td>\n",
       "      <td>7</td>\n",
       "      <td>NaN</td>\n",
       "    </tr>\n",
       "    <tr>\n",
       "      <th>10</th>\n",
       "      <td>Mark ROM.1522847</td>\n",
       "      <td>JIANG HAI YUAN</td>\n",
       "      <td>NaN</td>\n",
       "      <td>Active</td>\n",
       "      <td>CN</td>\n",
       "      <td>Shandong Jianghaiyuan Water Purification Mater...</td>\n",
       "      <td>1522847.0</td>\n",
       "      <td>2020-03-11</td>\n",
       "      <td>1</td>\n",
       "      <td>26.01, 26.11, 26.13, 27.05, 28.03</td>\n",
       "    </tr>\n",
       "    <tr>\n",
       "      <th>11</th>\n",
       "      <td>Mark ROM.1523525</td>\n",
       "      <td>HANDS OFF STEEL</td>\n",
       "      <td>NaN</td>\n",
       "      <td>Active</td>\n",
       "      <td>AU</td>\n",
       "      <td>SMS Operations Pty Ltd</td>\n",
       "      <td>1523525.0</td>\n",
       "      <td>2020-03-10</td>\n",
       "      <td>6</td>\n",
       "      <td>NaN</td>\n",
       "    </tr>\n",
       "    <tr>\n",
       "      <th>12</th>\n",
       "      <td>Mark ROM.1522844</td>\n",
       "      <td>G&amp;S VETUS PURUM</td>\n",
       "      <td>NaN</td>\n",
       "      <td>Active</td>\n",
       "      <td>AU</td>\n",
       "      <td>Pernod Ricard Winemakers Pty Ltd</td>\n",
       "      <td>1522844.0</td>\n",
       "      <td>2020-03-10</td>\n",
       "      <td>33</td>\n",
       "      <td>24.01, 24.09, 27.05</td>\n",
       "    </tr>\n",
       "    <tr>\n",
       "      <th>13</th>\n",
       "      <td>Mark ROM.1523844</td>\n",
       "      <td>activ-graft</td>\n",
       "      <td>NaN</td>\n",
       "      <td>Active</td>\n",
       "      <td>AU</td>\n",
       "      <td>Global Surgical Innovations Holdings Pty Ltd</td>\n",
       "      <td>1523844.0</td>\n",
       "      <td>2020-03-09</td>\n",
       "      <td>5, 10</td>\n",
       "      <td>27.05</td>\n",
       "    </tr>\n",
       "    <tr>\n",
       "      <th>14</th>\n",
       "      <td>Mark ROM.1523758</td>\n",
       "      <td>T&amp;H</td>\n",
       "      <td>NaN</td>\n",
       "      <td>Active</td>\n",
       "      <td>GB</td>\n",
       "      <td>Thames &amp; Hudson Limited</td>\n",
       "      <td>1523758.0</td>\n",
       "      <td>2020-03-09</td>\n",
       "      <td>9, 16, 41</td>\n",
       "      <td>03.09, 24.17, 26.01</td>\n",
       "    </tr>\n",
       "    <tr>\n",
       "      <th>15</th>\n",
       "      <td>Mark ROM.1523734</td>\n",
       "      <td>Victory For</td>\n",
       "      <td>NaN</td>\n",
       "      <td>Active</td>\n",
       "      <td>KR</td>\n",
       "      <td>NAT GAMES Co., Ltd.</td>\n",
       "      <td>1523734.0</td>\n",
       "      <td>2020-03-09</td>\n",
       "      <td>9, 41</td>\n",
       "      <td>NaN</td>\n",
       "    </tr>\n",
       "    <tr>\n",
       "      <th>16</th>\n",
       "      <td>Mark ROM.1523533</td>\n",
       "      <td>No Verbal Elements</td>\n",
       "      <td>NaN</td>\n",
       "      <td>Active</td>\n",
       "      <td>AU</td>\n",
       "      <td>Leatherwood Bespoke Rosin Pty Limited</td>\n",
       "      <td>1523533.0</td>\n",
       "      <td>2020-03-09</td>\n",
       "      <td>2, 15, 35</td>\n",
       "      <td>03.06, 05.01</td>\n",
       "    </tr>\n",
       "    <tr>\n",
       "      <th>17</th>\n",
       "      <td>Mark ROM.1522843</td>\n",
       "      <td>TestoUltra</td>\n",
       "      <td>NaN</td>\n",
       "      <td>Active</td>\n",
       "      <td>CN</td>\n",
       "      <td>Hunan Idvert Network Technology Co., Ltd.</td>\n",
       "      <td>1522843.0</td>\n",
       "      <td>2020-03-09</td>\n",
       "      <td>5</td>\n",
       "      <td>NaN</td>\n",
       "    </tr>\n",
       "    <tr>\n",
       "      <th>18</th>\n",
       "      <td>Mark ROM.1522841</td>\n",
       "      <td>AI Learnpad</td>\n",
       "      <td>NaN</td>\n",
       "      <td>Active</td>\n",
       "      <td>CN</td>\n",
       "      <td>Sapphire glacier education Technology Co., Ltd.</td>\n",
       "      <td>1522841.0</td>\n",
       "      <td>2020-03-09</td>\n",
       "      <td>9, 41</td>\n",
       "      <td>NaN</td>\n",
       "    </tr>\n",
       "    <tr>\n",
       "      <th>19</th>\n",
       "      <td>Mark ROM.1522840</td>\n",
       "      <td>KETO BOOST</td>\n",
       "      <td>NaN</td>\n",
       "      <td>Active</td>\n",
       "      <td>CN</td>\n",
       "      <td>Hunan Idvert Network Technology Co., Ltd.</td>\n",
       "      <td>1522840.0</td>\n",
       "      <td>2020-03-09</td>\n",
       "      <td>5</td>\n",
       "      <td>27.05</td>\n",
       "    </tr>\n",
       "    <tr>\n",
       "      <th>20</th>\n",
       "      <td>Mark ROM.1523672</td>\n",
       "      <td>MF</td>\n",
       "      <td>NaN</td>\n",
       "      <td>Active</td>\n",
       "      <td>AU</td>\n",
       "      <td>MF SOFTBOARDS PTY LTD</td>\n",
       "      <td>1523672.0</td>\n",
       "      <td>2020-03-07</td>\n",
       "      <td>28</td>\n",
       "      <td>26.04, 27.05</td>\n",
       "    </tr>\n",
       "    <tr>\n",
       "      <th>21</th>\n",
       "      <td>Mark ROM.1522845</td>\n",
       "      <td>Rise</td>\n",
       "      <td>NaN</td>\n",
       "      <td>Active</td>\n",
       "      <td>GB</td>\n",
       "      <td>Ultramax Products Limited</td>\n",
       "      <td>1522845.0</td>\n",
       "      <td>2020-03-07</td>\n",
       "      <td>5</td>\n",
       "      <td>NaN</td>\n",
       "    </tr>\n",
       "    <tr>\n",
       "      <th>22</th>\n",
       "      <td>Mark ROM.1522838</td>\n",
       "      <td>BALLISTIC BEER Co</td>\n",
       "      <td>NaN</td>\n",
       "      <td>Active</td>\n",
       "      <td>AU</td>\n",
       "      <td>Ballistic Beer Company Pty Ltd</td>\n",
       "      <td>1522838.0</td>\n",
       "      <td>2020-03-07</td>\n",
       "      <td>32</td>\n",
       "      <td>19.01, 23.03, 27.05</td>\n",
       "    </tr>\n",
       "    <tr>\n",
       "      <th>23</th>\n",
       "      <td>Mark ROM.1523742</td>\n",
       "      <td>R8GZ AUSTRALIA</td>\n",
       "      <td>NaN</td>\n",
       "      <td>Active</td>\n",
       "      <td>AU</td>\n",
       "      <td>Globe International Nominees Pty Ltd</td>\n",
       "      <td>1523742.0</td>\n",
       "      <td>2020-03-06</td>\n",
       "      <td>25</td>\n",
       "      <td>NaN</td>\n",
       "    </tr>\n",
       "    <tr>\n",
       "      <th>24</th>\n",
       "      <td>Mark ROM.1523580</td>\n",
       "      <td>TALOS ARCTICA</td>\n",
       "      <td>NaN</td>\n",
       "      <td>Active</td>\n",
       "      <td>US</td>\n",
       "      <td>FEI Company</td>\n",
       "      <td>1523580.0</td>\n",
       "      <td>2020-03-06</td>\n",
       "      <td>9</td>\n",
       "      <td>NaN</td>\n",
       "    </tr>\n",
       "    <tr>\n",
       "      <th>25</th>\n",
       "      <td>Mark ROM.1523520</td>\n",
       "      <td>PLENITY</td>\n",
       "      <td>NaN</td>\n",
       "      <td>Active</td>\n",
       "      <td>US</td>\n",
       "      <td>Gelesis, Inc.</td>\n",
       "      <td>1523520.0</td>\n",
       "      <td>2020-03-06</td>\n",
       "      <td>5</td>\n",
       "      <td>NaN</td>\n",
       "    </tr>\n",
       "    <tr>\n",
       "      <th>26</th>\n",
       "      <td>Mark ROM.1523048</td>\n",
       "      <td>NO PIGMENT VIRTUAL FOUNDATION</td>\n",
       "      <td>NaN</td>\n",
       "      <td>Active</td>\n",
       "      <td>US</td>\n",
       "      <td>Becca, Inc.</td>\n",
       "      <td>1523048.0</td>\n",
       "      <td>2020-03-06</td>\n",
       "      <td>3</td>\n",
       "      <td>NaN</td>\n",
       "    </tr>\n",
       "    <tr>\n",
       "      <th>27</th>\n",
       "      <td>Mark ROM.1523005</td>\n",
       "      <td>SS8</td>\n",
       "      <td>NaN</td>\n",
       "      <td>Active</td>\n",
       "      <td>US</td>\n",
       "      <td>PHD Fitness LLC</td>\n",
       "      <td>1523005.0</td>\n",
       "      <td>2020-03-06</td>\n",
       "      <td>5</td>\n",
       "      <td>NaN</td>\n",
       "    </tr>\n",
       "    <tr>\n",
       "      <th>28</th>\n",
       "      <td>Mark ROM.1523004</td>\n",
       "      <td>SCENT BOMB</td>\n",
       "      <td>NaN</td>\n",
       "      <td>Active</td>\n",
       "      <td>US</td>\n",
       "      <td>Careco LLC</td>\n",
       "      <td>1523004.0</td>\n",
       "      <td>2020-03-06</td>\n",
       "      <td>3, 5</td>\n",
       "      <td>NaN</td>\n",
       "    </tr>\n",
       "    <tr>\n",
       "      <th>29</th>\n",
       "      <td>Mark ROM.1522973</td>\n",
       "      <td>INLET</td>\n",
       "      <td>NaN</td>\n",
       "      <td>Active</td>\n",
       "      <td>US</td>\n",
       "      <td>Oru Kayak, Inc.</td>\n",
       "      <td>1522973.0</td>\n",
       "      <td>2020-03-06</td>\n",
       "      <td>12</td>\n",
       "      <td>NaN</td>\n",
       "    </tr>\n",
       "    <tr>\n",
       "      <th>30</th>\n",
       "      <td>Mark ROM.1522941</td>\n",
       "      <td>BABY BOUQUET</td>\n",
       "      <td>NaN</td>\n",
       "      <td>Active</td>\n",
       "      <td>US</td>\n",
       "      <td>CLINIQUE LABORATORIES, LLC.</td>\n",
       "      <td>1522941.0</td>\n",
       "      <td>2020-03-06</td>\n",
       "      <td>3</td>\n",
       "      <td>NaN</td>\n",
       "    </tr>\n",
       "  </tbody>\n",
       "</table>\n",
       "</div>"
      ],
      "text/plain": [
       "                   0                              1   2       3    4  \\\n",
       "0                NaN                            NaN NaN     NaN  NaN   \n",
       "1   Mark ROM.1523816                  KYLIE MINOGUE NaN  Active   AU   \n",
       "2   Mark ROM.1523780                              K NaN  Active   AU   \n",
       "3   Mark ROM.1523768                  KYLIE MINOGUE NaN  Active   AU   \n",
       "4   Mark ROM.1523748             No Verbal Elements NaN  Active   CN   \n",
       "5   Mark ROM.1523743                        lardmee NaN  Active   CN   \n",
       "6   Mark ROM.1523738                         Floral NaN  Active   CN   \n",
       "7   Mark ROM.1523735         Millionairess Magazine NaN  Active   AU   \n",
       "8   Mark ROM.1522858                   Baby Handing NaN  Active   CN   \n",
       "9   Mark ROM.1522848                     Super Star NaN  Active   CN   \n",
       "10  Mark ROM.1522847                 JIANG HAI YUAN NaN  Active   CN   \n",
       "11  Mark ROM.1523525                HANDS OFF STEEL NaN  Active   AU   \n",
       "12  Mark ROM.1522844                G&S VETUS PURUM NaN  Active   AU   \n",
       "13  Mark ROM.1523844                    activ-graft NaN  Active   AU   \n",
       "14  Mark ROM.1523758                            T&H NaN  Active   GB   \n",
       "15  Mark ROM.1523734                    Victory For NaN  Active   KR   \n",
       "16  Mark ROM.1523533             No Verbal Elements NaN  Active   AU   \n",
       "17  Mark ROM.1522843                     TestoUltra NaN  Active   CN   \n",
       "18  Mark ROM.1522841                    AI Learnpad NaN  Active   CN   \n",
       "19  Mark ROM.1522840                     KETO BOOST NaN  Active   CN   \n",
       "20  Mark ROM.1523672                             MF NaN  Active   AU   \n",
       "21  Mark ROM.1522845                           Rise NaN  Active   GB   \n",
       "22  Mark ROM.1522838              BALLISTIC BEER Co NaN  Active   AU   \n",
       "23  Mark ROM.1523742                 R8GZ AUSTRALIA NaN  Active   AU   \n",
       "24  Mark ROM.1523580                  TALOS ARCTICA NaN  Active   US   \n",
       "25  Mark ROM.1523520                        PLENITY NaN  Active   US   \n",
       "26  Mark ROM.1523048  NO PIGMENT VIRTUAL FOUNDATION NaN  Active   US   \n",
       "27  Mark ROM.1523005                            SS8 NaN  Active   US   \n",
       "28  Mark ROM.1523004                     SCENT BOMB NaN  Active   US   \n",
       "29  Mark ROM.1522973                          INLET NaN  Active   US   \n",
       "30  Mark ROM.1522941                   BABY BOUQUET NaN  Active   US   \n",
       "\n",
       "                                                    5          6           7  \\\n",
       "0                                                 NaN        NaN         NaN   \n",
       "1                                         KDB Pty Ltd  1523816.0  2020-03-12   \n",
       "2                                         KDB Pty Ltd  1523780.0  2020-03-12   \n",
       "3                                         KDB Pty Ltd  1523768.0  2020-03-12   \n",
       "4        Anhui Yanda Intelligent Technology Co., Ltd.  1523748.0  2020-03-12   \n",
       "5     GUANGDONG LARDMEE CHEMICAL FERTILIZER CO., LTD.  1523743.0  2020-03-12   \n",
       "6                     Guangdong Wanan Paper Co., Ltd.  1523738.0  2020-03-12   \n",
       "7                      Millionairess Magazine Pty Ltd  1523735.0  2020-03-12   \n",
       "8          Xiamen Olivee Daily Use Chemical CO., Ltd.  1522858.0  2020-03-11   \n",
       "9   Jinan Jinshengxing Machinery Manufacture Co., Ltd  1522848.0  2020-03-11   \n",
       "10  Shandong Jianghaiyuan Water Purification Mater...  1522847.0  2020-03-11   \n",
       "11                             SMS Operations Pty Ltd  1523525.0  2020-03-10   \n",
       "12                   Pernod Ricard Winemakers Pty Ltd  1522844.0  2020-03-10   \n",
       "13       Global Surgical Innovations Holdings Pty Ltd  1523844.0  2020-03-09   \n",
       "14                            Thames & Hudson Limited  1523758.0  2020-03-09   \n",
       "15                                NAT GAMES Co., Ltd.  1523734.0  2020-03-09   \n",
       "16              Leatherwood Bespoke Rosin Pty Limited  1523533.0  2020-03-09   \n",
       "17          Hunan Idvert Network Technology Co., Ltd.  1522843.0  2020-03-09   \n",
       "18    Sapphire glacier education Technology Co., Ltd.  1522841.0  2020-03-09   \n",
       "19          Hunan Idvert Network Technology Co., Ltd.  1522840.0  2020-03-09   \n",
       "20                              MF SOFTBOARDS PTY LTD  1523672.0  2020-03-07   \n",
       "21                          Ultramax Products Limited  1522845.0  2020-03-07   \n",
       "22                     Ballistic Beer Company Pty Ltd  1522838.0  2020-03-07   \n",
       "23               Globe International Nominees Pty Ltd  1523742.0  2020-03-06   \n",
       "24                                        FEI Company  1523580.0  2020-03-06   \n",
       "25                                      Gelesis, Inc.  1523520.0  2020-03-06   \n",
       "26                                        Becca, Inc.  1523048.0  2020-03-06   \n",
       "27                                    PHD Fitness LLC  1523005.0  2020-03-06   \n",
       "28                                         Careco LLC  1523004.0  2020-03-06   \n",
       "29                                    Oru Kayak, Inc.  1522973.0  2020-03-06   \n",
       "30                        CLINIQUE LABORATORIES, LLC.  1522941.0  2020-03-06   \n",
       "\n",
       "                8                                  9  \n",
       "0             NaN                                NaN  \n",
       "1               9                                NaN  \n",
       "2               9                       01.01, 27.05  \n",
       "3               9                       01.01, 27.05  \n",
       "4   9, 10, 12, 42                              04.03  \n",
       "5               1                01.05, 27.03, 27.05  \n",
       "6              16                05.05, 27.03, 27.05  \n",
       "7              41                                NaN  \n",
       "8               3                26.11, 27.01, 27.05  \n",
       "9               7                                NaN  \n",
       "10              1  26.01, 26.11, 26.13, 27.05, 28.03  \n",
       "11              6                                NaN  \n",
       "12             33                24.01, 24.09, 27.05  \n",
       "13          5, 10                              27.05  \n",
       "14      9, 16, 41                03.09, 24.17, 26.01  \n",
       "15          9, 41                                NaN  \n",
       "16      2, 15, 35                       03.06, 05.01  \n",
       "17              5                                NaN  \n",
       "18          9, 41                                NaN  \n",
       "19              5                              27.05  \n",
       "20             28                       26.04, 27.05  \n",
       "21              5                                NaN  \n",
       "22             32                19.01, 23.03, 27.05  \n",
       "23             25                                NaN  \n",
       "24              9                                NaN  \n",
       "25              5                                NaN  \n",
       "26              3                                NaN  \n",
       "27              5                                NaN  \n",
       "28           3, 5                                NaN  \n",
       "29             12                                NaN  \n",
       "30              3                                NaN  "
      ]
     },
     "execution_count": 138,
     "metadata": {},
     "output_type": "execute_result"
    }
   ],
   "source": [
    "df[4]"
   ]
  },
  {
   "cell_type": "code",
   "execution_count": null,
   "metadata": {},
   "outputs": [],
   "source": []
  },
  {
   "cell_type": "code",
   "execution_count": 198,
   "metadata": {
    "ExecuteTime": {
     "end_time": "2020-03-25T01:38:34.389480Z",
     "start_time": "2020-03-25T01:38:34.386488Z"
    }
   },
   "outputs": [],
   "source": [
    "import requests"
   ]
  },
  {
   "cell_type": "code",
   "execution_count": 199,
   "metadata": {
    "ExecuteTime": {
     "end_time": "2020-03-25T01:38:39.057532Z",
     "start_time": "2020-03-25T01:38:38.960446Z"
    }
   },
   "outputs": [
    {
     "data": {
      "text/plain": [
       "<Response [500]>"
      ]
     },
     "execution_count": 199,
     "metadata": {},
     "output_type": "execute_result"
    }
   ],
   "source": [
    "\n",
    "requests.get('https://twebsantaclara.adsolutions-cloud.com/api/pesquisarjobjson', header=f'B {token}')"
   ]
  },
  {
   "cell_type": "code",
   "execution_count": 208,
   "metadata": {
    "ExecuteTime": {
     "end_time": "2020-03-25T01:54:50.622902Z",
     "start_time": "2020-03-25T01:54:50.436201Z"
    }
   },
   "outputs": [
    {
     "data": {
      "text/plain": [
       "<Response [401]>"
      ]
     },
     "execution_count": 208,
     "metadata": {},
     "output_type": "execute_result"
    }
   ],
   "source": [
    "import requests\n",
    "\n",
    "auth_token='eyJzcSI6OTYsIm5tIjoiRWRsYSBkZSBMaW1hIFBhbmlndWVsIiwibGciOiJlZGxhLnBhbmlndWVsIiwiYWdlIjoxLCJhZmkiOjEsImdlIjoxLCJ0cCI6ZmFsc2UsImtleSI6IjA2OEIyNjY1NDdDODExNDdFQkJCQ0UzMTBFMDBGMjY5REVCMTcwRkQiLCJleHAiOiIwMDAxLTAxLTAxVDAwOjAwOjAwIiwiYXVkIjpudWxsLCJpc3MiOm51bGwsInVwayI6bnVsbCwiaXAiOlsiW1xcc1xcU10iXX0'\n",
    "hed = {'Authorization': 'Bearer ' + auth_token}\n",
    "\n",
    "url = 'https://twebsantaclara.adsolutions-cloud.com/api/timesheetanaliticoreport'\n",
    "response = requests.post(url, headers=hed)\n",
    "\n",
    "response"
   ]
  },
  {
   "cell_type": "code",
   "execution_count": 206,
   "metadata": {
    "ExecuteTime": {
     "end_time": "2020-03-25T01:47:49.528257Z",
     "start_time": "2020-03-25T01:47:49.524269Z"
    }
   },
   "outputs": [
    {
     "data": {
      "text/plain": [
       "<Response [401]>"
      ]
     },
     "execution_count": 206,
     "metadata": {},
     "output_type": "execute_result"
    }
   ],
   "source": [
    "response"
   ]
  }
 ],
 "metadata": {
  "kernelspec": {
   "display_name": "Python 3",
   "language": "python",
   "name": "python3"
  },
  "language_info": {
   "codemirror_mode": {
    "name": "ipython",
    "version": 3
   },
   "file_extension": ".py",
   "mimetype": "text/x-python",
   "name": "python",
   "nbconvert_exporter": "python",
   "pygments_lexer": "ipython3",
   "version": "3.7.3"
  },
  "toc": {
   "base_numbering": 1,
   "nav_menu": {},
   "number_sections": true,
   "sideBar": true,
   "skip_h1_title": false,
   "title_cell": "Table of Contents",
   "title_sidebar": "Contents",
   "toc_cell": false,
   "toc_position": {},
   "toc_section_display": true,
   "toc_window_display": false
  }
 },
 "nbformat": 4,
 "nbformat_minor": 2
}
