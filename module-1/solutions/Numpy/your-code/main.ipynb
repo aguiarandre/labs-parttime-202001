{
 "cells": [
  {
   "cell_type": "markdown",
   "metadata": {},
   "source": [
    "# Lab | Numpy Deep Dive"
   ]
  },
  {
   "cell_type": "markdown",
   "metadata": {},
   "source": [
    "**1\\. Import the NUMPY package under the name np.**"
   ]
  },
  {
   "cell_type": "code",
   "execution_count": 1,
   "metadata": {},
   "outputs": [],
   "source": [
    "import numpy as np;"
   ]
  },
  {
   "cell_type": "markdown",
   "metadata": {},
   "source": [
    "**2\\. Print the NUMPY version and the configuration.**"
   ]
  },
  {
   "cell_type": "code",
   "execution_count": 2,
   "metadata": {},
   "outputs": [
    {
     "name": "stdout",
     "output_type": "stream",
     "text": [
      "1.15.4\n"
     ]
    }
   ],
   "source": [
    "print(np.version.version);"
   ]
  },
  {
   "cell_type": "markdown",
   "metadata": {},
   "source": [
    "**3\\. Generate a 2x3x5 3-dimensional array with random values. Assign the array to variable \"a\".**\n",
    "\n",
    "**Challenge: there are at least three easy ways that use numpy to generate random arrays. How many ways can you find?**\n",
    "\n"
   ]
  },
  {
   "cell_type": "code",
   "execution_count": 3,
   "metadata": {},
   "outputs": [],
   "source": [
    "a = np.random.randint(10, size = (2,3,5));\n",
    "a = np.random.rand(2,3,5);\n",
    "a = np.random.random((2,3,5));"
   ]
  },
  {
   "cell_type": "markdown",
   "metadata": {},
   "source": [
    "There are many ways to generate random samples. More can be found here: [Random sampling with NumPy](https://docs.scipy.org/doc/numpy-1.14.1/reference/routines.random.html)\n"
   ]
  },
  {
   "cell_type": "markdown",
   "metadata": {},
   "source": [
    "**4\\. Print a.**"
   ]
  },
  {
   "cell_type": "code",
   "execution_count": 4,
   "metadata": {},
   "outputs": [
    {
     "name": "stdout",
     "output_type": "stream",
     "text": [
      "[[[0.77696988 0.12032273 0.12305088 0.39391472 0.83363364]\n",
      "  [0.42436559 0.88125104 0.99325706 0.51313627 0.69884689]\n",
      "  [0.79563218 0.01957651 0.54452805 0.58196781 0.90198341]]\n",
      "\n",
      " [[0.26239544 0.55867045 0.62245075 0.20499161 0.82582537]\n",
      "  [0.04593601 0.54950724 0.22293239 0.128724   0.41394822]\n",
      "  [0.71514051 0.79908154 0.00219064 0.52223395 0.50567988]]]\n"
     ]
    }
   ],
   "source": [
    "print(a);"
   ]
  },
  {
   "cell_type": "markdown",
   "metadata": {},
   "source": [
    "**5\\. Create a 5x2x3 3-dimensional array with all values equaling 1. Assign the array to variable \"b\".**"
   ]
  },
  {
   "cell_type": "code",
   "execution_count": 5,
   "metadata": {},
   "outputs": [],
   "source": [
    "b = np.ones((5,2,3));"
   ]
  },
  {
   "cell_type": "markdown",
   "metadata": {},
   "source": [
    "**6\\. Print b.**"
   ]
  },
  {
   "cell_type": "code",
   "execution_count": 6,
   "metadata": {},
   "outputs": [
    {
     "name": "stdout",
     "output_type": "stream",
     "text": [
      "[[[1. 1. 1.]\n",
      "  [1. 1. 1.]]\n",
      "\n",
      " [[1. 1. 1.]\n",
      "  [1. 1. 1.]]\n",
      "\n",
      " [[1. 1. 1.]\n",
      "  [1. 1. 1.]]\n",
      "\n",
      " [[1. 1. 1.]\n",
      "  [1. 1. 1.]]\n",
      "\n",
      " [[1. 1. 1.]\n",
      "  [1. 1. 1.]]]\n"
     ]
    }
   ],
   "source": [
    "print(b);"
   ]
  },
  {
   "cell_type": "markdown",
   "metadata": {},
   "source": [
    "**7\\. Do a and b have the same size? How do you prove that in Python code?**"
   ]
  },
  {
   "cell_type": "markdown",
   "metadata": {},
   "source": [
    "Yes, they have the same size."
   ]
  },
  {
   "cell_type": "code",
   "execution_count": 7,
   "metadata": {},
   "outputs": [
    {
     "name": "stdout",
     "output_type": "stream",
     "text": [
      "True\n"
     ]
    }
   ],
   "source": [
    "print(a.size == b.size);"
   ]
  },
  {
   "cell_type": "markdown",
   "metadata": {},
   "source": [
    "**8\\. Are you able to add a and b? Why or why not?**"
   ]
  },
  {
   "cell_type": "markdown",
   "metadata": {},
   "source": [
    "No, because even though they have the same size, they don't have the same shape. The shape of a is (3,2,3,5) while the shape of b is (3,5,2,3)."
   ]
  },
  {
   "cell_type": "code",
   "execution_count": 8,
   "metadata": {},
   "outputs": [
    {
     "name": "stdout",
     "output_type": "stream",
     "text": [
      "False\n"
     ]
    }
   ],
   "source": [
    "print(a.shape == b.shape);"
   ]
  },
  {
   "cell_type": "markdown",
   "metadata": {},
   "source": [
    "If we try to add a and b, we get an error."
   ]
  },
  {
   "cell_type": "code",
   "execution_count": 9,
   "metadata": {},
   "outputs": [
    {
     "ename": "ValueError",
     "evalue": "operands could not be broadcast together with shapes (2,3,5) (5,2,3) ",
     "output_type": "error",
     "traceback": [
      "\u001b[0;31m---------------------------------------------------------------------------\u001b[0m",
      "\u001b[0;31mValueError\u001b[0m                                Traceback (most recent call last)",
      "\u001b[0;32m<ipython-input-9-5e7325de08a8>\u001b[0m in \u001b[0;36m<module>\u001b[0;34m\u001b[0m\n\u001b[0;32m----> 1\u001b[0;31m \u001b[0mnp\u001b[0m\u001b[0;34m.\u001b[0m\u001b[0madd\u001b[0m\u001b[0;34m(\u001b[0m\u001b[0ma\u001b[0m\u001b[0;34m,\u001b[0m \u001b[0mb\u001b[0m\u001b[0;34m)\u001b[0m\u001b[0;34m;\u001b[0m\u001b[0;34m\u001b[0m\u001b[0;34m\u001b[0m\u001b[0m\n\u001b[0m",
      "\u001b[0;31mValueError\u001b[0m: operands could not be broadcast together with shapes (2,3,5) (5,2,3) "
     ]
    }
   ],
   "source": [
    "np.add(a, b);"
   ]
  },
  {
   "cell_type": "markdown",
   "metadata": {},
   "source": [
    "**9\\. Transpose b so that it has the same structure of a (i.e. become a 2x3x5 array). Assign the transposed array to varialbe \"c\".**"
   ]
  },
  {
   "cell_type": "code",
   "execution_count": 10,
   "metadata": {},
   "outputs": [
    {
     "name": "stdout",
     "output_type": "stream",
     "text": [
      "(2, 3, 5) - (5, 2, 3)\n"
     ]
    }
   ],
   "source": [
    "print(a.shape, '-', b.shape);"
   ]
  },
  {
   "cell_type": "code",
   "execution_count": 11,
   "metadata": {},
   "outputs": [],
   "source": [
    "c = np.transpose(b, [1, 2, 0]);"
   ]
  },
  {
   "cell_type": "code",
   "execution_count": 12,
   "metadata": {},
   "outputs": [
    {
     "name": "stdout",
     "output_type": "stream",
     "text": [
      "(2, 3, 5) - (2, 3, 5)\n"
     ]
    }
   ],
   "source": [
    "print(a.shape, '-', c.shape);"
   ]
  },
  {
   "cell_type": "markdown",
   "metadata": {},
   "source": [
    "**10\\. Try to add a and c. Now it should work. Assign the sum to varialbe \"d\". But why does it work now?**"
   ]
  },
  {
   "cell_type": "markdown",
   "metadata": {},
   "source": [
    "It works because now the two arrays have the same shape, therefore they can be added."
   ]
  },
  {
   "cell_type": "code",
   "execution_count": 13,
   "metadata": {},
   "outputs": [],
   "source": [
    "d = np.add(a,c);"
   ]
  },
  {
   "cell_type": "markdown",
   "metadata": {},
   "source": [
    "**11\\. Print a and d. Notice the difference and relation of the two array in terms of the values? Explain.**"
   ]
  },
  {
   "cell_type": "markdown",
   "metadata": {},
   "source": [
    "The relation between terms in a and d is: \n",
    "\n",
    "d[n][m][p] = a[n][m][p] + c[n][m][p] \n",
    "\n",
    "when c[n][m][p] = 1, n = {0,1}, m = {0,1,2}, p = {0,1,2,3,4}.\n",
    "\n",
    "We add one to every element in a. "
   ]
  },
  {
   "cell_type": "code",
   "execution_count": 14,
   "metadata": {},
   "outputs": [
    {
     "name": "stdout",
     "output_type": "stream",
     "text": [
      "A\n",
      "[[[0.77696988 0.12032273 0.12305088 0.39391472 0.83363364]\n",
      "  [0.42436559 0.88125104 0.99325706 0.51313627 0.69884689]\n",
      "  [0.79563218 0.01957651 0.54452805 0.58196781 0.90198341]]\n",
      "\n",
      " [[0.26239544 0.55867045 0.62245075 0.20499161 0.82582537]\n",
      "  [0.04593601 0.54950724 0.22293239 0.128724   0.41394822]\n",
      "  [0.71514051 0.79908154 0.00219064 0.52223395 0.50567988]]]\n",
      "D\n",
      "[[[1.77696988 1.12032273 1.12305088 1.39391472 1.83363364]\n",
      "  [1.42436559 1.88125104 1.99325706 1.51313627 1.69884689]\n",
      "  [1.79563218 1.01957651 1.54452805 1.58196781 1.90198341]]\n",
      "\n",
      " [[1.26239544 1.55867045 1.62245075 1.20499161 1.82582537]\n",
      "  [1.04593601 1.54950724 1.22293239 1.128724   1.41394822]\n",
      "  [1.71514051 1.79908154 1.00219064 1.52223395 1.50567988]]]\n"
     ]
    }
   ],
   "source": [
    "print('A');\n",
    "print(a);\n",
    "print('D');\n",
    "print(d);"
   ]
  },
  {
   "cell_type": "markdown",
   "metadata": {},
   "source": [
    "**12\\. Multiply a and c. Assign the result to e.**\n"
   ]
  },
  {
   "cell_type": "code",
   "execution_count": 15,
   "metadata": {},
   "outputs": [],
   "source": [
    "e = np.multiply(a,c);"
   ]
  },
  {
   "cell_type": "markdown",
   "metadata": {},
   "source": [
    "**13\\. Does e equal to a? Why or why not?**"
   ]
  },
  {
   "cell_type": "markdown",
   "metadata": {},
   "source": [
    "Yes. The relation between terms in a and e is: \n",
    "\n",
    "e[n][m][p] = a[n][m][p] * c[n][m][p]\n",
    "\n",
    "when c[n][m][p] = 1, n = {0,1}, m = {0,1,2}, p = {0,1,2,3,4}.\n",
    "\n",
    "We multiply by 1 every element in a, so the resulting array e should be equal to a."
   ]
  },
  {
   "cell_type": "code",
   "execution_count": 16,
   "metadata": {},
   "outputs": [
    {
     "name": "stdout",
     "output_type": "stream",
     "text": [
      "[[[ True  True  True  True  True]\n",
      "  [ True  True  True  True  True]\n",
      "  [ True  True  True  True  True]]\n",
      "\n",
      " [[ True  True  True  True  True]\n",
      "  [ True  True  True  True  True]\n",
      "  [ True  True  True  True  True]]]\n"
     ]
    }
   ],
   "source": [
    "print(a == e);"
   ]
  },
  {
   "cell_type": "markdown",
   "metadata": {},
   "source": [
    "**14\\. Identify the max, min, and mean values in d. Assign those values to variables \"d_max\", \"d_min\", and \"d_mean\"**"
   ]
  },
  {
   "cell_type": "code",
   "execution_count": 17,
   "metadata": {},
   "outputs": [],
   "source": [
    "d_max = d.max()\n",
    "d_min = d.min();\n",
    "d_mean = d.mean();"
   ]
  },
  {
   "cell_type": "code",
   "execution_count": 18,
   "metadata": {},
   "outputs": [
    {
     "name": "stdout",
     "output_type": "stream",
     "text": [
      "MAX:   1.9932570580660234\n",
      "MIN:   1.0021906354359817\n",
      "MEAN:  1.4994048217951923\n"
     ]
    }
   ],
   "source": [
    "print('MAX:  ', d_max);\n",
    "print('MIN:  ', d_min);\n",
    "print('MEAN: ', d_mean);"
   ]
  },
  {
   "cell_type": "markdown",
   "metadata": {},
   "source": [
    "**15\\. Now we want to label the values in d. First create an empty array \"f\" with the same shape (i.e. 2x3x5) as d using `np.empty`.**"
   ]
  },
  {
   "cell_type": "code",
   "execution_count": 19,
   "metadata": {},
   "outputs": [],
   "source": [
    "f = np.empty((2, 3, 5), dtype=np.int8);"
   ]
  },
  {
   "cell_type": "markdown",
   "metadata": {},
   "source": [
    "**16\\. Populate the values in f. For each value in d, if it's larger than d_min but smaller than d_mean, assign 25 to the corresponding value in f.\n",
    "If a value in d is larger than d_mean but smaller than d_max, assign 75 to the corresponding value in f.\n",
    "If a value equals to d_mean, assign 50 to the corresponding value in f.\n",
    "Assign 0 to the corresponding value(s) in f for d_min in d.\n",
    "Assign 100 to the corresponding value(s) in f for d_max in d.\n",
    "In the end, f should have only the following values: 0, 25, 50, 75, and 100.\n",
    "Note: you don't have to use Numpy in this question.**"
   ]
  },
  {
   "cell_type": "code",
   "execution_count": 25,
   "metadata": {},
   "outputs": [],
   "source": [
    "it = np.nditer(d, flags=['multi_index']);\n",
    "while not it.finished:\n",
    "    if it[0] == d_min:\n",
    "        f[it.multi_index] = 0;\n",
    "    elif it[0] > d_min and it[0] < d_mean:\n",
    "        f[it.multi_index] = 25;\n",
    "    elif it[0] == d_mean:\n",
    "        f[it.multi_index] = 50;\n",
    "    elif it[0] > d_mean and it[0] < d_max:\n",
    "        f[it.multi_index] = 75;\n",
    "    else:\n",
    "        f[it.multi_index] = 100;\n",
    "    it.iternext()"
   ]
  },
  {
   "cell_type": "markdown",
   "metadata": {},
   "source": [
    "**17\\. Print d and f. Do you have your expected f?**"
   ]
  },
  {
   "cell_type": "markdown",
   "metadata": {},
   "source": [
    "Yes!"
   ]
  },
  {
   "cell_type": "code",
   "execution_count": 21,
   "metadata": {},
   "outputs": [
    {
     "name": "stdout",
     "output_type": "stream",
     "text": [
      "D\n",
      "[[[1.77696988 1.12032273 1.12305088 1.39391472 1.83363364]\n",
      "  [1.42436559 1.88125104 1.99325706 1.51313627 1.69884689]\n",
      "  [1.79563218 1.01957651 1.54452805 1.58196781 1.90198341]]\n",
      "\n",
      " [[1.26239544 1.55867045 1.62245075 1.20499161 1.82582537]\n",
      "  [1.04593601 1.54950724 1.22293239 1.128724   1.41394822]\n",
      "  [1.71514051 1.79908154 1.00219064 1.52223395 1.50567988]]]\n",
      "F\n",
      "[[[ 75  25  25  25  75]\n",
      "  [ 25  75 100  75  75]\n",
      "  [ 75  25  75  75  75]]\n",
      "\n",
      " [[ 25  75  75  25  75]\n",
      "  [ 25  75  25  25  25]\n",
      "  [ 75  75   0  75  75]]]\n"
     ]
    }
   ],
   "source": [
    "print('D');\n",
    "print(d);\n",
    "print('F');\n",
    "print(f);"
   ]
  },
  {
   "cell_type": "markdown",
   "metadata": {},
   "source": [
    "**18\\. Bonus question: instead of using numbers (i.e. 0, 25, 50, 75, and 100), how to use string values \n",
    "(\"A\", \"B\", \"C\", \"D\", and \"E\") to label the array elements?**"
   ]
  },
  {
   "cell_type": "code",
   "execution_count": 22,
   "metadata": {},
   "outputs": [],
   "source": [
    "g = np.empty((2, 3, 5), dtype=str);\n",
    "it = np.nditer(d, flags=['multi_index']);\n",
    "while not it.finished:\n",
    "    if it[0] == d_min:\n",
    "        g[it.multi_index] = 'A';\n",
    "    elif it[0] > d_min and it[0] < d_mean:\n",
    "        g[it.multi_index] = 'B';\n",
    "    elif it[0] == d_mean:\n",
    "        g[it.multi_index] = 'C';\n",
    "    elif it[0] > d_mean and it[0] < d_max:\n",
    "        g[it.multi_index] = 'D';\n",
    "    else:\n",
    "        g[it.multi_index] = 'E';\n",
    "    it.iternext()"
   ]
  },
  {
   "cell_type": "code",
   "execution_count": 23,
   "metadata": {},
   "outputs": [
    {
     "name": "stdout",
     "output_type": "stream",
     "text": [
      "G\n",
      "[[['D' 'B' 'B' 'B' 'D']\n",
      "  ['B' 'D' 'E' 'D' 'D']\n",
      "  ['D' 'B' 'D' 'D' 'D']]\n",
      "\n",
      " [['B' 'D' 'D' 'B' 'D']\n",
      "  ['B' 'D' 'B' 'B' 'B']\n",
      "  ['D' 'D' 'A' 'D' 'D']]]\n"
     ]
    }
   ],
   "source": [
    "print('G');\n",
    "print(g);"
   ]
  }
 ],
 "metadata": {
  "kernelspec": {
   "display_name": "ironhack-3.7",
   "language": "python",
   "name": "ironhack-3.7"
  },
  "language_info": {
   "codemirror_mode": {
    "name": "ipython",
    "version": 3
   },
   "file_extension": ".py",
   "mimetype": "text/x-python",
   "name": "python",
   "nbconvert_exporter": "python",
   "pygments_lexer": "ipython3",
   "version": "3.7.2"
  }
 },
 "nbformat": 4,
 "nbformat_minor": 2
}
