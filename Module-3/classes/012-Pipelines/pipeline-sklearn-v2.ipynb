{
 "cells": [
  {
   "cell_type": "code",
   "execution_count": 51,
   "metadata": {
    "ExecuteTime": {
     "end_time": "2020-06-11T01:36:06.914744Z",
     "start_time": "2020-06-11T01:36:06.909758Z"
    }
   },
   "outputs": [
    {
     "data": {
      "text/plain": [
       "'0.23.1'"
      ]
     },
     "execution_count": 51,
     "metadata": {},
     "output_type": "execute_result"
    }
   ],
   "source": [
    "import sklearn\n",
    "sklearn.__version__"
   ]
  },
  {
   "cell_type": "code",
   "execution_count": 2,
   "metadata": {
    "ExecuteTime": {
     "end_time": "2020-06-11T01:30:26.854712Z",
     "start_time": "2020-06-11T01:30:26.446777Z"
    }
   },
   "outputs": [],
   "source": [
    "import matplotlib.pyplot as plt\n",
    "# ^^^ pyforest auto-imports - don't write above this line\n",
    "import pandas as pd"
   ]
  },
  {
   "cell_type": "markdown",
   "metadata": {},
   "source": [
    "# Pipelines in scikit-learn"
   ]
  },
  {
   "cell_type": "markdown",
   "metadata": {
    "ExecuteTime": {
     "end_time": "2020-05-05T03:39:57.904836Z",
     "start_time": "2020-05-05T03:39:57.901818Z"
    }
   },
   "source": [
    "## Non-pipeline setup\n",
    "\n",
    "Let's start easy. A dataset that works. We'll come back on the complex one above soon."
   ]
  },
  {
   "cell_type": "code",
   "execution_count": 3,
   "metadata": {
    "ExecuteTime": {
     "end_time": "2020-06-11T01:30:26.922504Z",
     "start_time": "2020-06-11T01:30:26.855683Z"
    }
   },
   "outputs": [],
   "source": [
    "from sklearn.datasets import load_breast_cancer\n",
    "from sklearn.model_selection import train_test_split\n",
    "from sklearn.preprocessing import StandardScaler\n",
    "from sklearn.linear_model import LogisticRegression"
   ]
  },
  {
   "cell_type": "code",
   "execution_count": 4,
   "metadata": {
    "ExecuteTime": {
     "end_time": "2020-06-11T01:30:26.935500Z",
     "start_time": "2020-06-11T01:30:26.923501Z"
    }
   },
   "outputs": [],
   "source": [
    "dataset = load_breast_cancer()\n",
    "\n",
    "X = dataset['data']\n",
    "y = dataset['target']"
   ]
  },
  {
   "cell_type": "code",
   "execution_count": 5,
   "metadata": {
    "ExecuteTime": {
     "end_time": "2020-06-11T01:30:26.942478Z",
     "start_time": "2020-06-11T01:30:26.938492Z"
    }
   },
   "outputs": [],
   "source": [
    "X_train, X_test, y_train, y_test = train_test_split(X, y, test_size=0.2, random_state=42)"
   ]
  },
  {
   "cell_type": "code",
   "execution_count": 6,
   "metadata": {
    "ExecuteTime": {
     "end_time": "2020-06-11T01:30:26.954419Z",
     "start_time": "2020-06-11T01:30:26.944446Z"
    }
   },
   "outputs": [],
   "source": [
    "scaler = StandardScaler()\n",
    "scaler.fit(X_train)\n",
    "\n",
    "X_train = scaler.transform(X_train)\n",
    "\n",
    "X_test = scaler.transform(X_test)"
   ]
  },
  {
   "cell_type": "code",
   "execution_count": 7,
   "metadata": {
    "ExecuteTime": {
     "end_time": "2020-06-11T01:30:26.975363Z",
     "start_time": "2020-06-11T01:30:26.955416Z"
    }
   },
   "outputs": [
    {
     "data": {
      "text/plain": [
       "LogisticRegression()"
      ]
     },
     "execution_count": 7,
     "metadata": {},
     "output_type": "execute_result"
    }
   ],
   "source": [
    "model = LogisticRegression()\n",
    "\n",
    "model.fit(X_train, y_train)"
   ]
  },
  {
   "cell_type": "code",
   "execution_count": 8,
   "metadata": {
    "ExecuteTime": {
     "end_time": "2020-06-11T01:30:27.099557Z",
     "start_time": "2020-06-11T01:30:26.977358Z"
    }
   },
   "outputs": [
    {
     "data": {
      "text/plain": [
       "array([0.96989247, 0.99791667, 0.99375   , 0.99431818, 1.        ,\n",
       "       1.        , 1.        , 1.        , 0.99595142, 1.        ])"
      ]
     },
     "execution_count": 8,
     "metadata": {},
     "output_type": "execute_result"
    }
   ],
   "source": [
    "from sklearn.metrics import roc_auc_score\n",
    "from sklearn.model_selection import KFold,cross_val_score\n",
    "\n",
    "cross_val_score(model, X_train, y_train, scoring='roc_auc', cv=KFold(n_splits=10, shuffle=True))"
   ]
  },
  {
   "cell_type": "code",
   "execution_count": 9,
   "metadata": {
    "ExecuteTime": {
     "end_time": "2020-06-11T01:30:27.107537Z",
     "start_time": "2020-06-11T01:30:27.100554Z"
    }
   },
   "outputs": [
    {
     "data": {
      "text/plain": [
       "0.99737962659679"
      ]
     },
     "execution_count": 9,
     "metadata": {},
     "output_type": "execute_result"
    }
   ],
   "source": [
    "roc_auc_score(y_test, model.predict_proba(X_test)[:, 1])"
   ]
  },
  {
   "cell_type": "markdown",
   "metadata": {},
   "source": [
    "## Now doing it in a Pipeline."
   ]
  },
  {
   "cell_type": "code",
   "execution_count": 10,
   "metadata": {
    "ExecuteTime": {
     "end_time": "2020-06-11T01:30:27.112538Z",
     "start_time": "2020-06-11T01:30:27.108533Z"
    }
   },
   "outputs": [],
   "source": [
    "from sklearn.pipeline import Pipeline\n",
    "from sklearn import set_config\n",
    "\n",
    "# set_config(display='diagram')"
   ]
  },
  {
   "cell_type": "markdown",
   "metadata": {},
   "source": [
    "Remember? Pipelines are composed by a sequence of steps:\n",
    "    \n",
    "Specifically, sklearn-pipelines are composed of named steps as tuples like :\n",
    "    \n",
    "```('dataprep', StandardScaler(),\n",
    " 'model', LogisticRegression())```"
   ]
  },
  {
   "cell_type": "code",
   "execution_count": 11,
   "metadata": {
    "ExecuteTime": {
     "end_time": "2020-06-11T01:30:27.116511Z",
     "start_time": "2020-06-11T01:30:27.113520Z"
    }
   },
   "outputs": [],
   "source": [
    "model = LogisticRegression()"
   ]
  },
  {
   "cell_type": "code",
   "execution_count": 52,
   "metadata": {
    "ExecuteTime": {
     "end_time": "2020-06-11T01:36:39.180011Z",
     "start_time": "2020-06-11T01:36:39.176992Z"
    }
   },
   "outputs": [],
   "source": [
    "pipeline = Pipeline(steps=[('scaler', StandardScaler()),\n",
    "                           ('model', LogisticRegression())\n",
    "                          ])"
   ]
  },
  {
   "cell_type": "code",
   "execution_count": 63,
   "metadata": {
    "ExecuteTime": {
     "end_time": "2020-06-11T01:38:18.234011Z",
     "start_time": "2020-06-11T01:38:18.230023Z"
    }
   },
   "outputs": [],
   "source": [
    "set_config(display='text')"
   ]
  },
  {
   "cell_type": "code",
   "execution_count": 66,
   "metadata": {
    "ExecuteTime": {
     "end_time": "2020-06-11T01:38:24.514788Z",
     "start_time": "2020-06-11T01:38:24.510800Z"
    }
   },
   "outputs": [],
   "source": [
    "model = LogisticRegression(C=0.1, penalty='l1')"
   ]
  },
  {
   "cell_type": "code",
   "execution_count": 67,
   "metadata": {
    "ExecuteTime": {
     "end_time": "2020-06-11T01:38:24.845922Z",
     "start_time": "2020-06-11T01:38:24.841914Z"
    }
   },
   "outputs": [
    {
     "data": {
      "text/plain": [
       "LogisticRegression(C=0.1, penalty='l1')"
      ]
     },
     "execution_count": 67,
     "metadata": {},
     "output_type": "execute_result"
    }
   ],
   "source": [
    "model"
   ]
  },
  {
   "cell_type": "code",
   "execution_count": 60,
   "metadata": {
    "ExecuteTime": {
     "end_time": "2020-06-11T01:38:09.957143Z",
     "start_time": "2020-06-11T01:38:09.953154Z"
    }
   },
   "outputs": [],
   "source": [
    "set_config(display='diagram')"
   ]
  },
  {
   "cell_type": "code",
   "execution_count": 53,
   "metadata": {
    "ExecuteTime": {
     "end_time": "2020-06-11T01:36:41.137805Z",
     "start_time": "2020-06-11T01:36:41.131820Z"
    }
   },
   "outputs": [
    {
     "data": {
      "text/html": [
       "<style>div.sk-top-container {color: black;background-color: white;}div.sk-toggleable {background-color: white;}label.sk-toggleable__label {cursor: pointer;display: block;width: 100%;margin-bottom: 0;padding: 0.2em 0.3em;box-sizing: border-box;text-align: center;}div.sk-toggleable__content {max-height: 0;max-width: 0;overflow: hidden;text-align: left;background-color: #f0f8ff;}div.sk-toggleable__content pre {margin: 0.2em;color: black;border-radius: 0.25em;background-color: #f0f8ff;}input.sk-toggleable__control:checked~div.sk-toggleable__content {max-height: 200px;max-width: 100%;overflow: auto;}div.sk-estimator input.sk-toggleable__control:checked~label.sk-toggleable__label {background-color: #d4ebff;}div.sk-label input.sk-toggleable__control:checked~label.sk-toggleable__label {background-color: #d4ebff;}input.sk-hidden--visually {border: 0;clip: rect(1px 1px 1px 1px);clip: rect(1px, 1px, 1px, 1px);height: 1px;margin: -1px;overflow: hidden;padding: 0;position: absolute;width: 1px;}div.sk-estimator {font-family: monospace;background-color: #f0f8ff;margin: 0.25em 0.25em;border: 1px dotted black;border-radius: 0.25em;box-sizing: border-box;}div.sk-estimator:hover {background-color: #d4ebff;}div.sk-parallel-item::after {content: \"\";width: 100%;border-bottom: 1px solid gray;flex-grow: 1;}div.sk-label:hover label.sk-toggleable__label {background-color: #d4ebff;}div.sk-serial::before {content: \"\";position: absolute;border-left: 1px solid gray;box-sizing: border-box;top: 2em;bottom: 0;left: 50%;}div.sk-serial {display: flex;flex-direction: column;align-items: center;background-color: white;}div.sk-item {z-index: 1;}div.sk-parallel {display: flex;align-items: stretch;justify-content: center;background-color: white;}div.sk-parallel-item {display: flex;flex-direction: column;position: relative;background-color: white;}div.sk-parallel-item:first-child::after {align-self: flex-end;width: 50%;}div.sk-parallel-item:last-child::after {align-self: flex-start;width: 50%;}div.sk-parallel-item:only-child::after {width: 0;}div.sk-dashed-wrapped {border: 1px dashed gray;margin: 0.2em;box-sizing: border-box;padding-bottom: 0.1em;background-color: white;position: relative;}div.sk-label label {font-family: monospace;font-weight: bold;background-color: white;display: inline-block;line-height: 1.2em;}div.sk-label-container {position: relative;z-index: 2;text-align: center;}div.sk-container {display: inline-block;position: relative;}</style><div class=\"sk-top-container\"><div class=\"sk-container\"><div class=\"sk-item sk-dashed-wrapped\"><div class=\"sk-label-container\"><div class=\"sk-label sk-toggleable\"><input class=\"sk-toggleable__control sk-hidden--visually\" id=\"2b583071-a8ff-4de1-9ed3-46c04506f3dd\" type=\"checkbox\" ><label class=\"sk-toggleable__label\" for=\"2b583071-a8ff-4de1-9ed3-46c04506f3dd\">Pipeline</label><div class=\"sk-toggleable__content\"><pre>Pipeline(steps=[('scaler', StandardScaler()), ('model', LogisticRegression())])</pre></div></div></div><div class=\"sk-serial\"><div class=\"sk-item\"><div class=\"sk-estimator sk-toggleable\"><input class=\"sk-toggleable__control sk-hidden--visually\" id=\"b76cf35c-465d-47a2-bd2b-b71ed25a9991\" type=\"checkbox\" ><label class=\"sk-toggleable__label\" for=\"b76cf35c-465d-47a2-bd2b-b71ed25a9991\">StandardScaler</label><div class=\"sk-toggleable__content\"><pre>StandardScaler()</pre></div></div></div><div class=\"sk-item\"><div class=\"sk-estimator sk-toggleable\"><input class=\"sk-toggleable__control sk-hidden--visually\" id=\"9783cd7a-1c28-4a5a-bba6-00e7609cfe20\" type=\"checkbox\" ><label class=\"sk-toggleable__label\" for=\"9783cd7a-1c28-4a5a-bba6-00e7609cfe20\">LogisticRegression</label><div class=\"sk-toggleable__content\"><pre>LogisticRegression()</pre></div></div></div></div></div></div></div>"
      ],
      "text/plain": [
       "Pipeline(steps=[('scaler', StandardScaler()), ('model', LogisticRegression())])"
      ]
     },
     "execution_count": 53,
     "metadata": {},
     "output_type": "execute_result"
    }
   ],
   "source": [
    "pipeline"
   ]
  },
  {
   "cell_type": "code",
   "execution_count": 13,
   "metadata": {
    "ExecuteTime": {
     "end_time": "2020-06-11T01:30:27.140456Z",
     "start_time": "2020-06-11T01:30:27.122495Z"
    }
   },
   "outputs": [
    {
     "data": {
      "text/plain": [
       "Pipeline(steps=[('scaler', StandardScaler()), ('model', LogisticRegression())])"
      ]
     },
     "execution_count": 13,
     "metadata": {},
     "output_type": "execute_result"
    }
   ],
   "source": [
    "pipeline.fit(X_train, y_train)"
   ]
  },
  {
   "cell_type": "markdown",
   "metadata": {
    "ExecuteTime": {
     "end_time": "2020-05-05T03:47:36.377518Z",
     "start_time": "2020-05-05T03:47:36.373529Z"
    }
   },
   "source": [
    "Under the hood, when you run `pipeline.fit()`, the Pipeline will run each steps' `.fit_transform()` method until the last step, where it will run `.fit()` as you've requested."
   ]
  },
  {
   "cell_type": "code",
   "execution_count": 14,
   "metadata": {
    "ExecuteTime": {
     "end_time": "2020-06-11T01:30:27.146431Z",
     "start_time": "2020-06-11T01:30:27.141444Z"
    }
   },
   "outputs": [
    {
     "data": {
      "text/plain": [
       "array([1, 0, 0, 1, 1, 0, 0, 0, 1, 1, 1, 0, 1, 0, 1, 0, 1, 1, 1, 0, 1, 1,\n",
       "       0, 1, 1, 1, 1, 1, 1, 0, 1, 1, 1, 1, 1, 1, 0, 1, 0, 1, 1, 0, 1, 1,\n",
       "       1, 1, 1, 1, 1, 1, 0, 0, 1, 1, 1, 1, 1, 0, 0, 1, 1, 0, 0, 1, 1, 1,\n",
       "       0, 0, 1, 1, 0, 0, 1, 0, 1, 1, 1, 1, 1, 1, 0, 1, 0, 0, 0, 0, 0, 0,\n",
       "       1, 1, 1, 1, 1, 1, 1, 1, 0, 0, 1, 0, 0, 1, 0, 0, 1, 1, 1, 0, 1, 1,\n",
       "       0, 1, 0, 0])"
      ]
     },
     "execution_count": 14,
     "metadata": {},
     "output_type": "execute_result"
    }
   ],
   "source": [
    "pipeline.predict(X_test)"
   ]
  },
  {
   "cell_type": "code",
   "execution_count": 15,
   "metadata": {
    "ExecuteTime": {
     "end_time": "2020-06-11T01:30:27.153436Z",
     "start_time": "2020-06-11T01:30:27.147429Z"
    },
    "scrolled": true
   },
   "outputs": [
    {
     "data": {
      "text/plain": [
       "array([8.85672563e-01, 9.03924655e-06, 3.09834256e-03, 9.99489037e-01,\n",
       "       9.99939117e-01, 9.60957939e-11, 1.57079869e-09, 3.51340843e-02,\n",
       "       6.19293778e-01, 9.99235368e-01, 9.50016097e-01, 1.24248369e-02,\n",
       "       9.93931210e-01, 1.45686895e-01, 9.98370282e-01, 7.61463718e-04,\n",
       "       9.98139178e-01, 9.99988681e-01, 9.99999171e-01, 1.14290643e-06,\n",
       "       9.15605194e-01, 9.90219887e-01, 4.43242454e-09, 9.99920493e-01,\n",
       "       9.98852921e-01, 9.99418546e-01, 9.98914330e-01, 9.93946402e-01,\n",
       "       9.97129071e-01, 8.11567745e-06, 9.99480324e-01, 9.99850625e-01,\n",
       "       9.97792446e-01, 9.94485622e-01, 9.99857873e-01, 9.97551009e-01,\n",
       "       5.78533757e-02, 9.97045389e-01, 8.96287263e-05, 9.51657452e-01,\n",
       "       9.99927965e-01, 4.04951942e-04, 9.97515908e-01, 9.99027239e-01,\n",
       "       9.79797581e-01, 9.27343486e-01, 9.99594294e-01, 9.99502132e-01,\n",
       "       9.69205141e-01, 9.99385793e-01, 1.20487572e-04, 5.39214820e-08,\n",
       "       6.90751901e-01, 9.86705365e-01, 9.99972429e-01, 9.90345548e-01,\n",
       "       9.99885986e-01, 7.57322606e-12, 1.63326305e-01, 9.99859352e-01,\n",
       "       9.94968189e-01, 4.51640524e-07, 1.43172412e-09, 9.68700537e-01,\n",
       "       9.99167292e-01, 8.68611225e-01, 1.39683716e-05, 2.39924291e-09,\n",
       "       9.99189100e-01, 9.79424266e-01, 1.33091320e-03, 1.59385411e-03,\n",
       "       9.97432510e-01, 4.56227475e-03, 9.99909353e-01, 9.89279652e-01,\n",
       "       9.79955377e-01, 5.13288110e-01, 9.99972346e-01, 9.86165654e-01,\n",
       "       4.32547255e-03, 9.99935312e-01, 2.23614717e-01, 1.00888320e-08,\n",
       "       3.92542797e-03, 1.12701170e-03, 1.36118315e-04, 1.40640356e-04,\n",
       "       9.99778973e-01, 9.96594904e-01, 9.94367481e-01, 6.75631074e-01,\n",
       "       9.66003551e-01, 9.99711647e-01, 9.99605149e-01, 9.99867143e-01,\n",
       "       6.86620790e-07, 9.82034799e-07, 9.99917271e-01, 3.27763226e-04,\n",
       "       3.14730192e-03, 9.99998394e-01, 1.62935126e-05, 6.02393712e-04,\n",
       "       9.89929589e-01, 9.65075626e-01, 9.94214612e-01, 1.21840949e-10,\n",
       "       8.86857641e-01, 9.67864528e-01, 6.69193975e-04, 9.98683803e-01,\n",
       "       4.59868375e-01, 7.39093832e-13])"
      ]
     },
     "execution_count": 15,
     "metadata": {},
     "output_type": "execute_result"
    }
   ],
   "source": [
    "pipeline.predict_proba(X_test)[:, 1]"
   ]
  },
  {
   "cell_type": "markdown",
   "metadata": {},
   "source": [
    "When you run `pipeline.predict()`, the Pipeline will run `.transform()` until the last step, where it will run `.predict()` as you've requested."
   ]
  },
  {
   "cell_type": "markdown",
   "metadata": {},
   "source": [
    "# A more complex example"
   ]
  },
  {
   "cell_type": "markdown",
   "metadata": {},
   "source": [
    "We have a problem that we need to perform some preprocessing in some specific columns (the categorical ones) and another preprocessing in numerical columns"
   ]
  },
  {
   "cell_type": "code",
   "execution_count": 16,
   "metadata": {
    "ExecuteTime": {
     "end_time": "2020-06-11T01:30:27.167403Z",
     "start_time": "2020-06-11T01:30:27.154409Z"
    }
   },
   "outputs": [],
   "source": [
    "df = pd.read_csv('data/loan_dataset_train.csv')\n",
    "\n",
    "X = df.drop(columns=['Loan_ID', 'Loan_Status'])\n",
    "y = df.Loan_Status.apply(lambda x : 1 if x == 'Y' else 0)"
   ]
  },
  {
   "cell_type": "code",
   "execution_count": 17,
   "metadata": {
    "ExecuteTime": {
     "end_time": "2020-06-11T01:30:27.175354Z",
     "start_time": "2020-06-11T01:30:27.168372Z"
    }
   },
   "outputs": [],
   "source": [
    "X_train, X_test, y_train, y_test = train_test_split(X, y, test_size=0.2, stratify=y)"
   ]
  },
  {
   "cell_type": "code",
   "execution_count": 18,
   "metadata": {
    "ExecuteTime": {
     "end_time": "2020-06-11T01:30:27.195300Z",
     "start_time": "2020-06-11T01:30:27.177349Z"
    },
    "scrolled": true
   },
   "outputs": [
    {
     "data": {
      "text/html": [
       "<div>\n",
       "<style scoped>\n",
       "    .dataframe tbody tr th:only-of-type {\n",
       "        vertical-align: middle;\n",
       "    }\n",
       "\n",
       "    .dataframe tbody tr th {\n",
       "        vertical-align: top;\n",
       "    }\n",
       "\n",
       "    .dataframe thead th {\n",
       "        text-align: right;\n",
       "    }\n",
       "</style>\n",
       "<table border=\"1\" class=\"dataframe\">\n",
       "  <thead>\n",
       "    <tr style=\"text-align: right;\">\n",
       "      <th></th>\n",
       "      <th>Gender</th>\n",
       "      <th>Married</th>\n",
       "      <th>Dependents</th>\n",
       "      <th>Education</th>\n",
       "      <th>Self_Employed</th>\n",
       "      <th>ApplicantIncome</th>\n",
       "      <th>CoapplicantIncome</th>\n",
       "      <th>LoanAmount</th>\n",
       "      <th>Loan_Amount_Term</th>\n",
       "      <th>Credit_History</th>\n",
       "      <th>Property_Area</th>\n",
       "    </tr>\n",
       "  </thead>\n",
       "  <tbody>\n",
       "    <tr>\n",
       "      <th>360</th>\n",
       "      <td>Female</td>\n",
       "      <td>No</td>\n",
       "      <td>1</td>\n",
       "      <td>Graduate</td>\n",
       "      <td>No</td>\n",
       "      <td>4723</td>\n",
       "      <td>0.0</td>\n",
       "      <td>81.0</td>\n",
       "      <td>360.0</td>\n",
       "      <td>1.0</td>\n",
       "      <td>Semiurban</td>\n",
       "    </tr>\n",
       "    <tr>\n",
       "      <th>473</th>\n",
       "      <td>Female</td>\n",
       "      <td>No</td>\n",
       "      <td>0</td>\n",
       "      <td>Graduate</td>\n",
       "      <td>Yes</td>\n",
       "      <td>2500</td>\n",
       "      <td>0.0</td>\n",
       "      <td>93.0</td>\n",
       "      <td>360.0</td>\n",
       "      <td>NaN</td>\n",
       "      <td>Urban</td>\n",
       "    </tr>\n",
       "    <tr>\n",
       "      <th>359</th>\n",
       "      <td>Male</td>\n",
       "      <td>Yes</td>\n",
       "      <td>3+</td>\n",
       "      <td>Graduate</td>\n",
       "      <td>No</td>\n",
       "      <td>5167</td>\n",
       "      <td>3167.0</td>\n",
       "      <td>200.0</td>\n",
       "      <td>360.0</td>\n",
       "      <td>1.0</td>\n",
       "      <td>Semiurban</td>\n",
       "    </tr>\n",
       "    <tr>\n",
       "      <th>519</th>\n",
       "      <td>Female</td>\n",
       "      <td>No</td>\n",
       "      <td>0</td>\n",
       "      <td>Not Graduate</td>\n",
       "      <td>No</td>\n",
       "      <td>3400</td>\n",
       "      <td>0.0</td>\n",
       "      <td>95.0</td>\n",
       "      <td>360.0</td>\n",
       "      <td>1.0</td>\n",
       "      <td>Rural</td>\n",
       "    </tr>\n",
       "    <tr>\n",
       "      <th>557</th>\n",
       "      <td>Male</td>\n",
       "      <td>Yes</td>\n",
       "      <td>3+</td>\n",
       "      <td>Graduate</td>\n",
       "      <td>Yes</td>\n",
       "      <td>10139</td>\n",
       "      <td>0.0</td>\n",
       "      <td>260.0</td>\n",
       "      <td>360.0</td>\n",
       "      <td>1.0</td>\n",
       "      <td>Semiurban</td>\n",
       "    </tr>\n",
       "    <tr>\n",
       "      <th>...</th>\n",
       "      <td>...</td>\n",
       "      <td>...</td>\n",
       "      <td>...</td>\n",
       "      <td>...</td>\n",
       "      <td>...</td>\n",
       "      <td>...</td>\n",
       "      <td>...</td>\n",
       "      <td>...</td>\n",
       "      <td>...</td>\n",
       "      <td>...</td>\n",
       "      <td>...</td>\n",
       "    </tr>\n",
       "    <tr>\n",
       "      <th>198</th>\n",
       "      <td>Female</td>\n",
       "      <td>Yes</td>\n",
       "      <td>0</td>\n",
       "      <td>Graduate</td>\n",
       "      <td>No</td>\n",
       "      <td>3416</td>\n",
       "      <td>2816.0</td>\n",
       "      <td>113.0</td>\n",
       "      <td>360.0</td>\n",
       "      <td>NaN</td>\n",
       "      <td>Semiurban</td>\n",
       "    </tr>\n",
       "    <tr>\n",
       "      <th>38</th>\n",
       "      <td>Male</td>\n",
       "      <td>No</td>\n",
       "      <td>0</td>\n",
       "      <td>Graduate</td>\n",
       "      <td>No</td>\n",
       "      <td>4166</td>\n",
       "      <td>7210.0</td>\n",
       "      <td>184.0</td>\n",
       "      <td>360.0</td>\n",
       "      <td>1.0</td>\n",
       "      <td>Urban</td>\n",
       "    </tr>\n",
       "    <tr>\n",
       "      <th>280</th>\n",
       "      <td>Male</td>\n",
       "      <td>No</td>\n",
       "      <td>1</td>\n",
       "      <td>Not Graduate</td>\n",
       "      <td>Yes</td>\n",
       "      <td>4053</td>\n",
       "      <td>2426.0</td>\n",
       "      <td>158.0</td>\n",
       "      <td>360.0</td>\n",
       "      <td>0.0</td>\n",
       "      <td>Urban</td>\n",
       "    </tr>\n",
       "    <tr>\n",
       "      <th>285</th>\n",
       "      <td>Male</td>\n",
       "      <td>No</td>\n",
       "      <td>0</td>\n",
       "      <td>Graduate</td>\n",
       "      <td>No</td>\n",
       "      <td>3158</td>\n",
       "      <td>3053.0</td>\n",
       "      <td>89.0</td>\n",
       "      <td>360.0</td>\n",
       "      <td>1.0</td>\n",
       "      <td>Rural</td>\n",
       "    </tr>\n",
       "    <tr>\n",
       "      <th>513</th>\n",
       "      <td>Male</td>\n",
       "      <td>Yes</td>\n",
       "      <td>0</td>\n",
       "      <td>Graduate</td>\n",
       "      <td>No</td>\n",
       "      <td>2130</td>\n",
       "      <td>6666.0</td>\n",
       "      <td>70.0</td>\n",
       "      <td>180.0</td>\n",
       "      <td>1.0</td>\n",
       "      <td>Semiurban</td>\n",
       "    </tr>\n",
       "  </tbody>\n",
       "</table>\n",
       "<p>491 rows × 11 columns</p>\n",
       "</div>"
      ],
      "text/plain": [
       "     Gender Married Dependents     Education Self_Employed  ApplicantIncome  \\\n",
       "360  Female      No          1      Graduate            No             4723   \n",
       "473  Female      No          0      Graduate           Yes             2500   \n",
       "359    Male     Yes         3+      Graduate            No             5167   \n",
       "519  Female      No          0  Not Graduate            No             3400   \n",
       "557    Male     Yes         3+      Graduate           Yes            10139   \n",
       "..      ...     ...        ...           ...           ...              ...   \n",
       "198  Female     Yes          0      Graduate            No             3416   \n",
       "38     Male      No          0      Graduate            No             4166   \n",
       "280    Male      No          1  Not Graduate           Yes             4053   \n",
       "285    Male      No          0      Graduate            No             3158   \n",
       "513    Male     Yes          0      Graduate            No             2130   \n",
       "\n",
       "     CoapplicantIncome  LoanAmount  Loan_Amount_Term  Credit_History  \\\n",
       "360                0.0        81.0             360.0             1.0   \n",
       "473                0.0        93.0             360.0             NaN   \n",
       "359             3167.0       200.0             360.0             1.0   \n",
       "519                0.0        95.0             360.0             1.0   \n",
       "557                0.0       260.0             360.0             1.0   \n",
       "..                 ...         ...               ...             ...   \n",
       "198             2816.0       113.0             360.0             NaN   \n",
       "38              7210.0       184.0             360.0             1.0   \n",
       "280             2426.0       158.0             360.0             0.0   \n",
       "285             3053.0        89.0             360.0             1.0   \n",
       "513             6666.0        70.0             180.0             1.0   \n",
       "\n",
       "    Property_Area  \n",
       "360     Semiurban  \n",
       "473         Urban  \n",
       "359     Semiurban  \n",
       "519         Rural  \n",
       "557     Semiurban  \n",
       "..            ...  \n",
       "198     Semiurban  \n",
       "38          Urban  \n",
       "280         Urban  \n",
       "285         Rural  \n",
       "513     Semiurban  \n",
       "\n",
       "[491 rows x 11 columns]"
      ]
     },
     "execution_count": 18,
     "metadata": {},
     "output_type": "execute_result"
    }
   ],
   "source": [
    "X_train"
   ]
  },
  {
   "cell_type": "code",
   "execution_count": 19,
   "metadata": {
    "ExecuteTime": {
     "end_time": "2020-06-11T01:30:27.199290Z",
     "start_time": "2020-06-11T01:30:27.196298Z"
    },
    "scrolled": true
   },
   "outputs": [],
   "source": [
    "#pipeline = Pipeline(steps=[('dataprep', StandardScaler()),\n",
    "#                           ('model', LogisticRegression())\n",
    "#                          ])\n",
    "\n",
    "#pipeline.fit(X_train, y_train)"
   ]
  },
  {
   "cell_type": "markdown",
   "metadata": {},
   "source": [
    "## Pipeline steps:\n",
    "\n",
    "My pipeline can usually be written in terms of `preprocessing` $\\to$ `modelling`"
   ]
  },
  {
   "cell_type": "markdown",
   "metadata": {},
   "source": [
    "## Preprocessing Step"
   ]
  },
  {
   "cell_type": "markdown",
   "metadata": {},
   "source": [
    "### For categorical columns I want to\n",
    "1. Input missing using the `most_frequent` strategy\n",
    "2. Create a `OrdinalEncoder` to represent strings as ordered numbers\n",
    "\n",
    "### For numericals columns I want to\n",
    "1. Input missing using the `median` strategy\n",
    "2. Transform data using a `StandardScaler`"
   ]
  },
  {
   "cell_type": "markdown",
   "metadata": {},
   "source": [
    "## Selecting categorical columns"
   ]
  },
  {
   "cell_type": "code",
   "execution_count": 20,
   "metadata": {
    "ExecuteTime": {
     "end_time": "2020-06-11T01:30:27.207268Z",
     "start_time": "2020-06-11T01:30:27.200287Z"
    }
   },
   "outputs": [
    {
     "data": {
      "text/plain": [
       "['Gender',\n",
       " 'Married',\n",
       " 'Dependents',\n",
       " 'Education',\n",
       " 'Self_Employed',\n",
       " 'Property_Area']"
      ]
     },
     "execution_count": 20,
     "metadata": {},
     "output_type": "execute_result"
    }
   ],
   "source": [
    "cat_columns = list(X_train.select_dtypes('object').columns)\n",
    "cat_columns"
   ]
  },
  {
   "cell_type": "markdown",
   "metadata": {},
   "source": [
    "### Creating categorical imputer"
   ]
  },
  {
   "cell_type": "code",
   "execution_count": 21,
   "metadata": {
    "ExecuteTime": {
     "end_time": "2020-06-11T01:30:27.232230Z",
     "start_time": "2020-06-11T01:30:27.210261Z"
    }
   },
   "outputs": [],
   "source": [
    "from sklearn.impute import SimpleImputer\n",
    "\n",
    "categorical_imputer = SimpleImputer(strategy='most_frequent')"
   ]
  },
  {
   "cell_type": "markdown",
   "metadata": {},
   "source": [
    "### Creating categorical encoder "
   ]
  },
  {
   "cell_type": "code",
   "execution_count": 22,
   "metadata": {
    "ExecuteTime": {
     "end_time": "2020-06-11T01:30:27.237189Z",
     "start_time": "2020-06-11T01:30:27.233199Z"
    }
   },
   "outputs": [],
   "source": [
    "from sklearn.preprocessing import OrdinalEncoder, OneHotEncoder\n",
    "\n",
    "ordinal_encoder = OrdinalEncoder()\n",
    "onehotencoder = OneHotEncoder(drop='first',  handle_unknown='error')"
   ]
  },
  {
   "cell_type": "markdown",
   "metadata": {},
   "source": [
    "## Selecting numerical columns"
   ]
  },
  {
   "cell_type": "code",
   "execution_count": 23,
   "metadata": {
    "ExecuteTime": {
     "end_time": "2020-06-11T01:30:27.248160Z",
     "start_time": "2020-06-11T01:30:27.238186Z"
    }
   },
   "outputs": [
    {
     "data": {
      "text/plain": [
       "['ApplicantIncome',\n",
       " 'CoapplicantIncome',\n",
       " 'LoanAmount',\n",
       " 'Loan_Amount_Term',\n",
       " 'Credit_History']"
      ]
     },
     "execution_count": 23,
     "metadata": {},
     "output_type": "execute_result"
    }
   ],
   "source": [
    "num_columns = list(X_train.select_dtypes(exclude='object').columns)\n",
    "num_columns"
   ]
  },
  {
   "cell_type": "markdown",
   "metadata": {},
   "source": [
    "### Creating numerical imputer"
   ]
  },
  {
   "cell_type": "code",
   "execution_count": 24,
   "metadata": {
    "ExecuteTime": {
     "end_time": "2020-06-11T01:30:27.254143Z",
     "start_time": "2020-06-11T01:30:27.250154Z"
    }
   },
   "outputs": [],
   "source": [
    "numerical_imputer = SimpleImputer(strategy='median')"
   ]
  },
  {
   "cell_type": "markdown",
   "metadata": {},
   "source": [
    "### Creating numerical scaler"
   ]
  },
  {
   "cell_type": "code",
   "execution_count": 25,
   "metadata": {
    "ExecuteTime": {
     "end_time": "2020-06-11T01:30:27.259130Z",
     "start_time": "2020-06-11T01:30:27.255140Z"
    }
   },
   "outputs": [],
   "source": [
    "from sklearn.preprocessing import StandardScaler\n",
    "scaler = StandardScaler()"
   ]
  },
  {
   "cell_type": "markdown",
   "metadata": {},
   "source": [
    "## Create Pipeline \n",
    "\n",
    "In order to perform a steps for specific columns, we'll need to create a pipeline of pipelines. Let's see how:"
   ]
  },
  {
   "cell_type": "code",
   "execution_count": 26,
   "metadata": {
    "ExecuteTime": {
     "end_time": "2020-06-11T01:30:27.263146Z",
     "start_time": "2020-06-11T01:30:27.260127Z"
    }
   },
   "outputs": [],
   "source": [
    "from sklearn.pipeline import Pipeline"
   ]
  },
  {
   "cell_type": "markdown",
   "metadata": {},
   "source": [
    "### Create a pipeline for the categorical and numerical columns"
   ]
  },
  {
   "cell_type": "code",
   "execution_count": 27,
   "metadata": {
    "ExecuteTime": {
     "end_time": "2020-06-11T01:30:27.269130Z",
     "start_time": "2020-06-11T01:30:27.264117Z"
    }
   },
   "outputs": [],
   "source": [
    "categorical_pipeline = Pipeline(steps=[('missing', categorical_imputer),\n",
    "                                       ('encode', onehotencoder)])"
   ]
  },
  {
   "cell_type": "code",
   "execution_count": 28,
   "metadata": {
    "ExecuteTime": {
     "end_time": "2020-06-11T01:30:27.274115Z",
     "start_time": "2020-06-11T01:30:27.270100Z"
    }
   },
   "outputs": [],
   "source": [
    "numerical_pipeline = Pipeline(steps=[('missing', numerical_imputer),\n",
    "                                     ('standardize', scaler)])"
   ]
  },
  {
   "cell_type": "markdown",
   "metadata": {},
   "source": [
    "### Create a composition of these two pipelines\n",
    "\n",
    "Using ColumnTransformer, you can specify the columns for which you want the pipeline to be used. This will be my whole `dataprep` step.\n",
    "\n",
    "ColumnsTransformer requires `triple named tuples`, that is, tuples like:\n",
    "\n",
    "```[('name_of_transformation', pipeline, features_to_apply_pipeline), ... ]\n",
    "```"
   ]
  },
  {
   "cell_type": "code",
   "execution_count": 29,
   "metadata": {
    "ExecuteTime": {
     "end_time": "2020-06-11T01:30:27.281071Z",
     "start_time": "2020-06-11T01:30:27.275086Z"
    }
   },
   "outputs": [],
   "source": [
    "from sklearn.compose import ColumnTransformer\n",
    "\n",
    "dataprep = ColumnTransformer(transformers=[('numerical_transform', numerical_pipeline, num_columns),\n",
    "                                           ('categ_transform', categorical_pipeline, cat_columns)])"
   ]
  },
  {
   "cell_type": "markdown",
   "metadata": {},
   "source": [
    "### Create modelling step"
   ]
  },
  {
   "cell_type": "code",
   "execution_count": 30,
   "metadata": {
    "ExecuteTime": {
     "end_time": "2020-06-11T01:30:27.286058Z",
     "start_time": "2020-06-11T01:30:27.283066Z"
    }
   },
   "outputs": [],
   "source": [
    "from sklearn.linear_model import LogisticRegression\n",
    "\n",
    "model = LogisticRegression(C=0.1)"
   ]
  },
  {
   "cell_type": "code",
   "execution_count": 31,
   "metadata": {
    "ExecuteTime": {
     "end_time": "2020-06-11T01:30:27.292042Z",
     "start_time": "2020-06-11T01:30:27.288053Z"
    }
   },
   "outputs": [],
   "source": [
    "pipeline = Pipeline(steps=[('preprocessing', dataprep),\n",
    "                           ('modelling', model)])"
   ]
  },
  {
   "cell_type": "code",
   "execution_count": 32,
   "metadata": {
    "ExecuteTime": {
     "end_time": "2020-06-11T01:30:27.383796Z",
     "start_time": "2020-06-11T01:30:27.296031Z"
    },
    "scrolled": true
   },
   "outputs": [
    {
     "data": {
      "text/plain": [
       "Pipeline(steps=[('preprocessing',\n",
       "                 ColumnTransformer(transformers=[('numerical_transform',\n",
       "                                                  Pipeline(steps=[('missing',\n",
       "                                                                   SimpleImputer(strategy='median')),\n",
       "                                                                  ('standardize',\n",
       "                                                                   StandardScaler())]),\n",
       "                                                  ['ApplicantIncome',\n",
       "                                                   'CoapplicantIncome',\n",
       "                                                   'LoanAmount',\n",
       "                                                   'Loan_Amount_Term',\n",
       "                                                   'Credit_History']),\n",
       "                                                 ('categ_transform',\n",
       "                                                  Pipeline(steps=[('missing',\n",
       "                                                                   SimpleImputer(strategy='most_frequent')),\n",
       "                                                                  ('encode',\n",
       "                                                                   OneHotEncoder(drop='first'))]),\n",
       "                                                  ['Gender', 'Married',\n",
       "                                                   'Dependents', 'Education',\n",
       "                                                   'Self_Employed',\n",
       "                                                   'Property_Area'])])),\n",
       "                ('modelling', LogisticRegression(C=0.1))])"
      ]
     },
     "execution_count": 32,
     "metadata": {},
     "output_type": "execute_result"
    }
   ],
   "source": [
    "pipeline"
   ]
  },
  {
   "cell_type": "code",
   "execution_count": 33,
   "metadata": {
    "ExecuteTime": {
     "end_time": "2020-06-11T01:30:27.508664Z",
     "start_time": "2020-06-11T01:30:27.384794Z"
    }
   },
   "outputs": [
    {
     "data": {
      "text/plain": [
       "Pipeline(steps=[('preprocessing',\n",
       "                 ColumnTransformer(transformers=[('numerical_transform',\n",
       "                                                  Pipeline(steps=[('missing',\n",
       "                                                                   SimpleImputer(strategy='median')),\n",
       "                                                                  ('standardize',\n",
       "                                                                   StandardScaler())]),\n",
       "                                                  ['ApplicantIncome',\n",
       "                                                   'CoapplicantIncome',\n",
       "                                                   'LoanAmount',\n",
       "                                                   'Loan_Amount_Term',\n",
       "                                                   'Credit_History']),\n",
       "                                                 ('categ_transform',\n",
       "                                                  Pipeline(steps=[('missing',\n",
       "                                                                   SimpleImputer(strategy='most_frequent')),\n",
       "                                                                  ('encode',\n",
       "                                                                   OneHotEncoder(drop='first'))]),\n",
       "                                                  ['Gender', 'Married',\n",
       "                                                   'Dependents', 'Education',\n",
       "                                                   'Self_Employed',\n",
       "                                                   'Property_Area'])])),\n",
       "                ('modelling', LogisticRegression(C=0.1))])"
      ]
     },
     "execution_count": 33,
     "metadata": {},
     "output_type": "execute_result"
    }
   ],
   "source": [
    "pipeline.fit(X_train, y_train)"
   ]
  },
  {
   "cell_type": "code",
   "execution_count": 34,
   "metadata": {
    "ExecuteTime": {
     "end_time": "2020-06-11T01:30:27.520632Z",
     "start_time": "2020-06-11T01:30:27.509662Z"
    }
   },
   "outputs": [
    {
     "data": {
      "text/plain": [
       "array([1, 1, 1, 1, 1, 1, 0, 0, 1, 1, 1, 1, 0, 1, 1, 1, 1, 1, 1, 1, 1, 1,\n",
       "       1, 0, 1, 1, 1, 1, 1, 1, 1, 1, 1, 1, 1, 0, 1, 1, 1, 1, 1, 0, 1, 1,\n",
       "       0, 1, 1, 1, 1, 1, 1, 1, 0, 1, 1, 1, 1, 1, 1, 1, 1, 1, 0, 1, 1, 1,\n",
       "       0, 1, 1, 0, 0, 1, 1, 1, 1, 1, 1, 1, 1, 1, 1, 1, 1, 1, 1, 1, 1, 1,\n",
       "       1, 1, 1, 1, 1, 1, 1, 1, 1, 1, 0, 1, 1, 1, 1, 1, 0, 1, 1, 1, 0, 1,\n",
       "       1, 1, 1, 0, 1, 1, 1, 1, 1, 1, 1, 1, 1], dtype=int64)"
      ]
     },
     "execution_count": 34,
     "metadata": {},
     "output_type": "execute_result"
    }
   ],
   "source": [
    "pipeline.predict(X_test)"
   ]
  },
  {
   "cell_type": "code",
   "execution_count": 35,
   "metadata": {
    "ExecuteTime": {
     "end_time": "2020-06-11T01:30:27.535592Z",
     "start_time": "2020-06-11T01:30:27.521630Z"
    }
   },
   "outputs": [
    {
     "data": {
      "text/plain": [
       "array([[0.18520833, 0.81479167],\n",
       "       [0.25377984, 0.74622016],\n",
       "       [0.24900871, 0.75099129],\n",
       "       [0.16373461, 0.83626539],\n",
       "       [0.26047577, 0.73952423],\n",
       "       [0.22825846, 0.77174154],\n",
       "       [0.85829542, 0.14170458],\n",
       "       [0.83364662, 0.16635338],\n",
       "       [0.29754421, 0.70245579],\n",
       "       [0.13452804, 0.86547196],\n",
       "       [0.24715974, 0.75284026],\n",
       "       [0.20096516, 0.79903484],\n",
       "       [0.88799906, 0.11200094],\n",
       "       [0.21713704, 0.78286296],\n",
       "       [0.18278579, 0.81721421],\n",
       "       [0.13523479, 0.86476521],\n",
       "       [0.14388118, 0.85611882],\n",
       "       [0.23327741, 0.76672259],\n",
       "       [0.18214674, 0.81785326],\n",
       "       [0.22129053, 0.77870947],\n",
       "       [0.17992072, 0.82007928],\n",
       "       [0.2506581 , 0.7493419 ],\n",
       "       [0.26462065, 0.73537935],\n",
       "       [0.90175779, 0.09824221],\n",
       "       [0.20769796, 0.79230204],\n",
       "       [0.26574937, 0.73425063],\n",
       "       [0.302068  , 0.697932  ],\n",
       "       [0.27497336, 0.72502664],\n",
       "       [0.1751402 , 0.8248598 ],\n",
       "       [0.14657341, 0.85342659],\n",
       "       [0.24878995, 0.75121005],\n",
       "       [0.18095177, 0.81904823],\n",
       "       [0.26140018, 0.73859982],\n",
       "       [0.24305649, 0.75694351],\n",
       "       [0.25731634, 0.74268366],\n",
       "       [0.86699769, 0.13300231],\n",
       "       [0.15097063, 0.84902937],\n",
       "       [0.18226326, 0.81773674],\n",
       "       [0.24588219, 0.75411781],\n",
       "       [0.2642441 , 0.7357559 ],\n",
       "       [0.20117734, 0.79882266],\n",
       "       [0.88578271, 0.11421729],\n",
       "       [0.17071939, 0.82928061],\n",
       "       [0.11966521, 0.88033479],\n",
       "       [0.84266164, 0.15733836],\n",
       "       [0.2368588 , 0.7631412 ],\n",
       "       [0.20949553, 0.79050447],\n",
       "       [0.26899966, 0.73100034],\n",
       "       [0.30468489, 0.69531511],\n",
       "       [0.13503448, 0.86496552],\n",
       "       [0.13024562, 0.86975438],\n",
       "       [0.17858475, 0.82141525],\n",
       "       [0.88132799, 0.11867201],\n",
       "       [0.17692224, 0.82307776],\n",
       "       [0.20980078, 0.79019922],\n",
       "       [0.31852232, 0.68147768],\n",
       "       [0.17085409, 0.82914591],\n",
       "       [0.1506085 , 0.8493915 ],\n",
       "       [0.24267936, 0.75732064],\n",
       "       [0.21809347, 0.78190653],\n",
       "       [0.25968375, 0.74031625],\n",
       "       [0.13821645, 0.86178355],\n",
       "       [0.88707416, 0.11292584],\n",
       "       [0.13968076, 0.86031924],\n",
       "       [0.26369476, 0.73630524],\n",
       "       [0.15999421, 0.84000579],\n",
       "       [0.8815781 , 0.1184219 ],\n",
       "       [0.18443666, 0.81556334],\n",
       "       [0.26530548, 0.73469452],\n",
       "       [0.90814645, 0.09185355],\n",
       "       [0.85584284, 0.14415716],\n",
       "       [0.27477479, 0.72522521],\n",
       "       [0.18380365, 0.81619635],\n",
       "       [0.16351122, 0.83648878],\n",
       "       [0.24358884, 0.75641116],\n",
       "       [0.29261374, 0.70738626],\n",
       "       [0.26855987, 0.73144013],\n",
       "       [0.21169482, 0.78830518],\n",
       "       [0.17556538, 0.82443462],\n",
       "       [0.18207571, 0.81792429],\n",
       "       [0.2698335 , 0.7301665 ],\n",
       "       [0.22606925, 0.77393075],\n",
       "       [0.13574878, 0.86425122],\n",
       "       [0.17971752, 0.82028248],\n",
       "       [0.15376856, 0.84623144],\n",
       "       [0.2570303 , 0.7429697 ],\n",
       "       [0.24673918, 0.75326082],\n",
       "       [0.32047169, 0.67952831],\n",
       "       [0.32864678, 0.67135322],\n",
       "       [0.25874814, 0.74125186],\n",
       "       [0.21493558, 0.78506442],\n",
       "       [0.15479177, 0.84520823],\n",
       "       [0.17167095, 0.82832905],\n",
       "       [0.16805756, 0.83194244],\n",
       "       [0.18318545, 0.81681455],\n",
       "       [0.15624081, 0.84375919],\n",
       "       [0.15170929, 0.84829071],\n",
       "       [0.15923016, 0.84076984],\n",
       "       [0.87139488, 0.12860512],\n",
       "       [0.27451678, 0.72548322],\n",
       "       [0.13501561, 0.86498439],\n",
       "       [0.18725963, 0.81274037],\n",
       "       [0.1401234 , 0.8598766 ],\n",
       "       [0.21014029, 0.78985971],\n",
       "       [0.89307437, 0.10692563],\n",
       "       [0.27646187, 0.72353813],\n",
       "       [0.16999517, 0.83000483],\n",
       "       [0.21165013, 0.78834987],\n",
       "       [0.85224265, 0.14775735],\n",
       "       [0.13691008, 0.86308992],\n",
       "       [0.19669506, 0.80330494],\n",
       "       [0.16401807, 0.83598193],\n",
       "       [0.16575135, 0.83424865],\n",
       "       [0.91081129, 0.08918871],\n",
       "       [0.18591042, 0.81408958],\n",
       "       [0.21203638, 0.78796362],\n",
       "       [0.32345524, 0.67654476],\n",
       "       [0.28611076, 0.71388924],\n",
       "       [0.21704076, 0.78295924],\n",
       "       [0.23858873, 0.76141127],\n",
       "       [0.22644938, 0.77355062],\n",
       "       [0.26222676, 0.73777324],\n",
       "       [0.31746073, 0.68253927]])"
      ]
     },
     "execution_count": 35,
     "metadata": {},
     "output_type": "execute_result"
    }
   ],
   "source": [
    "pipeline.predict_proba(X_test)"
   ]
  },
  {
   "cell_type": "code",
   "execution_count": 36,
   "metadata": {
    "ExecuteTime": {
     "end_time": "2020-06-11T01:30:27.540579Z",
     "start_time": "2020-06-11T01:30:27.537587Z"
    }
   },
   "outputs": [],
   "source": [
    "from sklearn.model_selection import cross_val_score, KFold"
   ]
  },
  {
   "cell_type": "code",
   "execution_count": 37,
   "metadata": {
    "ExecuteTime": {
     "end_time": "2020-06-11T01:30:27.802877Z",
     "start_time": "2020-06-11T01:30:27.541577Z"
    }
   },
   "outputs": [
    {
     "data": {
      "text/plain": [
       "array([0.84670232, 0.60555556, 0.89189189, 0.74912281, 0.77368421,\n",
       "       0.68793103, 0.57720588, 0.66441441, 0.79054054, 0.80882353])"
      ]
     },
     "execution_count": 37,
     "metadata": {},
     "output_type": "execute_result"
    }
   ],
   "source": [
    "cross_val_score(pipeline, X_train, y_train, scoring='roc_auc', cv=KFold(n_splits=10, shuffle=True))"
   ]
  },
  {
   "cell_type": "code",
   "execution_count": 38,
   "metadata": {
    "ExecuteTime": {
     "end_time": "2020-06-11T01:30:27.815843Z",
     "start_time": "2020-06-11T01:30:27.803875Z"
    }
   },
   "outputs": [
    {
     "data": {
      "text/plain": [
       "0.7708978328173375"
      ]
     },
     "execution_count": 38,
     "metadata": {},
     "output_type": "execute_result"
    }
   ],
   "source": [
    "roc_auc_score(y_test, pipeline.predict_proba(X_test)[:, 1])"
   ]
  },
  {
   "cell_type": "code",
   "execution_count": 39,
   "metadata": {
    "ExecuteTime": {
     "end_time": "2020-06-11T01:30:27.819832Z",
     "start_time": "2020-06-11T01:30:27.816840Z"
    }
   },
   "outputs": [],
   "source": [
    "from sklearn.model_selection import learning_curve"
   ]
  },
  {
   "cell_type": "code",
   "execution_count": 40,
   "metadata": {
    "ExecuteTime": {
     "end_time": "2020-06-11T01:30:28.336450Z",
     "start_time": "2020-06-11T01:30:27.820830Z"
    }
   },
   "outputs": [
    {
     "data": {
      "text/plain": [
       "<matplotlib.legend.Legend at 0x182c34abfd0>"
      ]
     },
     "execution_count": 40,
     "metadata": {},
     "output_type": "execute_result"
    },
    {
     "data": {
      "image/png": "[encoded data removed]",
      "text/plain": [
       "<Figure size 432x288 with 1 Axes>"
      ]
     },
     "metadata": {
      "needs_background": "light"
     },
     "output_type": "display_data"
    }
   ],
   "source": [
    "curves = learning_curve(pipeline, X_train, y_train, cv=KFold(n_splits=3, shuffle=True))\n",
    "\n",
    "train_sizes = curves[0]\n",
    "train_scores = curves[1]\n",
    "test_scores = curves[2]\n",
    "plt.plot(train_sizes, train_scores.mean(axis=1), '-o', label='Training AUC')\n",
    "plt.plot(train_sizes, test_scores.mean(axis=1), '-o', label='Testing AUC')\n",
    "plt.grid()\n",
    "plt.ylim([0.5, 1])\n",
    "plt.legend()"
   ]
  },
  {
   "cell_type": "markdown",
   "metadata": {},
   "source": [
    "I'm satisfied with ma model"
   ]
  },
  {
   "cell_type": "code",
   "execution_count": 41,
   "metadata": {
    "ExecuteTime": {
     "end_time": "2020-06-11T01:30:28.421223Z",
     "start_time": "2020-06-11T01:30:28.337447Z"
    },
    "scrolled": true
   },
   "outputs": [
    {
     "data": {
      "text/plain": [
       "Pipeline(steps=[('preprocessing',\n",
       "                 ColumnTransformer(transformers=[('numerical_transform',\n",
       "                                                  Pipeline(steps=[('missing',\n",
       "                                                                   SimpleImputer(strategy='median')),\n",
       "                                                                  ('standardize',\n",
       "                                                                   StandardScaler())]),\n",
       "                                                  ['ApplicantIncome',\n",
       "                                                   'CoapplicantIncome',\n",
       "                                                   'LoanAmount',\n",
       "                                                   'Loan_Amount_Term',\n",
       "                                                   'Credit_History']),\n",
       "                                                 ('categ_transform',\n",
       "                                                  Pipeline(steps=[('missing',\n",
       "                                                                   SimpleImputer(strategy='most_frequent')),\n",
       "                                                                  ('encode',\n",
       "                                                                   OneHotEncoder(drop='first'))]),\n",
       "                                                  ['Gender', 'Married',\n",
       "                                                   'Dependents', 'Education',\n",
       "                                                   'Self_Employed',\n",
       "                                                   'Property_Area'])])),\n",
       "                ('modelling', LogisticRegression(C=0.1))])"
      ]
     },
     "execution_count": 41,
     "metadata": {},
     "output_type": "execute_result"
    }
   ],
   "source": [
    "pipeline"
   ]
  },
  {
   "cell_type": "code",
   "execution_count": 42,
   "metadata": {
    "ExecuteTime": {
     "end_time": "2020-06-11T01:30:28.425214Z",
     "start_time": "2020-06-11T01:30:28.422220Z"
    }
   },
   "outputs": [],
   "source": [
    "# pipeline.named_steps['preprocessing'].named_transformers_['numerical_transform'].named_steps['standardize'].mean_"
   ]
  },
  {
   "cell_type": "code",
   "execution_count": 45,
   "metadata": {
    "ExecuteTime": {
     "end_time": "2020-06-11T01:30:56.381724Z",
     "start_time": "2020-06-11T01:30:56.377735Z"
    }
   },
   "outputs": [],
   "source": [
    "set_config(display='diagram')"
   ]
  },
  {
   "cell_type": "code",
   "execution_count": 46,
   "metadata": {
    "ExecuteTime": {
     "end_time": "2020-06-11T01:30:58.431837Z",
     "start_time": "2020-06-11T01:30:58.250306Z"
    }
   },
   "outputs": [
    {
     "data": {
      "text/html": [
       "<style>div.sk-top-container {color: black;background-color: white;}div.sk-toggleable {background-color: white;}label.sk-toggleable__label {cursor: pointer;display: block;width: 100%;margin-bottom: 0;padding: 0.2em 0.3em;box-sizing: border-box;text-align: center;}div.sk-toggleable__content {max-height: 0;max-width: 0;overflow: hidden;text-align: left;background-color: #f0f8ff;}div.sk-toggleable__content pre {margin: 0.2em;color: black;border-radius: 0.25em;background-color: #f0f8ff;}input.sk-toggleable__control:checked~div.sk-toggleable__content {max-height: 200px;max-width: 100%;overflow: auto;}div.sk-estimator input.sk-toggleable__control:checked~label.sk-toggleable__label {background-color: #d4ebff;}div.sk-label input.sk-toggleable__control:checked~label.sk-toggleable__label {background-color: #d4ebff;}input.sk-hidden--visually {border: 0;clip: rect(1px 1px 1px 1px);clip: rect(1px, 1px, 1px, 1px);height: 1px;margin: -1px;overflow: hidden;padding: 0;position: absolute;width: 1px;}div.sk-estimator {font-family: monospace;background-color: #f0f8ff;margin: 0.25em 0.25em;border: 1px dotted black;border-radius: 0.25em;box-sizing: border-box;}div.sk-estimator:hover {background-color: #d4ebff;}div.sk-parallel-item::after {content: \"\";width: 100%;border-bottom: 1px solid gray;flex-grow: 1;}div.sk-label:hover label.sk-toggleable__label {background-color: #d4ebff;}div.sk-serial::before {content: \"\";position: absolute;border-left: 1px solid gray;box-sizing: border-box;top: 2em;bottom: 0;left: 50%;}div.sk-serial {display: flex;flex-direction: column;align-items: center;background-color: white;}div.sk-item {z-index: 1;}div.sk-parallel {display: flex;align-items: stretch;justify-content: center;background-color: white;}div.sk-parallel-item {display: flex;flex-direction: column;position: relative;background-color: white;}div.sk-parallel-item:first-child::after {align-self: flex-end;width: 50%;}div.sk-parallel-item:last-child::after {align-self: flex-start;width: 50%;}div.sk-parallel-item:only-child::after {width: 0;}div.sk-dashed-wrapped {border: 1px dashed gray;margin: 0.2em;box-sizing: border-box;padding-bottom: 0.1em;background-color: white;position: relative;}div.sk-label label {font-family: monospace;font-weight: bold;background-color: white;display: inline-block;line-height: 1.2em;}div.sk-label-container {position: relative;z-index: 2;text-align: center;}div.sk-container {display: inline-block;position: relative;}</style><div class=\"sk-top-container\"><div class=\"sk-container\"><div class=\"sk-item sk-dashed-wrapped\"><div class=\"sk-label-container\"><div class=\"sk-label sk-toggleable\"><input class=\"sk-toggleable__control sk-hidden--visually\" id=\"6a70817e-8068-4401-b852-56ecb1833878\" type=\"checkbox\" ><label class=\"sk-toggleable__label\" for=\"6a70817e-8068-4401-b852-56ecb1833878\">Pipeline</label><div class=\"sk-toggleable__content\"><pre>Pipeline(steps=[('preprocessing',\n",
       "                 ColumnTransformer(transformers=[('numerical_transform',\n",
       "                                                  Pipeline(steps=[('missing',\n",
       "                                                                   SimpleImputer(strategy='median')),\n",
       "                                                                  ('standardize',\n",
       "                                                                   StandardScaler())]),\n",
       "                                                  ['ApplicantIncome',\n",
       "                                                   'CoapplicantIncome',\n",
       "                                                   'LoanAmount',\n",
       "                                                   'Loan_Amount_Term',\n",
       "                                                   'Credit_History']),\n",
       "                                                 ('categ_transform',\n",
       "                                                  Pipeline(steps=[('missing',\n",
       "                                                                   SimpleImputer(strategy='most_frequent')),\n",
       "                                                                  ('encode',\n",
       "                                                                   OneHotEncoder(drop='first'))]),\n",
       "                                                  ['Gender', 'Married',\n",
       "                                                   'Dependents', 'Education',\n",
       "                                                   'Self_Employed',\n",
       "                                                   'Property_Area'])])),\n",
       "                ('modelling', LogisticRegression(C=0.1))])</pre></div></div></div><div class=\"sk-serial\"><div class=\"sk-item sk-dashed-wrapped\"><div class=\"sk-label-container\"><div class=\"sk-label sk-toggleable\"><input class=\"sk-toggleable__control sk-hidden--visually\" id=\"775cafcc-3baa-424c-adb7-fd9999bae6c9\" type=\"checkbox\" ><label class=\"sk-toggleable__label\" for=\"775cafcc-3baa-424c-adb7-fd9999bae6c9\">preprocessing: ColumnTransformer</label><div class=\"sk-toggleable__content\"><pre>ColumnTransformer(transformers=[('numerical_transform',\n",
       "                                 Pipeline(steps=[('missing',\n",
       "                                                  SimpleImputer(strategy='median')),\n",
       "                                                 ('standardize',\n",
       "                                                  StandardScaler())]),\n",
       "                                 ['ApplicantIncome', 'CoapplicantIncome',\n",
       "                                  'LoanAmount', 'Loan_Amount_Term',\n",
       "                                  'Credit_History']),\n",
       "                                ('categ_transform',\n",
       "                                 Pipeline(steps=[('missing',\n",
       "                                                  SimpleImputer(strategy='most_frequent')),\n",
       "                                                 ('encode',\n",
       "                                                  OneHotEncoder(drop='first'))]),\n",
       "                                 ['Gender', 'Married', 'Dependents',\n",
       "                                  'Education', 'Self_Employed',\n",
       "                                  'Property_Area'])])</pre></div></div></div><div class=\"sk-parallel\"><div class=\"sk-parallel-item\"><div class=\"sk-item\"><div class=\"sk-label-container\"><div class=\"sk-label sk-toggleable\"><input class=\"sk-toggleable__control sk-hidden--visually\" id=\"df73ad82-33fe-4e81-aec3-394479c6ce5c\" type=\"checkbox\" ><label class=\"sk-toggleable__label\" for=\"df73ad82-33fe-4e81-aec3-394479c6ce5c\">numerical_transform</label><div class=\"sk-toggleable__content\"><pre>['ApplicantIncome', 'CoapplicantIncome', 'LoanAmount', 'Loan_Amount_Term', 'Credit_History']</pre></div></div></div><div class=\"sk-serial\"><div class=\"sk-item\"><div class=\"sk-serial\"><div class=\"sk-item\"><div class=\"sk-estimator sk-toggleable\"><input class=\"sk-toggleable__control sk-hidden--visually\" id=\"e3ef9e80-fac6-4841-9d0e-b8053971b8de\" type=\"checkbox\" ><label class=\"sk-toggleable__label\" for=\"e3ef9e80-fac6-4841-9d0e-b8053971b8de\">SimpleImputer</label><div class=\"sk-toggleable__content\"><pre>SimpleImputer(strategy='median')</pre></div></div></div><div class=\"sk-item\"><div class=\"sk-estimator sk-toggleable\"><input class=\"sk-toggleable__control sk-hidden--visually\" id=\"93f82344-f756-49e3-a787-6cb101363ec3\" type=\"checkbox\" ><label class=\"sk-toggleable__label\" for=\"93f82344-f756-49e3-a787-6cb101363ec3\">StandardScaler</label><div class=\"sk-toggleable__content\"><pre>StandardScaler()</pre></div></div></div></div></div></div></div></div><div class=\"sk-parallel-item\"><div class=\"sk-item\"><div class=\"sk-label-container\"><div class=\"sk-label sk-toggleable\"><input class=\"sk-toggleable__control sk-hidden--visually\" id=\"69882622-8b0c-4b5e-b830-90b3c1f5cd85\" type=\"checkbox\" ><label class=\"sk-toggleable__label\" for=\"69882622-8b0c-4b5e-b830-90b3c1f5cd85\">categ_transform</label><div class=\"sk-toggleable__content\"><pre>['Gender', 'Married', 'Dependents', 'Education', 'Self_Employed', 'Property_Area']</pre></div></div></div><div class=\"sk-serial\"><div class=\"sk-item\"><div class=\"sk-serial\"><div class=\"sk-item\"><div class=\"sk-estimator sk-toggleable\"><input class=\"sk-toggleable__control sk-hidden--visually\" id=\"de8a3ed8-38ea-4a2a-8910-d2fa4d618e67\" type=\"checkbox\" ><label class=\"sk-toggleable__label\" for=\"de8a3ed8-38ea-4a2a-8910-d2fa4d618e67\">SimpleImputer</label><div class=\"sk-toggleable__content\"><pre>SimpleImputer(strategy='most_frequent')</pre></div></div></div><div class=\"sk-item\"><div class=\"sk-estimator sk-toggleable\"><input class=\"sk-toggleable__control sk-hidden--visually\" id=\"e0e52ef4-32fc-4e8c-a21c-f4dcd37174cc\" type=\"checkbox\" ><label class=\"sk-toggleable__label\" for=\"e0e52ef4-32fc-4e8c-a21c-f4dcd37174cc\">OneHotEncoder</label><div class=\"sk-toggleable__content\"><pre>OneHotEncoder(drop='first')</pre></div></div></div></div></div></div></div></div></div></div><div class=\"sk-item\"><div class=\"sk-estimator sk-toggleable\"><input class=\"sk-toggleable__control sk-hidden--visually\" id=\"0d8ec6f7-9dad-43c6-aecb-83712426d2f5\" type=\"checkbox\" ><label class=\"sk-toggleable__label\" for=\"0d8ec6f7-9dad-43c6-aecb-83712426d2f5\">LogisticRegression</label><div class=\"sk-toggleable__content\"><pre>LogisticRegression(C=0.1)</pre></div></div></div></div></div></div></div>"
      ],
      "text/plain": [
       "Pipeline(steps=[('preprocessing',\n",
       "                 ColumnTransformer(transformers=[('numerical_transform',\n",
       "                                                  Pipeline(steps=[('missing',\n",
       "                                                                   SimpleImputer(strategy='median')),\n",
       "                                                                  ('standardize',\n",
       "                                                                   StandardScaler())]),\n",
       "                                                  ['ApplicantIncome',\n",
       "                                                   'CoapplicantIncome',\n",
       "                                                   'LoanAmount',\n",
       "                                                   'Loan_Amount_Term',\n",
       "                                                   'Credit_History']),\n",
       "                                                 ('categ_transform',\n",
       "                                                  Pipeline(steps=[('missing',\n",
       "                                                                   SimpleImputer(strategy='most_frequent')),\n",
       "                                                                  ('encode',\n",
       "                                                                   OneHotEncoder(drop='first'))]),\n",
       "                                                  ['Gender', 'Married',\n",
       "                                                   'Dependents', 'Education',\n",
       "                                                   'Self_Employed',\n",
       "                                                   'Property_Area'])])),\n",
       "                ('modelling', LogisticRegression(C=0.1))])"
      ]
     },
     "execution_count": 46,
     "metadata": {},
     "output_type": "execute_result"
    }
   ],
   "source": [
    "pipeline"
   ]
  },
  {
   "cell_type": "markdown",
   "metadata": {},
   "source": [
    "# Persisting (saving) models (or any python object actually) in disk - PICKLE"
   ]
  },
  {
   "cell_type": "code",
   "execution_count": 47,
   "metadata": {
    "ExecuteTime": {
     "end_time": "2020-06-11T01:31:34.573120Z",
     "start_time": "2020-06-11T01:31:34.570128Z"
    }
   },
   "outputs": [],
   "source": [
    "import pickle"
   ]
  },
  {
   "cell_type": "code",
   "execution_count": 50,
   "metadata": {
    "ExecuteTime": {
     "end_time": "2020-06-11T01:32:21.377346Z",
     "start_time": "2020-06-11T01:32:21.372360Z"
    }
   },
   "outputs": [],
   "source": [
    "with open('model-v0.pkl','wb') as file:\n",
    "    pickle.dump(pipeline, file)"
   ]
  }
 ],
 "metadata": {
  "kernelspec": {
   "display_name": "Python 3",
   "language": "python",
   "name": "python3"
  },
  "language_info": {
   "codemirror_mode": {
    "name": "ipython",
    "version": 3
   },
   "file_extension": ".py",
   "mimetype": "text/x-python",
   "name": "python",
   "nbconvert_exporter": "python",
   "pygments_lexer": "ipython3",
   "version": "3.7.3"
  },
  "toc": {
   "base_numbering": 1,
   "nav_menu": {},
   "number_sections": true,
   "sideBar": true,
   "skip_h1_title": false,
   "title_cell": "Table of Contents",
   "title_sidebar": "Contents",
   "toc_cell": false,
   "toc_position": {},
   "toc_section_display": true,
   "toc_window_display": false
  }
 },
 "nbformat": 4,
 "nbformat_minor": 2
}
