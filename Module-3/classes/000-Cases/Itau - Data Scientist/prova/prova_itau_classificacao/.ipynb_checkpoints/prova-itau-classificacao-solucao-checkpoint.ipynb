{
 "cells": [
  {
   "cell_type": "markdown",
   "metadata": {},
   "source": [
    "import pandas as pd\n",
    "import numpy as np\n",
    "# ^^^ pyforest auto-imports - don't write above this line\n",
    "# Prova Itaú - Classificação"
   ]
  },
  {
   "cell_type": "markdown",
   "metadata": {},
   "source": [
    "# Prova 1."
   ]
  },
  {
   "cell_type": "markdown",
   "metadata": {},
   "source": [
    "## Questão 3) \n",
    "\n",
    "Considerando os dados presentes no arquivo class01.csv, treine o algoritmo Naive Bayes Gaussiano utilizando a metodologia de validação cruzada holdout (utilize para treino as 350 primeiras linhas e para validação as demais). Qual o valor da acurácia para a base de treino? Qual o valor da acurácia para a base de validação? Faça o mesmo treinamento com a metodologia Leave-One-Out. Qual o valor da acurácia média para a base de treino? Qual o valor da acurácia média para a base de validação?"
   ]
  },
  {
   "cell_type": "code",
   "execution_count": 1,
   "metadata": {
    "ExecuteTime": {
     "end_time": "2020-05-07T13:08:54.324123Z",
     "start_time": "2020-05-07T13:08:53.997990Z"
    }
   },
   "outputs": [
    {
     "data": {
      "application/javascript": [
       "\n",
       "        if (window._pyforest_update_imports_cell) { window._pyforest_update_imports_cell('import pandas as pd'); }\n",
       "    "
      ],
      "text/plain": [
       "<IPython.core.display.Javascript object>"
      ]
     },
     "metadata": {},
     "output_type": "display_data"
    }
   ],
   "source": [
    "df = pd.read_csv('class01.csv')\n",
    "\n",
    "X = df.drop('target', axis=1)\n",
    "y = df.target"
   ]
  },
  {
   "cell_type": "code",
   "execution_count": 24,
   "metadata": {
    "ExecuteTime": {
     "end_time": "2020-05-06T20:41:06.655692Z",
     "start_time": "2020-05-06T20:41:06.653669Z"
    }
   },
   "outputs": [],
   "source": [
    "from sklearn.model_selection import train_test_split"
   ]
  },
  {
   "cell_type": "code",
   "execution_count": 26,
   "metadata": {
    "ExecuteTime": {
     "end_time": "2020-05-06T20:41:32.310766Z",
     "start_time": "2020-05-06T20:41:32.303785Z"
    }
   },
   "outputs": [],
   "source": [
    "X_train, X_test, y_train, y_test = train_test_split(X, y, train_size=350, shuffle=False)"
   ]
  },
  {
   "cell_type": "code",
   "execution_count": 28,
   "metadata": {
    "ExecuteTime": {
     "end_time": "2020-05-06T20:41:46.561907Z",
     "start_time": "2020-05-06T20:41:46.557917Z"
    }
   },
   "outputs": [],
   "source": [
    "X_train = X.loc[:349, :]\n",
    "y_train = y.loc[:349]\n",
    "\n",
    "X_test = X.loc[350:, :]\n",
    "y_test = y.loc[350:]"
   ]
  },
  {
   "cell_type": "code",
   "execution_count": 29,
   "metadata": {
    "ExecuteTime": {
     "end_time": "2020-05-06T20:42:44.322948Z",
     "start_time": "2020-05-06T20:42:44.319956Z"
    }
   },
   "outputs": [],
   "source": [
    "from sklearn.naive_bayes import GaussianNB"
   ]
  },
  {
   "cell_type": "code",
   "execution_count": 30,
   "metadata": {
    "ExecuteTime": {
     "end_time": "2020-05-06T20:43:07.399848Z",
     "start_time": "2020-05-06T20:43:07.392867Z"
    }
   },
   "outputs": [
    {
     "data": {
      "text/plain": [
       "GaussianNB(priors=None, var_smoothing=1e-09)"
      ]
     },
     "execution_count": 30,
     "metadata": {},
     "output_type": "execute_result"
    }
   ],
   "source": [
    "model = GaussianNB()\n",
    "\n",
    "model.fit(X_train, y_train)"
   ]
  },
  {
   "cell_type": "code",
   "execution_count": 32,
   "metadata": {
    "ExecuteTime": {
     "end_time": "2020-05-06T20:43:56.406647Z",
     "start_time": "2020-05-06T20:43:56.396674Z"
    }
   },
   "outputs": [
    {
     "name": "stdout",
     "output_type": "stream",
     "text": [
      "Acurácia para a base de treino:  0.76\n",
      "Acurácia para a base de validação:  0.6276923076923077\n"
     ]
    }
   ],
   "source": [
    "print('Acurácia para a base de treino: ', model.score(X_train, y_train) )\n",
    "print('Acurácia para a base de validação: ', model.score(X_test, y_test) )"
   ]
  },
  {
   "cell_type": "code",
   "execution_count": 33,
   "metadata": {
    "ExecuteTime": {
     "end_time": "2020-05-06T20:44:43.298736Z",
     "start_time": "2020-05-06T20:44:43.295743Z"
    }
   },
   "outputs": [],
   "source": [
    "from sklearn.model_selection import LeaveOneOut"
   ]
  },
  {
   "cell_type": "code",
   "execution_count": 34,
   "metadata": {
    "ExecuteTime": {
     "end_time": "2020-05-06T20:44:48.674149Z",
     "start_time": "2020-05-06T20:44:48.670159Z"
    }
   },
   "outputs": [],
   "source": [
    "cv = LeaveOneOut()"
   ]
  },
  {
   "cell_type": "code",
   "execution_count": 36,
   "metadata": {
    "ExecuteTime": {
     "end_time": "2020-05-06T20:48:49.672934Z",
     "start_time": "2020-05-06T20:48:42.533828Z"
    }
   },
   "outputs": [
    {
     "name": "stdout",
     "output_type": "stream",
     "text": [
      "Acurácia média para a base de treino:  0.6892802802802803\n",
      "Acurácia média para a base de validação:  0.642\n"
     ]
    }
   ],
   "source": [
    "scores_train = []\n",
    "scores_test = []\n",
    "\n",
    "for train_index, test_index in cv.split(X):\n",
    "    X_train, X_test = X.iloc[train_index], X.iloc[test_index]\n",
    "    y_train, y_test = y.iloc[train_index], y.iloc[test_index]\n",
    "    \n",
    "    model.fit(X_train, y_train)\n",
    "    scores_train.append(model.score(X_train, y_train))\n",
    "    scores_test.append(model.score(X_test, y_test))\n",
    "    \n",
    "\n",
    "import numpy as np\n",
    "\n",
    "print('Acurácia média para a base de treino: ', np.mean(scores_train))\n",
    "print('Acurácia média para a base de validação: ', np.mean(scores_test))"
   ]
  },
  {
   "cell_type": "code",
   "execution_count": 38,
   "metadata": {
    "ExecuteTime": {
     "end_time": "2020-05-06T20:49:44.292642Z",
     "start_time": "2020-05-06T20:49:44.289651Z"
    }
   },
   "outputs": [],
   "source": [
    "from sklearn.model_selection import cross_val_score, cross_validate"
   ]
  },
  {
   "cell_type": "code",
   "execution_count": 40,
   "metadata": {
    "ExecuteTime": {
     "end_time": "2020-05-06T20:51:36.026031Z",
     "start_time": "2020-05-06T20:51:28.595995Z"
    }
   },
   "outputs": [
    {
     "name": "stdout",
     "output_type": "stream",
     "text": [
      "Acurácia média para a base de treino:  0.6892802802802803\n",
      "Acurácia média para a base de validação:  0.642\n"
     ]
    }
   ],
   "source": [
    "results = cross_validate(GaussianNB(), X, y, cv=LeaveOneOut(), return_train_score=True)\n",
    "\n",
    "print('Acurácia média para a base de treino: ', np.mean(results['train_score']))\n",
    "print('Acurácia média para a base de validação: ', np.mean(results['test_score']))"
   ]
  },
  {
   "cell_type": "markdown",
   "metadata": {},
   "source": [
    "## Questão 4) \n",
    "\n",
    "Considerando os dados presentes no arquivo class02.csv, treine o algoritmo 10-Nearest Neighbors (KNN com 𝑘=10 e distância Euclidiana), utilizando a metodologia de validação cruzada k-fold com 10 folds não estratificados. Considere que a primeira pasta de validação seja formada pelas primeiras 10% linhas do arquivo, que a segunda pasta de validação seja formada pelas 10% linhas seguintes, e assim por diante, até atingir a última pasta, formada pelas 10% linhas finais da base. Qual o valor médio da acurácia para a base de validação?"
   ]
  },
  {
   "cell_type": "code",
   "execution_count": 45,
   "metadata": {
    "ExecuteTime": {
     "end_time": "2020-05-06T20:57:55.274361Z",
     "start_time": "2020-05-06T20:57:55.242434Z"
    }
   },
   "outputs": [],
   "source": [
    "df = pd.read_csv('class02.csv')"
   ]
  },
  {
   "cell_type": "code",
   "execution_count": 46,
   "metadata": {
    "ExecuteTime": {
     "end_time": "2020-05-06T20:57:55.875368Z",
     "start_time": "2020-05-06T20:57:55.870382Z"
    }
   },
   "outputs": [],
   "source": [
    "X = df.drop('target', axis=1)\n",
    "y = df.target"
   ]
  },
  {
   "cell_type": "code",
   "execution_count": 47,
   "metadata": {
    "ExecuteTime": {
     "end_time": "2020-05-06T20:58:47.836405Z",
     "start_time": "2020-05-06T20:58:47.833413Z"
    }
   },
   "outputs": [],
   "source": [
    "from sklearn.neighbors import KNeighborsClassifier"
   ]
  },
  {
   "cell_type": "code",
   "execution_count": 51,
   "metadata": {
    "ExecuteTime": {
     "end_time": "2020-05-06T21:03:00.332713Z",
     "start_time": "2020-05-06T21:03:00.329723Z"
    }
   },
   "outputs": [],
   "source": [
    "knn = KNeighborsClassifier(n_neighbors=10, p=2, metric='minkowski')"
   ]
  },
  {
   "cell_type": "code",
   "execution_count": 52,
   "metadata": {
    "ExecuteTime": {
     "end_time": "2020-05-06T21:03:00.611067Z",
     "start_time": "2020-05-06T21:03:00.607078Z"
    }
   },
   "outputs": [],
   "source": [
    "from sklearn.model_selection import KFold\n",
    "\n",
    "cv = KFold(n_splits=10)"
   ]
  },
  {
   "cell_type": "code",
   "execution_count": 60,
   "metadata": {
    "ExecuteTime": {
     "end_time": "2020-05-06T21:04:48.442617Z",
     "start_time": "2020-05-06T21:04:48.439596Z"
    }
   },
   "outputs": [],
   "source": [
    "from sklearn.preprocessing import StandardScaler"
   ]
  },
  {
   "cell_type": "code",
   "execution_count": 61,
   "metadata": {
    "ExecuteTime": {
     "end_time": "2020-05-06T21:04:55.842553Z",
     "start_time": "2020-05-06T21:04:55.320949Z"
    }
   },
   "outputs": [
    {
     "name": "stdout",
     "output_type": "stream",
     "text": [
      "Acurácia média para a base de validação:  0.758\n"
     ]
    }
   ],
   "source": [
    "results = cross_val_score(knn, StandardScaler().fit_transform(X), y, cv=cv)\n",
    "\n",
    "print('Acurácia média para a base de validação: ', np.mean(results))"
   ]
  },
  {
   "cell_type": "code",
   "execution_count": 63,
   "metadata": {
    "ExecuteTime": {
     "end_time": "2020-05-06T21:05:52.594150Z",
     "start_time": "2020-05-06T21:05:49.131467Z"
    }
   },
   "outputs": [
    {
     "name": "stdout",
     "output_type": "stream",
     "text": [
      "Acurácia média para a base de treino:  0.8204444444444444\n",
      "Acurácia média para a base de validação:  0.758\n"
     ]
    }
   ],
   "source": [
    "results = cross_validate(KNeighborsClassifier(n_neighbors=10), \n",
    "                         StandardScaler().fit_transform(X), \n",
    "                         y, \n",
    "                         cv=KFold(n_splits=10), \n",
    "                         return_train_score=True)\n",
    "\n",
    "print('Acurácia média para a base de treino: ', np.mean(results['train_score']))\n",
    "print('Acurácia média para a base de validação: ', np.mean(results['test_score']))"
   ]
  },
  {
   "cell_type": "markdown",
   "metadata": {},
   "source": [
    "## Questão 5 \n",
    "\n",
    "Assinale as alternativas com V ou F para Verdadeiro ou Falso respectivamente. Atente para o fato que uma questão errada anula uma certa. Em caso de dúvidas deixe em branco."
   ]
  },
  {
   "cell_type": "markdown",
   "metadata": {},
   "source": [
    "(**F**) No método KNN, o melhor valor de 𝑘 é igual a 𝑛 (𝑛 = número de exemplos), porém dado o custo computacional, valores pequenos de 𝑘 são preferidos."
   ]
  },
  {
   "cell_type": "markdown",
   "metadata": {},
   "source": [
    "<u> Falso, quando k é igual n, o modelo tende a ser o menos complexo possível - na prática (sem considerar pesos) todas as observações terão a mesma probabilidade - que será a média da base. Além disso, seria uma forma computacionalmente cara de calcular a média.</u>"
   ]
  },
  {
   "cell_type": "markdown",
   "metadata": {},
   "source": [
    "(**F**) As folhas de uma Árvore de Decisão são obtidas objetivando-se minimizar a pureza entre classes."
   ]
  },
  {
   "cell_type": "markdown",
   "metadata": {},
   "source": [
    "<u> Como a pureza é um conceito do quão homogêneo é cada folha de uma árvore, a árvore de decisão tem o objetivo de **maximizar** a pureza. O objetivo é separar os dados da melhor forma possível. Ele minimiza a entropia ou o gini, e isso significa maximizar a pureza dos dados. </u>"
   ]
  },
  {
   "cell_type": "markdown",
   "metadata": {},
   "source": [
    "(**V**) Uma Árvore de Decisão completa (profundidade máxima possível) tem maior chance de fazer overfitting nos dados do que uma árvore com profundidade limitada.\n",
    "\n",
    "<u>A profundidade máxima possível sempre vai decorar todos os dados. Significa que vai existir uma folha pra cada observação.</u>"
   ]
  },
  {
   "cell_type": "markdown",
   "metadata": {},
   "source": [
    "( ) Para utilizar uma rede neural em um problema multiclasse é necessário o uso de estratégias como One-Vs-One e One-Vs-Rest."
   ]
  },
  {
   "cell_type": "markdown",
   "metadata": {},
   "source": [
    "<u>Pulei</u>"
   ]
  },
  {
   "cell_type": "markdown",
   "metadata": {},
   "source": [
    "(**F**) Root Mean Squared Error (RMSE) é uma medida adequada para avaliar classificadores.\n",
    "\n",
    "<u> Root mean squared error é utilizado para problemas de regressão. </u>"
   ]
  },
  {
   "cell_type": "markdown",
   "metadata": {},
   "source": [
    "(**V**) Todo algoritmo de classificação possui um viés que dita a forma como cada método explora o espaço de busca pela hipótese que melhor se ajusta aos dados.\n",
    "\n",
    "<u> Cada algoritmo busca a superfície de solução de uma forma diferente: através de um plano, através de quebras, etc. </u>"
   ]
  },
  {
   "cell_type": "markdown",
   "metadata": {},
   "source": [
    "(**F**) O grau do polinômio do algoritmo Support Vector Machine (SVM) deve ser definido para todos os kernels.\n",
    "\n",
    "<u> No caso do RBF, você não determina grau de polinômio nenhum, até porque o RBF não usa polinômios, mas sim exponenciais. </u>"
   ]
  },
  {
   "cell_type": "markdown",
   "metadata": {},
   "source": [
    "( ) Uma vantagem dos algoritmos baseados em árvores é que, em sua maioria, a presença de valores faltantes (missing) não inviabiliza sua execução."
   ]
  },
  {
   "cell_type": "markdown",
   "metadata": {},
   "source": [
    "<u>Se você está se referindo aos modelos no sklearn, então é Falso. Mas se você se refere à maior facilidade de lidar com missings no contexto de árvores, então pode ser Verdadeiro. </u>"
   ]
  },
  {
   "cell_type": "markdown",
   "metadata": {},
   "source": [
    "(**F**) Utiliza-se validação out-of-time separando um conjunto de dados de forma aleatória independentemente do tempo.\n",
    "\n",
    "<u>Falso, porque a validação out-of-time é realizada justamente para levar em consideração o tempo. Ou seja, separa-se (out) do treino um período para se testar o resultado. </u>"
   ]
  },
  {
   "cell_type": "markdown",
   "metadata": {},
   "source": [
    "(**V**) O Algoritmo MLP (Multi-Layer Perceptron) é conceitualmente baseado em uma visão abstrata e simplificada de um neurônio biológico\n",
    "\n",
    "<u>MLP é baseado em composições de neurônios que podem ser ativados ou desativados para se aprender um padrão. </u>"
   ]
  },
  {
   "cell_type": "markdown",
   "metadata": {},
   "source": [
    "-----"
   ]
  },
  {
   "cell_type": "markdown",
   "metadata": {},
   "source": [
    "# Prova 2."
   ]
  },
  {
   "cell_type": "markdown",
   "metadata": {},
   "source": [
    "## Questão 3\n",
    "\n",
    "Considerando os dados presentes no arquivo classificacao_Q3.csv, treine o algoritmo Naive Bayes utilizando a metodologia de validação cruzada holdout (utilize para treino as 500 primeiras linhas e para validação as demais) Qual o valor da acurácia a base de treino? Qual o valor da acurácia média para as bases de validação?"
   ]
  },
  {
   "cell_type": "code",
   "execution_count": 24,
   "metadata": {
    "ExecuteTime": {
     "end_time": "2020-05-07T13:53:47.809122Z",
     "start_time": "2020-05-07T13:53:47.804131Z"
    }
   },
   "outputs": [],
   "source": [
    "import pandas as pd\n",
    "df = pd.read_csv('classificacao_Q3.csv')"
   ]
  },
  {
   "cell_type": "code",
   "execution_count": 26,
   "metadata": {
    "ExecuteTime": {
     "end_time": "2020-05-07T13:54:08.308979Z",
     "start_time": "2020-05-07T13:54:08.305960Z"
    }
   },
   "outputs": [],
   "source": [
    "from sklearn.model_selection import train_test_split\n"
   ]
  },
  {
   "cell_type": "code",
   "execution_count": 27,
   "metadata": {
    "ExecuteTime": {
     "end_time": "2020-05-07T13:54:24.516805Z",
     "start_time": "2020-05-07T13:54:24.512816Z"
    }
   },
   "outputs": [],
   "source": [
    "X = df.drop('Target', axis=1)\n",
    "y = df.Target"
   ]
  },
  {
   "cell_type": "code",
   "execution_count": 29,
   "metadata": {
    "ExecuteTime": {
     "end_time": "2020-05-07T13:54:34.665219Z",
     "start_time": "2020-05-07T13:54:34.660234Z"
    }
   },
   "outputs": [],
   "source": [
    "X_train, X_test, y_train, y_test = train_test_split(X, y, train_size=500, shuffle=False)"
   ]
  },
  {
   "cell_type": "code",
   "execution_count": 43,
   "metadata": {
    "ExecuteTime": {
     "end_time": "2020-05-07T14:01:31.651100Z",
     "start_time": "2020-05-07T14:01:31.645115Z"
    }
   },
   "outputs": [
    {
     "data": {
      "text/plain": [
       "0.8085106382978723"
      ]
     },
     "execution_count": 43,
     "metadata": {},
     "output_type": "execute_result"
    }
   ],
   "source": [
    "df.query('Profissao == \"b\"').Target.mean()"
   ]
  },
  {
   "cell_type": "code",
   "execution_count": 40,
   "metadata": {
    "ExecuteTime": {
     "end_time": "2020-05-07T14:00:46.403153Z",
     "start_time": "2020-05-07T14:00:46.398167Z"
    }
   },
   "outputs": [
    {
     "data": {
      "text/plain": [
       "array(['a - Ate 25 anos ', 'c - 36 a 45 anos', 'd - 46 a 55 anos',\n",
       "       'b - 26 a 35 anos', 'e - Mais 56 anos'], dtype=object)"
      ]
     },
     "execution_count": 40,
     "metadata": {},
     "output_type": "execute_result"
    }
   ],
   "source": [
    "df.Idade.unique()"
   ]
  },
  {
   "cell_type": "code",
   "execution_count": 35,
   "metadata": {
    "ExecuteTime": {
     "end_time": "2020-05-07T13:58:52.723697Z",
     "start_time": "2020-05-07T13:58:52.718710Z"
    }
   },
   "outputs": [
    {
     "data": {
      "text/plain": [
       "0.772"
      ]
     },
     "execution_count": 35,
     "metadata": {},
     "output_type": "execute_result"
    }
   ],
   "source": [
    "df.Target.mean()"
   ]
  },
  {
   "cell_type": "code",
   "execution_count": 38,
   "metadata": {
    "ExecuteTime": {
     "end_time": "2020-05-07T14:00:07.370221Z",
     "start_time": "2020-05-07T14:00:07.361202Z"
    }
   },
   "outputs": [
    {
     "data": {
      "text/html": [
       "<div>\n",
       "<style scoped>\n",
       "    .dataframe tbody tr th:only-of-type {\n",
       "        vertical-align: middle;\n",
       "    }\n",
       "\n",
       "    .dataframe tbody tr th {\n",
       "        vertical-align: top;\n",
       "    }\n",
       "\n",
       "    .dataframe thead th {\n",
       "        text-align: right;\n",
       "    }\n",
       "</style>\n",
       "<table border=\"1\" class=\"dataframe\">\n",
       "  <thead>\n",
       "    <tr style=\"text-align: right;\">\n",
       "      <th></th>\n",
       "      <th>Genero</th>\n",
       "      <th>Idade</th>\n",
       "      <th>Escolaridade</th>\n",
       "      <th>Profissao</th>\n",
       "      <th>Target</th>\n",
       "    </tr>\n",
       "  </thead>\n",
       "  <tbody>\n",
       "    <tr>\n",
       "      <th>0</th>\n",
       "      <td>F</td>\n",
       "      <td>a - Ate 25 anos</td>\n",
       "      <td>Fundamental</td>\n",
       "      <td>b</td>\n",
       "      <td>0</td>\n",
       "    </tr>\n",
       "    <tr>\n",
       "      <th>1</th>\n",
       "      <td>M</td>\n",
       "      <td>a - Ate 25 anos</td>\n",
       "      <td>Medio</td>\n",
       "      <td>d</td>\n",
       "      <td>1</td>\n",
       "    </tr>\n",
       "    <tr>\n",
       "      <th>2</th>\n",
       "      <td>F</td>\n",
       "      <td>c - 36 a 45 anos</td>\n",
       "      <td>Fundamental</td>\n",
       "      <td>a</td>\n",
       "      <td>1</td>\n",
       "    </tr>\n",
       "    <tr>\n",
       "      <th>3</th>\n",
       "      <td>M</td>\n",
       "      <td>d - 46 a 55 anos</td>\n",
       "      <td>Fundamental</td>\n",
       "      <td>a</td>\n",
       "      <td>0</td>\n",
       "    </tr>\n",
       "    <tr>\n",
       "      <th>4</th>\n",
       "      <td>F</td>\n",
       "      <td>c - 36 a 45 anos</td>\n",
       "      <td>Fundamental</td>\n",
       "      <td>b</td>\n",
       "      <td>1</td>\n",
       "    </tr>\n",
       "  </tbody>\n",
       "</table>\n",
       "</div>"
      ],
      "text/plain": [
       "  Genero             Idade Escolaridade Profissao  Target\n",
       "0      F  a - Ate 25 anos   Fundamental         b       0\n",
       "1      M  a - Ate 25 anos         Medio         d       1\n",
       "2      F  c - 36 a 45 anos  Fundamental         a       1\n",
       "3      M  d - 46 a 55 anos  Fundamental         a       0\n",
       "4      F  c - 36 a 45 anos  Fundamental         b       1"
      ]
     },
     "execution_count": 38,
     "metadata": {},
     "output_type": "execute_result"
    }
   ],
   "source": [
    "df.head()"
   ]
  },
  {
   "cell_type": "code",
   "execution_count": null,
   "metadata": {},
   "outputs": [],
   "source": [
    "P(target=1|variables) = P(target = 1) * P(target=1|genero=F) * P(target=1|Idade=a - Ate 25 anos) * P(target=1|Escolaridade=Fundamental) * P(target=1 | Profissao = b)"
   ]
  },
  {
   "cell_type": "code",
   "execution_count": 44,
   "metadata": {
    "ExecuteTime": {
     "end_time": "2020-05-07T14:01:36.316843Z",
     "start_time": "2020-05-07T14:01:36.311857Z"
    }
   },
   "outputs": [
    {
     "data": {
      "text/plain": [
       "0.2099274010700487"
      ]
     },
     "execution_count": 44,
     "metadata": {},
     "output_type": "execute_result"
    }
   ],
   "source": [
    "0.772 * 0.7993138936535163 * 0.5576923076923077 * 0.7544910179640718 * 0.8085106382978723"
   ]
  },
  {
   "cell_type": "markdown",
   "metadata": {
    "ExecuteTime": {
     "end_time": "2020-05-07T14:01:57.718869Z",
     "start_time": "2020-05-07T14:01:57.714880Z"
    }
   },
   "source": [
    "P(target=0|variables) = P(target = 0) * P(target=0|genero=F) * P(target=0|Idade=a - Ate 25 anos) * P(target=0|Escolaridade=Fundamental) * P(target=0 | Profissao = b)"
   ]
  },
  {
   "cell_type": "code",
   "execution_count": 46,
   "metadata": {
    "ExecuteTime": {
     "end_time": "2020-05-07T14:02:37.135213Z",
     "start_time": "2020-05-07T14:02:37.131223Z"
    }
   },
   "outputs": [
    {
     "data": {
      "text/plain": [
       "0.13"
      ]
     },
     "execution_count": 46,
     "metadata": {},
     "output_type": "execute_result"
    }
   ],
   "source": [
    "0.13"
   ]
  },
  {
   "cell_type": "code",
   "execution_count": 47,
   "metadata": {
    "ExecuteTime": {
     "end_time": "2020-05-07T14:03:43.088562Z",
     "start_time": "2020-05-07T14:03:43.082722Z"
    }
   },
   "outputs": [
    {
     "data": {
      "text/plain": [
       "OrdinalEncoder(categories='auto', dtype=<class 'numpy.float64'>)"
      ]
     },
     "execution_count": 47,
     "metadata": {},
     "output_type": "execute_result"
    }
   ],
   "source": [
    "encoder = OrdinalEncoder()\n",
    "encoder.fit(X_train)"
   ]
  },
  {
   "cell_type": "code",
   "execution_count": 49,
   "metadata": {
    "ExecuteTime": {
     "end_time": "2020-05-07T14:03:58.130105Z",
     "start_time": "2020-05-07T14:03:58.123125Z"
    }
   },
   "outputs": [
    {
     "data": {
      "text/plain": [
       "CategoricalNB(alpha=1.0, class_prior=None, fit_prior=True)"
      ]
     },
     "execution_count": 49,
     "metadata": {},
     "output_type": "execute_result"
    }
   ],
   "source": [
    "model.fit(encoder.transform(X_train), y_train)"
   ]
  },
  {
   "cell_type": "code",
   "execution_count": 50,
   "metadata": {
    "ExecuteTime": {
     "end_time": "2020-05-07T14:04:11.529702Z",
     "start_time": "2020-05-07T14:04:11.523719Z"
    }
   },
   "outputs": [
    {
     "data": {
      "text/plain": [
       "0.784"
      ]
     },
     "execution_count": 50,
     "metadata": {},
     "output_type": "execute_result"
    }
   ],
   "source": [
    "model.score(encoder.transform(X_test), y_test)"
   ]
  },
  {
   "cell_type": "code",
   "execution_count": 52,
   "metadata": {
    "ExecuteTime": {
     "end_time": "2020-05-07T14:05:40.938861Z",
     "start_time": "2020-05-07T14:05:40.934871Z"
    }
   },
   "outputs": [],
   "source": [
    "from sklearn.naive_bayes import GaussianNB"
   ]
  },
  {
   "cell_type": "code",
   "execution_count": 58,
   "metadata": {
    "ExecuteTime": {
     "end_time": "2020-05-07T14:05:54.748494Z",
     "start_time": "2020-05-07T14:05:54.737524Z"
    }
   },
   "outputs": [
    {
     "name": "stdout",
     "output_type": "stream",
     "text": [
      "Acurácia média para a base de treino:  0.792\n",
      "Acurácia média para a base de validação:  0.784\n"
     ]
    }
   ],
   "source": [
    "model = CategoricalNB()\n",
    "\n",
    "model.fit(encoder.fit_transform(X_train), y_train)\n",
    "\n",
    "print('Acurácia média para a base de treino: ', model.score(encoder.transform(X_train), y_train))\n",
    "print('Acurácia média para a base de validação: ', model.score(encoder.transform(X_test), y_test))"
   ]
  },
  {
   "cell_type": "code",
   "execution_count": null,
   "metadata": {},
   "outputs": [],
   "source": []
  },
  {
   "cell_type": "markdown",
   "metadata": {},
   "source": [
    "## Questão 4\n",
    "\n",
    "Considerando os dados presentes no arquivo classificacao_Q4.csv, treine o algoritmo k-Nearest Neighbors (KNN com k=15 e distância Euclidiana) utilizando a metodologia de validação cruzada k-fold com 10 folds não estratificados. Considere que a primeira pasta de validação seja formada pelas primeiras 10% linhas do arquivo, que a segunda pasta de validação seja formada pelas 10% linhas seguintes, e assim por diante, até atingir a última pasta, formada pelas 10% linhas finais da base. Qual o valor médio da acurácia para as bases de validação?"
   ]
  },
  {
   "cell_type": "code",
   "execution_count": 60,
   "metadata": {
    "ExecuteTime": {
     "end_time": "2020-05-07T14:07:08.132020Z",
     "start_time": "2020-05-07T14:07:08.078133Z"
    }
   },
   "outputs": [
    {
     "data": {
      "text/html": [
       "<div>\n",
       "<style scoped>\n",
       "    .dataframe tbody tr th:only-of-type {\n",
       "        vertical-align: middle;\n",
       "    }\n",
       "\n",
       "    .dataframe tbody tr th {\n",
       "        vertical-align: top;\n",
       "    }\n",
       "\n",
       "    .dataframe thead th {\n",
       "        text-align: right;\n",
       "    }\n",
       "</style>\n",
       "<table border=\"1\" class=\"dataframe\">\n",
       "  <thead>\n",
       "    <tr style=\"text-align: right;\">\n",
       "      <th></th>\n",
       "      <th>x0</th>\n",
       "      <th>x1</th>\n",
       "      <th>x2</th>\n",
       "      <th>x3</th>\n",
       "      <th>x4</th>\n",
       "      <th>x5</th>\n",
       "      <th>x6</th>\n",
       "      <th>x7</th>\n",
       "      <th>x8</th>\n",
       "      <th>x9</th>\n",
       "      <th>...</th>\n",
       "      <th>x90</th>\n",
       "      <th>x91</th>\n",
       "      <th>x92</th>\n",
       "      <th>x93</th>\n",
       "      <th>x94</th>\n",
       "      <th>x95</th>\n",
       "      <th>x96</th>\n",
       "      <th>x97</th>\n",
       "      <th>x98</th>\n",
       "      <th>x99</th>\n",
       "    </tr>\n",
       "  </thead>\n",
       "  <tbody>\n",
       "    <tr>\n",
       "      <th>0</th>\n",
       "      <td>1.696199</td>\n",
       "      <td>-0.792598</td>\n",
       "      <td>-0.349427</td>\n",
       "      <td>-0.464560</td>\n",
       "      <td>3.187014</td>\n",
       "      <td>0.035976</td>\n",
       "      <td>1.033274</td>\n",
       "      <td>-1.504968</td>\n",
       "      <td>0.204693</td>\n",
       "      <td>1.691204</td>\n",
       "      <td>...</td>\n",
       "      <td>-0.534360</td>\n",
       "      <td>1.488142</td>\n",
       "      <td>-0.686337</td>\n",
       "      <td>2.084970</td>\n",
       "      <td>-0.685140</td>\n",
       "      <td>-2.049451</td>\n",
       "      <td>2.015426</td>\n",
       "      <td>1.158477</td>\n",
       "      <td>-0.309441</td>\n",
       "      <td>-1.549833</td>\n",
       "    </tr>\n",
       "    <tr>\n",
       "      <th>1</th>\n",
       "      <td>-0.236696</td>\n",
       "      <td>-2.202342</td>\n",
       "      <td>0.024023</td>\n",
       "      <td>1.497700</td>\n",
       "      <td>-0.069758</td>\n",
       "      <td>-2.467088</td>\n",
       "      <td>1.126529</td>\n",
       "      <td>-0.570557</td>\n",
       "      <td>2.079251</td>\n",
       "      <td>-1.882632</td>\n",
       "      <td>...</td>\n",
       "      <td>0.498207</td>\n",
       "      <td>0.405567</td>\n",
       "      <td>0.509564</td>\n",
       "      <td>1.374071</td>\n",
       "      <td>-0.016943</td>\n",
       "      <td>-0.429280</td>\n",
       "      <td>-0.895016</td>\n",
       "      <td>1.259566</td>\n",
       "      <td>-0.354139</td>\n",
       "      <td>0.806797</td>\n",
       "    </tr>\n",
       "    <tr>\n",
       "      <th>2</th>\n",
       "      <td>-0.436683</td>\n",
       "      <td>1.563816</td>\n",
       "      <td>-0.895999</td>\n",
       "      <td>-0.580425</td>\n",
       "      <td>0.311060</td>\n",
       "      <td>-0.187369</td>\n",
       "      <td>0.805249</td>\n",
       "      <td>-2.399522</td>\n",
       "      <td>-0.578818</td>\n",
       "      <td>1.586981</td>\n",
       "      <td>...</td>\n",
       "      <td>-2.630024</td>\n",
       "      <td>0.933578</td>\n",
       "      <td>-1.285978</td>\n",
       "      <td>0.503162</td>\n",
       "      <td>0.204829</td>\n",
       "      <td>-0.753835</td>\n",
       "      <td>0.290033</td>\n",
       "      <td>1.721487</td>\n",
       "      <td>1.304518</td>\n",
       "      <td>0.478903</td>\n",
       "    </tr>\n",
       "    <tr>\n",
       "      <th>3</th>\n",
       "      <td>1.425908</td>\n",
       "      <td>0.400055</td>\n",
       "      <td>-0.305038</td>\n",
       "      <td>-0.930251</td>\n",
       "      <td>-2.214549</td>\n",
       "      <td>1.763379</td>\n",
       "      <td>-0.239868</td>\n",
       "      <td>-2.058891</td>\n",
       "      <td>-1.006533</td>\n",
       "      <td>-2.156839</td>\n",
       "      <td>...</td>\n",
       "      <td>-0.260665</td>\n",
       "      <td>-0.849927</td>\n",
       "      <td>1.402768</td>\n",
       "      <td>0.393653</td>\n",
       "      <td>-1.466818</td>\n",
       "      <td>0.152257</td>\n",
       "      <td>-4.004950</td>\n",
       "      <td>0.676342</td>\n",
       "      <td>-1.927319</td>\n",
       "      <td>1.959032</td>\n",
       "    </tr>\n",
       "    <tr>\n",
       "      <th>4</th>\n",
       "      <td>-0.186156</td>\n",
       "      <td>-0.975764</td>\n",
       "      <td>0.594660</td>\n",
       "      <td>-1.181980</td>\n",
       "      <td>-1.443414</td>\n",
       "      <td>-0.797651</td>\n",
       "      <td>-1.252608</td>\n",
       "      <td>-0.060452</td>\n",
       "      <td>0.130702</td>\n",
       "      <td>-2.343517</td>\n",
       "      <td>...</td>\n",
       "      <td>1.098563</td>\n",
       "      <td>-1.444435</td>\n",
       "      <td>-1.818126</td>\n",
       "      <td>0.446574</td>\n",
       "      <td>0.239328</td>\n",
       "      <td>0.802939</td>\n",
       "      <td>-2.035289</td>\n",
       "      <td>-1.433793</td>\n",
       "      <td>-0.218596</td>\n",
       "      <td>0.619317</td>\n",
       "    </tr>\n",
       "  </tbody>\n",
       "</table>\n",
       "<p>5 rows × 100 columns</p>\n",
       "</div>"
      ],
      "text/plain": [
       "         x0        x1        x2        x3        x4        x5        x6  \\\n",
       "0  1.696199 -0.792598 -0.349427 -0.464560  3.187014  0.035976  1.033274   \n",
       "1 -0.236696 -2.202342  0.024023  1.497700 -0.069758 -2.467088  1.126529   \n",
       "2 -0.436683  1.563816 -0.895999 -0.580425  0.311060 -0.187369  0.805249   \n",
       "3  1.425908  0.400055 -0.305038 -0.930251 -2.214549  1.763379 -0.239868   \n",
       "4 -0.186156 -0.975764  0.594660 -1.181980 -1.443414 -0.797651 -1.252608   \n",
       "\n",
       "         x7        x8        x9  ...       x90       x91       x92       x93  \\\n",
       "0 -1.504968  0.204693  1.691204  ... -0.534360  1.488142 -0.686337  2.084970   \n",
       "1 -0.570557  2.079251 -1.882632  ...  0.498207  0.405567  0.509564  1.374071   \n",
       "2 -2.399522 -0.578818  1.586981  ... -2.630024  0.933578 -1.285978  0.503162   \n",
       "3 -2.058891 -1.006533 -2.156839  ... -0.260665 -0.849927  1.402768  0.393653   \n",
       "4 -0.060452  0.130702 -2.343517  ...  1.098563 -1.444435 -1.818126  0.446574   \n",
       "\n",
       "        x94       x95       x96       x97       x98       x99  \n",
       "0 -0.685140 -2.049451  2.015426  1.158477 -0.309441 -1.549833  \n",
       "1 -0.016943 -0.429280 -0.895016  1.259566 -0.354139  0.806797  \n",
       "2  0.204829 -0.753835  0.290033  1.721487  1.304518  0.478903  \n",
       "3 -1.466818  0.152257 -4.004950  0.676342 -1.927319  1.959032  \n",
       "4  0.239328  0.802939 -2.035289 -1.433793 -0.218596  0.619317  \n",
       "\n",
       "[5 rows x 100 columns]"
      ]
     },
     "execution_count": 60,
     "metadata": {},
     "output_type": "execute_result"
    }
   ],
   "source": [
    "df = pd.read_csv('classificacao_Q4.csv')\n",
    "X = df.drop('target', axis=1)\n",
    "y = df.target\n",
    "X.head()"
   ]
  },
  {
   "cell_type": "code",
   "execution_count": 62,
   "metadata": {
    "ExecuteTime": {
     "end_time": "2020-05-07T14:07:42.245088Z",
     "start_time": "2020-05-07T14:07:42.241128Z"
    }
   },
   "outputs": [],
   "source": [
    "from sklearn.neighbors import KNeighborsClassifier\n",
    "from sklearn.model_selection import KFold, cross_validate\n",
    "from sklearn.preprocessing import StandardScaler"
   ]
  },
  {
   "cell_type": "code",
   "execution_count": 66,
   "metadata": {
    "ExecuteTime": {
     "end_time": "2020-05-07T14:14:41.876191Z",
     "start_time": "2020-05-07T14:14:38.207816Z"
    }
   },
   "outputs": [
    {
     "data": {
      "application/javascript": [
       "\n",
       "        if (window._pyforest_update_imports_cell) { window._pyforest_update_imports_cell('import pandas as pd\\nimport numpy as np'); }\n",
       "    "
      ],
      "text/plain": [
       "<IPython.core.display.Javascript object>"
      ]
     },
     "metadata": {},
     "output_type": "display_data"
    },
    {
     "name": "stdout",
     "output_type": "stream",
     "text": [
      "Acurácia média para a base de treino:  0.6597777777777778\n"
     ]
    },
    {
     "data": {
      "application/javascript": [
       "\n",
       "        if (window._pyforest_update_imports_cell) { window._pyforest_update_imports_cell('import pandas as pd\\nimport numpy as np'); }\n",
       "    "
      ],
      "text/plain": [
       "<IPython.core.display.Javascript object>"
      ]
     },
     "metadata": {},
     "output_type": "display_data"
    },
    {
     "name": "stdout",
     "output_type": "stream",
     "text": [
      "Acurácia média para a base de validação:  0.536\n"
     ]
    }
   ],
   "source": [
    "df = pd.read_csv('classificacao_Q4.csv')\n",
    "X = df.drop('target', axis=1)\n",
    "y = df.target\n",
    "\n",
    "knn = KNeighborsClassifier(n_neighbors=15, p=2, metric='minkowski')\n",
    "\n",
    "cv = KFold(n_splits=10)\n",
    "\n",
    "results = cross_validate(KNeighborsClassifier(n_neighbors=15), \n",
    "                         StandardScaler().fit_transform(X), \n",
    "                         y, \n",
    "                         cv=KFold(n_splits=10), \n",
    "                         return_train_score=True)\n",
    "\n",
    "print('Acurácia média para a base de treino: ', np.mean(results['train_score']))\n",
    "print('Acurácia média para a base de validação: ', np.mean(results['test_score']))\n"
   ]
  },
  {
   "cell_type": "markdown",
   "metadata": {},
   "source": [
    "## Questão 5) \n",
    "\n",
    "Assinale as alternativas com V ou F para Verdadeiro ou Falso respectivamente. Atente para o fato que uma questão errada anula uma certa. Em caso de dúvidas deixe em branco."
   ]
  },
  {
   "cell_type": "markdown",
   "metadata": {},
   "source": [
    "(**V**) Árvores de decisão podem ser utilizadas para categorizar variáveis e, também, para descobrir regras que mostram interações entre variáveis.\n",
    "\n",
    "<u>Usa-se uma variável contínua para se calcular a árvore de decisão com relação a um target. E as folhas dessa árvore vão me dizer quais são as quebras que eu melhor posso fazer nessa variável contínua para que tenha melhor correlação com o target. </u>"
   ]
  },
  {
   "cell_type": "markdown",
   "metadata": {},
   "source": [
    "(**F**) As folhas de uma árvore de classificação buscam minimizar a pureza entre classes.\n",
    "\n",
    "Vide acima"
   ]
  },
  {
   "cell_type": "markdown",
   "metadata": {},
   "source": [
    "(**V**) Uma árvore de decisão completa (profundidade máxima possível) tem maior chance de fazer overfitting nos dados do que uma árvore com profundidade limitada.\n",
    "\n",
    "Vide acima\n"
   ]
  },
  {
   "cell_type": "markdown",
   "metadata": {},
   "source": [
    "(**V**) O método KNN usualmente não é apropriado para base com muitos atributos (variáveis).\n",
    "\n",
    "<u>Além de ser computacionalmente mais caro, existe o conceito de `curse of dimensionality`. Isso significa que ao aumentar o número de variáveis (dimensões), fica cada vez mais difícil encontrar vizinhos que estão realmente próximos da minha observação e, portanto, o conceito de distância em um número muito grande de dimensões começa a deteriorar. </u>"
   ]
  },
  {
   "cell_type": "markdown",
   "metadata": {},
   "source": [
    "( ) Uma rede neural com uma camada intermediária com n neurônios, em que n é o número de atributos ou colunas, é um aproximador universal."
   ]
  },
  {
   "cell_type": "markdown",
   "metadata": {},
   "source": [
    "(**F**) O grau do polinômio do algoritmo Support Vector Machine (SVM) deve ser definido para todos os kernels."
   ]
  },
  {
   "cell_type": "markdown",
   "metadata": {},
   "source": [
    "(**V**) Algoritmos baseados em Boosting sequencialmente induzem modelos de tal forma que cada modelo gerado procura corrigir os erros cometidos pelos modelos anteriores.\n",
    "\n",
    "<u>É o conceito de boosting. No boosting a gente usa diversos classificadores fracos, cada um deles tentando corrigir o erro do anterior. Em conjunto, eles tornam fortes. </u> "
   ]
  },
  {
   "cell_type": "markdown",
   "metadata": {},
   "source": [
    "(**F**) O Root Mean Squared Error (RMSE) é uma medida adequada para avaliar o desempenho final de um classificador."
   ]
  },
  {
   "cell_type": "markdown",
   "metadata": {},
   "source": [
    "(**V**) Recall e F1-score são métricas apropriadas para avaliar problemas de classificação em que se observa um desbalanceamento entre as classes.\n",
    "\n",
    "<u>Quando a classe é desbalanceada, a acurácia não é uma boa métrica de avaliação e Recall, Precision e F1-score são métricas mais adequadas.</u>"
   ]
  },
  {
   "cell_type": "markdown",
   "metadata": {},
   "source": [
    "(**V**) A metodologia de validação Leave-One-Out pode ser utilizada para obter melhor desempenho do modelo pois treina o modelo com a maior quantidade de dados possível.\n",
    "\n",
    "<u> Utiliza-se N-1 dados para treino, e 1 dado para validação e, portanto, é o máximo que podemos utilizar respeitando uma estratégia de validação adequada. Um dos principais problemas é o fato de ser muito custoso. </u>"
   ]
  },
  {
   "cell_type": "code",
   "execution_count": null,
   "metadata": {},
   "outputs": [],
   "source": []
  },
  {
   "cell_type": "code",
   "execution_count": null,
   "metadata": {},
   "outputs": [],
   "source": []
  }
 ],
 "metadata": {
  "kernelspec": {
   "display_name": "Python 3",
   "language": "python",
   "name": "python3"
  },
  "language_info": {
   "codemirror_mode": {
    "name": "ipython",
    "version": 3
   },
   "file_extension": ".py",
   "mimetype": "text/x-python",
   "name": "python",
   "nbconvert_exporter": "python",
   "pygments_lexer": "ipython3",
   "version": "3.7.3"
  },
  "toc": {
   "base_numbering": 1,
   "nav_menu": {},
   "number_sections": true,
   "sideBar": true,
   "skip_h1_title": false,
   "title_cell": "Table of Contents",
   "title_sidebar": "Contents",
   "toc_cell": false,
   "toc_position": {},
   "toc_section_display": true,
   "toc_window_display": false
  }
 },
 "nbformat": 4,
 "nbformat_minor": 2
}
