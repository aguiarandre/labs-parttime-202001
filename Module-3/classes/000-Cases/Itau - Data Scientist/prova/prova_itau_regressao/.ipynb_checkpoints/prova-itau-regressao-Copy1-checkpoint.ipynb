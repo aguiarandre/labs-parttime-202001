{
 "cells": [
  {
   "cell_type": "markdown",
   "metadata": {},
   "source": [
    "# Prova Itaú - Estatística + SQL"
   ]
  },
  {
   "cell_type": "markdown",
   "metadata": {},
   "source": [
    "# Prova 1."
   ]
  },
  {
   "cell_type": "markdown",
   "metadata": {},
   "source": [
    "## Questão 9.a) \n",
    "\n",
    "Calcule a distância máxima entre as funções de distribuição acumulada empírica das seguintes amostras (5, 3, 3, 11, 8, 7, 1, 5, 4, 9) e (2, 1, 1, 4, 3, 1, 1, 1, 3, 2). \n",
    "\n",
    "## Questão 9.b) \n",
    "\n",
    "Um analista possui as seguintes informações a respeito dos valores de uma amostra de 30 observações: \n",
    "\n",
    " A média de todos os valores é igual a 2.96 \n",
    " A soma dos quadrados dos valores é igual a 268 \n",
    "\n",
    "Calcule o desvio padrão amostral."
   ]
  },
  {
   "cell_type": "markdown",
   "metadata": {},
   "source": [
    "# SQL\n",
    "\n",
    "## Questão 10) \n",
    "\n",
    "Suponha a existência de duas tabelas de dados conforme o Modelo Entidade Relacional (MER) abaixo: \n",
    "\n",
    "### Assinale a(s) alternativa(s) correta(s) que retornam os 100 clientes que transacionaram mais dinheiro. \n",
    "\n",
    "a) SELECT a.* FROM (SELECT cpf, SUM(valor) as acumulado FROM transacoes GROUP BY cpf ORDER BY acumulado DESC) a limit 100;\n",
    "\n",
    "b) SELECT SUM(Transacoes.Valor), clientes.CPF FROM Clientes INNER JOIN Transacoes ON Clientes.CPF=Transacoes.CPF GROUP BY clientes.CPF ORDER BY SUM(Transacoes.Valor) DESC LIMIT 100; \n",
    "\n",
    "c) SELECT cpf, valor FROM transacoes order by cpf limit 100; \n",
    "\n",
    "d) SELECT clientes.cpf, transacoes.valor FROM clientes LEFT JOIN transacoes ON clientes.cpf = transacoes.cpf ORDER BY transacoes.valor DESC LIMIT 100; \n",
    "\n",
    "### Assinale a(s) alternativa(s) correta(s) que retorna(m) a tabela Clientes com mais uma coluna. Esta coluna contem a marcação 1 para aqueles que transacionaram mais do que R$10.000,00 ao longo do tempo e 0 caso contrário. \n",
    "\n",
    "a) SELECT clientes.*, case when acumulado is not null then 1 else 0 END as gdes_valores FROM clientes left join (SELECT * FROM (SELECT cpf, sum(valor) as acumulado FROM transacoes group by cpf) trans where acumulado>10000) transf on transf.cpf=clientes.cpf; \n",
    "\n",
    "b) SELECT clientes.CPF, clientes.Nome, CASE WHEN SUM(Transacoes.Valor) > 10000 THEN 1 ELSE 0 END as gdes_valores FROM Clientes INNER JOIN Transacoes ON Clientes.CPF=Transacoes.CPF GROUP BY Clientes.CPF, Clientes.nome; \n",
    "\n",
    "c) SELECT clientes.cpf, clientes.nome, case when valor>10000 then 1 else 0 END as gdes_valores FROM clientes left join transacoes on transacoes.cpf=clientes.cpf; \n",
    "\n",
    "d) SELECT /*+ MAPJOIN(clientes) */ clientes.*, case when acumulado is not null then 1 else 0 END as gdes_valores FROM clientes left join (SELECT * FROM (SELECT cpf, sum(valor) as acumulado FROM transacoes group by cpf) trans where acumulado>10000) transf on transf.cpf=clientes.cpf;"
   ]
  },
  {
   "cell_type": "markdown",
   "metadata": {},
   "source": [
    "-----"
   ]
  }
 ],
 "metadata": {
  "kernelspec": {
   "display_name": "Python 3",
   "language": "python",
   "name": "python3"
  },
  "language_info": {
   "codemirror_mode": {
    "name": "ipython",
    "version": 3
   },
   "file_extension": ".py",
   "mimetype": "text/x-python",
   "name": "python",
   "nbconvert_exporter": "python",
   "pygments_lexer": "ipython3",
   "version": "3.7.3"
  },
  "toc": {
   "base_numbering": 1,
   "nav_menu": {},
   "number_sections": true,
   "sideBar": true,
   "skip_h1_title": false,
   "title_cell": "Table of Contents",
   "title_sidebar": "Contents",
   "toc_cell": false,
   "toc_position": {},
   "toc_section_display": true,
   "toc_window_display": false
  }
 },
 "nbformat": 4,
 "nbformat_minor": 2
}
