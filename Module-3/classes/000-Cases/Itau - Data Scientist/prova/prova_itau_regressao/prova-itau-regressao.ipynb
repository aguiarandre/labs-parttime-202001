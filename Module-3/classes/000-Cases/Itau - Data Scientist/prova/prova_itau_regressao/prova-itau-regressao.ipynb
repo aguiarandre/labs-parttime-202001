{
 "cells": [
  {
   "cell_type": "markdown",
   "metadata": {},
   "source": [
    "# Prova Itaú - Regressão"
   ]
  },
  {
   "cell_type": "markdown",
   "metadata": {},
   "source": [
    "# Prova 1."
   ]
  },
  {
   "cell_type": "markdown",
   "metadata": {},
   "source": [
    "## Questão 6) \n",
    "\n",
    "Considerando os dados presentes no arquivo reg01.csv, obtenha um modelo de regressão linear com regularização L1 (LASSO com parâmetro de regularização igual a 1) utilizando a metodologia Leave-One-out. Qual o valor médio do Root Mean Squared Error (RMSE) para a base de treino? Qual o valor médio do RMSE para a base de validação?"
   ]
  },
  {
   "cell_type": "code",
   "execution_count": null,
   "metadata": {},
   "outputs": [],
   "source": []
  },
  {
   "cell_type": "markdown",
   "metadata": {},
   "source": [
    "## Questão 7) \n",
    "\n",
    "Considerando os dados presentes no arquivo reg02.csv, treine uma árvore de regressão (sem realizar podas) com quebras baseadas no erro quadrático médio (do inglês MSE - Mean Squared Error) utilizando a metodologia de validação cruzada k-fold com 𝑘=10. Qual o valor do Mean Absolute Error (MAE) para a base de treino? Qual o valor médio do MAE para a base de validação?"
   ]
  },
  {
   "cell_type": "code",
   "execution_count": null,
   "metadata": {},
   "outputs": [],
   "source": []
  },
  {
   "cell_type": "markdown",
   "metadata": {},
   "source": [
    "## Questão 5 \n",
    "\n",
    "Assinale as alternativas com V ou F para Verdadeiro ou Falso respectivamente. Atente para o fato que uma questão errada anula uma certa. Em caso de dúvidas deixe em branco."
   ]
  },
  {
   "cell_type": "markdown",
   "metadata": {},
   "source": [
    "( ) Quando ajustamos um modelo linear, geralmente supomos que os erros tem distribuição normal e são independentes e identicamente distribuídos (i.i.d.)."
   ]
  },
  {
   "cell_type": "markdown",
   "metadata": {},
   "source": [
    "( ) Quando ajustamos um modelo de regressão, podemos utilizar os valores preditos e os resíduos do modelo para avaliar se o modelo se adequa bem aos dados."
   ]
  },
  {
   "cell_type": "markdown",
   "metadata": {},
   "source": [
    "( ) O coeficiente de determinação (𝑟2) indica, em termos percentuais, quanto da variabilidade da variável resposta é explicada pelas covariáveis do modelo."
   ]
  },
  {
   "cell_type": "markdown",
   "metadata": {},
   "source": [
    "( ) Os modelos de regressão não são afetados por observações atípicas (outliers) e valores faltantes."
   ]
  },
  {
   "cell_type": "markdown",
   "metadata": {},
   "source": [
    "( ) Considerando um modelo de regressão simples, temos que o coeficiente associado à covariável representa o grau de inclinação da reta."
   ]
  },
  {
   "cell_type": "markdown",
   "metadata": {},
   "source": [
    "( ) Para efetuarmos regressão com o algoritmo KNN, é aconselhado fazer uma votação simples dos valores dos 𝑘 vizinhos encontrados."
   ]
  },
  {
   "cell_type": "markdown",
   "metadata": {},
   "source": [
    "( ) Para melhor desempenho da árvore de regressão, pode-se utilizar regressões lineares em suas folhas para previsão do valor final."
   ]
  },
  {
   "cell_type": "markdown",
   "metadata": {},
   "source": [
    "( ) A F1 é uma medida adequada para avaliar algoritmos de regressão."
   ]
  },
  {
   "cell_type": "markdown",
   "metadata": {},
   "source": [
    "( ) Em todos os modelos de regressão, a métrica 𝑟2 é igual ao quadrado da correlação de pearson entre o valor predito e o observado."
   ]
  },
  {
   "cell_type": "markdown",
   "metadata": {},
   "source": [
    "( ) No algoritmo Random Forest, uma possibilidade simplista para obtenção do valor final é calcular a média dos valores encontrados em cada árvore."
   ]
  },
  {
   "cell_type": "markdown",
   "metadata": {},
   "source": [
    "-----"
   ]
  },
  {
   "cell_type": "markdown",
   "metadata": {},
   "source": [
    "# Prova 2."
   ]
  },
  {
   "cell_type": "markdown",
   "metadata": {},
   "source": [
    "## Questão 7\n",
    "\n",
    "Considerando os dados presentes no arquivo regressao_Q6.csv, obtenha um modelo de regressão linear com regularização L2 (RIDGE com parâmetro de regularização igual a 1.7) utilizando a metodologia Leave-One-out. Qual o valor médio do Root Mean Squared Error (RMSE) para a base de treino? Qual o valor médio do RMSE para a base de validação?"
   ]
  },
  {
   "cell_type": "code",
   "execution_count": null,
   "metadata": {},
   "outputs": [],
   "source": []
  },
  {
   "cell_type": "markdown",
   "metadata": {},
   "source": [
    "## Questão 4\n",
    "\n",
    "Considerando os dados presentes no arquivo regressao_Q7.csv, treine uma árvore de regressão (sem realizar podas) com quebras baseadas no erro quadrático médio (do inglês MSE - Mean Squared Error) utilizando a metodologia de validação cruzada k-fold com 𝑘=10. Qual o valor do Mean Absolute Error (MAE) para a base de treino? Qual o valor médio do MAE para a base de validação?"
   ]
  },
  {
   "cell_type": "code",
   "execution_count": null,
   "metadata": {},
   "outputs": [],
   "source": []
  },
  {
   "cell_type": "markdown",
   "metadata": {},
   "source": [
    "## Questão 5) \n",
    "\n",
    "Assinale as alternativas com V ou F para Verdadeiro ou Falso respectivamente. Atente para o fato que uma questão errada anula uma certa. Em caso de dúvidas deixe em branco."
   ]
  },
  {
   "cell_type": "markdown",
   "metadata": {},
   "source": [
    "( ) Quando ajustamos um modelo de regressão, os resíduos são estatísticas importantes para avaliar se o modelo se adequa bem aos dados."
   ]
  },
  {
   "cell_type": "markdown",
   "metadata": {},
   "source": [
    "( ) Os modelos tradicionais de regressão são afetados por observações atípicas (outliers) e valores faltantes, sendo necessário realizar um pré-processamento dos dados antes da modelagem."
   ]
  },
  {
   "cell_type": "markdown",
   "metadata": {},
   "source": [
    "( ) Em uma regressão logística, o coeficiente associado à uma variável numérica representa a variação do valor estimado quando a variável explicativa aumenta 1 unidade."
   ]
  },
  {
   "cell_type": "markdown",
   "metadata": {},
   "source": [
    "( ) O coeficiente de determinação (r^2) indica, em termos percentuais, quanto da variabilidade da variável resposta é explicada pelas variáveis utilizadas no modelo."
   ]
  },
  {
   "cell_type": "markdown",
   "metadata": {},
   "source": [
    "( ) As regularizações L1 e L2 são técnicas apropriadas para combater overfitting no treinamento de modelos de regressão."
   ]
  },
  {
   "cell_type": "markdown",
   "metadata": {},
   "source": [
    "( ) Para efetuarmos regressão com o algoritmo KNN, a estratégia mais simples é fazer uma média aritmética dos valores dos k vizinhos encontrados."
   ]
  },
  {
   "cell_type": "markdown",
   "metadata": {},
   "source": [
    "( ) Incorporar modelos de regressão linear nos nós-folha de uma árvore de regressão pode melhorar a capacidade preditiva."
   ]
  },
  {
   "cell_type": "markdown",
   "metadata": {},
   "source": [
    "( ) AUC (Area Under the Curve) é uma métrica para avaliar o desempenho de modelos de regressão."
   ]
  },
  {
   "cell_type": "markdown",
   "metadata": {},
   "source": [
    "( ) No algoritmo Random Forest, uma possibilidade simplista para obtenção do valor final é calcular a média dos valores encontrados em cada árvore."
   ]
  },
  {
   "cell_type": "markdown",
   "metadata": {},
   "source": [
    "( ) Utiliza-se validação out-of-time para modelos de regressão separando um conjunto de dados de forma aleatória, independentemente do tempo."
   ]
  }
 ],
 "metadata": {
  "kernelspec": {
   "display_name": "Python 3",
   "language": "python",
   "name": "python3"
  },
  "language_info": {
   "codemirror_mode": {
    "name": "ipython",
    "version": 3
   },
   "file_extension": ".py",
   "mimetype": "text/x-python",
   "name": "python",
   "nbconvert_exporter": "python",
   "pygments_lexer": "ipython3",
   "version": "3.7.3"
  },
  "toc": {
   "base_numbering": 1,
   "nav_menu": {},
   "number_sections": true,
   "sideBar": true,
   "skip_h1_title": false,
   "title_cell": "Table of Contents",
   "title_sidebar": "Contents",
   "toc_cell": false,
   "toc_position": {},
   "toc_section_display": true,
   "toc_window_display": false
  }
 },
 "nbformat": 4,
 "nbformat_minor": 2
}
